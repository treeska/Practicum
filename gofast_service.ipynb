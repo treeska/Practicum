{
 "cells": [
  {
   "cell_type": "markdown",
   "id": "98ebf57b",
   "metadata": {
    "toc": true
   },
   "source": [
    "<h1>Статистический анализ данных сервиса GoFast<span class=\"tocSkip\"></span></h1>\n",
    "<div class=\"toc\"><ul class=\"toc-item\"><li><span><a href=\"#Шаг-1.-Загрузка-данных\" data-toc-modified-id=\"Шаг-1.-Загрузка-данных-1\">Шаг 1. Загрузка данных</a></span></li><li><span><a href=\"#Шаг-2.-Предобработка-данных\" data-toc-modified-id=\"Шаг-2.-Предобработка-данных-2\">Шаг 2. Предобработка данных</a></span></li><li><span><a href=\"#Шаг-3.-Исследовательский-анализ-данных\" data-toc-modified-id=\"Шаг-3.-Исследовательский-анализ-данных-3\">Шаг 3. Исследовательский анализ данных</a></span><ul class=\"toc-item\"><li><span><a href=\"#3.1-Частота-встречаемости-городов\" data-toc-modified-id=\"3.1-Частота-встречаемости-городов-3.1\">3.1 Частота встречаемости городов</a></span></li><li><span><a href=\"#3.2-Соотношение-пользователей-с-подпиской-и-без-подписки\" data-toc-modified-id=\"3.2-Соотношение-пользователей-с-подпиской-и-без-подписки-3.2\">3.2 Соотношение пользователей с подпиской и без подписки</a></span></li><li><span><a href=\"#3.3-Возраст-пользователей\" data-toc-modified-id=\"3.3-Возраст-пользователей-3.3\">3.3 Возраст пользователей</a></span></li><li><span><a href=\"#3.4-Расстояние,-которое-пользователь-преодолел-за-одну-поездку\" data-toc-modified-id=\"3.4-Расстояние,-которое-пользователь-преодолел-за-одну-поездку-3.4\">3.4 Расстояние, которое пользователь преодолел за одну поездку</a></span></li><li><span><a href=\"#3.5-Продолжительность-поездок\" data-toc-modified-id=\"3.5-Продолжительность-поездок-3.5\">3.5 Продолжительность поездок</a></span></li></ul></li><li><span><a href=\"#Шаг-4.-Объединение-данных\" data-toc-modified-id=\"Шаг-4.-Объединение-данных-4\">Шаг 4. Объединение данных</a></span></li><li><span><a href=\"#Шаг-5.-Подсчёт-выручки\" data-toc-modified-id=\"Шаг-5.-Подсчёт-выручки-5\">Шаг 5. Подсчёт выручки</a></span></li><li><span><a href=\"#Шаг-6.-Проверка-гипотез\" data-toc-modified-id=\"Шаг-6.-Проверка-гипотез-6\">Шаг 6. Проверка гипотез</a></span><ul class=\"toc-item\"><li><span><a href=\"#6.1-Тратят-ли-пользователи-с-подпиской-больше-времени-на-поездки?\" data-toc-modified-id=\"6.1-Тратят-ли-пользователи-с-подпиской-больше-времени-на-поездки?-6.1\">6.1 Тратят ли пользователи с подпиской больше времени на поездки?</a></span></li><li><span><a href=\"#6.2-Превышает-ли-среднее-расстояние,-которое-проезжают-пользователи-с-подпиской-за-одну-поездку-оптимальные-3130-метров?\" data-toc-modified-id=\"6.2-Превышает-ли-среднее-расстояние,-которое-проезжают-пользователи-с-подпиской-за-одну-поездку-оптимальные-3130-метров?-6.2\">6.2 Превышает ли среднее расстояние, которое проезжают пользователи с подпиской за одну поездку оптимальные 3130 метров?</a></span></li><li><span><a href=\"#6.3-Будет-ли-помесячная-выручка-от-пользователей-с-подпиской-по-месяцам-выше,-чем-выручка-от-пользователей-без-подписки?\" data-toc-modified-id=\"6.3-Будет-ли-помесячная-выручка-от-пользователей-с-подпиской-по-месяцам-выше,-чем-выручка-от-пользователей-без-подписки?-6.3\">6.3 Будет ли помесячная выручка от пользователей с подпиской по месяцам выше, чем выручка от пользователей без подписки?</a></span></li><li><span><a href=\"#6.4\" data-toc-modified-id=\"6.4-6.4\">6.4</a></span></li></ul></li><li><span><a href=\"#Выводы\" data-toc-modified-id=\"Выводы-7\">Выводы</a></span></li></ul></div>"
   ]
  },
  {
   "cell_type": "markdown",
   "id": "3bb5056a",
   "metadata": {},
   "source": [
    "Анализ проведен на основе данных о поездках пользователей сервиса проката самокатов GoFast. Данные состоят из трех датафреймов: \n",
    "- сведения о пользователях (id пользователя, имя, возраст, город, тип подписки),\n",
    "- сведения о совершенных поездках (id пользователя, расстояние, длительность поездки, дата),\n",
    "- информация об условиях пользования сервисом с подпиской и без"
   ]
  },
  {
   "cell_type": "markdown",
   "id": "ecfe8e45",
   "metadata": {},
   "source": [
    "Цель: исследование пользователей с подпиской и без, для дальнейшего улучшения сервиса и условий подписки."
   ]
  },
  {
   "cell_type": "markdown",
   "id": "c42cbe00",
   "metadata": {},
   "source": [
    "### Шаг 1. Загрузка данных"
   ]
  },
  {
   "cell_type": "code",
   "execution_count": 1,
   "id": "eff9f206",
   "metadata": {},
   "outputs": [],
   "source": [
    "import pandas as pd\n",
    "import numpy as np\n",
    "import matplotlib.pyplot as plt\n",
    "import scipy.stats as st\n",
    "users = pd.read_csv('/datasets/users_go.csv')\n",
    "rides = pd.read_csv('/datasets/rides_go.csv')\n",
    "sub = pd.read_csv('/datasets/subscriptions_go.csv')"
   ]
  },
  {
   "cell_type": "code",
   "execution_count": 2,
   "id": "c31716a2",
   "metadata": {},
   "outputs": [
    {
     "name": "stdout",
     "output_type": "stream",
     "text": [
      "<class 'pandas.core.frame.DataFrame'>\n",
      "RangeIndex: 1565 entries, 0 to 1564\n",
      "Data columns (total 5 columns):\n",
      " #   Column             Non-Null Count  Dtype \n",
      "---  ------             --------------  ----- \n",
      " 0   user_id            1565 non-null   int64 \n",
      " 1   name               1565 non-null   object\n",
      " 2   age                1565 non-null   int64 \n",
      " 3   city               1565 non-null   object\n",
      " 4   subscription_type  1565 non-null   object\n",
      "dtypes: int64(2), object(3)\n",
      "memory usage: 61.3+ KB\n",
      "None\n"
     ]
    },
    {
     "data": {
      "text/html": [
       "<div>\n",
       "<style scoped>\n",
       "    .dataframe tbody tr th:only-of-type {\n",
       "        vertical-align: middle;\n",
       "    }\n",
       "\n",
       "    .dataframe tbody tr th {\n",
       "        vertical-align: top;\n",
       "    }\n",
       "\n",
       "    .dataframe thead th {\n",
       "        text-align: right;\n",
       "    }\n",
       "</style>\n",
       "<table border=\"1\" class=\"dataframe\">\n",
       "  <thead>\n",
       "    <tr style=\"text-align: right;\">\n",
       "      <th></th>\n",
       "      <th>user_id</th>\n",
       "      <th>name</th>\n",
       "      <th>age</th>\n",
       "      <th>city</th>\n",
       "      <th>subscription_type</th>\n",
       "    </tr>\n",
       "  </thead>\n",
       "  <tbody>\n",
       "    <tr>\n",
       "      <th>0</th>\n",
       "      <td>1</td>\n",
       "      <td>Кира</td>\n",
       "      <td>22</td>\n",
       "      <td>Тюмень</td>\n",
       "      <td>ultra</td>\n",
       "    </tr>\n",
       "    <tr>\n",
       "      <th>1</th>\n",
       "      <td>2</td>\n",
       "      <td>Станислав</td>\n",
       "      <td>31</td>\n",
       "      <td>Омск</td>\n",
       "      <td>ultra</td>\n",
       "    </tr>\n",
       "    <tr>\n",
       "      <th>2</th>\n",
       "      <td>3</td>\n",
       "      <td>Алексей</td>\n",
       "      <td>20</td>\n",
       "      <td>Москва</td>\n",
       "      <td>ultra</td>\n",
       "    </tr>\n",
       "    <tr>\n",
       "      <th>3</th>\n",
       "      <td>4</td>\n",
       "      <td>Константин</td>\n",
       "      <td>26</td>\n",
       "      <td>Ростов-на-Дону</td>\n",
       "      <td>ultra</td>\n",
       "    </tr>\n",
       "    <tr>\n",
       "      <th>4</th>\n",
       "      <td>5</td>\n",
       "      <td>Адель</td>\n",
       "      <td>28</td>\n",
       "      <td>Омск</td>\n",
       "      <td>ultra</td>\n",
       "    </tr>\n",
       "    <tr>\n",
       "      <th>5</th>\n",
       "      <td>6</td>\n",
       "      <td>Регина</td>\n",
       "      <td>25</td>\n",
       "      <td>Краснодар</td>\n",
       "      <td>ultra</td>\n",
       "    </tr>\n",
       "    <tr>\n",
       "      <th>6</th>\n",
       "      <td>7</td>\n",
       "      <td>Игорь</td>\n",
       "      <td>23</td>\n",
       "      <td>Омск</td>\n",
       "      <td>ultra</td>\n",
       "    </tr>\n",
       "    <tr>\n",
       "      <th>7</th>\n",
       "      <td>8</td>\n",
       "      <td>Юрий</td>\n",
       "      <td>23</td>\n",
       "      <td>Краснодар</td>\n",
       "      <td>ultra</td>\n",
       "    </tr>\n",
       "    <tr>\n",
       "      <th>8</th>\n",
       "      <td>9</td>\n",
       "      <td>Ян</td>\n",
       "      <td>21</td>\n",
       "      <td>Пятигорск</td>\n",
       "      <td>ultra</td>\n",
       "    </tr>\n",
       "    <tr>\n",
       "      <th>9</th>\n",
       "      <td>10</td>\n",
       "      <td>Валерий</td>\n",
       "      <td>18</td>\n",
       "      <td>Екатеринбург</td>\n",
       "      <td>ultra</td>\n",
       "    </tr>\n",
       "  </tbody>\n",
       "</table>\n",
       "</div>"
      ],
      "text/plain": [
       "   user_id        name  age            city subscription_type\n",
       "0        1        Кира   22          Тюмень             ultra\n",
       "1        2   Станислав   31            Омск             ultra\n",
       "2        3     Алексей   20          Москва             ultra\n",
       "3        4  Константин   26  Ростов-на-Дону             ultra\n",
       "4        5       Адель   28            Омск             ultra\n",
       "5        6      Регина   25       Краснодар             ultra\n",
       "6        7       Игорь   23            Омск             ultra\n",
       "7        8        Юрий   23       Краснодар             ultra\n",
       "8        9          Ян   21       Пятигорск             ultra\n",
       "9       10     Валерий   18    Екатеринбург             ultra"
      ]
     },
     "execution_count": 2,
     "metadata": {},
     "output_type": "execute_result"
    }
   ],
   "source": [
    "print(users.info())\n",
    "users.head(10)"
   ]
  },
  {
   "cell_type": "code",
   "execution_count": 3,
   "id": "2e800024",
   "metadata": {},
   "outputs": [
    {
     "name": "stdout",
     "output_type": "stream",
     "text": [
      "<class 'pandas.core.frame.DataFrame'>\n",
      "RangeIndex: 18068 entries, 0 to 18067\n",
      "Data columns (total 4 columns):\n",
      " #   Column    Non-Null Count  Dtype  \n",
      "---  ------    --------------  -----  \n",
      " 0   user_id   18068 non-null  int64  \n",
      " 1   distance  18068 non-null  float64\n",
      " 2   duration  18068 non-null  float64\n",
      " 3   date      18068 non-null  object \n",
      "dtypes: float64(2), int64(1), object(1)\n",
      "memory usage: 564.8+ KB\n",
      "None\n"
     ]
    },
    {
     "data": {
      "text/html": [
       "<div>\n",
       "<style scoped>\n",
       "    .dataframe tbody tr th:only-of-type {\n",
       "        vertical-align: middle;\n",
       "    }\n",
       "\n",
       "    .dataframe tbody tr th {\n",
       "        vertical-align: top;\n",
       "    }\n",
       "\n",
       "    .dataframe thead th {\n",
       "        text-align: right;\n",
       "    }\n",
       "</style>\n",
       "<table border=\"1\" class=\"dataframe\">\n",
       "  <thead>\n",
       "    <tr style=\"text-align: right;\">\n",
       "      <th></th>\n",
       "      <th>user_id</th>\n",
       "      <th>distance</th>\n",
       "      <th>duration</th>\n",
       "      <th>date</th>\n",
       "    </tr>\n",
       "  </thead>\n",
       "  <tbody>\n",
       "    <tr>\n",
       "      <th>0</th>\n",
       "      <td>1</td>\n",
       "      <td>4409.919140</td>\n",
       "      <td>25.599769</td>\n",
       "      <td>2021-01-01</td>\n",
       "    </tr>\n",
       "    <tr>\n",
       "      <th>1</th>\n",
       "      <td>1</td>\n",
       "      <td>2617.592153</td>\n",
       "      <td>15.816871</td>\n",
       "      <td>2021-01-18</td>\n",
       "    </tr>\n",
       "    <tr>\n",
       "      <th>2</th>\n",
       "      <td>1</td>\n",
       "      <td>754.159807</td>\n",
       "      <td>6.232113</td>\n",
       "      <td>2021-04-20</td>\n",
       "    </tr>\n",
       "    <tr>\n",
       "      <th>3</th>\n",
       "      <td>1</td>\n",
       "      <td>2694.783254</td>\n",
       "      <td>18.511000</td>\n",
       "      <td>2021-08-11</td>\n",
       "    </tr>\n",
       "    <tr>\n",
       "      <th>4</th>\n",
       "      <td>1</td>\n",
       "      <td>4028.687306</td>\n",
       "      <td>26.265803</td>\n",
       "      <td>2021-08-28</td>\n",
       "    </tr>\n",
       "    <tr>\n",
       "      <th>5</th>\n",
       "      <td>1</td>\n",
       "      <td>2770.890808</td>\n",
       "      <td>16.650138</td>\n",
       "      <td>2021-10-09</td>\n",
       "    </tr>\n",
       "    <tr>\n",
       "      <th>6</th>\n",
       "      <td>1</td>\n",
       "      <td>3039.020292</td>\n",
       "      <td>14.927879</td>\n",
       "      <td>2021-10-19</td>\n",
       "    </tr>\n",
       "    <tr>\n",
       "      <th>7</th>\n",
       "      <td>1</td>\n",
       "      <td>2842.118050</td>\n",
       "      <td>23.117468</td>\n",
       "      <td>2021-11-06</td>\n",
       "    </tr>\n",
       "    <tr>\n",
       "      <th>8</th>\n",
       "      <td>1</td>\n",
       "      <td>3412.690668</td>\n",
       "      <td>15.238072</td>\n",
       "      <td>2021-11-14</td>\n",
       "    </tr>\n",
       "    <tr>\n",
       "      <th>9</th>\n",
       "      <td>1</td>\n",
       "      <td>748.690645</td>\n",
       "      <td>15.041884</td>\n",
       "      <td>2021-11-22</td>\n",
       "    </tr>\n",
       "  </tbody>\n",
       "</table>\n",
       "</div>"
      ],
      "text/plain": [
       "   user_id     distance   duration        date\n",
       "0        1  4409.919140  25.599769  2021-01-01\n",
       "1        1  2617.592153  15.816871  2021-01-18\n",
       "2        1   754.159807   6.232113  2021-04-20\n",
       "3        1  2694.783254  18.511000  2021-08-11\n",
       "4        1  4028.687306  26.265803  2021-08-28\n",
       "5        1  2770.890808  16.650138  2021-10-09\n",
       "6        1  3039.020292  14.927879  2021-10-19\n",
       "7        1  2842.118050  23.117468  2021-11-06\n",
       "8        1  3412.690668  15.238072  2021-11-14\n",
       "9        1   748.690645  15.041884  2021-11-22"
      ]
     },
     "execution_count": 3,
     "metadata": {},
     "output_type": "execute_result"
    }
   ],
   "source": [
    "print(rides.info())\n",
    "rides.head(10)"
   ]
  },
  {
   "cell_type": "code",
   "execution_count": 4,
   "id": "a4d8a0ea",
   "metadata": {},
   "outputs": [
    {
     "name": "stdout",
     "output_type": "stream",
     "text": [
      "<class 'pandas.core.frame.DataFrame'>\n",
      "RangeIndex: 2 entries, 0 to 1\n",
      "Data columns (total 4 columns):\n",
      " #   Column             Non-Null Count  Dtype \n",
      "---  ------             --------------  ----- \n",
      " 0   subscription_type  2 non-null      object\n",
      " 1   minute_price       2 non-null      int64 \n",
      " 2   start_ride_price   2 non-null      int64 \n",
      " 3   subscription_fee   2 non-null      int64 \n",
      "dtypes: int64(3), object(1)\n",
      "memory usage: 192.0+ bytes\n",
      "None\n"
     ]
    },
    {
     "data": {
      "text/html": [
       "<div>\n",
       "<style scoped>\n",
       "    .dataframe tbody tr th:only-of-type {\n",
       "        vertical-align: middle;\n",
       "    }\n",
       "\n",
       "    .dataframe tbody tr th {\n",
       "        vertical-align: top;\n",
       "    }\n",
       "\n",
       "    .dataframe thead th {\n",
       "        text-align: right;\n",
       "    }\n",
       "</style>\n",
       "<table border=\"1\" class=\"dataframe\">\n",
       "  <thead>\n",
       "    <tr style=\"text-align: right;\">\n",
       "      <th></th>\n",
       "      <th>subscription_type</th>\n",
       "      <th>minute_price</th>\n",
       "      <th>start_ride_price</th>\n",
       "      <th>subscription_fee</th>\n",
       "    </tr>\n",
       "  </thead>\n",
       "  <tbody>\n",
       "    <tr>\n",
       "      <th>0</th>\n",
       "      <td>free</td>\n",
       "      <td>8</td>\n",
       "      <td>50</td>\n",
       "      <td>0</td>\n",
       "    </tr>\n",
       "    <tr>\n",
       "      <th>1</th>\n",
       "      <td>ultra</td>\n",
       "      <td>6</td>\n",
       "      <td>0</td>\n",
       "      <td>199</td>\n",
       "    </tr>\n",
       "  </tbody>\n",
       "</table>\n",
       "</div>"
      ],
      "text/plain": [
       "  subscription_type  minute_price  start_ride_price  subscription_fee\n",
       "0              free             8                50                 0\n",
       "1             ultra             6                 0               199"
      ]
     },
     "execution_count": 4,
     "metadata": {},
     "output_type": "execute_result"
    }
   ],
   "source": [
    "print(sub.info())\n",
    "sub.head()"
   ]
  },
  {
   "cell_type": "markdown",
   "id": "fafb6c36",
   "metadata": {},
   "source": [
    "**Мы имеем три датафрейма. Первый содержит информацию о пользователях, в нем 1565 строк и 5 колонок. Пропусков нет, типы данных исправлять не требуется. Второй датафрейм содержит информацию о поездках, в нем 18068 строк и 4 колонки. Пропусков нет, требуется изменить тип данных столбца с датами. Последний датафрейм содержит информацию о типах подписок, дополнительной предобработки не требует. Проведем предобработку и продолжим изучение.**"
   ]
  },
  {
   "cell_type": "markdown",
   "id": "e95ebca7",
   "metadata": {},
   "source": [
    "### Шаг 2. Предобработка данных"
   ]
  },
  {
   "cell_type": "markdown",
   "id": "01fb3dce",
   "metadata": {},
   "source": [
    "Изменим формат даты для упрощения дальнейшей работы"
   ]
  },
  {
   "cell_type": "code",
   "execution_count": 5,
   "id": "af6d202c",
   "metadata": {},
   "outputs": [],
   "source": [
    "rides['date'] = pd.to_datetime(rides['date'], format='%Y-%m-%d')"
   ]
  },
  {
   "cell_type": "markdown",
   "id": "3a5f06c3",
   "metadata": {},
   "source": [
    "Добавим колонку с номером месяца поездки, для расчета выручки"
   ]
  },
  {
   "cell_type": "code",
   "execution_count": 6,
   "id": "39f54913",
   "metadata": {
    "scrolled": true
   },
   "outputs": [
    {
     "data": {
      "text/html": [
       "<div>\n",
       "<style scoped>\n",
       "    .dataframe tbody tr th:only-of-type {\n",
       "        vertical-align: middle;\n",
       "    }\n",
       "\n",
       "    .dataframe tbody tr th {\n",
       "        vertical-align: top;\n",
       "    }\n",
       "\n",
       "    .dataframe thead th {\n",
       "        text-align: right;\n",
       "    }\n",
       "</style>\n",
       "<table border=\"1\" class=\"dataframe\">\n",
       "  <thead>\n",
       "    <tr style=\"text-align: right;\">\n",
       "      <th></th>\n",
       "      <th>user_id</th>\n",
       "      <th>distance</th>\n",
       "      <th>duration</th>\n",
       "      <th>date</th>\n",
       "      <th>month</th>\n",
       "    </tr>\n",
       "  </thead>\n",
       "  <tbody>\n",
       "    <tr>\n",
       "      <th>0</th>\n",
       "      <td>1</td>\n",
       "      <td>4409.919140</td>\n",
       "      <td>25.599769</td>\n",
       "      <td>2021-01-01</td>\n",
       "      <td>1</td>\n",
       "    </tr>\n",
       "    <tr>\n",
       "      <th>1</th>\n",
       "      <td>1</td>\n",
       "      <td>2617.592153</td>\n",
       "      <td>15.816871</td>\n",
       "      <td>2021-01-18</td>\n",
       "      <td>1</td>\n",
       "    </tr>\n",
       "    <tr>\n",
       "      <th>2</th>\n",
       "      <td>1</td>\n",
       "      <td>754.159807</td>\n",
       "      <td>6.232113</td>\n",
       "      <td>2021-04-20</td>\n",
       "      <td>4</td>\n",
       "    </tr>\n",
       "    <tr>\n",
       "      <th>3</th>\n",
       "      <td>1</td>\n",
       "      <td>2694.783254</td>\n",
       "      <td>18.511000</td>\n",
       "      <td>2021-08-11</td>\n",
       "      <td>8</td>\n",
       "    </tr>\n",
       "    <tr>\n",
       "      <th>4</th>\n",
       "      <td>1</td>\n",
       "      <td>4028.687306</td>\n",
       "      <td>26.265803</td>\n",
       "      <td>2021-08-28</td>\n",
       "      <td>8</td>\n",
       "    </tr>\n",
       "  </tbody>\n",
       "</table>\n",
       "</div>"
      ],
      "text/plain": [
       "   user_id     distance   duration       date  month\n",
       "0        1  4409.919140  25.599769 2021-01-01      1\n",
       "1        1  2617.592153  15.816871 2021-01-18      1\n",
       "2        1   754.159807   6.232113 2021-04-20      4\n",
       "3        1  2694.783254  18.511000 2021-08-11      8\n",
       "4        1  4028.687306  26.265803 2021-08-28      8"
      ]
     },
     "execution_count": 6,
     "metadata": {},
     "output_type": "execute_result"
    }
   ],
   "source": [
    "rides['month'] = rides['date'].dt.month\n",
    "rides.head()"
   ]
  },
  {
   "cell_type": "markdown",
   "id": "df52c79a",
   "metadata": {},
   "source": [
    "Проверим наличие пропусков и дубликатов"
   ]
  },
  {
   "cell_type": "code",
   "execution_count": 7,
   "id": "23bb3632",
   "metadata": {},
   "outputs": [
    {
     "name": "stdout",
     "output_type": "stream",
     "text": [
      "user_id     0\n",
      "distance    0\n",
      "duration    0\n",
      "date        0\n",
      "month       0\n",
      "dtype: int64\n",
      "0\n",
      "user_id              0\n",
      "name                 0\n",
      "age                  0\n",
      "city                 0\n",
      "subscription_type    0\n",
      "dtype: int64\n"
     ]
    },
    {
     "data": {
      "text/plain": [
       "31"
      ]
     },
     "execution_count": 7,
     "metadata": {},
     "output_type": "execute_result"
    }
   ],
   "source": [
    "print(rides.isna().sum()) \n",
    "print(rides.duplicated().sum()) \n",
    "print(users.isna().sum()) \n",
    "users.duplicated().sum()"
   ]
  },
  {
   "cell_type": "code",
   "execution_count": 8,
   "id": "daf32afb",
   "metadata": {},
   "outputs": [
    {
     "data": {
      "text/plain": [
       "0"
      ]
     },
     "execution_count": 8,
     "metadata": {},
     "output_type": "execute_result"
    }
   ],
   "source": [
    "users = users.drop_duplicates().reset_index(drop=True) \n",
    "users.duplicated().sum()"
   ]
  },
  {
   "cell_type": "markdown",
   "id": "27d9d0ab",
   "metadata": {},
   "source": [
    "**В ходе предобработки был изменен формат даты, добавлен столбец с номером месяца и удалены дубликаты.**"
   ]
  },
  {
   "cell_type": "markdown",
   "id": "212593c7",
   "metadata": {},
   "source": [
    "### Шаг 3. Исследовательский анализ данных"
   ]
  },
  {
   "cell_type": "markdown",
   "id": "632b0795",
   "metadata": {},
   "source": [
    "#### 3.1 Частота встречаемости городов"
   ]
  },
  {
   "cell_type": "code",
   "execution_count": 9,
   "id": "e3a4274c",
   "metadata": {},
   "outputs": [
    {
     "name": "stdout",
     "output_type": "stream",
     "text": [
      "city\n",
      "Пятигорск         219\n",
      "Екатеринбург      204\n",
      "Ростов-на-Дону    198\n",
      "Краснодар         193\n",
      "Сочи              189\n",
      "Омск              183\n",
      "Тюмень            180\n",
      "Москва            168\n",
      "Name: user_id, dtype: int64\n"
     ]
    },
    {
     "data": {
      "image/png": "[encoded data removed]",
      "text/plain": [
       "<Figure size 720x432 with 1 Axes>"
      ]
     },
     "metadata": {
      "needs_background": "light"
     },
     "output_type": "display_data"
    }
   ],
   "source": [
    "users_city = users.groupby('city')['user_id'].count()\n",
    "print(users_city.sort_values(ascending = False))\n",
    "users_city.sort_values().plot.barh(color = \"purple\", figsize = (10,6))\n",
    "plt.title('Частота встречаемости городов')\n",
    "plt.xlabel('К-во пользователей')\n",
    "plt.ylabel('Города')\n",
    "plt.show()"
   ]
  },
  {
   "cell_type": "markdown",
   "id": "f9e057b1",
   "metadata": {},
   "source": [
    "В данных содержаться сведения о поездках в 8 городах, колличество поездок распределенно более менее равномерно. Бельше всего сведений о поездках в Пятигорске, меньше всего - в Москве."
   ]
  },
  {
   "cell_type": "markdown",
   "id": "2a44244a",
   "metadata": {},
   "source": [
    "#### 3.2 Соотношение пользователей с подпиской и без подписки"
   ]
  },
  {
   "cell_type": "code",
   "execution_count": 10,
   "id": "576bbe79",
   "metadata": {
    "scrolled": true
   },
   "outputs": [
    {
     "name": "stdout",
     "output_type": "stream",
     "text": [
      "free     835\n",
      "ultra    699\n",
      "Name: subscription_type, dtype: int64\n"
     ]
    },
    {
     "data": {
      "image/png": "[encoded data removed]",
      "text/plain": [
       "<Figure size 432x288 with 1 Axes>"
      ]
     },
     "metadata": {},
     "output_type": "display_data"
    }
   ],
   "source": [
    "print(users['subscription_type'].value_counts())\n",
    "users['subscription_type'].value_counts().plot(kind='pie', autopct='%1.1f%%',  colors=['purple', 'orange'], pctdistance=1.1, labeldistance=.4)\n",
    "plt.title('Пользователи с подпиской и без подписки')\n",
    "plt.xlabel('С подпиской')\n",
    "plt.ylabel('Без подписки')\n",
    "plt.show()"
   ]
  },
  {
   "cell_type": "markdown",
   "id": "ed72e4bd",
   "metadata": {},
   "source": [
    "В предоставленных данных больше всего пользователей без подписки"
   ]
  },
  {
   "cell_type": "markdown",
   "id": "0fd706fe",
   "metadata": {},
   "source": [
    "#### 3.3 Возраст пользователей"
   ]
  },
  {
   "cell_type": "code",
   "execution_count": 11,
   "id": "c7e88a47",
   "metadata": {},
   "outputs": [
    {
     "data": {
      "text/plain": [
       "count    1534.000000\n",
       "mean       24.903520\n",
       "std         4.572367\n",
       "min        12.000000\n",
       "25%        22.000000\n",
       "50%        25.000000\n",
       "75%        28.000000\n",
       "max        43.000000\n",
       "Name: age, dtype: float64"
      ]
     },
     "execution_count": 11,
     "metadata": {},
     "output_type": "execute_result"
    }
   ],
   "source": [
    "users['age'].describe()"
   ]
  },
  {
   "cell_type": "code",
   "execution_count": 12,
   "id": "4e040804",
   "metadata": {
    "scrolled": true
   },
   "outputs": [
    {
     "data": {
      "image/png": "[encoded data removed]",
      "text/plain": [
       "<Figure size 432x288 with 1 Axes>"
      ]
     },
     "metadata": {
      "needs_background": "light"
     },
     "output_type": "display_data"
    }
   ],
   "source": [
    "users['age'].hist(bins=20, color = \"purple\")\n",
    "plt.title('Возраст пользователей')\n",
    "plt.xlabel('Возраст')\n",
    "plt.ylabel('К-во пользователей')\n",
    "plt.show()"
   ]
  },
  {
   "cell_type": "markdown",
   "id": "ff01cf12",
   "metadata": {},
   "source": [
    "По графику видно, что среди пользователей самая распространенная группа возрастом с 20 до 30 лет. В то время как представлены данные о пользователях с 12 до 43 лет."
   ]
  },
  {
   "cell_type": "markdown",
   "id": "3f71ab0a",
   "metadata": {},
   "source": [
    "#### 3.4 Расстояние, которое пользователь преодолел за одну поездку"
   ]
  },
  {
   "cell_type": "code",
   "execution_count": 13,
   "id": "27a40266",
   "metadata": {},
   "outputs": [
    {
     "data": {
      "text/plain": [
       "count    18068.000000\n",
       "mean      3070.659976\n",
       "std       1116.831209\n",
       "min          0.855683\n",
       "25%       2543.226360\n",
       "50%       3133.609994\n",
       "75%       3776.222735\n",
       "max       7211.007745\n",
       "Name: distance, dtype: float64"
      ]
     },
     "execution_count": 13,
     "metadata": {},
     "output_type": "execute_result"
    }
   ],
   "source": [
    "rides['distance'].describe()"
   ]
  },
  {
   "cell_type": "code",
   "execution_count": 14,
   "id": "86b65712",
   "metadata": {},
   "outputs": [
    {
     "name": "stdout",
     "output_type": "stream",
     "text": [
      "       user_id  distance   duration       date  month\n",
      "11555     1069  0.855683  10.001902 2021-01-31      1\n",
      "9541       925  2.570787   3.011018 2021-10-19     10\n",
      "13690     1223  4.329506   4.008958 2021-05-22      5\n",
      "8658       861  6.784447   6.015656 2021-07-21      7\n",
      "7841       796  7.097072  10.026614 2021-11-26     11\n"
     ]
    },
    {
     "data": {
      "image/png": "[encoded data removed]",
      "text/plain": [
       "<Figure size 432x288 with 1 Axes>"
      ]
     },
     "metadata": {
      "needs_background": "light"
     },
     "output_type": "display_data"
    }
   ],
   "source": [
    "print(rides.sort_values('distance').head())\n",
    "rides['distance'].hist(bins=30, color = \"purple\")\n",
    "plt.title('Расстояние поездок')\n",
    "plt.xlabel('Расстояние в метрах')\n",
    "plt.ylabel('К-во поездок')\n",
    "plt.show()"
   ]
  },
  {
   "cell_type": "markdown",
   "id": "00026f9c",
   "metadata": {},
   "source": [
    "По графику мы видим два пика: малый с поездаками до 1000 м, и большой с поездками около 3000 м. Можно предположить, что первый связан с транспортной необходимостью (н-р: доехать до магазина или метро), а второй - с прогулочными поездками. "
   ]
  },
  {
   "cell_type": "markdown",
   "id": "c300c3cb",
   "metadata": {},
   "source": [
    "#### 3.5 Продолжительность поездок"
   ]
  },
  {
   "cell_type": "code",
   "execution_count": 15,
   "id": "be5f4eb1",
   "metadata": {},
   "outputs": [
    {
     "data": {
      "text/plain": [
       "count    18068.000000\n",
       "mean        17.805011\n",
       "std          6.091051\n",
       "min          0.500000\n",
       "25%         13.597563\n",
       "50%         17.678395\n",
       "75%         21.724800\n",
       "max         40.823963\n",
       "Name: duration, dtype: float64"
      ]
     },
     "execution_count": 15,
     "metadata": {},
     "output_type": "execute_result"
    }
   ],
   "source": [
    "rides['duration'].describe()"
   ]
  },
  {
   "cell_type": "code",
   "execution_count": 16,
   "id": "2e7f17a6",
   "metadata": {},
   "outputs": [
    {
     "name": "stdout",
     "output_type": "stream",
     "text": [
      "       user_id     distance  duration       date  month\n",
      "12013     1102  4602.122401       0.5 2021-08-01      8\n",
      "17314     1483  4445.481070       0.5 2021-03-06      3\n",
      "15029     1318  5894.633314       0.5 2021-03-28      3\n",
      "7437       766  4539.088310       0.5 2021-12-22     12\n",
      "12967     1172  4907.140751       0.5 2021-12-19     12\n",
      "      user_id     distance   duration       date  month\n",
      "6453      694  4210.871467  38.265229 2021-03-11      3\n",
      "1998      216  4831.339954  38.352763 2021-05-11      5\n",
      "2623      278  4754.433686  39.526602 2021-12-02     12\n",
      "4709      507  4645.642671  39.873856 2021-01-15      1\n",
      "4215      454  5137.327103  40.823963 2021-12-27     12\n",
      "17.80501119798444\n"
     ]
    },
    {
     "data": {
      "image/png": "[encoded data removed]",
      "text/plain": [
       "<Figure size 432x288 with 1 Axes>"
      ]
     },
     "metadata": {
      "needs_background": "light"
     },
     "output_type": "display_data"
    }
   ],
   "source": [
    "print(rides.sort_values('duration').head())\n",
    "print(rides.sort_values('duration').tail())\n",
    "print(rides['duration'].mean())\n",
    "rides['duration'].hist(bins=30, color = \"purple\")\n",
    "plt.title('Продолжительность поездок')\n",
    "plt.xlabel('Продолжительность в минутах')\n",
    "plt.ylabel('К-во поездок')\n",
    "plt.show()"
   ]
  },
  {
   "cell_type": "code",
   "execution_count": 17,
   "id": "fb938d71",
   "metadata": {},
   "outputs": [
    {
     "name": "stdout",
     "output_type": "stream",
     "text": [
      "           user_id     distance  duration      month\n",
      "count    95.000000    95.000000      95.0  95.000000\n",
      "mean   1092.210526  5113.176549       0.5   6.484211\n",
      "std     244.028551   658.254104       0.0   3.709858\n",
      "min     701.000000  4030.308008       0.5   1.000000\n",
      "25%     901.000000  4611.510820       0.5   3.000000\n",
      "50%    1069.000000  5052.769411       0.5   6.000000\n",
      "75%    1310.500000  5488.459099       0.5  10.000000\n",
      "max    1524.000000  7211.007745       0.5  12.000000\n",
      "           user_id     distance    duration       month\n",
      "count   361.000000   361.000000  361.000000  361.000000\n",
      "mean    805.481994  4032.355853   29.931525    6.747922\n",
      "std     445.398580   734.182078    0.572464    3.330024\n",
      "min      10.000000  2674.706974   29.003878    1.000000\n",
      "25%     408.000000  3446.270355   29.428166    4.000000\n",
      "50%     850.000000  4003.156509   29.914517    7.000000\n",
      "75%    1194.000000  4490.418170   30.384565    9.000000\n",
      "max    1531.000000  6538.937375   30.995678   12.000000\n"
     ]
    }
   ],
   "source": [
    "print(rides.query('duration <= 1').describe())\n",
    "print(rides.query('29 <= duration <= 31').describe())\n",
    "rides = rides.query('duration != 0.5')"
   ]
  },
  {
   "cell_type": "markdown",
   "id": "1c830615",
   "metadata": {},
   "source": [
    "В среднем поездки занимают 15-20 минут. \n",
    "Также при исследовании были обнаружены аномальные значения, где за пол минуты преодалевались расстояния в более чем 4000 м. Строки с этими данными были удалены, так как их количество незначительно, и удаление не повлияет на дальнейшее исследование. По небольшому сравнению видно, что за пол часа пользователи в среднем проезжают меньшее расстояние на 1 км, поэтому  исправление вызовет больше искажений, чем удаление. "
   ]
  },
  {
   "cell_type": "markdown",
   "id": "1d144d03",
   "metadata": {},
   "source": [
    "**В ходе исследовательского анализа данных были получены первые выводы:**  \n",
    "**- города в данных представлены более менее равномерно,**  \n",
    "**- в данных больше пользователей без подписки,**  \n",
    "**- возраст большинства пользователей 20-30 лет**  \n",
    "**- в среднем пользователи преодолевают около 3000 м,**  \n",
    "**- средняя поездка занимает 15-20 минут**  \n",
    "\n",
    "**Также были удалены аномальные значения**"
   ]
  },
  {
   "cell_type": "markdown",
   "id": "4ef51331",
   "metadata": {},
   "source": [
    "### Шаг 4. Объединение данных"
   ]
  },
  {
   "cell_type": "markdown",
   "id": "0d487880",
   "metadata": {},
   "source": [
    "Объединим в две таблицы: с данными о пользователях и с данными о поездках в одну"
   ]
  },
  {
   "cell_type": "code",
   "execution_count": 18,
   "id": "6bf288b5",
   "metadata": {
    "scrolled": true
   },
   "outputs": [
    {
     "data": {
      "text/html": [
       "<div>\n",
       "<style scoped>\n",
       "    .dataframe tbody tr th:only-of-type {\n",
       "        vertical-align: middle;\n",
       "    }\n",
       "\n",
       "    .dataframe tbody tr th {\n",
       "        vertical-align: top;\n",
       "    }\n",
       "\n",
       "    .dataframe thead th {\n",
       "        text-align: right;\n",
       "    }\n",
       "</style>\n",
       "<table border=\"1\" class=\"dataframe\">\n",
       "  <thead>\n",
       "    <tr style=\"text-align: right;\">\n",
       "      <th></th>\n",
       "      <th>user_id</th>\n",
       "      <th>distance</th>\n",
       "      <th>duration</th>\n",
       "      <th>date</th>\n",
       "      <th>month</th>\n",
       "      <th>name</th>\n",
       "      <th>age</th>\n",
       "      <th>city</th>\n",
       "      <th>subscription_type</th>\n",
       "      <th>minute_price</th>\n",
       "      <th>start_ride_price</th>\n",
       "      <th>subscription_fee</th>\n",
       "    </tr>\n",
       "  </thead>\n",
       "  <tbody>\n",
       "    <tr>\n",
       "      <th>0</th>\n",
       "      <td>1</td>\n",
       "      <td>4409.919140</td>\n",
       "      <td>25.599769</td>\n",
       "      <td>2021-01-01</td>\n",
       "      <td>1</td>\n",
       "      <td>Кира</td>\n",
       "      <td>22</td>\n",
       "      <td>Тюмень</td>\n",
       "      <td>ultra</td>\n",
       "      <td>6</td>\n",
       "      <td>0</td>\n",
       "      <td>199</td>\n",
       "    </tr>\n",
       "    <tr>\n",
       "      <th>1</th>\n",
       "      <td>1</td>\n",
       "      <td>2617.592153</td>\n",
       "      <td>15.816871</td>\n",
       "      <td>2021-01-18</td>\n",
       "      <td>1</td>\n",
       "      <td>Кира</td>\n",
       "      <td>22</td>\n",
       "      <td>Тюмень</td>\n",
       "      <td>ultra</td>\n",
       "      <td>6</td>\n",
       "      <td>0</td>\n",
       "      <td>199</td>\n",
       "    </tr>\n",
       "    <tr>\n",
       "      <th>2</th>\n",
       "      <td>1</td>\n",
       "      <td>754.159807</td>\n",
       "      <td>6.232113</td>\n",
       "      <td>2021-04-20</td>\n",
       "      <td>4</td>\n",
       "      <td>Кира</td>\n",
       "      <td>22</td>\n",
       "      <td>Тюмень</td>\n",
       "      <td>ultra</td>\n",
       "      <td>6</td>\n",
       "      <td>0</td>\n",
       "      <td>199</td>\n",
       "    </tr>\n",
       "    <tr>\n",
       "      <th>3</th>\n",
       "      <td>1</td>\n",
       "      <td>2694.783254</td>\n",
       "      <td>18.511000</td>\n",
       "      <td>2021-08-11</td>\n",
       "      <td>8</td>\n",
       "      <td>Кира</td>\n",
       "      <td>22</td>\n",
       "      <td>Тюмень</td>\n",
       "      <td>ultra</td>\n",
       "      <td>6</td>\n",
       "      <td>0</td>\n",
       "      <td>199</td>\n",
       "    </tr>\n",
       "    <tr>\n",
       "      <th>4</th>\n",
       "      <td>1</td>\n",
       "      <td>4028.687306</td>\n",
       "      <td>26.265803</td>\n",
       "      <td>2021-08-28</td>\n",
       "      <td>8</td>\n",
       "      <td>Кира</td>\n",
       "      <td>22</td>\n",
       "      <td>Тюмень</td>\n",
       "      <td>ultra</td>\n",
       "      <td>6</td>\n",
       "      <td>0</td>\n",
       "      <td>199</td>\n",
       "    </tr>\n",
       "  </tbody>\n",
       "</table>\n",
       "</div>"
      ],
      "text/plain": [
       "   user_id     distance   duration       date  month  name  age    city  \\\n",
       "0        1  4409.919140  25.599769 2021-01-01      1  Кира   22  Тюмень   \n",
       "1        1  2617.592153  15.816871 2021-01-18      1  Кира   22  Тюмень   \n",
       "2        1   754.159807   6.232113 2021-04-20      4  Кира   22  Тюмень   \n",
       "3        1  2694.783254  18.511000 2021-08-11      8  Кира   22  Тюмень   \n",
       "4        1  4028.687306  26.265803 2021-08-28      8  Кира   22  Тюмень   \n",
       "\n",
       "  subscription_type  minute_price  start_ride_price  subscription_fee  \n",
       "0             ultra             6                 0               199  \n",
       "1             ultra             6                 0               199  \n",
       "2             ultra             6                 0               199  \n",
       "3             ultra             6                 0               199  \n",
       "4             ultra             6                 0               199  "
      ]
     },
     "execution_count": 18,
     "metadata": {},
     "output_type": "execute_result"
    }
   ],
   "source": [
    "data = rides.merge(users, on='user_id', how='left')\n",
    "data = data.merge(sub, on='subscription_type', how='left')\n",
    "data.head()"
   ]
  },
  {
   "cell_type": "code",
   "execution_count": 19,
   "id": "342d69e1",
   "metadata": {},
   "outputs": [
    {
     "name": "stdout",
     "output_type": "stream",
     "text": [
      "<class 'pandas.core.frame.DataFrame'>\n",
      "Int64Index: 17973 entries, 0 to 17972\n",
      "Data columns (total 12 columns):\n",
      " #   Column             Non-Null Count  Dtype         \n",
      "---  ------             --------------  -----         \n",
      " 0   user_id            17973 non-null  int64         \n",
      " 1   distance           17973 non-null  float64       \n",
      " 2   duration           17973 non-null  float64       \n",
      " 3   date               17973 non-null  datetime64[ns]\n",
      " 4   month              17973 non-null  int64         \n",
      " 5   name               17973 non-null  object        \n",
      " 6   age                17973 non-null  int64         \n",
      " 7   city               17973 non-null  object        \n",
      " 8   subscription_type  17973 non-null  object        \n",
      " 9   minute_price       17973 non-null  int64         \n",
      " 10  start_ride_price   17973 non-null  int64         \n",
      " 11  subscription_fee   17973 non-null  int64         \n",
      "dtypes: datetime64[ns](1), float64(2), int64(6), object(3)\n",
      "memory usage: 1.8+ MB\n",
      "None\n",
      "user_id              0\n",
      "distance             0\n",
      "duration             0\n",
      "date                 0\n",
      "month                0\n",
      "name                 0\n",
      "age                  0\n",
      "city                 0\n",
      "subscription_type    0\n",
      "minute_price         0\n",
      "start_ride_price     0\n",
      "subscription_fee     0\n",
      "dtype: int64\n"
     ]
    },
    {
     "data": {
      "text/plain": [
       "0"
      ]
     },
     "execution_count": 19,
     "metadata": {},
     "output_type": "execute_result"
    }
   ],
   "source": [
    "print(data.info())\n",
    "print(data.isna().sum()) \n",
    "data.duplicated().sum()"
   ]
  },
  {
   "cell_type": "markdown",
   "id": "db24b468",
   "metadata": {},
   "source": [
    "Объединение прошло успешно, количество строк соответствует количеству строк датафрема о поздках после удаления аномальных значений. Пропусков и дубликатов нет."
   ]
  },
  {
   "cell_type": "markdown",
   "id": "277d5411",
   "metadata": {},
   "source": [
    "Выделим отдельно пользователей с подпиской"
   ]
  },
  {
   "cell_type": "code",
   "execution_count": 20,
   "id": "aa532413",
   "metadata": {},
   "outputs": [
    {
     "name": "stdout",
     "output_type": "stream",
     "text": [
      "<class 'pandas.core.frame.DataFrame'>\n",
      "Int64Index: 6500 entries, 0 to 6499\n",
      "Data columns (total 12 columns):\n",
      " #   Column             Non-Null Count  Dtype         \n",
      "---  ------             --------------  -----         \n",
      " 0   user_id            6500 non-null   int64         \n",
      " 1   distance           6500 non-null   float64       \n",
      " 2   duration           6500 non-null   float64       \n",
      " 3   date               6500 non-null   datetime64[ns]\n",
      " 4   month              6500 non-null   int64         \n",
      " 5   name               6500 non-null   object        \n",
      " 6   age                6500 non-null   int64         \n",
      " 7   city               6500 non-null   object        \n",
      " 8   subscription_type  6500 non-null   object        \n",
      " 9   minute_price       6500 non-null   int64         \n",
      " 10  start_ride_price   6500 non-null   int64         \n",
      " 11  subscription_fee   6500 non-null   int64         \n",
      "dtypes: datetime64[ns](1), float64(2), int64(6), object(3)\n",
      "memory usage: 660.2+ KB\n",
      "None\n"
     ]
    },
    {
     "data": {
      "text/html": [
       "<div>\n",
       "<style scoped>\n",
       "    .dataframe tbody tr th:only-of-type {\n",
       "        vertical-align: middle;\n",
       "    }\n",
       "\n",
       "    .dataframe tbody tr th {\n",
       "        vertical-align: top;\n",
       "    }\n",
       "\n",
       "    .dataframe thead th {\n",
       "        text-align: right;\n",
       "    }\n",
       "</style>\n",
       "<table border=\"1\" class=\"dataframe\">\n",
       "  <thead>\n",
       "    <tr style=\"text-align: right;\">\n",
       "      <th></th>\n",
       "      <th>user_id</th>\n",
       "      <th>distance</th>\n",
       "      <th>duration</th>\n",
       "      <th>date</th>\n",
       "      <th>month</th>\n",
       "      <th>name</th>\n",
       "      <th>age</th>\n",
       "      <th>city</th>\n",
       "      <th>subscription_type</th>\n",
       "      <th>minute_price</th>\n",
       "      <th>start_ride_price</th>\n",
       "      <th>subscription_fee</th>\n",
       "    </tr>\n",
       "  </thead>\n",
       "  <tbody>\n",
       "    <tr>\n",
       "      <th>0</th>\n",
       "      <td>1</td>\n",
       "      <td>4409.919140</td>\n",
       "      <td>25.599769</td>\n",
       "      <td>2021-01-01</td>\n",
       "      <td>1</td>\n",
       "      <td>Кира</td>\n",
       "      <td>22</td>\n",
       "      <td>Тюмень</td>\n",
       "      <td>ultra</td>\n",
       "      <td>6</td>\n",
       "      <td>0</td>\n",
       "      <td>199</td>\n",
       "    </tr>\n",
       "    <tr>\n",
       "      <th>1</th>\n",
       "      <td>1</td>\n",
       "      <td>2617.592153</td>\n",
       "      <td>15.816871</td>\n",
       "      <td>2021-01-18</td>\n",
       "      <td>1</td>\n",
       "      <td>Кира</td>\n",
       "      <td>22</td>\n",
       "      <td>Тюмень</td>\n",
       "      <td>ultra</td>\n",
       "      <td>6</td>\n",
       "      <td>0</td>\n",
       "      <td>199</td>\n",
       "    </tr>\n",
       "    <tr>\n",
       "      <th>2</th>\n",
       "      <td>1</td>\n",
       "      <td>754.159807</td>\n",
       "      <td>6.232113</td>\n",
       "      <td>2021-04-20</td>\n",
       "      <td>4</td>\n",
       "      <td>Кира</td>\n",
       "      <td>22</td>\n",
       "      <td>Тюмень</td>\n",
       "      <td>ultra</td>\n",
       "      <td>6</td>\n",
       "      <td>0</td>\n",
       "      <td>199</td>\n",
       "    </tr>\n",
       "    <tr>\n",
       "      <th>3</th>\n",
       "      <td>1</td>\n",
       "      <td>2694.783254</td>\n",
       "      <td>18.511000</td>\n",
       "      <td>2021-08-11</td>\n",
       "      <td>8</td>\n",
       "      <td>Кира</td>\n",
       "      <td>22</td>\n",
       "      <td>Тюмень</td>\n",
       "      <td>ultra</td>\n",
       "      <td>6</td>\n",
       "      <td>0</td>\n",
       "      <td>199</td>\n",
       "    </tr>\n",
       "    <tr>\n",
       "      <th>4</th>\n",
       "      <td>1</td>\n",
       "      <td>4028.687306</td>\n",
       "      <td>26.265803</td>\n",
       "      <td>2021-08-28</td>\n",
       "      <td>8</td>\n",
       "      <td>Кира</td>\n",
       "      <td>22</td>\n",
       "      <td>Тюмень</td>\n",
       "      <td>ultra</td>\n",
       "      <td>6</td>\n",
       "      <td>0</td>\n",
       "      <td>199</td>\n",
       "    </tr>\n",
       "  </tbody>\n",
       "</table>\n",
       "</div>"
      ],
      "text/plain": [
       "   user_id     distance   duration       date  month  name  age    city  \\\n",
       "0        1  4409.919140  25.599769 2021-01-01      1  Кира   22  Тюмень   \n",
       "1        1  2617.592153  15.816871 2021-01-18      1  Кира   22  Тюмень   \n",
       "2        1   754.159807   6.232113 2021-04-20      4  Кира   22  Тюмень   \n",
       "3        1  2694.783254  18.511000 2021-08-11      8  Кира   22  Тюмень   \n",
       "4        1  4028.687306  26.265803 2021-08-28      8  Кира   22  Тюмень   \n",
       "\n",
       "  subscription_type  minute_price  start_ride_price  subscription_fee  \n",
       "0             ultra             6                 0               199  \n",
       "1             ultra             6                 0               199  \n",
       "2             ultra             6                 0               199  \n",
       "3             ultra             6                 0               199  \n",
       "4             ultra             6                 0               199  "
      ]
     },
     "execution_count": 20,
     "metadata": {},
     "output_type": "execute_result"
    }
   ],
   "source": [
    "ultra = data.query('subscription_type == \"ultra\"')\n",
    "print(ultra.info())\n",
    "ultra.head()"
   ]
  },
  {
   "cell_type": "markdown",
   "id": "ba99c77c",
   "metadata": {},
   "source": [
    "Выделим отдельно пользователей без подписки"
   ]
  },
  {
   "cell_type": "code",
   "execution_count": 21,
   "id": "34671b6c",
   "metadata": {
    "scrolled": true
   },
   "outputs": [
    {
     "name": "stdout",
     "output_type": "stream",
     "text": [
      "<class 'pandas.core.frame.DataFrame'>\n",
      "Int64Index: 11473 entries, 6500 to 17972\n",
      "Data columns (total 12 columns):\n",
      " #   Column             Non-Null Count  Dtype         \n",
      "---  ------             --------------  -----         \n",
      " 0   user_id            11473 non-null  int64         \n",
      " 1   distance           11473 non-null  float64       \n",
      " 2   duration           11473 non-null  float64       \n",
      " 3   date               11473 non-null  datetime64[ns]\n",
      " 4   month              11473 non-null  int64         \n",
      " 5   name               11473 non-null  object        \n",
      " 6   age                11473 non-null  int64         \n",
      " 7   city               11473 non-null  object        \n",
      " 8   subscription_type  11473 non-null  object        \n",
      " 9   minute_price       11473 non-null  int64         \n",
      " 10  start_ride_price   11473 non-null  int64         \n",
      " 11  subscription_fee   11473 non-null  int64         \n",
      "dtypes: datetime64[ns](1), float64(2), int64(6), object(3)\n",
      "memory usage: 1.1+ MB\n",
      "None\n"
     ]
    },
    {
     "data": {
      "text/html": [
       "<div>\n",
       "<style scoped>\n",
       "    .dataframe tbody tr th:only-of-type {\n",
       "        vertical-align: middle;\n",
       "    }\n",
       "\n",
       "    .dataframe tbody tr th {\n",
       "        vertical-align: top;\n",
       "    }\n",
       "\n",
       "    .dataframe thead th {\n",
       "        text-align: right;\n",
       "    }\n",
       "</style>\n",
       "<table border=\"1\" class=\"dataframe\">\n",
       "  <thead>\n",
       "    <tr style=\"text-align: right;\">\n",
       "      <th></th>\n",
       "      <th>user_id</th>\n",
       "      <th>distance</th>\n",
       "      <th>duration</th>\n",
       "      <th>date</th>\n",
       "      <th>month</th>\n",
       "      <th>name</th>\n",
       "      <th>age</th>\n",
       "      <th>city</th>\n",
       "      <th>subscription_type</th>\n",
       "      <th>minute_price</th>\n",
       "      <th>start_ride_price</th>\n",
       "      <th>subscription_fee</th>\n",
       "    </tr>\n",
       "  </thead>\n",
       "  <tbody>\n",
       "    <tr>\n",
       "      <th>6500</th>\n",
       "      <td>700</td>\n",
       "      <td>2515.690719</td>\n",
       "      <td>14.944286</td>\n",
       "      <td>2021-01-02</td>\n",
       "      <td>1</td>\n",
       "      <td>Айдар</td>\n",
       "      <td>22</td>\n",
       "      <td>Омск</td>\n",
       "      <td>free</td>\n",
       "      <td>8</td>\n",
       "      <td>50</td>\n",
       "      <td>0</td>\n",
       "    </tr>\n",
       "    <tr>\n",
       "      <th>6501</th>\n",
       "      <td>700</td>\n",
       "      <td>846.932642</td>\n",
       "      <td>16.234663</td>\n",
       "      <td>2021-02-01</td>\n",
       "      <td>2</td>\n",
       "      <td>Айдар</td>\n",
       "      <td>22</td>\n",
       "      <td>Омск</td>\n",
       "      <td>free</td>\n",
       "      <td>8</td>\n",
       "      <td>50</td>\n",
       "      <td>0</td>\n",
       "    </tr>\n",
       "    <tr>\n",
       "      <th>6502</th>\n",
       "      <td>700</td>\n",
       "      <td>4004.434142</td>\n",
       "      <td>20.016628</td>\n",
       "      <td>2021-02-04</td>\n",
       "      <td>2</td>\n",
       "      <td>Айдар</td>\n",
       "      <td>22</td>\n",
       "      <td>Омск</td>\n",
       "      <td>free</td>\n",
       "      <td>8</td>\n",
       "      <td>50</td>\n",
       "      <td>0</td>\n",
       "    </tr>\n",
       "    <tr>\n",
       "      <th>6503</th>\n",
       "      <td>700</td>\n",
       "      <td>1205.911290</td>\n",
       "      <td>9.782872</td>\n",
       "      <td>2021-02-10</td>\n",
       "      <td>2</td>\n",
       "      <td>Айдар</td>\n",
       "      <td>22</td>\n",
       "      <td>Омск</td>\n",
       "      <td>free</td>\n",
       "      <td>8</td>\n",
       "      <td>50</td>\n",
       "      <td>0</td>\n",
       "    </tr>\n",
       "    <tr>\n",
       "      <th>6504</th>\n",
       "      <td>700</td>\n",
       "      <td>3047.379435</td>\n",
       "      <td>17.427673</td>\n",
       "      <td>2021-02-14</td>\n",
       "      <td>2</td>\n",
       "      <td>Айдар</td>\n",
       "      <td>22</td>\n",
       "      <td>Омск</td>\n",
       "      <td>free</td>\n",
       "      <td>8</td>\n",
       "      <td>50</td>\n",
       "      <td>0</td>\n",
       "    </tr>\n",
       "  </tbody>\n",
       "</table>\n",
       "</div>"
      ],
      "text/plain": [
       "      user_id     distance   duration       date  month   name  age  city  \\\n",
       "6500      700  2515.690719  14.944286 2021-01-02      1  Айдар   22  Омск   \n",
       "6501      700   846.932642  16.234663 2021-02-01      2  Айдар   22  Омск   \n",
       "6502      700  4004.434142  20.016628 2021-02-04      2  Айдар   22  Омск   \n",
       "6503      700  1205.911290   9.782872 2021-02-10      2  Айдар   22  Омск   \n",
       "6504      700  3047.379435  17.427673 2021-02-14      2  Айдар   22  Омск   \n",
       "\n",
       "     subscription_type  minute_price  start_ride_price  subscription_fee  \n",
       "6500              free             8                50                 0  \n",
       "6501              free             8                50                 0  \n",
       "6502              free             8                50                 0  \n",
       "6503              free             8                50                 0  \n",
       "6504              free             8                50                 0  "
      ]
     },
     "execution_count": 21,
     "metadata": {},
     "output_type": "execute_result"
    }
   ],
   "source": [
    "free = data.query('subscription_type == \"free\"')\n",
    "print(free.info())\n",
    "free.head()"
   ]
  },
  {
   "cell_type": "markdown",
   "id": "b8b5273f",
   "metadata": {},
   "source": [
    "Сравним длительность поездки у пользователей с подпиской и без"
   ]
  },
  {
   "cell_type": "code",
   "execution_count": 22,
   "id": "d7d68453",
   "metadata": {},
   "outputs": [
    {
     "name": "stdout",
     "output_type": "stream",
     "text": [
      "count    11473.000000\n",
      "mean        17.530771\n",
      "std          6.162609\n",
      "min          2.035632\n",
      "25%         13.085688\n",
      "50%         17.383807\n",
      "75%         21.638038\n",
      "max         34.948498\n",
      "Name: duration, dtype: float64\n"
     ]
    },
    {
     "data": {
      "text/plain": [
       "count    6500.000000\n",
       "mean       18.541985\n",
       "std         5.572048\n",
       "min         3.760353\n",
       "25%        14.524654\n",
       "50%        18.178153\n",
       "75%        21.884129\n",
       "max        40.823963\n",
       "Name: duration, dtype: float64"
      ]
     },
     "execution_count": 22,
     "metadata": {},
     "output_type": "execute_result"
    }
   ],
   "source": [
    "print(free['duration'].describe())\n",
    "ultra['duration'].describe()"
   ]
  },
  {
   "cell_type": "code",
   "execution_count": 23,
   "id": "2eb90592",
   "metadata": {
    "scrolled": true
   },
   "outputs": [
    {
     "data": {
      "image/png": "[encoded data removed]",
      "text/plain": [
       "<Figure size 432x288 with 1 Axes>"
      ]
     },
     "metadata": {
      "needs_background": "light"
     },
     "output_type": "display_data"
    }
   ],
   "source": [
    "ultra['duration'].hist(bins=30, color = \"purple\", label='с подпиской')\n",
    "free['duration'].hist(bins=30, color = \"orange\", label='без подписки', alpha=0.5)\n",
    "plt.title('Продолжительность поездок с подпиской и без')\n",
    "plt.xlabel('Продолжительность в минутах')\n",
    "plt.ylabel('К-во поездок')\n",
    "plt.show()"
   ]
  },
  {
   "cell_type": "markdown",
   "id": "c2dcb23d",
   "metadata": {},
   "source": [
    "В среднем поездка у пользователей с подпиской или без занимает 15-20 минут. "
   ]
  },
  {
   "cell_type": "markdown",
   "id": "88ae983e",
   "metadata": {},
   "source": [
    "Сравним расстояние преодоленное за поездки у пользователей с подпиской и без"
   ]
  },
  {
   "cell_type": "code",
   "execution_count": 24,
   "id": "4b3aa03d",
   "metadata": {},
   "outputs": [
    {
     "name": "stdout",
     "output_type": "stream",
     "text": [
      "count    11473.000000\n",
      "mean      3028.374239\n",
      "std       1235.541051\n",
      "min          0.855683\n",
      "25%       2360.878149\n",
      "50%       3102.083025\n",
      "75%       3883.979311\n",
      "max       7066.003772\n",
      "Name: distance, dtype: float64\n"
     ]
    },
    {
     "data": {
      "text/plain": [
       "count    6500.000000\n",
       "mean     3115.445388\n",
       "std       836.895330\n",
       "min       244.210438\n",
       "25%      2785.444017\n",
       "50%      3148.637229\n",
       "75%      3560.574425\n",
       "max      5699.769662\n",
       "Name: distance, dtype: float64"
      ]
     },
     "execution_count": 24,
     "metadata": {},
     "output_type": "execute_result"
    }
   ],
   "source": [
    "print(free['distance'].describe())\n",
    "ultra['distance'].describe()"
   ]
  },
  {
   "cell_type": "code",
   "execution_count": 25,
   "id": "0efd6838",
   "metadata": {},
   "outputs": [
    {
     "data": {
      "image/png": "[encoded data removed]",
      "text/plain": [
       "<Figure size 432x288 with 1 Axes>"
      ]
     },
     "metadata": {
      "needs_background": "light"
     },
     "output_type": "display_data"
    }
   ],
   "source": [
    "ultra['distance'].hist(bins=30, color = \"purple\", label = 'с подпиской')\n",
    "free['distance'].hist(bins=30, color = \"orange\", label = 'без подписки', alpha=0.5)\n",
    "plt.title('Расстояние поездок с подпиской и без')\n",
    "plt.xlabel('Расстояние в метрах')\n",
    "plt.ylabel('К-во поездок')\n",
    "plt.show()"
   ]
  },
  {
   "cell_type": "markdown",
   "id": "f84be3fe",
   "metadata": {},
   "source": [
    "**В ходе этого шага мы объединили данные в одну таблицу, а также изучили две категории пользователей с подпиской и без по разным критериям. Время поездки у обоих категорий примерно равно 15-20 минут, среднее расстояние - 3100 м.  По графикам мы также можем заметить, что пользователи без подписки совершают бо́льшее количество поездок в целом, с чем и связан бо́льший разброс диапазона расстояния поездок на графике.**"
   ]
  },
  {
   "cell_type": "markdown",
   "id": "402d620f",
   "metadata": {},
   "source": [
    "### Шаг 5. Подсчёт выручки"
   ]
  },
  {
   "cell_type": "code",
   "execution_count": 26,
   "id": "53049e0a",
   "metadata": {},
   "outputs": [
    {
     "data": {
      "text/html": [
       "<div>\n",
       "<style scoped>\n",
       "    .dataframe tbody tr th:only-of-type {\n",
       "        vertical-align: middle;\n",
       "    }\n",
       "\n",
       "    .dataframe tbody tr th {\n",
       "        vertical-align: top;\n",
       "    }\n",
       "\n",
       "    .dataframe thead tr th {\n",
       "        text-align: left;\n",
       "    }\n",
       "\n",
       "    .dataframe thead tr:last-of-type th {\n",
       "        text-align: right;\n",
       "    }\n",
       "</style>\n",
       "<table border=\"1\" class=\"dataframe\">\n",
       "  <thead>\n",
       "    <tr>\n",
       "      <th></th>\n",
       "      <th></th>\n",
       "      <th></th>\n",
       "      <th></th>\n",
       "      <th></th>\n",
       "      <th></th>\n",
       "      <th colspan=\"2\" halign=\"left\">count</th>\n",
       "      <th colspan=\"2\" halign=\"left\">sum</th>\n",
       "    </tr>\n",
       "    <tr>\n",
       "      <th></th>\n",
       "      <th></th>\n",
       "      <th></th>\n",
       "      <th></th>\n",
       "      <th></th>\n",
       "      <th></th>\n",
       "      <th>distance</th>\n",
       "      <th>duration</th>\n",
       "      <th>distance</th>\n",
       "      <th>duration</th>\n",
       "    </tr>\n",
       "    <tr>\n",
       "      <th>user_id</th>\n",
       "      <th>month</th>\n",
       "      <th>subscription_type</th>\n",
       "      <th>minute_price</th>\n",
       "      <th>start_ride_price</th>\n",
       "      <th>subscription_fee</th>\n",
       "      <th></th>\n",
       "      <th></th>\n",
       "      <th></th>\n",
       "      <th></th>\n",
       "    </tr>\n",
       "  </thead>\n",
       "  <tbody>\n",
       "    <tr>\n",
       "      <th rowspan=\"5\" valign=\"top\">1</th>\n",
       "      <th>1</th>\n",
       "      <th>ultra</th>\n",
       "      <th>6</th>\n",
       "      <th>0</th>\n",
       "      <th>199</th>\n",
       "      <td>2</td>\n",
       "      <td>2</td>\n",
       "      <td>7027.511294</td>\n",
       "      <td>42</td>\n",
       "    </tr>\n",
       "    <tr>\n",
       "      <th>4</th>\n",
       "      <th>ultra</th>\n",
       "      <th>6</th>\n",
       "      <th>0</th>\n",
       "      <th>199</th>\n",
       "      <td>1</td>\n",
       "      <td>1</td>\n",
       "      <td>754.159807</td>\n",
       "      <td>7</td>\n",
       "    </tr>\n",
       "    <tr>\n",
       "      <th>8</th>\n",
       "      <th>ultra</th>\n",
       "      <th>6</th>\n",
       "      <th>0</th>\n",
       "      <th>199</th>\n",
       "      <td>2</td>\n",
       "      <td>2</td>\n",
       "      <td>6723.470560</td>\n",
       "      <td>46</td>\n",
       "    </tr>\n",
       "    <tr>\n",
       "      <th>10</th>\n",
       "      <th>ultra</th>\n",
       "      <th>6</th>\n",
       "      <th>0</th>\n",
       "      <th>199</th>\n",
       "      <td>2</td>\n",
       "      <td>2</td>\n",
       "      <td>5809.911100</td>\n",
       "      <td>32</td>\n",
       "    </tr>\n",
       "    <tr>\n",
       "      <th>11</th>\n",
       "      <th>ultra</th>\n",
       "      <th>6</th>\n",
       "      <th>0</th>\n",
       "      <th>199</th>\n",
       "      <td>3</td>\n",
       "      <td>3</td>\n",
       "      <td>7003.499363</td>\n",
       "      <td>56</td>\n",
       "    </tr>\n",
       "  </tbody>\n",
       "</table>\n",
       "</div>"
      ],
      "text/plain": [
       "                                                                                  count  \\\n",
       "                                                                               distance   \n",
       "user_id month subscription_type minute_price start_ride_price subscription_fee            \n",
       "1       1     ultra             6            0                199                     2   \n",
       "        4     ultra             6            0                199                     1   \n",
       "        8     ultra             6            0                199                     2   \n",
       "        10    ultra             6            0                199                     2   \n",
       "        11    ultra             6            0                199                     3   \n",
       "\n",
       "                                                                                         \\\n",
       "                                                                               duration   \n",
       "user_id month subscription_type minute_price start_ride_price subscription_fee            \n",
       "1       1     ultra             6            0                199                     2   \n",
       "        4     ultra             6            0                199                     1   \n",
       "        8     ultra             6            0                199                     2   \n",
       "        10    ultra             6            0                199                     2   \n",
       "        11    ultra             6            0                199                     3   \n",
       "\n",
       "                                                                                        sum  \\\n",
       "                                                                                   distance   \n",
       "user_id month subscription_type minute_price start_ride_price subscription_fee                \n",
       "1       1     ultra             6            0                199               7027.511294   \n",
       "        4     ultra             6            0                199                754.159807   \n",
       "        8     ultra             6            0                199               6723.470560   \n",
       "        10    ultra             6            0                199               5809.911100   \n",
       "        11    ultra             6            0                199               7003.499363   \n",
       "\n",
       "                                                                                         \n",
       "                                                                               duration  \n",
       "user_id month subscription_type minute_price start_ride_price subscription_fee           \n",
       "1       1     ultra             6            0                199                    42  \n",
       "        4     ultra             6            0                199                     7  \n",
       "        8     ultra             6            0                199                    46  \n",
       "        10    ultra             6            0                199                    32  \n",
       "        11    ultra             6            0                199                    56  "
      ]
     },
     "execution_count": 26,
     "metadata": {},
     "output_type": "execute_result"
    }
   ],
   "source": [
    "data['duration'] = np.ceil(data['duration'])\n",
    "data['duration'] = data['duration'].astype('int')\n",
    "data_r = data.pivot_table(index=['user_id', 'month', 'subscription_type', 'minute_price', 'start_ride_price', 'subscription_fee'], values=['distance', 'duration'], aggfunc=['count', 'sum'])\n",
    "data_r.columns = ['cd', 'count', 'distance', 'duration']\n",
    "data_r = data_r.drop(columns = ['cd']).reset_index()\n",
    "data_r.head()"
   ]
  },
  {
   "cell_type": "code",
   "execution_count": 27,
   "id": "a4a5a57c",
   "metadata": {
    "scrolled": true
   },
   "outputs": [
    {
     "ename": "KeyError",
     "evalue": "'start_ride_price'",
     "output_type": "error",
     "traceback": [
      "\u001b[0;31m---------------------------------------------------------------------------\u001b[0m",
      "\u001b[0;31mKeyError\u001b[0m                                  Traceback (most recent call last)",
      "\u001b[0;32m/opt/conda/lib/python3.9/site-packages/pandas/core/indexes/base.py\u001b[0m in \u001b[0;36mget_loc\u001b[0;34m(self, key, method, tolerance)\u001b[0m\n\u001b[1;32m   3079\u001b[0m             \u001b[0;32mtry\u001b[0m\u001b[0;34m:\u001b[0m\u001b[0;34m\u001b[0m\u001b[0;34m\u001b[0m\u001b[0m\n\u001b[0;32m-> 3080\u001b[0;31m                 \u001b[0;32mreturn\u001b[0m \u001b[0mself\u001b[0m\u001b[0;34m.\u001b[0m\u001b[0m_engine\u001b[0m\u001b[0;34m.\u001b[0m\u001b[0mget_loc\u001b[0m\u001b[0;34m(\u001b[0m\u001b[0mcasted_key\u001b[0m\u001b[0;34m)\u001b[0m\u001b[0;34m\u001b[0m\u001b[0;34m\u001b[0m\u001b[0m\n\u001b[0m\u001b[1;32m   3081\u001b[0m             \u001b[0;32mexcept\u001b[0m \u001b[0mKeyError\u001b[0m \u001b[0;32mas\u001b[0m \u001b[0merr\u001b[0m\u001b[0;34m:\u001b[0m\u001b[0;34m\u001b[0m\u001b[0;34m\u001b[0m\u001b[0m\n",
      "\u001b[0;32mpandas/_libs/index.pyx\u001b[0m in \u001b[0;36mpandas._libs.index.IndexEngine.get_loc\u001b[0;34m()\u001b[0m\n",
      "\u001b[0;32mpandas/_libs/index.pyx\u001b[0m in \u001b[0;36mpandas._libs.index.IndexEngine.get_loc\u001b[0;34m()\u001b[0m\n",
      "\u001b[0;32mpandas/_libs/hashtable_class_helper.pxi\u001b[0m in \u001b[0;36mpandas._libs.hashtable.PyObjectHashTable.get_item\u001b[0;34m()\u001b[0m\n",
      "\u001b[0;32mpandas/_libs/hashtable_class_helper.pxi\u001b[0m in \u001b[0;36mpandas._libs.hashtable.PyObjectHashTable.get_item\u001b[0;34m()\u001b[0m\n",
      "\u001b[0;31mKeyError\u001b[0m: 'start_ride_price'",
      "\nThe above exception was the direct cause of the following exception:\n",
      "\u001b[0;31mKeyError\u001b[0m                                  Traceback (most recent call last)",
      "\u001b[0;32m/tmp/ipykernel_214/2782025627.py\u001b[0m in \u001b[0;36m<module>\u001b[0;34m\u001b[0m\n\u001b[1;32m      1\u001b[0m data_r['revenue'] = (\n\u001b[0;32m----> 2\u001b[0;31m     \u001b[0mdata_r\u001b[0m\u001b[0;34m[\u001b[0m\u001b[0;34m'start_ride_price'\u001b[0m\u001b[0;34m]\u001b[0m \u001b[0;34m*\u001b[0m \u001b[0mdata_r\u001b[0m\u001b[0;34m[\u001b[0m\u001b[0;34m'count'\u001b[0m\u001b[0;34m]\u001b[0m \u001b[0;34m+\u001b[0m\u001b[0;34m\u001b[0m\u001b[0;34m\u001b[0m\u001b[0m\n\u001b[0m\u001b[1;32m      3\u001b[0m     \u001b[0mdata_r\u001b[0m\u001b[0;34m[\u001b[0m\u001b[0;34m'minute_price'\u001b[0m\u001b[0;34m]\u001b[0m \u001b[0;34m*\u001b[0m \u001b[0mdata_r\u001b[0m\u001b[0;34m[\u001b[0m\u001b[0;34m'duration'\u001b[0m\u001b[0;34m]\u001b[0m \u001b[0;34m+\u001b[0m\u001b[0;34m\u001b[0m\u001b[0;34m\u001b[0m\u001b[0m\n\u001b[1;32m      4\u001b[0m     \u001b[0mdata_r\u001b[0m\u001b[0;34m[\u001b[0m\u001b[0;34m'subscription_fee'\u001b[0m\u001b[0;34m]\u001b[0m\u001b[0;34m\u001b[0m\u001b[0;34m\u001b[0m\u001b[0m\n\u001b[1;32m      5\u001b[0m )\n",
      "\u001b[0;32m/opt/conda/lib/python3.9/site-packages/pandas/core/frame.py\u001b[0m in \u001b[0;36m__getitem__\u001b[0;34m(self, key)\u001b[0m\n\u001b[1;32m   3021\u001b[0m         \u001b[0;32mif\u001b[0m \u001b[0mis_single_key\u001b[0m\u001b[0;34m:\u001b[0m\u001b[0;34m\u001b[0m\u001b[0;34m\u001b[0m\u001b[0m\n\u001b[1;32m   3022\u001b[0m             \u001b[0;32mif\u001b[0m \u001b[0mself\u001b[0m\u001b[0;34m.\u001b[0m\u001b[0mcolumns\u001b[0m\u001b[0;34m.\u001b[0m\u001b[0mnlevels\u001b[0m \u001b[0;34m>\u001b[0m \u001b[0;36m1\u001b[0m\u001b[0;34m:\u001b[0m\u001b[0;34m\u001b[0m\u001b[0;34m\u001b[0m\u001b[0m\n\u001b[0;32m-> 3023\u001b[0;31m                 \u001b[0;32mreturn\u001b[0m \u001b[0mself\u001b[0m\u001b[0;34m.\u001b[0m\u001b[0m_getitem_multilevel\u001b[0m\u001b[0;34m(\u001b[0m\u001b[0mkey\u001b[0m\u001b[0;34m)\u001b[0m\u001b[0;34m\u001b[0m\u001b[0;34m\u001b[0m\u001b[0m\n\u001b[0m\u001b[1;32m   3024\u001b[0m             \u001b[0mindexer\u001b[0m \u001b[0;34m=\u001b[0m \u001b[0mself\u001b[0m\u001b[0;34m.\u001b[0m\u001b[0mcolumns\u001b[0m\u001b[0;34m.\u001b[0m\u001b[0mget_loc\u001b[0m\u001b[0;34m(\u001b[0m\u001b[0mkey\u001b[0m\u001b[0;34m)\u001b[0m\u001b[0;34m\u001b[0m\u001b[0;34m\u001b[0m\u001b[0m\n\u001b[1;32m   3025\u001b[0m             \u001b[0;32mif\u001b[0m \u001b[0mis_integer\u001b[0m\u001b[0;34m(\u001b[0m\u001b[0mindexer\u001b[0m\u001b[0;34m)\u001b[0m\u001b[0;34m:\u001b[0m\u001b[0;34m\u001b[0m\u001b[0;34m\u001b[0m\u001b[0m\n",
      "\u001b[0;32m/opt/conda/lib/python3.9/site-packages/pandas/core/frame.py\u001b[0m in \u001b[0;36m_getitem_multilevel\u001b[0;34m(self, key)\u001b[0m\n\u001b[1;32m   3072\u001b[0m     \u001b[0;32mdef\u001b[0m \u001b[0m_getitem_multilevel\u001b[0m\u001b[0;34m(\u001b[0m\u001b[0mself\u001b[0m\u001b[0;34m,\u001b[0m \u001b[0mkey\u001b[0m\u001b[0;34m)\u001b[0m\u001b[0;34m:\u001b[0m\u001b[0;34m\u001b[0m\u001b[0;34m\u001b[0m\u001b[0m\n\u001b[1;32m   3073\u001b[0m         \u001b[0;31m# self.columns is a MultiIndex\u001b[0m\u001b[0;34m\u001b[0m\u001b[0;34m\u001b[0m\u001b[0;34m\u001b[0m\u001b[0m\n\u001b[0;32m-> 3074\u001b[0;31m         \u001b[0mloc\u001b[0m \u001b[0;34m=\u001b[0m \u001b[0mself\u001b[0m\u001b[0;34m.\u001b[0m\u001b[0mcolumns\u001b[0m\u001b[0;34m.\u001b[0m\u001b[0mget_loc\u001b[0m\u001b[0;34m(\u001b[0m\u001b[0mkey\u001b[0m\u001b[0;34m)\u001b[0m\u001b[0;34m\u001b[0m\u001b[0;34m\u001b[0m\u001b[0m\n\u001b[0m\u001b[1;32m   3075\u001b[0m         \u001b[0;32mif\u001b[0m \u001b[0misinstance\u001b[0m\u001b[0;34m(\u001b[0m\u001b[0mloc\u001b[0m\u001b[0;34m,\u001b[0m \u001b[0;34m(\u001b[0m\u001b[0mslice\u001b[0m\u001b[0;34m,\u001b[0m \u001b[0mnp\u001b[0m\u001b[0;34m.\u001b[0m\u001b[0mndarray\u001b[0m\u001b[0;34m)\u001b[0m\u001b[0;34m)\u001b[0m\u001b[0;34m:\u001b[0m\u001b[0;34m\u001b[0m\u001b[0;34m\u001b[0m\u001b[0m\n\u001b[1;32m   3076\u001b[0m             \u001b[0mnew_columns\u001b[0m \u001b[0;34m=\u001b[0m \u001b[0mself\u001b[0m\u001b[0;34m.\u001b[0m\u001b[0mcolumns\u001b[0m\u001b[0;34m[\u001b[0m\u001b[0mloc\u001b[0m\u001b[0;34m]\u001b[0m\u001b[0;34m\u001b[0m\u001b[0;34m\u001b[0m\u001b[0m\n",
      "\u001b[0;32m/opt/conda/lib/python3.9/site-packages/pandas/core/indexes/multi.py\u001b[0m in \u001b[0;36mget_loc\u001b[0;34m(self, key, method)\u001b[0m\n\u001b[1;32m   2874\u001b[0m \u001b[0;34m\u001b[0m\u001b[0m\n\u001b[1;32m   2875\u001b[0m         \u001b[0;32mif\u001b[0m \u001b[0;32mnot\u001b[0m \u001b[0misinstance\u001b[0m\u001b[0;34m(\u001b[0m\u001b[0mkey\u001b[0m\u001b[0;34m,\u001b[0m \u001b[0mtuple\u001b[0m\u001b[0;34m)\u001b[0m\u001b[0;34m:\u001b[0m\u001b[0;34m\u001b[0m\u001b[0;34m\u001b[0m\u001b[0m\n\u001b[0;32m-> 2876\u001b[0;31m             \u001b[0mloc\u001b[0m \u001b[0;34m=\u001b[0m \u001b[0mself\u001b[0m\u001b[0;34m.\u001b[0m\u001b[0m_get_level_indexer\u001b[0m\u001b[0;34m(\u001b[0m\u001b[0mkey\u001b[0m\u001b[0;34m,\u001b[0m \u001b[0mlevel\u001b[0m\u001b[0;34m=\u001b[0m\u001b[0;36m0\u001b[0m\u001b[0;34m)\u001b[0m\u001b[0;34m\u001b[0m\u001b[0;34m\u001b[0m\u001b[0m\n\u001b[0m\u001b[1;32m   2877\u001b[0m             \u001b[0;32mreturn\u001b[0m \u001b[0m_maybe_to_slice\u001b[0m\u001b[0;34m(\u001b[0m\u001b[0mloc\u001b[0m\u001b[0;34m)\u001b[0m\u001b[0;34m\u001b[0m\u001b[0;34m\u001b[0m\u001b[0m\n\u001b[1;32m   2878\u001b[0m \u001b[0;34m\u001b[0m\u001b[0m\n",
      "\u001b[0;32m/opt/conda/lib/python3.9/site-packages/pandas/core/indexes/multi.py\u001b[0m in \u001b[0;36m_get_level_indexer\u001b[0;34m(self, key, level, indexer)\u001b[0m\n\u001b[1;32m   3156\u001b[0m         \u001b[0;32melse\u001b[0m\u001b[0;34m:\u001b[0m\u001b[0;34m\u001b[0m\u001b[0;34m\u001b[0m\u001b[0m\n\u001b[1;32m   3157\u001b[0m \u001b[0;34m\u001b[0m\u001b[0m\n\u001b[0;32m-> 3158\u001b[0;31m             \u001b[0midx\u001b[0m \u001b[0;34m=\u001b[0m \u001b[0mself\u001b[0m\u001b[0;34m.\u001b[0m\u001b[0m_get_loc_single_level_index\u001b[0m\u001b[0;34m(\u001b[0m\u001b[0mlevel_index\u001b[0m\u001b[0;34m,\u001b[0m \u001b[0mkey\u001b[0m\u001b[0;34m)\u001b[0m\u001b[0;34m\u001b[0m\u001b[0;34m\u001b[0m\u001b[0m\n\u001b[0m\u001b[1;32m   3159\u001b[0m \u001b[0;34m\u001b[0m\u001b[0m\n\u001b[1;32m   3160\u001b[0m             \u001b[0;32mif\u001b[0m \u001b[0mlevel\u001b[0m \u001b[0;34m>\u001b[0m \u001b[0;36m0\u001b[0m \u001b[0;32mor\u001b[0m \u001b[0mself\u001b[0m\u001b[0;34m.\u001b[0m\u001b[0mlexsort_depth\u001b[0m \u001b[0;34m==\u001b[0m \u001b[0;36m0\u001b[0m\u001b[0;34m:\u001b[0m\u001b[0;34m\u001b[0m\u001b[0;34m\u001b[0m\u001b[0m\n",
      "\u001b[0;32m/opt/conda/lib/python3.9/site-packages/pandas/core/indexes/multi.py\u001b[0m in \u001b[0;36m_get_loc_single_level_index\u001b[0;34m(self, level_index, key)\u001b[0m\n\u001b[1;32m   2807\u001b[0m             \u001b[0;32mreturn\u001b[0m \u001b[0;34m-\u001b[0m\u001b[0;36m1\u001b[0m\u001b[0;34m\u001b[0m\u001b[0;34m\u001b[0m\u001b[0m\n\u001b[1;32m   2808\u001b[0m         \u001b[0;32melse\u001b[0m\u001b[0;34m:\u001b[0m\u001b[0;34m\u001b[0m\u001b[0;34m\u001b[0m\u001b[0m\n\u001b[0;32m-> 2809\u001b[0;31m             \u001b[0;32mreturn\u001b[0m \u001b[0mlevel_index\u001b[0m\u001b[0;34m.\u001b[0m\u001b[0mget_loc\u001b[0m\u001b[0;34m(\u001b[0m\u001b[0mkey\u001b[0m\u001b[0;34m)\u001b[0m\u001b[0;34m\u001b[0m\u001b[0;34m\u001b[0m\u001b[0m\n\u001b[0m\u001b[1;32m   2810\u001b[0m \u001b[0;34m\u001b[0m\u001b[0m\n\u001b[1;32m   2811\u001b[0m     \u001b[0;32mdef\u001b[0m \u001b[0mget_loc\u001b[0m\u001b[0;34m(\u001b[0m\u001b[0mself\u001b[0m\u001b[0;34m,\u001b[0m \u001b[0mkey\u001b[0m\u001b[0;34m,\u001b[0m \u001b[0mmethod\u001b[0m\u001b[0;34m=\u001b[0m\u001b[0;32mNone\u001b[0m\u001b[0;34m)\u001b[0m\u001b[0;34m:\u001b[0m\u001b[0;34m\u001b[0m\u001b[0;34m\u001b[0m\u001b[0m\n",
      "\u001b[0;32m/opt/conda/lib/python3.9/site-packages/pandas/core/indexes/base.py\u001b[0m in \u001b[0;36mget_loc\u001b[0;34m(self, key, method, tolerance)\u001b[0m\n\u001b[1;32m   3080\u001b[0m                 \u001b[0;32mreturn\u001b[0m \u001b[0mself\u001b[0m\u001b[0;34m.\u001b[0m\u001b[0m_engine\u001b[0m\u001b[0;34m.\u001b[0m\u001b[0mget_loc\u001b[0m\u001b[0;34m(\u001b[0m\u001b[0mcasted_key\u001b[0m\u001b[0;34m)\u001b[0m\u001b[0;34m\u001b[0m\u001b[0;34m\u001b[0m\u001b[0m\n\u001b[1;32m   3081\u001b[0m             \u001b[0;32mexcept\u001b[0m \u001b[0mKeyError\u001b[0m \u001b[0;32mas\u001b[0m \u001b[0merr\u001b[0m\u001b[0;34m:\u001b[0m\u001b[0;34m\u001b[0m\u001b[0;34m\u001b[0m\u001b[0m\n\u001b[0;32m-> 3082\u001b[0;31m                 \u001b[0;32mraise\u001b[0m \u001b[0mKeyError\u001b[0m\u001b[0;34m(\u001b[0m\u001b[0mkey\u001b[0m\u001b[0;34m)\u001b[0m \u001b[0;32mfrom\u001b[0m \u001b[0merr\u001b[0m\u001b[0;34m\u001b[0m\u001b[0;34m\u001b[0m\u001b[0m\n\u001b[0m\u001b[1;32m   3083\u001b[0m \u001b[0;34m\u001b[0m\u001b[0m\n\u001b[1;32m   3084\u001b[0m         \u001b[0;32mif\u001b[0m \u001b[0mtolerance\u001b[0m \u001b[0;32mis\u001b[0m \u001b[0;32mnot\u001b[0m \u001b[0;32mNone\u001b[0m\u001b[0;34m:\u001b[0m\u001b[0;34m\u001b[0m\u001b[0;34m\u001b[0m\u001b[0m\n",
      "\u001b[0;31mKeyError\u001b[0m: 'start_ride_price'"
     ]
    }
   ],
   "source": [
    "data_r['revenue'] = (\n",
    "    data_r['start_ride_price'] * data_r['count'] + \n",
    "    data_r['minute_price'] * data_r['duration'] + \n",
    "    data_r['subscription_fee']\n",
    ")\n",
    "data_r.head()"
   ]
  },
  {
   "cell_type": "code",
   "execution_count": null,
   "id": "1e15abd7",
   "metadata": {},
   "outputs": [],
   "source": [
    "revenue = data_r.pivot_table(index='subscription_type', values='revenue', aggfunc=['count', 'mean','sum'])\n",
    "print(revenue)\n",
    "data_r.groupby('subscription_type')['revenue'].hist()\n",
    "plt.title('Доход от поездок с подпиской и без')\n",
    "plt.xlabel('Доход')\n",
    "plt.ylabel('К-во поездок')\n",
    "plt.show()"
   ]
  },
  {
   "cell_type": "markdown",
   "id": "6c3c3255",
   "metadata": {},
   "source": [
    "**Подсчет выручки показал, что в целом больший доход приносят пользователи без подписки, так как их большинство. Но в среднем пользователь с подпиской приносит больше дохода.**"
   ]
  },
  {
   "cell_type": "markdown",
   "id": "41545ac0",
   "metadata": {},
   "source": [
    "### Шаг 6. Проверка гипотез"
   ]
  },
  {
   "cell_type": "markdown",
   "id": "c3df14b8",
   "metadata": {},
   "source": [
    "#### 6.1 Тратят ли пользователи с подпиской больше времени на поездки?\n",
    "**Нулевая гипотеза Н0:** среднее время поездки равно для обоих категорий подписок  \n",
    "**Альтернативная гипотеза Н1:** пользователи с подпиской больше времени на поездки, чем пользователи без подписки"
   ]
  },
  {
   "cell_type": "code",
   "execution_count": null,
   "id": "23ea867b",
   "metadata": {},
   "outputs": [],
   "source": [
    "alpha = 0.05 \n",
    "results = st.ttest_ind(ultra['duration'], free['duration'], alternative='greater')\n",
    "print('p-значение:', results.pvalue)\n",
    "print(ultra['duration'].mean())\n",
    "print(free['duration'].mean())\n",
    "if results.pvalue < alpha:\n",
    "    print('Отвергаем нулевую гипотезу')\n",
    "else:\n",
    "    print('Нет оснований отвергнуть нулевую гипотезу')"
   ]
  },
  {
   "cell_type": "markdown",
   "id": "51d69200",
   "metadata": {},
   "source": [
    "**Вывод:** есть основания утверждать, что пользователи с подпиской тратят больше времени на поездки."
   ]
  },
  {
   "cell_type": "markdown",
   "id": "457c10bd",
   "metadata": {},
   "source": [
    "#### 6.2 Превышает ли среднее расстояние, которое проезжают пользователи с подпиской за одну поездку оптимальные 3130 метров?\n",
    "Расстояние одной поездки в 3130 метров — оптимальное с точки зрения износа самоката.  \n",
    "**Нулевая гипотеза Н0:** среднее расстояние поездки пользователя с подпиской равно 3130 метров  \n",
    "**Альтернативная гипотеза Н1:** среднее расстояние поездки пользователя с подпиской более 3130 метров"
   ]
  },
  {
   "cell_type": "code",
   "execution_count": null,
   "id": "ec04967c",
   "metadata": {
    "scrolled": true
   },
   "outputs": [],
   "source": [
    "interested_value = 3130 \n",
    "alpha = 0.05\n",
    "\n",
    "results = st.ttest_1samp(\n",
    "   ultra['distance'], \n",
    "   interested_value,\n",
    "   alternative='greater') \n",
    "\n",
    "print('p-значение:', results.pvalue)\n",
    "print(ultra['distance'].mean())\n",
    "if results.pvalue < alpha:\n",
    "    print('Отвергаем нулевую гипотезу')\n",
    "else:\n",
    "    print('Нет оснований отвергнуть нулевую гипотезу')"
   ]
  },
  {
   "cell_type": "markdown",
   "id": "c6609c60",
   "metadata": {},
   "source": [
    "**Вывод:** среднее расстояние поездки пользователя с подпиской не превышает оптимальные 3130 метров."
   ]
  },
  {
   "cell_type": "markdown",
   "id": "981304a7",
   "metadata": {},
   "source": [
    "#### 6.3 Будет ли помесячная выручка от пользователей с подпиской по месяцам выше, чем выручка от пользователей без подписки?  \n",
    "**Нулевая гипотеза Н0:** помесячная выручка от пользователей с подпиской и без равны.    \n",
    "**Альтернативная гипотеза Н1:** помесячная выручка от пользователей с подпиской по месяцам выше, чем выручка от пользователей без подписки."
   ]
  },
  {
   "cell_type": "code",
   "execution_count": null,
   "id": "411a8a36",
   "metadata": {
    "scrolled": true
   },
   "outputs": [],
   "source": [
    "ultra_r = data_r.query('subscription_type == \"ultra\"')\n",
    "free_r = data_r.query('subscription_type == \"free\"')\n",
    "alpha = 0.05 \n",
    "results = st.ttest_ind(ultra_r['revenue'], free_r['revenue'], alternative='greater')\n",
    "print('p-значение:', results.pvalue)\n",
    "print(ultra_r['revenue'].mean())\n",
    "print(free_r['revenue'].mean())\n",
    "if results.pvalue < alpha:\n",
    "    print('Отвергаем нулевую гипотезу')\n",
    "else:\n",
    "    print('Нет оснований отвергнуть нулевую гипотезу')"
   ]
  },
  {
   "cell_type": "markdown",
   "id": "013665ab",
   "metadata": {},
   "source": [
    "**Вывод:** помесячная выручка от пользователей с подпиской по месяцам выше, чем выручка от пользователей без подписки."
   ]
  },
  {
   "cell_type": "markdown",
   "id": "dea3a164",
   "metadata": {},
   "source": [
    "#### 6.4 \n",
    "Техническая команда сервиса обновила сервера, с которыми взаимодействует мобильное приложение. Она надеется, что из-за этого количество обращений в техподдержку значимо снизилось. Некоторый файл содержит для каждого пользователя данные о количестве обращений до обновления и после него. Данный файл предоставлен не был. Для проверки этой гипотезы будет проведен тест для проверки равенства средних для зависимых (парных) выборок: *scipy.stats.ttest_rel()*. А именно, проверится правосторонняя альтернативная гипотеза,  как только предоставят данные."
   ]
  },
  {
   "cell_type": "markdown",
   "id": "6a0bd768",
   "metadata": {},
   "source": [
    "### Выводы  \n",
    "В ходе исследования были изучены данные сервиса проката самокатов GoFast о пользователях и их поездках. Были сделаны следующие выводы:  \n",
    "- пользователей без подписки больше чем с ней;\n",
    "- большинство пользователей сервиса возрастом с 20 до 30 лет;\n",
    "- среднее растояние одной поездки примерно 3100 м;\n",
    "- среднее время поездки 15-20 минут;\n",
    "- больше всего поездок совершают пользователи без подписки;  \n",
    "\n",
    "Подсчет выручки показал, что в целом больший доход приносят пользователи без подписки, так как их большинство. Но в среднем пользователь с подпиской приносит больше дохода. \n",
    "\n",
    "По результатам проверки гипотез сделаны выводы:\n",
    "- есть основания утверждать, что пользователи с подпиской тратят больше времени на поездки;  \n",
    "- среднее расстояние поездки пользователя с подпиской не превышает оптимальные 3130 метров; \n",
    "- помесячная выручка от пользователей с подпиской по месяцам выше, чем выручка от пользователей без подписки.\n",
    "\n",
    "Исследование показало, что обе группы пользователей важны. Стоит учитывать интересы каждой из них при изменениях в работе сервиса."
   ]
  }
 ],
 "metadata": {
  "ExecuteTimeLog": [
   {
    "duration": 563,
    "start_time": "2024-03-31T21:25:02.608Z"
   },
   {
    "duration": 15,
    "start_time": "2024-03-31T21:25:03.313Z"
   },
   {
    "duration": 11,
    "start_time": "2024-03-31T21:25:04.328Z"
   },
   {
    "duration": 8,
    "start_time": "2024-03-31T21:25:04.941Z"
   },
   {
    "duration": 9,
    "start_time": "2024-03-31T21:26:10.946Z"
   },
   {
    "duration": 15,
    "start_time": "2024-03-31T21:26:54.166Z"
   },
   {
    "duration": 16,
    "start_time": "2024-03-31T21:27:23.064Z"
   },
   {
    "duration": 14,
    "start_time": "2024-03-31T21:27:36.571Z"
   },
   {
    "duration": 9,
    "start_time": "2024-03-31T21:33:39.973Z"
   },
   {
    "duration": 44,
    "start_time": "2024-03-31T21:33:51.659Z"
   },
   {
    "duration": 13,
    "start_time": "2024-03-31T21:36:50.909Z"
   },
   {
    "duration": 18,
    "start_time": "2024-03-31T21:43:24.007Z"
   },
   {
    "duration": 16,
    "start_time": "2024-03-31T21:43:59.091Z"
   },
   {
    "duration": 15,
    "start_time": "2024-03-31T21:44:13.165Z"
   },
   {
    "duration": 9,
    "start_time": "2024-03-31T21:45:41.181Z"
   },
   {
    "duration": 12,
    "start_time": "2024-03-31T21:45:55.319Z"
   },
   {
    "duration": 98,
    "start_time": "2024-03-31T21:46:18.989Z"
   },
   {
    "duration": 19,
    "start_time": "2024-03-31T21:46:28.499Z"
   },
   {
    "duration": 12,
    "start_time": "2024-03-31T21:46:41.261Z"
   },
   {
    "duration": 11,
    "start_time": "2024-03-31T21:54:13.389Z"
   },
   {
    "duration": 513,
    "start_time": "2024-03-31T22:00:26.803Z"
   },
   {
    "duration": 190,
    "start_time": "2024-03-31T22:00:31.955Z"
   },
   {
    "duration": 167,
    "start_time": "2024-03-31T22:00:46.725Z"
   },
   {
    "duration": 225,
    "start_time": "2024-03-31T22:01:32.828Z"
   },
   {
    "duration": 243,
    "start_time": "2024-03-31T22:01:43.790Z"
   },
   {
    "duration": 141,
    "start_time": "2024-03-31T22:02:11.356Z"
   },
   {
    "duration": 165,
    "start_time": "2024-03-31T22:02:32.245Z"
   },
   {
    "duration": 175,
    "start_time": "2024-03-31T22:03:46.587Z"
   },
   {
    "duration": 140,
    "start_time": "2024-03-31T22:03:56.141Z"
   },
   {
    "duration": 126,
    "start_time": "2024-03-31T22:07:05.739Z"
   },
   {
    "duration": 130,
    "start_time": "2024-03-31T22:07:37.567Z"
   },
   {
    "duration": 101,
    "start_time": "2024-03-31T22:07:41.883Z"
   },
   {
    "duration": 139,
    "start_time": "2024-03-31T22:07:46.661Z"
   },
   {
    "duration": 159,
    "start_time": "2024-03-31T22:09:56.806Z"
   },
   {
    "duration": 204,
    "start_time": "2024-03-31T22:11:01.953Z"
   },
   {
    "duration": 96,
    "start_time": "2024-03-31T22:11:16.323Z"
   },
   {
    "duration": 126,
    "start_time": "2024-03-31T22:12:44.846Z"
   },
   {
    "duration": 146,
    "start_time": "2024-03-31T22:13:39.230Z"
   },
   {
    "duration": 109,
    "start_time": "2024-03-31T22:27:21.637Z"
   },
   {
    "duration": 127,
    "start_time": "2024-03-31T22:27:33.302Z"
   },
   {
    "duration": 141,
    "start_time": "2024-03-31T22:28:59.963Z"
   },
   {
    "duration": 161,
    "start_time": "2024-03-31T22:29:04.734Z"
   },
   {
    "duration": 162,
    "start_time": "2024-03-31T22:30:47.136Z"
   },
   {
    "duration": 169,
    "start_time": "2024-03-31T22:30:56.416Z"
   },
   {
    "duration": 868,
    "start_time": "2024-03-31T22:31:53.998Z"
   },
   {
    "duration": 186,
    "start_time": "2024-03-31T22:31:59.305Z"
   },
   {
    "duration": 242,
    "start_time": "2024-03-31T22:33:09.817Z"
   },
   {
    "duration": 175,
    "start_time": "2024-03-31T22:33:20.884Z"
   },
   {
    "duration": 176,
    "start_time": "2024-03-31T22:33:27.437Z"
   },
   {
    "duration": 193,
    "start_time": "2024-03-31T22:33:35.711Z"
   },
   {
    "duration": 171,
    "start_time": "2024-03-31T22:33:43.736Z"
   },
   {
    "duration": 194,
    "start_time": "2024-03-31T22:33:52.265Z"
   },
   {
    "duration": 176,
    "start_time": "2024-03-31T22:34:01.516Z"
   },
   {
    "duration": 171,
    "start_time": "2024-03-31T22:34:05.870Z"
   },
   {
    "duration": 179,
    "start_time": "2024-03-31T22:34:16.647Z"
   },
   {
    "duration": 184,
    "start_time": "2024-03-31T22:34:22.053Z"
   },
   {
    "duration": 18,
    "start_time": "2024-03-31T22:39:12.444Z"
   },
   {
    "duration": 197,
    "start_time": "2024-03-31T22:39:54.088Z"
   },
   {
    "duration": 42,
    "start_time": "2024-03-31T22:43:42.876Z"
   },
   {
    "duration": 120,
    "start_time": "2024-03-31T22:44:17.225Z"
   },
   {
    "duration": 14,
    "start_time": "2024-03-31T22:44:24.902Z"
   },
   {
    "duration": 40,
    "start_time": "2024-03-31T22:44:50.314Z"
   },
   {
    "duration": 22,
    "start_time": "2024-03-31T22:45:43.038Z"
   },
   {
    "duration": 22,
    "start_time": "2024-03-31T22:45:46.585Z"
   },
   {
    "duration": 220,
    "start_time": "2024-03-31T22:48:03.023Z"
   },
   {
    "duration": 216,
    "start_time": "2024-03-31T22:48:15.246Z"
   },
   {
    "duration": 153,
    "start_time": "2024-03-31T22:49:12.200Z"
   },
   {
    "duration": 167,
    "start_time": "2024-03-31T22:49:12.518Z"
   },
   {
    "duration": 133,
    "start_time": "2024-03-31T22:49:12.985Z"
   },
   {
    "duration": 200,
    "start_time": "2024-03-31T22:49:13.580Z"
   },
   {
    "duration": 54,
    "start_time": "2024-04-01T11:29:28.838Z"
   },
   {
    "duration": 749,
    "start_time": "2024-04-01T11:29:36.648Z"
   },
   {
    "duration": 24,
    "start_time": "2024-04-01T11:29:37.399Z"
   },
   {
    "duration": 29,
    "start_time": "2024-04-01T11:29:37.424Z"
   },
   {
    "duration": 28,
    "start_time": "2024-04-01T11:29:37.455Z"
   },
   {
    "duration": 18,
    "start_time": "2024-04-01T11:29:37.485Z"
   },
   {
    "duration": 13,
    "start_time": "2024-04-01T11:29:37.505Z"
   },
   {
    "duration": 15,
    "start_time": "2024-04-01T11:29:37.519Z"
   },
   {
    "duration": 13,
    "start_time": "2024-04-01T11:29:37.535Z"
   },
   {
    "duration": 615,
    "start_time": "2024-04-01T11:29:37.550Z"
   },
   {
    "duration": 140,
    "start_time": "2024-04-01T11:29:38.168Z"
   },
   {
    "duration": 169,
    "start_time": "2024-04-01T11:29:38.309Z"
   },
   {
    "duration": 204,
    "start_time": "2024-04-01T11:29:38.480Z"
   },
   {
    "duration": 271,
    "start_time": "2024-04-01T11:29:38.686Z"
   },
   {
    "duration": 2,
    "start_time": "2024-04-01T11:29:38.960Z"
   },
   {
    "duration": 55,
    "start_time": "2024-04-01T11:29:38.964Z"
   },
   {
    "duration": 26,
    "start_time": "2024-04-01T11:29:39.021Z"
   },
   {
    "duration": 39,
    "start_time": "2024-04-01T11:29:39.049Z"
   },
   {
    "duration": 183,
    "start_time": "2024-04-01T11:29:39.091Z"
   },
   {
    "duration": 189,
    "start_time": "2024-04-01T11:29:39.280Z"
   },
   {
    "duration": 169,
    "start_time": "2024-04-01T11:29:39.471Z"
   },
   {
    "duration": 180,
    "start_time": "2024-04-01T11:29:39.642Z"
   },
   {
    "duration": 10,
    "start_time": "2024-04-01T11:33:09.318Z"
   },
   {
    "duration": 10,
    "start_time": "2024-04-01T11:35:03.891Z"
   },
   {
    "duration": 83,
    "start_time": "2024-04-01T11:36:55.626Z"
   },
   {
    "duration": 463,
    "start_time": "2024-04-01T11:37:12.939Z"
   },
   {
    "duration": 26,
    "start_time": "2024-04-01T11:37:13.404Z"
   },
   {
    "duration": 21,
    "start_time": "2024-04-01T11:37:13.431Z"
   },
   {
    "duration": 16,
    "start_time": "2024-04-01T11:37:13.454Z"
   },
   {
    "duration": 15,
    "start_time": "2024-04-01T11:37:13.472Z"
   },
   {
    "duration": 27,
    "start_time": "2024-04-01T11:37:13.489Z"
   },
   {
    "duration": 17,
    "start_time": "2024-04-01T11:37:13.517Z"
   },
   {
    "duration": 17,
    "start_time": "2024-04-01T11:37:13.535Z"
   },
   {
    "duration": 434,
    "start_time": "2024-04-01T11:37:13.553Z"
   },
   {
    "duration": 126,
    "start_time": "2024-04-01T11:37:13.989Z"
   },
   {
    "duration": 158,
    "start_time": "2024-04-01T11:37:14.116Z"
   },
   {
    "duration": 204,
    "start_time": "2024-04-01T11:37:14.280Z"
   },
   {
    "duration": 223,
    "start_time": "2024-04-01T11:37:14.487Z"
   },
   {
    "duration": 98,
    "start_time": "2024-04-01T11:37:14.712Z"
   },
   {
    "duration": 0,
    "start_time": "2024-04-01T11:37:14.812Z"
   },
   {
    "duration": 0,
    "start_time": "2024-04-01T11:37:14.814Z"
   },
   {
    "duration": 0,
    "start_time": "2024-04-01T11:37:14.816Z"
   },
   {
    "duration": 0,
    "start_time": "2024-04-01T11:37:14.817Z"
   },
   {
    "duration": 0,
    "start_time": "2024-04-01T11:37:14.819Z"
   },
   {
    "duration": 0,
    "start_time": "2024-04-01T11:37:14.821Z"
   },
   {
    "duration": 0,
    "start_time": "2024-04-01T11:37:14.822Z"
   },
   {
    "duration": 452,
    "start_time": "2024-04-01T11:38:44.926Z"
   },
   {
    "duration": 26,
    "start_time": "2024-04-01T11:38:45.380Z"
   },
   {
    "duration": 52,
    "start_time": "2024-04-01T11:38:45.407Z"
   },
   {
    "duration": 26,
    "start_time": "2024-04-01T11:38:45.462Z"
   },
   {
    "duration": 21,
    "start_time": "2024-04-01T11:38:45.490Z"
   },
   {
    "duration": 31,
    "start_time": "2024-04-01T11:38:45.512Z"
   },
   {
    "duration": 16,
    "start_time": "2024-04-01T11:38:45.545Z"
   },
   {
    "duration": 18,
    "start_time": "2024-04-01T11:38:45.562Z"
   },
   {
    "duration": 442,
    "start_time": "2024-04-01T11:38:45.581Z"
   },
   {
    "duration": 126,
    "start_time": "2024-04-01T11:38:46.025Z"
   },
   {
    "duration": 154,
    "start_time": "2024-04-01T11:38:46.153Z"
   },
   {
    "duration": 200,
    "start_time": "2024-04-01T11:38:46.309Z"
   },
   {
    "duration": 211,
    "start_time": "2024-04-01T11:38:46.511Z"
   },
   {
    "duration": 91,
    "start_time": "2024-04-01T11:38:46.723Z"
   },
   {
    "duration": 0,
    "start_time": "2024-04-01T11:38:46.816Z"
   },
   {
    "duration": 0,
    "start_time": "2024-04-01T11:38:46.817Z"
   },
   {
    "duration": 0,
    "start_time": "2024-04-01T11:38:46.818Z"
   },
   {
    "duration": 0,
    "start_time": "2024-04-01T11:38:46.819Z"
   },
   {
    "duration": 0,
    "start_time": "2024-04-01T11:38:46.820Z"
   },
   {
    "duration": 0,
    "start_time": "2024-04-01T11:38:46.821Z"
   },
   {
    "duration": 0,
    "start_time": "2024-04-01T11:38:46.822Z"
   },
   {
    "duration": 523,
    "start_time": "2024-04-01T11:38:56.169Z"
   },
   {
    "duration": 25,
    "start_time": "2024-04-01T11:38:56.694Z"
   },
   {
    "duration": 20,
    "start_time": "2024-04-01T11:38:56.721Z"
   },
   {
    "duration": 16,
    "start_time": "2024-04-01T11:38:56.743Z"
   },
   {
    "duration": 24,
    "start_time": "2024-04-01T11:38:56.761Z"
   },
   {
    "duration": 20,
    "start_time": "2024-04-01T11:38:56.787Z"
   },
   {
    "duration": 16,
    "start_time": "2024-04-01T11:38:56.811Z"
   },
   {
    "duration": 8,
    "start_time": "2024-04-01T11:38:56.828Z"
   },
   {
    "duration": 445,
    "start_time": "2024-04-01T11:38:56.838Z"
   },
   {
    "duration": 131,
    "start_time": "2024-04-01T11:38:57.286Z"
   },
   {
    "duration": 155,
    "start_time": "2024-04-01T11:38:57.419Z"
   },
   {
    "duration": 188,
    "start_time": "2024-04-01T11:38:57.579Z"
   },
   {
    "duration": 213,
    "start_time": "2024-04-01T11:38:57.769Z"
   },
   {
    "duration": 14,
    "start_time": "2024-04-01T11:38:57.984Z"
   },
   {
    "duration": 106,
    "start_time": "2024-04-01T11:38:58.000Z"
   },
   {
    "duration": 34,
    "start_time": "2024-04-01T11:38:58.108Z"
   },
   {
    "duration": 47,
    "start_time": "2024-04-01T11:38:58.143Z"
   },
   {
    "duration": 203,
    "start_time": "2024-04-01T11:38:58.192Z"
   },
   {
    "duration": 205,
    "start_time": "2024-04-01T11:38:58.397Z"
   },
   {
    "duration": 176,
    "start_time": "2024-04-01T11:38:58.604Z"
   },
   {
    "duration": 168,
    "start_time": "2024-04-01T11:38:58.781Z"
   },
   {
    "duration": 16,
    "start_time": "2024-04-01T11:50:46.508Z"
   },
   {
    "duration": 25,
    "start_time": "2024-04-01T11:50:54.672Z"
   },
   {
    "duration": 88,
    "start_time": "2024-04-01T11:57:08.477Z"
   },
   {
    "duration": 23,
    "start_time": "2024-04-01T11:57:24.073Z"
   },
   {
    "duration": 53,
    "start_time": "2024-04-01T20:52:59.407Z"
   },
   {
    "duration": 746,
    "start_time": "2024-04-01T20:53:14.574Z"
   },
   {
    "duration": 25,
    "start_time": "2024-04-01T20:53:15.322Z"
   },
   {
    "duration": 24,
    "start_time": "2024-04-01T20:53:15.349Z"
   },
   {
    "duration": 33,
    "start_time": "2024-04-01T20:53:15.375Z"
   },
   {
    "duration": 22,
    "start_time": "2024-04-01T20:53:15.410Z"
   },
   {
    "duration": 13,
    "start_time": "2024-04-01T20:53:15.433Z"
   },
   {
    "duration": 17,
    "start_time": "2024-04-01T20:53:15.447Z"
   },
   {
    "duration": 18,
    "start_time": "2024-04-01T20:53:15.465Z"
   },
   {
    "duration": 619,
    "start_time": "2024-04-01T20:53:15.485Z"
   },
   {
    "duration": 126,
    "start_time": "2024-04-01T20:53:16.105Z"
   },
   {
    "duration": 152,
    "start_time": "2024-04-01T20:53:16.233Z"
   },
   {
    "duration": 201,
    "start_time": "2024-04-01T20:53:16.387Z"
   },
   {
    "duration": 276,
    "start_time": "2024-04-01T20:53:16.590Z"
   },
   {
    "duration": 12,
    "start_time": "2024-04-01T20:53:16.873Z"
   },
   {
    "duration": 31,
    "start_time": "2024-04-01T20:53:16.887Z"
   },
   {
    "duration": 25,
    "start_time": "2024-04-01T20:53:16.920Z"
   },
   {
    "duration": 55,
    "start_time": "2024-04-01T20:53:16.947Z"
   },
   {
    "duration": 210,
    "start_time": "2024-04-01T20:53:17.004Z"
   },
   {
    "duration": 182,
    "start_time": "2024-04-01T20:53:17.215Z"
   },
   {
    "duration": 155,
    "start_time": "2024-04-01T20:53:17.398Z"
   },
   {
    "duration": 161,
    "start_time": "2024-04-01T20:53:17.554Z"
   },
   {
    "duration": 24,
    "start_time": "2024-04-01T20:53:17.716Z"
   },
   {
    "duration": 39,
    "start_time": "2024-04-01T20:53:17.741Z"
   },
   {
    "duration": 641,
    "start_time": "2024-04-02T20:11:46.658Z"
   },
   {
    "duration": 24,
    "start_time": "2024-04-02T20:11:47.301Z"
   },
   {
    "duration": 17,
    "start_time": "2024-04-02T20:11:47.327Z"
   },
   {
    "duration": 14,
    "start_time": "2024-04-02T20:11:47.346Z"
   },
   {
    "duration": 19,
    "start_time": "2024-04-02T20:11:47.362Z"
   },
   {
    "duration": 11,
    "start_time": "2024-04-02T20:11:47.383Z"
   },
   {
    "duration": 15,
    "start_time": "2024-04-02T20:11:47.396Z"
   },
   {
    "duration": 8,
    "start_time": "2024-04-02T20:11:47.413Z"
   },
   {
    "duration": 626,
    "start_time": "2024-04-02T20:11:47.422Z"
   },
   {
    "duration": 116,
    "start_time": "2024-04-02T20:11:48.051Z"
   },
   {
    "duration": 167,
    "start_time": "2024-04-02T20:11:48.168Z"
   },
   {
    "duration": 187,
    "start_time": "2024-04-02T20:11:48.337Z"
   },
   {
    "duration": 260,
    "start_time": "2024-04-02T20:11:48.525Z"
   },
   {
    "duration": 11,
    "start_time": "2024-04-02T20:11:48.787Z"
   },
   {
    "duration": 29,
    "start_time": "2024-04-02T20:11:48.799Z"
   },
   {
    "duration": 23,
    "start_time": "2024-04-02T20:11:48.830Z"
   },
   {
    "duration": 50,
    "start_time": "2024-04-02T20:11:48.855Z"
   },
   {
    "duration": 191,
    "start_time": "2024-04-02T20:11:48.907Z"
   },
   {
    "duration": 186,
    "start_time": "2024-04-02T20:11:49.100Z"
   },
   {
    "duration": 157,
    "start_time": "2024-04-02T20:11:49.287Z"
   },
   {
    "duration": 164,
    "start_time": "2024-04-02T20:11:49.445Z"
   },
   {
    "duration": 91,
    "start_time": "2024-04-02T20:11:49.611Z"
   },
   {
    "duration": 0,
    "start_time": "2024-04-02T20:11:49.704Z"
   },
   {
    "duration": 40,
    "start_time": "2024-04-02T20:12:03.932Z"
   },
   {
    "duration": 42,
    "start_time": "2024-04-02T20:12:52.647Z"
   },
   {
    "duration": 4,
    "start_time": "2024-04-02T21:47:48.333Z"
   },
   {
    "duration": 23,
    "start_time": "2024-04-02T21:47:49.633Z"
   },
   {
    "duration": 81,
    "start_time": "2024-04-02T21:48:20.772Z"
   },
   {
    "duration": 3,
    "start_time": "2024-04-02T21:48:34.749Z"
   },
   {
    "duration": 4,
    "start_time": "2024-04-02T21:48:38.991Z"
   },
   {
    "duration": 14,
    "start_time": "2024-04-02T21:48:39.908Z"
   },
   {
    "duration": 3,
    "start_time": "2024-04-02T22:00:39.815Z"
   },
   {
    "duration": 14,
    "start_time": "2024-04-02T22:00:42.858Z"
   },
   {
    "duration": 113,
    "start_time": "2024-04-02T22:01:06.460Z"
   },
   {
    "duration": 15,
    "start_time": "2024-04-02T22:01:07.146Z"
   },
   {
    "duration": 3,
    "start_time": "2024-04-02T22:01:29.741Z"
   },
   {
    "duration": 14,
    "start_time": "2024-04-02T22:01:32.388Z"
   },
   {
    "duration": 4,
    "start_time": "2024-04-02T22:02:33.210Z"
   },
   {
    "duration": 28,
    "start_time": "2024-04-02T22:02:33.745Z"
   },
   {
    "duration": 483,
    "start_time": "2024-04-02T22:02:44.607Z"
   },
   {
    "duration": 25,
    "start_time": "2024-04-02T22:02:45.092Z"
   },
   {
    "duration": 52,
    "start_time": "2024-04-02T22:02:45.118Z"
   },
   {
    "duration": 20,
    "start_time": "2024-04-02T22:02:45.172Z"
   },
   {
    "duration": 33,
    "start_time": "2024-04-02T22:02:45.193Z"
   },
   {
    "duration": 36,
    "start_time": "2024-04-02T22:02:45.228Z"
   },
   {
    "duration": 56,
    "start_time": "2024-04-02T22:02:45.266Z"
   },
   {
    "duration": 44,
    "start_time": "2024-04-02T22:02:45.324Z"
   },
   {
    "duration": 504,
    "start_time": "2024-04-02T22:02:45.370Z"
   },
   {
    "duration": 132,
    "start_time": "2024-04-02T22:02:45.881Z"
   },
   {
    "duration": 171,
    "start_time": "2024-04-02T22:02:46.015Z"
   },
   {
    "duration": 205,
    "start_time": "2024-04-02T22:02:46.188Z"
   },
   {
    "duration": 205,
    "start_time": "2024-04-02T22:02:46.395Z"
   },
   {
    "duration": 11,
    "start_time": "2024-04-02T22:02:46.602Z"
   },
   {
    "duration": 101,
    "start_time": "2024-04-02T22:02:46.615Z"
   },
   {
    "duration": 25,
    "start_time": "2024-04-02T22:02:46.718Z"
   },
   {
    "duration": 49,
    "start_time": "2024-04-02T22:02:46.744Z"
   },
   {
    "duration": 177,
    "start_time": "2024-04-02T22:02:46.794Z"
   },
   {
    "duration": 187,
    "start_time": "2024-04-02T22:02:46.973Z"
   },
   {
    "duration": 164,
    "start_time": "2024-04-02T22:02:47.161Z"
   },
   {
    "duration": 166,
    "start_time": "2024-04-02T22:02:47.326Z"
   },
   {
    "duration": 43,
    "start_time": "2024-04-02T22:02:47.493Z"
   },
   {
    "duration": 4,
    "start_time": "2024-04-02T22:02:47.537Z"
   },
   {
    "duration": 105,
    "start_time": "2024-04-02T22:02:47.542Z"
   },
   {
    "duration": 3,
    "start_time": "2024-04-02T22:03:02.626Z"
   },
   {
    "duration": 14,
    "start_time": "2024-04-02T22:03:02.965Z"
   },
   {
    "duration": 81,
    "start_time": "2024-04-02T22:04:23.792Z"
   },
   {
    "duration": 82,
    "start_time": "2024-04-02T22:31:01.890Z"
   },
   {
    "duration": 4,
    "start_time": "2024-04-02T22:31:15.796Z"
   },
   {
    "duration": 16,
    "start_time": "2024-04-02T22:32:08.264Z"
   },
   {
    "duration": 3,
    "start_time": "2024-04-02T22:32:26.062Z"
   },
   {
    "duration": 14,
    "start_time": "2024-04-02T22:32:26.763Z"
   },
   {
    "duration": 60,
    "start_time": "2024-04-02T22:33:26.816Z"
   },
   {
    "duration": 3,
    "start_time": "2024-04-02T22:34:41.814Z"
   },
   {
    "duration": 15,
    "start_time": "2024-04-02T22:34:49.880Z"
   },
   {
    "duration": 4,
    "start_time": "2024-04-02T22:35:37.038Z"
   },
   {
    "duration": 14,
    "start_time": "2024-04-02T22:35:38.538Z"
   },
   {
    "duration": 3,
    "start_time": "2024-04-02T22:36:51.489Z"
   },
   {
    "duration": 15,
    "start_time": "2024-04-02T22:36:51.851Z"
   },
   {
    "duration": 1061,
    "start_time": "2024-04-02T22:50:47.252Z"
   },
   {
    "duration": 42,
    "start_time": "2024-04-02T22:52:31.904Z"
   },
   {
    "duration": 3,
    "start_time": "2024-04-02T22:53:22.749Z"
   },
   {
    "duration": 18,
    "start_time": "2024-04-02T22:53:23.313Z"
   },
   {
    "duration": 513,
    "start_time": "2024-04-02T22:56:44.960Z"
   },
   {
    "duration": 24,
    "start_time": "2024-04-02T22:56:45.474Z"
   },
   {
    "duration": 26,
    "start_time": "2024-04-02T22:56:45.499Z"
   },
   {
    "duration": 18,
    "start_time": "2024-04-02T22:56:45.527Z"
   },
   {
    "duration": 14,
    "start_time": "2024-04-02T22:56:45.547Z"
   },
   {
    "duration": 19,
    "start_time": "2024-04-02T22:56:45.563Z"
   },
   {
    "duration": 17,
    "start_time": "2024-04-02T22:56:45.584Z"
   },
   {
    "duration": 10,
    "start_time": "2024-04-02T22:56:45.602Z"
   },
   {
    "duration": 423,
    "start_time": "2024-04-02T22:56:45.615Z"
   },
   {
    "duration": 121,
    "start_time": "2024-04-02T22:56:46.040Z"
   },
   {
    "duration": 164,
    "start_time": "2024-04-02T22:56:46.162Z"
   },
   {
    "duration": 198,
    "start_time": "2024-04-02T22:56:46.328Z"
   },
   {
    "duration": 205,
    "start_time": "2024-04-02T22:56:46.528Z"
   },
   {
    "duration": 12,
    "start_time": "2024-04-02T22:56:46.735Z"
   },
   {
    "duration": 93,
    "start_time": "2024-04-02T22:56:46.749Z"
   },
   {
    "duration": 40,
    "start_time": "2024-04-02T22:56:46.844Z"
   },
   {
    "duration": 25,
    "start_time": "2024-04-02T22:56:46.885Z"
   },
   {
    "duration": 185,
    "start_time": "2024-04-02T22:56:46.911Z"
   },
   {
    "duration": 178,
    "start_time": "2024-04-02T22:56:47.097Z"
   },
   {
    "duration": 164,
    "start_time": "2024-04-02T22:56:47.277Z"
   },
   {
    "duration": 182,
    "start_time": "2024-04-02T22:56:47.443Z"
   },
   {
    "duration": 56,
    "start_time": "2024-04-02T22:56:47.627Z"
   },
   {
    "duration": 3,
    "start_time": "2024-04-02T22:56:47.685Z"
   },
   {
    "duration": 105,
    "start_time": "2024-04-02T22:56:47.689Z"
   },
   {
    "duration": 43,
    "start_time": "2024-04-02T22:57:37.943Z"
   },
   {
    "duration": 44,
    "start_time": "2024-04-02T22:58:00.408Z"
   },
   {
    "duration": 3,
    "start_time": "2024-04-02T22:58:01.986Z"
   },
   {
    "duration": 20,
    "start_time": "2024-04-02T22:59:37.656Z"
   },
   {
    "duration": 3,
    "start_time": "2024-04-02T23:00:07.605Z"
   },
   {
    "duration": 16,
    "start_time": "2024-04-02T23:00:08.334Z"
   },
   {
    "duration": 2,
    "start_time": "2024-04-02T23:00:29.282Z"
   },
   {
    "duration": 21,
    "start_time": "2024-04-02T23:10:22.546Z"
   },
   {
    "duration": 17,
    "start_time": "2024-04-02T23:11:34.442Z"
   },
   {
    "duration": 20,
    "start_time": "2024-04-02T23:12:03.480Z"
   },
   {
    "duration": 4,
    "start_time": "2024-04-02T23:12:20.387Z"
   },
   {
    "duration": 17,
    "start_time": "2024-04-02T23:12:27.904Z"
   },
   {
    "duration": 2,
    "start_time": "2024-04-02T23:27:41.107Z"
   },
   {
    "duration": 10,
    "start_time": "2024-04-02T23:35:23.621Z"
   },
   {
    "duration": 570,
    "start_time": "2024-04-02T23:35:43.984Z"
   },
   {
    "duration": 88,
    "start_time": "2024-04-02T23:35:47.528Z"
   },
   {
    "duration": 5,
    "start_time": "2024-04-02T23:36:17.928Z"
   },
   {
    "duration": 6,
    "start_time": "2024-04-02T23:36:53.575Z"
   },
   {
    "duration": 10,
    "start_time": "2024-04-02T23:40:22.623Z"
   },
   {
    "duration": 63,
    "start_time": "2024-04-02T23:41:28.807Z"
   },
   {
    "duration": 5,
    "start_time": "2024-04-02T23:41:37.850Z"
   },
   {
    "duration": 8,
    "start_time": "2024-04-02T23:43:47.124Z"
   },
   {
    "duration": 13,
    "start_time": "2024-04-02T23:46:56.960Z"
   },
   {
    "duration": 1027,
    "start_time": "2024-04-03T12:22:57.245Z"
   },
   {
    "duration": 18,
    "start_time": "2024-04-03T12:22:58.273Z"
   },
   {
    "duration": 13,
    "start_time": "2024-04-03T12:22:58.292Z"
   },
   {
    "duration": 10,
    "start_time": "2024-04-03T12:22:58.306Z"
   },
   {
    "duration": 5,
    "start_time": "2024-04-03T12:22:58.318Z"
   },
   {
    "duration": 23,
    "start_time": "2024-04-03T12:22:58.324Z"
   },
   {
    "duration": 10,
    "start_time": "2024-04-03T12:22:58.348Z"
   },
   {
    "duration": 26,
    "start_time": "2024-04-03T12:22:58.359Z"
   },
   {
    "duration": 510,
    "start_time": "2024-04-03T12:22:58.386Z"
   },
   {
    "duration": 96,
    "start_time": "2024-04-03T12:22:58.898Z"
   },
   {
    "duration": 114,
    "start_time": "2024-04-03T12:22:58.996Z"
   },
   {
    "duration": 141,
    "start_time": "2024-04-03T12:22:59.111Z"
   },
   {
    "duration": 153,
    "start_time": "2024-04-03T12:22:59.253Z"
   },
   {
    "duration": 9,
    "start_time": "2024-04-03T12:22:59.407Z"
   },
   {
    "duration": 24,
    "start_time": "2024-04-03T12:22:59.417Z"
   },
   {
    "duration": 19,
    "start_time": "2024-04-03T12:22:59.442Z"
   },
   {
    "duration": 39,
    "start_time": "2024-04-03T12:22:59.463Z"
   },
   {
    "duration": 142,
    "start_time": "2024-04-03T12:22:59.503Z"
   },
   {
    "duration": 144,
    "start_time": "2024-04-03T12:22:59.646Z"
   },
   {
    "duration": 115,
    "start_time": "2024-04-03T12:22:59.791Z"
   },
   {
    "duration": 128,
    "start_time": "2024-04-03T12:22:59.908Z"
   },
   {
    "duration": 93,
    "start_time": "2024-04-03T12:23:00.037Z"
   },
   {
    "duration": 2,
    "start_time": "2024-04-03T12:23:00.131Z"
   },
   {
    "duration": 53,
    "start_time": "2024-04-03T12:23:00.134Z"
   },
   {
    "duration": 44,
    "start_time": "2024-04-03T12:23:00.188Z"
   },
   {
    "duration": 124,
    "start_time": "2024-04-03T12:23:00.233Z"
   },
   {
    "duration": 0,
    "start_time": "2024-04-03T12:23:00.358Z"
   },
   {
    "duration": 0,
    "start_time": "2024-04-03T12:23:00.359Z"
   },
   {
    "duration": 0,
    "start_time": "2024-04-03T12:23:00.360Z"
   },
   {
    "duration": 3,
    "start_time": "2024-04-03T12:23:28.774Z"
   },
   {
    "duration": 4,
    "start_time": "2024-04-03T12:27:16.889Z"
   },
   {
    "duration": 123,
    "start_time": "2024-04-03T12:27:17.469Z"
   },
   {
    "duration": 128,
    "start_time": "2024-04-03T12:27:25.719Z"
   },
   {
    "duration": 9,
    "start_time": "2024-04-03T13:03:46.033Z"
   },
   {
    "duration": 833,
    "start_time": "2024-04-03T13:03:53.910Z"
   },
   {
    "duration": 21,
    "start_time": "2024-04-03T13:03:54.745Z"
   },
   {
    "duration": 14,
    "start_time": "2024-04-03T13:03:54.768Z"
   },
   {
    "duration": 14,
    "start_time": "2024-04-03T13:03:54.784Z"
   },
   {
    "duration": 5,
    "start_time": "2024-04-03T13:03:54.800Z"
   },
   {
    "duration": 12,
    "start_time": "2024-04-03T13:03:54.806Z"
   },
   {
    "duration": 16,
    "start_time": "2024-04-03T13:03:54.819Z"
   },
   {
    "duration": 16,
    "start_time": "2024-04-03T13:03:54.836Z"
   },
   {
    "duration": 376,
    "start_time": "2024-04-03T13:03:54.853Z"
   },
   {
    "duration": 95,
    "start_time": "2024-04-03T13:03:55.231Z"
   },
   {
    "duration": 128,
    "start_time": "2024-04-03T13:03:55.327Z"
   },
   {
    "duration": 162,
    "start_time": "2024-04-03T13:03:55.457Z"
   },
   {
    "duration": 150,
    "start_time": "2024-04-03T13:03:55.620Z"
   },
   {
    "duration": 26,
    "start_time": "2024-04-03T13:03:55.771Z"
   },
   {
    "duration": 24,
    "start_time": "2024-04-03T13:03:55.799Z"
   },
   {
    "duration": 18,
    "start_time": "2024-04-03T13:03:55.824Z"
   },
   {
    "duration": 21,
    "start_time": "2024-04-03T13:03:55.843Z"
   },
   {
    "duration": 137,
    "start_time": "2024-04-03T13:03:55.885Z"
   },
   {
    "duration": 142,
    "start_time": "2024-04-03T13:03:56.023Z"
   },
   {
    "duration": 128,
    "start_time": "2024-04-03T13:03:56.166Z"
   },
   {
    "duration": 133,
    "start_time": "2024-04-03T13:03:56.295Z"
   },
   {
    "duration": 35,
    "start_time": "2024-04-03T13:03:56.430Z"
   },
   {
    "duration": 3,
    "start_time": "2024-04-03T13:03:56.466Z"
   },
   {
    "duration": 183,
    "start_time": "2024-04-03T13:03:56.470Z"
   },
   {
    "duration": 5,
    "start_time": "2024-04-03T13:03:56.654Z"
   },
   {
    "duration": 59,
    "start_time": "2024-04-03T13:03:56.660Z"
   },
   {
    "duration": 28,
    "start_time": "2024-04-03T13:03:56.721Z"
   },
   {
    "duration": 118,
    "start_time": "2024-04-03T13:29:08.569Z"
   },
   {
    "duration": 113,
    "start_time": "2024-04-03T13:30:51.151Z"
   },
   {
    "duration": 207,
    "start_time": "2024-04-03T13:31:18.859Z"
   },
   {
    "duration": 147,
    "start_time": "2024-04-03T13:32:38.977Z"
   },
   {
    "duration": 96,
    "start_time": "2024-04-03T13:33:30.368Z"
   },
   {
    "duration": 94,
    "start_time": "2024-04-03T13:33:33.514Z"
   },
   {
    "duration": 85,
    "start_time": "2024-04-03T13:33:47.033Z"
   },
   {
    "duration": 102,
    "start_time": "2024-04-03T13:34:01.041Z"
   },
   {
    "duration": 124,
    "start_time": "2024-04-03T13:46:16.813Z"
   },
   {
    "duration": 126,
    "start_time": "2024-04-03T13:46:36.146Z"
   },
   {
    "duration": 150,
    "start_time": "2024-04-03T13:49:09.742Z"
   },
   {
    "duration": 135,
    "start_time": "2024-04-03T13:49:12.121Z"
   },
   {
    "duration": 90,
    "start_time": "2024-04-03T13:50:48.662Z"
   },
   {
    "duration": 87,
    "start_time": "2024-04-03T14:00:41.580Z"
   },
   {
    "duration": 103,
    "start_time": "2024-04-03T14:03:04.454Z"
   },
   {
    "duration": 4,
    "start_time": "2024-04-03T14:03:13.706Z"
   },
   {
    "duration": 3,
    "start_time": "2024-04-03T14:03:23.604Z"
   },
   {
    "duration": 135,
    "start_time": "2024-04-03T14:04:25.101Z"
   },
   {
    "duration": 9,
    "start_time": "2024-04-03T14:05:40.317Z"
   },
   {
    "duration": 142,
    "start_time": "2024-04-03T14:05:48.088Z"
   },
   {
    "duration": 151,
    "start_time": "2024-04-03T14:05:58.659Z"
   },
   {
    "duration": 159,
    "start_time": "2024-04-03T14:06:59.841Z"
   },
   {
    "duration": 234,
    "start_time": "2024-04-03T14:07:14.568Z"
   },
   {
    "duration": 179,
    "start_time": "2024-04-03T14:09:08.578Z"
   },
   {
    "duration": 170,
    "start_time": "2024-04-03T14:09:16.852Z"
   },
   {
    "duration": 153,
    "start_time": "2024-04-03T14:10:26.973Z"
   },
   {
    "duration": 156,
    "start_time": "2024-04-03T14:18:26.097Z"
   },
   {
    "duration": 91,
    "start_time": "2024-04-03T14:18:38.280Z"
   },
   {
    "duration": 128,
    "start_time": "2024-04-03T14:18:48.868Z"
   },
   {
    "duration": 150,
    "start_time": "2024-04-03T14:19:11.964Z"
   },
   {
    "duration": 83,
    "start_time": "2024-04-03T14:20:20.961Z"
   },
   {
    "duration": 6,
    "start_time": "2024-04-03T15:55:26.693Z"
   },
   {
    "duration": 11,
    "start_time": "2024-04-03T18:28:34.245Z"
   },
   {
    "duration": 777,
    "start_time": "2024-04-03T18:29:07.051Z"
   },
   {
    "duration": 18,
    "start_time": "2024-04-03T18:29:07.830Z"
   },
   {
    "duration": 13,
    "start_time": "2024-04-03T18:29:07.849Z"
   },
   {
    "duration": 10,
    "start_time": "2024-04-03T18:29:07.863Z"
   },
   {
    "duration": 6,
    "start_time": "2024-04-03T18:29:07.874Z"
   },
   {
    "duration": 9,
    "start_time": "2024-04-03T18:29:07.881Z"
   },
   {
    "duration": 14,
    "start_time": "2024-04-03T18:29:07.891Z"
   },
   {
    "duration": 7,
    "start_time": "2024-04-03T18:29:07.907Z"
   },
   {
    "duration": 358,
    "start_time": "2024-04-03T18:29:07.915Z"
   },
   {
    "duration": 90,
    "start_time": "2024-04-03T18:29:08.275Z"
   },
   {
    "duration": 119,
    "start_time": "2024-04-03T18:29:08.367Z"
   },
   {
    "duration": 153,
    "start_time": "2024-04-03T18:29:08.487Z"
   },
   {
    "duration": 156,
    "start_time": "2024-04-03T18:29:08.641Z"
   },
   {
    "duration": 17,
    "start_time": "2024-04-03T18:29:08.799Z"
   },
   {
    "duration": 22,
    "start_time": "2024-04-03T18:29:08.817Z"
   },
   {
    "duration": 17,
    "start_time": "2024-04-03T18:29:08.841Z"
   },
   {
    "duration": 26,
    "start_time": "2024-04-03T18:29:08.885Z"
   },
   {
    "duration": 144,
    "start_time": "2024-04-03T18:29:08.912Z"
   },
   {
    "duration": 146,
    "start_time": "2024-04-03T18:29:09.057Z"
   },
   {
    "duration": 122,
    "start_time": "2024-04-03T18:29:09.206Z"
   },
   {
    "duration": 129,
    "start_time": "2024-04-03T18:29:09.329Z"
   },
   {
    "duration": 44,
    "start_time": "2024-04-03T18:29:09.459Z"
   },
   {
    "duration": 3,
    "start_time": "2024-04-03T18:29:09.505Z"
   },
   {
    "duration": 139,
    "start_time": "2024-04-03T18:29:09.510Z"
   },
   {
    "duration": 144,
    "start_time": "2024-04-03T18:29:09.650Z"
   },
   {
    "duration": 5,
    "start_time": "2024-04-03T18:29:09.795Z"
   },
   {
    "duration": 18,
    "start_time": "2024-04-03T18:29:09.802Z"
   },
   {
    "duration": 10,
    "start_time": "2024-04-03T18:29:09.823Z"
   },
   {
    "duration": 784,
    "start_time": "2024-04-03T18:31:05.408Z"
   },
   {
    "duration": 24,
    "start_time": "2024-04-03T18:31:06.194Z"
   },
   {
    "duration": 15,
    "start_time": "2024-04-03T18:31:06.220Z"
   },
   {
    "duration": 11,
    "start_time": "2024-04-03T18:31:06.236Z"
   },
   {
    "duration": 19,
    "start_time": "2024-04-03T18:31:06.248Z"
   },
   {
    "duration": 13,
    "start_time": "2024-04-03T18:31:06.268Z"
   },
   {
    "duration": 16,
    "start_time": "2024-04-03T18:31:06.282Z"
   },
   {
    "duration": 9,
    "start_time": "2024-04-03T18:31:06.300Z"
   },
   {
    "duration": 359,
    "start_time": "2024-04-03T18:31:06.310Z"
   },
   {
    "duration": 117,
    "start_time": "2024-04-03T18:31:06.672Z"
   },
   {
    "duration": 129,
    "start_time": "2024-04-03T18:31:06.791Z"
   },
   {
    "duration": 151,
    "start_time": "2024-04-03T18:31:06.922Z"
   },
   {
    "duration": 167,
    "start_time": "2024-04-03T18:31:07.074Z"
   },
   {
    "duration": 14,
    "start_time": "2024-04-03T18:31:07.242Z"
   },
   {
    "duration": 38,
    "start_time": "2024-04-03T18:31:07.257Z"
   },
   {
    "duration": 21,
    "start_time": "2024-04-03T18:31:07.297Z"
   },
   {
    "duration": 18,
    "start_time": "2024-04-03T18:31:07.319Z"
   },
   {
    "duration": 156,
    "start_time": "2024-04-03T18:31:07.338Z"
   },
   {
    "duration": 149,
    "start_time": "2024-04-03T18:31:07.495Z"
   },
   {
    "duration": 121,
    "start_time": "2024-04-03T18:31:07.646Z"
   },
   {
    "duration": 137,
    "start_time": "2024-04-03T18:31:07.768Z"
   },
   {
    "duration": 33,
    "start_time": "2024-04-03T18:31:07.906Z"
   },
   {
    "duration": 2,
    "start_time": "2024-04-03T18:31:07.941Z"
   },
   {
    "duration": 143,
    "start_time": "2024-04-03T18:31:07.944Z"
   },
   {
    "duration": 158,
    "start_time": "2024-04-03T18:31:08.089Z"
   },
   {
    "duration": 5,
    "start_time": "2024-04-03T18:31:08.248Z"
   },
   {
    "duration": 7,
    "start_time": "2024-04-03T18:31:08.254Z"
   },
   {
    "duration": 24,
    "start_time": "2024-04-03T18:31:08.264Z"
   },
   {
    "duration": 839,
    "start_time": "2024-04-03T18:31:50.494Z"
   },
   {
    "duration": 18,
    "start_time": "2024-04-03T18:31:51.334Z"
   },
   {
    "duration": 15,
    "start_time": "2024-04-03T18:31:51.353Z"
   },
   {
    "duration": 11,
    "start_time": "2024-04-03T18:31:51.369Z"
   },
   {
    "duration": 13,
    "start_time": "2024-04-03T18:31:51.380Z"
   },
   {
    "duration": 18,
    "start_time": "2024-04-03T18:31:51.395Z"
   },
   {
    "duration": 11,
    "start_time": "2024-04-03T18:31:51.414Z"
   },
   {
    "duration": 10,
    "start_time": "2024-04-03T18:31:51.426Z"
   },
   {
    "duration": 373,
    "start_time": "2024-04-03T18:31:51.437Z"
   },
   {
    "duration": 97,
    "start_time": "2024-04-03T18:31:51.813Z"
   },
   {
    "duration": 114,
    "start_time": "2024-04-03T18:31:51.912Z"
   },
   {
    "duration": 150,
    "start_time": "2024-04-03T18:31:52.028Z"
   },
   {
    "duration": 144,
    "start_time": "2024-04-03T18:31:52.184Z"
   },
   {
    "duration": 15,
    "start_time": "2024-04-03T18:31:52.329Z"
   },
   {
    "duration": 21,
    "start_time": "2024-04-03T18:31:52.345Z"
   },
   {
    "duration": 42,
    "start_time": "2024-04-03T18:31:52.367Z"
   },
   {
    "duration": 18,
    "start_time": "2024-04-03T18:31:52.410Z"
   },
   {
    "duration": 140,
    "start_time": "2024-04-03T18:31:52.429Z"
   },
   {
    "duration": 154,
    "start_time": "2024-04-03T18:31:52.571Z"
   },
   {
    "duration": 129,
    "start_time": "2024-04-03T18:31:52.727Z"
   },
   {
    "duration": 129,
    "start_time": "2024-04-03T18:31:52.857Z"
   },
   {
    "duration": 39,
    "start_time": "2024-04-03T18:31:52.987Z"
   },
   {
    "duration": 2,
    "start_time": "2024-04-03T18:31:53.028Z"
   },
   {
    "duration": 137,
    "start_time": "2024-04-03T18:31:53.031Z"
   },
   {
    "duration": 153,
    "start_time": "2024-04-03T18:31:53.169Z"
   },
   {
    "duration": 3,
    "start_time": "2024-04-03T18:31:53.324Z"
   },
   {
    "duration": 5,
    "start_time": "2024-04-03T18:31:53.328Z"
   },
   {
    "duration": 8,
    "start_time": "2024-04-03T18:31:53.335Z"
   },
   {
    "duration": 15,
    "start_time": "2024-04-03T18:32:49.402Z"
   },
   {
    "duration": 87,
    "start_time": "2024-04-03T18:33:01.950Z"
   },
   {
    "duration": 17,
    "start_time": "2024-04-03T18:33:11.395Z"
   },
   {
    "duration": 11,
    "start_time": "2024-04-03T18:37:32.977Z"
   },
   {
    "duration": 134,
    "start_time": "2024-04-03T18:37:40.684Z"
   },
   {
    "duration": 158,
    "start_time": "2024-04-03T18:38:05.496Z"
   },
   {
    "duration": 119,
    "start_time": "2024-04-03T18:38:12.603Z"
   },
   {
    "duration": 8,
    "start_time": "2024-04-03T18:39:41.826Z"
   },
   {
    "duration": 7,
    "start_time": "2024-04-03T18:39:53.631Z"
   },
   {
    "duration": 100,
    "start_time": "2024-04-03T18:40:59.665Z"
   },
   {
    "duration": 109,
    "start_time": "2024-04-03T18:43:29.703Z"
   },
   {
    "duration": 107,
    "start_time": "2024-04-03T18:43:49.953Z"
   },
   {
    "duration": 5,
    "start_time": "2024-04-03T19:08:47.167Z"
   },
   {
    "duration": 5,
    "start_time": "2024-04-03T19:11:32.976Z"
   },
   {
    "duration": 5,
    "start_time": "2024-04-03T19:12:10.643Z"
   },
   {
    "duration": 5,
    "start_time": "2024-04-03T19:12:36.018Z"
   },
   {
    "duration": 6,
    "start_time": "2024-04-03T19:17:23.712Z"
   },
   {
    "duration": 5,
    "start_time": "2024-04-03T19:20:17.121Z"
   },
   {
    "duration": 9,
    "start_time": "2024-04-03T19:24:28.291Z"
   },
   {
    "duration": 8,
    "start_time": "2024-04-03T19:26:26.829Z"
   },
   {
    "duration": 61,
    "start_time": "2024-04-03T20:47:45.630Z"
   },
   {
    "duration": 8,
    "start_time": "2024-04-03T20:49:56.462Z"
   },
   {
    "duration": 7,
    "start_time": "2024-04-03T20:51:33.481Z"
   },
   {
    "duration": 9,
    "start_time": "2024-04-03T20:51:57.681Z"
   },
   {
    "duration": 4,
    "start_time": "2024-04-03T20:52:13.704Z"
   },
   {
    "duration": 60,
    "start_time": "2024-04-03T21:05:55.954Z"
   },
   {
    "duration": 87,
    "start_time": "2024-04-03T21:20:09.199Z"
   },
   {
    "duration": 5,
    "start_time": "2024-04-03T21:20:13.345Z"
   },
   {
    "duration": 5,
    "start_time": "2024-04-03T21:20:47.045Z"
   },
   {
    "duration": 780,
    "start_time": "2024-04-03T21:52:17.968Z"
   },
   {
    "duration": 18,
    "start_time": "2024-04-03T21:52:18.750Z"
   },
   {
    "duration": 27,
    "start_time": "2024-04-03T21:52:18.769Z"
   },
   {
    "duration": 11,
    "start_time": "2024-04-03T21:52:18.797Z"
   },
   {
    "duration": 6,
    "start_time": "2024-04-03T21:52:18.809Z"
   },
   {
    "duration": 28,
    "start_time": "2024-04-03T21:52:18.816Z"
   },
   {
    "duration": 12,
    "start_time": "2024-04-03T21:52:18.845Z"
   },
   {
    "duration": 6,
    "start_time": "2024-04-03T21:52:18.858Z"
   },
   {
    "duration": 341,
    "start_time": "2024-04-03T21:52:18.865Z"
   },
   {
    "duration": 94,
    "start_time": "2024-04-03T21:52:19.208Z"
   },
   {
    "duration": 106,
    "start_time": "2024-04-03T21:52:19.303Z"
   },
   {
    "duration": 138,
    "start_time": "2024-04-03T21:52:19.410Z"
   },
   {
    "duration": 146,
    "start_time": "2024-04-03T21:52:19.550Z"
   },
   {
    "duration": 13,
    "start_time": "2024-04-03T21:52:19.697Z"
   },
   {
    "duration": 22,
    "start_time": "2024-04-03T21:52:19.711Z"
   },
   {
    "duration": 18,
    "start_time": "2024-04-03T21:52:19.734Z"
   },
   {
    "duration": 41,
    "start_time": "2024-04-03T21:52:19.753Z"
   },
   {
    "duration": 129,
    "start_time": "2024-04-03T21:52:19.795Z"
   },
   {
    "duration": 135,
    "start_time": "2024-04-03T21:52:19.925Z"
   },
   {
    "duration": 116,
    "start_time": "2024-04-03T21:52:20.061Z"
   },
   {
    "duration": 127,
    "start_time": "2024-04-03T21:52:20.178Z"
   },
   {
    "duration": 34,
    "start_time": "2024-04-03T21:52:20.306Z"
   },
   {
    "duration": 3,
    "start_time": "2024-04-03T21:52:20.341Z"
   },
   {
    "duration": 137,
    "start_time": "2024-04-03T21:52:20.345Z"
   },
   {
    "duration": 144,
    "start_time": "2024-04-03T21:52:20.484Z"
   },
   {
    "duration": 5,
    "start_time": "2024-04-03T21:52:20.630Z"
   },
   {
    "duration": 16,
    "start_time": "2024-04-03T21:52:20.637Z"
   },
   {
    "duration": 17,
    "start_time": "2024-04-03T21:52:20.656Z"
   },
   {
    "duration": 85,
    "start_time": "2024-04-03T21:52:20.674Z"
   },
   {
    "duration": 785,
    "start_time": "2024-04-03T22:04:59.352Z"
   },
   {
    "duration": 19,
    "start_time": "2024-04-03T22:05:00.138Z"
   },
   {
    "duration": 43,
    "start_time": "2024-04-03T22:05:00.158Z"
   },
   {
    "duration": 87,
    "start_time": "2024-04-03T22:05:00.203Z"
   },
   {
    "duration": 53,
    "start_time": "2024-04-03T22:05:00.291Z"
   },
   {
    "duration": 90,
    "start_time": "2024-04-03T22:05:00.345Z"
   },
   {
    "duration": 59,
    "start_time": "2024-04-03T22:05:00.437Z"
   },
   {
    "duration": 50,
    "start_time": "2024-04-03T22:05:00.497Z"
   },
   {
    "duration": 423,
    "start_time": "2024-04-03T22:05:00.548Z"
   },
   {
    "duration": 124,
    "start_time": "2024-04-03T22:05:00.973Z"
   },
   {
    "duration": 112,
    "start_time": "2024-04-03T22:05:01.098Z"
   },
   {
    "duration": 146,
    "start_time": "2024-04-03T22:05:01.211Z"
   },
   {
    "duration": 153,
    "start_time": "2024-04-03T22:05:01.359Z"
   },
   {
    "duration": 13,
    "start_time": "2024-04-03T22:05:01.513Z"
   },
   {
    "duration": 42,
    "start_time": "2024-04-03T22:05:01.528Z"
   },
   {
    "duration": 25,
    "start_time": "2024-04-03T22:05:01.572Z"
   },
   {
    "duration": 22,
    "start_time": "2024-04-03T22:05:01.598Z"
   },
   {
    "duration": 157,
    "start_time": "2024-04-03T22:05:01.621Z"
   },
   {
    "duration": 140,
    "start_time": "2024-04-03T22:05:01.779Z"
   },
   {
    "duration": 113,
    "start_time": "2024-04-03T22:05:01.920Z"
   },
   {
    "duration": 125,
    "start_time": "2024-04-03T22:05:02.034Z"
   },
   {
    "duration": 56,
    "start_time": "2024-04-03T22:05:02.161Z"
   },
   {
    "duration": 3,
    "start_time": "2024-04-03T22:05:02.218Z"
   },
   {
    "duration": 184,
    "start_time": "2024-04-03T22:05:02.223Z"
   },
   {
    "duration": 146,
    "start_time": "2024-04-03T22:05:02.408Z"
   },
   {
    "duration": 5,
    "start_time": "2024-04-03T22:05:02.556Z"
   },
   {
    "duration": 48,
    "start_time": "2024-04-03T22:05:02.562Z"
   },
   {
    "duration": 54,
    "start_time": "2024-04-03T22:05:02.612Z"
   },
   {
    "duration": 1119,
    "start_time": "2024-04-03T22:23:43.155Z"
   },
   {
    "duration": 24,
    "start_time": "2024-04-03T22:23:44.277Z"
   },
   {
    "duration": 16,
    "start_time": "2024-04-03T22:23:44.302Z"
   },
   {
    "duration": 12,
    "start_time": "2024-04-03T22:23:44.319Z"
   },
   {
    "duration": 7,
    "start_time": "2024-04-03T22:23:44.333Z"
   },
   {
    "duration": 11,
    "start_time": "2024-04-03T22:23:44.341Z"
   },
   {
    "duration": 47,
    "start_time": "2024-04-03T22:23:44.354Z"
   },
   {
    "duration": 8,
    "start_time": "2024-04-03T22:23:44.403Z"
   },
   {
    "duration": 406,
    "start_time": "2024-04-03T22:23:44.413Z"
   },
   {
    "duration": 109,
    "start_time": "2024-04-03T22:23:44.822Z"
   },
   {
    "duration": 148,
    "start_time": "2024-04-03T22:23:44.933Z"
   },
   {
    "duration": 203,
    "start_time": "2024-04-03T22:23:45.087Z"
   },
   {
    "duration": 206,
    "start_time": "2024-04-03T22:23:45.291Z"
   },
   {
    "duration": 16,
    "start_time": "2024-04-03T22:23:45.498Z"
   },
   {
    "duration": 29,
    "start_time": "2024-04-03T22:23:45.515Z"
   },
   {
    "duration": 41,
    "start_time": "2024-04-03T22:23:45.546Z"
   },
   {
    "duration": 22,
    "start_time": "2024-04-03T22:23:45.589Z"
   },
   {
    "duration": 181,
    "start_time": "2024-04-03T22:23:45.612Z"
   },
   {
    "duration": 165,
    "start_time": "2024-04-03T22:23:45.794Z"
   },
   {
    "duration": 152,
    "start_time": "2024-04-03T22:23:45.961Z"
   },
   {
    "duration": 154,
    "start_time": "2024-04-03T22:23:46.114Z"
   },
   {
    "duration": 50,
    "start_time": "2024-04-03T22:23:46.269Z"
   },
   {
    "duration": 3,
    "start_time": "2024-04-03T22:23:46.320Z"
   },
   {
    "duration": 162,
    "start_time": "2024-04-03T22:23:46.325Z"
   },
   {
    "duration": 173,
    "start_time": "2024-04-03T22:23:46.488Z"
   },
   {
    "duration": 6,
    "start_time": "2024-04-03T22:23:46.662Z"
   },
   {
    "duration": 19,
    "start_time": "2024-04-03T22:23:46.669Z"
   },
   {
    "duration": 10,
    "start_time": "2024-04-03T22:23:46.691Z"
   },
   {
    "duration": 9,
    "start_time": "2024-04-03T22:34:07.337Z"
   },
   {
    "duration": 875,
    "start_time": "2024-04-03T22:37:41.809Z"
   },
   {
    "duration": 23,
    "start_time": "2024-04-03T22:37:42.686Z"
   },
   {
    "duration": 17,
    "start_time": "2024-04-03T22:37:42.711Z"
   },
   {
    "duration": 14,
    "start_time": "2024-04-03T22:37:42.729Z"
   },
   {
    "duration": 16,
    "start_time": "2024-04-03T22:37:42.745Z"
   },
   {
    "duration": 32,
    "start_time": "2024-04-03T22:37:42.762Z"
   },
   {
    "duration": 16,
    "start_time": "2024-04-03T22:37:42.796Z"
   },
   {
    "duration": 18,
    "start_time": "2024-04-03T22:37:42.813Z"
   },
   {
    "duration": 423,
    "start_time": "2024-04-03T22:37:42.832Z"
   },
   {
    "duration": 117,
    "start_time": "2024-04-03T22:37:43.258Z"
   },
   {
    "duration": 138,
    "start_time": "2024-04-03T22:37:43.386Z"
   },
   {
    "duration": 170,
    "start_time": "2024-04-03T22:37:43.526Z"
   },
   {
    "duration": 198,
    "start_time": "2024-04-03T22:37:43.698Z"
   },
   {
    "duration": 17,
    "start_time": "2024-04-03T22:37:43.898Z"
   },
   {
    "duration": 30,
    "start_time": "2024-04-03T22:37:43.916Z"
   },
   {
    "duration": 52,
    "start_time": "2024-04-03T22:37:43.947Z"
   },
   {
    "duration": 24,
    "start_time": "2024-04-03T22:37:44.000Z"
   },
   {
    "duration": 175,
    "start_time": "2024-04-03T22:37:44.025Z"
   },
   {
    "duration": 179,
    "start_time": "2024-04-03T22:37:44.201Z"
   },
   {
    "duration": 171,
    "start_time": "2024-04-03T22:37:44.387Z"
   },
   {
    "duration": 151,
    "start_time": "2024-04-03T22:37:44.560Z"
   },
   {
    "duration": 40,
    "start_time": "2024-04-03T22:37:44.712Z"
   },
   {
    "duration": 3,
    "start_time": "2024-04-03T22:37:44.753Z"
   },
   {
    "duration": 151,
    "start_time": "2024-04-03T22:37:44.758Z"
   },
   {
    "duration": 186,
    "start_time": "2024-04-03T22:37:44.911Z"
   },
   {
    "duration": 6,
    "start_time": "2024-04-03T22:37:45.099Z"
   },
   {
    "duration": 38,
    "start_time": "2024-04-03T22:37:45.107Z"
   },
   {
    "duration": 35,
    "start_time": "2024-04-03T22:37:45.147Z"
   },
   {
    "duration": 1020,
    "start_time": "2024-04-04T14:56:15.344Z"
   },
   {
    "duration": 21,
    "start_time": "2024-04-04T14:56:16.365Z"
   },
   {
    "duration": 38,
    "start_time": "2024-04-04T14:56:16.388Z"
   },
   {
    "duration": 27,
    "start_time": "2024-04-04T14:56:16.428Z"
   },
   {
    "duration": 42,
    "start_time": "2024-04-04T14:56:16.457Z"
   },
   {
    "duration": 28,
    "start_time": "2024-04-04T14:56:16.501Z"
   },
   {
    "duration": 35,
    "start_time": "2024-04-04T14:56:16.531Z"
   },
   {
    "duration": 7,
    "start_time": "2024-04-04T14:56:16.567Z"
   },
   {
    "duration": 576,
    "start_time": "2024-04-04T14:56:16.575Z"
   },
   {
    "duration": 125,
    "start_time": "2024-04-04T14:56:17.153Z"
   },
   {
    "duration": 128,
    "start_time": "2024-04-04T14:56:17.279Z"
   },
   {
    "duration": 172,
    "start_time": "2024-04-04T14:56:17.408Z"
   },
   {
    "duration": 211,
    "start_time": "2024-04-04T14:56:17.581Z"
   },
   {
    "duration": 16,
    "start_time": "2024-04-04T14:56:17.794Z"
   },
   {
    "duration": 38,
    "start_time": "2024-04-04T14:56:17.811Z"
   },
   {
    "duration": 21,
    "start_time": "2024-04-04T14:56:17.850Z"
   },
   {
    "duration": 40,
    "start_time": "2024-04-04T14:56:17.872Z"
   },
   {
    "duration": 159,
    "start_time": "2024-04-04T14:56:17.914Z"
   },
   {
    "duration": 172,
    "start_time": "2024-04-04T14:56:18.075Z"
   },
   {
    "duration": 150,
    "start_time": "2024-04-04T14:56:18.248Z"
   },
   {
    "duration": 146,
    "start_time": "2024-04-04T14:56:18.400Z"
   },
   {
    "duration": 112,
    "start_time": "2024-04-04T14:56:18.548Z"
   },
   {
    "duration": 2,
    "start_time": "2024-04-04T14:56:18.662Z"
   },
   {
    "duration": 149,
    "start_time": "2024-04-04T14:56:18.666Z"
   },
   {
    "duration": 158,
    "start_time": "2024-04-04T14:56:18.817Z"
   },
   {
    "duration": 6,
    "start_time": "2024-04-04T14:56:18.977Z"
   },
   {
    "duration": 30,
    "start_time": "2024-04-04T14:56:18.984Z"
   },
   {
    "duration": 45,
    "start_time": "2024-04-04T14:56:19.017Z"
   },
   {
    "duration": 159,
    "start_time": "2024-04-04T14:57:43.851Z"
   },
   {
    "duration": 146,
    "start_time": "2024-04-04T14:57:52.775Z"
   },
   {
    "duration": 154,
    "start_time": "2024-04-04T14:58:36.338Z"
   },
   {
    "duration": 162,
    "start_time": "2024-04-04T14:58:44.379Z"
   },
   {
    "duration": 895,
    "start_time": "2024-04-04T15:07:14.138Z"
   },
   {
    "duration": 22,
    "start_time": "2024-04-04T15:07:15.034Z"
   },
   {
    "duration": 56,
    "start_time": "2024-04-04T15:07:15.057Z"
   },
   {
    "duration": 55,
    "start_time": "2024-04-04T15:07:15.115Z"
   },
   {
    "duration": 73,
    "start_time": "2024-04-04T15:07:15.171Z"
   },
   {
    "duration": 76,
    "start_time": "2024-04-04T15:07:15.246Z"
   },
   {
    "duration": 46,
    "start_time": "2024-04-04T15:07:15.323Z"
   },
   {
    "duration": 54,
    "start_time": "2024-04-04T15:07:15.370Z"
   },
   {
    "duration": 399,
    "start_time": "2024-04-04T15:07:15.425Z"
   },
   {
    "duration": 120,
    "start_time": "2024-04-04T15:07:15.826Z"
   },
   {
    "duration": 144,
    "start_time": "2024-04-04T15:07:15.947Z"
   },
   {
    "duration": 184,
    "start_time": "2024-04-04T15:07:16.093Z"
   },
   {
    "duration": 173,
    "start_time": "2024-04-04T15:07:16.278Z"
   },
   {
    "duration": 14,
    "start_time": "2024-04-04T15:07:16.452Z"
   },
   {
    "duration": 37,
    "start_time": "2024-04-04T15:07:16.467Z"
   },
   {
    "duration": 20,
    "start_time": "2024-04-04T15:07:16.505Z"
   },
   {
    "duration": 24,
    "start_time": "2024-04-04T15:07:16.545Z"
   },
   {
    "duration": 162,
    "start_time": "2024-04-04T15:07:16.570Z"
   },
   {
    "duration": 167,
    "start_time": "2024-04-04T15:07:16.734Z"
   },
   {
    "duration": 143,
    "start_time": "2024-04-04T15:07:16.903Z"
   },
   {
    "duration": 157,
    "start_time": "2024-04-04T15:07:17.047Z"
   },
   {
    "duration": 61,
    "start_time": "2024-04-04T15:07:17.206Z"
   },
   {
    "duration": 4,
    "start_time": "2024-04-04T15:07:17.269Z"
   },
   {
    "duration": 140,
    "start_time": "2024-04-04T15:07:17.275Z"
   },
   {
    "duration": 164,
    "start_time": "2024-04-04T15:07:17.417Z"
   },
   {
    "duration": 7,
    "start_time": "2024-04-04T15:07:17.583Z"
   },
   {
    "duration": 9,
    "start_time": "2024-04-04T15:07:17.591Z"
   },
   {
    "duration": 12,
    "start_time": "2024-04-04T15:07:17.604Z"
   },
   {
    "duration": 92,
    "start_time": "2024-04-04T15:08:50.830Z"
   },
   {
    "duration": 7,
    "start_time": "2024-04-04T15:08:59.288Z"
   },
   {
    "duration": 8,
    "start_time": "2024-04-04T15:10:03.501Z"
   },
   {
    "duration": 900,
    "start_time": "2024-04-04T15:10:42.641Z"
   },
   {
    "duration": 20,
    "start_time": "2024-04-04T15:10:43.543Z"
   },
   {
    "duration": 41,
    "start_time": "2024-04-04T15:10:43.564Z"
   },
   {
    "duration": 22,
    "start_time": "2024-04-04T15:10:43.606Z"
   },
   {
    "duration": 35,
    "start_time": "2024-04-04T15:10:43.630Z"
   },
   {
    "duration": 31,
    "start_time": "2024-04-04T15:10:43.666Z"
   },
   {
    "duration": 26,
    "start_time": "2024-04-04T15:10:43.699Z"
   },
   {
    "duration": 42,
    "start_time": "2024-04-04T15:10:43.726Z"
   },
   {
    "duration": 394,
    "start_time": "2024-04-04T15:10:43.769Z"
   },
   {
    "duration": 127,
    "start_time": "2024-04-04T15:10:44.166Z"
   },
   {
    "duration": 131,
    "start_time": "2024-04-04T15:10:44.295Z"
   },
   {
    "duration": 161,
    "start_time": "2024-04-04T15:10:44.428Z"
   },
   {
    "duration": 173,
    "start_time": "2024-04-04T15:10:44.590Z"
   },
   {
    "duration": 14,
    "start_time": "2024-04-04T15:10:44.764Z"
   },
   {
    "duration": 64,
    "start_time": "2024-04-04T15:10:44.780Z"
   },
   {
    "duration": 24,
    "start_time": "2024-04-04T15:10:44.846Z"
   },
   {
    "duration": 24,
    "start_time": "2024-04-04T15:10:44.872Z"
   },
   {
    "duration": 180,
    "start_time": "2024-04-04T15:10:44.898Z"
   },
   {
    "duration": 167,
    "start_time": "2024-04-04T15:10:45.080Z"
   },
   {
    "duration": 159,
    "start_time": "2024-04-04T15:10:45.248Z"
   },
   {
    "duration": 162,
    "start_time": "2024-04-04T15:10:45.408Z"
   },
   {
    "duration": 45,
    "start_time": "2024-04-04T15:10:45.572Z"
   },
   {
    "duration": 27,
    "start_time": "2024-04-04T15:10:45.619Z"
   },
   {
    "duration": 28,
    "start_time": "2024-04-04T15:10:45.648Z"
   },
   {
    "duration": 183,
    "start_time": "2024-04-04T15:10:45.678Z"
   },
   {
    "duration": 159,
    "start_time": "2024-04-04T15:10:45.863Z"
   },
   {
    "duration": 22,
    "start_time": "2024-04-04T15:10:46.023Z"
   },
   {
    "duration": 34,
    "start_time": "2024-04-04T15:10:46.048Z"
   },
   {
    "duration": 41,
    "start_time": "2024-04-04T15:10:46.084Z"
   },
   {
    "duration": 6,
    "start_time": "2024-04-04T15:11:14.406Z"
   },
   {
    "duration": 46,
    "start_time": "2024-04-04T15:11:35.163Z"
   },
   {
    "duration": 892,
    "start_time": "2024-04-04T15:11:38.241Z"
   },
   {
    "duration": 21,
    "start_time": "2024-04-04T15:11:39.135Z"
   },
   {
    "duration": 15,
    "start_time": "2024-04-04T15:11:39.157Z"
   },
   {
    "duration": 12,
    "start_time": "2024-04-04T15:11:39.173Z"
   },
   {
    "duration": 6,
    "start_time": "2024-04-04T15:11:39.186Z"
   },
   {
    "duration": 9,
    "start_time": "2024-04-04T15:11:39.194Z"
   },
   {
    "duration": 51,
    "start_time": "2024-04-04T15:11:39.204Z"
   },
   {
    "duration": 7,
    "start_time": "2024-04-04T15:11:39.256Z"
   },
   {
    "duration": 395,
    "start_time": "2024-04-04T15:11:39.264Z"
   },
   {
    "duration": 120,
    "start_time": "2024-04-04T15:11:39.662Z"
   },
   {
    "duration": 129,
    "start_time": "2024-04-04T15:11:39.784Z"
   },
   {
    "duration": 169,
    "start_time": "2024-04-04T15:11:39.914Z"
   },
   {
    "duration": 177,
    "start_time": "2024-04-04T15:11:40.084Z"
   },
   {
    "duration": 16,
    "start_time": "2024-04-04T15:11:40.262Z"
   },
   {
    "duration": 25,
    "start_time": "2024-04-04T15:11:40.279Z"
   },
   {
    "duration": 47,
    "start_time": "2024-04-04T15:11:40.305Z"
   },
   {
    "duration": 19,
    "start_time": "2024-04-04T15:11:40.353Z"
   },
   {
    "duration": 159,
    "start_time": "2024-04-04T15:11:40.374Z"
   },
   {
    "duration": 169,
    "start_time": "2024-04-04T15:11:40.534Z"
   },
   {
    "duration": 152,
    "start_time": "2024-04-04T15:11:40.705Z"
   },
   {
    "duration": 162,
    "start_time": "2024-04-04T15:11:40.859Z"
   },
   {
    "duration": 45,
    "start_time": "2024-04-04T15:11:41.023Z"
   },
   {
    "duration": 6,
    "start_time": "2024-04-04T15:11:41.069Z"
   },
   {
    "duration": 17,
    "start_time": "2024-04-04T15:11:41.076Z"
   },
   {
    "duration": 169,
    "start_time": "2024-04-04T15:11:41.095Z"
   },
   {
    "duration": 157,
    "start_time": "2024-04-04T15:11:41.265Z"
   },
   {
    "duration": 6,
    "start_time": "2024-04-04T15:11:41.424Z"
   },
   {
    "duration": 54,
    "start_time": "2024-04-04T15:11:41.432Z"
   },
   {
    "duration": 35,
    "start_time": "2024-04-04T15:11:41.487Z"
   },
   {
    "duration": 867,
    "start_time": "2024-04-04T15:12:27.358Z"
   },
   {
    "duration": 22,
    "start_time": "2024-04-04T15:12:28.228Z"
   },
   {
    "duration": 16,
    "start_time": "2024-04-04T15:12:28.251Z"
   },
   {
    "duration": 12,
    "start_time": "2024-04-04T15:12:28.269Z"
   },
   {
    "duration": 10,
    "start_time": "2024-04-04T15:12:28.293Z"
   },
   {
    "duration": 14,
    "start_time": "2024-04-04T15:12:28.304Z"
   },
   {
    "duration": 38,
    "start_time": "2024-04-04T15:12:28.319Z"
   },
   {
    "duration": 13,
    "start_time": "2024-04-04T15:12:28.358Z"
   },
   {
    "duration": 382,
    "start_time": "2024-04-04T15:12:28.373Z"
   },
   {
    "duration": 129,
    "start_time": "2024-04-04T15:12:28.758Z"
   },
   {
    "duration": 126,
    "start_time": "2024-04-04T15:12:28.888Z"
   },
   {
    "duration": 177,
    "start_time": "2024-04-04T15:12:29.015Z"
   },
   {
    "duration": 179,
    "start_time": "2024-04-04T15:12:29.193Z"
   },
   {
    "duration": 13,
    "start_time": "2024-04-04T15:12:29.373Z"
   },
   {
    "duration": 25,
    "start_time": "2024-04-04T15:12:29.388Z"
   },
   {
    "duration": 45,
    "start_time": "2024-04-04T15:12:29.414Z"
   },
   {
    "duration": 22,
    "start_time": "2024-04-04T15:12:29.460Z"
   },
   {
    "duration": 186,
    "start_time": "2024-04-04T15:12:29.484Z"
   },
   {
    "duration": 177,
    "start_time": "2024-04-04T15:12:29.671Z"
   },
   {
    "duration": 143,
    "start_time": "2024-04-04T15:12:29.849Z"
   },
   {
    "duration": 157,
    "start_time": "2024-04-04T15:12:29.994Z"
   },
   {
    "duration": 38,
    "start_time": "2024-04-04T15:12:30.153Z"
   },
   {
    "duration": 7,
    "start_time": "2024-04-04T15:12:30.193Z"
   },
   {
    "duration": 69,
    "start_time": "2024-04-04T15:12:30.201Z"
   },
   {
    "duration": 220,
    "start_time": "2024-04-04T15:12:30.271Z"
   },
   {
    "duration": 158,
    "start_time": "2024-04-04T15:12:30.492Z"
   },
   {
    "duration": 7,
    "start_time": "2024-04-04T15:12:30.651Z"
   },
   {
    "duration": 49,
    "start_time": "2024-04-04T15:12:30.660Z"
   },
   {
    "duration": 67,
    "start_time": "2024-04-04T15:12:30.710Z"
   },
   {
    "duration": 12,
    "start_time": "2024-04-04T15:13:17.297Z"
   },
   {
    "duration": 16,
    "start_time": "2024-04-04T15:13:26.772Z"
   },
   {
    "duration": 16,
    "start_time": "2024-04-04T15:13:45.313Z"
   },
   {
    "duration": 16,
    "start_time": "2024-04-04T15:14:20.877Z"
   },
   {
    "duration": 17,
    "start_time": "2024-04-04T15:14:34.840Z"
   },
   {
    "duration": 16,
    "start_time": "2024-04-04T15:14:41.939Z"
   },
   {
    "duration": 17,
    "start_time": "2024-04-04T15:14:49.505Z"
   },
   {
    "duration": 12,
    "start_time": "2024-04-04T15:18:16.800Z"
   },
   {
    "duration": 19,
    "start_time": "2024-04-04T15:18:21.765Z"
   },
   {
    "duration": 13,
    "start_time": "2024-04-04T15:18:26.641Z"
   },
   {
    "duration": 14,
    "start_time": "2024-04-04T15:18:30.833Z"
   },
   {
    "duration": 505,
    "start_time": "2024-04-04T15:19:15.258Z"
   },
   {
    "duration": 14,
    "start_time": "2024-04-04T15:19:28.775Z"
   },
   {
    "duration": 42,
    "start_time": "2024-04-04T18:18:45.315Z"
   },
   {
    "duration": 1046,
    "start_time": "2024-04-04T18:18:51.324Z"
   },
   {
    "duration": 19,
    "start_time": "2024-04-04T18:18:52.372Z"
   },
   {
    "duration": 24,
    "start_time": "2024-04-04T18:18:52.393Z"
   },
   {
    "duration": 11,
    "start_time": "2024-04-04T18:18:52.419Z"
   },
   {
    "duration": 7,
    "start_time": "2024-04-04T18:18:52.432Z"
   },
   {
    "duration": 9,
    "start_time": "2024-04-04T18:18:52.440Z"
   },
   {
    "duration": 11,
    "start_time": "2024-04-04T18:18:52.450Z"
   },
   {
    "duration": 6,
    "start_time": "2024-04-04T18:18:52.463Z"
   },
   {
    "duration": 509,
    "start_time": "2024-04-04T18:18:52.470Z"
   },
   {
    "duration": 111,
    "start_time": "2024-04-04T18:18:52.981Z"
   },
   {
    "duration": 130,
    "start_time": "2024-04-04T18:18:53.094Z"
   },
   {
    "duration": 158,
    "start_time": "2024-04-04T18:18:53.226Z"
   },
   {
    "duration": 202,
    "start_time": "2024-04-04T18:18:53.386Z"
   },
   {
    "duration": 26,
    "start_time": "2024-04-04T18:18:53.589Z"
   },
   {
    "duration": 35,
    "start_time": "2024-04-04T18:18:53.617Z"
   },
   {
    "duration": 20,
    "start_time": "2024-04-04T18:18:53.653Z"
   },
   {
    "duration": 29,
    "start_time": "2024-04-04T18:18:53.674Z"
   },
   {
    "duration": 156,
    "start_time": "2024-04-04T18:18:53.704Z"
   },
   {
    "duration": 151,
    "start_time": "2024-04-04T18:18:53.862Z"
   },
   {
    "duration": 135,
    "start_time": "2024-04-04T18:18:54.014Z"
   },
   {
    "duration": 146,
    "start_time": "2024-04-04T18:18:54.150Z"
   },
   {
    "duration": 102,
    "start_time": "2024-04-04T18:18:54.297Z"
   },
   {
    "duration": 3,
    "start_time": "2024-04-04T18:18:54.400Z"
   },
   {
    "duration": 132,
    "start_time": "2024-04-04T18:18:54.405Z"
   },
   {
    "duration": 195,
    "start_time": "2024-04-04T18:18:54.538Z"
   },
   {
    "duration": 16,
    "start_time": "2024-04-04T18:18:54.735Z"
   },
   {
    "duration": 7,
    "start_time": "2024-04-04T18:18:54.754Z"
   },
   {
    "duration": 14,
    "start_time": "2024-04-04T18:18:54.764Z"
   },
   {
    "duration": 33,
    "start_time": "2024-04-04T18:20:47.751Z"
   },
   {
    "duration": 18,
    "start_time": "2024-04-04T18:20:57.539Z"
   },
   {
    "duration": 37,
    "start_time": "2024-04-04T18:21:32.211Z"
   },
   {
    "duration": 883,
    "start_time": "2024-04-04T18:21:53.525Z"
   },
   {
    "duration": 20,
    "start_time": "2024-04-04T18:21:54.409Z"
   },
   {
    "duration": 15,
    "start_time": "2024-04-04T18:21:54.432Z"
   },
   {
    "duration": 16,
    "start_time": "2024-04-04T18:21:54.448Z"
   },
   {
    "duration": 22,
    "start_time": "2024-04-04T18:21:54.465Z"
   },
   {
    "duration": 9,
    "start_time": "2024-04-04T18:21:54.489Z"
   },
   {
    "duration": 12,
    "start_time": "2024-04-04T18:21:54.499Z"
   },
   {
    "duration": 6,
    "start_time": "2024-04-04T18:21:54.512Z"
   },
   {
    "duration": 359,
    "start_time": "2024-04-04T18:21:54.520Z"
   },
   {
    "duration": 101,
    "start_time": "2024-04-04T18:21:54.880Z"
   },
   {
    "duration": 129,
    "start_time": "2024-04-04T18:21:54.982Z"
   },
   {
    "duration": 174,
    "start_time": "2024-04-04T18:21:55.113Z"
   },
   {
    "duration": 167,
    "start_time": "2024-04-04T18:21:55.288Z"
   },
   {
    "duration": 36,
    "start_time": "2024-04-04T18:21:55.456Z"
   },
   {
    "duration": 24,
    "start_time": "2024-04-04T18:21:55.494Z"
   },
   {
    "duration": 41,
    "start_time": "2024-04-04T18:21:55.520Z"
   },
   {
    "duration": 21,
    "start_time": "2024-04-04T18:21:55.563Z"
   },
   {
    "duration": 161,
    "start_time": "2024-04-04T18:21:55.586Z"
   },
   {
    "duration": 157,
    "start_time": "2024-04-04T18:21:55.748Z"
   },
   {
    "duration": 130,
    "start_time": "2024-04-04T18:21:55.906Z"
   },
   {
    "duration": 146,
    "start_time": "2024-04-04T18:21:56.038Z"
   },
   {
    "duration": 37,
    "start_time": "2024-04-04T18:21:56.185Z"
   },
   {
    "duration": 3,
    "start_time": "2024-04-04T18:21:56.223Z"
   },
   {
    "duration": 143,
    "start_time": "2024-04-04T18:21:56.227Z"
   },
   {
    "duration": 162,
    "start_time": "2024-04-04T18:21:56.372Z"
   },
   {
    "duration": 13,
    "start_time": "2024-04-04T18:21:56.536Z"
   },
   {
    "duration": 5,
    "start_time": "2024-04-04T18:21:56.552Z"
   },
   {
    "duration": 11,
    "start_time": "2024-04-04T18:21:56.558Z"
   },
   {
    "duration": 222,
    "start_time": "2024-04-04T18:40:18.407Z"
   },
   {
    "duration": 18556,
    "start_time": "2024-04-04T18:42:36.534Z"
   },
   {
    "duration": 65,
    "start_time": "2024-04-04T18:43:15.620Z"
   },
   {
    "duration": 19487,
    "start_time": "2024-04-04T18:43:21.274Z"
   },
   {
    "duration": 139,
    "start_time": "2024-04-04T18:44:15.444Z"
   },
   {
    "duration": 136,
    "start_time": "2024-04-04T18:44:31.933Z"
   },
   {
    "duration": 15,
    "start_time": "2024-04-04T18:44:40.651Z"
   },
   {
    "duration": 20735,
    "start_time": "2024-04-04T18:51:23.911Z"
   },
   {
    "duration": 4210,
    "start_time": "2024-04-04T18:52:12.530Z"
   },
   {
    "duration": 8,
    "start_time": "2024-04-04T18:55:32.832Z"
   },
   {
    "duration": 822,
    "start_time": "2024-04-04T18:55:44.681Z"
   },
   {
    "duration": 1049,
    "start_time": "2024-04-04T18:55:59.894Z"
   },
   {
    "duration": 20,
    "start_time": "2024-04-04T18:56:00.944Z"
   },
   {
    "duration": 40,
    "start_time": "2024-04-04T18:56:00.965Z"
   },
   {
    "duration": 45,
    "start_time": "2024-04-04T18:56:01.007Z"
   },
   {
    "duration": 42,
    "start_time": "2024-04-04T18:56:01.053Z"
   },
   {
    "duration": 72,
    "start_time": "2024-04-04T18:56:01.096Z"
   },
   {
    "duration": 34,
    "start_time": "2024-04-04T18:56:01.169Z"
   },
   {
    "duration": 37,
    "start_time": "2024-04-04T18:56:01.205Z"
   },
   {
    "duration": 1020,
    "start_time": "2024-04-04T18:56:01.243Z"
   },
   {
    "duration": 0,
    "start_time": "2024-04-04T18:56:02.266Z"
   },
   {
    "duration": 0,
    "start_time": "2024-04-04T18:56:02.266Z"
   },
   {
    "duration": 0,
    "start_time": "2024-04-04T18:56:02.267Z"
   },
   {
    "duration": 0,
    "start_time": "2024-04-04T18:56:02.268Z"
   },
   {
    "duration": 0,
    "start_time": "2024-04-04T18:56:02.269Z"
   },
   {
    "duration": 0,
    "start_time": "2024-04-04T18:56:02.270Z"
   },
   {
    "duration": 0,
    "start_time": "2024-04-04T18:56:02.271Z"
   },
   {
    "duration": 0,
    "start_time": "2024-04-04T18:56:02.272Z"
   },
   {
    "duration": 0,
    "start_time": "2024-04-04T18:56:02.273Z"
   },
   {
    "duration": 0,
    "start_time": "2024-04-04T18:56:02.274Z"
   },
   {
    "duration": 0,
    "start_time": "2024-04-04T18:56:02.275Z"
   },
   {
    "duration": 0,
    "start_time": "2024-04-04T18:56:02.276Z"
   },
   {
    "duration": 0,
    "start_time": "2024-04-04T18:56:02.277Z"
   },
   {
    "duration": 0,
    "start_time": "2024-04-04T18:56:02.278Z"
   },
   {
    "duration": 0,
    "start_time": "2024-04-04T18:56:02.279Z"
   },
   {
    "duration": 0,
    "start_time": "2024-04-04T18:56:02.280Z"
   },
   {
    "duration": 0,
    "start_time": "2024-04-04T18:56:02.281Z"
   },
   {
    "duration": 0,
    "start_time": "2024-04-04T18:56:02.282Z"
   },
   {
    "duration": 0,
    "start_time": "2024-04-04T18:56:02.283Z"
   },
   {
    "duration": 5,
    "start_time": "2024-04-04T18:56:20.194Z"
   },
   {
    "duration": 129,
    "start_time": "2024-04-04T18:56:34.246Z"
   },
   {
    "duration": 5,
    "start_time": "2024-04-04T18:56:54.485Z"
   },
   {
    "duration": 104,
    "start_time": "2024-04-04T18:58:46.135Z"
   },
   {
    "duration": 13,
    "start_time": "2024-04-04T18:59:25.494Z"
   },
   {
    "duration": 113,
    "start_time": "2024-04-04T19:00:15.486Z"
   },
   {
    "duration": 111,
    "start_time": "2024-04-04T19:00:38.483Z"
   },
   {
    "duration": 9,
    "start_time": "2024-04-04T19:00:46.757Z"
   },
   {
    "duration": 1071,
    "start_time": "2024-04-04T19:01:04.791Z"
   },
   {
    "duration": 18,
    "start_time": "2024-04-04T19:01:05.864Z"
   },
   {
    "duration": 30,
    "start_time": "2024-04-04T19:01:05.883Z"
   },
   {
    "duration": 28,
    "start_time": "2024-04-04T19:01:05.914Z"
   },
   {
    "duration": 22,
    "start_time": "2024-04-04T19:01:05.943Z"
   },
   {
    "duration": 27,
    "start_time": "2024-04-04T19:01:05.966Z"
   },
   {
    "duration": 20,
    "start_time": "2024-04-04T19:01:05.994Z"
   },
   {
    "duration": 20,
    "start_time": "2024-04-04T19:01:06.015Z"
   },
   {
    "duration": 23334,
    "start_time": "2024-04-04T19:01:06.036Z"
   },
   {
    "duration": 109,
    "start_time": "2024-04-04T19:01:29.372Z"
   },
   {
    "duration": 136,
    "start_time": "2024-04-04T19:01:29.482Z"
   },
   {
    "duration": 288,
    "start_time": "2024-04-04T19:01:29.619Z"
   },
   {
    "duration": 166,
    "start_time": "2024-04-04T19:01:29.909Z"
   },
   {
    "duration": 32,
    "start_time": "2024-04-04T19:01:30.076Z"
   },
   {
    "duration": 67,
    "start_time": "2024-04-04T19:01:30.109Z"
   },
   {
    "duration": 46,
    "start_time": "2024-04-04T19:01:30.178Z"
   },
   {
    "duration": 45,
    "start_time": "2024-04-04T19:01:30.226Z"
   },
   {
    "duration": 174,
    "start_time": "2024-04-04T19:01:30.273Z"
   },
   {
    "duration": 154,
    "start_time": "2024-04-04T19:01:30.449Z"
   },
   {
    "duration": 142,
    "start_time": "2024-04-04T19:01:30.604Z"
   },
   {
    "duration": 143,
    "start_time": "2024-04-04T19:01:30.748Z"
   },
   {
    "duration": 39,
    "start_time": "2024-04-04T19:01:30.892Z"
   },
   {
    "duration": 14,
    "start_time": "2024-04-04T19:01:30.932Z"
   },
   {
    "duration": 200,
    "start_time": "2024-04-04T19:01:30.947Z"
   },
   {
    "duration": 166,
    "start_time": "2024-04-04T19:01:31.149Z"
   },
   {
    "duration": 6,
    "start_time": "2024-04-04T19:01:31.316Z"
   },
   {
    "duration": 63,
    "start_time": "2024-04-04T19:01:31.324Z"
   },
   {
    "duration": 47,
    "start_time": "2024-04-04T19:01:31.390Z"
   },
   {
    "duration": 103,
    "start_time": "2024-04-04T19:02:05.952Z"
   },
   {
    "duration": 935,
    "start_time": "2024-04-04T19:02:22.539Z"
   },
   {
    "duration": 8,
    "start_time": "2024-04-04T19:02:54.398Z"
   },
   {
    "duration": 123,
    "start_time": "2024-04-04T19:04:07.486Z"
   },
   {
    "duration": 134,
    "start_time": "2024-04-04T19:04:24.983Z"
   },
   {
    "duration": 128,
    "start_time": "2024-04-04T19:05:08.822Z"
   },
   {
    "duration": 125,
    "start_time": "2024-04-04T19:05:18.272Z"
   },
   {
    "duration": 126,
    "start_time": "2024-04-04T19:05:25.934Z"
   },
   {
    "duration": 135,
    "start_time": "2024-04-04T19:05:40.773Z"
   },
   {
    "duration": 131,
    "start_time": "2024-04-04T19:05:47.371Z"
   },
   {
    "duration": 127,
    "start_time": "2024-04-04T19:06:32.539Z"
   },
   {
    "duration": 220,
    "start_time": "2024-04-04T19:12:03.905Z"
   },
   {
    "duration": 112,
    "start_time": "2024-04-04T19:12:30.068Z"
   },
   {
    "duration": 61,
    "start_time": "2024-04-04T19:12:38.961Z"
   },
   {
    "duration": 59,
    "start_time": "2024-04-04T19:13:17.859Z"
   },
   {
    "duration": 58,
    "start_time": "2024-04-04T19:13:38.048Z"
   },
   {
    "duration": 62,
    "start_time": "2024-04-04T19:14:08.880Z"
   },
   {
    "duration": 76,
    "start_time": "2024-04-04T19:14:29.445Z"
   },
   {
    "duration": 79,
    "start_time": "2024-04-04T19:14:35.279Z"
   },
   {
    "duration": 68,
    "start_time": "2024-04-04T19:14:40.634Z"
   },
   {
    "duration": 326,
    "start_time": "2024-04-04T19:14:52.568Z"
   },
   {
    "duration": 68,
    "start_time": "2024-04-04T19:14:56.593Z"
   },
   {
    "duration": 66,
    "start_time": "2024-04-04T19:15:00.539Z"
   },
   {
    "duration": 75,
    "start_time": "2024-04-04T19:15:07.554Z"
   },
   {
    "duration": 79,
    "start_time": "2024-04-04T19:15:58.318Z"
   },
   {
    "duration": 77,
    "start_time": "2024-04-04T19:17:41.148Z"
   },
   {
    "duration": 91,
    "start_time": "2024-04-04T19:18:58.629Z"
   },
   {
    "duration": 80,
    "start_time": "2024-04-04T19:19:07.580Z"
   },
   {
    "duration": 77,
    "start_time": "2024-04-04T19:19:21.294Z"
   },
   {
    "duration": 76,
    "start_time": "2024-04-04T19:19:32.006Z"
   },
   {
    "duration": 81,
    "start_time": "2024-04-04T19:19:43.854Z"
   },
   {
    "duration": 88,
    "start_time": "2024-04-04T19:19:59.051Z"
   },
   {
    "duration": 141,
    "start_time": "2024-04-04T19:21:25.639Z"
   },
   {
    "duration": 121,
    "start_time": "2024-04-04T19:21:39.678Z"
   },
   {
    "duration": 6,
    "start_time": "2024-04-04T19:21:56.538Z"
   },
   {
    "duration": 120,
    "start_time": "2024-04-04T19:22:00.942Z"
   },
   {
    "duration": 215,
    "start_time": "2024-04-04T19:23:48.223Z"
   },
   {
    "duration": 7,
    "start_time": "2024-04-04T19:25:20.430Z"
   },
   {
    "duration": 128,
    "start_time": "2024-04-04T19:25:28.887Z"
   },
   {
    "duration": 132,
    "start_time": "2024-04-04T19:25:37.103Z"
   },
   {
    "duration": 170,
    "start_time": "2024-04-04T19:26:54.211Z"
   },
   {
    "duration": 862,
    "start_time": "2024-04-04T19:27:00.806Z"
   },
   {
    "duration": 8,
    "start_time": "2024-04-04T19:27:26.726Z"
   },
   {
    "duration": 8,
    "start_time": "2024-04-04T19:28:00.082Z"
   },
   {
    "duration": 190,
    "start_time": "2024-04-04T19:28:37.596Z"
   },
   {
    "duration": 39,
    "start_time": "2024-04-04T19:42:41.485Z"
   },
   {
    "duration": 19,
    "start_time": "2024-04-04T19:45:27.062Z"
   },
   {
    "duration": 23,
    "start_time": "2024-04-04T19:45:45.449Z"
   },
   {
    "duration": 29,
    "start_time": "2024-04-04T19:45:50.133Z"
   },
   {
    "duration": 197,
    "start_time": "2024-04-04T19:58:57.427Z"
   },
   {
    "duration": 187,
    "start_time": "2024-04-04T19:59:14.083Z"
   },
   {
    "duration": 190,
    "start_time": "2024-04-04T20:00:26.569Z"
   },
   {
    "duration": 293,
    "start_time": "2024-04-04T20:00:49.385Z"
   },
   {
    "duration": 185,
    "start_time": "2024-04-04T20:01:12.728Z"
   },
   {
    "duration": 211,
    "start_time": "2024-04-04T20:01:18.607Z"
   },
   {
    "duration": 193,
    "start_time": "2024-04-04T20:01:23.713Z"
   },
   {
    "duration": 10,
    "start_time": "2024-04-04T20:06:06.295Z"
   },
   {
    "duration": 192,
    "start_time": "2024-04-04T20:13:45.745Z"
   },
   {
    "duration": 264,
    "start_time": "2024-04-04T20:13:51.055Z"
   },
   {
    "duration": 155,
    "start_time": "2024-04-04T20:13:56.971Z"
   },
   {
    "duration": 157,
    "start_time": "2024-04-04T20:14:47.309Z"
   },
   {
    "duration": 184,
    "start_time": "2024-04-04T20:15:27.757Z"
   },
   {
    "duration": 43,
    "start_time": "2024-04-04T20:23:30.143Z"
   },
   {
    "duration": 45,
    "start_time": "2024-04-04T20:23:56.623Z"
   },
   {
    "duration": 81,
    "start_time": "2024-04-04T20:25:23.946Z"
   },
   {
    "duration": 1061,
    "start_time": "2024-04-04T20:25:55.283Z"
   },
   {
    "duration": 19,
    "start_time": "2024-04-04T20:25:56.345Z"
   },
   {
    "duration": 14,
    "start_time": "2024-04-04T20:25:56.366Z"
   },
   {
    "duration": 12,
    "start_time": "2024-04-04T20:25:56.382Z"
   },
   {
    "duration": 6,
    "start_time": "2024-04-04T20:25:56.395Z"
   },
   {
    "duration": 13,
    "start_time": "2024-04-04T20:25:56.402Z"
   },
   {
    "duration": 39,
    "start_time": "2024-04-04T20:25:56.416Z"
   },
   {
    "duration": 7,
    "start_time": "2024-04-04T20:25:56.456Z"
   },
   {
    "duration": 163,
    "start_time": "2024-04-04T20:25:56.465Z"
   },
   {
    "duration": 94,
    "start_time": "2024-04-04T20:25:56.630Z"
   },
   {
    "duration": 7,
    "start_time": "2024-04-04T20:25:56.726Z"
   },
   {
    "duration": 134,
    "start_time": "2024-04-04T20:25:56.745Z"
   },
   {
    "duration": 7,
    "start_time": "2024-04-04T20:25:56.881Z"
   },
   {
    "duration": 168,
    "start_time": "2024-04-04T20:25:56.889Z"
   },
   {
    "duration": 8,
    "start_time": "2024-04-04T20:25:57.058Z"
   },
   {
    "duration": 204,
    "start_time": "2024-04-04T20:25:57.067Z"
   },
   {
    "duration": 28,
    "start_time": "2024-04-04T20:25:57.273Z"
   },
   {
    "duration": 22,
    "start_time": "2024-04-04T20:25:57.302Z"
   },
   {
    "duration": 40,
    "start_time": "2024-04-04T20:25:57.326Z"
   },
   {
    "duration": 21,
    "start_time": "2024-04-04T20:25:57.368Z"
   },
   {
    "duration": 20,
    "start_time": "2024-04-04T20:25:57.390Z"
   },
   {
    "duration": 34,
    "start_time": "2024-04-04T20:25:57.411Z"
   },
   {
    "duration": 211,
    "start_time": "2024-04-04T20:25:57.446Z"
   },
   {
    "duration": 11,
    "start_time": "2024-04-04T20:25:57.658Z"
   },
   {
    "duration": 201,
    "start_time": "2024-04-04T20:25:57.671Z"
   },
   {
    "duration": 40,
    "start_time": "2024-04-04T20:25:57.874Z"
   },
   {
    "duration": 904,
    "start_time": "2024-04-04T20:25:57.916Z"
   },
   {
    "duration": 0,
    "start_time": "2024-04-04T20:25:58.821Z"
   },
   {
    "duration": 0,
    "start_time": "2024-04-04T20:25:58.822Z"
   },
   {
    "duration": 0,
    "start_time": "2024-04-04T20:25:58.823Z"
   },
   {
    "duration": 0,
    "start_time": "2024-04-04T20:25:58.824Z"
   },
   {
    "duration": 0,
    "start_time": "2024-04-04T20:25:58.825Z"
   },
   {
    "duration": 1049,
    "start_time": "2024-04-04T20:26:49.284Z"
   },
   {
    "duration": 19,
    "start_time": "2024-04-04T20:26:50.335Z"
   },
   {
    "duration": 16,
    "start_time": "2024-04-04T20:26:50.355Z"
   },
   {
    "duration": 12,
    "start_time": "2024-04-04T20:26:50.373Z"
   },
   {
    "duration": 11,
    "start_time": "2024-04-04T20:26:50.386Z"
   },
   {
    "duration": 18,
    "start_time": "2024-04-04T20:26:50.398Z"
   },
   {
    "duration": 38,
    "start_time": "2024-04-04T20:26:50.418Z"
   },
   {
    "duration": 7,
    "start_time": "2024-04-04T20:26:50.457Z"
   },
   {
    "duration": 155,
    "start_time": "2024-04-04T20:26:50.465Z"
   },
   {
    "duration": 80,
    "start_time": "2024-04-04T20:26:50.623Z"
   },
   {
    "duration": 6,
    "start_time": "2024-04-04T20:26:50.705Z"
   },
   {
    "duration": 150,
    "start_time": "2024-04-04T20:26:50.713Z"
   },
   {
    "duration": 8,
    "start_time": "2024-04-04T20:26:50.864Z"
   },
   {
    "duration": 174,
    "start_time": "2024-04-04T20:26:50.873Z"
   },
   {
    "duration": 7,
    "start_time": "2024-04-04T20:26:51.048Z"
   },
   {
    "duration": 184,
    "start_time": "2024-04-04T20:26:51.057Z"
   },
   {
    "duration": 30,
    "start_time": "2024-04-04T20:26:51.244Z"
   },
   {
    "duration": 22,
    "start_time": "2024-04-04T20:26:51.275Z"
   },
   {
    "duration": 24,
    "start_time": "2024-04-04T20:26:51.298Z"
   },
   {
    "duration": 41,
    "start_time": "2024-04-04T20:26:51.323Z"
   },
   {
    "duration": 19,
    "start_time": "2024-04-04T20:26:51.366Z"
   },
   {
    "duration": 10,
    "start_time": "2024-04-04T20:26:51.386Z"
   },
   {
    "duration": 225,
    "start_time": "2024-04-04T20:26:51.397Z"
   },
   {
    "duration": 11,
    "start_time": "2024-04-04T20:26:51.624Z"
   },
   {
    "duration": 183,
    "start_time": "2024-04-04T20:26:51.645Z"
   },
   {
    "duration": 42,
    "start_time": "2024-04-04T20:26:51.829Z"
   },
   {
    "duration": 888,
    "start_time": "2024-04-04T20:26:51.872Z"
   },
   {
    "duration": 0,
    "start_time": "2024-04-04T20:26:52.761Z"
   },
   {
    "duration": 1,
    "start_time": "2024-04-04T20:26:52.762Z"
   },
   {
    "duration": 0,
    "start_time": "2024-04-04T20:26:52.764Z"
   },
   {
    "duration": 0,
    "start_time": "2024-04-04T20:26:52.764Z"
   },
   {
    "duration": 0,
    "start_time": "2024-04-04T20:26:52.765Z"
   },
   {
    "duration": 1106,
    "start_time": "2024-04-04T20:28:06.235Z"
   },
   {
    "duration": 19,
    "start_time": "2024-04-04T20:28:07.343Z"
   },
   {
    "duration": 16,
    "start_time": "2024-04-04T20:28:07.364Z"
   },
   {
    "duration": 10,
    "start_time": "2024-04-04T20:28:07.382Z"
   },
   {
    "duration": 6,
    "start_time": "2024-04-04T20:28:07.394Z"
   },
   {
    "duration": 25,
    "start_time": "2024-04-04T20:28:07.401Z"
   },
   {
    "duration": 33,
    "start_time": "2024-04-04T20:28:07.427Z"
   },
   {
    "duration": 8,
    "start_time": "2024-04-04T20:28:07.462Z"
   },
   {
    "duration": 159,
    "start_time": "2024-04-04T20:28:07.472Z"
   },
   {
    "duration": 85,
    "start_time": "2024-04-04T20:28:07.634Z"
   },
   {
    "duration": 8,
    "start_time": "2024-04-04T20:28:07.721Z"
   },
   {
    "duration": 129,
    "start_time": "2024-04-04T20:28:07.746Z"
   },
   {
    "duration": 7,
    "start_time": "2024-04-04T20:28:07.877Z"
   },
   {
    "duration": 171,
    "start_time": "2024-04-04T20:28:07.885Z"
   },
   {
    "duration": 7,
    "start_time": "2024-04-04T20:28:08.058Z"
   },
   {
    "duration": 186,
    "start_time": "2024-04-04T20:28:08.066Z"
   },
   {
    "duration": 32,
    "start_time": "2024-04-04T20:28:08.254Z"
   },
   {
    "duration": 22,
    "start_time": "2024-04-04T20:28:08.288Z"
   },
   {
    "duration": 48,
    "start_time": "2024-04-04T20:28:08.311Z"
   },
   {
    "duration": 22,
    "start_time": "2024-04-04T20:28:08.360Z"
   },
   {
    "duration": 23,
    "start_time": "2024-04-04T20:28:08.383Z"
   },
   {
    "duration": 10,
    "start_time": "2024-04-04T20:28:08.407Z"
   },
   {
    "duration": 246,
    "start_time": "2024-04-04T20:28:08.418Z"
   },
   {
    "duration": 11,
    "start_time": "2024-04-04T20:28:08.665Z"
   },
   {
    "duration": 196,
    "start_time": "2024-04-04T20:28:08.677Z"
   },
   {
    "duration": 5,
    "start_time": "2024-04-04T20:28:08.874Z"
   },
   {
    "duration": 895,
    "start_time": "2024-04-04T20:28:08.880Z"
   },
   {
    "duration": 0,
    "start_time": "2024-04-04T20:28:09.777Z"
   },
   {
    "duration": 0,
    "start_time": "2024-04-04T20:28:09.778Z"
   },
   {
    "duration": 0,
    "start_time": "2024-04-04T20:28:09.779Z"
   },
   {
    "duration": 0,
    "start_time": "2024-04-04T20:28:09.780Z"
   },
   {
    "duration": 0,
    "start_time": "2024-04-04T20:28:09.781Z"
   },
   {
    "duration": 14,
    "start_time": "2024-04-04T20:28:39.400Z"
   },
   {
    "duration": 16,
    "start_time": "2024-04-04T20:29:45.813Z"
   },
   {
    "duration": 1081,
    "start_time": "2024-04-04T20:30:06.557Z"
   },
   {
    "duration": 21,
    "start_time": "2024-04-04T20:30:07.639Z"
   },
   {
    "duration": 16,
    "start_time": "2024-04-04T20:30:07.661Z"
   },
   {
    "duration": 13,
    "start_time": "2024-04-04T20:30:07.679Z"
   },
   {
    "duration": 8,
    "start_time": "2024-04-04T20:30:07.694Z"
   },
   {
    "duration": 42,
    "start_time": "2024-04-04T20:30:07.703Z"
   },
   {
    "duration": 13,
    "start_time": "2024-04-04T20:30:07.747Z"
   },
   {
    "duration": 15,
    "start_time": "2024-04-04T20:30:07.761Z"
   },
   {
    "duration": 150,
    "start_time": "2024-04-04T20:30:07.777Z"
   },
   {
    "duration": 81,
    "start_time": "2024-04-04T20:30:07.930Z"
   },
   {
    "duration": 7,
    "start_time": "2024-04-04T20:30:08.013Z"
   },
   {
    "duration": 156,
    "start_time": "2024-04-04T20:30:08.022Z"
   },
   {
    "duration": 10,
    "start_time": "2024-04-04T20:30:08.180Z"
   },
   {
    "duration": 203,
    "start_time": "2024-04-04T20:30:08.191Z"
   },
   {
    "duration": 8,
    "start_time": "2024-04-04T20:30:08.396Z"
   },
   {
    "duration": 188,
    "start_time": "2024-04-04T20:30:08.406Z"
   },
   {
    "duration": 31,
    "start_time": "2024-04-04T20:30:08.596Z"
   },
   {
    "duration": 37,
    "start_time": "2024-04-04T20:30:08.628Z"
   },
   {
    "duration": 25,
    "start_time": "2024-04-04T20:30:08.666Z"
   },
   {
    "duration": 21,
    "start_time": "2024-04-04T20:30:08.693Z"
   },
   {
    "duration": 47,
    "start_time": "2024-04-04T20:30:08.715Z"
   },
   {
    "duration": 9,
    "start_time": "2024-04-04T20:30:08.764Z"
   },
   {
    "duration": 216,
    "start_time": "2024-04-04T20:30:08.774Z"
   },
   {
    "duration": 10,
    "start_time": "2024-04-04T20:30:08.991Z"
   },
   {
    "duration": 194,
    "start_time": "2024-04-04T20:30:09.003Z"
   },
   {
    "duration": 5,
    "start_time": "2024-04-04T20:30:09.199Z"
   },
   {
    "duration": 998,
    "start_time": "2024-04-04T20:30:09.205Z"
   },
   {
    "duration": 0,
    "start_time": "2024-04-04T20:30:10.205Z"
   },
   {
    "duration": 0,
    "start_time": "2024-04-04T20:30:10.206Z"
   },
   {
    "duration": 0,
    "start_time": "2024-04-04T20:30:10.207Z"
   },
   {
    "duration": 0,
    "start_time": "2024-04-04T20:30:10.208Z"
   },
   {
    "duration": 0,
    "start_time": "2024-04-04T20:30:10.208Z"
   },
   {
    "duration": 10,
    "start_time": "2024-04-04T20:31:25.422Z"
   },
   {
    "duration": 114,
    "start_time": "2024-04-04T20:32:42.137Z"
   },
   {
    "duration": 260,
    "start_time": "2024-04-04T20:34:16.400Z"
   },
   {
    "duration": 57,
    "start_time": "2024-04-04T20:34:36.110Z"
   },
   {
    "duration": 265,
    "start_time": "2024-04-04T20:34:59.169Z"
   },
   {
    "duration": 37,
    "start_time": "2024-04-04T20:35:22.462Z"
   },
   {
    "duration": 242,
    "start_time": "2024-04-04T20:36:06.565Z"
   },
   {
    "duration": 46,
    "start_time": "2024-04-04T20:36:45.349Z"
   },
   {
    "duration": 47,
    "start_time": "2024-04-04T20:37:03.637Z"
   },
   {
    "duration": 41,
    "start_time": "2024-04-04T20:37:28.992Z"
   },
   {
    "duration": 63,
    "start_time": "2024-04-04T20:37:43.451Z"
   },
   {
    "duration": 826,
    "start_time": "2024-04-04T20:38:08.539Z"
   },
   {
    "duration": 49,
    "start_time": "2024-04-04T20:38:16.058Z"
   },
   {
    "duration": 790,
    "start_time": "2024-04-04T20:38:25.225Z"
   },
   {
    "duration": 5,
    "start_time": "2024-04-04T20:38:38.671Z"
   },
   {
    "duration": 11,
    "start_time": "2024-04-04T20:38:53.300Z"
   },
   {
    "duration": 52,
    "start_time": "2024-04-04T20:43:13.088Z"
   },
   {
    "duration": 63,
    "start_time": "2024-04-04T20:43:35.728Z"
   },
   {
    "duration": 55,
    "start_time": "2024-04-04T20:47:31.366Z"
   },
   {
    "duration": 11,
    "start_time": "2024-04-04T20:47:38.622Z"
   },
   {
    "duration": 1115,
    "start_time": "2024-04-04T20:47:48.586Z"
   },
   {
    "duration": 21,
    "start_time": "2024-04-04T20:47:49.703Z"
   },
   {
    "duration": 16,
    "start_time": "2024-04-04T20:47:49.725Z"
   },
   {
    "duration": 23,
    "start_time": "2024-04-04T20:47:49.743Z"
   },
   {
    "duration": 7,
    "start_time": "2024-04-04T20:47:49.768Z"
   },
   {
    "duration": 14,
    "start_time": "2024-04-04T20:47:49.776Z"
   },
   {
    "duration": 14,
    "start_time": "2024-04-04T20:47:49.791Z"
   },
   {
    "duration": 8,
    "start_time": "2024-04-04T20:47:49.806Z"
   },
   {
    "duration": 202,
    "start_time": "2024-04-04T20:47:49.816Z"
   },
   {
    "duration": 94,
    "start_time": "2024-04-04T20:47:50.020Z"
   },
   {
    "duration": 7,
    "start_time": "2024-04-04T20:47:50.115Z"
   },
   {
    "duration": 184,
    "start_time": "2024-04-04T20:47:50.123Z"
   },
   {
    "duration": 9,
    "start_time": "2024-04-04T20:47:50.310Z"
   },
   {
    "duration": 194,
    "start_time": "2024-04-04T20:47:50.322Z"
   },
   {
    "duration": 9,
    "start_time": "2024-04-04T20:47:50.519Z"
   },
   {
    "duration": 207,
    "start_time": "2024-04-04T20:47:50.530Z"
   },
   {
    "duration": 44,
    "start_time": "2024-04-04T20:47:50.738Z"
   },
   {
    "duration": 22,
    "start_time": "2024-04-04T20:47:50.783Z"
   },
   {
    "duration": 53,
    "start_time": "2024-04-04T20:47:50.806Z"
   },
   {
    "duration": 22,
    "start_time": "2024-04-04T20:47:50.861Z"
   },
   {
    "duration": 21,
    "start_time": "2024-04-04T20:47:50.884Z"
   },
   {
    "duration": 9,
    "start_time": "2024-04-04T20:47:50.906Z"
   },
   {
    "duration": 235,
    "start_time": "2024-04-04T20:47:50.917Z"
   },
   {
    "duration": 12,
    "start_time": "2024-04-04T20:47:51.154Z"
   },
   {
    "duration": 211,
    "start_time": "2024-04-04T20:47:51.167Z"
   },
   {
    "duration": 140,
    "start_time": "2024-04-04T20:47:51.379Z"
   },
   {
    "duration": 11,
    "start_time": "2024-04-04T20:47:51.520Z"
   },
   {
    "duration": 103,
    "start_time": "2024-04-04T20:47:51.532Z"
   },
   {
    "duration": 0,
    "start_time": "2024-04-04T20:47:51.636Z"
   },
   {
    "duration": 0,
    "start_time": "2024-04-04T20:47:51.638Z"
   },
   {
    "duration": 0,
    "start_time": "2024-04-04T20:47:51.638Z"
   },
   {
    "duration": 0,
    "start_time": "2024-04-04T20:47:51.645Z"
   },
   {
    "duration": 1083,
    "start_time": "2024-04-04T20:48:16.298Z"
   },
   {
    "duration": 19,
    "start_time": "2024-04-04T20:48:17.382Z"
   },
   {
    "duration": 20,
    "start_time": "2024-04-04T20:48:17.402Z"
   },
   {
    "duration": 17,
    "start_time": "2024-04-04T20:48:17.424Z"
   },
   {
    "duration": 26,
    "start_time": "2024-04-04T20:48:17.442Z"
   },
   {
    "duration": 26,
    "start_time": "2024-04-04T20:48:17.470Z"
   },
   {
    "duration": 31,
    "start_time": "2024-04-04T20:48:17.497Z"
   },
   {
    "duration": 21,
    "start_time": "2024-04-04T20:48:17.530Z"
   },
   {
    "duration": 170,
    "start_time": "2024-04-04T20:48:17.554Z"
   },
   {
    "duration": 93,
    "start_time": "2024-04-04T20:48:17.726Z"
   },
   {
    "duration": 8,
    "start_time": "2024-04-04T20:48:17.820Z"
   },
   {
    "duration": 175,
    "start_time": "2024-04-04T20:48:17.829Z"
   },
   {
    "duration": 8,
    "start_time": "2024-04-04T20:48:18.006Z"
   },
   {
    "duration": 202,
    "start_time": "2024-04-04T20:48:18.015Z"
   },
   {
    "duration": 8,
    "start_time": "2024-04-04T20:48:18.219Z"
   },
   {
    "duration": 198,
    "start_time": "2024-04-04T20:48:18.228Z"
   },
   {
    "duration": 46,
    "start_time": "2024-04-04T20:48:18.427Z"
   },
   {
    "duration": 23,
    "start_time": "2024-04-04T20:48:18.474Z"
   },
   {
    "duration": 25,
    "start_time": "2024-04-04T20:48:18.499Z"
   },
   {
    "duration": 46,
    "start_time": "2024-04-04T20:48:18.526Z"
   },
   {
    "duration": 21,
    "start_time": "2024-04-04T20:48:18.574Z"
   },
   {
    "duration": 18,
    "start_time": "2024-04-04T20:48:18.596Z"
   },
   {
    "duration": 234,
    "start_time": "2024-04-04T20:48:18.615Z"
   },
   {
    "duration": 17,
    "start_time": "2024-04-04T20:48:18.851Z"
   },
   {
    "duration": 211,
    "start_time": "2024-04-04T20:48:18.869Z"
   },
   {
    "duration": 152,
    "start_time": "2024-04-04T20:48:19.081Z"
   },
   {
    "duration": 26,
    "start_time": "2024-04-04T20:48:19.234Z"
   },
   {
    "duration": 110,
    "start_time": "2024-04-04T20:48:19.263Z"
   },
   {
    "duration": 0,
    "start_time": "2024-04-04T20:48:19.374Z"
   },
   {
    "duration": 0,
    "start_time": "2024-04-04T20:48:19.375Z"
   },
   {
    "duration": 0,
    "start_time": "2024-04-04T20:48:19.376Z"
   },
   {
    "duration": 0,
    "start_time": "2024-04-04T20:48:19.377Z"
   },
   {
    "duration": 56,
    "start_time": "2024-04-04T20:49:13.681Z"
   },
   {
    "duration": 10,
    "start_time": "2024-04-04T20:49:18.317Z"
   },
   {
    "duration": 44,
    "start_time": "2024-04-04T20:53:13.978Z"
   },
   {
    "duration": 11,
    "start_time": "2024-04-04T20:53:42.030Z"
   },
   {
    "duration": 11,
    "start_time": "2024-04-04T20:54:13.082Z"
   },
   {
    "duration": 10,
    "start_time": "2024-04-04T20:55:05.348Z"
   },
   {
    "duration": 1057,
    "start_time": "2024-04-04T20:55:08.902Z"
   },
   {
    "duration": 18,
    "start_time": "2024-04-04T20:55:09.961Z"
   },
   {
    "duration": 15,
    "start_time": "2024-04-04T20:55:09.980Z"
   },
   {
    "duration": 12,
    "start_time": "2024-04-04T20:55:09.996Z"
   },
   {
    "duration": 14,
    "start_time": "2024-04-04T20:55:10.009Z"
   },
   {
    "duration": 13,
    "start_time": "2024-04-04T20:55:10.024Z"
   },
   {
    "duration": 17,
    "start_time": "2024-04-04T20:55:10.038Z"
   },
   {
    "duration": 6,
    "start_time": "2024-04-04T20:55:10.057Z"
   },
   {
    "duration": 159,
    "start_time": "2024-04-04T20:55:10.064Z"
   },
   {
    "duration": 89,
    "start_time": "2024-04-04T20:55:10.225Z"
   },
   {
    "duration": 7,
    "start_time": "2024-04-04T20:55:10.316Z"
   },
   {
    "duration": 143,
    "start_time": "2024-04-04T20:55:10.324Z"
   },
   {
    "duration": 8,
    "start_time": "2024-04-04T20:55:10.468Z"
   },
   {
    "duration": 175,
    "start_time": "2024-04-04T20:55:10.477Z"
   },
   {
    "duration": 7,
    "start_time": "2024-04-04T20:55:10.653Z"
   },
   {
    "duration": 184,
    "start_time": "2024-04-04T20:55:10.662Z"
   },
   {
    "duration": 31,
    "start_time": "2024-04-04T20:55:10.848Z"
   },
   {
    "duration": 22,
    "start_time": "2024-04-04T20:55:10.880Z"
   },
   {
    "duration": 46,
    "start_time": "2024-04-04T20:55:10.903Z"
   },
   {
    "duration": 22,
    "start_time": "2024-04-04T20:55:10.950Z"
   },
   {
    "duration": 21,
    "start_time": "2024-04-04T20:55:10.974Z"
   },
   {
    "duration": 10,
    "start_time": "2024-04-04T20:55:10.997Z"
   },
   {
    "duration": 231,
    "start_time": "2024-04-04T20:55:11.009Z"
   },
   {
    "duration": 10,
    "start_time": "2024-04-04T20:55:11.244Z"
   },
   {
    "duration": 184,
    "start_time": "2024-04-04T20:55:11.255Z"
   },
   {
    "duration": 122,
    "start_time": "2024-04-04T20:55:11.440Z"
   },
   {
    "duration": 10,
    "start_time": "2024-04-04T20:55:11.563Z"
   },
   {
    "duration": 150,
    "start_time": "2024-04-04T20:55:11.575Z"
   },
   {
    "duration": 7,
    "start_time": "2024-04-04T20:55:11.726Z"
   },
   {
    "duration": 13,
    "start_time": "2024-04-04T20:55:11.734Z"
   },
   {
    "duration": 10,
    "start_time": "2024-04-04T20:55:11.748Z"
   },
   {
    "duration": 209,
    "start_time": "2024-04-04T20:56:15.025Z"
   },
   {
    "duration": 187,
    "start_time": "2024-04-04T20:56:52.311Z"
   },
   {
    "duration": 152,
    "start_time": "2024-04-04T20:57:49.388Z"
   },
   {
    "duration": 120,
    "start_time": "2024-04-04T20:58:05.913Z"
   },
   {
    "duration": 163,
    "start_time": "2024-04-04T20:58:10.291Z"
   },
   {
    "duration": 5,
    "start_time": "2024-04-04T21:04:03.607Z"
   },
   {
    "duration": 6,
    "start_time": "2024-04-04T21:04:31.806Z"
   },
   {
    "duration": 6,
    "start_time": "2024-04-04T21:04:34.259Z"
   },
   {
    "duration": 1111,
    "start_time": "2024-04-04T21:20:16.013Z"
   },
   {
    "duration": 20,
    "start_time": "2024-04-04T21:20:17.125Z"
   },
   {
    "duration": 23,
    "start_time": "2024-04-04T21:20:17.146Z"
   },
   {
    "duration": 14,
    "start_time": "2024-04-04T21:20:17.171Z"
   },
   {
    "duration": 8,
    "start_time": "2024-04-04T21:20:17.187Z"
   },
   {
    "duration": 10,
    "start_time": "2024-04-04T21:20:17.196Z"
   },
   {
    "duration": 50,
    "start_time": "2024-04-04T21:20:17.207Z"
   },
   {
    "duration": 13,
    "start_time": "2024-04-04T21:20:17.259Z"
   },
   {
    "duration": 170,
    "start_time": "2024-04-04T21:20:17.273Z"
   },
   {
    "duration": 92,
    "start_time": "2024-04-04T21:20:17.446Z"
   },
   {
    "duration": 27,
    "start_time": "2024-04-04T21:20:17.539Z"
   },
   {
    "duration": 136,
    "start_time": "2024-04-04T21:20:17.567Z"
   },
   {
    "duration": 9,
    "start_time": "2024-04-04T21:20:17.705Z"
   },
   {
    "duration": 200,
    "start_time": "2024-04-04T21:20:17.715Z"
   },
   {
    "duration": 7,
    "start_time": "2024-04-04T21:20:17.916Z"
   },
   {
    "duration": 199,
    "start_time": "2024-04-04T21:20:17.924Z"
   },
   {
    "duration": 39,
    "start_time": "2024-04-04T21:20:18.125Z"
   },
   {
    "duration": 21,
    "start_time": "2024-04-04T21:20:18.165Z"
   },
   {
    "duration": 26,
    "start_time": "2024-04-04T21:20:18.187Z"
   },
   {
    "duration": 56,
    "start_time": "2024-04-04T21:20:18.214Z"
   },
   {
    "duration": 22,
    "start_time": "2024-04-04T21:20:18.271Z"
   },
   {
    "duration": 9,
    "start_time": "2024-04-04T21:20:18.294Z"
   },
   {
    "duration": 223,
    "start_time": "2024-04-04T21:20:18.304Z"
   },
   {
    "duration": 26,
    "start_time": "2024-04-04T21:20:18.529Z"
   },
   {
    "duration": 211,
    "start_time": "2024-04-04T21:20:18.559Z"
   },
   {
    "duration": 138,
    "start_time": "2024-04-04T21:20:18.771Z"
   },
   {
    "duration": 11,
    "start_time": "2024-04-04T21:20:18.910Z"
   },
   {
    "duration": 174,
    "start_time": "2024-04-04T21:20:18.923Z"
   },
   {
    "duration": 6,
    "start_time": "2024-04-04T21:20:19.098Z"
   },
   {
    "duration": 6,
    "start_time": "2024-04-04T21:20:19.106Z"
   },
   {
    "duration": 14,
    "start_time": "2024-04-04T21:20:19.113Z"
   },
   {
    "duration": 1143,
    "start_time": "2024-04-04T22:23:04.903Z"
   },
   {
    "duration": 20,
    "start_time": "2024-04-04T22:23:06.048Z"
   },
   {
    "duration": 37,
    "start_time": "2024-04-04T22:23:06.069Z"
   },
   {
    "duration": 32,
    "start_time": "2024-04-04T22:23:06.107Z"
   },
   {
    "duration": 24,
    "start_time": "2024-04-04T22:23:06.141Z"
   },
   {
    "duration": 52,
    "start_time": "2024-04-04T22:23:06.166Z"
   },
   {
    "duration": 23,
    "start_time": "2024-04-04T22:23:06.219Z"
   },
   {
    "duration": 25,
    "start_time": "2024-04-04T22:23:06.243Z"
   },
   {
    "duration": 153,
    "start_time": "2024-04-04T22:23:06.270Z"
   },
   {
    "duration": 79,
    "start_time": "2024-04-04T22:23:06.425Z"
   },
   {
    "duration": 10,
    "start_time": "2024-04-04T22:23:06.517Z"
   },
   {
    "duration": 161,
    "start_time": "2024-04-04T22:23:06.528Z"
   },
   {
    "duration": 8,
    "start_time": "2024-04-04T22:23:06.691Z"
   },
   {
    "duration": 187,
    "start_time": "2024-04-04T22:23:06.702Z"
   },
   {
    "duration": 8,
    "start_time": "2024-04-04T22:23:06.890Z"
   },
   {
    "duration": 197,
    "start_time": "2024-04-04T22:23:06.900Z"
   },
   {
    "duration": 40,
    "start_time": "2024-04-04T22:23:07.099Z"
   },
   {
    "duration": 27,
    "start_time": "2024-04-04T22:23:07.141Z"
   },
   {
    "duration": 37,
    "start_time": "2024-04-04T22:23:07.170Z"
   },
   {
    "duration": 30,
    "start_time": "2024-04-04T22:23:07.208Z"
   },
   {
    "duration": 23,
    "start_time": "2024-04-04T22:23:07.240Z"
   },
   {
    "duration": 11,
    "start_time": "2024-04-04T22:23:07.265Z"
   },
   {
    "duration": 248,
    "start_time": "2024-04-04T22:23:07.278Z"
   },
   {
    "duration": 10,
    "start_time": "2024-04-04T22:23:07.528Z"
   },
   {
    "duration": 211,
    "start_time": "2024-04-04T22:23:07.540Z"
   },
   {
    "duration": 123,
    "start_time": "2024-04-04T22:23:07.752Z"
   },
   {
    "duration": 10,
    "start_time": "2024-04-04T22:23:07.877Z"
   },
   {
    "duration": 173,
    "start_time": "2024-04-04T22:23:07.889Z"
   },
   {
    "duration": 6,
    "start_time": "2024-04-04T22:23:08.063Z"
   },
   {
    "duration": 38,
    "start_time": "2024-04-04T22:23:08.071Z"
   },
   {
    "duration": 32,
    "start_time": "2024-04-04T22:23:08.110Z"
   },
   {
    "duration": 10,
    "start_time": "2024-04-04T23:09:57.009Z"
   },
   {
    "duration": 1081,
    "start_time": "2024-04-04T23:12:27.843Z"
   },
   {
    "duration": 21,
    "start_time": "2024-04-04T23:12:28.926Z"
   },
   {
    "duration": 17,
    "start_time": "2024-04-04T23:12:28.948Z"
   },
   {
    "duration": 13,
    "start_time": "2024-04-04T23:12:28.966Z"
   },
   {
    "duration": 7,
    "start_time": "2024-04-04T23:12:28.981Z"
   },
   {
    "duration": 30,
    "start_time": "2024-04-04T23:12:28.989Z"
   },
   {
    "duration": 14,
    "start_time": "2024-04-04T23:12:29.020Z"
   },
   {
    "duration": 7,
    "start_time": "2024-04-04T23:12:29.035Z"
   },
   {
    "duration": 177,
    "start_time": "2024-04-04T23:12:29.043Z"
   },
   {
    "duration": 80,
    "start_time": "2024-04-04T23:12:29.222Z"
   },
   {
    "duration": 8,
    "start_time": "2024-04-04T23:12:29.318Z"
   },
   {
    "duration": 144,
    "start_time": "2024-04-04T23:12:29.327Z"
   },
   {
    "duration": 8,
    "start_time": "2024-04-04T23:12:29.473Z"
   },
   {
    "duration": 207,
    "start_time": "2024-04-04T23:12:29.485Z"
   },
   {
    "duration": 11,
    "start_time": "2024-04-04T23:12:29.694Z"
   },
   {
    "duration": 231,
    "start_time": "2024-04-04T23:12:29.706Z"
   },
   {
    "duration": 48,
    "start_time": "2024-04-04T23:12:29.939Z"
   },
   {
    "duration": 49,
    "start_time": "2024-04-04T23:12:29.989Z"
   },
   {
    "duration": 29,
    "start_time": "2024-04-04T23:12:30.040Z"
   },
   {
    "duration": 27,
    "start_time": "2024-04-04T23:12:30.071Z"
   },
   {
    "duration": 34,
    "start_time": "2024-04-04T23:12:30.118Z"
   },
   {
    "duration": 12,
    "start_time": "2024-04-04T23:12:30.154Z"
   },
   {
    "duration": 234,
    "start_time": "2024-04-04T23:12:30.168Z"
   },
   {
    "duration": 19,
    "start_time": "2024-04-04T23:12:30.404Z"
   },
   {
    "duration": 232,
    "start_time": "2024-04-04T23:12:30.425Z"
   },
   {
    "duration": 130,
    "start_time": "2024-04-04T23:12:30.659Z"
   },
   {
    "duration": 12,
    "start_time": "2024-04-04T23:12:30.791Z"
   },
   {
    "duration": 225,
    "start_time": "2024-04-04T23:12:30.804Z"
   },
   {
    "duration": 7,
    "start_time": "2024-04-04T23:12:31.031Z"
   },
   {
    "duration": 34,
    "start_time": "2024-04-04T23:12:31.040Z"
   },
   {
    "duration": 28,
    "start_time": "2024-04-04T23:12:31.076Z"
   },
   {
    "duration": 55,
    "start_time": "2024-04-05T11:41:29.713Z"
   },
   {
    "duration": 1761,
    "start_time": "2024-04-05T11:41:35.215Z"
   },
   {
    "duration": 26,
    "start_time": "2024-04-05T11:41:36.978Z"
   },
   {
    "duration": 21,
    "start_time": "2024-04-05T11:41:37.007Z"
   },
   {
    "duration": 17,
    "start_time": "2024-04-05T11:41:37.030Z"
   },
   {
    "duration": 13,
    "start_time": "2024-04-05T11:41:37.050Z"
   },
   {
    "duration": 34,
    "start_time": "2024-04-05T11:41:37.064Z"
   },
   {
    "duration": 19,
    "start_time": "2024-04-05T11:41:37.100Z"
   },
   {
    "duration": 10,
    "start_time": "2024-04-05T11:41:37.121Z"
   },
   {
    "duration": 164,
    "start_time": "2024-04-05T11:41:37.133Z"
   },
   {
    "duration": 0,
    "start_time": "2024-04-05T11:41:37.299Z"
   },
   {
    "duration": 0,
    "start_time": "2024-04-05T11:41:37.300Z"
   },
   {
    "duration": 0,
    "start_time": "2024-04-05T11:41:37.302Z"
   },
   {
    "duration": 0,
    "start_time": "2024-04-05T11:41:37.303Z"
   },
   {
    "duration": 0,
    "start_time": "2024-04-05T11:41:37.305Z"
   },
   {
    "duration": 0,
    "start_time": "2024-04-05T11:41:37.306Z"
   },
   {
    "duration": 0,
    "start_time": "2024-04-05T11:41:37.308Z"
   },
   {
    "duration": 0,
    "start_time": "2024-04-05T11:41:37.309Z"
   },
   {
    "duration": 0,
    "start_time": "2024-04-05T11:41:37.310Z"
   },
   {
    "duration": 0,
    "start_time": "2024-04-05T11:41:37.311Z"
   },
   {
    "duration": 0,
    "start_time": "2024-04-05T11:41:37.312Z"
   },
   {
    "duration": 0,
    "start_time": "2024-04-05T11:41:37.314Z"
   },
   {
    "duration": 0,
    "start_time": "2024-04-05T11:41:37.315Z"
   },
   {
    "duration": 0,
    "start_time": "2024-04-05T11:41:37.317Z"
   },
   {
    "duration": 0,
    "start_time": "2024-04-05T11:41:37.317Z"
   },
   {
    "duration": 0,
    "start_time": "2024-04-05T11:41:37.319Z"
   },
   {
    "duration": 0,
    "start_time": "2024-04-05T11:41:37.320Z"
   },
   {
    "duration": 0,
    "start_time": "2024-04-05T11:41:37.321Z"
   },
   {
    "duration": 0,
    "start_time": "2024-04-05T11:41:37.322Z"
   },
   {
    "duration": 0,
    "start_time": "2024-04-05T11:41:37.323Z"
   },
   {
    "duration": 0,
    "start_time": "2024-04-05T11:41:37.325Z"
   },
   {
    "duration": 0,
    "start_time": "2024-04-05T11:41:37.326Z"
   },
   {
    "duration": 185,
    "start_time": "2024-04-05T11:42:13.089Z"
   },
   {
    "duration": 180,
    "start_time": "2024-04-05T11:42:45.575Z"
   },
   {
    "duration": 15,
    "start_time": "2024-04-05T11:43:51.248Z"
   },
   {
    "duration": 165,
    "start_time": "2024-04-05T11:43:59.584Z"
   },
   {
    "duration": 165,
    "start_time": "2024-04-05T11:44:09.578Z"
   },
   {
    "duration": 9,
    "start_time": "2024-04-05T11:44:29.252Z"
   },
   {
    "duration": 1298,
    "start_time": "2024-04-05T12:01:12.368Z"
   },
   {
    "duration": 24,
    "start_time": "2024-04-05T12:01:13.668Z"
   },
   {
    "duration": 60,
    "start_time": "2024-04-05T12:01:13.693Z"
   },
   {
    "duration": 28,
    "start_time": "2024-04-05T12:01:13.755Z"
   },
   {
    "duration": 32,
    "start_time": "2024-04-05T12:01:13.785Z"
   },
   {
    "duration": 30,
    "start_time": "2024-04-05T12:01:13.818Z"
   },
   {
    "duration": 15,
    "start_time": "2024-04-05T12:01:13.849Z"
   },
   {
    "duration": 8,
    "start_time": "2024-04-05T12:01:13.866Z"
   },
   {
    "duration": 185,
    "start_time": "2024-04-05T12:01:13.876Z"
   },
   {
    "duration": 168,
    "start_time": "2024-04-05T12:01:14.064Z"
   },
   {
    "duration": 63,
    "start_time": "2024-04-05T12:01:14.234Z"
   },
   {
    "duration": 317,
    "start_time": "2024-04-05T12:01:14.299Z"
   },
   {
    "duration": 10,
    "start_time": "2024-04-05T12:01:14.617Z"
   },
   {
    "duration": 491,
    "start_time": "2024-04-05T12:01:14.628Z"
   },
   {
    "duration": 11,
    "start_time": "2024-04-05T12:01:15.121Z"
   },
   {
    "duration": 579,
    "start_time": "2024-04-05T12:01:15.134Z"
   },
   {
    "duration": 80,
    "start_time": "2024-04-05T12:01:15.715Z"
   },
   {
    "duration": 29,
    "start_time": "2024-04-05T12:01:15.797Z"
   },
   {
    "duration": 35,
    "start_time": "2024-04-05T12:01:15.829Z"
   },
   {
    "duration": 50,
    "start_time": "2024-04-05T12:01:15.866Z"
   },
   {
    "duration": 29,
    "start_time": "2024-04-05T12:01:15.918Z"
   },
   {
    "duration": 43,
    "start_time": "2024-04-05T12:01:15.949Z"
   },
   {
    "duration": 271,
    "start_time": "2024-04-05T12:01:15.994Z"
   },
   {
    "duration": 16,
    "start_time": "2024-04-05T12:01:16.266Z"
   },
   {
    "duration": 244,
    "start_time": "2024-04-05T12:01:16.292Z"
   },
   {
    "duration": 87,
    "start_time": "2024-04-05T12:01:16.538Z"
   },
   {
    "duration": 0,
    "start_time": "2024-04-05T12:01:16.627Z"
   },
   {
    "duration": 0,
    "start_time": "2024-04-05T12:01:16.629Z"
   },
   {
    "duration": 0,
    "start_time": "2024-04-05T12:01:16.630Z"
   },
   {
    "duration": 0,
    "start_time": "2024-04-05T12:01:16.632Z"
   },
   {
    "duration": 0,
    "start_time": "2024-04-05T12:01:16.633Z"
   },
   {
    "duration": 166,
    "start_time": "2024-04-05T12:01:40.021Z"
   },
   {
    "duration": 89,
    "start_time": "2024-04-05T12:01:48.223Z"
   },
   {
    "duration": 1832,
    "start_time": "2024-04-05T12:02:05.939Z"
   },
   {
    "duration": 95,
    "start_time": "2024-04-05T12:03:04.182Z"
   },
   {
    "duration": 112,
    "start_time": "2024-04-05T12:03:17.730Z"
   },
   {
    "duration": 57,
    "start_time": "2024-04-05T12:03:40.209Z"
   },
   {
    "duration": 50,
    "start_time": "2024-04-09T22:32:57.581Z"
   },
   {
    "duration": 1358,
    "start_time": "2024-04-09T22:33:03.248Z"
   },
   {
    "duration": 20,
    "start_time": "2024-04-09T22:33:04.608Z"
   },
   {
    "duration": 42,
    "start_time": "2024-04-09T22:33:04.629Z"
   },
   {
    "duration": 50,
    "start_time": "2024-04-09T22:33:04.673Z"
   },
   {
    "duration": 16,
    "start_time": "2024-04-09T22:33:04.725Z"
   },
   {
    "duration": 18,
    "start_time": "2024-04-09T22:33:04.743Z"
   },
   {
    "duration": 22,
    "start_time": "2024-04-09T22:33:04.762Z"
   },
   {
    "duration": 8,
    "start_time": "2024-04-09T22:33:04.786Z"
   },
   {
    "duration": 178,
    "start_time": "2024-04-09T22:33:04.795Z"
   },
   {
    "duration": 93,
    "start_time": "2024-04-09T22:33:04.975Z"
   },
   {
    "duration": 7,
    "start_time": "2024-04-09T22:33:05.069Z"
   },
   {
    "duration": 155,
    "start_time": "2024-04-09T22:33:05.078Z"
   },
   {
    "duration": 8,
    "start_time": "2024-04-09T22:33:05.234Z"
   },
   {
    "duration": 181,
    "start_time": "2024-04-09T22:33:05.243Z"
   },
   {
    "duration": 7,
    "start_time": "2024-04-09T22:33:05.426Z"
   },
   {
    "duration": 199,
    "start_time": "2024-04-09T22:33:05.435Z"
   },
   {
    "duration": 42,
    "start_time": "2024-04-09T22:33:05.636Z"
   },
   {
    "duration": 24,
    "start_time": "2024-04-09T22:33:05.680Z"
   },
   {
    "duration": 27,
    "start_time": "2024-04-09T22:33:05.706Z"
   },
   {
    "duration": 23,
    "start_time": "2024-04-09T22:33:05.752Z"
   },
   {
    "duration": 34,
    "start_time": "2024-04-09T22:33:05.776Z"
   },
   {
    "duration": 10,
    "start_time": "2024-04-09T22:33:05.811Z"
   },
   {
    "duration": 225,
    "start_time": "2024-04-09T22:33:05.823Z"
   },
   {
    "duration": 13,
    "start_time": "2024-04-09T22:33:06.050Z"
   },
   {
    "duration": 208,
    "start_time": "2024-04-09T22:33:06.065Z"
   },
   {
    "duration": 49,
    "start_time": "2024-04-09T22:33:06.275Z"
   },
   {
    "duration": 910,
    "start_time": "2024-04-09T22:33:06.325Z"
   },
   {
    "duration": 0,
    "start_time": "2024-04-09T22:33:07.236Z"
   },
   {
    "duration": 0,
    "start_time": "2024-04-09T22:33:07.237Z"
   },
   {
    "duration": 0,
    "start_time": "2024-04-09T22:33:07.239Z"
   },
   {
    "duration": 0,
    "start_time": "2024-04-09T22:33:07.240Z"
   }
  ],
  "kernelspec": {
   "display_name": "Python 3 (ipykernel)",
   "language": "python",
   "name": "python3"
  },
  "language_info": {
   "codemirror_mode": {
    "name": "ipython",
    "version": 3
   },
   "file_extension": ".py",
   "mimetype": "text/x-python",
   "name": "python",
   "nbconvert_exporter": "python",
   "pygments_lexer": "ipython3",
   "version": "3.11.5"
  },
  "toc": {
   "base_numbering": 1,
   "nav_menu": {
    "height": "15px",
    "width": "160px"
   },
   "number_sections": false,
   "sideBar": true,
   "skip_h1_title": true,
   "title_cell": "Статистический анализ данных сервиса GoFast",
   "title_sidebar": "Contents",
   "toc_cell": true,
   "toc_position": {
    "height": "calc(100% - 180px)",
    "left": "10px",
    "top": "150px",
    "width": "165px"
   },
   "toc_section_display": true,
   "toc_window_display": true
  }
 },
 "nbformat": 4,
 "nbformat_minor": 5
}
