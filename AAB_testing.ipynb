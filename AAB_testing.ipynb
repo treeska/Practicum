{
 "cells": [
  {
   "cell_type": "markdown",
   "metadata": {
    "toc": true
   },
   "source": [
    "<h1>Результаты A/A/B-теста<span class=\"tocSkip\"></span></h1>\n",
    "<div class=\"toc\"><ul class=\"toc-item\"><li><span><a href=\"#Загрузска-данных-и-предобработка\" data-toc-modified-id=\"Загрузска-данных-и-предобработка-1\"><span class=\"toc-item-num\">1&nbsp;&nbsp;</span>Загрузска данных и предобработка</a></span></li><li><span><a href=\"#Исследовательский-анализ-данных.\" data-toc-modified-id=\"Исследовательский-анализ-данных.-2\"><span class=\"toc-item-num\">2&nbsp;&nbsp;</span>Исследовательский анализ данных.</a></span></li><li><span><a href=\"#Воронка-событий.\" data-toc-modified-id=\"Воронка-событий.-3\"><span class=\"toc-item-num\">3&nbsp;&nbsp;</span>Воронка событий.</a></span></li><li><span><a href=\"#Результаты-эксперемента\" data-toc-modified-id=\"Результаты-эксперемента-4\"><span class=\"toc-item-num\">4&nbsp;&nbsp;</span>Результаты эксперемента</a></span><ul class=\"toc-item\"><li><span><a href=\"#Проверка-А/А-теста\" data-toc-modified-id=\"Проверка-А/А-теста-4.1\"><span class=\"toc-item-num\">4.1&nbsp;&nbsp;</span>Проверка А/А-теста</a></span></li></ul></li><li><span><a href=\"#Результаты-A/B-теста\" data-toc-modified-id=\"Результаты-A/B-теста-5\"><span class=\"toc-item-num\">5&nbsp;&nbsp;</span>Результаты A/B-теста</a></span></li><li><span><a href=\"#Выводы\" data-toc-modified-id=\"Выводы-6\"><span class=\"toc-item-num\">6&nbsp;&nbsp;</span>Выводы</a></span></li></ul></div>"
   ]
  },
  {
   "cell_type": "markdown",
   "metadata": {},
   "source": [
    "Исследование посвящено изучению поведения пользователей мобильного приложения по продаже продуктов питания. Работа будет основываться на датафрейме с результатами A/A/B-теста проведенного в связи с изменением шрифтов. \n",
    "\n",
    "Описание данных:  \n",
    "Каждая запись в логе — это действие пользователя, или событие.   \n",
    "EventName — название события;  \n",
    "DeviceIDHash — уникальный идентификатор пользователя;  \n",
    "EventTimestamp — время события;  \n",
    "ExpId — номер эксперимента: 246 и 247 — контрольные группы, а 248 — экспериментальная.  "
   ]
  },
  {
   "cell_type": "markdown",
   "metadata": {},
   "source": [
    "## Загрузска данных и предобработка"
   ]
  },
  {
   "cell_type": "code",
   "execution_count": 1,
   "metadata": {},
   "outputs": [],
   "source": [
    "import pandas as pd\n",
    "import datetime as dt\n",
    "from matplotlib import pyplot as plt\n",
    "import seaborn as sns\n",
    "import numpy as np\n",
    "import math as mth\n",
    "from scipy import stats as st\n",
    "import scipy.stats as stats"
   ]
  },
  {
   "cell_type": "code",
   "execution_count": 2,
   "metadata": {},
   "outputs": [],
   "source": [
    "def get_info(dataframe):\n",
    "    display(dataframe.head(5))\n",
    "    print()\n",
    "    dataframe.info()\n",
    "    print()\n",
    "    print(f\"Явных дубликатов: {dataframe.duplicated().sum()}\")\n",
    "    print()\n",
    "    print('Пропусков в колонках:')\n",
    "    print(dataframe.isna().sum())"
   ]
  },
  {
   "cell_type": "code",
   "execution_count": 3,
   "metadata": {},
   "outputs": [
    {
     "data": {
      "text/html": [
       "<div>\n",
       "<style scoped>\n",
       "    .dataframe tbody tr th:only-of-type {\n",
       "        vertical-align: middle;\n",
       "    }\n",
       "\n",
       "    .dataframe tbody tr th {\n",
       "        vertical-align: top;\n",
       "    }\n",
       "\n",
       "    .dataframe thead th {\n",
       "        text-align: right;\n",
       "    }\n",
       "</style>\n",
       "<table border=\"1\" class=\"dataframe\">\n",
       "  <thead>\n",
       "    <tr style=\"text-align: right;\">\n",
       "      <th></th>\n",
       "      <th>event_name</th>\n",
       "      <th>device_id</th>\n",
       "      <th>event_time</th>\n",
       "      <th>exp_id</th>\n",
       "    </tr>\n",
       "  </thead>\n",
       "  <tbody>\n",
       "    <tr>\n",
       "      <th>0</th>\n",
       "      <td>MainScreenAppear</td>\n",
       "      <td>4575588528974610257</td>\n",
       "      <td>1564029816</td>\n",
       "      <td>246</td>\n",
       "    </tr>\n",
       "    <tr>\n",
       "      <th>1</th>\n",
       "      <td>MainScreenAppear</td>\n",
       "      <td>7416695313311560658</td>\n",
       "      <td>1564053102</td>\n",
       "      <td>246</td>\n",
       "    </tr>\n",
       "    <tr>\n",
       "      <th>2</th>\n",
       "      <td>PaymentScreenSuccessful</td>\n",
       "      <td>3518123091307005509</td>\n",
       "      <td>1564054127</td>\n",
       "      <td>248</td>\n",
       "    </tr>\n",
       "    <tr>\n",
       "      <th>3</th>\n",
       "      <td>CartScreenAppear</td>\n",
       "      <td>3518123091307005509</td>\n",
       "      <td>1564054127</td>\n",
       "      <td>248</td>\n",
       "    </tr>\n",
       "    <tr>\n",
       "      <th>4</th>\n",
       "      <td>PaymentScreenSuccessful</td>\n",
       "      <td>6217807653094995999</td>\n",
       "      <td>1564055322</td>\n",
       "      <td>248</td>\n",
       "    </tr>\n",
       "  </tbody>\n",
       "</table>\n",
       "</div>"
      ],
      "text/plain": [
       "                event_name            device_id  event_time  exp_id\n",
       "0         MainScreenAppear  4575588528974610257  1564029816     246\n",
       "1         MainScreenAppear  7416695313311560658  1564053102     246\n",
       "2  PaymentScreenSuccessful  3518123091307005509  1564054127     248\n",
       "3         CartScreenAppear  3518123091307005509  1564054127     248\n",
       "4  PaymentScreenSuccessful  6217807653094995999  1564055322     248"
      ]
     },
     "metadata": {},
     "output_type": "display_data"
    },
    {
     "name": "stdout",
     "output_type": "stream",
     "text": [
      "\n",
      "<class 'pandas.core.frame.DataFrame'>\n",
      "RangeIndex: 244126 entries, 0 to 244125\n",
      "Data columns (total 4 columns):\n",
      " #   Column      Non-Null Count   Dtype \n",
      "---  ------      --------------   ----- \n",
      " 0   event_name  244126 non-null  object\n",
      " 1   device_id   244126 non-null  int64 \n",
      " 2   event_time  244126 non-null  int64 \n",
      " 3   exp_id      244126 non-null  int64 \n",
      "dtypes: int64(3), object(1)\n",
      "memory usage: 7.5+ MB\n",
      "\n",
      "Явных дубликатов: 413\n",
      "\n",
      "Пропусков в колонках:\n",
      "event_name    0\n",
      "device_id     0\n",
      "event_time    0\n",
      "exp_id        0\n",
      "dtype: int64\n"
     ]
    }
   ],
   "source": [
    "data = pd.read_csv('/datasets/logs_exp.csv', sep='\\t')\n",
    "data = data.rename(columns={'EventName':'event_name', 'DeviceIDHash':'device_id', 'EventTimestamp':'event_time', 'ExpId':'exp_id'})\n",
    "get_info(data)"
   ]
  },
  {
   "cell_type": "markdown",
   "metadata": {},
   "source": [
    "В нашем распоряжении один датафрейм с результатами A/A/B-теста. В нем 4 колонки и 244126 строк.  Обнаружено 413 дубликатов, посчитаем их долю от общего числа данных. Если дубликатов меньше 5% удалим их. "
   ]
  },
  {
   "cell_type": "code",
   "execution_count": 4,
   "metadata": {},
   "outputs": [
    {
     "name": "stdout",
     "output_type": "stream",
     "text": [
      "0.17 %\n"
     ]
    },
    {
     "data": {
      "text/plain": [
       "0"
      ]
     },
     "execution_count": 4,
     "metadata": {},
     "output_type": "execute_result"
    }
   ],
   "source": [
    "print((data.duplicated().sum() / len(data.index.tolist()) * 100).round(2), '%')\n",
    "data = data.drop_duplicates().reset_index(drop=True)\n",
    "data.duplicated().sum()"
   ]
  },
  {
   "cell_type": "markdown",
   "metadata": {},
   "source": [
    "Изменим тип даты у столбца с датой и временем. Добавим столбец с датой."
   ]
  },
  {
   "cell_type": "code",
   "execution_count": 5,
   "metadata": {},
   "outputs": [
    {
     "data": {
      "text/html": [
       "<div>\n",
       "<style scoped>\n",
       "    .dataframe tbody tr th:only-of-type {\n",
       "        vertical-align: middle;\n",
       "    }\n",
       "\n",
       "    .dataframe tbody tr th {\n",
       "        vertical-align: top;\n",
       "    }\n",
       "\n",
       "    .dataframe thead th {\n",
       "        text-align: right;\n",
       "    }\n",
       "</style>\n",
       "<table border=\"1\" class=\"dataframe\">\n",
       "  <thead>\n",
       "    <tr style=\"text-align: right;\">\n",
       "      <th></th>\n",
       "      <th>event_name</th>\n",
       "      <th>device_id</th>\n",
       "      <th>event_time</th>\n",
       "      <th>exp_id</th>\n",
       "      <th>event_dt</th>\n",
       "    </tr>\n",
       "  </thead>\n",
       "  <tbody>\n",
       "    <tr>\n",
       "      <th>0</th>\n",
       "      <td>MainScreenAppear</td>\n",
       "      <td>4575588528974610257</td>\n",
       "      <td>2019-07-25 04:43:36</td>\n",
       "      <td>246</td>\n",
       "      <td>2019-07-25</td>\n",
       "    </tr>\n",
       "    <tr>\n",
       "      <th>1</th>\n",
       "      <td>MainScreenAppear</td>\n",
       "      <td>7416695313311560658</td>\n",
       "      <td>2019-07-25 11:11:42</td>\n",
       "      <td>246</td>\n",
       "      <td>2019-07-25</td>\n",
       "    </tr>\n",
       "    <tr>\n",
       "      <th>2</th>\n",
       "      <td>PaymentScreenSuccessful</td>\n",
       "      <td>3518123091307005509</td>\n",
       "      <td>2019-07-25 11:28:47</td>\n",
       "      <td>248</td>\n",
       "      <td>2019-07-25</td>\n",
       "    </tr>\n",
       "    <tr>\n",
       "      <th>3</th>\n",
       "      <td>CartScreenAppear</td>\n",
       "      <td>3518123091307005509</td>\n",
       "      <td>2019-07-25 11:28:47</td>\n",
       "      <td>248</td>\n",
       "      <td>2019-07-25</td>\n",
       "    </tr>\n",
       "    <tr>\n",
       "      <th>4</th>\n",
       "      <td>PaymentScreenSuccessful</td>\n",
       "      <td>6217807653094995999</td>\n",
       "      <td>2019-07-25 11:48:42</td>\n",
       "      <td>248</td>\n",
       "      <td>2019-07-25</td>\n",
       "    </tr>\n",
       "  </tbody>\n",
       "</table>\n",
       "</div>"
      ],
      "text/plain": [
       "                event_name            device_id          event_time  exp_id  \\\n",
       "0         MainScreenAppear  4575588528974610257 2019-07-25 04:43:36     246   \n",
       "1         MainScreenAppear  7416695313311560658 2019-07-25 11:11:42     246   \n",
       "2  PaymentScreenSuccessful  3518123091307005509 2019-07-25 11:28:47     248   \n",
       "3         CartScreenAppear  3518123091307005509 2019-07-25 11:28:47     248   \n",
       "4  PaymentScreenSuccessful  6217807653094995999 2019-07-25 11:48:42     248   \n",
       "\n",
       "     event_dt  \n",
       "0  2019-07-25  \n",
       "1  2019-07-25  \n",
       "2  2019-07-25  \n",
       "3  2019-07-25  \n",
       "4  2019-07-25  "
      ]
     },
     "execution_count": 5,
     "metadata": {},
     "output_type": "execute_result"
    }
   ],
   "source": [
    "data['event_time'] = pd.to_datetime(data['event_time'], unit='s')\n",
    "data['event_dt'] = pd.to_datetime(data['event_time']).dt.date\n",
    "data.head()"
   ]
  },
  {
   "cell_type": "markdown",
   "metadata": {},
   "source": [
    "**В ходе предобработки данных мы привели названия столбцов к змеиному регистру, изменили типы данных в столбце с датой и временем, удалили дубликаты и добавили новый столбец с датой.**"
   ]
  },
  {
   "cell_type": "markdown",
   "metadata": {},
   "source": [
    "## Исследовательский анализ данных."
   ]
  },
  {
   "cell_type": "markdown",
   "metadata": {},
   "source": [
    "Начнем исследование данных"
   ]
  },
  {
   "cell_type": "code",
   "execution_count": 6,
   "metadata": {},
   "outputs": [
    {
     "data": {
      "text/plain": [
       "243713"
      ]
     },
     "execution_count": 6,
     "metadata": {},
     "output_type": "execute_result"
    }
   ],
   "source": [
    "data['event_name'].count().sum()"
   ]
  },
  {
   "cell_type": "markdown",
   "metadata": {},
   "source": [
    "Всего в таблице 243713 событий."
   ]
  },
  {
   "cell_type": "code",
   "execution_count": 7,
   "metadata": {},
   "outputs": [
    {
     "name": "stdout",
     "output_type": "stream",
     "text": [
      "Уникальных пользователей в логе: 7551\n",
      "В среднем событий на пользователя: 32.28\n"
     ]
    }
   ],
   "source": [
    "print('Уникальных пользователей в логе:', data['device_id'].nunique())\n",
    "print('В среднем событий на пользователя:',data.groupby('device_id')['event_name'].count().mean().round(2))"
   ]
  },
  {
   "cell_type": "code",
   "execution_count": 8,
   "metadata": {},
   "outputs": [
    {
     "name": "stdout",
     "output_type": "stream",
     "text": [
      "          device_id  event_count\n",
      "count  7.551000e+03  7551.000000\n",
      "mean   4.677319e+18    32.275593\n",
      "std    2.655343e+18    65.154219\n",
      "min    6.888747e+15     1.000000\n",
      "25%    2.397700e+18     9.000000\n",
      "50%    4.688022e+18    20.000000\n",
      "75%    7.007353e+18    37.000000\n",
      "max    9.222603e+18  2307.000000\n",
      "[ 64.   89.  200.5]\n"
     ]
    },
    {
     "data": {
      "text/html": [
       "<div>\n",
       "<style scoped>\n",
       "    .dataframe tbody tr th:only-of-type {\n",
       "        vertical-align: middle;\n",
       "    }\n",
       "\n",
       "    .dataframe tbody tr th {\n",
       "        vertical-align: top;\n",
       "    }\n",
       "\n",
       "    .dataframe thead th {\n",
       "        text-align: right;\n",
       "    }\n",
       "</style>\n",
       "<table border=\"1\" class=\"dataframe\">\n",
       "  <thead>\n",
       "    <tr style=\"text-align: right;\">\n",
       "      <th></th>\n",
       "      <th>device_id</th>\n",
       "      <th>event_count</th>\n",
       "    </tr>\n",
       "  </thead>\n",
       "  <tbody>\n",
       "    <tr>\n",
       "      <th>5116</th>\n",
       "      <td>6304868067479728361</td>\n",
       "      <td>2307</td>\n",
       "    </tr>\n",
       "    <tr>\n",
       "      <th>147</th>\n",
       "      <td>197027893265565660</td>\n",
       "      <td>1998</td>\n",
       "    </tr>\n",
       "    <tr>\n",
       "      <th>3714</th>\n",
       "      <td>4623191541214045580</td>\n",
       "      <td>1768</td>\n",
       "    </tr>\n",
       "    <tr>\n",
       "      <th>5590</th>\n",
       "      <td>6932517045703054087</td>\n",
       "      <td>1439</td>\n",
       "    </tr>\n",
       "    <tr>\n",
       "      <th>1391</th>\n",
       "      <td>1754140665440434215</td>\n",
       "      <td>1221</td>\n",
       "    </tr>\n",
       "  </tbody>\n",
       "</table>\n",
       "</div>"
      ],
      "text/plain": [
       "                device_id  event_count\n",
       "5116  6304868067479728361         2307\n",
       "147    197027893265565660         1998\n",
       "3714  4623191541214045580         1768\n",
       "5590  6932517045703054087         1439\n",
       "1391  1754140665440434215         1221"
      ]
     },
     "execution_count": 8,
     "metadata": {},
     "output_type": "execute_result"
    },
    {
     "data": {
      "image/png": "[encoded data removed]",
      "text/plain": [
       "<Figure size 432x288 with 1 Axes>"
      ]
     },
     "metadata": {
      "needs_background": "light"
     },
     "output_type": "display_data"
    }
   ],
   "source": [
    "active = data.groupby('device_id')['event_name'].count().reset_index()\n",
    "active.columns = ['device_id', 'event_count']\n",
    "print(active.describe())\n",
    "active['event_count'].hist()\n",
    "print(np.percentile(active['event_count'], [90, 95, 99]))\n",
    "active.sort_values(by = ['event_count'], ascending=False).head(5)"
   ]
  },
  {
   "cell_type": "markdown",
   "metadata": {},
   "source": [
    "Большинство пользователей совершает менее 50 переходов между страницами интернет магаина. Есть несколько пользователей с аномальной активностью."
   ]
  },
  {
   "cell_type": "code",
   "execution_count": 9,
   "metadata": {},
   "outputs": [
    {
     "name": "stdout",
     "output_type": "stream",
     "text": [
      "0.031184220784283154\n"
     ]
    },
    {
     "data": {
      "text/plain": [
       "device_id\n",
       "7086945417901847497    199\n",
       "3807928414254040303    199\n",
       "3488844663662468837    198\n",
       "7610224088593907423    198\n",
       "2438520924615884865    195\n",
       "Name: event_name, dtype: int64"
      ]
     },
     "execution_count": 9,
     "metadata": {},
     "output_type": "execute_result"
    }
   ],
   "source": [
    "list_active_users = active.query('event_count > 200')\n",
    "list_active_users = list_active_users['device_id']\n",
    "print((len(list_active_users) / len(data)) * 100)\n",
    "data = data.query('device_id not in @list_active_users')\n",
    "data.groupby('device_id')['event_name'].count().sort_values(ascending=False).head(5)"
   ]
  },
  {
   "cell_type": "markdown",
   "metadata": {},
   "source": [
    "Мы выявили 1% сверхактивных пользователей и удалили их (удаленные данные не превышали 0,5% от всего массива), чтобы они не искажали исследование."
   ]
  },
  {
   "cell_type": "code",
   "execution_count": 10,
   "metadata": {},
   "outputs": [
    {
     "name": "stdout",
     "output_type": "stream",
     "text": [
      "Минимальная дата: 2019-07-25\n",
      "Максимальная дата: 2019-08-07\n",
      "Период: 13 days 16:31:41\n"
     ]
    }
   ],
   "source": [
    "print('Минимальная дата:',  data['event_dt'].min())\n",
    "print('Максимальная дата:' , data['event_dt'].max())\n",
    "print('Период:' , data['event_time'].max() - data['event_time'].min())"
   ]
  },
  {
   "cell_type": "code",
   "execution_count": 11,
   "metadata": {},
   "outputs": [
    {
     "data": {
      "image/png": "[encoded data removed]",
      "text/plain": [
       "<Figure size 864x432 with 1 Axes>"
      ]
     },
     "metadata": {
      "needs_background": "light"
     },
     "output_type": "display_data"
    }
   ],
   "source": [
    "event_counts = data.groupby(['event_dt', 'exp_id'])['event_name'].count().reset_index()\n",
    "plt.figure(figsize=(12, 6))\n",
    "sns.barplot(data=event_counts, x='event_dt', y='event_name', hue='exp_id')\n",
    "plt.title('Количество событий в зависимости от времени в разрезе групп')\n",
    "plt.xlabel('Дата')\n",
    "plt.ylabel('Количество событий')\n",
    "plt.xticks(rotation=45)\n",
    "plt.legend(title='Группа')\n",
    "plt.show()"
   ]
  },
  {
   "cell_type": "markdown",
   "metadata": {},
   "source": [
    "В датафрейме имеются данные почти за две недели с 25 июля по 7 августа 2019 года. На графике мы видим, что распределиние данных крайне неравномерное: данных за первую неделю значительно меньше, чем за вторую. Технически в логи новых дней по некоторым пользователям могут «доезжать» события из прошлого — это может «перекашивать данные». Удалим дни с неполными данными."
   ]
  },
  {
   "cell_type": "code",
   "execution_count": 12,
   "metadata": {},
   "outputs": [
    {
     "name": "stdout",
     "output_type": "stream",
     "text": [
      "<class 'pandas.core.frame.DataFrame'>\n",
      "Int64Index: 206615 entries, 2826 to 243712\n",
      "Data columns (total 5 columns):\n",
      " #   Column      Non-Null Count   Dtype         \n",
      "---  ------      --------------   -----         \n",
      " 0   event_name  206615 non-null  object        \n",
      " 1   device_id   206615 non-null  int64         \n",
      " 2   event_time  206615 non-null  datetime64[ns]\n",
      " 3   exp_id      206615 non-null  int64         \n",
      " 4   event_dt    206615 non-null  object        \n",
      "dtypes: datetime64[ns](1), int64(2), object(2)\n",
      "memory usage: 9.5+ MB\n"
     ]
    }
   ],
   "source": [
    "df = data.query('event_dt >= datetime(2019, 8, 1).date()')\n",
    "df.info()"
   ]
  },
  {
   "cell_type": "code",
   "execution_count": 13,
   "metadata": {},
   "outputs": [
    {
     "name": "stdout",
     "output_type": "stream",
     "text": [
      "Событий до фильтрации: 209333\n",
      "Событий после фильтрации: 206615\n",
      "Доля удалённых событий: 1.3 %\n",
      "\n",
      "Уникальных пользователей в логе до фильтрации: 7475\n",
      "Уникальных пользователей в логе после фильтрации: 7458\n",
      "Доля удалённых пользователей: 0.2274247491638796 %\n"
     ]
    }
   ],
   "source": [
    "print('Событий до фильтрации:', data['event_time'].count())\n",
    "print('Событий после фильтрации:', df['event_time'].count())\n",
    "print('Доля удалённых событий:', ((data['event_time'].count() -  df['event_time'].count()) \n",
    "                                  / data['event_time'].count() * 100).round(2), '%')\n",
    "print()\n",
    "print('Уникальных пользователей в логе до фильтрации:', data['device_id'].nunique())\n",
    "print('Уникальных пользователей в логе после фильтрации:', df['device_id'].nunique())\n",
    "print('Доля удалённых пользователей:', ((data['device_id'].nunique() -  df['device_id'].nunique()) \n",
    "                                        / data['device_id'].nunique() * 100), '%')"
   ]
  },
  {
   "cell_type": "code",
   "execution_count": 14,
   "metadata": {},
   "outputs": [
    {
     "data": {
      "text/plain": [
       "exp_id\n",
       "246    67412\n",
       "247    68295\n",
       "248    70908\n",
       "Name: event_time, dtype: int64"
      ]
     },
     "execution_count": 14,
     "metadata": {},
     "output_type": "execute_result"
    }
   ],
   "source": [
    "df.groupby('exp_id')['event_time'].count()"
   ]
  },
  {
   "cell_type": "markdown",
   "metadata": {},
   "source": [
    "По результатам фильтрации было удаленно чуть больше 1% данных при допустимых 5%. В отфильтрованном датафрейме присутсвуют данные обо всех группах пользователей."
   ]
  },
  {
   "cell_type": "markdown",
   "metadata": {},
   "source": [
    "**В ходе исследовательского анализа данных был выявлен период наиболее полных результатов теста, были удалены неполные данные (1%). В итоге в нашем распоряжении данные за одну неделю 1 августа по7 августа 2019 года.** "
   ]
  },
  {
   "cell_type": "markdown",
   "metadata": {},
   "source": [
    "## Воронка событий."
   ]
  },
  {
   "cell_type": "code",
   "execution_count": 15,
   "metadata": {},
   "outputs": [
    {
     "data": {
      "text/plain": [
       "event_name\n",
       "MainScreenAppear           113264\n",
       "OffersScreenAppear          40956\n",
       "CartScreenAppear            29250\n",
       "PaymentScreenSuccessful     22164\n",
       "Tutorial                      981\n",
       "Name: device_id, dtype: int64"
      ]
     },
     "execution_count": 15,
     "metadata": {},
     "output_type": "execute_result"
    }
   ],
   "source": [
    "df.groupby('event_name')['device_id'].count().sort_values(ascending=False)"
   ]
  },
  {
   "cell_type": "markdown",
   "metadata": {},
   "source": [
    "Из этой таблицы мы видим 5 типов событий: \n",
    "- \"MainScreenAppear\" - переход на главный экран;\n",
    "- \"OffersScreenAppear\" - переход на экран с товарами; \n",
    "- \"CartScreenAppear\" - переход в корзину; \n",
    "- \"PaymentScreenSuccessful\" - экран успешной оплаты; \n",
    "- \"Tutorial\" - переход на страницу с инструкциями."
   ]
  },
  {
   "cell_type": "code",
   "execution_count": 16,
   "metadata": {},
   "outputs": [
    {
     "data": {
      "text/html": [
       "<div>\n",
       "<style scoped>\n",
       "    .dataframe tbody tr th:only-of-type {\n",
       "        vertical-align: middle;\n",
       "    }\n",
       "\n",
       "    .dataframe tbody tr th {\n",
       "        vertical-align: top;\n",
       "    }\n",
       "\n",
       "    .dataframe thead th {\n",
       "        text-align: right;\n",
       "    }\n",
       "</style>\n",
       "<table border=\"1\" class=\"dataframe\">\n",
       "  <thead>\n",
       "    <tr style=\"text-align: right;\">\n",
       "      <th></th>\n",
       "      <th>event_name</th>\n",
       "      <th>total_users</th>\n",
       "      <th>event_u</th>\n",
       "      <th>ratio</th>\n",
       "    </tr>\n",
       "  </thead>\n",
       "  <tbody>\n",
       "    <tr>\n",
       "      <th>1</th>\n",
       "      <td>MainScreenAppear</td>\n",
       "      <td>113264</td>\n",
       "      <td>7344</td>\n",
       "      <td>98.47%</td>\n",
       "    </tr>\n",
       "    <tr>\n",
       "      <th>2</th>\n",
       "      <td>OffersScreenAppear</td>\n",
       "      <td>40956</td>\n",
       "      <td>4517</td>\n",
       "      <td>60.57%</td>\n",
       "    </tr>\n",
       "    <tr>\n",
       "      <th>0</th>\n",
       "      <td>CartScreenAppear</td>\n",
       "      <td>29250</td>\n",
       "      <td>3658</td>\n",
       "      <td>49.05%</td>\n",
       "    </tr>\n",
       "    <tr>\n",
       "      <th>3</th>\n",
       "      <td>PaymentScreenSuccessful</td>\n",
       "      <td>22164</td>\n",
       "      <td>3463</td>\n",
       "      <td>46.43%</td>\n",
       "    </tr>\n",
       "    <tr>\n",
       "      <th>4</th>\n",
       "      <td>Tutorial</td>\n",
       "      <td>981</td>\n",
       "      <td>824</td>\n",
       "      <td>11.05%</td>\n",
       "    </tr>\n",
       "  </tbody>\n",
       "</table>\n",
       "</div>"
      ],
      "text/plain": [
       "                event_name  total_users  event_u   ratio\n",
       "1         MainScreenAppear       113264     7344  98.47%\n",
       "2       OffersScreenAppear        40956     4517  60.57%\n",
       "0         CartScreenAppear        29250     3658  49.05%\n",
       "3  PaymentScreenSuccessful        22164     3463  46.43%\n",
       "4                 Tutorial          981      824  11.05%"
      ]
     },
     "execution_count": 16,
     "metadata": {},
     "output_type": "execute_result"
    }
   ],
   "source": [
    "df_funnel = df.pivot_table(index='event_name', values='device_id', aggfunc=['count', 'nunique']).reset_index()\n",
    "df_funnel.columns = ['event_name', 'total_users', 'event_u']\n",
    "df_funnel['ratio'] = (df_funnel['event_u'] / (df['device_id'].nunique()) * 100).apply(lambda x: f\"{x:.2f}%\")\n",
    "df_funnel = df_funnel.sort_values(by='total_users', ascending=False)\n",
    "df_funnel"
   ]
  },
  {
   "cell_type": "markdown",
   "metadata": {},
   "source": [
    "В таблице три столбца:\n",
    "- total_users - все пользователи\n",
    "- event_u - пользователи совершившие преход на данный экран\n",
    "- ratio - отношение уникальных пользователей перешедших на экран события к общему числу уникальных пользователей.\n",
    "Если строить путь пользователей, для начала стоит отметить, что tutorial очевидно в него не входит, это опциональное событие. Из этого следует, что последовательная цепочка выглядит следующим образом:\n",
    "\n",
    "MainScreenAppear -> OffersScreenAppear -> CartScreenAppear -> PaymentScreenSuccessful\t\t"
   ]
  },
  {
   "cell_type": "code",
   "execution_count": 17,
   "metadata": {},
   "outputs": [
    {
     "name": "stderr",
     "output_type": "stream",
     "text": [
      "/tmp/ipykernel_206/3642409707.py:2: SettingWithCopyWarning: \n",
      "A value is trying to be set on a copy of a slice from a DataFrame.\n",
      "Try using .loc[row_indexer,col_indexer] = value instead\n",
      "\n",
      "See the caveats in the documentation: https://pandas.pydata.org/pandas-docs/stable/user_guide/indexing.html#returning-a-view-versus-a-copy\n",
      "  df_funnel['conversion'] = (df_funnel['event_u'] / df_funnel['event_u'].shift(1) * 100).fillna(100).apply(lambda x: f\"{x:.2f}%\")\n"
     ]
    },
    {
     "data": {
      "text/html": [
       "<div>\n",
       "<style scoped>\n",
       "    .dataframe tbody tr th:only-of-type {\n",
       "        vertical-align: middle;\n",
       "    }\n",
       "\n",
       "    .dataframe tbody tr th {\n",
       "        vertical-align: top;\n",
       "    }\n",
       "\n",
       "    .dataframe thead th {\n",
       "        text-align: right;\n",
       "    }\n",
       "</style>\n",
       "<table border=\"1\" class=\"dataframe\">\n",
       "  <thead>\n",
       "    <tr style=\"text-align: right;\">\n",
       "      <th></th>\n",
       "      <th>event_name</th>\n",
       "      <th>total_users</th>\n",
       "      <th>event_u</th>\n",
       "      <th>ratio</th>\n",
       "      <th>conversion</th>\n",
       "    </tr>\n",
       "  </thead>\n",
       "  <tbody>\n",
       "    <tr>\n",
       "      <th>1</th>\n",
       "      <td>MainScreenAppear</td>\n",
       "      <td>113264</td>\n",
       "      <td>7344</td>\n",
       "      <td>98.47%</td>\n",
       "      <td>100.00%</td>\n",
       "    </tr>\n",
       "    <tr>\n",
       "      <th>2</th>\n",
       "      <td>OffersScreenAppear</td>\n",
       "      <td>40956</td>\n",
       "      <td>4517</td>\n",
       "      <td>60.57%</td>\n",
       "      <td>61.51%</td>\n",
       "    </tr>\n",
       "    <tr>\n",
       "      <th>0</th>\n",
       "      <td>CartScreenAppear</td>\n",
       "      <td>29250</td>\n",
       "      <td>3658</td>\n",
       "      <td>49.05%</td>\n",
       "      <td>80.98%</td>\n",
       "    </tr>\n",
       "    <tr>\n",
       "      <th>3</th>\n",
       "      <td>PaymentScreenSuccessful</td>\n",
       "      <td>22164</td>\n",
       "      <td>3463</td>\n",
       "      <td>46.43%</td>\n",
       "      <td>94.67%</td>\n",
       "    </tr>\n",
       "  </tbody>\n",
       "</table>\n",
       "</div>"
      ],
      "text/plain": [
       "                event_name  total_users  event_u   ratio conversion\n",
       "1         MainScreenAppear       113264     7344  98.47%    100.00%\n",
       "2       OffersScreenAppear        40956     4517  60.57%     61.51%\n",
       "0         CartScreenAppear        29250     3658  49.05%     80.98%\n",
       "3  PaymentScreenSuccessful        22164     3463  46.43%     94.67%"
      ]
     },
     "execution_count": 17,
     "metadata": {},
     "output_type": "execute_result"
    }
   ],
   "source": [
    "df_funnel = df_funnel.query('event_name != \"Tutorial\"')\n",
    "df_funnel['conversion'] = (df_funnel['event_u'] / df_funnel['event_u'].shift(1) * 100).fillna(100).apply(lambda x: f\"{x:.2f}%\")\n",
    "df_funnel"
   ]
  },
  {
   "cell_type": "code",
   "execution_count": 18,
   "metadata": {},
   "outputs": [
    {
     "data": {
      "image/png": "[encoded data removed]",
      "text/plain": [
       "<Figure size 720x432 with 1 Axes>"
      ]
     },
     "metadata": {
      "needs_background": "light"
     },
     "output_type": "display_data"
    }
   ],
   "source": [
    "plt.figure(figsize=(10, 6))\n",
    "sns.barplot(x='event_u', y='event_name', data=df_funnel, palette='plasma')\n",
    "plt.title('Воронка событий')\n",
    "plt.xlabel('Количество пользователей')\n",
    "plt.ylabel('События')\n",
    "plt.show()"
   ]
  },
  {
   "cell_type": "code",
   "execution_count": 19,
   "metadata": {},
   "outputs": [
    {
     "name": "stdout",
     "output_type": "stream",
     "text": [
      "Доходит от первого события до оплаты: 47.15 % пользователей\n"
     ]
    }
   ],
   "source": [
    "print('Доходит от первого события до оплаты:', \n",
    "      (df_funnel.loc[3,'event_u'] / df_funnel.loc[1,'event_u']*100).round(2), '% пользователей')"
   ]
  },
  {
   "cell_type": "markdown",
   "metadata": {},
   "source": [
    "**Большее число потерь пользователей происходит при переходе на второй шаг: OffersScreenAppear (переход на экран с товарами). Из тех кто перешел на этот шаг, на следующий переходит чуть больше 80%, на экран успешной оплаты переходит почти 95% пользователей перешедших в корзину.**"
   ]
  },
  {
   "cell_type": "markdown",
   "metadata": {},
   "source": [
    "## Результаты эксперемента"
   ]
  },
  {
   "cell_type": "markdown",
   "metadata": {},
   "source": [
    "### Проверка А/А-теста"
   ]
  },
  {
   "cell_type": "markdown",
   "metadata": {},
   "source": [
    "Приступим к непосредственному анализу результатов теста."
   ]
  },
  {
   "cell_type": "code",
   "execution_count": 20,
   "metadata": {},
   "outputs": [],
   "source": [
    "groups = df.groupby('exp_id')['device_id'].nunique()"
   ]
  },
  {
   "cell_type": "markdown",
   "metadata": {},
   "source": [
    "В группах есть незначительная разница в количестве участников. Проверим находят ли статистические критерии разницу между контрольными группами.\n",
    "Некоторые критерии успешного A/A-теста: \n",
    "- Попавший в одну из групп посетитель остаётся в этой группе до конца теста;\n",
    "- Количество пользователей в различных группах различается не более, чем на 1%;\n",
    "- Различие ключевых метрик по группам не превышает 1% и не имеет статистической значимости."
   ]
  },
  {
   "cell_type": "code",
   "execution_count": 21,
   "metadata": {},
   "outputs": [
    {
     "data": {
      "text/plain": [
       "0"
      ]
     },
     "execution_count": 21,
     "metadata": {},
     "output_type": "execute_result"
    }
   ],
   "source": [
    "id_doubles = df.groupby('device_id')['exp_id'].nunique()\n",
    "id_doubles[id_doubles > 1].count()"
   ]
  },
  {
   "cell_type": "markdown",
   "metadata": {},
   "source": [
    "В результатах теста нет пользователей, которые находятся сразу в двух групах."
   ]
  },
  {
   "cell_type": "code",
   "execution_count": 22,
   "metadata": {},
   "outputs": [
    {
     "name": "stdout",
     "output_type": "stream",
     "text": [
      "Разница между группами 246 и 247: -1.41 %\n"
     ]
    }
   ],
   "source": [
    "print('Разница между группами 246 и 247:', ((groups.get(246, 0) - groups.get(247, 0)) / groups.get(247, 0) * 100).round(2), '%')"
   ]
  },
  {
   "cell_type": "markdown",
   "metadata": {},
   "source": [
    "Разница между группами превышает 1%, но незначительно. Примем, что в рамках данного исследования это допустимо."
   ]
  },
  {
   "cell_type": "markdown",
   "metadata": {},
   "source": [
    "Выберем самое популярное событие. Посчитаем число пользователей, совершивших это событие в каждой из контрольных групп затем посчитаем долю пользователей, совершивших это событие."
   ]
  },
  {
   "cell_type": "code",
   "execution_count": 23,
   "metadata": {},
   "outputs": [
    {
     "data": {
      "text/html": [
       "<div>\n",
       "<style scoped>\n",
       "    .dataframe tbody tr th:only-of-type {\n",
       "        vertical-align: middle;\n",
       "    }\n",
       "\n",
       "    .dataframe tbody tr th {\n",
       "        vertical-align: top;\n",
       "    }\n",
       "\n",
       "    .dataframe thead th {\n",
       "        text-align: right;\n",
       "    }\n",
       "</style>\n",
       "<table border=\"1\" class=\"dataframe\">\n",
       "  <thead>\n",
       "    <tr style=\"text-align: right;\">\n",
       "      <th></th>\n",
       "      <th>exp_id</th>\n",
       "      <th>event_users</th>\n",
       "      <th>total_users</th>\n",
       "      <th>ratio</th>\n",
       "    </tr>\n",
       "  </thead>\n",
       "  <tbody>\n",
       "    <tr>\n",
       "      <th>0</th>\n",
       "      <td>246</td>\n",
       "      <td>2423</td>\n",
       "      <td>2456</td>\n",
       "      <td>98.66%</td>\n",
       "    </tr>\n",
       "    <tr>\n",
       "      <th>1</th>\n",
       "      <td>247</td>\n",
       "      <td>2454</td>\n",
       "      <td>2491</td>\n",
       "      <td>98.51%</td>\n",
       "    </tr>\n",
       "    <tr>\n",
       "      <th>2</th>\n",
       "      <td>248</td>\n",
       "      <td>2467</td>\n",
       "      <td>2511</td>\n",
       "      <td>98.25%</td>\n",
       "    </tr>\n",
       "  </tbody>\n",
       "</table>\n",
       "</div>"
      ],
      "text/plain": [
       "   exp_id  event_users  total_users   ratio\n",
       "0     246         2423         2456  98.66%\n",
       "1     247         2454         2491  98.51%\n",
       "2     248         2467         2511  98.25%"
      ]
     },
     "execution_count": 23,
     "metadata": {},
     "output_type": "execute_result"
    }
   ],
   "source": [
    "total_users = df.pivot_table(index='exp_id', values='device_id', aggfunc='nunique').reset_index()\n",
    "total_users.columns = ['exp_id', 'total_users']\n",
    "m_event = df.query('event_name == \"MainScreenAppear\"')\n",
    "m_event = m_event.pivot_table(index='exp_id', values='device_id', aggfunc='nunique').reset_index()\n",
    "m_event.columns = ['exp_id', 'event_users']\n",
    "m_event = m_event.join(total_users['total_users'])\n",
    "m_event['ratio'] = (m_event['event_users'] / m_event['total_users'] * 100).apply(lambda x: f\"{x:.2f}%\")\n",
    "m_event"
   ]
  },
  {
   "cell_type": "markdown",
   "metadata": {},
   "source": [
    "Теперь проверим, будет ли отличие между группами статистически достоверным. "
   ]
  },
  {
   "cell_type": "code",
   "execution_count": 24,
   "metadata": {},
   "outputs": [],
   "source": [
    "group_246 = df.query('exp_id == 246')\n",
    "group_247 = df.query('exp_id == 247')\n",
    "group_248 = df.query('exp_id == 248')\n",
    "group_246_247 = df.query('exp_id < 248')"
   ]
  },
  {
   "cell_type": "markdown",
   "metadata": {},
   "source": [
    "**Прежде чем приступать к тестам необходимо установить уровень значимости. Нам предстоят множественные проверки, поэтому вероятность ошибки увеличивается. Примем поправки уровня значимости по Бенферонни:**  \n",
    "**Нам предстоит 20 проверок, значит формула будет выглядеть так:**   \n",
    "**α / m = 0.05 / 20 = 0.0025**  \n",
    "**Примем значение α=0.0025**"
   ]
  },
  {
   "cell_type": "code",
   "execution_count": 25,
   "metadata": {},
   "outputs": [],
   "source": [
    "def z_test(group_1, group_2, event):\n",
    "    alpha = 0.0025\n",
    "    event_u = np.array([group_1[group_1['event_name'] == event]['device_id'].nunique(), \n",
    "                        group_2[group_2['event_name'] == event]['device_id'].nunique()])\n",
    "    total_users = np.array([group_1['device_id'].nunique(), \n",
    "                        group_2['device_id'].nunique()])\n",
    "\n",
    "    \n",
    "    p1 = event_u[0]/total_users[0]\n",
    "    p2 = event_u[1]/total_users[1]\n",
    "    p_combined = (event_u[0] + event_u[1]) / (total_users[0] + total_users[1])\n",
    "    difference = p1 - p2 \n",
    "\n",
    "    z_value = difference / mth.sqrt(p_combined * (1 - p_combined) * (1/total_users[0] + 1/total_users[1])) # ваш код\n",
    "    distr = st.norm(0, 1)  \n",
    "    p_value = (1 - distr.cdf(abs(z_value))) * 2\n",
    "    print(event)\n",
    "    print(f\"P-value: {p_value:.4f}\")\n",
    "    if p_value < alpha:\n",
    "        print('Отвергаем нулевую гипотезу: между долями есть значимая разница')\n",
    "    else:\n",
    "        print('Не получилось отвергнуть нулевую гипотезу, нет оснований считать доли разными')\n",
    "    print()"
   ]
  },
  {
   "cell_type": "markdown",
   "metadata": {},
   "source": [
    "Начнем проверки гипотез по каждому событию между группами 246 и 247:  \n",
    "**Гипотеза H0:** между долями пользователей совершивших событие нет значимой разницы.  \n",
    "**Гипотеза H1:** между долями пользователей совершивших событие есть значимая разница."
   ]
  },
  {
   "cell_type": "code",
   "execution_count": 26,
   "metadata": {},
   "outputs": [
    {
     "name": "stdout",
     "output_type": "stream",
     "text": [
      "Tutorial\n",
      "P-value: 0.7815\n",
      "Не получилось отвергнуть нулевую гипотезу, нет оснований считать доли разными\n",
      "\n",
      "\n",
      "MainScreenAppear\n",
      "P-value: 0.6731\n",
      "Не получилось отвергнуть нулевую гипотезу, нет оснований считать доли разными\n",
      "\n",
      "\n",
      "OffersScreenAppear\n",
      "P-value: 0.2770\n",
      "Не получилось отвергнуть нулевую гипотезу, нет оснований считать доли разными\n",
      "\n",
      "\n",
      "CartScreenAppear\n",
      "P-value: 0.2630\n",
      "Не получилось отвергнуть нулевую гипотезу, нет оснований считать доли разными\n",
      "\n",
      "\n",
      "PaymentScreenSuccessful\n",
      "P-value: 0.1359\n",
      "Не получилось отвергнуть нулевую гипотезу, нет оснований считать доли разными\n",
      "\n",
      "\n"
     ]
    }
   ],
   "source": [
    "for event in df['event_name'].unique():\n",
    "    z_test(group_246, group_247, event,)\n",
    "    print()"
   ]
  },
  {
   "cell_type": "markdown",
   "metadata": {},
   "source": [
    "**А/А тест признаем успешным по описанным выше критериям**"
   ]
  },
  {
   "cell_type": "markdown",
   "metadata": {},
   "source": [
    "## Результаты A/B-теста"
   ]
  },
  {
   "cell_type": "markdown",
   "metadata": {},
   "source": [
    "Проверки гипотез по каждому событию между группами 246 и 248:  \n",
    "**Гипотеза H0:** между долями пользователей совершивших событие нет значимой разницы.  \n",
    "**Гипотеза H1:** между долями пользователей совершивших событие есть значимая разница."
   ]
  },
  {
   "cell_type": "code",
   "execution_count": 27,
   "metadata": {},
   "outputs": [
    {
     "name": "stdout",
     "output_type": "stream",
     "text": [
      "Tutorial\n",
      "P-value: 0.9650\n",
      "Не получилось отвергнуть нулевую гипотезу, нет оснований считать доли разными\n",
      "\n",
      "\n",
      "MainScreenAppear\n",
      "P-value: 0.2438\n",
      "Не получилось отвергнуть нулевую гипотезу, нет оснований считать доли разными\n",
      "\n",
      "\n",
      "OffersScreenAppear\n",
      "P-value: 0.2175\n",
      "Не получилось отвергнуть нулевую гипотезу, нет оснований считать доли разными\n",
      "\n",
      "\n",
      "CartScreenAppear\n",
      "P-value: 0.0832\n",
      "Не получилось отвергнуть нулевую гипотезу, нет оснований считать доли разными\n",
      "\n",
      "\n",
      "PaymentScreenSuccessful\n",
      "P-value: 0.2239\n",
      "Не получилось отвергнуть нулевую гипотезу, нет оснований считать доли разными\n",
      "\n",
      "\n"
     ]
    }
   ],
   "source": [
    "for event in df['event_name'].unique():\n",
    "    z_test(group_246, group_248, event)\n",
    "    print()"
   ]
  },
  {
   "cell_type": "markdown",
   "metadata": {},
   "source": [
    "Начнем проверки гипотез по каждому событию между группами 247 и 248:  \n",
    "**Гипотеза H0:** между долями пользователей совершивших событие нет значимой разницы.  \n",
    "**Гипотеза H1:** между долями пользователей совершивших событие есть значимая разница."
   ]
  },
  {
   "cell_type": "code",
   "execution_count": 28,
   "metadata": {},
   "outputs": [
    {
     "name": "stdout",
     "output_type": "stream",
     "text": [
      "Tutorial\n",
      "P-value: 0.8142\n",
      "Не получилось отвергнуть нулевую гипотезу, нет оснований считать доли разными\n",
      "\n",
      "\n",
      "MainScreenAppear\n",
      "P-value: 0.4545\n",
      "Не получилось отвергнуть нулевую гипотезу, нет оснований считать доли разными\n",
      "\n",
      "\n",
      "OffersScreenAppear\n",
      "P-value: 0.8851\n",
      "Не получилось отвергнуть нулевую гипотезу, нет оснований считать доли разными\n",
      "\n",
      "\n",
      "CartScreenAppear\n",
      "P-value: 0.5397\n",
      "Не получилось отвергнуть нулевую гипотезу, нет оснований считать доли разными\n",
      "\n",
      "\n",
      "PaymentScreenSuccessful\n",
      "P-value: 0.7801\n",
      "Не получилось отвергнуть нулевую гипотезу, нет оснований считать доли разными\n",
      "\n",
      "\n"
     ]
    }
   ],
   "source": [
    "for event in df['event_name'].unique():\n",
    "    z_test(group_247, group_248, event)\n",
    "    print()"
   ]
  },
  {
   "cell_type": "markdown",
   "metadata": {},
   "source": [
    "Начнем проверки гипотез по каждому событию между объединенной группой 246-247 и группой 248:  \n",
    "**Гипотеза H0:** между долями пользователей совершивших событие нет значимой разницы.  \n",
    "**Гипотеза H1:** между долями пользователей совершивших событие есть значимая разница."
   ]
  },
  {
   "cell_type": "code",
   "execution_count": 29,
   "metadata": {},
   "outputs": [
    {
     "name": "stdout",
     "output_type": "stream",
     "text": [
      "Tutorial\n",
      "P-value: 0.9111\n",
      "Не получилось отвергнуть нулевую гипотезу, нет оснований считать доли разными\n",
      "\n",
      "\n",
      "MainScreenAppear\n",
      "P-value: 0.2619\n",
      "Не получилось отвергнуть нулевую гипотезу, нет оснований считать доли разными\n",
      "\n",
      "\n",
      "OffersScreenAppear\n",
      "P-value: 0.4280\n",
      "Не получилось отвергнуть нулевую гипотезу, нет оснований считать доли разными\n",
      "\n",
      "\n",
      "CartScreenAppear\n",
      "P-value: 0.1762\n",
      "Не получилось отвергнуть нулевую гипотезу, нет оснований считать доли разными\n",
      "\n",
      "\n",
      "PaymentScreenSuccessful\n",
      "P-value: 0.5909\n",
      "Не получилось отвергнуть нулевую гипотезу, нет оснований считать доли разными\n",
      "\n",
      "\n"
     ]
    }
   ],
   "source": [
    "for event in df['event_name'].unique():\n",
    "    z_test(group_246_247, group_248, event)\n",
    "    print()"
   ]
  },
  {
   "cell_type": "markdown",
   "metadata": {},
   "source": [
    "**По результатам A/B-тестирования значимых различий между требя группами не выявлено.**"
   ]
  },
  {
   "cell_type": "markdown",
   "metadata": {},
   "source": [
    "## Выводы"
   ]
  },
  {
   "cell_type": "markdown",
   "metadata": {},
   "source": [
    "В ходе исследования были изучены данные по результатам А/В- тестирования мобильного приложения по продаже продуктов питания.\n",
    "В ходе предобработки данных названия столбцов были приведены к змеиному регистру, был изменен типы данных у столбца с датой и временем, удалены дубликаты и добавлен новый столбец с датой. \n",
    "В ходе исследовательского анализа данных был выявлен период наиболее полных результатов теста, были удалены неполные данные (1%).\n",
    "Были сделаны следующие выводы:  \n",
    "- При исследовании воронки был выявлен путь пользователя. Большее число потерь пользователей происходит при переходе на второй шаг: OffersScreenAppear (переход на экран с товарами). Из тех кто перешел на этот шаг, на следующий переходит чуть больше 80%, на экран успешной оплаты переходит почти 95% пользователей перешедших в корзину.\n",
    "- Доходит от первого события до оплаты: 47.15 % пользователей.  \n",
    "- Проведенный A/A-тест соответствует критериям успешности, а именно: Попавший в одну из групп посетитель остаётся в этой группе до конца теста; Количество пользователей в различных группах различается не более, чем на 1.2%; Различие ключевых метрик по группам не превышает 1% и не имеет статистической значимости;\n",
    "- По результатам A/B-тестирования значимых различий между требя группами не выявлено. Новый шрифт не влияет на поведение пользователей. \n",
    "\n",
    "Рекомендации:  \n",
    "Почти 40% пользователей не переходят с главного экрана на страницу просмотра товаров. Следуюет исследовать причины данного явления."
   ]
  }
 ],
 "metadata": {
  "ExecuteTimeLog": [
   {
    "duration": 45,
    "start_time": "2024-06-30T20:46:48.257Z"
   },
   {
    "duration": 1045,
    "start_time": "2024-06-30T20:46:51.956Z"
   },
   {
    "duration": 4,
    "start_time": "2024-06-30T20:46:53.003Z"
   },
   {
    "duration": 1058,
    "start_time": "2024-06-30T20:46:53.008Z"
   },
   {
    "duration": 552,
    "start_time": "2024-06-30T20:47:48.107Z"
   },
   {
    "duration": 271,
    "start_time": "2024-06-30T20:48:32.604Z"
   },
   {
    "duration": 1020,
    "start_time": "2024-06-30T20:48:50.865Z"
   },
   {
    "duration": 5,
    "start_time": "2024-06-30T20:48:51.887Z"
   },
   {
    "duration": 244,
    "start_time": "2024-06-30T20:48:51.893Z"
   },
   {
    "duration": 245,
    "start_time": "2024-06-30T20:50:53.223Z"
   },
   {
    "duration": 4,
    "start_time": "2024-06-30T20:51:06.787Z"
   },
   {
    "duration": 3,
    "start_time": "2024-06-30T20:51:09.985Z"
   },
   {
    "duration": 235,
    "start_time": "2024-06-30T20:51:10.428Z"
   },
   {
    "duration": 54,
    "start_time": "2024-06-30T21:23:14.154Z"
   },
   {
    "duration": 75,
    "start_time": "2024-06-30T21:42:38.254Z"
   },
   {
    "duration": 65,
    "start_time": "2024-06-30T21:42:48.630Z"
   },
   {
    "duration": 119,
    "start_time": "2024-06-30T21:42:59.427Z"
   },
   {
    "duration": 52,
    "start_time": "2024-07-01T12:05:45.411Z"
   },
   {
    "duration": 1223,
    "start_time": "2024-07-01T12:05:53.757Z"
   },
   {
    "duration": 4,
    "start_time": "2024-07-01T12:05:54.982Z"
   },
   {
    "duration": 966,
    "start_time": "2024-07-01T12:05:54.987Z"
   },
   {
    "duration": 188,
    "start_time": "2024-07-01T12:05:55.956Z"
   },
   {
    "duration": 248,
    "start_time": "2024-07-01T12:06:42.008Z"
   },
   {
    "duration": 100,
    "start_time": "2024-07-01T12:07:24.455Z"
   },
   {
    "duration": 96,
    "start_time": "2024-07-01T13:07:12.741Z"
   },
   {
    "duration": 9,
    "start_time": "2024-07-01T13:07:20.046Z"
   },
   {
    "duration": 9,
    "start_time": "2024-07-01T13:07:23.359Z"
   },
   {
    "duration": 20,
    "start_time": "2024-07-01T13:08:05.409Z"
   },
   {
    "duration": 23,
    "start_time": "2024-07-01T13:08:22.600Z"
   },
   {
    "duration": 19,
    "start_time": "2024-07-01T13:08:28.108Z"
   },
   {
    "duration": 216,
    "start_time": "2024-07-01T13:09:06.600Z"
   },
   {
    "duration": 355,
    "start_time": "2024-07-01T13:09:25.382Z"
   },
   {
    "duration": 364,
    "start_time": "2024-07-01T13:10:23.473Z"
   },
   {
    "duration": 386,
    "start_time": "2024-07-01T13:10:58.361Z"
   },
   {
    "duration": 18,
    "start_time": "2024-07-01T13:11:54.784Z"
   },
   {
    "duration": 11,
    "start_time": "2024-07-01T13:29:28.178Z"
   },
   {
    "duration": 24,
    "start_time": "2024-07-01T13:29:40.540Z"
   },
   {
    "duration": 23,
    "start_time": "2024-07-01T13:31:36.485Z"
   },
   {
    "duration": 7,
    "start_time": "2024-07-01T13:37:15.997Z"
   },
   {
    "duration": 49,
    "start_time": "2024-07-01T13:40:16.524Z"
   },
   {
    "duration": 62,
    "start_time": "2024-07-01T13:40:20.293Z"
   },
   {
    "duration": 57,
    "start_time": "2024-07-01T13:40:23.335Z"
   },
   {
    "duration": 7,
    "start_time": "2024-07-01T13:40:28.127Z"
   },
   {
    "duration": 24,
    "start_time": "2024-07-01T13:40:47.385Z"
   },
   {
    "duration": 23,
    "start_time": "2024-07-01T13:41:16.197Z"
   },
   {
    "duration": 23,
    "start_time": "2024-07-01T13:41:38.674Z"
   },
   {
    "duration": 14,
    "start_time": "2024-07-01T13:54:39.173Z"
   },
   {
    "duration": 7,
    "start_time": "2024-07-01T13:54:48.567Z"
   },
   {
    "duration": 922,
    "start_time": "2024-07-01T13:55:32.433Z"
   },
   {
    "duration": 68,
    "start_time": "2024-07-01T13:55:52.490Z"
   },
   {
    "duration": 1060,
    "start_time": "2024-07-01T13:56:35.197Z"
   },
   {
    "duration": 4,
    "start_time": "2024-07-01T13:56:36.259Z"
   },
   {
    "duration": 300,
    "start_time": "2024-07-01T13:56:36.265Z"
   },
   {
    "duration": 126,
    "start_time": "2024-07-01T13:56:36.568Z"
   },
   {
    "duration": 126,
    "start_time": "2024-07-01T13:56:36.699Z"
   },
   {
    "duration": 49,
    "start_time": "2024-07-01T13:56:36.826Z"
   },
   {
    "duration": 26,
    "start_time": "2024-07-01T13:56:36.876Z"
   },
   {
    "duration": 63,
    "start_time": "2024-07-01T13:56:36.904Z"
   },
   {
    "duration": 1114,
    "start_time": "2024-07-01T13:56:49.926Z"
   },
   {
    "duration": 3,
    "start_time": "2024-07-01T13:56:51.042Z"
   },
   {
    "duration": 299,
    "start_time": "2024-07-01T13:56:51.047Z"
   },
   {
    "duration": 132,
    "start_time": "2024-07-01T13:56:51.348Z"
   },
   {
    "duration": 55,
    "start_time": "2024-07-01T13:56:51.482Z"
   },
   {
    "duration": 33,
    "start_time": "2024-07-01T13:56:51.539Z"
   },
   {
    "duration": 31,
    "start_time": "2024-07-01T13:56:51.574Z"
   },
   {
    "duration": 1039,
    "start_time": "2024-07-01T13:56:51.606Z"
   },
   {
    "duration": 1048,
    "start_time": "2024-07-01T13:57:13.529Z"
   },
   {
    "duration": 3,
    "start_time": "2024-07-01T13:57:14.579Z"
   },
   {
    "duration": 288,
    "start_time": "2024-07-01T13:57:14.583Z"
   },
   {
    "duration": 130,
    "start_time": "2024-07-01T13:57:14.873Z"
   },
   {
    "duration": 119,
    "start_time": "2024-07-01T13:57:15.005Z"
   },
   {
    "duration": 23,
    "start_time": "2024-07-01T13:57:15.126Z"
   },
   {
    "duration": 77,
    "start_time": "2024-07-01T13:57:15.150Z"
   },
   {
    "duration": 63,
    "start_time": "2024-07-01T13:57:15.229Z"
   },
   {
    "duration": 93,
    "start_time": "2024-07-01T13:58:03.537Z"
   },
   {
    "duration": 1165,
    "start_time": "2024-07-01T13:58:11.389Z"
   },
   {
    "duration": 10,
    "start_time": "2024-07-01T13:58:12.556Z"
   },
   {
    "duration": 286,
    "start_time": "2024-07-01T13:58:12.569Z"
   },
   {
    "duration": 130,
    "start_time": "2024-07-01T13:58:12.857Z"
   },
   {
    "duration": 97,
    "start_time": "2024-07-01T13:58:12.989Z"
   },
   {
    "duration": 32,
    "start_time": "2024-07-01T13:58:13.087Z"
   },
   {
    "duration": 25,
    "start_time": "2024-07-01T13:58:13.121Z"
   },
   {
    "duration": 85,
    "start_time": "2024-07-01T13:58:13.147Z"
   },
   {
    "duration": 35,
    "start_time": "2024-07-01T13:58:54.179Z"
   },
   {
    "duration": 144,
    "start_time": "2024-07-01T14:02:01.693Z"
   },
   {
    "duration": 74,
    "start_time": "2024-07-01T14:12:04.154Z"
   },
   {
    "duration": 459,
    "start_time": "2024-07-01T14:12:07.533Z"
   },
   {
    "duration": 415,
    "start_time": "2024-07-01T14:12:14.016Z"
   },
   {
    "duration": 203,
    "start_time": "2024-07-01T14:13:35.645Z"
   },
   {
    "duration": 195,
    "start_time": "2024-07-01T14:14:11.694Z"
   },
   {
    "duration": 64,
    "start_time": "2024-07-01T14:15:00.072Z"
   },
   {
    "duration": 140,
    "start_time": "2024-07-01T14:15:10.404Z"
   },
   {
    "duration": 412,
    "start_time": "2024-07-01T14:16:34.692Z"
   },
   {
    "duration": 1391,
    "start_time": "2024-07-01T20:49:31.305Z"
   },
   {
    "duration": 4,
    "start_time": "2024-07-01T20:49:32.698Z"
   },
   {
    "duration": 474,
    "start_time": "2024-07-01T20:49:32.703Z"
   },
   {
    "duration": 136,
    "start_time": "2024-07-01T20:49:33.179Z"
   },
   {
    "duration": 104,
    "start_time": "2024-07-01T20:49:33.317Z"
   },
   {
    "duration": 37,
    "start_time": "2024-07-01T20:49:33.423Z"
   },
   {
    "duration": 31,
    "start_time": "2024-07-01T20:49:33.462Z"
   },
   {
    "duration": 36,
    "start_time": "2024-07-01T20:49:33.495Z"
   },
   {
    "duration": 432,
    "start_time": "2024-07-01T20:49:33.546Z"
   },
   {
    "duration": 130,
    "start_time": "2024-07-01T21:22:16.244Z"
   },
   {
    "duration": 35,
    "start_time": "2024-07-01T21:22:24.914Z"
   },
   {
    "duration": 8,
    "start_time": "2024-07-01T21:23:14.559Z"
   },
   {
    "duration": 1024,
    "start_time": "2024-07-01T21:23:20.979Z"
   },
   {
    "duration": 291,
    "start_time": "2024-07-01T21:23:35.759Z"
   },
   {
    "duration": 77,
    "start_time": "2024-07-01T21:24:41.285Z"
   },
   {
    "duration": 4,
    "start_time": "2024-07-01T21:51:12.303Z"
   },
   {
    "duration": 10,
    "start_time": "2024-07-01T21:51:40.548Z"
   },
   {
    "duration": 7,
    "start_time": "2024-07-01T21:53:02.275Z"
   },
   {
    "duration": 8,
    "start_time": "2024-07-01T21:53:06.960Z"
   },
   {
    "duration": 7,
    "start_time": "2024-07-01T21:53:20.518Z"
   },
   {
    "duration": 10,
    "start_time": "2024-07-01T21:54:44.852Z"
   },
   {
    "duration": 11,
    "start_time": "2024-07-01T21:54:52.295Z"
   },
   {
    "duration": 21,
    "start_time": "2024-07-01T22:03:28.612Z"
   },
   {
    "duration": 18,
    "start_time": "2024-07-01T22:04:27.793Z"
   },
   {
    "duration": 17,
    "start_time": "2024-07-01T22:04:46.022Z"
   },
   {
    "duration": 17,
    "start_time": "2024-07-01T22:05:33.399Z"
   },
   {
    "duration": 32,
    "start_time": "2024-07-01T22:06:43.212Z"
   },
   {
    "duration": 24,
    "start_time": "2024-07-01T22:07:13.957Z"
   },
   {
    "duration": 24,
    "start_time": "2024-07-01T22:07:32.849Z"
   },
   {
    "duration": 30,
    "start_time": "2024-07-01T22:07:51.049Z"
   },
   {
    "duration": 34,
    "start_time": "2024-07-01T22:08:00.500Z"
   },
   {
    "duration": 25,
    "start_time": "2024-07-01T22:08:04.937Z"
   },
   {
    "duration": 141,
    "start_time": "2024-07-01T22:17:00.736Z"
   },
   {
    "duration": 1245,
    "start_time": "2024-07-01T22:17:30.766Z"
   },
   {
    "duration": 4,
    "start_time": "2024-07-01T22:17:32.013Z"
   },
   {
    "duration": 510,
    "start_time": "2024-07-01T22:17:32.018Z"
   },
   {
    "duration": 156,
    "start_time": "2024-07-01T22:17:32.531Z"
   },
   {
    "duration": 103,
    "start_time": "2024-07-01T22:17:32.688Z"
   },
   {
    "duration": 1229,
    "start_time": "2024-07-01T22:17:56.795Z"
   },
   {
    "duration": 4,
    "start_time": "2024-07-01T22:17:58.027Z"
   },
   {
    "duration": 339,
    "start_time": "2024-07-01T22:17:58.033Z"
   },
   {
    "duration": 140,
    "start_time": "2024-07-01T22:17:58.374Z"
   },
   {
    "duration": 105,
    "start_time": "2024-07-01T22:17:58.516Z"
   },
   {
    "duration": 14,
    "start_time": "2024-07-01T22:17:58.623Z"
   },
   {
    "duration": 29,
    "start_time": "2024-07-01T22:17:58.646Z"
   },
   {
    "duration": 35,
    "start_time": "2024-07-01T22:17:58.677Z"
   },
   {
    "duration": 467,
    "start_time": "2024-07-01T22:17:58.714Z"
   },
   {
    "duration": 67,
    "start_time": "2024-07-01T22:17:59.184Z"
   },
   {
    "duration": 31,
    "start_time": "2024-07-01T22:17:59.252Z"
   },
   {
    "duration": 11,
    "start_time": "2024-07-01T22:17:59.285Z"
   },
   {
    "duration": 49,
    "start_time": "2024-07-01T22:17:59.298Z"
   },
   {
    "duration": 208,
    "start_time": "2024-07-01T22:18:56.507Z"
   },
   {
    "duration": 264,
    "start_time": "2024-07-01T22:19:24.982Z"
   },
   {
    "duration": 142,
    "start_time": "2024-07-01T22:19:32.079Z"
   },
   {
    "duration": 22,
    "start_time": "2024-07-01T22:20:08.400Z"
   },
   {
    "duration": 24,
    "start_time": "2024-07-01T22:20:13.691Z"
   },
   {
    "duration": 25,
    "start_time": "2024-07-01T22:20:20.434Z"
   },
   {
    "duration": 49,
    "start_time": "2024-07-02T12:47:56.597Z"
   },
   {
    "duration": 6,
    "start_time": "2024-07-02T12:48:04.084Z"
   },
   {
    "duration": 1284,
    "start_time": "2024-07-02T12:48:07.948Z"
   },
   {
    "duration": 4,
    "start_time": "2024-07-02T12:48:09.234Z"
   },
   {
    "duration": 1045,
    "start_time": "2024-07-02T12:48:09.239Z"
   },
   {
    "duration": 126,
    "start_time": "2024-07-02T12:48:10.285Z"
   },
   {
    "duration": 103,
    "start_time": "2024-07-02T12:48:10.413Z"
   },
   {
    "duration": 14,
    "start_time": "2024-07-02T12:48:10.517Z"
   },
   {
    "duration": 28,
    "start_time": "2024-07-02T12:48:10.532Z"
   },
   {
    "duration": 51,
    "start_time": "2024-07-02T12:48:10.561Z"
   },
   {
    "duration": 478,
    "start_time": "2024-07-02T12:48:10.614Z"
   },
   {
    "duration": 73,
    "start_time": "2024-07-02T12:48:11.094Z"
   },
   {
    "duration": 50,
    "start_time": "2024-07-02T12:48:11.169Z"
   },
   {
    "duration": 9,
    "start_time": "2024-07-02T12:48:11.221Z"
   },
   {
    "duration": 96,
    "start_time": "2024-07-02T12:48:11.231Z"
   },
   {
    "duration": 114,
    "start_time": "2024-07-02T12:48:11.331Z"
   },
   {
    "duration": 23,
    "start_time": "2024-07-02T21:14:14.122Z"
   },
   {
    "duration": 106,
    "start_time": "2024-07-02T21:14:36.763Z"
   },
   {
    "duration": 110,
    "start_time": "2024-07-02T21:15:04.744Z"
   },
   {
    "duration": 103,
    "start_time": "2024-07-02T21:15:16.688Z"
   },
   {
    "duration": 15,
    "start_time": "2024-07-02T22:39:03.867Z"
   },
   {
    "duration": 11,
    "start_time": "2024-07-02T22:39:08.776Z"
   },
   {
    "duration": 10,
    "start_time": "2024-07-02T22:39:18.931Z"
   },
   {
    "duration": 11,
    "start_time": "2024-07-02T22:41:41.713Z"
   },
   {
    "duration": 11,
    "start_time": "2024-07-02T22:41:56.416Z"
   },
   {
    "duration": 107,
    "start_time": "2024-07-02T22:54:50.452Z"
   },
   {
    "duration": 20,
    "start_time": "2024-07-02T22:55:25.294Z"
   },
   {
    "duration": 13,
    "start_time": "2024-07-02T22:56:10.422Z"
   },
   {
    "duration": 106,
    "start_time": "2024-07-02T22:58:03.552Z"
   },
   {
    "duration": 322,
    "start_time": "2024-07-02T22:59:32.672Z"
   },
   {
    "duration": 109,
    "start_time": "2024-07-02T23:00:08.976Z"
   },
   {
    "duration": 114,
    "start_time": "2024-07-02T23:00:38.999Z"
   },
   {
    "duration": 110,
    "start_time": "2024-07-02T23:00:46.507Z"
   },
   {
    "duration": 13,
    "start_time": "2024-07-02T23:00:52.013Z"
   },
   {
    "duration": 12,
    "start_time": "2024-07-02T23:01:08.905Z"
   },
   {
    "duration": 14,
    "start_time": "2024-07-02T23:01:14.187Z"
   },
   {
    "duration": 17,
    "start_time": "2024-07-02T23:01:40.839Z"
   },
   {
    "duration": 160,
    "start_time": "2024-07-02T23:37:26.020Z"
   },
   {
    "duration": 152,
    "start_time": "2024-07-02T23:40:01.155Z"
   },
   {
    "duration": 218,
    "start_time": "2024-07-02T23:40:18.226Z"
   },
   {
    "duration": 142,
    "start_time": "2024-07-02T23:41:04.049Z"
   },
   {
    "duration": 70,
    "start_time": "2024-07-02T23:44:56.361Z"
   },
   {
    "duration": 4,
    "start_time": "2024-07-02T23:45:02.961Z"
   },
   {
    "duration": 4,
    "start_time": "2024-07-02T23:45:12.363Z"
   },
   {
    "duration": 3,
    "start_time": "2024-07-02T23:45:25.343Z"
   },
   {
    "duration": 8,
    "start_time": "2024-07-02T23:46:29.952Z"
   },
   {
    "duration": 4,
    "start_time": "2024-07-02T23:46:37.371Z"
   },
   {
    "duration": 4,
    "start_time": "2024-07-02T23:47:10.051Z"
   },
   {
    "duration": 3,
    "start_time": "2024-07-02T23:47:18.131Z"
   },
   {
    "duration": 1229,
    "start_time": "2024-07-03T20:33:49.359Z"
   },
   {
    "duration": 4,
    "start_time": "2024-07-03T20:33:50.590Z"
   },
   {
    "duration": 348,
    "start_time": "2024-07-03T20:33:50.595Z"
   },
   {
    "duration": 128,
    "start_time": "2024-07-03T20:33:50.944Z"
   },
   {
    "duration": 86,
    "start_time": "2024-07-03T20:33:51.074Z"
   },
   {
    "duration": 11,
    "start_time": "2024-07-03T20:33:51.161Z"
   },
   {
    "duration": 26,
    "start_time": "2024-07-03T20:33:51.173Z"
   },
   {
    "duration": 34,
    "start_time": "2024-07-03T20:33:51.200Z"
   },
   {
    "duration": 389,
    "start_time": "2024-07-03T20:33:51.236Z"
   },
   {
    "duration": 49,
    "start_time": "2024-07-03T20:33:51.626Z"
   },
   {
    "duration": 42,
    "start_time": "2024-07-03T20:33:51.676Z"
   },
   {
    "duration": 7,
    "start_time": "2024-07-03T20:33:51.719Z"
   },
   {
    "duration": 23,
    "start_time": "2024-07-03T20:33:51.728Z"
   },
   {
    "duration": 120,
    "start_time": "2024-07-03T20:33:51.753Z"
   },
   {
    "duration": 11,
    "start_time": "2024-07-03T20:33:51.875Z"
   },
   {
    "duration": 110,
    "start_time": "2024-07-03T20:33:51.887Z"
   },
   {
    "duration": 0,
    "start_time": "2024-07-03T20:33:51.999Z"
   },
   {
    "duration": 10,
    "start_time": "2024-07-03T20:42:03.459Z"
   },
   {
    "duration": 11,
    "start_time": "2024-07-03T20:42:37.697Z"
   },
   {
    "duration": 117,
    "start_time": "2024-07-03T20:42:45.958Z"
   },
   {
    "duration": 81,
    "start_time": "2024-07-03T20:42:54.430Z"
   },
   {
    "duration": 143,
    "start_time": "2024-07-03T20:43:27.770Z"
   },
   {
    "duration": 3,
    "start_time": "2024-07-03T20:43:41.653Z"
   },
   {
    "duration": 70,
    "start_time": "2024-07-03T20:51:20.504Z"
   },
   {
    "duration": 60,
    "start_time": "2024-07-03T20:52:12.948Z"
   },
   {
    "duration": 32,
    "start_time": "2024-07-03T20:52:57.550Z"
   },
   {
    "duration": 29,
    "start_time": "2024-07-03T20:53:01.606Z"
   },
   {
    "duration": 7,
    "start_time": "2024-07-03T22:28:49.014Z"
   },
   {
    "duration": 31,
    "start_time": "2024-07-03T22:29:07.099Z"
   },
   {
    "duration": 137,
    "start_time": "2024-07-03T22:29:29.366Z"
   },
   {
    "duration": 76,
    "start_time": "2024-07-03T23:14:58.976Z"
   },
   {
    "duration": 127,
    "start_time": "2024-07-03T23:15:10.264Z"
   },
   {
    "duration": 134,
    "start_time": "2024-07-03T23:19:15.808Z"
   },
   {
    "duration": 136,
    "start_time": "2024-07-03T23:19:23.825Z"
   },
   {
    "duration": 138,
    "start_time": "2024-07-03T23:19:50.394Z"
   },
   {
    "duration": 134,
    "start_time": "2024-07-03T23:20:39.159Z"
   },
   {
    "duration": 136,
    "start_time": "2024-07-03T23:20:45.897Z"
   },
   {
    "duration": 60,
    "start_time": "2024-07-03T23:33:31.823Z"
   },
   {
    "duration": 9,
    "start_time": "2024-07-03T23:33:49.317Z"
   },
   {
    "duration": 8,
    "start_time": "2024-07-03T23:33:56.117Z"
   },
   {
    "duration": 34,
    "start_time": "2024-07-03T23:34:00.192Z"
   },
   {
    "duration": 793,
    "start_time": "2024-07-03T23:34:01.699Z"
   },
   {
    "duration": 80,
    "start_time": "2024-07-03T23:35:24.752Z"
   },
   {
    "duration": 3,
    "start_time": "2024-07-03T23:35:34.982Z"
   },
   {
    "duration": 3,
    "start_time": "2024-07-03T23:35:49.079Z"
   },
   {
    "duration": 4,
    "start_time": "2024-07-03T23:36:02.603Z"
   },
   {
    "duration": 57,
    "start_time": "2024-07-03T23:36:14.515Z"
   },
   {
    "duration": 4,
    "start_time": "2024-07-03T23:36:30.141Z"
   },
   {
    "duration": 3,
    "start_time": "2024-07-03T23:36:51.741Z"
   },
   {
    "duration": 24,
    "start_time": "2024-07-03T23:53:20.743Z"
   },
   {
    "duration": 86,
    "start_time": "2024-07-03T23:53:33.650Z"
   },
   {
    "duration": 1028,
    "start_time": "2024-07-03T23:56:27.842Z"
   },
   {
    "duration": 87,
    "start_time": "2024-07-03T23:57:27.755Z"
   },
   {
    "duration": 87,
    "start_time": "2024-07-03T23:57:58.806Z"
   },
   {
    "duration": 49,
    "start_time": "2024-07-04T12:16:12.433Z"
   },
   {
    "duration": 6,
    "start_time": "2024-07-04T12:16:16.250Z"
   },
   {
    "duration": 1304,
    "start_time": "2024-07-04T12:16:33.574Z"
   },
   {
    "duration": 4,
    "start_time": "2024-07-04T12:16:34.880Z"
   },
   {
    "duration": 415,
    "start_time": "2024-07-04T12:16:34.885Z"
   },
   {
    "duration": 131,
    "start_time": "2024-07-04T12:16:35.301Z"
   },
   {
    "duration": 102,
    "start_time": "2024-07-04T12:16:35.434Z"
   },
   {
    "duration": 21,
    "start_time": "2024-07-04T12:16:35.537Z"
   },
   {
    "duration": 57,
    "start_time": "2024-07-04T12:16:35.559Z"
   },
   {
    "duration": 37,
    "start_time": "2024-07-04T12:16:35.617Z"
   },
   {
    "duration": 437,
    "start_time": "2024-07-04T12:16:35.656Z"
   },
   {
    "duration": 73,
    "start_time": "2024-07-04T12:16:36.095Z"
   },
   {
    "duration": 30,
    "start_time": "2024-07-04T12:16:36.170Z"
   },
   {
    "duration": 43,
    "start_time": "2024-07-04T12:16:36.201Z"
   },
   {
    "duration": 23,
    "start_time": "2024-07-04T12:16:36.246Z"
   },
   {
    "duration": 123,
    "start_time": "2024-07-04T12:16:36.273Z"
   },
   {
    "duration": 14,
    "start_time": "2024-07-04T12:16:36.398Z"
   },
   {
    "duration": 191,
    "start_time": "2024-07-04T12:16:36.413Z"
   },
   {
    "duration": 3,
    "start_time": "2024-07-04T12:16:36.606Z"
   },
   {
    "duration": 50,
    "start_time": "2024-07-04T12:16:36.611Z"
   },
   {
    "duration": 35,
    "start_time": "2024-07-04T12:16:36.663Z"
   },
   {
    "duration": 4,
    "start_time": "2024-07-04T12:16:36.700Z"
   },
   {
    "duration": 98,
    "start_time": "2024-07-04T12:16:36.705Z"
   },
   {
    "duration": 93,
    "start_time": "2024-07-04T12:54:26.142Z"
   },
   {
    "duration": 1185,
    "start_time": "2024-07-04T12:54:51.510Z"
   },
   {
    "duration": 330,
    "start_time": "2024-07-04T12:55:18.109Z"
   },
   {
    "duration": 104,
    "start_time": "2024-07-04T12:55:53.512Z"
   },
   {
    "duration": 97,
    "start_time": "2024-07-04T12:56:22.896Z"
   },
   {
    "duration": 96,
    "start_time": "2024-07-04T12:56:44.337Z"
   },
   {
    "duration": 87,
    "start_time": "2024-07-04T12:57:18.094Z"
   },
   {
    "duration": 90,
    "start_time": "2024-07-04T12:57:48.585Z"
   },
   {
    "duration": 90,
    "start_time": "2024-07-04T12:57:52.339Z"
   },
   {
    "duration": 100,
    "start_time": "2024-07-04T13:03:02.215Z"
   },
   {
    "duration": 769,
    "start_time": "2024-07-04T13:05:42.419Z"
   },
   {
    "duration": 777,
    "start_time": "2024-07-04T13:12:39.582Z"
   },
   {
    "duration": 94,
    "start_time": "2024-07-04T13:13:00.834Z"
   },
   {
    "duration": 735,
    "start_time": "2024-07-04T13:13:02.284Z"
   },
   {
    "duration": 24,
    "start_time": "2024-07-04T13:21:21.224Z"
   },
   {
    "duration": 1031,
    "start_time": "2024-07-04T13:22:55.223Z"
   },
   {
    "duration": 12,
    "start_time": "2024-07-04T13:24:11.039Z"
   },
   {
    "duration": 1008,
    "start_time": "2024-07-04T13:25:53.860Z"
   },
   {
    "duration": 1011,
    "start_time": "2024-07-04T13:26:14.818Z"
   },
   {
    "duration": 8,
    "start_time": "2024-07-04T13:26:51.849Z"
   },
   {
    "duration": 1007,
    "start_time": "2024-07-04T13:27:47.459Z"
   },
   {
    "duration": 13,
    "start_time": "2024-07-04T13:31:37.658Z"
   },
   {
    "duration": 3,
    "start_time": "2024-07-04T13:33:16.876Z"
   },
   {
    "duration": 12,
    "start_time": "2024-07-04T13:33:20.378Z"
   },
   {
    "duration": 7,
    "start_time": "2024-07-04T13:33:48.138Z"
   },
   {
    "duration": 19,
    "start_time": "2024-07-04T13:38:59.492Z"
   },
   {
    "duration": 22,
    "start_time": "2024-07-04T13:39:23.110Z"
   },
   {
    "duration": 24,
    "start_time": "2024-07-04T13:50:38.136Z"
   },
   {
    "duration": 6,
    "start_time": "2024-07-04T13:50:42.568Z"
   },
   {
    "duration": 22,
    "start_time": "2024-07-04T13:50:44.014Z"
   },
   {
    "duration": 18,
    "start_time": "2024-07-04T13:51:17.215Z"
   },
   {
    "duration": 6,
    "start_time": "2024-07-04T13:51:18.938Z"
   },
   {
    "duration": 21,
    "start_time": "2024-07-04T13:51:22.750Z"
   },
   {
    "duration": 6,
    "start_time": "2024-07-04T13:51:23.229Z"
   },
   {
    "duration": 1013,
    "start_time": "2024-07-04T13:51:23.644Z"
   },
   {
    "duration": 951,
    "start_time": "2024-07-04T13:53:16.674Z"
   },
   {
    "duration": 1012,
    "start_time": "2024-07-04T13:53:28.460Z"
   },
   {
    "duration": 6,
    "start_time": "2024-07-04T13:53:55.924Z"
   },
   {
    "duration": 26,
    "start_time": "2024-07-04T13:53:56.310Z"
   },
   {
    "duration": 6,
    "start_time": "2024-07-04T13:55:42.003Z"
   },
   {
    "duration": 1054,
    "start_time": "2024-07-04T13:55:42.366Z"
   },
   {
    "duration": 11,
    "start_time": "2024-07-04T13:57:44.845Z"
   },
   {
    "duration": 6,
    "start_time": "2024-07-04T14:01:49.342Z"
   },
   {
    "duration": 1065,
    "start_time": "2024-07-04T14:01:50.211Z"
   },
   {
    "duration": 1046,
    "start_time": "2024-07-04T14:02:28.919Z"
   },
   {
    "duration": 974,
    "start_time": "2024-07-04T14:02:41.691Z"
   },
   {
    "duration": 1110,
    "start_time": "2024-07-04T14:02:44.241Z"
   },
   {
    "duration": 1060,
    "start_time": "2024-07-04T14:03:37.044Z"
   },
   {
    "duration": 6,
    "start_time": "2024-07-04T14:04:41.811Z"
   },
   {
    "duration": 952,
    "start_time": "2024-07-04T14:04:43.294Z"
   },
   {
    "duration": 954,
    "start_time": "2024-07-04T14:04:54.788Z"
   },
   {
    "duration": 1131,
    "start_time": "2024-07-04T14:05:39.751Z"
   },
   {
    "duration": 1124,
    "start_time": "2024-07-04T14:05:47.365Z"
   },
   {
    "duration": 8,
    "start_time": "2024-07-04T14:05:54.451Z"
   },
   {
    "duration": 24,
    "start_time": "2024-07-04T14:05:54.857Z"
   },
   {
    "duration": 27,
    "start_time": "2024-07-04T14:05:55.255Z"
   },
   {
    "duration": 6,
    "start_time": "2024-07-04T14:06:21.095Z"
   },
   {
    "duration": 1029,
    "start_time": "2024-07-04T14:06:21.580Z"
   },
   {
    "duration": 0,
    "start_time": "2024-07-04T14:06:22.611Z"
   },
   {
    "duration": 1255,
    "start_time": "2024-07-04T14:06:27.613Z"
   },
   {
    "duration": 1049,
    "start_time": "2024-07-04T14:06:33.842Z"
   },
   {
    "duration": 6,
    "start_time": "2024-07-04T14:08:06.821Z"
   },
   {
    "duration": 1271,
    "start_time": "2024-07-04T14:08:09.148Z"
   },
   {
    "duration": 0,
    "start_time": "2024-07-04T14:08:10.420Z"
   },
   {
    "duration": 6,
    "start_time": "2024-07-04T14:08:25.117Z"
   },
   {
    "duration": 951,
    "start_time": "2024-07-04T14:08:25.471Z"
   },
   {
    "duration": 1044,
    "start_time": "2024-07-04T14:08:29.267Z"
   },
   {
    "duration": 6,
    "start_time": "2024-07-04T14:09:01.557Z"
   },
   {
    "duration": 36,
    "start_time": "2024-07-04T14:09:02.005Z"
   },
   {
    "duration": 88,
    "start_time": "2024-07-04T14:09:02.491Z"
   },
   {
    "duration": 10,
    "start_time": "2024-07-04T14:09:36.443Z"
   },
   {
    "duration": 1179,
    "start_time": "2024-07-04T14:09:44.406Z"
   },
   {
    "duration": 4,
    "start_time": "2024-07-04T14:09:45.587Z"
   },
   {
    "duration": 407,
    "start_time": "2024-07-04T14:09:45.592Z"
   },
   {
    "duration": 139,
    "start_time": "2024-07-04T14:09:46.000Z"
   },
   {
    "duration": 103,
    "start_time": "2024-07-04T14:09:46.141Z"
   },
   {
    "duration": 17,
    "start_time": "2024-07-04T14:09:46.245Z"
   },
   {
    "duration": 31,
    "start_time": "2024-07-04T14:09:46.264Z"
   },
   {
    "duration": 61,
    "start_time": "2024-07-04T14:09:46.297Z"
   },
   {
    "duration": 476,
    "start_time": "2024-07-04T14:09:46.360Z"
   },
   {
    "duration": 66,
    "start_time": "2024-07-04T14:09:46.840Z"
   },
   {
    "duration": 45,
    "start_time": "2024-07-04T14:09:46.908Z"
   },
   {
    "duration": 10,
    "start_time": "2024-07-04T14:09:46.955Z"
   },
   {
    "duration": 24,
    "start_time": "2024-07-04T14:09:46.967Z"
   },
   {
    "duration": 130,
    "start_time": "2024-07-04T14:09:46.993Z"
   },
   {
    "duration": 12,
    "start_time": "2024-07-04T14:09:47.125Z"
   },
   {
    "duration": 165,
    "start_time": "2024-07-04T14:09:47.139Z"
   },
   {
    "duration": 4,
    "start_time": "2024-07-04T14:09:47.306Z"
   },
   {
    "duration": 47,
    "start_time": "2024-07-04T14:09:47.311Z"
   },
   {
    "duration": 38,
    "start_time": "2024-07-04T14:09:47.360Z"
   },
   {
    "duration": 4,
    "start_time": "2024-07-04T14:09:47.400Z"
   },
   {
    "duration": 107,
    "start_time": "2024-07-04T14:09:47.405Z"
   },
   {
    "duration": 26,
    "start_time": "2024-07-04T14:09:47.514Z"
   },
   {
    "duration": 14,
    "start_time": "2024-07-04T14:09:47.542Z"
   },
   {
    "duration": 49,
    "start_time": "2024-07-04T14:10:57.143Z"
   },
   {
    "duration": 5,
    "start_time": "2024-07-04T14:10:59.875Z"
   },
   {
    "duration": 6,
    "start_time": "2024-07-04T14:11:00.241Z"
   },
   {
    "duration": 1195,
    "start_time": "2024-07-04T14:11:04.480Z"
   },
   {
    "duration": 4,
    "start_time": "2024-07-04T14:11:05.677Z"
   },
   {
    "duration": 395,
    "start_time": "2024-07-04T14:11:05.682Z"
   },
   {
    "duration": 136,
    "start_time": "2024-07-04T14:11:06.079Z"
   },
   {
    "duration": 110,
    "start_time": "2024-07-04T14:11:06.217Z"
   },
   {
    "duration": 15,
    "start_time": "2024-07-04T14:11:06.329Z"
   },
   {
    "duration": 36,
    "start_time": "2024-07-04T14:11:06.345Z"
   },
   {
    "duration": 38,
    "start_time": "2024-07-04T14:11:06.382Z"
   },
   {
    "duration": 469,
    "start_time": "2024-07-04T14:11:06.421Z"
   },
   {
    "duration": 67,
    "start_time": "2024-07-04T14:11:06.893Z"
   },
   {
    "duration": 29,
    "start_time": "2024-07-04T14:11:06.962Z"
   },
   {
    "duration": 8,
    "start_time": "2024-07-04T14:11:06.993Z"
   },
   {
    "duration": 25,
    "start_time": "2024-07-04T14:11:07.002Z"
   },
   {
    "duration": 144,
    "start_time": "2024-07-04T14:11:07.028Z"
   },
   {
    "duration": 13,
    "start_time": "2024-07-04T14:11:07.174Z"
   },
   {
    "duration": 180,
    "start_time": "2024-07-04T14:11:07.189Z"
   },
   {
    "duration": 4,
    "start_time": "2024-07-04T14:11:07.371Z"
   },
   {
    "duration": 50,
    "start_time": "2024-07-04T14:11:07.377Z"
   },
   {
    "duration": 39,
    "start_time": "2024-07-04T14:11:07.429Z"
   },
   {
    "duration": 5,
    "start_time": "2024-07-04T14:11:07.469Z"
   },
   {
    "duration": 105,
    "start_time": "2024-07-04T14:11:07.475Z"
   },
   {
    "duration": 21,
    "start_time": "2024-07-04T14:11:07.582Z"
   },
   {
    "duration": 6,
    "start_time": "2024-07-04T14:11:07.604Z"
   },
   {
    "duration": 1214,
    "start_time": "2024-07-04T14:11:32.262Z"
   },
   {
    "duration": 4,
    "start_time": "2024-07-04T14:11:33.477Z"
   },
   {
    "duration": 452,
    "start_time": "2024-07-04T14:11:33.483Z"
   },
   {
    "duration": 143,
    "start_time": "2024-07-04T14:11:33.937Z"
   },
   {
    "duration": 107,
    "start_time": "2024-07-04T14:11:34.082Z"
   },
   {
    "duration": 16,
    "start_time": "2024-07-04T14:11:34.191Z"
   },
   {
    "duration": 52,
    "start_time": "2024-07-04T14:11:34.209Z"
   },
   {
    "duration": 70,
    "start_time": "2024-07-04T14:11:34.264Z"
   },
   {
    "duration": 472,
    "start_time": "2024-07-04T14:11:34.336Z"
   },
   {
    "duration": 65,
    "start_time": "2024-07-04T14:11:34.810Z"
   },
   {
    "duration": 28,
    "start_time": "2024-07-04T14:11:34.877Z"
   },
   {
    "duration": 7,
    "start_time": "2024-07-04T14:11:34.907Z"
   },
   {
    "duration": 45,
    "start_time": "2024-07-04T14:11:34.915Z"
   },
   {
    "duration": 119,
    "start_time": "2024-07-04T14:11:34.962Z"
   },
   {
    "duration": 13,
    "start_time": "2024-07-04T14:11:35.083Z"
   },
   {
    "duration": 177,
    "start_time": "2024-07-04T14:11:35.097Z"
   },
   {
    "duration": 4,
    "start_time": "2024-07-04T14:11:35.275Z"
   },
   {
    "duration": 39,
    "start_time": "2024-07-04T14:11:35.281Z"
   },
   {
    "duration": 50,
    "start_time": "2024-07-04T14:11:35.322Z"
   },
   {
    "duration": 4,
    "start_time": "2024-07-04T14:11:35.374Z"
   },
   {
    "duration": 103,
    "start_time": "2024-07-04T14:11:35.379Z"
   },
   {
    "duration": 20,
    "start_time": "2024-07-04T14:11:35.484Z"
   },
   {
    "duration": 6,
    "start_time": "2024-07-04T14:11:35.505Z"
   },
   {
    "duration": 1193,
    "start_time": "2024-07-04T14:11:49.494Z"
   },
   {
    "duration": 4,
    "start_time": "2024-07-04T14:11:50.689Z"
   },
   {
    "duration": 401,
    "start_time": "2024-07-04T14:11:50.694Z"
   },
   {
    "duration": 130,
    "start_time": "2024-07-04T14:11:51.097Z"
   },
   {
    "duration": 103,
    "start_time": "2024-07-04T14:11:51.229Z"
   },
   {
    "duration": 21,
    "start_time": "2024-07-04T14:11:51.334Z"
   },
   {
    "duration": 28,
    "start_time": "2024-07-04T14:11:51.356Z"
   },
   {
    "duration": 37,
    "start_time": "2024-07-04T14:11:51.385Z"
   },
   {
    "duration": 455,
    "start_time": "2024-07-04T14:11:51.424Z"
   },
   {
    "duration": 60,
    "start_time": "2024-07-04T14:11:51.881Z"
   },
   {
    "duration": 28,
    "start_time": "2024-07-04T14:11:51.952Z"
   },
   {
    "duration": 7,
    "start_time": "2024-07-04T14:11:51.982Z"
   },
   {
    "duration": 31,
    "start_time": "2024-07-04T14:11:51.990Z"
   },
   {
    "duration": 131,
    "start_time": "2024-07-04T14:11:52.024Z"
   },
   {
    "duration": 14,
    "start_time": "2024-07-04T14:11:52.157Z"
   },
   {
    "duration": 180,
    "start_time": "2024-07-04T14:11:52.172Z"
   },
   {
    "duration": 4,
    "start_time": "2024-07-04T14:11:52.353Z"
   },
   {
    "duration": 36,
    "start_time": "2024-07-04T14:11:52.358Z"
   },
   {
    "duration": 36,
    "start_time": "2024-07-04T14:11:52.395Z"
   },
   {
    "duration": 3,
    "start_time": "2024-07-04T14:11:52.433Z"
   },
   {
    "duration": 100,
    "start_time": "2024-07-04T14:11:52.454Z"
   },
   {
    "duration": 25,
    "start_time": "2024-07-04T14:11:52.556Z"
   },
   {
    "duration": 6,
    "start_time": "2024-07-04T14:11:52.582Z"
   },
   {
    "duration": 1131,
    "start_time": "2024-07-04T14:11:52.590Z"
   },
   {
    "duration": 5,
    "start_time": "2024-07-04T14:12:09.507Z"
   },
   {
    "duration": 81,
    "start_time": "2024-07-04T14:12:10.072Z"
   },
   {
    "duration": 6,
    "start_time": "2024-07-04T14:17:06.307Z"
   },
   {
    "duration": 27,
    "start_time": "2024-07-04T14:17:07.666Z"
   },
   {
    "duration": 5,
    "start_time": "2024-07-04T14:17:51.311Z"
   },
   {
    "duration": 1049,
    "start_time": "2024-07-04T14:17:52.103Z"
   },
   {
    "duration": 7,
    "start_time": "2024-07-04T14:18:09.444Z"
   },
   {
    "duration": 103,
    "start_time": "2024-07-04T14:18:09.977Z"
   },
   {
    "duration": 115,
    "start_time": "2024-07-04T14:18:46.489Z"
   },
   {
    "duration": 22,
    "start_time": "2024-07-04T14:20:15.950Z"
   },
   {
    "duration": 27,
    "start_time": "2024-07-04T14:20:19.983Z"
   },
   {
    "duration": 104,
    "start_time": "2024-07-04T14:20:22.681Z"
   },
   {
    "duration": 101,
    "start_time": "2024-07-04T14:20:23.205Z"
   },
   {
    "duration": 13,
    "start_time": "2024-07-04T15:55:06.459Z"
   },
   {
    "duration": 6,
    "start_time": "2024-07-04T16:34:16.642Z"
   },
   {
    "duration": 112,
    "start_time": "2024-07-04T16:34:17.244Z"
   },
   {
    "duration": 100,
    "start_time": "2024-07-04T16:34:19.541Z"
   },
   {
    "duration": 104,
    "start_time": "2024-07-04T16:34:20.386Z"
   },
   {
    "duration": 1226,
    "start_time": "2024-07-04T16:39:53.160Z"
   },
   {
    "duration": 4,
    "start_time": "2024-07-04T16:39:54.388Z"
   },
   {
    "duration": 339,
    "start_time": "2024-07-04T16:39:54.393Z"
   },
   {
    "duration": 149,
    "start_time": "2024-07-04T16:39:54.734Z"
   },
   {
    "duration": 112,
    "start_time": "2024-07-04T16:39:54.884Z"
   },
   {
    "duration": 16,
    "start_time": "2024-07-04T16:39:54.997Z"
   },
   {
    "duration": 50,
    "start_time": "2024-07-04T16:39:55.014Z"
   },
   {
    "duration": 37,
    "start_time": "2024-07-04T16:39:55.066Z"
   },
   {
    "duration": 456,
    "start_time": "2024-07-04T16:39:55.104Z"
   },
   {
    "duration": 61,
    "start_time": "2024-07-04T16:39:55.563Z"
   },
   {
    "duration": 48,
    "start_time": "2024-07-04T16:39:55.626Z"
   },
   {
    "duration": 10,
    "start_time": "2024-07-04T16:39:55.676Z"
   },
   {
    "duration": 27,
    "start_time": "2024-07-04T16:39:55.687Z"
   },
   {
    "duration": 133,
    "start_time": "2024-07-04T16:39:55.716Z"
   },
   {
    "duration": 13,
    "start_time": "2024-07-04T16:39:55.850Z"
   },
   {
    "duration": 164,
    "start_time": "2024-07-04T16:39:55.864Z"
   },
   {
    "duration": 3,
    "start_time": "2024-07-04T16:39:56.030Z"
   },
   {
    "duration": 47,
    "start_time": "2024-07-04T16:39:56.035Z"
   },
   {
    "duration": 44,
    "start_time": "2024-07-04T16:39:56.084Z"
   },
   {
    "duration": 4,
    "start_time": "2024-07-04T16:39:56.129Z"
   },
   {
    "duration": 101,
    "start_time": "2024-07-04T16:39:56.153Z"
   },
   {
    "duration": 31,
    "start_time": "2024-07-04T16:39:56.256Z"
   },
   {
    "duration": 7,
    "start_time": "2024-07-04T16:39:56.289Z"
   },
   {
    "duration": 161,
    "start_time": "2024-07-04T16:39:56.298Z"
   },
   {
    "duration": 132,
    "start_time": "2024-07-04T16:39:56.461Z"
   },
   {
    "duration": 133,
    "start_time": "2024-07-04T16:39:56.595Z"
   },
   {
    "duration": 114,
    "start_time": "2024-07-04T16:43:58.396Z"
   },
   {
    "duration": 13,
    "start_time": "2024-07-04T16:44:37.854Z"
   },
   {
    "duration": 150,
    "start_time": "2024-07-04T16:44:54.080Z"
   },
   {
    "duration": 4,
    "start_time": "2024-07-04T16:44:54.789Z"
   },
   {
    "duration": 1170,
    "start_time": "2024-07-04T16:44:59.204Z"
   },
   {
    "duration": 4,
    "start_time": "2024-07-04T16:45:00.376Z"
   },
   {
    "duration": 366,
    "start_time": "2024-07-04T16:45:00.381Z"
   },
   {
    "duration": 128,
    "start_time": "2024-07-04T16:45:00.752Z"
   },
   {
    "duration": 108,
    "start_time": "2024-07-04T16:45:00.882Z"
   },
   {
    "duration": 16,
    "start_time": "2024-07-04T16:45:00.992Z"
   },
   {
    "duration": 98,
    "start_time": "2024-07-04T16:45:01.009Z"
   },
   {
    "duration": 43,
    "start_time": "2024-07-04T16:45:01.108Z"
   },
   {
    "duration": 612,
    "start_time": "2024-07-04T16:45:01.153Z"
   },
   {
    "duration": 69,
    "start_time": "2024-07-04T16:45:01.767Z"
   },
   {
    "duration": 133,
    "start_time": "2024-07-04T16:45:01.837Z"
   },
   {
    "duration": 80,
    "start_time": "2024-07-04T16:45:01.972Z"
   },
   {
    "duration": 76,
    "start_time": "2024-07-04T16:45:02.054Z"
   },
   {
    "duration": 111,
    "start_time": "2024-07-04T16:45:02.131Z"
   },
   {
    "duration": 16,
    "start_time": "2024-07-04T16:45:02.244Z"
   },
   {
    "duration": 372,
    "start_time": "2024-07-04T16:45:02.262Z"
   },
   {
    "duration": 4,
    "start_time": "2024-07-04T16:45:02.636Z"
   },
   {
    "duration": 52,
    "start_time": "2024-07-04T16:45:02.641Z"
   },
   {
    "duration": 38,
    "start_time": "2024-07-04T16:45:02.694Z"
   },
   {
    "duration": 56,
    "start_time": "2024-07-04T16:45:02.734Z"
   },
   {
    "duration": 138,
    "start_time": "2024-07-04T16:45:02.792Z"
   },
   {
    "duration": 34,
    "start_time": "2024-07-04T16:45:02.932Z"
   },
   {
    "duration": 6,
    "start_time": "2024-07-04T16:45:02.968Z"
   },
   {
    "duration": 127,
    "start_time": "2024-07-04T16:45:02.975Z"
   },
   {
    "duration": 123,
    "start_time": "2024-07-04T16:45:03.103Z"
   },
   {
    "duration": 117,
    "start_time": "2024-07-04T16:45:03.227Z"
   },
   {
    "duration": 133,
    "start_time": "2024-07-04T16:45:50.910Z"
   },
   {
    "duration": 38,
    "start_time": "2024-07-04T16:46:01.520Z"
   },
   {
    "duration": 6,
    "start_time": "2024-07-04T16:47:05.451Z"
   },
   {
    "duration": 120,
    "start_time": "2024-07-04T16:47:06.225Z"
   },
   {
    "duration": 1229,
    "start_time": "2024-07-04T16:47:11.247Z"
   },
   {
    "duration": 5,
    "start_time": "2024-07-04T16:47:12.478Z"
   },
   {
    "duration": 329,
    "start_time": "2024-07-04T16:47:12.484Z"
   },
   {
    "duration": 138,
    "start_time": "2024-07-04T16:47:12.816Z"
   },
   {
    "duration": 108,
    "start_time": "2024-07-04T16:47:12.956Z"
   },
   {
    "duration": 17,
    "start_time": "2024-07-04T16:47:13.066Z"
   },
   {
    "duration": 43,
    "start_time": "2024-07-04T16:47:13.084Z"
   },
   {
    "duration": 43,
    "start_time": "2024-07-04T16:47:13.129Z"
   },
   {
    "duration": 479,
    "start_time": "2024-07-04T16:47:13.174Z"
   },
   {
    "duration": 62,
    "start_time": "2024-07-04T16:47:13.656Z"
   },
   {
    "duration": 45,
    "start_time": "2024-07-04T16:47:13.719Z"
   },
   {
    "duration": 7,
    "start_time": "2024-07-04T16:47:13.766Z"
   },
   {
    "duration": 24,
    "start_time": "2024-07-04T16:47:13.775Z"
   },
   {
    "duration": 140,
    "start_time": "2024-07-04T16:47:13.801Z"
   },
   {
    "duration": 25,
    "start_time": "2024-07-04T16:47:13.943Z"
   },
   {
    "duration": 173,
    "start_time": "2024-07-04T16:47:13.970Z"
   },
   {
    "duration": 10,
    "start_time": "2024-07-04T16:47:14.145Z"
   },
   {
    "duration": 38,
    "start_time": "2024-07-04T16:47:14.156Z"
   },
   {
    "duration": 38,
    "start_time": "2024-07-04T16:47:14.196Z"
   },
   {
    "duration": 5,
    "start_time": "2024-07-04T16:47:14.252Z"
   },
   {
    "duration": 115,
    "start_time": "2024-07-04T16:47:14.259Z"
   },
   {
    "duration": 29,
    "start_time": "2024-07-04T16:47:14.375Z"
   },
   {
    "duration": 6,
    "start_time": "2024-07-04T16:47:14.406Z"
   },
   {
    "duration": 126,
    "start_time": "2024-07-04T16:47:14.413Z"
   },
   {
    "duration": 118,
    "start_time": "2024-07-04T16:47:14.540Z"
   },
   {
    "duration": 115,
    "start_time": "2024-07-04T16:47:14.659Z"
   },
   {
    "duration": 1471,
    "start_time": "2024-07-04T20:45:00.850Z"
   },
   {
    "duration": 5,
    "start_time": "2024-07-04T20:45:02.323Z"
   },
   {
    "duration": 584,
    "start_time": "2024-07-04T20:45:02.330Z"
   },
   {
    "duration": 152,
    "start_time": "2024-07-04T20:45:02.917Z"
   },
   {
    "duration": 111,
    "start_time": "2024-07-04T20:45:03.070Z"
   },
   {
    "duration": 25,
    "start_time": "2024-07-04T20:45:03.182Z"
   },
   {
    "duration": 33,
    "start_time": "2024-07-04T20:45:03.209Z"
   },
   {
    "duration": 55,
    "start_time": "2024-07-04T20:45:03.244Z"
   },
   {
    "duration": 463,
    "start_time": "2024-07-04T20:45:03.302Z"
   },
   {
    "duration": 74,
    "start_time": "2024-07-04T20:45:03.768Z"
   },
   {
    "duration": 48,
    "start_time": "2024-07-04T20:45:03.844Z"
   },
   {
    "duration": 12,
    "start_time": "2024-07-04T20:45:03.894Z"
   },
   {
    "duration": 27,
    "start_time": "2024-07-04T20:45:03.908Z"
   },
   {
    "duration": 155,
    "start_time": "2024-07-04T20:45:03.938Z"
   },
   {
    "duration": 15,
    "start_time": "2024-07-04T20:45:04.096Z"
   },
   {
    "duration": 207,
    "start_time": "2024-07-04T20:45:04.113Z"
   },
   {
    "duration": 4,
    "start_time": "2024-07-04T20:45:04.322Z"
   },
   {
    "duration": 45,
    "start_time": "2024-07-04T20:45:04.328Z"
   },
   {
    "duration": 46,
    "start_time": "2024-07-04T20:45:04.375Z"
   },
   {
    "duration": 4,
    "start_time": "2024-07-04T20:45:04.423Z"
   },
   {
    "duration": 122,
    "start_time": "2024-07-04T20:45:04.429Z"
   },
   {
    "duration": 38,
    "start_time": "2024-07-04T20:45:04.553Z"
   },
   {
    "duration": 6,
    "start_time": "2024-07-04T20:45:04.593Z"
   },
   {
    "duration": 122,
    "start_time": "2024-07-04T20:45:04.602Z"
   },
   {
    "duration": 119,
    "start_time": "2024-07-04T20:45:04.725Z"
   },
   {
    "duration": 135,
    "start_time": "2024-07-04T20:45:04.846Z"
   },
   {
    "duration": 1307,
    "start_time": "2024-07-05T09:40:54.930Z"
   },
   {
    "duration": 4,
    "start_time": "2024-07-05T09:40:56.239Z"
   },
   {
    "duration": 393,
    "start_time": "2024-07-05T09:40:56.244Z"
   },
   {
    "duration": 127,
    "start_time": "2024-07-05T09:40:56.639Z"
   },
   {
    "duration": 96,
    "start_time": "2024-07-05T09:40:56.768Z"
   },
   {
    "duration": 14,
    "start_time": "2024-07-05T09:40:56.865Z"
   },
   {
    "duration": 29,
    "start_time": "2024-07-05T09:40:56.880Z"
   },
   {
    "duration": 49,
    "start_time": "2024-07-05T09:40:56.910Z"
   },
   {
    "duration": 435,
    "start_time": "2024-07-05T09:40:56.961Z"
   },
   {
    "duration": 67,
    "start_time": "2024-07-05T09:40:57.398Z"
   },
   {
    "duration": 25,
    "start_time": "2024-07-05T09:40:57.467Z"
   },
   {
    "duration": 8,
    "start_time": "2024-07-05T09:40:57.494Z"
   },
   {
    "duration": 38,
    "start_time": "2024-07-05T09:40:57.503Z"
   },
   {
    "duration": 116,
    "start_time": "2024-07-05T09:40:57.542Z"
   },
   {
    "duration": 12,
    "start_time": "2024-07-05T09:40:57.660Z"
   },
   {
    "duration": 171,
    "start_time": "2024-07-05T09:40:57.674Z"
   },
   {
    "duration": 4,
    "start_time": "2024-07-05T09:40:57.846Z"
   },
   {
    "duration": 36,
    "start_time": "2024-07-05T09:40:57.852Z"
   },
   {
    "duration": 48,
    "start_time": "2024-07-05T09:40:57.890Z"
   },
   {
    "duration": 5,
    "start_time": "2024-07-05T09:40:57.939Z"
   },
   {
    "duration": 93,
    "start_time": "2024-07-05T09:40:57.945Z"
   },
   {
    "duration": 25,
    "start_time": "2024-07-05T09:40:58.040Z"
   },
   {
    "duration": 6,
    "start_time": "2024-07-05T09:40:58.067Z"
   },
   {
    "duration": 122,
    "start_time": "2024-07-05T09:40:58.074Z"
   },
   {
    "duration": 127,
    "start_time": "2024-07-05T09:40:58.198Z"
   },
   {
    "duration": 112,
    "start_time": "2024-07-05T09:40:58.326Z"
   },
   {
    "duration": 71,
    "start_time": "2024-07-05T12:22:38.228Z"
   },
   {
    "duration": 1493,
    "start_time": "2024-07-05T12:22:45.355Z"
   },
   {
    "duration": 4,
    "start_time": "2024-07-05T12:22:46.850Z"
   },
   {
    "duration": 437,
    "start_time": "2024-07-05T12:22:46.856Z"
   },
   {
    "duration": 238,
    "start_time": "2024-07-05T12:22:47.295Z"
   },
   {
    "duration": 113,
    "start_time": "2024-07-05T12:22:47.535Z"
   },
   {
    "duration": 16,
    "start_time": "2024-07-05T12:22:47.649Z"
   },
   {
    "duration": 44,
    "start_time": "2024-07-05T12:22:47.667Z"
   },
   {
    "duration": 40,
    "start_time": "2024-07-05T12:22:47.713Z"
   },
   {
    "duration": 488,
    "start_time": "2024-07-05T12:22:47.755Z"
   },
   {
    "duration": 71,
    "start_time": "2024-07-05T12:22:48.246Z"
   },
   {
    "duration": 33,
    "start_time": "2024-07-05T12:22:48.318Z"
   },
   {
    "duration": 30,
    "start_time": "2024-07-05T12:22:48.353Z"
   },
   {
    "duration": 28,
    "start_time": "2024-07-05T12:22:48.385Z"
   },
   {
    "duration": 145,
    "start_time": "2024-07-05T12:22:48.415Z"
   },
   {
    "duration": 23,
    "start_time": "2024-07-05T12:22:48.561Z"
   },
   {
    "duration": 171,
    "start_time": "2024-07-05T12:22:48.585Z"
   },
   {
    "duration": 4,
    "start_time": "2024-07-05T12:22:48.758Z"
   },
   {
    "duration": 48,
    "start_time": "2024-07-05T12:22:48.764Z"
   },
   {
    "duration": 38,
    "start_time": "2024-07-05T12:22:48.814Z"
   },
   {
    "duration": 4,
    "start_time": "2024-07-05T12:22:48.854Z"
   },
   {
    "duration": 115,
    "start_time": "2024-07-05T12:22:48.860Z"
   },
   {
    "duration": 31,
    "start_time": "2024-07-05T12:22:48.982Z"
   },
   {
    "duration": 6,
    "start_time": "2024-07-05T12:22:49.015Z"
   },
   {
    "duration": 141,
    "start_time": "2024-07-05T12:22:49.023Z"
   },
   {
    "duration": 130,
    "start_time": "2024-07-05T12:22:49.166Z"
   },
   {
    "duration": 122,
    "start_time": "2024-07-05T12:22:49.298Z"
   },
   {
    "duration": 289,
    "start_time": "2024-07-05T12:23:22.372Z"
   },
   {
    "duration": 238,
    "start_time": "2024-07-05T12:23:43.079Z"
   },
   {
    "duration": 17,
    "start_time": "2024-07-05T12:23:59.868Z"
   },
   {
    "duration": 230,
    "start_time": "2024-07-05T12:24:31.520Z"
   },
   {
    "duration": 1194,
    "start_time": "2024-07-05T12:24:41.024Z"
   },
   {
    "duration": 4,
    "start_time": "2024-07-05T12:24:42.220Z"
   },
   {
    "duration": 322,
    "start_time": "2024-07-05T12:24:42.226Z"
   },
   {
    "duration": 225,
    "start_time": "2024-07-05T12:24:42.551Z"
   },
   {
    "duration": 113,
    "start_time": "2024-07-05T12:24:42.779Z"
   },
   {
    "duration": 16,
    "start_time": "2024-07-05T12:24:42.894Z"
   },
   {
    "duration": 41,
    "start_time": "2024-07-05T12:24:42.912Z"
   },
   {
    "duration": 61,
    "start_time": "2024-07-05T12:24:42.955Z"
   },
   {
    "duration": 475,
    "start_time": "2024-07-05T12:24:43.018Z"
   },
   {
    "duration": 61,
    "start_time": "2024-07-05T12:24:43.497Z"
   },
   {
    "duration": 44,
    "start_time": "2024-07-05T12:24:43.560Z"
   },
   {
    "duration": 10,
    "start_time": "2024-07-05T12:24:43.606Z"
   },
   {
    "duration": 25,
    "start_time": "2024-07-05T12:24:43.618Z"
   },
   {
    "duration": 142,
    "start_time": "2024-07-05T12:24:43.644Z"
   },
   {
    "duration": 13,
    "start_time": "2024-07-05T12:24:43.788Z"
   },
   {
    "duration": 174,
    "start_time": "2024-07-05T12:24:43.802Z"
   },
   {
    "duration": 6,
    "start_time": "2024-07-05T12:24:43.978Z"
   },
   {
    "duration": 38,
    "start_time": "2024-07-05T12:24:43.986Z"
   },
   {
    "duration": 37,
    "start_time": "2024-07-05T12:24:44.026Z"
   },
   {
    "duration": 19,
    "start_time": "2024-07-05T12:24:44.065Z"
   },
   {
    "duration": 124,
    "start_time": "2024-07-05T12:24:44.086Z"
   },
   {
    "duration": 31,
    "start_time": "2024-07-05T12:24:44.212Z"
   },
   {
    "duration": 6,
    "start_time": "2024-07-05T12:24:44.245Z"
   },
   {
    "duration": 126,
    "start_time": "2024-07-05T12:24:44.252Z"
   },
   {
    "duration": 120,
    "start_time": "2024-07-05T12:24:44.382Z"
   },
   {
    "duration": 117,
    "start_time": "2024-07-05T12:24:44.504Z"
   },
   {
    "duration": 1245,
    "start_time": "2024-07-05T12:25:04.273Z"
   },
   {
    "duration": 4,
    "start_time": "2024-07-05T12:25:05.520Z"
   },
   {
    "duration": 318,
    "start_time": "2024-07-05T12:25:05.525Z"
   },
   {
    "duration": 219,
    "start_time": "2024-07-05T12:25:05.846Z"
   },
   {
    "duration": 110,
    "start_time": "2024-07-05T12:25:06.067Z"
   },
   {
    "duration": 15,
    "start_time": "2024-07-05T12:25:06.179Z"
   },
   {
    "duration": 31,
    "start_time": "2024-07-05T12:25:06.196Z"
   },
   {
    "duration": 56,
    "start_time": "2024-07-05T12:25:06.229Z"
   },
   {
    "duration": 460,
    "start_time": "2024-07-05T12:25:06.287Z"
   },
   {
    "duration": 72,
    "start_time": "2024-07-05T12:25:06.750Z"
   },
   {
    "duration": 30,
    "start_time": "2024-07-05T12:25:06.823Z"
   },
   {
    "duration": 9,
    "start_time": "2024-07-05T12:25:06.854Z"
   },
   {
    "duration": 25,
    "start_time": "2024-07-05T12:25:06.882Z"
   },
   {
    "duration": 132,
    "start_time": "2024-07-05T12:25:06.909Z"
   },
   {
    "duration": 12,
    "start_time": "2024-07-05T12:25:07.042Z"
   },
   {
    "duration": 172,
    "start_time": "2024-07-05T12:25:07.056Z"
   },
   {
    "duration": 5,
    "start_time": "2024-07-05T12:25:07.229Z"
   },
   {
    "duration": 55,
    "start_time": "2024-07-05T12:25:07.235Z"
   },
   {
    "duration": 42,
    "start_time": "2024-07-05T12:25:07.292Z"
   },
   {
    "duration": 5,
    "start_time": "2024-07-05T12:25:07.336Z"
   },
   {
    "duration": 109,
    "start_time": "2024-07-05T12:25:07.342Z"
   },
   {
    "duration": 35,
    "start_time": "2024-07-05T12:25:07.453Z"
   },
   {
    "duration": 6,
    "start_time": "2024-07-05T12:25:07.490Z"
   },
   {
    "duration": 124,
    "start_time": "2024-07-05T12:25:07.497Z"
   },
   {
    "duration": 116,
    "start_time": "2024-07-05T12:25:07.623Z"
   },
   {
    "duration": 120,
    "start_time": "2024-07-05T12:25:07.741Z"
   },
   {
    "duration": 277,
    "start_time": "2024-07-05T12:26:11.782Z"
   },
   {
    "duration": 165,
    "start_time": "2024-07-05T12:28:11.374Z"
   },
   {
    "duration": 180,
    "start_time": "2024-07-05T12:28:27.645Z"
   },
   {
    "duration": 260,
    "start_time": "2024-07-05T12:30:10.728Z"
   },
   {
    "duration": 155,
    "start_time": "2024-07-05T12:30:23.206Z"
   },
   {
    "duration": 229,
    "start_time": "2024-07-05T12:30:34.242Z"
   },
   {
    "duration": 154,
    "start_time": "2024-07-05T12:31:08.715Z"
   },
   {
    "duration": 157,
    "start_time": "2024-07-05T12:34:12.263Z"
   },
   {
    "duration": 152,
    "start_time": "2024-07-05T12:34:22.035Z"
   },
   {
    "duration": 168,
    "start_time": "2024-07-05T12:34:39.997Z"
   },
   {
    "duration": 163,
    "start_time": "2024-07-05T12:41:18.172Z"
   },
   {
    "duration": 153,
    "start_time": "2024-07-05T12:41:39.120Z"
   },
   {
    "duration": 156,
    "start_time": "2024-07-05T12:41:53.820Z"
   },
   {
    "duration": 1002,
    "start_time": "2024-07-05T12:45:41.335Z"
   },
   {
    "duration": 312,
    "start_time": "2024-07-05T12:46:11.641Z"
   },
   {
    "duration": 271,
    "start_time": "2024-07-05T12:47:09.353Z"
   },
   {
    "duration": 415,
    "start_time": "2024-07-05T12:47:34.124Z"
   },
   {
    "duration": 6,
    "start_time": "2024-07-05T12:48:09.901Z"
   },
   {
    "duration": 9,
    "start_time": "2024-07-05T12:48:53.699Z"
   },
   {
    "duration": 4,
    "start_time": "2024-07-05T12:50:39.057Z"
   },
   {
    "duration": 22,
    "start_time": "2024-07-05T12:50:42.198Z"
   },
   {
    "duration": 70,
    "start_time": "2024-07-05T12:51:00.853Z"
   },
   {
    "duration": 29,
    "start_time": "2024-07-05T12:51:15.378Z"
   },
   {
    "duration": 62,
    "start_time": "2024-07-05T12:52:02.855Z"
   },
   {
    "duration": 12,
    "start_time": "2024-07-05T12:52:06.504Z"
   },
   {
    "duration": 6,
    "start_time": "2024-07-05T12:52:17.368Z"
   },
   {
    "duration": 15,
    "start_time": "2024-07-05T12:53:37.790Z"
   },
   {
    "duration": 12,
    "start_time": "2024-07-05T12:54:01.390Z"
   },
   {
    "duration": 6,
    "start_time": "2024-07-05T12:54:16.016Z"
   },
   {
    "duration": 31,
    "start_time": "2024-07-05T12:58:01.586Z"
   },
   {
    "duration": 30,
    "start_time": "2024-07-05T12:59:25.348Z"
   },
   {
    "duration": 12,
    "start_time": "2024-07-05T12:59:46.525Z"
   },
   {
    "duration": 13,
    "start_time": "2024-07-05T13:01:46.013Z"
   },
   {
    "duration": 16,
    "start_time": "2024-07-05T13:01:51.832Z"
   },
   {
    "duration": 11,
    "start_time": "2024-07-05T13:02:50.892Z"
   },
   {
    "duration": 8,
    "start_time": "2024-07-05T13:03:05.970Z"
   },
   {
    "duration": 43,
    "start_time": "2024-07-05T13:03:30.749Z"
   },
   {
    "duration": 47,
    "start_time": "2024-07-05T13:03:41.339Z"
   },
   {
    "duration": 77,
    "start_time": "2024-07-05T13:04:23.813Z"
   },
   {
    "duration": 85,
    "start_time": "2024-07-05T13:05:01.755Z"
   },
   {
    "duration": 39,
    "start_time": "2024-07-05T13:06:39.548Z"
   },
   {
    "duration": 80,
    "start_time": "2024-07-05T13:19:00.061Z"
   },
   {
    "duration": 66,
    "start_time": "2024-07-05T13:19:16.561Z"
   },
   {
    "duration": 45,
    "start_time": "2024-07-05T13:19:38.645Z"
   },
   {
    "duration": 26,
    "start_time": "2024-07-05T13:21:17.185Z"
   },
   {
    "duration": 45,
    "start_time": "2024-07-05T13:22:00.444Z"
   },
   {
    "duration": 24,
    "start_time": "2024-07-05T13:23:00.876Z"
   },
   {
    "duration": 44,
    "start_time": "2024-07-05T13:23:21.329Z"
   },
   {
    "duration": 187,
    "start_time": "2024-07-05T13:25:00.421Z"
   },
   {
    "duration": 40,
    "start_time": "2024-07-05T13:26:04.434Z"
   },
   {
    "duration": 38,
    "start_time": "2024-07-05T13:26:33.643Z"
   },
   {
    "duration": 1263,
    "start_time": "2024-07-05T13:28:06.254Z"
   },
   {
    "duration": 4,
    "start_time": "2024-07-05T13:28:07.519Z"
   },
   {
    "duration": 357,
    "start_time": "2024-07-05T13:28:07.525Z"
   },
   {
    "duration": 227,
    "start_time": "2024-07-05T13:28:07.883Z"
   },
   {
    "duration": 107,
    "start_time": "2024-07-05T13:28:08.112Z"
   },
   {
    "duration": 16,
    "start_time": "2024-07-05T13:28:08.220Z"
   },
   {
    "duration": 45,
    "start_time": "2024-07-05T13:28:08.237Z"
   },
   {
    "duration": 187,
    "start_time": "2024-07-05T13:28:08.284Z"
   },
   {
    "duration": 62,
    "start_time": "2024-07-05T13:28:08.472Z"
   },
   {
    "duration": 51,
    "start_time": "2024-07-05T13:28:08.537Z"
   },
   {
    "duration": 451,
    "start_time": "2024-07-05T13:28:08.590Z"
   },
   {
    "duration": 62,
    "start_time": "2024-07-05T13:28:09.043Z"
   },
   {
    "duration": 28,
    "start_time": "2024-07-05T13:28:09.107Z"
   },
   {
    "duration": 9,
    "start_time": "2024-07-05T13:28:09.138Z"
   },
   {
    "duration": 46,
    "start_time": "2024-07-05T13:28:09.149Z"
   },
   {
    "duration": 127,
    "start_time": "2024-07-05T13:28:09.197Z"
   },
   {
    "duration": 15,
    "start_time": "2024-07-05T13:28:09.326Z"
   },
   {
    "duration": 183,
    "start_time": "2024-07-05T13:28:09.342Z"
   },
   {
    "duration": 4,
    "start_time": "2024-07-05T13:28:09.527Z"
   },
   {
    "duration": 51,
    "start_time": "2024-07-05T13:28:09.533Z"
   },
   {
    "duration": 33,
    "start_time": "2024-07-05T13:28:09.586Z"
   },
   {
    "duration": 5,
    "start_time": "2024-07-05T13:28:09.620Z"
   },
   {
    "duration": 105,
    "start_time": "2024-07-05T13:28:09.626Z"
   },
   {
    "duration": 22,
    "start_time": "2024-07-05T13:28:09.732Z"
   },
   {
    "duration": 6,
    "start_time": "2024-07-05T13:28:09.755Z"
   },
   {
    "duration": 128,
    "start_time": "2024-07-05T13:28:09.763Z"
   },
   {
    "duration": 107,
    "start_time": "2024-07-05T13:28:09.892Z"
   },
   {
    "duration": 109,
    "start_time": "2024-07-05T13:28:10.001Z"
   },
   {
    "duration": 69,
    "start_time": "2024-07-05T13:33:16.104Z"
   },
   {
    "duration": 86,
    "start_time": "2024-07-05T13:41:31.164Z"
   },
   {
    "duration": 59,
    "start_time": "2024-07-05T13:42:41.757Z"
   },
   {
    "duration": 139,
    "start_time": "2024-07-05T13:47:47.012Z"
   },
   {
    "duration": 47,
    "start_time": "2024-07-05T13:49:52.771Z"
   },
   {
    "duration": 96,
    "start_time": "2024-07-05T13:50:26.621Z"
   },
   {
    "duration": 1207,
    "start_time": "2024-07-05T13:52:43.420Z"
   },
   {
    "duration": 3,
    "start_time": "2024-07-05T13:52:44.629Z"
   },
   {
    "duration": 318,
    "start_time": "2024-07-05T13:52:44.633Z"
   },
   {
    "duration": 228,
    "start_time": "2024-07-05T13:52:44.953Z"
   },
   {
    "duration": 105,
    "start_time": "2024-07-05T13:52:45.183Z"
   },
   {
    "duration": 15,
    "start_time": "2024-07-05T13:52:45.289Z"
   },
   {
    "duration": 48,
    "start_time": "2024-07-05T13:52:45.306Z"
   },
   {
    "duration": 183,
    "start_time": "2024-07-05T13:52:45.356Z"
   },
   {
    "duration": 61,
    "start_time": "2024-07-05T13:52:45.541Z"
   },
   {
    "duration": 33,
    "start_time": "2024-07-05T13:52:45.605Z"
   },
   {
    "duration": 504,
    "start_time": "2024-07-05T13:52:45.640Z"
   },
   {
    "duration": 57,
    "start_time": "2024-07-05T13:52:46.146Z"
   },
   {
    "duration": 27,
    "start_time": "2024-07-05T13:52:46.205Z"
   },
   {
    "duration": 13,
    "start_time": "2024-07-05T13:52:46.234Z"
   },
   {
    "duration": 47,
    "start_time": "2024-07-05T13:52:46.249Z"
   },
   {
    "duration": 118,
    "start_time": "2024-07-05T13:52:46.297Z"
   },
   {
    "duration": 13,
    "start_time": "2024-07-05T13:52:46.418Z"
   },
   {
    "duration": 177,
    "start_time": "2024-07-05T13:52:46.432Z"
   },
   {
    "duration": 3,
    "start_time": "2024-07-05T13:52:46.611Z"
   },
   {
    "duration": 40,
    "start_time": "2024-07-05T13:52:46.616Z"
   },
   {
    "duration": 40,
    "start_time": "2024-07-05T13:52:46.658Z"
   },
   {
    "duration": 4,
    "start_time": "2024-07-05T13:52:46.699Z"
   },
   {
    "duration": 99,
    "start_time": "2024-07-05T13:52:46.705Z"
   },
   {
    "duration": 33,
    "start_time": "2024-07-05T13:52:46.806Z"
   },
   {
    "duration": 7,
    "start_time": "2024-07-05T13:52:46.840Z"
   },
   {
    "duration": 142,
    "start_time": "2024-07-05T13:52:46.848Z"
   },
   {
    "duration": 111,
    "start_time": "2024-07-05T13:52:46.992Z"
   },
   {
    "duration": 108,
    "start_time": "2024-07-05T13:52:47.106Z"
   },
   {
    "duration": 100,
    "start_time": "2024-07-05T13:52:47.215Z"
   },
   {
    "duration": 1234,
    "start_time": "2024-07-05T13:56:32.001Z"
   },
   {
    "duration": 3,
    "start_time": "2024-07-05T13:56:33.237Z"
   },
   {
    "duration": 311,
    "start_time": "2024-07-05T13:56:33.242Z"
   },
   {
    "duration": 229,
    "start_time": "2024-07-05T13:56:33.555Z"
   },
   {
    "duration": 114,
    "start_time": "2024-07-05T13:56:33.785Z"
   },
   {
    "duration": 36,
    "start_time": "2024-07-05T13:56:33.901Z"
   },
   {
    "duration": 44,
    "start_time": "2024-07-05T13:56:33.939Z"
   },
   {
    "duration": 194,
    "start_time": "2024-07-05T13:56:33.984Z"
   },
   {
    "duration": 53,
    "start_time": "2024-07-05T13:56:34.181Z"
   },
   {
    "duration": 54,
    "start_time": "2024-07-05T13:56:34.238Z"
   },
   {
    "duration": 450,
    "start_time": "2024-07-05T13:56:34.293Z"
   },
   {
    "duration": 60,
    "start_time": "2024-07-05T13:56:34.745Z"
   },
   {
    "duration": 28,
    "start_time": "2024-07-05T13:56:34.807Z"
   },
   {
    "duration": 9,
    "start_time": "2024-07-05T13:56:34.836Z"
   },
   {
    "duration": 82,
    "start_time": "2024-07-05T13:56:34.846Z"
   },
   {
    "duration": 102,
    "start_time": "2024-07-05T13:56:34.929Z"
   },
   {
    "duration": 13,
    "start_time": "2024-07-05T13:56:35.033Z"
   },
   {
    "duration": 180,
    "start_time": "2024-07-05T13:56:35.048Z"
   },
   {
    "duration": 4,
    "start_time": "2024-07-05T13:56:35.230Z"
   },
   {
    "duration": 31,
    "start_time": "2024-07-05T13:56:35.236Z"
   },
   {
    "duration": 35,
    "start_time": "2024-07-05T13:56:35.282Z"
   },
   {
    "duration": 3,
    "start_time": "2024-07-05T13:56:35.319Z"
   },
   {
    "duration": 107,
    "start_time": "2024-07-05T13:56:35.324Z"
   },
   {
    "duration": 31,
    "start_time": "2024-07-05T13:56:35.433Z"
   },
   {
    "duration": 20,
    "start_time": "2024-07-05T13:56:35.466Z"
   },
   {
    "duration": 114,
    "start_time": "2024-07-05T13:56:35.488Z"
   },
   {
    "duration": 110,
    "start_time": "2024-07-05T13:56:35.603Z"
   },
   {
    "duration": 109,
    "start_time": "2024-07-05T13:56:35.716Z"
   },
   {
    "duration": 121,
    "start_time": "2024-07-05T13:56:35.827Z"
   },
   {
    "duration": 1037,
    "start_time": "2024-07-05T16:34:41.083Z"
   },
   {
    "duration": 3,
    "start_time": "2024-07-05T16:34:42.122Z"
   },
   {
    "duration": 893,
    "start_time": "2024-07-05T16:34:42.126Z"
   },
   {
    "duration": 221,
    "start_time": "2024-07-05T16:34:43.021Z"
   },
   {
    "duration": 73,
    "start_time": "2024-07-05T16:34:43.243Z"
   },
   {
    "duration": 10,
    "start_time": "2024-07-05T16:34:43.318Z"
   },
   {
    "duration": 23,
    "start_time": "2024-07-05T16:34:43.329Z"
   },
   {
    "duration": 159,
    "start_time": "2024-07-05T16:34:43.353Z"
   },
   {
    "duration": 42,
    "start_time": "2024-07-05T16:34:43.513Z"
   },
   {
    "duration": 24,
    "start_time": "2024-07-05T16:34:43.570Z"
   },
   {
    "duration": 349,
    "start_time": "2024-07-05T16:34:43.595Z"
   },
   {
    "duration": 45,
    "start_time": "2024-07-05T16:34:43.945Z"
   },
   {
    "duration": 26,
    "start_time": "2024-07-05T16:34:43.991Z"
   },
   {
    "duration": 10,
    "start_time": "2024-07-05T16:34:44.019Z"
   },
   {
    "duration": 46,
    "start_time": "2024-07-05T16:34:44.030Z"
   },
   {
    "duration": 96,
    "start_time": "2024-07-05T16:34:44.077Z"
   },
   {
    "duration": 16,
    "start_time": "2024-07-05T16:34:44.177Z"
   },
   {
    "duration": 154,
    "start_time": "2024-07-05T16:34:44.195Z"
   },
   {
    "duration": 3,
    "start_time": "2024-07-05T16:34:44.350Z"
   },
   {
    "duration": 53,
    "start_time": "2024-07-05T16:34:44.355Z"
   },
   {
    "duration": 29,
    "start_time": "2024-07-05T16:34:44.409Z"
   },
   {
    "duration": 4,
    "start_time": "2024-07-05T16:34:44.440Z"
   },
   {
    "duration": 88,
    "start_time": "2024-07-05T16:34:44.445Z"
   },
   {
    "duration": 25,
    "start_time": "2024-07-05T16:34:44.535Z"
   },
   {
    "duration": 11,
    "start_time": "2024-07-05T16:34:44.562Z"
   },
   {
    "duration": 103,
    "start_time": "2024-07-05T16:34:44.574Z"
   },
   {
    "duration": 74,
    "start_time": "2024-07-05T16:34:44.678Z"
   },
   {
    "duration": 86,
    "start_time": "2024-07-05T16:34:44.754Z"
   },
   {
    "duration": 88,
    "start_time": "2024-07-05T16:34:44.842Z"
   },
   {
    "duration": 5,
    "start_time": "2024-07-05T16:47:54.381Z"
   },
   {
    "duration": 79,
    "start_time": "2024-07-05T16:47:59.532Z"
   },
   {
    "duration": 75,
    "start_time": "2024-07-05T16:48:19.506Z"
   },
   {
    "duration": 81,
    "start_time": "2024-07-05T16:49:14.350Z"
   },
   {
    "duration": 1352,
    "start_time": "2024-07-06T00:39:39.994Z"
   },
   {
    "duration": 4,
    "start_time": "2024-07-06T00:39:41.348Z"
   },
   {
    "duration": 401,
    "start_time": "2024-07-06T00:39:41.360Z"
   },
   {
    "duration": 211,
    "start_time": "2024-07-06T00:39:41.762Z"
   },
   {
    "duration": 102,
    "start_time": "2024-07-06T00:39:41.975Z"
   },
   {
    "duration": 13,
    "start_time": "2024-07-06T00:39:42.079Z"
   },
   {
    "duration": 27,
    "start_time": "2024-07-06T00:39:42.094Z"
   },
   {
    "duration": 178,
    "start_time": "2024-07-06T00:39:42.123Z"
   },
   {
    "duration": 58,
    "start_time": "2024-07-06T00:39:42.303Z"
   },
   {
    "duration": 29,
    "start_time": "2024-07-06T00:39:42.363Z"
   },
   {
    "duration": 375,
    "start_time": "2024-07-06T00:39:42.394Z"
   },
   {
    "duration": 45,
    "start_time": "2024-07-06T00:39:42.770Z"
   },
   {
    "duration": 24,
    "start_time": "2024-07-06T00:39:42.816Z"
   },
   {
    "duration": 7,
    "start_time": "2024-07-06T00:39:42.860Z"
   },
   {
    "duration": 18,
    "start_time": "2024-07-06T00:39:42.869Z"
   },
   {
    "duration": 107,
    "start_time": "2024-07-06T00:39:42.888Z"
   },
   {
    "duration": 13,
    "start_time": "2024-07-06T00:39:42.996Z"
   },
   {
    "duration": 180,
    "start_time": "2024-07-06T00:39:43.011Z"
   },
   {
    "duration": 4,
    "start_time": "2024-07-06T00:39:43.193Z"
   },
   {
    "duration": 61,
    "start_time": "2024-07-06T00:39:43.198Z"
   },
   {
    "duration": 59,
    "start_time": "2024-07-06T00:39:43.260Z"
   },
   {
    "duration": 4,
    "start_time": "2024-07-06T00:39:43.320Z"
   },
   {
    "duration": 112,
    "start_time": "2024-07-06T00:39:43.326Z"
   },
   {
    "duration": 31,
    "start_time": "2024-07-06T00:39:43.440Z"
   },
   {
    "duration": 10,
    "start_time": "2024-07-06T00:39:43.473Z"
   },
   {
    "duration": 160,
    "start_time": "2024-07-06T00:39:43.484Z"
   },
   {
    "duration": 87,
    "start_time": "2024-07-06T00:39:43.646Z"
   },
   {
    "duration": 95,
    "start_time": "2024-07-06T00:39:43.735Z"
   },
   {
    "duration": 92,
    "start_time": "2024-07-06T00:39:43.831Z"
   },
   {
    "duration": 5,
    "start_time": "2024-07-06T00:40:26.363Z"
   },
   {
    "duration": 85,
    "start_time": "2024-07-06T00:40:30.780Z"
   },
   {
    "duration": 85,
    "start_time": "2024-07-06T00:40:35.389Z"
   },
   {
    "duration": 84,
    "start_time": "2024-07-06T00:40:38.446Z"
   },
   {
    "duration": 109,
    "start_time": "2024-07-06T00:40:39.474Z"
   },
   {
    "duration": 1035,
    "start_time": "2024-07-06T13:45:41.270Z"
   },
   {
    "duration": 3,
    "start_time": "2024-07-06T13:45:42.306Z"
   },
   {
    "duration": 224,
    "start_time": "2024-07-06T13:45:42.311Z"
   },
   {
    "duration": 175,
    "start_time": "2024-07-06T13:45:42.537Z"
   },
   {
    "duration": 66,
    "start_time": "2024-07-06T13:45:42.713Z"
   },
   {
    "duration": 9,
    "start_time": "2024-07-06T13:45:42.781Z"
   },
   {
    "duration": 20,
    "start_time": "2024-07-06T13:45:42.801Z"
   },
   {
    "duration": 144,
    "start_time": "2024-07-06T13:45:42.822Z"
   },
   {
    "duration": 45,
    "start_time": "2024-07-06T13:45:42.967Z"
   },
   {
    "duration": 20,
    "start_time": "2024-07-06T13:45:43.015Z"
   },
   {
    "duration": 333,
    "start_time": "2024-07-06T13:45:43.036Z"
   },
   {
    "duration": 40,
    "start_time": "2024-07-06T13:45:43.370Z"
   },
   {
    "duration": 20,
    "start_time": "2024-07-06T13:45:43.411Z"
   },
   {
    "duration": 10,
    "start_time": "2024-07-06T13:45:43.433Z"
   },
   {
    "duration": 19,
    "start_time": "2024-07-06T13:45:43.444Z"
   },
   {
    "duration": 105,
    "start_time": "2024-07-06T13:45:43.464Z"
   },
   {
    "duration": 9,
    "start_time": "2024-07-06T13:45:43.571Z"
   },
   {
    "duration": 145,
    "start_time": "2024-07-06T13:45:43.582Z"
   },
   {
    "duration": 4,
    "start_time": "2024-07-06T13:45:43.728Z"
   },
   {
    "duration": 28,
    "start_time": "2024-07-06T13:45:43.733Z"
   },
   {
    "duration": 42,
    "start_time": "2024-07-06T13:45:43.762Z"
   },
   {
    "duration": 4,
    "start_time": "2024-07-06T13:45:43.805Z"
   },
   {
    "duration": 85,
    "start_time": "2024-07-06T13:45:43.811Z"
   },
   {
    "duration": 25,
    "start_time": "2024-07-06T13:45:43.898Z"
   },
   {
    "duration": 58,
    "start_time": "2024-07-06T13:45:43.925Z"
   },
   {
    "duration": 74,
    "start_time": "2024-07-06T13:45:43.985Z"
   },
   {
    "duration": 74,
    "start_time": "2024-07-06T13:45:44.060Z"
   },
   {
    "duration": 74,
    "start_time": "2024-07-06T13:45:44.136Z"
   },
   {
    "duration": 127,
    "start_time": "2024-07-06T13:45:44.211Z"
   }
  ],
  "kernelspec": {
   "display_name": "Python 3 (ipykernel)",
   "language": "python",
   "name": "python3"
  },
  "language_info": {
   "codemirror_mode": {
    "name": "ipython",
    "version": 3
   },
   "file_extension": ".py",
   "mimetype": "text/x-python",
   "name": "python",
   "nbconvert_exporter": "python",
   "pygments_lexer": "ipython3",
   "version": "3.11.5"
  },
  "toc": {
   "base_numbering": 1,
   "nav_menu": {},
   "number_sections": true,
   "sideBar": true,
   "skip_h1_title": true,
   "title_cell": "Результаты A/A/B-теста",
   "title_sidebar": "Contents",
   "toc_cell": true,
   "toc_position": {},
   "toc_section_display": true,
   "toc_window_display": false
  }
 },
 "nbformat": 4,
 "nbformat_minor": 2
}
