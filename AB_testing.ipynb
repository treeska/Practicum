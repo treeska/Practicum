{
 "cells": [
  {
   "cell_type": "markdown",
   "metadata": {
    "toc": true
   },
   "source": [
    "<h1>Принятие решений в бизнесе<span class=\"tocSkip\"></span></h1>\n",
    "<div class=\"toc\"><ul class=\"toc-item\"><li><span><a href=\"#Приоритезация-гипотез\" data-toc-modified-id=\"Приоритезация-гипотез-1\"><span class=\"toc-item-num\">1&nbsp;&nbsp;</span>Приоритезация гипотез</a></span></li><li><span><a href=\"#Анализ-A/B-теста\" data-toc-modified-id=\"Анализ-A/B-теста-2\"><span class=\"toc-item-num\">2&nbsp;&nbsp;</span>Анализ A/B-теста</a></span><ul class=\"toc-item\"><li><span><a href=\"#Загрузска-данных-и-предобработка\" data-toc-modified-id=\"Загрузска-данных-и-предобработка-2.1\"><span class=\"toc-item-num\">2.1&nbsp;&nbsp;</span>Загрузска данных и предобработка</a></span></li><li><span><a href=\"#График-кумулятивной-выручки-по-группам\" data-toc-modified-id=\"График-кумулятивной-выручки-по-группам-2.2\"><span class=\"toc-item-num\">2.2&nbsp;&nbsp;</span>График кумулятивной выручки по группам</a></span></li><li><span><a href=\"#График-кумулятивного-среднего-чека-по-группам\" data-toc-modified-id=\"График-кумулятивного-среднего-чека-по-группам-2.3\"><span class=\"toc-item-num\">2.3&nbsp;&nbsp;</span>График кумулятивного среднего чека по группам</a></span></li><li><span><a href=\"#График-относительного-изменения-кумулятивного-среднего-чека-группы-B-к-группе-A.\" data-toc-modified-id=\"График-относительного-изменения-кумулятивного-среднего-чека-группы-B-к-группе-A.-2.4\"><span class=\"toc-item-num\">2.4&nbsp;&nbsp;</span>График относительного изменения кумулятивного среднего чека группы B к группе A.</a></span></li><li><span><a href=\"#График-кумулятивного-среднего-количества-заказов-на-посетителя-по-группам\" data-toc-modified-id=\"График-кумулятивного-среднего-количества-заказов-на-посетителя-по-группам-2.5\"><span class=\"toc-item-num\">2.5&nbsp;&nbsp;</span>График кумулятивного среднего количества заказов на посетителя по группам</a></span></li><li><span><a href=\"#График-относительного-изменения-кумулятивного-среднего-количества-заказов-на-посетителя-группы-B-к-группе-A\" data-toc-modified-id=\"График-относительного-изменения-кумулятивного-среднего-количества-заказов-на-посетителя-группы-B-к-группе-A-2.6\"><span class=\"toc-item-num\">2.6&nbsp;&nbsp;</span>График относительного изменения кумулятивного среднего количества заказов на посетителя группы B к группе A</a></span></li><li><span><a href=\"#Точечный-график-количества-заказов-по-пользователям\" data-toc-modified-id=\"Точечный-график-количества-заказов-по-пользователям-2.7\"><span class=\"toc-item-num\">2.7&nbsp;&nbsp;</span>Точечный график количества заказов по пользователям</a></span></li><li><span><a href=\"#Определение-границы-пользователей-с-аномальным-количеством-заказов\" data-toc-modified-id=\"Определение-границы-пользователей-с-аномальным-количеством-заказов-2.8\"><span class=\"toc-item-num\">2.8&nbsp;&nbsp;</span>Определение границы пользователей с аномальным количеством заказов</a></span></li><li><span><a href=\"#Точечный-график-стоимостей-заказов\" data-toc-modified-id=\"Точечный-график-стоимостей-заказов-2.9\"><span class=\"toc-item-num\">2.9&nbsp;&nbsp;</span>Точечный график стоимостей заказов</a></span></li><li><span><a href=\"#Определение-границы-заказов-с-аномальной-суммой\" data-toc-modified-id=\"Определение-границы-заказов-с-аномальной-суммой-2.10\"><span class=\"toc-item-num\">2.10&nbsp;&nbsp;</span>Определение границы заказов с аномальной суммой</a></span></li><li><span><a href=\"#Cтатистическая-значимость-различий-в-среднем-количестве-заказов-на-посетителя-между-группами-по-«сырым»-данным\" data-toc-modified-id=\"Cтатистическая-значимость-различий-в-среднем-количестве-заказов-на-посетителя-между-группами-по-«сырым»-данным-2.11\"><span class=\"toc-item-num\">2.11&nbsp;&nbsp;</span>Cтатистическая значимость различий в среднем количестве заказов на посетителя между группами по «сырым» данным</a></span></li><li><span><a href=\"#Статистическая-значимость-различий-в-среднем-чеке-заказа-между-группами-по-«сырым»-данным\" data-toc-modified-id=\"Статистическая-значимость-различий-в-среднем-чеке-заказа-между-группами-по-«сырым»-данным-2.12\"><span class=\"toc-item-num\">2.12&nbsp;&nbsp;</span>Статистическая значимость различий в среднем чеке заказа между группами по «сырым» данным</a></span></li><li><span><a href=\"#Статистическая-значимость-различий-в-среднем-количестве-заказов-на-посетителя-между-группами-по-«очищенным»-данным\" data-toc-modified-id=\"Статистическая-значимость-различий-в-среднем-количестве-заказов-на-посетителя-между-группами-по-«очищенным»-данным-2.13\"><span class=\"toc-item-num\">2.13&nbsp;&nbsp;</span>Статистическая значимость различий в среднем количестве заказов на посетителя между группами по «очищенным» данным</a></span></li><li><span><a href=\"#Статистическая-значимость-различий-в-среднем-чеке-заказа-между-группами-по-«очищенным»-данным\" data-toc-modified-id=\"Статистическая-значимость-различий-в-среднем-чеке-заказа-между-группами-по-«очищенным»-данным-2.14\"><span class=\"toc-item-num\">2.14&nbsp;&nbsp;</span>Статистическая значимость различий в среднем чеке заказа между группами по «очищенным» данным</a></span></li></ul></li><li><span><a href=\"#Выводы\" data-toc-modified-id=\"Выводы-3\"><span class=\"toc-item-num\">3&nbsp;&nbsp;</span>Выводы</a></span></li></ul></div>"
   ]
  },
  {
   "cell_type": "markdown",
   "metadata": {},
   "source": [
    "Крупный интернет магазин проверяет гипотезы по увеличению выручки. \n",
    "Цель: необходимо приоритезировать 9 гипотез, подготовленных совместно с отделом маркетинга, а так же оценить результаты А/В-теста. Результаты А/B-теста будут изучены на показателях выручки и показателям среднего чека  по группам. А также будет изучено среднее количество заказов."
   ]
  },
  {
   "cell_type": "markdown",
   "metadata": {},
   "source": [
    "## Приоритезация гипотез"
   ]
  },
  {
   "cell_type": "markdown",
   "metadata": {},
   "source": [
    "Начнем с загрузки необходимых библиотек. Изучим данные о гипотезах и приоритезируем их."
   ]
  },
  {
   "cell_type": "code",
   "execution_count": 1,
   "metadata": {},
   "outputs": [],
   "source": [
    "import pandas as pd\n",
    "import datetime as dt\n",
    "from matplotlib import pyplot as plt\n",
    "import numpy as np\n",
    "from scipy import stats as st\n",
    "import scipy.stats as stats"
   ]
  },
  {
   "cell_type": "code",
   "execution_count": 2,
   "metadata": {},
   "outputs": [],
   "source": [
    "def get_info(dataframe):\n",
    "    display(dataframe.head(5))\n",
    "    print()\n",
    "    dataframe.info()\n",
    "    print()\n",
    "    print(f\"Явных дубликатов: {dataframe.duplicated().sum()}\")\n",
    "    print()\n",
    "    print('Пропусков в колонках:')\n",
    "    print(dataframe.isna().sum())\n",
    "\n",
    "\n",
    "def prep(dataframe):\n",
    "    dataframe = dataframe.drop_duplicates()\n",
    "    dataframe.columns = dataframe.columns.str.lower()\n",
    "    dataframe.columns = dataframe.columns.str.replace(' ', '_')\n",
    "    return dataframe"
   ]
  },
  {
   "cell_type": "code",
   "execution_count": 3,
   "metadata": {},
   "outputs": [
    {
     "data": {
      "text/html": [
       "<div>\n",
       "<style scoped>\n",
       "    .dataframe tbody tr th:only-of-type {\n",
       "        vertical-align: middle;\n",
       "    }\n",
       "\n",
       "    .dataframe tbody tr th {\n",
       "        vertical-align: top;\n",
       "    }\n",
       "\n",
       "    .dataframe thead th {\n",
       "        text-align: right;\n",
       "    }\n",
       "</style>\n",
       "<table border=\"1\" class=\"dataframe\">\n",
       "  <thead>\n",
       "    <tr style=\"text-align: right;\">\n",
       "      <th></th>\n",
       "      <th>hypothesis</th>\n",
       "      <th>reach</th>\n",
       "      <th>impact</th>\n",
       "      <th>confidence</th>\n",
       "      <th>efforts</th>\n",
       "    </tr>\n",
       "  </thead>\n",
       "  <tbody>\n",
       "    <tr>\n",
       "      <th>0</th>\n",
       "      <td>Добавить два новых канала привлечения трафика, что позволит привлекать на 30% больше пользователей</td>\n",
       "      <td>3</td>\n",
       "      <td>10</td>\n",
       "      <td>8</td>\n",
       "      <td>6</td>\n",
       "    </tr>\n",
       "    <tr>\n",
       "      <th>1</th>\n",
       "      <td>Запустить собственную службу доставки, что сократит срок доставки заказов</td>\n",
       "      <td>2</td>\n",
       "      <td>5</td>\n",
       "      <td>4</td>\n",
       "      <td>10</td>\n",
       "    </tr>\n",
       "    <tr>\n",
       "      <th>2</th>\n",
       "      <td>Добавить блоки рекомендаций товаров на сайт интернет магазина, чтобы повысить конверсию и средний чек заказа</td>\n",
       "      <td>8</td>\n",
       "      <td>3</td>\n",
       "      <td>7</td>\n",
       "      <td>3</td>\n",
       "    </tr>\n",
       "    <tr>\n",
       "      <th>3</th>\n",
       "      <td>Изменить структура категорий, что увеличит конверсию, т.к. пользователи быстрее найдут нужный товар</td>\n",
       "      <td>8</td>\n",
       "      <td>3</td>\n",
       "      <td>3</td>\n",
       "      <td>8</td>\n",
       "    </tr>\n",
       "    <tr>\n",
       "      <th>4</th>\n",
       "      <td>Изменить цвет фона главной страницы, чтобы увеличить вовлеченность пользователей</td>\n",
       "      <td>3</td>\n",
       "      <td>1</td>\n",
       "      <td>1</td>\n",
       "      <td>1</td>\n",
       "    </tr>\n",
       "  </tbody>\n",
       "</table>\n",
       "</div>"
      ],
      "text/plain": [
       "                                                                                                     hypothesis  \\\n",
       "0            Добавить два новых канала привлечения трафика, что позволит привлекать на 30% больше пользователей   \n",
       "1                                     Запустить собственную службу доставки, что сократит срок доставки заказов   \n",
       "2  Добавить блоки рекомендаций товаров на сайт интернет магазина, чтобы повысить конверсию и средний чек заказа   \n",
       "3           Изменить структура категорий, что увеличит конверсию, т.к. пользователи быстрее найдут нужный товар   \n",
       "4                              Изменить цвет фона главной страницы, чтобы увеличить вовлеченность пользователей   \n",
       "\n",
       "   reach  impact  confidence  efforts  \n",
       "0      3      10           8        6  \n",
       "1      2       5           4       10  \n",
       "2      8       3           7        3  \n",
       "3      8       3           3        8  \n",
       "4      3       1           1        1  "
      ]
     },
     "metadata": {},
     "output_type": "display_data"
    },
    {
     "name": "stdout",
     "output_type": "stream",
     "text": [
      "\n",
      "<class 'pandas.core.frame.DataFrame'>\n",
      "Int64Index: 9 entries, 0 to 8\n",
      "Data columns (total 5 columns):\n",
      " #   Column      Non-Null Count  Dtype \n",
      "---  ------      --------------  ----- \n",
      " 0   hypothesis  9 non-null      object\n",
      " 1   reach       9 non-null      int64 \n",
      " 2   impact      9 non-null      int64 \n",
      " 3   confidence  9 non-null      int64 \n",
      " 4   efforts     9 non-null      int64 \n",
      "dtypes: int64(4), object(1)\n",
      "memory usage: 432.0+ bytes\n",
      "\n",
      "Явных дубликатов: 0\n",
      "\n",
      "Пропусков в колонках:\n",
      "hypothesis    0\n",
      "reach         0\n",
      "impact        0\n",
      "confidence    0\n",
      "efforts       0\n",
      "dtype: int64\n"
     ]
    }
   ],
   "source": [
    "hyp = pd.read_csv('/datasets/hypothesis.csv')\n",
    "pd.set_option('max_colwidth', 150)\n",
    "hyp = prep(hyp)\n",
    "get_info(hyp)"
   ]
  },
  {
   "cell_type": "markdown",
   "metadata": {},
   "source": [
    "В нашем распоряжение данные о 9 гипотезах для расчета ICE и RICE. Приведем названия столбцов к нижнему регистру и начнем приоритезацию гипотез."
   ]
  },
  {
   "cell_type": "code",
   "execution_count": 4,
   "metadata": {},
   "outputs": [
    {
     "data": {
      "text/html": [
       "<div>\n",
       "<style scoped>\n",
       "    .dataframe tbody tr th:only-of-type {\n",
       "        vertical-align: middle;\n",
       "    }\n",
       "\n",
       "    .dataframe tbody tr th {\n",
       "        vertical-align: top;\n",
       "    }\n",
       "\n",
       "    .dataframe thead th {\n",
       "        text-align: right;\n",
       "    }\n",
       "</style>\n",
       "<table border=\"1\" class=\"dataframe\">\n",
       "  <thead>\n",
       "    <tr style=\"text-align: right;\">\n",
       "      <th></th>\n",
       "      <th>hypothesis</th>\n",
       "      <th>reach</th>\n",
       "      <th>impact</th>\n",
       "      <th>confidence</th>\n",
       "      <th>efforts</th>\n",
       "      <th>ICE</th>\n",
       "    </tr>\n",
       "  </thead>\n",
       "  <tbody>\n",
       "    <tr>\n",
       "      <th>8</th>\n",
       "      <td>Запустить акцию, дающую скидку на товар в день рождения</td>\n",
       "      <td>1</td>\n",
       "      <td>9</td>\n",
       "      <td>9</td>\n",
       "      <td>5</td>\n",
       "      <td>16.20</td>\n",
       "    </tr>\n",
       "    <tr>\n",
       "      <th>0</th>\n",
       "      <td>Добавить два новых канала привлечения трафика, что позволит привлекать на 30% больше пользователей</td>\n",
       "      <td>3</td>\n",
       "      <td>10</td>\n",
       "      <td>8</td>\n",
       "      <td>6</td>\n",
       "      <td>13.33</td>\n",
       "    </tr>\n",
       "    <tr>\n",
       "      <th>7</th>\n",
       "      <td>Добавить форму подписки на все основные страницы, чтобы собрать базу клиентов для email-рассылок</td>\n",
       "      <td>10</td>\n",
       "      <td>7</td>\n",
       "      <td>8</td>\n",
       "      <td>5</td>\n",
       "      <td>11.20</td>\n",
       "    </tr>\n",
       "    <tr>\n",
       "      <th>6</th>\n",
       "      <td>Показать на главной странице баннеры с актуальными акциями и распродажами, чтобы увеличить конверсию</td>\n",
       "      <td>5</td>\n",
       "      <td>3</td>\n",
       "      <td>8</td>\n",
       "      <td>3</td>\n",
       "      <td>8.00</td>\n",
       "    </tr>\n",
       "    <tr>\n",
       "      <th>2</th>\n",
       "      <td>Добавить блоки рекомендаций товаров на сайт интернет магазина, чтобы повысить конверсию и средний чек заказа</td>\n",
       "      <td>8</td>\n",
       "      <td>3</td>\n",
       "      <td>7</td>\n",
       "      <td>3</td>\n",
       "      <td>7.00</td>\n",
       "    </tr>\n",
       "    <tr>\n",
       "      <th>1</th>\n",
       "      <td>Запустить собственную службу доставки, что сократит срок доставки заказов</td>\n",
       "      <td>2</td>\n",
       "      <td>5</td>\n",
       "      <td>4</td>\n",
       "      <td>10</td>\n",
       "      <td>2.00</td>\n",
       "    </tr>\n",
       "    <tr>\n",
       "      <th>5</th>\n",
       "      <td>Добавить страницу отзывов клиентов о магазине, что позволит увеличить количество заказов</td>\n",
       "      <td>3</td>\n",
       "      <td>2</td>\n",
       "      <td>2</td>\n",
       "      <td>3</td>\n",
       "      <td>1.33</td>\n",
       "    </tr>\n",
       "    <tr>\n",
       "      <th>3</th>\n",
       "      <td>Изменить структура категорий, что увеличит конверсию, т.к. пользователи быстрее найдут нужный товар</td>\n",
       "      <td>8</td>\n",
       "      <td>3</td>\n",
       "      <td>3</td>\n",
       "      <td>8</td>\n",
       "      <td>1.12</td>\n",
       "    </tr>\n",
       "    <tr>\n",
       "      <th>4</th>\n",
       "      <td>Изменить цвет фона главной страницы, чтобы увеличить вовлеченность пользователей</td>\n",
       "      <td>3</td>\n",
       "      <td>1</td>\n",
       "      <td>1</td>\n",
       "      <td>1</td>\n",
       "      <td>1.00</td>\n",
       "    </tr>\n",
       "  </tbody>\n",
       "</table>\n",
       "</div>"
      ],
      "text/plain": [
       "                                                                                                     hypothesis  \\\n",
       "8                                                       Запустить акцию, дающую скидку на товар в день рождения   \n",
       "0            Добавить два новых канала привлечения трафика, что позволит привлекать на 30% больше пользователей   \n",
       "7              Добавить форму подписки на все основные страницы, чтобы собрать базу клиентов для email-рассылок   \n",
       "6          Показать на главной странице баннеры с актуальными акциями и распродажами, чтобы увеличить конверсию   \n",
       "2  Добавить блоки рекомендаций товаров на сайт интернет магазина, чтобы повысить конверсию и средний чек заказа   \n",
       "1                                     Запустить собственную службу доставки, что сократит срок доставки заказов   \n",
       "5                      Добавить страницу отзывов клиентов о магазине, что позволит увеличить количество заказов   \n",
       "3           Изменить структура категорий, что увеличит конверсию, т.к. пользователи быстрее найдут нужный товар   \n",
       "4                              Изменить цвет фона главной страницы, чтобы увеличить вовлеченность пользователей   \n",
       "\n",
       "   reach  impact  confidence  efforts    ICE  \n",
       "8      1       9           9        5  16.20  \n",
       "0      3      10           8        6  13.33  \n",
       "7     10       7           8        5  11.20  \n",
       "6      5       3           8        3   8.00  \n",
       "2      8       3           7        3   7.00  \n",
       "1      2       5           4       10   2.00  \n",
       "5      3       2           2        3   1.33  \n",
       "3      8       3           3        8   1.12  \n",
       "4      3       1           1        1   1.00  "
      ]
     },
     "execution_count": 4,
     "metadata": {},
     "output_type": "execute_result"
    }
   ],
   "source": [
    "hyp['ICE'] = round(hyp['impact'] * hyp['confidence'] / hyp['efforts'], 2)\n",
    "hyp.sort_values('ICE', ascending = False)"
   ]
  },
  {
   "cell_type": "markdown",
   "metadata": {},
   "source": [
    "ICE — это метод определения приоритетов, который использует показатели impact (влияние), confidence (уверенность) и efforts (легкость реализации). По расчетам мы видим, что лидируют 5 гипотез. 4 гипотезы имеют слишком низкие баллы от 1 до 2. Продолжим приоритезацию с помощью метода RICE."
   ]
  },
  {
   "cell_type": "code",
   "execution_count": 5,
   "metadata": {},
   "outputs": [
    {
     "data": {
      "text/html": [
       "<div>\n",
       "<style scoped>\n",
       "    .dataframe tbody tr th:only-of-type {\n",
       "        vertical-align: middle;\n",
       "    }\n",
       "\n",
       "    .dataframe tbody tr th {\n",
       "        vertical-align: top;\n",
       "    }\n",
       "\n",
       "    .dataframe thead th {\n",
       "        text-align: right;\n",
       "    }\n",
       "</style>\n",
       "<table border=\"1\" class=\"dataframe\">\n",
       "  <thead>\n",
       "    <tr style=\"text-align: right;\">\n",
       "      <th></th>\n",
       "      <th>hypothesis</th>\n",
       "      <th>reach</th>\n",
       "      <th>impact</th>\n",
       "      <th>confidence</th>\n",
       "      <th>efforts</th>\n",
       "      <th>ICE</th>\n",
       "      <th>RICE</th>\n",
       "    </tr>\n",
       "  </thead>\n",
       "  <tbody>\n",
       "    <tr>\n",
       "      <th>7</th>\n",
       "      <td>Добавить форму подписки на все основные страницы, чтобы собрать базу клиентов для email-рассылок</td>\n",
       "      <td>10</td>\n",
       "      <td>7</td>\n",
       "      <td>8</td>\n",
       "      <td>5</td>\n",
       "      <td>11.20</td>\n",
       "      <td>112.0</td>\n",
       "    </tr>\n",
       "    <tr>\n",
       "      <th>2</th>\n",
       "      <td>Добавить блоки рекомендаций товаров на сайт интернет магазина, чтобы повысить конверсию и средний чек заказа</td>\n",
       "      <td>8</td>\n",
       "      <td>3</td>\n",
       "      <td>7</td>\n",
       "      <td>3</td>\n",
       "      <td>7.00</td>\n",
       "      <td>56.0</td>\n",
       "    </tr>\n",
       "    <tr>\n",
       "      <th>0</th>\n",
       "      <td>Добавить два новых канала привлечения трафика, что позволит привлекать на 30% больше пользователей</td>\n",
       "      <td>3</td>\n",
       "      <td>10</td>\n",
       "      <td>8</td>\n",
       "      <td>6</td>\n",
       "      <td>13.33</td>\n",
       "      <td>40.0</td>\n",
       "    </tr>\n",
       "    <tr>\n",
       "      <th>6</th>\n",
       "      <td>Показать на главной странице баннеры с актуальными акциями и распродажами, чтобы увеличить конверсию</td>\n",
       "      <td>5</td>\n",
       "      <td>3</td>\n",
       "      <td>8</td>\n",
       "      <td>3</td>\n",
       "      <td>8.00</td>\n",
       "      <td>40.0</td>\n",
       "    </tr>\n",
       "    <tr>\n",
       "      <th>8</th>\n",
       "      <td>Запустить акцию, дающую скидку на товар в день рождения</td>\n",
       "      <td>1</td>\n",
       "      <td>9</td>\n",
       "      <td>9</td>\n",
       "      <td>5</td>\n",
       "      <td>16.20</td>\n",
       "      <td>16.2</td>\n",
       "    </tr>\n",
       "    <tr>\n",
       "      <th>3</th>\n",
       "      <td>Изменить структура категорий, что увеличит конверсию, т.к. пользователи быстрее найдут нужный товар</td>\n",
       "      <td>8</td>\n",
       "      <td>3</td>\n",
       "      <td>3</td>\n",
       "      <td>8</td>\n",
       "      <td>1.12</td>\n",
       "      <td>9.0</td>\n",
       "    </tr>\n",
       "    <tr>\n",
       "      <th>1</th>\n",
       "      <td>Запустить собственную службу доставки, что сократит срок доставки заказов</td>\n",
       "      <td>2</td>\n",
       "      <td>5</td>\n",
       "      <td>4</td>\n",
       "      <td>10</td>\n",
       "      <td>2.00</td>\n",
       "      <td>4.0</td>\n",
       "    </tr>\n",
       "    <tr>\n",
       "      <th>5</th>\n",
       "      <td>Добавить страницу отзывов клиентов о магазине, что позволит увеличить количество заказов</td>\n",
       "      <td>3</td>\n",
       "      <td>2</td>\n",
       "      <td>2</td>\n",
       "      <td>3</td>\n",
       "      <td>1.33</td>\n",
       "      <td>4.0</td>\n",
       "    </tr>\n",
       "    <tr>\n",
       "      <th>4</th>\n",
       "      <td>Изменить цвет фона главной страницы, чтобы увеличить вовлеченность пользователей</td>\n",
       "      <td>3</td>\n",
       "      <td>1</td>\n",
       "      <td>1</td>\n",
       "      <td>1</td>\n",
       "      <td>1.00</td>\n",
       "      <td>3.0</td>\n",
       "    </tr>\n",
       "  </tbody>\n",
       "</table>\n",
       "</div>"
      ],
      "text/plain": [
       "                                                                                                     hypothesis  \\\n",
       "7              Добавить форму подписки на все основные страницы, чтобы собрать базу клиентов для email-рассылок   \n",
       "2  Добавить блоки рекомендаций товаров на сайт интернет магазина, чтобы повысить конверсию и средний чек заказа   \n",
       "0            Добавить два новых канала привлечения трафика, что позволит привлекать на 30% больше пользователей   \n",
       "6          Показать на главной странице баннеры с актуальными акциями и распродажами, чтобы увеличить конверсию   \n",
       "8                                                       Запустить акцию, дающую скидку на товар в день рождения   \n",
       "3           Изменить структура категорий, что увеличит конверсию, т.к. пользователи быстрее найдут нужный товар   \n",
       "1                                     Запустить собственную службу доставки, что сократит срок доставки заказов   \n",
       "5                      Добавить страницу отзывов клиентов о магазине, что позволит увеличить количество заказов   \n",
       "4                              Изменить цвет фона главной страницы, чтобы увеличить вовлеченность пользователей   \n",
       "\n",
       "   reach  impact  confidence  efforts    ICE   RICE  \n",
       "7     10       7           8        5  11.20  112.0  \n",
       "2      8       3           7        3   7.00   56.0  \n",
       "0      3      10           8        6  13.33   40.0  \n",
       "6      5       3           8        3   8.00   40.0  \n",
       "8      1       9           9        5  16.20   16.2  \n",
       "3      8       3           3        8   1.12    9.0  \n",
       "1      2       5           4       10   2.00    4.0  \n",
       "5      3       2           2        3   1.33    4.0  \n",
       "4      3       1           1        1   1.00    3.0  "
      ]
     },
     "execution_count": 5,
     "metadata": {},
     "output_type": "execute_result"
    }
   ],
   "source": [
    "hyp['RICE'] = round(hyp['reach'] * hyp['impact'] * hyp['confidence'] / hyp['efforts'],2)\n",
    "hyp.sort_values('RICE', ascending = False)"
   ]
  },
  {
   "cell_type": "markdown",
   "metadata": {},
   "source": [
    "RICE изпользует в расчетах четвертый показатель - reach (охват), который позволяет точнее оценивать, насколько широкую аудиторию затронут изменения. По этому методу с большим отрывом лидирует гипотеза №7 \"Добавить форму подписки на все основные страницы, чтобы собрать базу клиентов для email-рассылок\"."
   ]
  },
  {
   "cell_type": "markdown",
   "metadata": {},
   "source": [
    "После использования фреймоврков ICE и RICE мы получили рейтинги гипотез. Результаты значительно разняться, что связано с использованием четвертого параметра в формуле RICE, а именно reach (охват), что позволяет точнее оценивать охват аудитории при изменениях."
   ]
  },
  {
   "cell_type": "markdown",
   "metadata": {},
   "source": [
    "##  Анализ A/B-теста"
   ]
  },
  {
   "cell_type": "markdown",
   "metadata": {},
   "source": [
    "### Загрузска данных и предобработка"
   ]
  },
  {
   "cell_type": "markdown",
   "metadata": {},
   "source": [
    "Продолжим исследование. Загрузим и изучем еще два датафрейма"
   ]
  },
  {
   "cell_type": "code",
   "execution_count": 6,
   "metadata": {},
   "outputs": [
    {
     "data": {
      "text/html": [
       "<div>\n",
       "<style scoped>\n",
       "    .dataframe tbody tr th:only-of-type {\n",
       "        vertical-align: middle;\n",
       "    }\n",
       "\n",
       "    .dataframe tbody tr th {\n",
       "        vertical-align: top;\n",
       "    }\n",
       "\n",
       "    .dataframe thead th {\n",
       "        text-align: right;\n",
       "    }\n",
       "</style>\n",
       "<table border=\"1\" class=\"dataframe\">\n",
       "  <thead>\n",
       "    <tr style=\"text-align: right;\">\n",
       "      <th></th>\n",
       "      <th>transactionId</th>\n",
       "      <th>visitorId</th>\n",
       "      <th>date</th>\n",
       "      <th>revenue</th>\n",
       "      <th>group</th>\n",
       "    </tr>\n",
       "  </thead>\n",
       "  <tbody>\n",
       "    <tr>\n",
       "      <th>0</th>\n",
       "      <td>3667963787</td>\n",
       "      <td>3312258926</td>\n",
       "      <td>2019-08-15</td>\n",
       "      <td>1650</td>\n",
       "      <td>B</td>\n",
       "    </tr>\n",
       "    <tr>\n",
       "      <th>1</th>\n",
       "      <td>2804400009</td>\n",
       "      <td>3642806036</td>\n",
       "      <td>2019-08-15</td>\n",
       "      <td>730</td>\n",
       "      <td>B</td>\n",
       "    </tr>\n",
       "    <tr>\n",
       "      <th>2</th>\n",
       "      <td>2961555356</td>\n",
       "      <td>4069496402</td>\n",
       "      <td>2019-08-15</td>\n",
       "      <td>400</td>\n",
       "      <td>A</td>\n",
       "    </tr>\n",
       "    <tr>\n",
       "      <th>3</th>\n",
       "      <td>3797467345</td>\n",
       "      <td>1196621759</td>\n",
       "      <td>2019-08-15</td>\n",
       "      <td>9759</td>\n",
       "      <td>B</td>\n",
       "    </tr>\n",
       "    <tr>\n",
       "      <th>4</th>\n",
       "      <td>2282983706</td>\n",
       "      <td>2322279887</td>\n",
       "      <td>2019-08-15</td>\n",
       "      <td>2308</td>\n",
       "      <td>B</td>\n",
       "    </tr>\n",
       "  </tbody>\n",
       "</table>\n",
       "</div>"
      ],
      "text/plain": [
       "   transactionId   visitorId        date  revenue group\n",
       "0     3667963787  3312258926  2019-08-15     1650     B\n",
       "1     2804400009  3642806036  2019-08-15      730     B\n",
       "2     2961555356  4069496402  2019-08-15      400     A\n",
       "3     3797467345  1196621759  2019-08-15     9759     B\n",
       "4     2282983706  2322279887  2019-08-15     2308     B"
      ]
     },
     "metadata": {},
     "output_type": "display_data"
    },
    {
     "name": "stdout",
     "output_type": "stream",
     "text": [
      "\n",
      "<class 'pandas.core.frame.DataFrame'>\n",
      "RangeIndex: 1197 entries, 0 to 1196\n",
      "Data columns (total 5 columns):\n",
      " #   Column         Non-Null Count  Dtype \n",
      "---  ------         --------------  ----- \n",
      " 0   transactionId  1197 non-null   int64 \n",
      " 1   visitorId      1197 non-null   int64 \n",
      " 2   date           1197 non-null   object\n",
      " 3   revenue        1197 non-null   int64 \n",
      " 4   group          1197 non-null   object\n",
      "dtypes: int64(3), object(2)\n",
      "memory usage: 46.9+ KB\n",
      "\n",
      "Явных дубликатов: 0\n",
      "\n",
      "Пропусков в колонках:\n",
      "transactionId    0\n",
      "visitorId        0\n",
      "date             0\n",
      "revenue          0\n",
      "group            0\n",
      "dtype: int64\n"
     ]
    },
    {
     "data": {
      "text/html": [
       "<div>\n",
       "<style scoped>\n",
       "    .dataframe tbody tr th:only-of-type {\n",
       "        vertical-align: middle;\n",
       "    }\n",
       "\n",
       "    .dataframe tbody tr th {\n",
       "        vertical-align: top;\n",
       "    }\n",
       "\n",
       "    .dataframe thead th {\n",
       "        text-align: right;\n",
       "    }\n",
       "</style>\n",
       "<table border=\"1\" class=\"dataframe\">\n",
       "  <thead>\n",
       "    <tr style=\"text-align: right;\">\n",
       "      <th></th>\n",
       "      <th>date</th>\n",
       "      <th>group</th>\n",
       "      <th>visitors</th>\n",
       "    </tr>\n",
       "  </thead>\n",
       "  <tbody>\n",
       "    <tr>\n",
       "      <th>0</th>\n",
       "      <td>2019-08-01</td>\n",
       "      <td>A</td>\n",
       "      <td>719</td>\n",
       "    </tr>\n",
       "    <tr>\n",
       "      <th>1</th>\n",
       "      <td>2019-08-02</td>\n",
       "      <td>A</td>\n",
       "      <td>619</td>\n",
       "    </tr>\n",
       "    <tr>\n",
       "      <th>2</th>\n",
       "      <td>2019-08-03</td>\n",
       "      <td>A</td>\n",
       "      <td>507</td>\n",
       "    </tr>\n",
       "    <tr>\n",
       "      <th>3</th>\n",
       "      <td>2019-08-04</td>\n",
       "      <td>A</td>\n",
       "      <td>717</td>\n",
       "    </tr>\n",
       "    <tr>\n",
       "      <th>4</th>\n",
       "      <td>2019-08-05</td>\n",
       "      <td>A</td>\n",
       "      <td>756</td>\n",
       "    </tr>\n",
       "  </tbody>\n",
       "</table>\n",
       "</div>"
      ],
      "text/plain": [
       "         date group  visitors\n",
       "0  2019-08-01     A       719\n",
       "1  2019-08-02     A       619\n",
       "2  2019-08-03     A       507\n",
       "3  2019-08-04     A       717\n",
       "4  2019-08-05     A       756"
      ]
     },
     "metadata": {},
     "output_type": "display_data"
    },
    {
     "name": "stdout",
     "output_type": "stream",
     "text": [
      "\n",
      "<class 'pandas.core.frame.DataFrame'>\n",
      "RangeIndex: 62 entries, 0 to 61\n",
      "Data columns (total 3 columns):\n",
      " #   Column    Non-Null Count  Dtype \n",
      "---  ------    --------------  ----- \n",
      " 0   date      62 non-null     object\n",
      " 1   group     62 non-null     object\n",
      " 2   visitors  62 non-null     int64 \n",
      "dtypes: int64(1), object(2)\n",
      "memory usage: 1.6+ KB\n",
      "\n",
      "Явных дубликатов: 0\n",
      "\n",
      "Пропусков в колонках:\n",
      "date        0\n",
      "group       0\n",
      "visitors    0\n",
      "dtype: int64\n"
     ]
    }
   ],
   "source": [
    "orders = pd.read_csv('/datasets/orders.csv')\n",
    "visitors = pd.read_csv('/datasets/visitors.csv')\n",
    "get_info(orders)\n",
    "get_info(visitors)"
   ]
  },
  {
   "cell_type": "markdown",
   "metadata": {},
   "source": [
    "Перед нами два датафрейма - это результаты проведенного A/B-теста в таблица с посетителями, разделенными на группы, и заказами. Явных дубликатов нет. Необходимо изменить тип данных в колонках с датами"
   ]
  },
  {
   "cell_type": "code",
   "execution_count": 7,
   "metadata": {},
   "outputs": [],
   "source": [
    "visitors['date'] = visitors['date'].map(lambda x: dt.datetime.strptime(x, '%Y-%m-%d'))\n",
    "orders['date'] = orders['date'].map(lambda x: dt.datetime.strptime(x, '%Y-%m-%d'))"
   ]
  },
  {
   "cell_type": "code",
   "execution_count": 8,
   "metadata": {},
   "outputs": [
    {
     "name": "stdout",
     "output_type": "stream",
     "text": [
      "58\n"
     ]
    }
   ],
   "source": [
    "user_doubles = orders.groupby('visitorId')['group'].nunique()\n",
    "print(user_doubles[user_doubles > 1].count())"
   ]
  },
  {
   "cell_type": "markdown",
   "metadata": {},
   "source": [
    "Обнаружены неявные дубликаты: есть пользователи попавшие в обе группы. К сожалению, исключить их нельзя, так как таблица visitors содержит агрегированные данные с учётом этих пользователей."
   ]
  },
  {
   "cell_type": "markdown",
   "metadata": {},
   "source": [
    "### График кумулятивной выручки по группам"
   ]
  },
  {
   "cell_type": "markdown",
   "metadata": {},
   "source": [
    "Подготовим данные для дальнейших построений визуализаций: \n",
    "1.  Создадим датафрейм datesGroups с уникальными парами значений 'date' и 'group', таблицы orders. Избавьтесь от дубликатов методом drop_duplicates().\n",
    "2.  Объявим переменную ordersAggregated, содержащую:\n",
    "-дату;  \n",
    "-группу A/B-теста;  \n",
    "-число уникальных заказов в группе теста по указанную дату включительно;  \n",
    "-число уникальных пользователей, совершивших хотя бы 1 заказ в группе теста по указанную дату включительно;  \n",
    "-суммарную выручку заказов в группе теста по указанную дату включительно.    \n",
    "\n",
    "3. Объявим переменную visitorsAggregated, содержащую:\n",
    "-дату;  \n",
    "-группу A/B-теста;  \n",
    "-количество уникальных посетителей в группе теста по указанную дату включительно.   \n",
    "\n",
    "4. ordersAggregated и visitorsAggregated отсортируем по столбцам 'date', 'group'.\n",
    "\n",
    "5. Определим переменную cumulativeData, объединив ordersAggregated и visitorsAggregated по колонкам 'date', 'group' методом merge()  \n",
    "\n",
    "6. Присвоим столбцам cumulativeData названия ['date', 'group', 'orders', 'buyers', 'revenue', 'visitors']"
   ]
  },
  {
   "cell_type": "code",
   "execution_count": 9,
   "metadata": {},
   "outputs": [
    {
     "name": "stdout",
     "output_type": "stream",
     "text": [
      "        date group  orders  buyers  revenue  visitors\n",
      "0 2019-08-01     A      24      20   148579       719\n",
      "1 2019-08-01     B      21      20   101217       713\n",
      "2 2019-08-02     A      44      38   242401      1338\n",
      "3 2019-08-02     B      45      43   266748      1294\n",
      "4 2019-08-03     A      68      62   354874      1845\n"
     ]
    }
   ],
   "source": [
    "datesGroups = orders[['date', 'group']].drop_duplicates()\n",
    "\n",
    "ordersAggregated = datesGroups.apply(\n",
    "    lambda x: orders[\n",
    "        np.logical_and(orders['date'] <= x['date'], orders['group'] == x['group'])\n",
    "    ].agg(\n",
    "        {\n",
    "            'date': 'max',\n",
    "            'group': 'max',\n",
    "            'transactionId': 'nunique',\n",
    "            'visitorId': 'nunique',\n",
    "            'revenue': 'sum',\n",
    "        }\n",
    "    ),axis=1,).sort_values(by=['date', 'group'])\n",
    "\n",
    "visitorsAggregated = datesGroups.apply(\n",
    "    lambda x: visitors[\n",
    "        np.logical_and(\n",
    "            visitors['date'] <= x['date'], visitors['group'] == x['group']\n",
    "        )\n",
    "    ].agg({'date': 'max', 'group': 'max', 'visitors': 'sum'}),\n",
    "    axis=1,\n",
    ").sort_values(by=['date', 'group'])\n",
    "\n",
    "cumulativeData = ordersAggregated.merge(\n",
    "    visitorsAggregated, left_on=['date', 'group'], right_on=['date', 'group']\n",
    ")\n",
    "cumulativeData.columns = [\n",
    "    'date',\n",
    "    'group',\n",
    "    'orders',\n",
    "    'buyers',\n",
    "    'revenue',\n",
    "    'visitors',\n",
    "]\n",
    "print(cumulativeData.head(5))"
   ]
  },
  {
   "cell_type": "markdown",
   "metadata": {},
   "source": [
    "Данные подготовлены. Приступим к построению графиков."
   ]
  },
  {
   "cell_type": "code",
   "execution_count": 10,
   "metadata": {},
   "outputs": [
    {
     "data": {
      "image/png": "[encoded data removed]",
      "text/plain": [
       "<Figure size 432x288 with 1 Axes>"
      ]
     },
     "metadata": {
      "needs_background": "light"
     },
     "output_type": "display_data"
    }
   ],
   "source": [
    "cumulativeRevenueA = cumulativeData[cumulativeData['group']=='A'][['date','revenue', 'orders']]\n",
    "cumulativeRevenueB = cumulativeData[cumulativeData['group']=='B'][['date','revenue', 'orders']]\n",
    "plt.plot(cumulativeRevenueA['date'], cumulativeRevenueA['revenue'], label='A')\n",
    "plt.plot(cumulativeRevenueB['date'], cumulativeRevenueB['revenue'], label='B')\n",
    "plt.title('График кумулятивной выручки по дням и группам')\n",
    "plt.xlabel('Дата')\n",
    "plt.ylabel('Выручка в сотнях тысяч')\n",
    "plt.xticks(rotation=45)\n",
    "plt.legend() \n",
    "plt.show()"
   ]
  },
  {
   "cell_type": "markdown",
   "metadata": {},
   "source": [
    "«Синняя» линия группы А стабильно хуже по накопленным показателям, чем «оранжевая» В. Наблюдается резкий рост выручки группы В, после чего показатели выравниваются и идут параллельно. Резкий рост может быть связан с резким увелечением числа заказов или наличием аномальных по сумме заказов."
   ]
  },
  {
   "cell_type": "markdown",
   "metadata": {},
   "source": [
    "###  График кумулятивного среднего чека по группам"
   ]
  },
  {
   "cell_type": "code",
   "execution_count": 11,
   "metadata": {},
   "outputs": [
    {
     "data": {
      "image/png": "[encoded data removed]",
      "text/plain": [
       "<Figure size 432x288 with 1 Axes>"
      ]
     },
     "metadata": {
      "needs_background": "light"
     },
     "output_type": "display_data"
    }
   ],
   "source": [
    "plt.plot(cumulativeRevenueA['date'], cumulativeRevenueA['revenue']/cumulativeRevenueA['orders'], label='A')\n",
    "plt.plot(cumulativeRevenueB['date'], cumulativeRevenueB['revenue']/cumulativeRevenueB['orders'], label='B')\n",
    "plt.title('График кумулятивного среднего чека по группам')\n",
    "plt.xlabel('Дата')\n",
    "plt.ylabel('Выручка в сотнях тысяч')\n",
    "plt.xticks(rotation=45)\n",
    "plt.legend() \n",
    "plt.show()"
   ]
  },
  {
   "cell_type": "markdown",
   "metadata": {},
   "source": [
    "Средний чек группы В также знвчительно выше, чем у группы А. На этом графике мы также видим резкий рост, после чего показатели среднего чека группы А имеют тенденцию к снижению. Причиной резкого роста может быть аномально большой заказ. "
   ]
  },
  {
   "cell_type": "markdown",
   "metadata": {},
   "source": [
    "### График относительного изменения кумулятивного среднего чека группы B к группе A."
   ]
  },
  {
   "cell_type": "code",
   "execution_count": 12,
   "metadata": {},
   "outputs": [
    {
     "data": {
      "image/png": "[encoded data removed]",
      "text/plain": [
       "<Figure size 432x288 with 1 Axes>"
      ]
     },
     "metadata": {
      "needs_background": "light"
     },
     "output_type": "display_data"
    }
   ],
   "source": [
    "mergedCumulativeRevenue = cumulativeRevenueA.merge(cumulativeRevenueB, left_on='date', right_on='date', how='left', suffixes=['A', 'B'])\n",
    "plt.plot(mergedCumulativeRevenue['date'], (mergedCumulativeRevenue['revenueB']/mergedCumulativeRevenue['ordersB'])/(mergedCumulativeRevenue['revenueA']/mergedCumulativeRevenue['ordersA'])-1)\n",
    "plt.axhline(y=0, color='black', linestyle='--') \n",
    "plt.title('График относительного изменения кумулятивного среднего чека группы B к группе A.')\n",
    "plt.xlabel('Дата')\n",
    "plt.ylabel('Выручка в сотнях тысяч')\n",
    "plt.xticks(rotation=45)\n",
    "plt.show()"
   ]
  },
  {
   "cell_type": "markdown",
   "metadata": {},
   "source": [
    "Мы видим два значительный изменения показателей, видимо в эти даты были совершены аномальные по сумме заказы."
   ]
  },
  {
   "cell_type": "markdown",
   "metadata": {},
   "source": [
    "### График кумулятивного среднего количества заказов на посетителя по группам"
   ]
  },
  {
   "cell_type": "code",
   "execution_count": 13,
   "metadata": {},
   "outputs": [
    {
     "data": {
      "image/png": "[encoded data removed]",
      "text/plain": [
       "<Figure size 432x288 with 1 Axes>"
      ]
     },
     "metadata": {
      "needs_background": "light"
     },
     "output_type": "display_data"
    }
   ],
   "source": [
    "cumulativeData['conversion'] = cumulativeData['orders']/cumulativeData['visitors']\n",
    "cumulativeDataA = cumulativeData[cumulativeData['group']=='A']\n",
    "cumulativeDataB = cumulativeData[cumulativeData['group']=='B']\n",
    "plt.plot(cumulativeDataA['date'], cumulativeDataA['conversion'], label='A')\n",
    "plt.plot(cumulativeDataB['date'], cumulativeDataB['conversion'], label='B')\n",
    "plt.title('График кумулятивного среднего количества заказов на посетителя по группам')\n",
    "plt.xlabel('Дата')\n",
    "plt.ylabel('Выручка в сотнях тысяч')\n",
    "plt.xticks(rotation=45)\n",
    "plt.legend()\n",
    "plt.show()"
   ]
  },
  {
   "cell_type": "markdown",
   "metadata": {},
   "source": [
    "В начале теста среднее количество заказов было выше в группе А, но вскоре группа В ее опередила и до конца теста лидировала по этому показателю."
   ]
  },
  {
   "cell_type": "markdown",
   "metadata": {},
   "source": [
    "### График относительного изменения кумулятивного среднего количества заказов на посетителя группы B к группе A"
   ]
  },
  {
   "cell_type": "code",
   "execution_count": 14,
   "metadata": {},
   "outputs": [
    {
     "data": {
      "image/png": "[encoded data removed]",
      "text/plain": [
       "<Figure size 432x288 with 1 Axes>"
      ]
     },
     "metadata": {
      "needs_background": "light"
     },
     "output_type": "display_data"
    }
   ],
   "source": [
    "mergedCumulativeConversions = cumulativeDataA[['date','conversion']].merge(cumulativeDataB[['date','conversion']], left_on='date', right_on='date', how='left', suffixes=['A', 'B'])\n",
    "plt.plot(mergedCumulativeConversions['date'], mergedCumulativeConversions['conversionB']/mergedCumulativeConversions['conversionA']-1, label=\"Относительный прирост кумулятивного среднего количества заказов на посетителя группы B относительно группы A\")\n",
    "plt.title('График относительного изменения кумулятивного среднего количества заказов')\n",
    "plt.xlabel('Дата')\n",
    "plt.ylabel('Выручка в сотнях тысяч')\n",
    "plt.xticks(rotation=45)\n",
    "plt.axhline(y=0, color='black', linestyle='--')\n",
    "plt.axhline(y=0.2, color='grey', linestyle='--')\n",
    "plt.show()"
   ]
  },
  {
   "cell_type": "markdown",
   "metadata": {},
   "source": [
    "Вскоре после начала теста группа В стала лидировать по показателю среднего количества заказов. Количество заказов группы В выше не менее чем на 10%."
   ]
  },
  {
   "cell_type": "markdown",
   "metadata": {},
   "source": [
    "### Точечный график количества заказов по пользователям"
   ]
  },
  {
   "cell_type": "code",
   "execution_count": 15,
   "metadata": {},
   "outputs": [
    {
     "name": "stdout",
     "output_type": "stream",
     "text": [
      "          userId  orders\n",
      "1023  4256040402      11\n",
      "591   2458001652      11\n",
      "569   2378935119       9\n",
      "487   2038680547       8\n",
      "44     199603092       5\n",
      "744   3062433592       5\n",
      "55     237748145       5\n",
      "917   3803269165       5\n",
      "299   1230306981       5\n",
      "897   3717692402       5\n"
     ]
    },
    {
     "data": {
      "image/png": "[encoded data removed]",
      "text/plain": [
       "<Figure size 432x288 with 1 Axes>"
      ]
     },
     "metadata": {
      "needs_background": "light"
     },
     "output_type": "display_data"
    }
   ],
   "source": [
    "ordersByUsers = (\n",
    "    orders.groupby('visitorId', as_index=False)\n",
    "    .agg({'transactionId': 'nunique'})\n",
    ")\n",
    "ordersByUsers.columns = ['userId', 'orders']\n",
    "\n",
    "print(ordersByUsers.sort_values(by='orders', ascending=False).head(10))\n",
    "\n",
    "x_values = pd.Series(range(0,len(ordersByUsers)))\n",
    "\n",
    "plt.scatter(x_values, ordersByUsers['orders']) \n",
    "x_values = pd.Series(range(0, len(ordersByUsers)))\n",
    "plt.title('Точечный график количества заказов по пользователям')\n",
    "plt.xlabel('Пользователи')\n",
    "plt.ylabel('Заказы')\n",
    "plt.show()"
   ]
  },
  {
   "cell_type": "markdown",
   "metadata": {},
   "source": [
    "В большинстве своем пользователи делают один заказ. Более одного можно назвать редким явлением."
   ]
  },
  {
   "cell_type": "markdown",
   "metadata": {},
   "source": [
    "### Определение границы пользователей с аномальным количеством заказов"
   ]
  },
  {
   "cell_type": "code",
   "execution_count": 16,
   "metadata": {},
   "outputs": [
    {
     "name": "stdout",
     "output_type": "stream",
     "text": [
      "[1. 2. 4.]\n"
     ]
    }
   ],
   "source": [
    "print(np.percentile(ordersByUsers['orders'], [90, 95, 99])) "
   ]
  },
  {
   "cell_type": "markdown",
   "metadata": {},
   "source": [
    "Только 5% пользователей совершили 2 и более заказов. 4 и более заказов можно считать аномалией."
   ]
  },
  {
   "cell_type": "markdown",
   "metadata": {},
   "source": [
    "### Точечный график стоимостей заказов"
   ]
  },
  {
   "cell_type": "code",
   "execution_count": 17,
   "metadata": {},
   "outputs": [
    {
     "name": "stdout",
     "output_type": "stream",
     "text": [
      "      transactionId   visitorId       date  revenue group\n",
      "425       590470918  1920142716 2019-08-19  1294500     B\n",
      "1196     3936777065  2108080724 2019-08-15   202740     B\n",
      "858       192721366  1316129916 2019-08-27    93940     A\n",
      "1136      666610489  1307669133 2019-08-13    92550     A\n",
      "744      3668308183   888512513 2019-08-27    86620     B\n",
      "682      1216533772  4266935830 2019-08-29    78990     B\n",
      "662      1811671147  4266935830 2019-08-29    78990     A\n",
      "743      3603576309  4133034833 2019-08-09    67990     A\n",
      "1103     1348774318  1164614297 2019-08-12    66350     A\n",
      "1099      316924019   148427295 2019-08-12    65710     A\n"
     ]
    },
    {
     "data": {
      "image/png": "[encoded data removed]",
      "text/plain": [
       "<Figure size 432x288 with 1 Axes>"
      ]
     },
     "metadata": {
      "needs_background": "light"
     },
     "output_type": "display_data"
    }
   ],
   "source": [
    "print(orders.sort_values(by='revenue', ascending=False).head(10))\n",
    "\n",
    "x_values = pd.Series(range(0, len(orders['revenue'])))\n",
    "plt.scatter(x_values, orders['revenue']) \n",
    "plt.title('Точечный график стоимостей заказов')\n",
    "plt.xlabel('Заказы')\n",
    "plt.ylabel('Сумма')\n",
    "plt.show()"
   ]
  },
  {
   "cell_type": "markdown",
   "metadata": {},
   "source": [
    "В таблице и на графике мы четко выдим два аномальных заказа, чья сумма превышает 100 000."
   ]
  },
  {
   "cell_type": "markdown",
   "metadata": {},
   "source": [
    "### Определение границы заказов с аномальной суммой"
   ]
  },
  {
   "cell_type": "code",
   "execution_count": 18,
   "metadata": {},
   "outputs": [
    {
     "name": "stdout",
     "output_type": "stream",
     "text": [
      "[18168.  28000.  58233.2]\n"
     ]
    }
   ],
   "source": [
    "print(np.percentile(orders['revenue'], [90, 95, 99])) "
   ]
  },
  {
   "cell_type": "markdown",
   "metadata": {},
   "source": [
    "99-й перцентиль говорит нам, что мы смело можем считать аномальными заказы с суммой выше 58 000."
   ]
  },
  {
   "cell_type": "markdown",
   "metadata": {},
   "source": [
    "###  Cтатистическая значимость различий в среднем количестве заказов на посетителя между группами по «сырым» данным"
   ]
  },
  {
   "cell_type": "markdown",
   "metadata": {},
   "source": [
    "Для проверки гипотез подготовим данные"
   ]
  },
  {
   "cell_type": "code",
   "execution_count": 19,
   "metadata": {},
   "outputs": [
    {
     "data": {
      "text/html": [
       "<div>\n",
       "<style scoped>\n",
       "    .dataframe tbody tr th:only-of-type {\n",
       "        vertical-align: middle;\n",
       "    }\n",
       "\n",
       "    .dataframe tbody tr th {\n",
       "        vertical-align: top;\n",
       "    }\n",
       "\n",
       "    .dataframe thead th {\n",
       "        text-align: right;\n",
       "    }\n",
       "</style>\n",
       "<table border=\"1\" class=\"dataframe\">\n",
       "  <thead>\n",
       "    <tr style=\"text-align: right;\">\n",
       "      <th></th>\n",
       "      <th>date</th>\n",
       "      <th>ordersPerDateA</th>\n",
       "      <th>revenuePerDateA</th>\n",
       "      <th>ordersPerDateB</th>\n",
       "      <th>revenuePerDateB</th>\n",
       "      <th>ordersCummulativeA</th>\n",
       "      <th>revenueCummulativeA</th>\n",
       "      <th>ordersCummulativeB</th>\n",
       "      <th>revenueCummulativeB</th>\n",
       "      <th>visitorsPerDateA</th>\n",
       "      <th>visitorsPerDateB</th>\n",
       "      <th>visitorsCummulativeA</th>\n",
       "      <th>visitorsCummulativeB</th>\n",
       "    </tr>\n",
       "  </thead>\n",
       "  <tbody>\n",
       "    <tr>\n",
       "      <th>0</th>\n",
       "      <td>2019-08-01</td>\n",
       "      <td>24</td>\n",
       "      <td>148579</td>\n",
       "      <td>21</td>\n",
       "      <td>101217</td>\n",
       "      <td>24</td>\n",
       "      <td>148579</td>\n",
       "      <td>21</td>\n",
       "      <td>101217</td>\n",
       "      <td>719</td>\n",
       "      <td>713</td>\n",
       "      <td>719</td>\n",
       "      <td>713</td>\n",
       "    </tr>\n",
       "    <tr>\n",
       "      <th>1</th>\n",
       "      <td>2019-08-02</td>\n",
       "      <td>20</td>\n",
       "      <td>93822</td>\n",
       "      <td>24</td>\n",
       "      <td>165531</td>\n",
       "      <td>44</td>\n",
       "      <td>242401</td>\n",
       "      <td>45</td>\n",
       "      <td>266748</td>\n",
       "      <td>619</td>\n",
       "      <td>581</td>\n",
       "      <td>1338</td>\n",
       "      <td>1294</td>\n",
       "    </tr>\n",
       "    <tr>\n",
       "      <th>2</th>\n",
       "      <td>2019-08-03</td>\n",
       "      <td>24</td>\n",
       "      <td>112473</td>\n",
       "      <td>16</td>\n",
       "      <td>114248</td>\n",
       "      <td>68</td>\n",
       "      <td>354874</td>\n",
       "      <td>61</td>\n",
       "      <td>380996</td>\n",
       "      <td>507</td>\n",
       "      <td>509</td>\n",
       "      <td>1845</td>\n",
       "      <td>1803</td>\n",
       "    </tr>\n",
       "    <tr>\n",
       "      <th>3</th>\n",
       "      <td>2019-08-04</td>\n",
       "      <td>16</td>\n",
       "      <td>70825</td>\n",
       "      <td>17</td>\n",
       "      <td>108571</td>\n",
       "      <td>84</td>\n",
       "      <td>425699</td>\n",
       "      <td>78</td>\n",
       "      <td>489567</td>\n",
       "      <td>717</td>\n",
       "      <td>770</td>\n",
       "      <td>2562</td>\n",
       "      <td>2573</td>\n",
       "    </tr>\n",
       "    <tr>\n",
       "      <th>4</th>\n",
       "      <td>2019-08-05</td>\n",
       "      <td>25</td>\n",
       "      <td>124218</td>\n",
       "      <td>23</td>\n",
       "      <td>92428</td>\n",
       "      <td>109</td>\n",
       "      <td>549917</td>\n",
       "      <td>101</td>\n",
       "      <td>581995</td>\n",
       "      <td>756</td>\n",
       "      <td>707</td>\n",
       "      <td>3318</td>\n",
       "      <td>3280</td>\n",
       "    </tr>\n",
       "  </tbody>\n",
       "</table>\n",
       "</div>"
      ],
      "text/plain": [
       "        date  ordersPerDateA  revenuePerDateA  ordersPerDateB  \\\n",
       "0 2019-08-01              24           148579              21   \n",
       "1 2019-08-02              20            93822              24   \n",
       "2 2019-08-03              24           112473              16   \n",
       "3 2019-08-04              16            70825              17   \n",
       "4 2019-08-05              25           124218              23   \n",
       "\n",
       "   revenuePerDateB  ordersCummulativeA  revenueCummulativeA  \\\n",
       "0           101217                  24               148579   \n",
       "1           165531                  44               242401   \n",
       "2           114248                  68               354874   \n",
       "3           108571                  84               425699   \n",
       "4            92428                 109               549917   \n",
       "\n",
       "   ordersCummulativeB  revenueCummulativeB  visitorsPerDateA  \\\n",
       "0                  21               101217               719   \n",
       "1                  45               266748               619   \n",
       "2                  61               380996               507   \n",
       "3                  78               489567               717   \n",
       "4                 101               581995               756   \n",
       "\n",
       "   visitorsPerDateB  visitorsCummulativeA  visitorsCummulativeB  \n",
       "0               713                   719                   713  \n",
       "1               581                  1338                  1294  \n",
       "2               509                  1845                  1803  \n",
       "3               770                  2562                  2573  \n",
       "4               707                  3318                  3280  "
      ]
     },
     "execution_count": 19,
     "metadata": {},
     "output_type": "execute_result"
    }
   ],
   "source": [
    "visitorsADaily = visitors[visitors['group'] == 'A'][['date', 'visitors']]\n",
    "visitorsADaily.columns = ['date', 'visitorsPerDateA']\n",
    "\n",
    "visitorsACummulative = visitorsADaily.apply(\n",
    "    lambda x: visitorsADaily[visitorsADaily['date'] <= x['date']].agg(\n",
    "        {'date': 'max', 'visitorsPerDateA': 'sum'}\n",
    "    ),\n",
    "    axis=1,\n",
    ")\n",
    "visitorsACummulative.columns = ['date', 'visitorsCummulativeA']\n",
    "\n",
    "visitorsBDaily = visitors[visitors['group'] == 'B'][['date', 'visitors']]\n",
    "visitorsBDaily.columns = ['date', 'visitorsPerDateB']\n",
    "\n",
    "visitorsBCummulative = visitorsBDaily.apply(\n",
    "    lambda x: visitorsBDaily[visitorsBDaily['date'] <= x['date']].agg(\n",
    "        {'date': 'max', 'visitorsPerDateB': 'sum'}\n",
    "    ),\n",
    "    axis=1,\n",
    ")\n",
    "visitorsBCummulative.columns = ['date', 'visitorsCummulativeB']\n",
    "\n",
    "ordersADaily = (\n",
    "    orders[orders['group'] == 'A'][['date', 'transactionId', 'visitorId', 'revenue']]\n",
    "    .groupby('date', as_index=False)\n",
    "    .agg({'transactionId': pd.Series.nunique, 'revenue': 'sum'})\n",
    ")\n",
    "ordersADaily.columns = ['date', 'ordersPerDateA', 'revenuePerDateA']\n",
    "\n",
    "ordersACummulative = ordersADaily.apply(\n",
    "    lambda x: ordersADaily[ordersADaily['date'] <= x['date']].agg(\n",
    "        {'date': 'max', 'ordersPerDateA': 'sum', 'revenuePerDateA': 'sum'}\n",
    "    ),\n",
    "    axis=1,\n",
    ").sort_values(by=['date'])\n",
    "ordersACummulative.columns = [\n",
    "    'date',\n",
    "    'ordersCummulativeA',\n",
    "    'revenueCummulativeA',\n",
    "]\n",
    "\n",
    "ordersBDaily = (\n",
    "    orders[orders['group'] == 'B'][['date', 'transactionId', 'visitorId', 'revenue']]\n",
    "    .groupby('date', as_index=False)\n",
    "    .agg({'transactionId': pd.Series.nunique, 'revenue': 'sum'})\n",
    ")\n",
    "ordersBDaily.columns = ['date', 'ordersPerDateB', 'revenuePerDateB']\n",
    "\n",
    "ordersBCummulative = ordersBDaily.apply(\n",
    "    lambda x: ordersBDaily[ordersBDaily['date'] <= x['date']].agg(\n",
    "        {'date': 'max', 'ordersPerDateB': 'sum', 'revenuePerDateB': 'sum'}\n",
    "    ),\n",
    "    axis=1,\n",
    ").sort_values(by=['date'])\n",
    "ordersBCummulative.columns = [\n",
    "    'date',\n",
    "    'ordersCummulativeB',\n",
    "    'revenueCummulativeB',\n",
    "]\n",
    "\n",
    "data = (\n",
    "    ordersADaily.merge(\n",
    "        ordersBDaily, left_on='date', right_on='date', how='left'\n",
    "    )\n",
    "    .merge(ordersACummulative, left_on='date', right_on='date', how='left')\n",
    "    .merge(ordersBCummulative, left_on='date', right_on='date', how='left')\n",
    "    .merge(visitorsADaily, left_on='date', right_on='date', how='left')\n",
    "    .merge(visitorsBDaily, left_on='date', right_on='date', how='left')\n",
    "    .merge(visitorsACummulative, left_on='date', right_on='date', how='left')\n",
    "    .merge(visitorsBCummulative, left_on='date', right_on='date', how='left')\n",
    ")\n",
    "\n",
    "data.head(5)\n"
   ]
  },
  {
   "cell_type": "markdown",
   "metadata": {},
   "source": [
    " Из-за наличия выбросов для проверки гипотез будет использоваться непараметрический тест Уилкоксона-Манна-Уитни.\n",
    "\n",
    "**Н0**: различий в среднем количестве заказов между группами нет.  \n",
    "**Н1**: различия в среднем количестве заказов между группами есть.  \n",
    "Уровень значимости: α = 0.05"
   ]
  },
  {
   "cell_type": "code",
   "execution_count": 20,
   "metadata": {},
   "outputs": [
    {
     "name": "stdout",
     "output_type": "stream",
     "text": [
      "P-value: 0.017\n",
      "Относительный прирост среднего группы В к конверсии группы А: 13.8%\n"
     ]
    }
   ],
   "source": [
    "ordersByUsersA = (\n",
    "    orders[orders['group'] == 'A']\n",
    "    .groupby('visitorId', as_index=False)\n",
    "    .agg({'transactionId': pd.Series.nunique})\n",
    ")\n",
    "ordersByUsersA.columns = ['visitorId', 'orders']\n",
    "\n",
    "ordersByUsersB = (\n",
    "    orders[orders['group'] == 'B']\n",
    "    .groupby('visitorId', as_index=False)\n",
    "    .agg({'transactionId': pd.Series.nunique})\n",
    ")\n",
    "ordersByUsersB.columns = ['visitorId', 'orders'] \n",
    "\n",
    "sampleA = pd.concat(\n",
    "    [\n",
    "        ordersByUsersA['orders'],\n",
    "        pd.Series(\n",
    "            0,\n",
    "            index=np.arange(\n",
    "                data['visitorsPerDateA'].sum() - len(ordersByUsersA['orders'])\n",
    "            ),\n",
    "            name='orders',\n",
    "        ),\n",
    "    ],\n",
    "    axis=0,\n",
    ")\n",
    "\n",
    "sampleB = pd.concat(\n",
    "    [\n",
    "        ordersByUsersB['orders'],\n",
    "        pd.Series(\n",
    "            0,\n",
    "            index=np.arange(\n",
    "                data['visitorsPerDateB'].sum() - len(ordersByUsersB['orders'])\n",
    "            ),\n",
    "            name='orders',\n",
    "        ),\n",
    "    ],\n",
    "    axis=0,\n",
    ")\n",
    "print('P-value: '\"{0:.3f}\".format(stats.mannwhitneyu(sampleA, sampleB)[1]))\n",
    "print('Относительный прирост среднего группы В к конверсии группы А: '\"{0:.1f}%\".format(((data['ordersPerDateB'].sum()\n",
    "                                                                                          /data['visitorsPerDateB'].sum())\n",
    "                                                                                         /(data['ordersPerDateA'].sum()\n",
    "                                                                                           /data['visitorsPerDateA'].sum())\n",
    "                                                                                         -1) * 100))\n"
   ]
  },
  {
   "cell_type": "markdown",
   "metadata": {},
   "source": [
    "**Вывод:** P-value значительно ниже уровня значимости, следовательно нулевая гипотеза об отсутсвии разницы отвергается. Различия в среднем количестве заказов между группами есть."
   ]
  },
  {
   "cell_type": "markdown",
   "metadata": {},
   "source": [
    "### Статистическая значимость различий в среднем чеке заказа между группами по «сырым» данным"
   ]
  },
  {
   "cell_type": "markdown",
   "metadata": {},
   "source": [
    "**Н0:** различий в среднем чеке заказа между группами нет.   \n",
    "**Н1:** различия в среднем между группами есть.   \n",
    "Уровень значимости: α = 0.05 "
   ]
  },
  {
   "cell_type": "code",
   "execution_count": 21,
   "metadata": {},
   "outputs": [
    {
     "name": "stdout",
     "output_type": "stream",
     "text": [
      "P-value: 0.729\n",
      "Относительное различие среднего чека между группами: 25.9%\n"
     ]
    }
   ],
   "source": [
    "print('P-value: ''{0:.3f}'.format(stats.mannwhitneyu(orders[orders['group']=='A']['revenue'], \n",
    "                                                     orders[orders['group']=='B']['revenue'])[1]))\n",
    "print('Относительное различие среднего чека между группами: ''{0:.1f}%'.format((orders[orders['group']=='B']['revenue'].mean()\n",
    "                                                                                /orders[orders['group']=='A']['revenue'].mean()\n",
    "                                                                                -1) * 100))"
   ]
  },
  {
   "cell_type": "markdown",
   "metadata": {},
   "source": [
    "**Вывод:** P-value значительно выше уровня значимости, следовательно нулевая гипотеза об отсутсвии разницы среднего чека между группами принимается верной."
   ]
  },
  {
   "cell_type": "markdown",
   "metadata": {},
   "source": [
    "### Статистическая значимость различий в среднем количестве заказов на посетителя между группами по «очищенным» данным"
   ]
  },
  {
   "cell_type": "markdown",
   "metadata": {},
   "source": [
    "Подготовим очищенные данные. Ранее мы определили анамальное количиство заказов как 4 и более, и сумму заказа более 100 000. Исключим эти данные из выборки."
   ]
  },
  {
   "cell_type": "code",
   "execution_count": 22,
   "metadata": {},
   "outputs": [
    {
     "name": "stdout",
     "output_type": "stream",
     "text": [
      "425     1920142716\n",
      "227     2038680547\n",
      "1196    2108080724\n",
      "326     2378935119\n",
      "278     2458001652\n",
      "Name: visitorId, dtype: int64\n"
     ]
    },
    {
     "data": {
      "text/plain": [
       "6"
      ]
     },
     "execution_count": 22,
     "metadata": {},
     "output_type": "execute_result"
    }
   ],
   "source": [
    "usersWithManyOrders = pd.concat(\n",
    "    [\n",
    "        ordersByUsersA[ordersByUsersA['orders'] > 4]['visitorId'],\n",
    "        ordersByUsersB[ordersByUsersB['orders'] > 4]['visitorId'],\n",
    "    ],\n",
    "    axis=0,\n",
    ")\n",
    "usersWithExpensiveOrders = orders[orders['revenue'] > 100000]['visitorId']\n",
    "abnormalUsers = (\n",
    "    pd.concat([usersWithManyOrders, usersWithExpensiveOrders], axis=0)\n",
    "    .drop_duplicates()\n",
    "    .sort_values()\n",
    ")\n",
    "print(abnormalUsers.head(5))\n",
    "abnormalUsers.count()"
   ]
  },
  {
   "cell_type": "markdown",
   "metadata": {},
   "source": [
    "**Н0**: различий в среднем количестве заказов между группами нет.  \n",
    "**Н1**: различия в среднем количестве заказов между группами есть.  \n",
    "Уровень значимости: α = 0.05"
   ]
  },
  {
   "cell_type": "code",
   "execution_count": 23,
   "metadata": {},
   "outputs": [
    {
     "name": "stdout",
     "output_type": "stream",
     "text": [
      "P-value: 0.019\n",
      "Относительный прирост среднего группы В к конверсии группы А: 14.6%\n"
     ]
    }
   ],
   "source": [
    "sampleAFiltered = pd.concat(\n",
    "    [\n",
    "        ordersByUsersA[\n",
    "            np.logical_not(ordersByUsersA['visitorId'].isin(abnormalUsers))\n",
    "        ]['orders'],\n",
    "        pd.Series(\n",
    "            0,\n",
    "            index=np.arange(\n",
    "                data['visitorsPerDateA'].sum() - len(ordersByUsersA['orders'])\n",
    "            ),\n",
    "            name='orders',\n",
    "        ),\n",
    "    ],\n",
    "    axis=0,\n",
    ")\n",
    "\n",
    "sampleBFiltered = pd.concat(\n",
    "    [\n",
    "        ordersByUsersB[\n",
    "            np.logical_not(ordersByUsersB['visitorId'].isin(abnormalUsers))\n",
    "        ]['orders'],\n",
    "        pd.Series(\n",
    "            0,\n",
    "            index=np.arange(\n",
    "                data['visitorsPerDateB'].sum() - len(ordersByUsersB['orders'])\n",
    "            ),\n",
    "            name='orders',\n",
    "        ),\n",
    "    ],\n",
    "    axis=0,\n",
    ")\n",
    "print('P-value: ''{0:.3f}'.format(stats.mannwhitneyu(sampleAFiltered, sampleBFiltered)[1]))\n",
    "print('Относительный прирост среднего группы В к конверсии группы А: ''{0:.1f}%'.format((sampleBFiltered.mean()\n",
    "                                                                                         /sampleAFiltered.mean()-1) * 100)) "
   ]
  },
  {
   "cell_type": "markdown",
   "metadata": {},
   "source": [
    "**Вывод:** Как и в случае с \"сырыми данными\" р-value значительно ниже уровня значимости, следовательно нулевая гипотеза об отсутсвии разницы отвергается. Различия в среднем количестве заказов между группами есть."
   ]
  },
  {
   "cell_type": "markdown",
   "metadata": {},
   "source": [
    "### Статистическая значимость различий в среднем чеке заказа между группами по «очищенным» данным"
   ]
  },
  {
   "cell_type": "markdown",
   "metadata": {},
   "source": [
    "**Н0:** различий в среднем чеке заказа между группами нет.   \n",
    "**Н1:** различия в среднем между группами есть.   \n",
    "Уровень значимости: α = 0.05 "
   ]
  },
  {
   "cell_type": "code",
   "execution_count": 24,
   "metadata": {},
   "outputs": [
    {
     "name": "stdout",
     "output_type": "stream",
     "text": [
      "P-value: 0.931\n",
      "Относительное различие среднего чека между группами: -8.4%\n"
     ]
    }
   ],
   "source": [
    "print('P-value: ''{0:.3f}'.format(stats.mannwhitneyu(orders[np.logical_and(orders['group'] == 'A',\n",
    "                                                                np.logical_not(orders['visitorId'].isin(abnormalUsers))\n",
    "                                                                ,)]['revenue'],\n",
    "            orders[np.logical_and(orders['group'] == 'B',np.logical_not(orders['visitorId'].isin(abnormalUsers)),\n",
    "                                 )]['revenue'],)[1]))\n",
    "print('Относительное различие среднего чека между группами: '\"{0:.1f}%\".format((orders[np.logical_and(\n",
    "                orders['group'] == 'B',\n",
    "                np.logical_not(orders['visitorId'].isin(abnormalUsers)),)]['revenue'].mean()/ orders[np.logical_and(\n",
    "                orders['group'] == 'A',np.logical_not(orders['visitorId'].isin(abnormalUsers)),)]['revenue'].mean()- 1) *100))"
   ]
  },
  {
   "cell_type": "markdown",
   "metadata": {},
   "source": [
    "**Вывод:** Как и в случае с \"сырыми данными\" р-value значительно выше уровня значимости, следовательно нулевая гипотеза об отсутсвии разницы среднего чека между группами принимается верной."
   ]
  },
  {
   "cell_type": "markdown",
   "metadata": {},
   "source": [
    "## Выводы"
   ]
  },
  {
   "cell_type": "markdown",
   "metadata": {},
   "source": [
    "В ходе исследования были изучены 9 гипотез об увелечении выручки и данные о результатах А/В- теста крупного интернет магазина.  Были сделаны следующие выводы:\n",
    "1. Была проведена приоритезация гипотез по методам ICE и RICE. По их результатам следует особое внимание уделить гипотезе № 7 \"Добавить форму подписки на все основные страницы, чтобы собрать базу клиентов для email-рассылок\".\n",
    "2. В ходе предобработки данных были изучены и подготовлены к дальнейшему исследованию предоставленные датафреймы.\n",
    "3. Были выявлены неявные дубликаты: некоторые пользователи оказались одновременно в двух группах. К сожалению, исправить ошибку не представляется возможным, из-за агрегированных данных таблицы с пользователями.\n",
    "4. График кумулятивной выручки по группам показал, что группа В показывает лучшие результаты относительно группы А. Однако резкий рост в один из дней может свидетельствовать об аномалиях в данных.\n",
    "5. На графике кумулятивного среднего чека по группам был выявлен резкий рост показателей группы В, после которого показатели значительно выросли относительно группы А. Причиной этого могут быть выбросы - аномально крупные заказы. Данный показатель требует дальнейших изучений, так как график показывает тенденцию к снижению среднего чека группы В.\n",
    "6. График относительного изменения кумулятивного среднего чека группы B к группе A также показал наличие резких изменений из-за выбросов.\n",
    "7. По графику кумулятивного среднего количества заказов на посетителя по группам видно, что в группе В в среднем больше заказов. То же показал и график относительного изменения кумулятивного среднего количества заказов на посетителя группы B к группе A\n",
    "8. В ходе дальнейшего исследования были изучены аномальные значения и определены их границы.\n",
    "9. Проверки гипотез по \"сырым\" и \"очищенным\" данным показали различия в среднем количестве заказов между группами есть.\n",
    "10. Проверки гипотез по \"сырым\" и \"очищенным\" данным показали отсутсвие существенной разницы среднего чека между группами.\n",
    "11. По результатам проверки гипотез рекумендуется остановить тест, зафиксировать победу группы В. Так как выбросы не повлияли на результаты проверки.\n",
    "12. В дальнейшем рекомендуется тщательнее проводить А/А-тест, чтобы избежать попадания одних и тех же пользователей в обе группы."
   ]
  }
 ],
 "metadata": {
  "ExecuteTimeLog": [
   {
    "duration": 48,
    "start_time": "2024-06-25T13:01:11.545Z"
   },
   {
    "duration": 1188,
    "start_time": "2024-06-25T13:01:20.550Z"
   },
   {
    "duration": 92,
    "start_time": "2024-06-25T13:01:21.739Z"
   },
   {
    "duration": 1409,
    "start_time": "2024-06-26T20:26:23.377Z"
   },
   {
    "duration": 70,
    "start_time": "2024-06-26T20:26:24.788Z"
   },
   {
    "duration": 37,
    "start_time": "2024-06-26T20:26:33.111Z"
   },
   {
    "duration": 31,
    "start_time": "2024-06-26T20:26:46.419Z"
   },
   {
    "duration": 1066,
    "start_time": "2024-06-26T21:08:00.846Z"
   },
   {
    "duration": 15,
    "start_time": "2024-06-26T21:09:11.029Z"
   },
   {
    "duration": 15,
    "start_time": "2024-06-26T21:10:11.063Z"
   },
   {
    "duration": 13,
    "start_time": "2024-06-26T21:10:44.564Z"
   },
   {
    "duration": 16,
    "start_time": "2024-06-26T21:11:00.322Z"
   },
   {
    "duration": 10,
    "start_time": "2024-06-26T21:11:06.638Z"
   },
   {
    "duration": 20,
    "start_time": "2024-06-26T21:11:15.051Z"
   },
   {
    "duration": 1226,
    "start_time": "2024-06-26T21:11:35.180Z"
   },
   {
    "duration": 36,
    "start_time": "2024-06-26T21:11:36.409Z"
   },
   {
    "duration": 14,
    "start_time": "2024-06-26T21:11:36.447Z"
   },
   {
    "duration": 12,
    "start_time": "2024-06-26T21:11:36.463Z"
   },
   {
    "duration": 13,
    "start_time": "2024-06-26T21:12:08.323Z"
   },
   {
    "duration": 35,
    "start_time": "2024-06-26T22:42:42.296Z"
   },
   {
    "duration": 31,
    "start_time": "2024-06-26T22:43:01.451Z"
   },
   {
    "duration": 1031,
    "start_time": "2024-06-26T22:43:45.900Z"
   },
   {
    "duration": 1249,
    "start_time": "2024-06-26T22:44:03.846Z"
   },
   {
    "duration": 35,
    "start_time": "2024-06-26T22:44:05.097Z"
   },
   {
    "duration": 13,
    "start_time": "2024-06-26T22:44:05.133Z"
   },
   {
    "duration": 11,
    "start_time": "2024-06-26T22:44:05.147Z"
   },
   {
    "duration": 7,
    "start_time": "2024-06-26T22:44:05.160Z"
   },
   {
    "duration": 32,
    "start_time": "2024-06-26T22:45:13.579Z"
   },
   {
    "duration": 34,
    "start_time": "2024-06-26T22:45:21.042Z"
   },
   {
    "duration": 32,
    "start_time": "2024-06-26T22:45:26.295Z"
   },
   {
    "duration": 32,
    "start_time": "2024-06-26T22:45:30.397Z"
   },
   {
    "duration": 31,
    "start_time": "2024-06-26T22:45:35.589Z"
   },
   {
    "duration": 1521,
    "start_time": "2024-06-27T20:10:29.573Z"
   },
   {
    "duration": 93,
    "start_time": "2024-06-27T20:10:31.097Z"
   },
   {
    "duration": 51,
    "start_time": "2024-06-27T20:10:31.192Z"
   },
   {
    "duration": 82,
    "start_time": "2024-06-27T20:10:31.246Z"
   },
   {
    "duration": 1223,
    "start_time": "2024-06-27T20:16:41.277Z"
   },
   {
    "duration": 37,
    "start_time": "2024-06-27T20:16:42.502Z"
   },
   {
    "duration": 15,
    "start_time": "2024-06-27T20:16:42.541Z"
   },
   {
    "duration": 14,
    "start_time": "2024-06-27T20:16:42.558Z"
   },
   {
    "duration": 88,
    "start_time": "2024-06-27T20:16:42.574Z"
   },
   {
    "duration": 152,
    "start_time": "2024-06-27T20:31:57.765Z"
   },
   {
    "duration": 80,
    "start_time": "2024-06-27T20:37:26.073Z"
   },
   {
    "duration": 133,
    "start_time": "2024-06-27T21:00:00.214Z"
   },
   {
    "duration": 5,
    "start_time": "2024-06-27T21:00:05.111Z"
   },
   {
    "duration": 34,
    "start_time": "2024-06-27T21:00:05.542Z"
   },
   {
    "duration": 52,
    "start_time": "2024-06-27T21:00:12.860Z"
   },
   {
    "duration": 96,
    "start_time": "2024-06-27T21:09:17.646Z"
   },
   {
    "duration": 7,
    "start_time": "2024-06-27T21:14:35.489Z"
   },
   {
    "duration": 19,
    "start_time": "2024-06-27T21:39:26.270Z"
   },
   {
    "duration": 108,
    "start_time": "2024-06-27T21:40:23.292Z"
   },
   {
    "duration": 17,
    "start_time": "2024-06-27T21:40:26.595Z"
   },
   {
    "duration": 12,
    "start_time": "2024-06-27T21:40:29.284Z"
   },
   {
    "duration": 115,
    "start_time": "2024-06-27T21:40:41.617Z"
   },
   {
    "duration": 100,
    "start_time": "2024-06-27T21:42:11.246Z"
   },
   {
    "duration": 13,
    "start_time": "2024-06-27T21:42:15.259Z"
   },
   {
    "duration": 1364,
    "start_time": "2024-06-27T21:42:23.964Z"
   },
   {
    "duration": 5,
    "start_time": "2024-06-27T21:42:25.330Z"
   },
   {
    "duration": 76,
    "start_time": "2024-06-27T21:42:25.338Z"
   },
   {
    "duration": 1036,
    "start_time": "2024-06-27T21:42:25.416Z"
   },
   {
    "duration": 0,
    "start_time": "2024-06-27T21:42:26.453Z"
   },
   {
    "duration": 0,
    "start_time": "2024-06-27T21:42:26.455Z"
   },
   {
    "duration": 0,
    "start_time": "2024-06-27T21:42:26.456Z"
   },
   {
    "duration": 0,
    "start_time": "2024-06-27T21:42:26.457Z"
   },
   {
    "duration": 10,
    "start_time": "2024-06-27T21:42:35.245Z"
   },
   {
    "duration": 1272,
    "start_time": "2024-06-27T21:43:26.345Z"
   },
   {
    "duration": 4,
    "start_time": "2024-06-27T21:43:27.619Z"
   },
   {
    "duration": 59,
    "start_time": "2024-06-27T21:43:27.625Z"
   },
   {
    "duration": 1027,
    "start_time": "2024-06-27T21:43:27.686Z"
   },
   {
    "duration": 0,
    "start_time": "2024-06-27T21:43:28.715Z"
   },
   {
    "duration": 0,
    "start_time": "2024-06-27T21:43:28.716Z"
   },
   {
    "duration": 0,
    "start_time": "2024-06-27T21:43:28.718Z"
   },
   {
    "duration": 0,
    "start_time": "2024-06-27T21:43:28.720Z"
   },
   {
    "duration": 69,
    "start_time": "2024-06-27T21:45:05.777Z"
   },
   {
    "duration": 1242,
    "start_time": "2024-06-27T21:45:14.477Z"
   },
   {
    "duration": 5,
    "start_time": "2024-06-27T21:45:15.721Z"
   },
   {
    "duration": 167,
    "start_time": "2024-06-27T21:45:15.731Z"
   },
   {
    "duration": 0,
    "start_time": "2024-06-27T21:45:15.900Z"
   },
   {
    "duration": 0,
    "start_time": "2024-06-27T21:45:15.902Z"
   },
   {
    "duration": 0,
    "start_time": "2024-06-27T21:45:15.903Z"
   },
   {
    "duration": 0,
    "start_time": "2024-06-27T21:45:15.905Z"
   },
   {
    "duration": 0,
    "start_time": "2024-06-27T21:45:15.907Z"
   },
   {
    "duration": 1200,
    "start_time": "2024-06-27T21:46:59.414Z"
   },
   {
    "duration": 5,
    "start_time": "2024-06-27T21:47:00.616Z"
   },
   {
    "duration": 195,
    "start_time": "2024-06-27T21:47:00.623Z"
   },
   {
    "duration": 1126,
    "start_time": "2024-06-27T21:47:00.820Z"
   },
   {
    "duration": 0,
    "start_time": "2024-06-27T21:47:01.948Z"
   },
   {
    "duration": 0,
    "start_time": "2024-06-27T21:47:01.949Z"
   },
   {
    "duration": 0,
    "start_time": "2024-06-27T21:47:01.951Z"
   },
   {
    "duration": 0,
    "start_time": "2024-06-27T21:47:01.952Z"
   },
   {
    "duration": 55,
    "start_time": "2024-06-27T21:47:39.053Z"
   },
   {
    "duration": 1244,
    "start_time": "2024-06-27T21:48:25.269Z"
   },
   {
    "duration": 7,
    "start_time": "2024-06-27T21:48:26.516Z"
   },
   {
    "duration": 52,
    "start_time": "2024-06-27T21:48:26.525Z"
   },
   {
    "duration": 1118,
    "start_time": "2024-06-27T21:48:26.580Z"
   },
   {
    "duration": 0,
    "start_time": "2024-06-27T21:48:27.700Z"
   },
   {
    "duration": 0,
    "start_time": "2024-06-27T21:48:27.701Z"
   },
   {
    "duration": 0,
    "start_time": "2024-06-27T21:48:27.703Z"
   },
   {
    "duration": 0,
    "start_time": "2024-06-27T21:48:27.704Z"
   },
   {
    "duration": 4,
    "start_time": "2024-06-27T21:48:42.899Z"
   },
   {
    "duration": 56,
    "start_time": "2024-06-27T21:48:43.802Z"
   },
   {
    "duration": 48,
    "start_time": "2024-06-27T21:49:22.582Z"
   },
   {
    "duration": 1235,
    "start_time": "2024-06-27T21:49:31.060Z"
   },
   {
    "duration": 5,
    "start_time": "2024-06-27T21:49:32.297Z"
   },
   {
    "duration": 117,
    "start_time": "2024-06-27T21:49:32.304Z"
   },
   {
    "duration": 15,
    "start_time": "2024-06-27T21:49:32.423Z"
   },
   {
    "duration": 30,
    "start_time": "2024-06-27T21:49:32.440Z"
   },
   {
    "duration": 133,
    "start_time": "2024-06-27T21:49:32.472Z"
   },
   {
    "duration": 6,
    "start_time": "2024-06-27T21:49:32.607Z"
   },
   {
    "duration": 146,
    "start_time": "2024-06-27T21:49:32.615Z"
   },
   {
    "duration": 7,
    "start_time": "2024-06-27T21:51:47.461Z"
   },
   {
    "duration": 64,
    "start_time": "2024-06-27T21:51:48.792Z"
   },
   {
    "duration": 4,
    "start_time": "2024-06-27T21:51:52.843Z"
   },
   {
    "duration": 6,
    "start_time": "2024-06-27T21:51:53.261Z"
   },
   {
    "duration": 45,
    "start_time": "2024-06-27T21:51:53.781Z"
   },
   {
    "duration": 16,
    "start_time": "2024-06-27T21:51:58.207Z"
   },
   {
    "duration": 21,
    "start_time": "2024-06-27T21:51:59.811Z"
   },
   {
    "duration": 115,
    "start_time": "2024-06-27T21:52:02.561Z"
   },
   {
    "duration": 1210,
    "start_time": "2024-06-27T21:52:07.111Z"
   },
   {
    "duration": 6,
    "start_time": "2024-06-27T21:52:08.324Z"
   },
   {
    "duration": 54,
    "start_time": "2024-06-27T21:52:08.332Z"
   },
   {
    "duration": 13,
    "start_time": "2024-06-27T21:52:08.389Z"
   },
   {
    "duration": 13,
    "start_time": "2024-06-27T21:52:08.403Z"
   },
   {
    "duration": 97,
    "start_time": "2024-06-27T21:52:08.418Z"
   },
   {
    "duration": 6,
    "start_time": "2024-06-27T21:52:08.517Z"
   },
   {
    "duration": 10,
    "start_time": "2024-06-27T21:52:08.525Z"
   },
   {
    "duration": 9,
    "start_time": "2024-06-27T22:09:34.583Z"
   },
   {
    "duration": 1213,
    "start_time": "2024-06-27T22:26:48.394Z"
   },
   {
    "duration": 4,
    "start_time": "2024-06-27T22:26:49.609Z"
   },
   {
    "duration": 55,
    "start_time": "2024-06-27T22:26:49.615Z"
   },
   {
    "duration": 12,
    "start_time": "2024-06-27T22:26:49.672Z"
   },
   {
    "duration": 13,
    "start_time": "2024-06-27T22:26:49.686Z"
   },
   {
    "duration": 90,
    "start_time": "2024-06-27T22:26:49.701Z"
   },
   {
    "duration": 5,
    "start_time": "2024-06-27T22:26:49.793Z"
   },
   {
    "duration": 147,
    "start_time": "2024-06-27T22:27:06.668Z"
   },
   {
    "duration": 1298,
    "start_time": "2024-06-27T22:27:18.932Z"
   },
   {
    "duration": 5,
    "start_time": "2024-06-27T22:27:20.233Z"
   },
   {
    "duration": 58,
    "start_time": "2024-06-27T22:27:20.240Z"
   },
   {
    "duration": 15,
    "start_time": "2024-06-27T22:27:20.301Z"
   },
   {
    "duration": 13,
    "start_time": "2024-06-27T22:27:20.318Z"
   },
   {
    "duration": 92,
    "start_time": "2024-06-27T22:27:20.333Z"
   },
   {
    "duration": 7,
    "start_time": "2024-06-27T22:27:20.427Z"
   },
   {
    "duration": 130,
    "start_time": "2024-06-27T22:27:20.436Z"
   },
   {
    "duration": 187,
    "start_time": "2024-06-27T22:28:40.665Z"
   },
   {
    "duration": 193,
    "start_time": "2024-06-27T22:30:15.250Z"
   },
   {
    "duration": 92,
    "start_time": "2024-06-27T22:30:58.812Z"
   },
   {
    "duration": 6,
    "start_time": "2024-06-27T22:31:00.996Z"
   },
   {
    "duration": 1256,
    "start_time": "2024-06-27T22:31:09.000Z"
   },
   {
    "duration": 6,
    "start_time": "2024-06-27T22:31:10.259Z"
   },
   {
    "duration": 70,
    "start_time": "2024-06-27T22:31:10.267Z"
   },
   {
    "duration": 13,
    "start_time": "2024-06-27T22:31:10.340Z"
   },
   {
    "duration": 20,
    "start_time": "2024-06-27T22:31:10.356Z"
   },
   {
    "duration": 95,
    "start_time": "2024-06-27T22:31:10.378Z"
   },
   {
    "duration": 126,
    "start_time": "2024-06-27T22:31:10.475Z"
   },
   {
    "duration": 0,
    "start_time": "2024-06-27T22:31:10.603Z"
   },
   {
    "duration": 472,
    "start_time": "2024-06-27T22:31:20.917Z"
   },
   {
    "duration": 11,
    "start_time": "2024-06-27T22:32:11.483Z"
   },
   {
    "duration": 239,
    "start_time": "2024-06-27T22:32:20.340Z"
   },
   {
    "duration": 255,
    "start_time": "2024-06-27T22:33:01.576Z"
   },
   {
    "duration": 3,
    "start_time": "2024-06-27T22:33:07.234Z"
   },
   {
    "duration": 265,
    "start_time": "2024-06-27T22:33:10.305Z"
   },
   {
    "duration": 1251,
    "start_time": "2024-06-27T22:33:19.984Z"
   },
   {
    "duration": 5,
    "start_time": "2024-06-27T22:33:21.237Z"
   },
   {
    "duration": 92,
    "start_time": "2024-06-27T22:33:21.248Z"
   },
   {
    "duration": 13,
    "start_time": "2024-06-27T22:33:21.342Z"
   },
   {
    "duration": 12,
    "start_time": "2024-06-27T22:33:21.357Z"
   },
   {
    "duration": 82,
    "start_time": "2024-06-27T22:33:21.371Z"
   },
   {
    "duration": 345,
    "start_time": "2024-06-27T22:33:21.455Z"
   },
   {
    "duration": 0,
    "start_time": "2024-06-27T22:33:21.801Z"
   },
   {
    "duration": 7,
    "start_time": "2024-06-27T22:34:13.646Z"
   },
   {
    "duration": 236,
    "start_time": "2024-06-27T22:34:18.105Z"
   },
   {
    "duration": 215,
    "start_time": "2024-06-27T22:34:58.423Z"
   },
   {
    "duration": 1281,
    "start_time": "2024-06-27T22:35:05.335Z"
   },
   {
    "duration": 5,
    "start_time": "2024-06-27T22:35:06.618Z"
   },
   {
    "duration": 79,
    "start_time": "2024-06-27T22:35:06.624Z"
   },
   {
    "duration": 13,
    "start_time": "2024-06-27T22:35:06.706Z"
   },
   {
    "duration": 14,
    "start_time": "2024-06-27T22:35:06.721Z"
   },
   {
    "duration": 136,
    "start_time": "2024-06-27T22:35:06.736Z"
   },
   {
    "duration": 14,
    "start_time": "2024-06-27T22:35:06.874Z"
   },
   {
    "duration": 370,
    "start_time": "2024-06-27T22:35:06.890Z"
   },
   {
    "duration": 32,
    "start_time": "2024-06-27T22:35:36.191Z"
   },
   {
    "duration": 294,
    "start_time": "2024-06-27T22:36:05.145Z"
   },
   {
    "duration": 305,
    "start_time": "2024-06-27T22:36:27.419Z"
   },
   {
    "duration": 243,
    "start_time": "2024-06-27T22:48:01.640Z"
   },
   {
    "duration": 1236,
    "start_time": "2024-06-27T22:48:13.758Z"
   },
   {
    "duration": 4,
    "start_time": "2024-06-27T22:48:14.996Z"
   },
   {
    "duration": 110,
    "start_time": "2024-06-27T22:48:15.002Z"
   },
   {
    "duration": 12,
    "start_time": "2024-06-27T22:48:15.114Z"
   },
   {
    "duration": 28,
    "start_time": "2024-06-27T22:48:15.127Z"
   },
   {
    "duration": 89,
    "start_time": "2024-06-27T22:48:15.157Z"
   },
   {
    "duration": 13,
    "start_time": "2024-06-27T22:48:15.248Z"
   },
   {
    "duration": 414,
    "start_time": "2024-06-27T22:48:15.263Z"
   },
   {
    "duration": 317,
    "start_time": "2024-06-27T22:48:15.679Z"
   },
   {
    "duration": 367,
    "start_time": "2024-06-27T22:48:15.998Z"
   },
   {
    "duration": 459,
    "start_time": "2024-06-27T22:48:56.380Z"
   },
   {
    "duration": 476,
    "start_time": "2024-06-27T22:49:45.434Z"
   },
   {
    "duration": 281,
    "start_time": "2024-06-27T22:52:59.041Z"
   },
   {
    "duration": 218,
    "start_time": "2024-06-27T22:53:01.345Z"
   },
   {
    "duration": 180,
    "start_time": "2024-06-27T22:54:48.109Z"
   },
   {
    "duration": 185,
    "start_time": "2024-06-27T22:55:01.007Z"
   },
   {
    "duration": 381,
    "start_time": "2024-06-27T22:56:16.455Z"
   },
   {
    "duration": 338,
    "start_time": "2024-06-27T22:57:18.126Z"
   },
   {
    "duration": 332,
    "start_time": "2024-06-27T22:57:22.932Z"
   },
   {
    "duration": 203,
    "start_time": "2024-06-27T22:57:26.976Z"
   },
   {
    "duration": 303,
    "start_time": "2024-06-27T22:57:48.196Z"
   },
   {
    "duration": 230,
    "start_time": "2024-06-27T23:02:50.434Z"
   },
   {
    "duration": 259,
    "start_time": "2024-06-27T23:03:10.346Z"
   },
   {
    "duration": 1267,
    "start_time": "2024-06-27T23:06:14.157Z"
   },
   {
    "duration": 4,
    "start_time": "2024-06-27T23:06:15.426Z"
   },
   {
    "duration": 60,
    "start_time": "2024-06-27T23:06:15.432Z"
   },
   {
    "duration": 12,
    "start_time": "2024-06-27T23:06:15.494Z"
   },
   {
    "duration": 16,
    "start_time": "2024-06-27T23:06:15.508Z"
   },
   {
    "duration": 82,
    "start_time": "2024-06-27T23:06:15.526Z"
   },
   {
    "duration": 15,
    "start_time": "2024-06-27T23:06:15.609Z"
   },
   {
    "duration": 392,
    "start_time": "2024-06-27T23:06:15.625Z"
   },
   {
    "duration": 0,
    "start_time": "2024-06-27T23:06:16.019Z"
   },
   {
    "duration": 0,
    "start_time": "2024-06-27T23:06:16.020Z"
   },
   {
    "duration": 0,
    "start_time": "2024-06-27T23:06:16.021Z"
   },
   {
    "duration": 285,
    "start_time": "2024-06-27T23:06:49.688Z"
   },
   {
    "duration": 307,
    "start_time": "2024-06-27T23:06:54.248Z"
   },
   {
    "duration": 235,
    "start_time": "2024-06-27T23:06:54.940Z"
   },
   {
    "duration": 308,
    "start_time": "2024-06-27T23:06:55.572Z"
   },
   {
    "duration": 233,
    "start_time": "2024-06-27T23:07:35.279Z"
   },
   {
    "duration": 13,
    "start_time": "2024-06-27T23:08:54.637Z"
   },
   {
    "duration": 326,
    "start_time": "2024-06-27T23:09:11.984Z"
   },
   {
    "duration": 345,
    "start_time": "2024-06-27T23:09:30.199Z"
   },
   {
    "duration": 384,
    "start_time": "2024-06-27T23:09:51.020Z"
   },
   {
    "duration": 11,
    "start_time": "2024-06-27T23:21:56.972Z"
   },
   {
    "duration": 15,
    "start_time": "2024-06-27T23:22:17.875Z"
   },
   {
    "duration": 16,
    "start_time": "2024-06-27T23:23:01.845Z"
   },
   {
    "duration": 234,
    "start_time": "2024-06-27T23:23:06.251Z"
   },
   {
    "duration": 139,
    "start_time": "2024-06-27T23:24:05.629Z"
   },
   {
    "duration": 158,
    "start_time": "2024-06-27T23:24:54.214Z"
   },
   {
    "duration": 146,
    "start_time": "2024-06-27T23:25:46.729Z"
   },
   {
    "duration": 140,
    "start_time": "2024-06-27T23:25:59.812Z"
   },
   {
    "duration": 138,
    "start_time": "2024-06-27T23:26:52.754Z"
   },
   {
    "duration": 5,
    "start_time": "2024-06-27T23:28:37.545Z"
   },
   {
    "duration": 12,
    "start_time": "2024-06-27T23:31:09.720Z"
   },
   {
    "duration": 16,
    "start_time": "2024-06-27T23:31:22.197Z"
   },
   {
    "duration": 15,
    "start_time": "2024-06-27T23:31:30.565Z"
   },
   {
    "duration": 157,
    "start_time": "2024-06-27T23:31:39.977Z"
   },
   {
    "duration": 175,
    "start_time": "2024-06-27T23:32:30.633Z"
   },
   {
    "duration": 9,
    "start_time": "2024-06-27T23:32:47.109Z"
   },
   {
    "duration": 4,
    "start_time": "2024-06-27T23:32:57.002Z"
   },
   {
    "duration": 1307,
    "start_time": "2024-06-28T11:14:45.389Z"
   },
   {
    "duration": 4,
    "start_time": "2024-06-28T11:14:46.699Z"
   },
   {
    "duration": 108,
    "start_time": "2024-06-28T11:14:46.705Z"
   },
   {
    "duration": 13,
    "start_time": "2024-06-28T11:14:46.815Z"
   },
   {
    "duration": 40,
    "start_time": "2024-06-28T11:14:46.829Z"
   },
   {
    "duration": 188,
    "start_time": "2024-06-28T11:14:46.871Z"
   },
   {
    "duration": 13,
    "start_time": "2024-06-28T11:14:47.061Z"
   },
   {
    "duration": 305,
    "start_time": "2024-06-28T11:14:47.076Z"
   },
   {
    "duration": 300,
    "start_time": "2024-06-28T11:14:47.383Z"
   },
   {
    "duration": 203,
    "start_time": "2024-06-28T11:14:47.685Z"
   },
   {
    "duration": 333,
    "start_time": "2024-06-28T11:14:47.889Z"
   },
   {
    "duration": 239,
    "start_time": "2024-06-28T11:14:48.223Z"
   },
   {
    "duration": 347,
    "start_time": "2024-06-28T11:14:48.464Z"
   },
   {
    "duration": 149,
    "start_time": "2024-06-28T11:14:48.813Z"
   },
   {
    "duration": 5,
    "start_time": "2024-06-28T11:14:48.963Z"
   },
   {
    "duration": 150,
    "start_time": "2024-06-28T11:14:48.970Z"
   },
   {
    "duration": 4,
    "start_time": "2024-06-28T11:14:49.122Z"
   },
   {
    "duration": 289,
    "start_time": "2024-06-28T11:45:58.138Z"
   },
   {
    "duration": 201,
    "start_time": "2024-06-28T11:46:07.172Z"
   },
   {
    "duration": 208,
    "start_time": "2024-06-28T11:46:13.597Z"
   },
   {
    "duration": 110,
    "start_time": "2024-06-28T11:57:07.210Z"
   },
   {
    "duration": 9,
    "start_time": "2024-06-28T11:57:16.675Z"
   },
   {
    "duration": 6,
    "start_time": "2024-06-28T11:57:29.496Z"
   },
   {
    "duration": 11,
    "start_time": "2024-06-28T11:58:06.556Z"
   },
   {
    "duration": 10,
    "start_time": "2024-06-28T11:58:11.197Z"
   },
   {
    "duration": 326,
    "start_time": "2024-06-28T11:58:14.230Z"
   },
   {
    "duration": 5,
    "start_time": "2024-06-28T11:58:21.878Z"
   },
   {
    "duration": 1194,
    "start_time": "2024-06-28T19:45:50.767Z"
   },
   {
    "duration": 4,
    "start_time": "2024-06-28T19:45:51.962Z"
   },
   {
    "duration": 99,
    "start_time": "2024-06-28T19:45:51.967Z"
   },
   {
    "duration": 9,
    "start_time": "2024-06-28T19:45:52.069Z"
   },
   {
    "duration": 60,
    "start_time": "2024-06-28T19:45:52.079Z"
   },
   {
    "duration": 184,
    "start_time": "2024-06-28T19:45:52.140Z"
   },
   {
    "duration": 11,
    "start_time": "2024-06-28T19:45:52.325Z"
   },
   {
    "duration": 7,
    "start_time": "2024-06-28T19:45:52.337Z"
   },
   {
    "duration": 238,
    "start_time": "2024-06-28T19:45:52.345Z"
   },
   {
    "duration": 229,
    "start_time": "2024-06-28T19:45:52.585Z"
   },
   {
    "duration": 161,
    "start_time": "2024-06-28T19:45:52.815Z"
   },
   {
    "duration": 337,
    "start_time": "2024-06-28T19:45:52.978Z"
   },
   {
    "duration": 202,
    "start_time": "2024-06-28T19:45:53.317Z"
   },
   {
    "duration": 305,
    "start_time": "2024-06-28T19:45:53.520Z"
   },
   {
    "duration": 113,
    "start_time": "2024-06-28T19:45:53.826Z"
   },
   {
    "duration": 4,
    "start_time": "2024-06-28T19:45:53.940Z"
   },
   {
    "duration": 136,
    "start_time": "2024-06-28T19:45:53.945Z"
   },
   {
    "duration": 3,
    "start_time": "2024-06-28T19:45:54.082Z"
   },
   {
    "duration": 217,
    "start_time": "2024-06-28T22:03:43.767Z"
   },
   {
    "duration": 134,
    "start_time": "2024-06-28T22:06:16.072Z"
   },
   {
    "duration": 169,
    "start_time": "2024-06-28T22:06:38.356Z"
   },
   {
    "duration": 119,
    "start_time": "2024-06-28T22:07:48.389Z"
   },
   {
    "duration": 4,
    "start_time": "2024-06-28T22:08:24.791Z"
   },
   {
    "duration": 133,
    "start_time": "2024-06-28T22:08:30.031Z"
   },
   {
    "duration": 983,
    "start_time": "2024-06-28T22:08:35.063Z"
   },
   {
    "duration": 3,
    "start_time": "2024-06-28T22:08:36.048Z"
   },
   {
    "duration": 46,
    "start_time": "2024-06-28T22:08:36.053Z"
   },
   {
    "duration": 9,
    "start_time": "2024-06-28T22:08:36.101Z"
   },
   {
    "duration": 10,
    "start_time": "2024-06-28T22:08:36.111Z"
   },
   {
    "duration": 73,
    "start_time": "2024-06-28T22:08:36.122Z"
   },
   {
    "duration": 10,
    "start_time": "2024-06-28T22:08:36.197Z"
   },
   {
    "duration": 39,
    "start_time": "2024-06-28T22:08:36.208Z"
   },
   {
    "duration": 240,
    "start_time": "2024-06-28T22:08:36.249Z"
   },
   {
    "duration": 236,
    "start_time": "2024-06-28T22:08:36.491Z"
   },
   {
    "duration": 159,
    "start_time": "2024-06-28T22:08:36.729Z"
   },
   {
    "duration": 277,
    "start_time": "2024-06-28T22:08:36.889Z"
   },
   {
    "duration": 192,
    "start_time": "2024-06-28T22:08:37.167Z"
   },
   {
    "duration": 309,
    "start_time": "2024-06-28T22:08:37.360Z"
   },
   {
    "duration": 108,
    "start_time": "2024-06-28T22:08:37.671Z"
   },
   {
    "duration": 4,
    "start_time": "2024-06-28T22:08:37.780Z"
   },
   {
    "duration": 128,
    "start_time": "2024-06-28T22:08:37.785Z"
   },
   {
    "duration": 3,
    "start_time": "2024-06-28T22:08:37.915Z"
   },
   {
    "duration": 238,
    "start_time": "2024-06-28T22:08:37.919Z"
   },
   {
    "duration": 137,
    "start_time": "2024-06-28T22:08:38.158Z"
   },
   {
    "duration": 135,
    "start_time": "2024-06-28T22:22:35.674Z"
   },
   {
    "duration": 201,
    "start_time": "2024-06-28T22:33:14.587Z"
   },
   {
    "duration": 165,
    "start_time": "2024-06-28T22:39:50.189Z"
   },
   {
    "duration": 82,
    "start_time": "2024-06-28T22:40:41.126Z"
   },
   {
    "duration": 168,
    "start_time": "2024-06-28T22:41:06.387Z"
   },
   {
    "duration": 171,
    "start_time": "2024-06-28T22:54:40.934Z"
   },
   {
    "duration": 171,
    "start_time": "2024-06-28T22:55:29.147Z"
   },
   {
    "duration": 167,
    "start_time": "2024-06-28T22:55:35.572Z"
   },
   {
    "duration": 169,
    "start_time": "2024-06-28T22:56:18.377Z"
   },
   {
    "duration": 137,
    "start_time": "2024-06-28T22:56:46.065Z"
   },
   {
    "duration": 123,
    "start_time": "2024-06-28T23:12:36.839Z"
   },
   {
    "duration": 136,
    "start_time": "2024-06-28T23:12:48.769Z"
   },
   {
    "duration": 157,
    "start_time": "2024-06-28T23:13:15.173Z"
   },
   {
    "duration": 144,
    "start_time": "2024-06-28T23:13:21.128Z"
   },
   {
    "duration": 65,
    "start_time": "2024-06-28T23:15:19.881Z"
   },
   {
    "duration": 71,
    "start_time": "2024-06-28T23:15:36.807Z"
   },
   {
    "duration": 136,
    "start_time": "2024-06-28T23:15:52.152Z"
   },
   {
    "duration": 129,
    "start_time": "2024-06-28T23:16:39.404Z"
   },
   {
    "duration": 142,
    "start_time": "2024-06-28T23:16:57.916Z"
   },
   {
    "duration": 201,
    "start_time": "2024-06-28T23:17:20.936Z"
   },
   {
    "duration": 123,
    "start_time": "2024-06-28T23:17:32.356Z"
   },
   {
    "duration": 144,
    "start_time": "2024-06-28T23:17:46.464Z"
   },
   {
    "duration": 133,
    "start_time": "2024-06-28T23:17:51.418Z"
   },
   {
    "duration": 125,
    "start_time": "2024-06-28T23:17:55.030Z"
   },
   {
    "duration": 142,
    "start_time": "2024-06-28T23:18:21.058Z"
   },
   {
    "duration": 127,
    "start_time": "2024-06-28T23:18:25.321Z"
   },
   {
    "duration": 131,
    "start_time": "2024-06-28T23:18:34.617Z"
   },
   {
    "duration": 70,
    "start_time": "2024-06-28T23:24:26.605Z"
   },
   {
    "duration": 62,
    "start_time": "2024-06-28T23:24:59.742Z"
   },
   {
    "duration": 62,
    "start_time": "2024-06-28T23:25:29.544Z"
   },
   {
    "duration": 8,
    "start_time": "2024-06-28T23:25:39.911Z"
   },
   {
    "duration": 8,
    "start_time": "2024-06-28T23:25:48.955Z"
   },
   {
    "duration": 8,
    "start_time": "2024-06-28T23:26:18.820Z"
   },
   {
    "duration": 8,
    "start_time": "2024-06-28T23:26:27.024Z"
   },
   {
    "duration": 8,
    "start_time": "2024-06-28T23:26:35.802Z"
   },
   {
    "duration": 8,
    "start_time": "2024-06-28T23:26:50.968Z"
   },
   {
    "duration": 76,
    "start_time": "2024-06-28T23:27:15.877Z"
   },
   {
    "duration": 8,
    "start_time": "2024-06-28T23:27:25.115Z"
   },
   {
    "duration": 7,
    "start_time": "2024-06-28T23:35:46.371Z"
   },
   {
    "duration": 7,
    "start_time": "2024-06-28T23:35:56.793Z"
   },
   {
    "duration": 990,
    "start_time": "2024-06-28T23:40:17.063Z"
   },
   {
    "duration": 22,
    "start_time": "2024-06-28T23:40:36.308Z"
   },
   {
    "duration": 7,
    "start_time": "2024-06-28T23:41:47.124Z"
   },
   {
    "duration": 9,
    "start_time": "2024-06-28T23:41:56.771Z"
   },
   {
    "duration": 10,
    "start_time": "2024-06-28T23:47:04.197Z"
   },
   {
    "duration": 8,
    "start_time": "2024-06-28T23:47:43.717Z"
   },
   {
    "duration": 8,
    "start_time": "2024-06-28T23:47:56.211Z"
   },
   {
    "duration": 126,
    "start_time": "2024-06-28T23:48:08.314Z"
   },
   {
    "duration": 11,
    "start_time": "2024-06-28T23:48:54.709Z"
   },
   {
    "duration": 11,
    "start_time": "2024-06-28T23:49:52.165Z"
   },
   {
    "duration": 11,
    "start_time": "2024-06-28T23:51:43.525Z"
   },
   {
    "duration": 1020,
    "start_time": "2024-06-29T00:12:08.827Z"
   },
   {
    "duration": 5,
    "start_time": "2024-06-29T00:12:09.848Z"
   },
   {
    "duration": 60,
    "start_time": "2024-06-29T00:12:09.855Z"
   },
   {
    "duration": 10,
    "start_time": "2024-06-29T00:12:09.917Z"
   },
   {
    "duration": 12,
    "start_time": "2024-06-29T00:12:09.928Z"
   },
   {
    "duration": 78,
    "start_time": "2024-06-29T00:12:09.941Z"
   },
   {
    "duration": 12,
    "start_time": "2024-06-29T00:12:10.021Z"
   },
   {
    "duration": 18,
    "start_time": "2024-06-29T00:12:10.034Z"
   },
   {
    "duration": 281,
    "start_time": "2024-06-29T00:12:10.053Z"
   },
   {
    "duration": 249,
    "start_time": "2024-06-29T00:12:10.338Z"
   },
   {
    "duration": 164,
    "start_time": "2024-06-29T00:12:10.589Z"
   },
   {
    "duration": 263,
    "start_time": "2024-06-29T00:12:10.754Z"
   },
   {
    "duration": 209,
    "start_time": "2024-06-29T00:12:11.019Z"
   },
   {
    "duration": 351,
    "start_time": "2024-06-29T00:12:11.230Z"
   },
   {
    "duration": 119,
    "start_time": "2024-06-29T00:12:11.582Z"
   },
   {
    "duration": 4,
    "start_time": "2024-06-29T00:12:11.703Z"
   },
   {
    "duration": 126,
    "start_time": "2024-06-29T00:12:11.708Z"
   },
   {
    "duration": 4,
    "start_time": "2024-06-29T00:12:11.835Z"
   },
   {
    "duration": 232,
    "start_time": "2024-06-29T00:12:11.840Z"
   },
   {
    "duration": 139,
    "start_time": "2024-06-29T00:12:12.074Z"
   },
   {
    "duration": 8,
    "start_time": "2024-06-29T00:12:12.215Z"
   },
   {
    "duration": 18,
    "start_time": "2024-06-29T00:12:12.224Z"
   },
   {
    "duration": 42,
    "start_time": "2024-06-29T00:12:12.243Z"
   },
   {
    "duration": 28,
    "start_time": "2024-06-29T00:12:12.286Z"
   },
   {
    "duration": 1247,
    "start_time": "2024-06-29T09:30:02.150Z"
   },
   {
    "duration": 4,
    "start_time": "2024-06-29T09:30:03.399Z"
   },
   {
    "duration": 99,
    "start_time": "2024-06-29T09:30:03.409Z"
   },
   {
    "duration": 11,
    "start_time": "2024-06-29T09:30:03.509Z"
   },
   {
    "duration": 13,
    "start_time": "2024-06-29T09:30:03.522Z"
   },
   {
    "duration": 157,
    "start_time": "2024-06-29T09:30:03.537Z"
   },
   {
    "duration": 14,
    "start_time": "2024-06-29T09:30:03.696Z"
   },
   {
    "duration": 6,
    "start_time": "2024-06-29T09:30:03.711Z"
   },
   {
    "duration": 268,
    "start_time": "2024-06-29T09:30:03.719Z"
   },
   {
    "duration": 278,
    "start_time": "2024-06-29T09:30:03.988Z"
   },
   {
    "duration": 186,
    "start_time": "2024-06-29T09:30:04.267Z"
   },
   {
    "duration": 295,
    "start_time": "2024-06-29T09:30:04.455Z"
   },
   {
    "duration": 201,
    "start_time": "2024-06-29T09:30:04.751Z"
   },
   {
    "duration": 294,
    "start_time": "2024-06-29T09:30:04.954Z"
   },
   {
    "duration": 135,
    "start_time": "2024-06-29T09:30:05.250Z"
   },
   {
    "duration": 4,
    "start_time": "2024-06-29T09:30:05.386Z"
   },
   {
    "duration": 143,
    "start_time": "2024-06-29T09:30:05.391Z"
   },
   {
    "duration": 4,
    "start_time": "2024-06-29T09:30:05.536Z"
   },
   {
    "duration": 308,
    "start_time": "2024-06-29T09:30:05.542Z"
   },
   {
    "duration": 164,
    "start_time": "2024-06-29T09:30:05.851Z"
   },
   {
    "duration": 8,
    "start_time": "2024-06-29T09:30:06.017Z"
   },
   {
    "duration": 23,
    "start_time": "2024-06-29T09:30:06.026Z"
   },
   {
    "duration": 25,
    "start_time": "2024-06-29T09:30:06.051Z"
   },
   {
    "duration": 15,
    "start_time": "2024-06-29T09:30:06.078Z"
   },
   {
    "duration": 12,
    "start_time": "2024-06-29T09:34:38.965Z"
   },
   {
    "duration": 49,
    "start_time": "2024-06-29T09:35:43.930Z"
   },
   {
    "duration": 11,
    "start_time": "2024-06-29T09:35:58.505Z"
   },
   {
    "duration": 69,
    "start_time": "2024-06-30T14:50:50.135Z"
   },
   {
    "duration": 1456,
    "start_time": "2024-06-30T14:50:54.262Z"
   },
   {
    "duration": 4,
    "start_time": "2024-06-30T14:50:55.720Z"
   },
   {
    "duration": 125,
    "start_time": "2024-06-30T14:50:55.725Z"
   },
   {
    "duration": 14,
    "start_time": "2024-06-30T14:50:55.852Z"
   },
   {
    "duration": 233,
    "start_time": "2024-06-30T14:50:55.867Z"
   },
   {
    "duration": 265,
    "start_time": "2024-06-30T14:50:56.101Z"
   },
   {
    "duration": 13,
    "start_time": "2024-06-30T14:50:56.367Z"
   },
   {
    "duration": 49,
    "start_time": "2024-06-30T14:50:56.381Z"
   },
   {
    "duration": 292,
    "start_time": "2024-06-30T14:50:56.431Z"
   },
   {
    "duration": 303,
    "start_time": "2024-06-30T14:50:56.725Z"
   },
   {
    "duration": 229,
    "start_time": "2024-06-30T14:50:57.030Z"
   },
   {
    "duration": 362,
    "start_time": "2024-06-30T14:50:57.261Z"
   },
   {
    "duration": 233,
    "start_time": "2024-06-30T14:50:57.625Z"
   },
   {
    "duration": 295,
    "start_time": "2024-06-30T14:50:57.861Z"
   },
   {
    "duration": 146,
    "start_time": "2024-06-30T14:50:58.158Z"
   },
   {
    "duration": 4,
    "start_time": "2024-06-30T14:50:58.306Z"
   },
   {
    "duration": 160,
    "start_time": "2024-06-30T14:50:58.312Z"
   },
   {
    "duration": 4,
    "start_time": "2024-06-30T14:50:58.474Z"
   },
   {
    "duration": 343,
    "start_time": "2024-06-30T14:50:58.480Z"
   },
   {
    "duration": 199,
    "start_time": "2024-06-30T14:50:58.825Z"
   },
   {
    "duration": 22,
    "start_time": "2024-06-30T14:50:59.026Z"
   },
   {
    "duration": 32,
    "start_time": "2024-06-30T14:50:59.050Z"
   },
   {
    "duration": 40,
    "start_time": "2024-06-30T14:50:59.083Z"
   },
   {
    "duration": 14,
    "start_time": "2024-06-30T14:50:59.125Z"
   },
   {
    "duration": 1151,
    "start_time": "2024-06-30T20:44:57.670Z"
   },
   {
    "duration": 4,
    "start_time": "2024-06-30T20:44:58.822Z"
   },
   {
    "duration": 99,
    "start_time": "2024-06-30T20:44:58.827Z"
   },
   {
    "duration": 9,
    "start_time": "2024-06-30T20:44:58.928Z"
   },
   {
    "duration": 10,
    "start_time": "2024-06-30T20:44:58.939Z"
   },
   {
    "duration": 155,
    "start_time": "2024-06-30T20:44:58.950Z"
   },
   {
    "duration": 16,
    "start_time": "2024-06-30T20:44:59.106Z"
   },
   {
    "duration": 5,
    "start_time": "2024-06-30T20:44:59.124Z"
   },
   {
    "duration": 253,
    "start_time": "2024-06-30T20:44:59.131Z"
   },
   {
    "duration": 242,
    "start_time": "2024-06-30T20:44:59.387Z"
   },
   {
    "duration": 177,
    "start_time": "2024-06-30T20:44:59.630Z"
   },
   {
    "duration": 329,
    "start_time": "2024-06-30T20:44:59.808Z"
   },
   {
    "duration": 185,
    "start_time": "2024-06-30T20:45:00.139Z"
   },
   {
    "duration": 263,
    "start_time": "2024-06-30T20:45:00.325Z"
   },
   {
    "duration": 113,
    "start_time": "2024-06-30T20:45:00.590Z"
   },
   {
    "duration": 4,
    "start_time": "2024-06-30T20:45:00.704Z"
   },
   {
    "duration": 183,
    "start_time": "2024-06-30T20:45:00.709Z"
   },
   {
    "duration": 4,
    "start_time": "2024-06-30T20:45:00.893Z"
   },
   {
    "duration": 218,
    "start_time": "2024-06-30T20:45:00.898Z"
   },
   {
    "duration": 142,
    "start_time": "2024-06-30T20:45:01.117Z"
   },
   {
    "duration": 13,
    "start_time": "2024-06-30T20:45:01.260Z"
   },
   {
    "duration": 49,
    "start_time": "2024-06-30T20:45:01.274Z"
   },
   {
    "duration": 43,
    "start_time": "2024-06-30T20:45:01.324Z"
   },
   {
    "duration": 60,
    "start_time": "2024-06-30T20:45:01.369Z"
   }
  ],
  "kernelspec": {
   "display_name": "Python 3 (ipykernel)",
   "language": "python",
   "name": "python3"
  },
  "language_info": {
   "codemirror_mode": {
    "name": "ipython",
    "version": 3
   },
   "file_extension": ".py",
   "mimetype": "text/x-python",
   "name": "python",
   "nbconvert_exporter": "python",
   "pygments_lexer": "ipython3",
   "version": "3.11.5"
  },
  "toc": {
   "base_numbering": 1,
   "nav_menu": {
    "height": "17px",
    "width": "160px"
   },
   "number_sections": true,
   "sideBar": true,
   "skip_h1_title": true,
   "title_cell": "Принятие решений в бизнесе",
   "title_sidebar": "Contents",
   "toc_cell": true,
   "toc_position": {
    "height": "calc(100% - 180px)",
    "left": "10px",
    "top": "150px",
    "width": "391px"
   },
   "toc_section_display": true,
   "toc_window_display": true
  }
 },
 "nbformat": 4,
 "nbformat_minor": 2
}
