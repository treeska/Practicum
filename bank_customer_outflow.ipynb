{
 "cells": [
  {
   "cell_type": "markdown",
   "metadata": {
    "toc": true
   },
   "source": [
    "<h1>Анализ оттока клиентов банка<span class=\"tocSkip\"></span></h1>\n",
    "<div class=\"toc\"><ul class=\"toc-item\"><li><span><a href=\"#Загрузка-данных-и-изучение-общей-информации\" data-toc-modified-id=\"Загрузка-данных-и-изучение-общей-информации-1\"><span class=\"toc-item-num\">1&nbsp;&nbsp;</span>Загрузка данных и изучение общей информации</a></span></li><li><span><a href=\"#Предобработка-данных\" data-toc-modified-id=\"Предобработка-данных-2\"><span class=\"toc-item-num\">2&nbsp;&nbsp;</span>Предобработка данных</a></span><ul class=\"toc-item\"><li><span><a href=\"#Переименование-столбцов\" data-toc-modified-id=\"Переименование-столбцов-2.1\"><span class=\"toc-item-num\">2.1&nbsp;&nbsp;</span>Переименование столбцов</a></span></li><li><span><a href=\"#Обработка-пропусков\" data-toc-modified-id=\"Обработка-пропусков-2.2\"><span class=\"toc-item-num\">2.2&nbsp;&nbsp;</span>Обработка пропусков</a></span><ul class=\"toc-item\"><li><span><a href=\"#Кодирование-для-использования-в-анализе-корреляции\" data-toc-modified-id=\"Кодирование-для-использования-в-анализе-корреляции-2.2.1\"><span class=\"toc-item-num\">2.2.1&nbsp;&nbsp;</span>Кодирование для использования в анализе корреляции</a></span></li></ul></li><li><span><a href=\"#Изменение-типов-данных\" data-toc-modified-id=\"Изменение-типов-данных-2.3\"><span class=\"toc-item-num\">2.3&nbsp;&nbsp;</span>Изменение типов данных</a></span></li><li><span><a href=\"#Поиск-дубликатов\" data-toc-modified-id=\"Поиск-дубликатов-2.4\"><span class=\"toc-item-num\">2.4&nbsp;&nbsp;</span>Поиск дубликатов</a></span></li></ul></li><li><span><a href=\"#Исследовательский-анализ\" data-toc-modified-id=\"Исследовательский-анализ-3\"><span class=\"toc-item-num\">3&nbsp;&nbsp;</span>Исследовательский анализ</a></span><ul class=\"toc-item\"><li><span><a href=\"#Анализ-распределения-признаков-в-разрезе-оттока\" data-toc-modified-id=\"Анализ-распределения-признаков-в-разрезе-оттока-3.1\"><span class=\"toc-item-num\">3.1&nbsp;&nbsp;</span>Анализ распределения признаков в разрезе оттока</a></span></li><li><span><a href=\"#Анализ-портретов-клиентов-в-разрезе-оттока\" data-toc-modified-id=\"Анализ-портретов-клиентов-в-разрезе-оттока-3.2\"><span class=\"toc-item-num\">3.2&nbsp;&nbsp;</span>Анализ портретов клиентов в разрезе оттока</a></span></li><li><span><a href=\"#Корреляционный-анализ-признака-churn\" data-toc-modified-id=\"Корреляционный-анализ-признака-churn-3.3\"><span class=\"toc-item-num\">3.3&nbsp;&nbsp;</span>Корреляционный анализ признака churn</a></span></li></ul></li><li><span><a href=\"#Проверка-гипотез\" data-toc-modified-id=\"Проверка-гипотез-4\"><span class=\"toc-item-num\">4&nbsp;&nbsp;</span>Проверка гипотез</a></span><ul class=\"toc-item\"><li><span><a href=\"#Гипотеза-о-влиянии-уровня-дохода-на-вероятность-ухода\" data-toc-modified-id=\"Гипотеза-о-влиянии-уровня-дохода-на-вероятность-ухода-4.1\"><span class=\"toc-item-num\">4.1&nbsp;&nbsp;</span>Гипотеза о влиянии уровня дохода на вероятность ухода</a></span></li><li><span><a href=\"#Гипотеза-о-влиянии-возраста-на-риск-ухода\" data-toc-modified-id=\"Гипотеза-о-влиянии-возраста-на-риск-ухода-4.2\"><span class=\"toc-item-num\">4.2&nbsp;&nbsp;</span>Гипотеза о влиянии возраста на риск ухода</a></span></li></ul></li><li><span><a href=\"#Промежуточные-выводы\" data-toc-modified-id=\"Промежуточные-выводы-5\"><span class=\"toc-item-num\">5&nbsp;&nbsp;</span>Промежуточные выводы</a></span></li><li><span><a href=\"#Сегментация-и-приоритезация-сегментов\" data-toc-modified-id=\"Сегментация-и-приоритезация-сегментов-6\"><span class=\"toc-item-num\">6&nbsp;&nbsp;</span>Сегментация и приоритезация сегментов</a></span><ul class=\"toc-item\"><li><span><a href=\"#Выявление-групп-клиентов,-склонных-к-уходу\" data-toc-modified-id=\"Выявление-групп-клиентов,-склонных-к-уходу-6.1\"><span class=\"toc-item-num\">6.1&nbsp;&nbsp;</span>Выявление групп клиентов, склонных к уходу</a></span><ul class=\"toc-item\"><li><span><a href=\"#Сегмент-1\" data-toc-modified-id=\"Сегмент-1-6.1.1\"><span class=\"toc-item-num\">6.1.1&nbsp;&nbsp;</span>Сегмент 1</a></span></li><li><span><a href=\"#Сегмент-2\" data-toc-modified-id=\"Сегмент-2-6.1.2\"><span class=\"toc-item-num\">6.1.2&nbsp;&nbsp;</span>Сегмент 2</a></span></li><li><span><a href=\"#Сегмент-3\" data-toc-modified-id=\"Сегмент-3-6.1.3\"><span class=\"toc-item-num\">6.1.3&nbsp;&nbsp;</span>Сегмент 3</a></span></li><li><span><a href=\"#Сегмент-4\" data-toc-modified-id=\"Сегмент-4-6.1.4\"><span class=\"toc-item-num\">6.1.4&nbsp;&nbsp;</span>Сегмент 4</a></span></li></ul></li><li><span><a href=\"#Приоритезация-этих-групп-по-уровню-риска-ухода\" data-toc-modified-id=\"Приоритезация-этих-групп-по-уровню-риска-ухода-6.2\"><span class=\"toc-item-num\">6.2&nbsp;&nbsp;</span>Приоритезация этих групп по уровню риска ухода</a></span></li></ul></li><li><span><a href=\"#Выводы-и-рекомендации\" data-toc-modified-id=\"Выводы-и-рекомендации-7\"><span class=\"toc-item-num\">7&nbsp;&nbsp;</span>Выводы и рекомендации</a></span></li><li><span><a href=\"#Презентация\" data-toc-modified-id=\"Презентация-8\"><span class=\"toc-item-num\">8&nbsp;&nbsp;</span>Презентация</a></span></li></ul></div>"
   ]
  },
  {
   "cell_type": "markdown",
   "metadata": {},
   "source": [
    "«Метанпромбанк» столкнулся с проблемой оттока клиентов. Исследование основано на предоставленном датасете, содержащем информацию о клиентах банка.\n",
    "\n",
    "**Цель:** провести анализ информации и выявление групп клиентов, склонных к уходу.  "
   ]
  },
  {
   "cell_type": "markdown",
   "metadata": {},
   "source": [
    "**Декомпозиция или план исследования:** \n",
    "1. Загрузка данных и изучение общей информации\n",
    "2. Предобработка данных\n",
    " - Переименование столбцов\n",
    " - Обработка пропусков при необходимости\n",
    " - Изменение типов данных при необходимости\n",
    " - Поиск дубликатов\n",
    " - Обработка дубликатов \n",
    " - Кодирование для использования в анализе корреляции\n",
    "3. Исследовательский анализ\n",
    " - Анализ активности и оттока клиентов разных городов\n",
    " - Анализ клиентов в разрезе бальной системы\n",
    " - Анализ активности и вероятности ухода клиентов в зависимости от пола\n",
    " - Анализ влияния уровня дохода на активность и вероятность ухода\n",
    " - Анализ влияния баллов собственности на активность и вероятность ухода\n",
    " - Корреляционный анализ признака churn\n",
    "4. Проверка гипотез\n",
    " - Гипотеза о влиянии уровня дохода на вероятность ухода (Определяем пороговое значение, сравниваем две группы)\n",
    " - Гипотеза о влиянии количества продуктов на вероятность ухода (Определяем пороговое количество, сравниваем две группы)\n",
    " - Гипотеза о влиянии наличия кредитной карты на вероятность ухода\n",
    " - Гипотеза о том, что мужчины более стабильные клиенты, то есть реже уходят из банка\n",
    " - Гипотеза о том, что чем старше клиент, тем ниже риск ухода (Определяем пороговый возраст, сравниваем две группы)\n",
    "5. Промежуточные выводы\n",
    "6. Сегментация и приоритезация сегментов\n",
    " - Выявление групп клиентов, склонных к уходу\n",
    " - Приоритезация этих групп по уровню риска ухода\n",
    "7. Выводы и рекомендации\n",
    "8. Подготовка презентации"
   ]
  },
  {
   "cell_type": "markdown",
   "metadata": {},
   "source": [
    "## Загрузка данных и изучение общей информации"
   ]
  },
  {
   "cell_type": "code",
   "execution_count": 1,
   "metadata": {},
   "outputs": [
    {
     "name": "stdout",
     "output_type": "stream",
     "text": [
      "Requirement already satisfied: phik in /opt/conda/lib/python3.9/site-packages (0.12.4)\n",
      "Requirement already satisfied: joblib>=0.14.1 in /opt/conda/lib/python3.9/site-packages (from phik) (1.1.0)\n",
      "Requirement already satisfied: scipy>=1.5.2 in /opt/conda/lib/python3.9/site-packages (from phik) (1.9.1)\n",
      "Requirement already satisfied: numpy>=1.18.0 in /opt/conda/lib/python3.9/site-packages (from phik) (1.21.1)\n",
      "Requirement already satisfied: matplotlib>=2.2.3 in /opt/conda/lib/python3.9/site-packages (from phik) (3.3.4)\n",
      "Requirement already satisfied: pandas>=0.25.1 in /opt/conda/lib/python3.9/site-packages (from phik) (1.2.4)\n",
      "Requirement already satisfied: cycler>=0.10 in /opt/conda/lib/python3.9/site-packages (from matplotlib>=2.2.3->phik) (0.11.0)\n",
      "Requirement already satisfied: pillow>=6.2.0 in /opt/conda/lib/python3.9/site-packages (from matplotlib>=2.2.3->phik) (8.4.0)\n",
      "Requirement already satisfied: kiwisolver>=1.0.1 in /opt/conda/lib/python3.9/site-packages (from matplotlib>=2.2.3->phik) (1.4.4)\n",
      "Requirement already satisfied: python-dateutil>=2.1 in /opt/conda/lib/python3.9/site-packages (from matplotlib>=2.2.3->phik) (2.8.1)\n",
      "Requirement already satisfied: pyparsing!=2.0.4,!=2.1.2,!=2.1.6,>=2.0.3 in /opt/conda/lib/python3.9/site-packages (from matplotlib>=2.2.3->phik) (2.4.7)\n",
      "Requirement already satisfied: pytz>=2017.3 in /opt/conda/lib/python3.9/site-packages (from pandas>=0.25.1->phik) (2021.1)\n",
      "Requirement already satisfied: six>=1.5 in /opt/conda/lib/python3.9/site-packages (from python-dateutil>=2.1->matplotlib>=2.2.3->phik) (1.16.0)\n",
      "Note: you may need to restart the kernel to use updated packages.\n"
     ]
    }
   ],
   "source": [
    "pip install phik"
   ]
  },
  {
   "cell_type": "code",
   "execution_count": 2,
   "metadata": {},
   "outputs": [],
   "source": [
    "import pandas as pd\n",
    "import seaborn as sns\n",
    "import matplotlib.pyplot as plt\n",
    "import phik\n",
    "from phik import resources, report\n",
    "from scipy import stats as st\n",
    "import scipy.stats as stats"
   ]
  },
  {
   "cell_type": "code",
   "execution_count": 3,
   "metadata": {},
   "outputs": [],
   "source": [
    "custom_palette = sns.color_palette([\"orange\", \"purple\"])\n",
    "sns.set_palette(custom_palette)"
   ]
  },
  {
   "cell_type": "code",
   "execution_count": 4,
   "metadata": {},
   "outputs": [],
   "source": [
    "def get_info(dataframe):\n",
    "    display(dataframe.head(5))\n",
    "    print()\n",
    "    dataframe.info()\n",
    "    print()\n",
    "    print(f\"Явных дубликатов: {dataframe.duplicated().sum()}\")\n",
    "    print()\n",
    "    print('Пропусков в колонках:')\n",
    "    print()\n",
    "    print(dataframe.isna().sum())"
   ]
  },
  {
   "cell_type": "code",
   "execution_count": 5,
   "metadata": {},
   "outputs": [
    {
     "data": {
      "text/html": [
       "<div>\n",
       "<style scoped>\n",
       "    .dataframe tbody tr th:only-of-type {\n",
       "        vertical-align: middle;\n",
       "    }\n",
       "\n",
       "    .dataframe tbody tr th {\n",
       "        vertical-align: top;\n",
       "    }\n",
       "\n",
       "    .dataframe thead th {\n",
       "        text-align: right;\n",
       "    }\n",
       "</style>\n",
       "<table border=\"1\" class=\"dataframe\">\n",
       "  <thead>\n",
       "    <tr style=\"text-align: right;\">\n",
       "      <th></th>\n",
       "      <th>USERID</th>\n",
       "      <th>score</th>\n",
       "      <th>city</th>\n",
       "      <th>gender</th>\n",
       "      <th>age</th>\n",
       "      <th>equity</th>\n",
       "      <th>balance</th>\n",
       "      <th>products</th>\n",
       "      <th>credit_card</th>\n",
       "      <th>last_activity</th>\n",
       "      <th>EST_SALARY</th>\n",
       "      <th>churn</th>\n",
       "    </tr>\n",
       "  </thead>\n",
       "  <tbody>\n",
       "    <tr>\n",
       "      <th>0</th>\n",
       "      <td>183012</td>\n",
       "      <td>850.0</td>\n",
       "      <td>Рыбинск</td>\n",
       "      <td>Ж</td>\n",
       "      <td>25.0</td>\n",
       "      <td>1</td>\n",
       "      <td>59214.82</td>\n",
       "      <td>2</td>\n",
       "      <td>0</td>\n",
       "      <td>1</td>\n",
       "      <td>75719.14</td>\n",
       "      <td>1</td>\n",
       "    </tr>\n",
       "    <tr>\n",
       "      <th>1</th>\n",
       "      <td>146556</td>\n",
       "      <td>861.0</td>\n",
       "      <td>Рыбинск</td>\n",
       "      <td>Ж</td>\n",
       "      <td>37.0</td>\n",
       "      <td>5</td>\n",
       "      <td>850594.33</td>\n",
       "      <td>3</td>\n",
       "      <td>1</td>\n",
       "      <td>0</td>\n",
       "      <td>86621.77</td>\n",
       "      <td>0</td>\n",
       "    </tr>\n",
       "    <tr>\n",
       "      <th>2</th>\n",
       "      <td>120722</td>\n",
       "      <td>892.0</td>\n",
       "      <td>Рыбинск</td>\n",
       "      <td>Ж</td>\n",
       "      <td>30.0</td>\n",
       "      <td>0</td>\n",
       "      <td>NaN</td>\n",
       "      <td>1</td>\n",
       "      <td>1</td>\n",
       "      <td>1</td>\n",
       "      <td>107683.34</td>\n",
       "      <td>0</td>\n",
       "    </tr>\n",
       "    <tr>\n",
       "      <th>3</th>\n",
       "      <td>225363</td>\n",
       "      <td>866.0</td>\n",
       "      <td>Ярославль</td>\n",
       "      <td>Ж</td>\n",
       "      <td>51.0</td>\n",
       "      <td>5</td>\n",
       "      <td>1524746.26</td>\n",
       "      <td>2</td>\n",
       "      <td>0</td>\n",
       "      <td>1</td>\n",
       "      <td>174423.53</td>\n",
       "      <td>1</td>\n",
       "    </tr>\n",
       "    <tr>\n",
       "      <th>4</th>\n",
       "      <td>157978</td>\n",
       "      <td>730.0</td>\n",
       "      <td>Ярославль</td>\n",
       "      <td>М</td>\n",
       "      <td>34.0</td>\n",
       "      <td>5</td>\n",
       "      <td>174.00</td>\n",
       "      <td>1</td>\n",
       "      <td>1</td>\n",
       "      <td>0</td>\n",
       "      <td>67353.16</td>\n",
       "      <td>1</td>\n",
       "    </tr>\n",
       "  </tbody>\n",
       "</table>\n",
       "</div>"
      ],
      "text/plain": [
       "   USERID  score       city gender   age  equity     balance  products  \\\n",
       "0  183012  850.0    Рыбинск      Ж  25.0       1    59214.82         2   \n",
       "1  146556  861.0    Рыбинск      Ж  37.0       5   850594.33         3   \n",
       "2  120722  892.0    Рыбинск      Ж  30.0       0         NaN         1   \n",
       "3  225363  866.0  Ярославль      Ж  51.0       5  1524746.26         2   \n",
       "4  157978  730.0  Ярославль      М  34.0       5      174.00         1   \n",
       "\n",
       "   credit_card  last_activity  EST_SALARY  churn  \n",
       "0            0              1    75719.14      1  \n",
       "1            1              0    86621.77      0  \n",
       "2            1              1   107683.34      0  \n",
       "3            0              1   174423.53      1  \n",
       "4            1              0    67353.16      1  "
      ]
     },
     "metadata": {},
     "output_type": "display_data"
    },
    {
     "name": "stdout",
     "output_type": "stream",
     "text": [
      "\n",
      "<class 'pandas.core.frame.DataFrame'>\n",
      "RangeIndex: 10000 entries, 0 to 9999\n",
      "Data columns (total 12 columns):\n",
      " #   Column         Non-Null Count  Dtype  \n",
      "---  ------         --------------  -----  \n",
      " 0   USERID         10000 non-null  int64  \n",
      " 1   score          10000 non-null  float64\n",
      " 2   city           10000 non-null  object \n",
      " 3   gender         10000 non-null  object \n",
      " 4   age            9974 non-null   float64\n",
      " 5   equity         10000 non-null  int64  \n",
      " 6   balance        7705 non-null   float64\n",
      " 7   products       10000 non-null  int64  \n",
      " 8   credit_card    10000 non-null  int64  \n",
      " 9   last_activity  10000 non-null  int64  \n",
      " 10  EST_SALARY     10000 non-null  float64\n",
      " 11  churn          10000 non-null  int64  \n",
      "dtypes: float64(4), int64(6), object(2)\n",
      "memory usage: 937.6+ KB\n",
      "\n",
      "Явных дубликатов: 0\n",
      "\n",
      "Пропусков в колонках:\n",
      "\n",
      "USERID              0\n",
      "score               0\n",
      "city                0\n",
      "gender              0\n",
      "age                26\n",
      "equity              0\n",
      "balance          2295\n",
      "products            0\n",
      "credit_card         0\n",
      "last_activity       0\n",
      "EST_SALARY          0\n",
      "churn               0\n",
      "dtype: int64\n"
     ]
    }
   ],
   "source": [
    "data = pd.read_csv('/datasets/bank_scrooge.csv')\n",
    "get_info(data)"
   ]
  },
  {
   "cell_type": "markdown",
   "metadata": {},
   "source": [
    "В представленном датафрейме 10 000 строк. Названия столбцов необходимо привести к нижнему регистру. Данные с баллами и возрастом необходимо привести к целочисленному типу данных. В колонках с возрастом и балансом обнаружены пропуски. Явных дубликатов обнаружено не было."
   ]
  },
  {
   "cell_type": "markdown",
   "metadata": {},
   "source": [
    "## Предобработка данных"
   ]
  },
  {
   "cell_type": "markdown",
   "metadata": {},
   "source": [
    "### Переименование столбцов"
   ]
  },
  {
   "cell_type": "code",
   "execution_count": 6,
   "metadata": {},
   "outputs": [],
   "source": [
    "data.columns = data.columns.str.lower()\n",
    "data = data.rename(columns={'userid': 'user_id', 'EST_SALARY': 'est_salary'})"
   ]
  },
  {
   "cell_type": "markdown",
   "metadata": {},
   "source": [
    "### Обработка пропусков"
   ]
  },
  {
   "cell_type": "code",
   "execution_count": 7,
   "metadata": {},
   "outputs": [
    {
     "data": {
      "image/png": "[encoded data removed]",
      "text/plain": [
       "<Figure size 720x504 with 2 Axes>"
      ]
     },
     "metadata": {
      "needs_background": "light"
     },
     "output_type": "display_data"
    }
   ],
   "source": [
    "fig, ax = plt.subplots(figsize=(10, 7))\n",
    "sns.heatmap(data.isnull());"
   ]
  },
  {
   "cell_type": "code",
   "execution_count": 8,
   "metadata": {},
   "outputs": [
    {
     "data": {
      "text/html": [
       "<div>\n",
       "<style scoped>\n",
       "    .dataframe tbody tr th:only-of-type {\n",
       "        vertical-align: middle;\n",
       "    }\n",
       "\n",
       "    .dataframe tbody tr th {\n",
       "        vertical-align: top;\n",
       "    }\n",
       "\n",
       "    .dataframe thead th {\n",
       "        text-align: right;\n",
       "    }\n",
       "</style>\n",
       "<table border=\"1\" class=\"dataframe\">\n",
       "  <thead>\n",
       "    <tr style=\"text-align: right;\">\n",
       "      <th></th>\n",
       "      <th>user_id</th>\n",
       "      <th>score</th>\n",
       "      <th>city</th>\n",
       "      <th>gender</th>\n",
       "      <th>age</th>\n",
       "      <th>equity</th>\n",
       "      <th>balance</th>\n",
       "      <th>products</th>\n",
       "      <th>credit_card</th>\n",
       "      <th>last_activity</th>\n",
       "      <th>est_salary</th>\n",
       "      <th>churn</th>\n",
       "    </tr>\n",
       "  </thead>\n",
       "  <tbody>\n",
       "    <tr>\n",
       "      <th>1247</th>\n",
       "      <td>228075</td>\n",
       "      <td>932.0</td>\n",
       "      <td>Ярославль</td>\n",
       "      <td>М</td>\n",
       "      <td>NaN</td>\n",
       "      <td>5</td>\n",
       "      <td>7601719.20</td>\n",
       "      <td>2</td>\n",
       "      <td>1</td>\n",
       "      <td>1</td>\n",
       "      <td>408121.16</td>\n",
       "      <td>0</td>\n",
       "    </tr>\n",
       "    <tr>\n",
       "      <th>2165</th>\n",
       "      <td>187635</td>\n",
       "      <td>692.0</td>\n",
       "      <td>Рыбинск</td>\n",
       "      <td>Ж</td>\n",
       "      <td>NaN</td>\n",
       "      <td>0</td>\n",
       "      <td>NaN</td>\n",
       "      <td>1</td>\n",
       "      <td>1</td>\n",
       "      <td>1</td>\n",
       "      <td>160368.82</td>\n",
       "      <td>0</td>\n",
       "    </tr>\n",
       "    <tr>\n",
       "      <th>2444</th>\n",
       "      <td>221156</td>\n",
       "      <td>913.0</td>\n",
       "      <td>Ярославль</td>\n",
       "      <td>М</td>\n",
       "      <td>NaN</td>\n",
       "      <td>0</td>\n",
       "      <td>NaN</td>\n",
       "      <td>1</td>\n",
       "      <td>1</td>\n",
       "      <td>1</td>\n",
       "      <td>135693.24</td>\n",
       "      <td>0</td>\n",
       "    </tr>\n",
       "    <tr>\n",
       "      <th>3091</th>\n",
       "      <td>138660</td>\n",
       "      <td>836.0</td>\n",
       "      <td>Ростов</td>\n",
       "      <td>Ж</td>\n",
       "      <td>NaN</td>\n",
       "      <td>5</td>\n",
       "      <td>294315.53</td>\n",
       "      <td>2</td>\n",
       "      <td>0</td>\n",
       "      <td>1</td>\n",
       "      <td>63310.22</td>\n",
       "      <td>1</td>\n",
       "    </tr>\n",
       "    <tr>\n",
       "      <th>4912</th>\n",
       "      <td>210674</td>\n",
       "      <td>834.0</td>\n",
       "      <td>Рыбинск</td>\n",
       "      <td>М</td>\n",
       "      <td>NaN</td>\n",
       "      <td>1</td>\n",
       "      <td>238330.52</td>\n",
       "      <td>2</td>\n",
       "      <td>0</td>\n",
       "      <td>1</td>\n",
       "      <td>93775.06</td>\n",
       "      <td>0</td>\n",
       "    </tr>\n",
       "    <tr>\n",
       "      <th>5470</th>\n",
       "      <td>218868</td>\n",
       "      <td>827.0</td>\n",
       "      <td>Рыбинск</td>\n",
       "      <td>Ж</td>\n",
       "      <td>NaN</td>\n",
       "      <td>4</td>\n",
       "      <td>448959.07</td>\n",
       "      <td>2</td>\n",
       "      <td>1</td>\n",
       "      <td>1</td>\n",
       "      <td>67835.95</td>\n",
       "      <td>0</td>\n",
       "    </tr>\n",
       "    <tr>\n",
       "      <th>5495</th>\n",
       "      <td>151662</td>\n",
       "      <td>884.0</td>\n",
       "      <td>Рыбинск</td>\n",
       "      <td>Ж</td>\n",
       "      <td>NaN</td>\n",
       "      <td>0</td>\n",
       "      <td>NaN</td>\n",
       "      <td>1</td>\n",
       "      <td>1</td>\n",
       "      <td>1</td>\n",
       "      <td>137500.77</td>\n",
       "      <td>0</td>\n",
       "    </tr>\n",
       "    <tr>\n",
       "      <th>7236</th>\n",
       "      <td>210135</td>\n",
       "      <td>908.0</td>\n",
       "      <td>Рыбинск</td>\n",
       "      <td>Ж</td>\n",
       "      <td>NaN</td>\n",
       "      <td>4</td>\n",
       "      <td>1120340.31</td>\n",
       "      <td>3</td>\n",
       "      <td>1</td>\n",
       "      <td>1</td>\n",
       "      <td>85002.15</td>\n",
       "      <td>0</td>\n",
       "    </tr>\n",
       "    <tr>\n",
       "      <th>7248</th>\n",
       "      <td>219343</td>\n",
       "      <td>920.0</td>\n",
       "      <td>Рыбинск</td>\n",
       "      <td>Ж</td>\n",
       "      <td>NaN</td>\n",
       "      <td>0</td>\n",
       "      <td>NaN</td>\n",
       "      <td>1</td>\n",
       "      <td>1</td>\n",
       "      <td>0</td>\n",
       "      <td>159248.67</td>\n",
       "      <td>0</td>\n",
       "    </tr>\n",
       "    <tr>\n",
       "      <th>7345</th>\n",
       "      <td>184913</td>\n",
       "      <td>829.0</td>\n",
       "      <td>Ярославль</td>\n",
       "      <td>Ж</td>\n",
       "      <td>NaN</td>\n",
       "      <td>3</td>\n",
       "      <td>188648.77</td>\n",
       "      <td>2</td>\n",
       "      <td>0</td>\n",
       "      <td>1</td>\n",
       "      <td>75206.90</td>\n",
       "      <td>0</td>\n",
       "    </tr>\n",
       "    <tr>\n",
       "      <th>7409</th>\n",
       "      <td>214031</td>\n",
       "      <td>777.0</td>\n",
       "      <td>Ярославль</td>\n",
       "      <td>М</td>\n",
       "      <td>NaN</td>\n",
       "      <td>2</td>\n",
       "      <td>171510.23</td>\n",
       "      <td>1</td>\n",
       "      <td>1</td>\n",
       "      <td>1</td>\n",
       "      <td>75409.63</td>\n",
       "      <td>0</td>\n",
       "    </tr>\n",
       "    <tr>\n",
       "      <th>8015</th>\n",
       "      <td>198635</td>\n",
       "      <td>670.0</td>\n",
       "      <td>Ярославль</td>\n",
       "      <td>Ж</td>\n",
       "      <td>NaN</td>\n",
       "      <td>0</td>\n",
       "      <td>NaN</td>\n",
       "      <td>1</td>\n",
       "      <td>1</td>\n",
       "      <td>1</td>\n",
       "      <td>168699.33</td>\n",
       "      <td>0</td>\n",
       "    </tr>\n",
       "    <tr>\n",
       "      <th>8070</th>\n",
       "      <td>226550</td>\n",
       "      <td>940.0</td>\n",
       "      <td>Рыбинск</td>\n",
       "      <td>М</td>\n",
       "      <td>NaN</td>\n",
       "      <td>0</td>\n",
       "      <td>NaN</td>\n",
       "      <td>1</td>\n",
       "      <td>0</td>\n",
       "      <td>1</td>\n",
       "      <td>147696.95</td>\n",
       "      <td>0</td>\n",
       "    </tr>\n",
       "    <tr>\n",
       "      <th>8293</th>\n",
       "      <td>216848</td>\n",
       "      <td>930.0</td>\n",
       "      <td>Ярославль</td>\n",
       "      <td>М</td>\n",
       "      <td>NaN</td>\n",
       "      <td>0</td>\n",
       "      <td>NaN</td>\n",
       "      <td>1</td>\n",
       "      <td>1</td>\n",
       "      <td>1</td>\n",
       "      <td>199542.51</td>\n",
       "      <td>0</td>\n",
       "    </tr>\n",
       "    <tr>\n",
       "      <th>8385</th>\n",
       "      <td>206759</td>\n",
       "      <td>915.0</td>\n",
       "      <td>Рыбинск</td>\n",
       "      <td>М</td>\n",
       "      <td>NaN</td>\n",
       "      <td>0</td>\n",
       "      <td>NaN</td>\n",
       "      <td>1</td>\n",
       "      <td>1</td>\n",
       "      <td>0</td>\n",
       "      <td>71179.53</td>\n",
       "      <td>0</td>\n",
       "    </tr>\n",
       "    <tr>\n",
       "      <th>8449</th>\n",
       "      <td>210898</td>\n",
       "      <td>805.0</td>\n",
       "      <td>Ярославль</td>\n",
       "      <td>Ж</td>\n",
       "      <td>NaN</td>\n",
       "      <td>0</td>\n",
       "      <td>NaN</td>\n",
       "      <td>1</td>\n",
       "      <td>0</td>\n",
       "      <td>1</td>\n",
       "      <td>922080.25</td>\n",
       "      <td>0</td>\n",
       "    </tr>\n",
       "    <tr>\n",
       "      <th>8632</th>\n",
       "      <td>221197</td>\n",
       "      <td>893.0</td>\n",
       "      <td>Ярославль</td>\n",
       "      <td>М</td>\n",
       "      <td>NaN</td>\n",
       "      <td>0</td>\n",
       "      <td>NaN</td>\n",
       "      <td>1</td>\n",
       "      <td>1</td>\n",
       "      <td>0</td>\n",
       "      <td>173929.92</td>\n",
       "      <td>0</td>\n",
       "    </tr>\n",
       "    <tr>\n",
       "      <th>8785</th>\n",
       "      <td>127440</td>\n",
       "      <td>663.0</td>\n",
       "      <td>Ярославль</td>\n",
       "      <td>М</td>\n",
       "      <td>NaN</td>\n",
       "      <td>0</td>\n",
       "      <td>NaN</td>\n",
       "      <td>1</td>\n",
       "      <td>1</td>\n",
       "      <td>1</td>\n",
       "      <td>117197.56</td>\n",
       "      <td>0</td>\n",
       "    </tr>\n",
       "    <tr>\n",
       "      <th>9104</th>\n",
       "      <td>222480</td>\n",
       "      <td>776.0</td>\n",
       "      <td>Рыбинск</td>\n",
       "      <td>Ж</td>\n",
       "      <td>NaN</td>\n",
       "      <td>5</td>\n",
       "      <td>796735.09</td>\n",
       "      <td>1</td>\n",
       "      <td>1</td>\n",
       "      <td>1</td>\n",
       "      <td>55073.63</td>\n",
       "      <td>0</td>\n",
       "    </tr>\n",
       "    <tr>\n",
       "      <th>9301</th>\n",
       "      <td>202983</td>\n",
       "      <td>942.0</td>\n",
       "      <td>Рыбинск</td>\n",
       "      <td>Ж</td>\n",
       "      <td>NaN</td>\n",
       "      <td>0</td>\n",
       "      <td>NaN</td>\n",
       "      <td>1</td>\n",
       "      <td>1</td>\n",
       "      <td>1</td>\n",
       "      <td>163804.73</td>\n",
       "      <td>0</td>\n",
       "    </tr>\n",
       "    <tr>\n",
       "      <th>9380</th>\n",
       "      <td>187459</td>\n",
       "      <td>894.0</td>\n",
       "      <td>Рыбинск</td>\n",
       "      <td>М</td>\n",
       "      <td>NaN</td>\n",
       "      <td>0</td>\n",
       "      <td>NaN</td>\n",
       "      <td>1</td>\n",
       "      <td>1</td>\n",
       "      <td>0</td>\n",
       "      <td>178012.28</td>\n",
       "      <td>0</td>\n",
       "    </tr>\n",
       "    <tr>\n",
       "      <th>9457</th>\n",
       "      <td>141945</td>\n",
       "      <td>929.0</td>\n",
       "      <td>Ярославль</td>\n",
       "      <td>М</td>\n",
       "      <td>NaN</td>\n",
       "      <td>0</td>\n",
       "      <td>NaN</td>\n",
       "      <td>1</td>\n",
       "      <td>1</td>\n",
       "      <td>0</td>\n",
       "      <td>381868.89</td>\n",
       "      <td>0</td>\n",
       "    </tr>\n",
       "    <tr>\n",
       "      <th>9632</th>\n",
       "      <td>185829</td>\n",
       "      <td>927.0</td>\n",
       "      <td>Ярославль</td>\n",
       "      <td>М</td>\n",
       "      <td>NaN</td>\n",
       "      <td>0</td>\n",
       "      <td>NaN</td>\n",
       "      <td>1</td>\n",
       "      <td>1</td>\n",
       "      <td>0</td>\n",
       "      <td>231254.86</td>\n",
       "      <td>0</td>\n",
       "    </tr>\n",
       "    <tr>\n",
       "      <th>9634</th>\n",
       "      <td>221809</td>\n",
       "      <td>917.0</td>\n",
       "      <td>Ярославль</td>\n",
       "      <td>М</td>\n",
       "      <td>NaN</td>\n",
       "      <td>0</td>\n",
       "      <td>NaN</td>\n",
       "      <td>1</td>\n",
       "      <td>1</td>\n",
       "      <td>1</td>\n",
       "      <td>192644.15</td>\n",
       "      <td>0</td>\n",
       "    </tr>\n",
       "    <tr>\n",
       "      <th>9667</th>\n",
       "      <td>163657</td>\n",
       "      <td>849.0</td>\n",
       "      <td>Ярославль</td>\n",
       "      <td>М</td>\n",
       "      <td>NaN</td>\n",
       "      <td>4</td>\n",
       "      <td>1254013.85</td>\n",
       "      <td>2</td>\n",
       "      <td>1</td>\n",
       "      <td>1</td>\n",
       "      <td>119106.67</td>\n",
       "      <td>0</td>\n",
       "    </tr>\n",
       "    <tr>\n",
       "      <th>9819</th>\n",
       "      <td>140934</td>\n",
       "      <td>832.0</td>\n",
       "      <td>Рыбинск</td>\n",
       "      <td>Ж</td>\n",
       "      <td>NaN</td>\n",
       "      <td>3</td>\n",
       "      <td>385763.16</td>\n",
       "      <td>2</td>\n",
       "      <td>0</td>\n",
       "      <td>1</td>\n",
       "      <td>59651.35</td>\n",
       "      <td>0</td>\n",
       "    </tr>\n",
       "  </tbody>\n",
       "</table>\n",
       "</div>"
      ],
      "text/plain": [
       "      user_id  score       city gender  age  equity     balance  products  \\\n",
       "1247   228075  932.0  Ярославль      М  NaN       5  7601719.20         2   \n",
       "2165   187635  692.0    Рыбинск      Ж  NaN       0         NaN         1   \n",
       "2444   221156  913.0  Ярославль      М  NaN       0         NaN         1   \n",
       "3091   138660  836.0     Ростов      Ж  NaN       5   294315.53         2   \n",
       "4912   210674  834.0    Рыбинск      М  NaN       1   238330.52         2   \n",
       "5470   218868  827.0    Рыбинск      Ж  NaN       4   448959.07         2   \n",
       "5495   151662  884.0    Рыбинск      Ж  NaN       0         NaN         1   \n",
       "7236   210135  908.0    Рыбинск      Ж  NaN       4  1120340.31         3   \n",
       "7248   219343  920.0    Рыбинск      Ж  NaN       0         NaN         1   \n",
       "7345   184913  829.0  Ярославль      Ж  NaN       3   188648.77         2   \n",
       "7409   214031  777.0  Ярославль      М  NaN       2   171510.23         1   \n",
       "8015   198635  670.0  Ярославль      Ж  NaN       0         NaN         1   \n",
       "8070   226550  940.0    Рыбинск      М  NaN       0         NaN         1   \n",
       "8293   216848  930.0  Ярославль      М  NaN       0         NaN         1   \n",
       "8385   206759  915.0    Рыбинск      М  NaN       0         NaN         1   \n",
       "8449   210898  805.0  Ярославль      Ж  NaN       0         NaN         1   \n",
       "8632   221197  893.0  Ярославль      М  NaN       0         NaN         1   \n",
       "8785   127440  663.0  Ярославль      М  NaN       0         NaN         1   \n",
       "9104   222480  776.0    Рыбинск      Ж  NaN       5   796735.09         1   \n",
       "9301   202983  942.0    Рыбинск      Ж  NaN       0         NaN         1   \n",
       "9380   187459  894.0    Рыбинск      М  NaN       0         NaN         1   \n",
       "9457   141945  929.0  Ярославль      М  NaN       0         NaN         1   \n",
       "9632   185829  927.0  Ярославль      М  NaN       0         NaN         1   \n",
       "9634   221809  917.0  Ярославль      М  NaN       0         NaN         1   \n",
       "9667   163657  849.0  Ярославль      М  NaN       4  1254013.85         2   \n",
       "9819   140934  832.0    Рыбинск      Ж  NaN       3   385763.16         2   \n",
       "\n",
       "      credit_card  last_activity  est_salary  churn  \n",
       "1247            1              1   408121.16      0  \n",
       "2165            1              1   160368.82      0  \n",
       "2444            1              1   135693.24      0  \n",
       "3091            0              1    63310.22      1  \n",
       "4912            0              1    93775.06      0  \n",
       "5470            1              1    67835.95      0  \n",
       "5495            1              1   137500.77      0  \n",
       "7236            1              1    85002.15      0  \n",
       "7248            1              0   159248.67      0  \n",
       "7345            0              1    75206.90      0  \n",
       "7409            1              1    75409.63      0  \n",
       "8015            1              1   168699.33      0  \n",
       "8070            0              1   147696.95      0  \n",
       "8293            1              1   199542.51      0  \n",
       "8385            1              0    71179.53      0  \n",
       "8449            0              1   922080.25      0  \n",
       "8632            1              0   173929.92      0  \n",
       "8785            1              1   117197.56      0  \n",
       "9104            1              1    55073.63      0  \n",
       "9301            1              1   163804.73      0  \n",
       "9380            1              0   178012.28      0  \n",
       "9457            1              0   381868.89      0  \n",
       "9632            1              0   231254.86      0  \n",
       "9634            1              1   192644.15      0  \n",
       "9667            1              1   119106.67      0  \n",
       "9819            0              1    59651.35      0  "
      ]
     },
     "execution_count": 8,
     "metadata": {},
     "output_type": "execute_result"
    }
   ],
   "source": [
    "data.loc[data['age'].isna()]"
   ]
  },
  {
   "cell_type": "markdown",
   "metadata": {},
   "source": [
    "Существует общепринятая классификация пропусков:\n",
    "\n",
    "MCAR (Missing Completely At Random / Отсутствует совершенно случайно) — пропуски не зависят от переменных и не ведут к систематической ошибке (смещение, bias), но увеличивают случайную ошибку (разброс, variance), можно их отбрасывать или заполнять, т.к. заполнение не повлияет на характер связи между заполняемой переменной и остальными;\n",
    "\n",
    "MAR (Missing At Random / Отсутствует случайно) — в рамках каждой из групп, которая есть в описываемой данными совокупности, распределение пропусков случайно, можно их отбрасывать;\n",
    "\n",
    "MNAR (Missing Not At Random / Отсутствует не случайно) — пропуски зависят от данных, без дополнительного обоснования их нельзя отбрасывать или заполнять одним значением, т.к. это приведёт к заметным искажениям.\n"
   ]
  },
  {
   "cell_type": "markdown",
   "metadata": {},
   "source": [
    "#### Кодирование для использования в анализе корреляции"
   ]
  },
  {
   "cell_type": "code",
   "execution_count": 9,
   "metadata": {},
   "outputs": [
    {
     "data": {
      "text/html": [
       "<div>\n",
       "<style scoped>\n",
       "    .dataframe tbody tr th:only-of-type {\n",
       "        vertical-align: middle;\n",
       "    }\n",
       "\n",
       "    .dataframe tbody tr th {\n",
       "        vertical-align: top;\n",
       "    }\n",
       "\n",
       "    .dataframe thead th {\n",
       "        text-align: right;\n",
       "    }\n",
       "</style>\n",
       "<table border=\"1\" class=\"dataframe\">\n",
       "  <thead>\n",
       "    <tr style=\"text-align: right;\">\n",
       "      <th></th>\n",
       "      <th>user_id</th>\n",
       "      <th>score</th>\n",
       "      <th>city</th>\n",
       "      <th>gender</th>\n",
       "      <th>age</th>\n",
       "      <th>equity</th>\n",
       "      <th>balance</th>\n",
       "      <th>products</th>\n",
       "      <th>credit_card</th>\n",
       "      <th>last_activity</th>\n",
       "      <th>est_salary</th>\n",
       "      <th>churn</th>\n",
       "      <th>city_cod</th>\n",
       "      <th>gender_cod</th>\n",
       "    </tr>\n",
       "  </thead>\n",
       "  <tbody>\n",
       "    <tr>\n",
       "      <th>0</th>\n",
       "      <td>183012</td>\n",
       "      <td>850.0</td>\n",
       "      <td>Рыбинск</td>\n",
       "      <td>Ж</td>\n",
       "      <td>25.0</td>\n",
       "      <td>1</td>\n",
       "      <td>59214.82</td>\n",
       "      <td>2</td>\n",
       "      <td>0</td>\n",
       "      <td>1</td>\n",
       "      <td>75719.14</td>\n",
       "      <td>1</td>\n",
       "      <td>Рыбинск</td>\n",
       "      <td>Ж</td>\n",
       "    </tr>\n",
       "    <tr>\n",
       "      <th>1</th>\n",
       "      <td>146556</td>\n",
       "      <td>861.0</td>\n",
       "      <td>Рыбинск</td>\n",
       "      <td>Ж</td>\n",
       "      <td>37.0</td>\n",
       "      <td>5</td>\n",
       "      <td>850594.33</td>\n",
       "      <td>3</td>\n",
       "      <td>1</td>\n",
       "      <td>0</td>\n",
       "      <td>86621.77</td>\n",
       "      <td>0</td>\n",
       "      <td>Рыбинск</td>\n",
       "      <td>Ж</td>\n",
       "    </tr>\n",
       "    <tr>\n",
       "      <th>2</th>\n",
       "      <td>120722</td>\n",
       "      <td>892.0</td>\n",
       "      <td>Рыбинск</td>\n",
       "      <td>Ж</td>\n",
       "      <td>30.0</td>\n",
       "      <td>0</td>\n",
       "      <td>NaN</td>\n",
       "      <td>1</td>\n",
       "      <td>1</td>\n",
       "      <td>1</td>\n",
       "      <td>107683.34</td>\n",
       "      <td>0</td>\n",
       "      <td>Рыбинск</td>\n",
       "      <td>Ж</td>\n",
       "    </tr>\n",
       "    <tr>\n",
       "      <th>3</th>\n",
       "      <td>225363</td>\n",
       "      <td>866.0</td>\n",
       "      <td>Ярославль</td>\n",
       "      <td>Ж</td>\n",
       "      <td>51.0</td>\n",
       "      <td>5</td>\n",
       "      <td>1524746.26</td>\n",
       "      <td>2</td>\n",
       "      <td>0</td>\n",
       "      <td>1</td>\n",
       "      <td>174423.53</td>\n",
       "      <td>1</td>\n",
       "      <td>Ярославль</td>\n",
       "      <td>Ж</td>\n",
       "    </tr>\n",
       "    <tr>\n",
       "      <th>4</th>\n",
       "      <td>157978</td>\n",
       "      <td>730.0</td>\n",
       "      <td>Ярославль</td>\n",
       "      <td>М</td>\n",
       "      <td>34.0</td>\n",
       "      <td>5</td>\n",
       "      <td>174.00</td>\n",
       "      <td>1</td>\n",
       "      <td>1</td>\n",
       "      <td>0</td>\n",
       "      <td>67353.16</td>\n",
       "      <td>1</td>\n",
       "      <td>Ярославль</td>\n",
       "      <td>М</td>\n",
       "    </tr>\n",
       "  </tbody>\n",
       "</table>\n",
       "</div>"
      ],
      "text/plain": [
       "   user_id  score       city gender   age  equity     balance  products  \\\n",
       "0   183012  850.0    Рыбинск      Ж  25.0       1    59214.82         2   \n",
       "1   146556  861.0    Рыбинск      Ж  37.0       5   850594.33         3   \n",
       "2   120722  892.0    Рыбинск      Ж  30.0       0         NaN         1   \n",
       "3   225363  866.0  Ярославль      Ж  51.0       5  1524746.26         2   \n",
       "4   157978  730.0  Ярославль      М  34.0       5      174.00         1   \n",
       "\n",
       "   credit_card  last_activity  est_salary  churn   city_cod gender_cod  \n",
       "0            0              1    75719.14      1    Рыбинск          Ж  \n",
       "1            1              0    86621.77      0    Рыбинск          Ж  \n",
       "2            1              1   107683.34      0    Рыбинск          Ж  \n",
       "3            0              1   174423.53      1  Ярославль          Ж  \n",
       "4            1              0    67353.16      1  Ярославль          М  "
      ]
     },
     "execution_count": 9,
     "metadata": {},
     "output_type": "execute_result"
    }
   ],
   "source": [
    "data['city_cod']=data['city']\n",
    "data['gender_cod']=data['gender']\n",
    "data.head()"
   ]
  },
  {
   "cell_type": "code",
   "execution_count": 10,
   "metadata": {},
   "outputs": [
    {
     "data": {
      "text/html": [
       "<div>\n",
       "<style scoped>\n",
       "    .dataframe tbody tr th:only-of-type {\n",
       "        vertical-align: middle;\n",
       "    }\n",
       "\n",
       "    .dataframe tbody tr th {\n",
       "        vertical-align: top;\n",
       "    }\n",
       "\n",
       "    .dataframe thead th {\n",
       "        text-align: right;\n",
       "    }\n",
       "</style>\n",
       "<table border=\"1\" class=\"dataframe\">\n",
       "  <thead>\n",
       "    <tr style=\"text-align: right;\">\n",
       "      <th></th>\n",
       "      <th>user_id</th>\n",
       "      <th>score</th>\n",
       "      <th>city</th>\n",
       "      <th>gender</th>\n",
       "      <th>age</th>\n",
       "      <th>equity</th>\n",
       "      <th>balance</th>\n",
       "      <th>products</th>\n",
       "      <th>credit_card</th>\n",
       "      <th>last_activity</th>\n",
       "      <th>est_salary</th>\n",
       "      <th>churn</th>\n",
       "      <th>city_cod_Ростов</th>\n",
       "      <th>city_cod_Рыбинск</th>\n",
       "      <th>city_cod_Ярославль</th>\n",
       "      <th>gender_cod_Ж</th>\n",
       "      <th>gender_cod_М</th>\n",
       "    </tr>\n",
       "  </thead>\n",
       "  <tbody>\n",
       "    <tr>\n",
       "      <th>0</th>\n",
       "      <td>183012</td>\n",
       "      <td>850.0</td>\n",
       "      <td>Рыбинск</td>\n",
       "      <td>Ж</td>\n",
       "      <td>25.0</td>\n",
       "      <td>1</td>\n",
       "      <td>59214.82</td>\n",
       "      <td>2</td>\n",
       "      <td>0</td>\n",
       "      <td>1</td>\n",
       "      <td>75719.14</td>\n",
       "      <td>1</td>\n",
       "      <td>0</td>\n",
       "      <td>1</td>\n",
       "      <td>0</td>\n",
       "      <td>1</td>\n",
       "      <td>0</td>\n",
       "    </tr>\n",
       "    <tr>\n",
       "      <th>1</th>\n",
       "      <td>146556</td>\n",
       "      <td>861.0</td>\n",
       "      <td>Рыбинск</td>\n",
       "      <td>Ж</td>\n",
       "      <td>37.0</td>\n",
       "      <td>5</td>\n",
       "      <td>850594.33</td>\n",
       "      <td>3</td>\n",
       "      <td>1</td>\n",
       "      <td>0</td>\n",
       "      <td>86621.77</td>\n",
       "      <td>0</td>\n",
       "      <td>0</td>\n",
       "      <td>1</td>\n",
       "      <td>0</td>\n",
       "      <td>1</td>\n",
       "      <td>0</td>\n",
       "    </tr>\n",
       "    <tr>\n",
       "      <th>2</th>\n",
       "      <td>120722</td>\n",
       "      <td>892.0</td>\n",
       "      <td>Рыбинск</td>\n",
       "      <td>Ж</td>\n",
       "      <td>30.0</td>\n",
       "      <td>0</td>\n",
       "      <td>NaN</td>\n",
       "      <td>1</td>\n",
       "      <td>1</td>\n",
       "      <td>1</td>\n",
       "      <td>107683.34</td>\n",
       "      <td>0</td>\n",
       "      <td>0</td>\n",
       "      <td>1</td>\n",
       "      <td>0</td>\n",
       "      <td>1</td>\n",
       "      <td>0</td>\n",
       "    </tr>\n",
       "    <tr>\n",
       "      <th>3</th>\n",
       "      <td>225363</td>\n",
       "      <td>866.0</td>\n",
       "      <td>Ярославль</td>\n",
       "      <td>Ж</td>\n",
       "      <td>51.0</td>\n",
       "      <td>5</td>\n",
       "      <td>1524746.26</td>\n",
       "      <td>2</td>\n",
       "      <td>0</td>\n",
       "      <td>1</td>\n",
       "      <td>174423.53</td>\n",
       "      <td>1</td>\n",
       "      <td>0</td>\n",
       "      <td>0</td>\n",
       "      <td>1</td>\n",
       "      <td>1</td>\n",
       "      <td>0</td>\n",
       "    </tr>\n",
       "    <tr>\n",
       "      <th>4</th>\n",
       "      <td>157978</td>\n",
       "      <td>730.0</td>\n",
       "      <td>Ярославль</td>\n",
       "      <td>М</td>\n",
       "      <td>34.0</td>\n",
       "      <td>5</td>\n",
       "      <td>174.00</td>\n",
       "      <td>1</td>\n",
       "      <td>1</td>\n",
       "      <td>0</td>\n",
       "      <td>67353.16</td>\n",
       "      <td>1</td>\n",
       "      <td>0</td>\n",
       "      <td>0</td>\n",
       "      <td>1</td>\n",
       "      <td>0</td>\n",
       "      <td>1</td>\n",
       "    </tr>\n",
       "  </tbody>\n",
       "</table>\n",
       "</div>"
      ],
      "text/plain": [
       "   user_id  score       city gender   age  equity     balance  products  \\\n",
       "0   183012  850.0    Рыбинск      Ж  25.0       1    59214.82         2   \n",
       "1   146556  861.0    Рыбинск      Ж  37.0       5   850594.33         3   \n",
       "2   120722  892.0    Рыбинск      Ж  30.0       0         NaN         1   \n",
       "3   225363  866.0  Ярославль      Ж  51.0       5  1524746.26         2   \n",
       "4   157978  730.0  Ярославль      М  34.0       5      174.00         1   \n",
       "\n",
       "   credit_card  last_activity  est_salary  churn  city_cod_Ростов  \\\n",
       "0            0              1    75719.14      1                0   \n",
       "1            1              0    86621.77      0                0   \n",
       "2            1              1   107683.34      0                0   \n",
       "3            0              1   174423.53      1                0   \n",
       "4            1              0    67353.16      1                0   \n",
       "\n",
       "   city_cod_Рыбинск  city_cod_Ярославль  gender_cod_Ж  gender_cod_М  \n",
       "0                 1                   0             1             0  \n",
       "1                 1                   0             1             0  \n",
       "2                 1                   0             1             0  \n",
       "3                 0                   1             1             0  \n",
       "4                 0                   1             0             1  "
      ]
     },
     "execution_count": 10,
     "metadata": {},
     "output_type": "execute_result"
    }
   ],
   "source": [
    "data = pd.get_dummies(data, columns = ['city_cod', 'gender_cod'])\n",
    "data.head()"
   ]
  },
  {
   "cell_type": "code",
   "execution_count": 11,
   "metadata": {},
   "outputs": [
    {
     "data": {
      "text/html": [
       "<div>\n",
       "<style scoped>\n",
       "    .dataframe tbody tr th:only-of-type {\n",
       "        vertical-align: middle;\n",
       "    }\n",
       "\n",
       "    .dataframe tbody tr th {\n",
       "        vertical-align: top;\n",
       "    }\n",
       "\n",
       "    .dataframe thead th {\n",
       "        text-align: right;\n",
       "    }\n",
       "</style>\n",
       "<table border=\"1\" class=\"dataframe\">\n",
       "  <thead>\n",
       "    <tr style=\"text-align: right;\">\n",
       "      <th></th>\n",
       "      <th>user_id</th>\n",
       "      <th>score</th>\n",
       "      <th>city</th>\n",
       "      <th>gender</th>\n",
       "      <th>age</th>\n",
       "      <th>equity</th>\n",
       "      <th>balance</th>\n",
       "      <th>products</th>\n",
       "      <th>credit_card</th>\n",
       "      <th>last_activity</th>\n",
       "      <th>est_salary</th>\n",
       "      <th>churn</th>\n",
       "      <th>city_cod_Ростов</th>\n",
       "      <th>city_cod_Рыбинск</th>\n",
       "      <th>city_cod_Ярославль</th>\n",
       "      <th>gender_cod_Ж</th>\n",
       "      <th>gender_cod_М</th>\n",
       "      <th>age_nan</th>\n",
       "    </tr>\n",
       "  </thead>\n",
       "  <tbody>\n",
       "    <tr>\n",
       "      <th>0</th>\n",
       "      <td>183012</td>\n",
       "      <td>850.0</td>\n",
       "      <td>Рыбинск</td>\n",
       "      <td>Ж</td>\n",
       "      <td>25.0</td>\n",
       "      <td>1</td>\n",
       "      <td>59214.82</td>\n",
       "      <td>2</td>\n",
       "      <td>0</td>\n",
       "      <td>1</td>\n",
       "      <td>75719.14</td>\n",
       "      <td>1</td>\n",
       "      <td>0</td>\n",
       "      <td>1</td>\n",
       "      <td>0</td>\n",
       "      <td>1</td>\n",
       "      <td>0</td>\n",
       "      <td>1</td>\n",
       "    </tr>\n",
       "    <tr>\n",
       "      <th>1</th>\n",
       "      <td>146556</td>\n",
       "      <td>861.0</td>\n",
       "      <td>Рыбинск</td>\n",
       "      <td>Ж</td>\n",
       "      <td>37.0</td>\n",
       "      <td>5</td>\n",
       "      <td>850594.33</td>\n",
       "      <td>3</td>\n",
       "      <td>1</td>\n",
       "      <td>0</td>\n",
       "      <td>86621.77</td>\n",
       "      <td>0</td>\n",
       "      <td>0</td>\n",
       "      <td>1</td>\n",
       "      <td>0</td>\n",
       "      <td>1</td>\n",
       "      <td>0</td>\n",
       "      <td>1</td>\n",
       "    </tr>\n",
       "    <tr>\n",
       "      <th>2</th>\n",
       "      <td>120722</td>\n",
       "      <td>892.0</td>\n",
       "      <td>Рыбинск</td>\n",
       "      <td>Ж</td>\n",
       "      <td>30.0</td>\n",
       "      <td>0</td>\n",
       "      <td>NaN</td>\n",
       "      <td>1</td>\n",
       "      <td>1</td>\n",
       "      <td>1</td>\n",
       "      <td>107683.34</td>\n",
       "      <td>0</td>\n",
       "      <td>0</td>\n",
       "      <td>1</td>\n",
       "      <td>0</td>\n",
       "      <td>1</td>\n",
       "      <td>0</td>\n",
       "      <td>1</td>\n",
       "    </tr>\n",
       "    <tr>\n",
       "      <th>3</th>\n",
       "      <td>225363</td>\n",
       "      <td>866.0</td>\n",
       "      <td>Ярославль</td>\n",
       "      <td>Ж</td>\n",
       "      <td>51.0</td>\n",
       "      <td>5</td>\n",
       "      <td>1524746.26</td>\n",
       "      <td>2</td>\n",
       "      <td>0</td>\n",
       "      <td>1</td>\n",
       "      <td>174423.53</td>\n",
       "      <td>1</td>\n",
       "      <td>0</td>\n",
       "      <td>0</td>\n",
       "      <td>1</td>\n",
       "      <td>1</td>\n",
       "      <td>0</td>\n",
       "      <td>1</td>\n",
       "    </tr>\n",
       "    <tr>\n",
       "      <th>4</th>\n",
       "      <td>157978</td>\n",
       "      <td>730.0</td>\n",
       "      <td>Ярославль</td>\n",
       "      <td>М</td>\n",
       "      <td>34.0</td>\n",
       "      <td>5</td>\n",
       "      <td>174.00</td>\n",
       "      <td>1</td>\n",
       "      <td>1</td>\n",
       "      <td>0</td>\n",
       "      <td>67353.16</td>\n",
       "      <td>1</td>\n",
       "      <td>0</td>\n",
       "      <td>0</td>\n",
       "      <td>1</td>\n",
       "      <td>0</td>\n",
       "      <td>1</td>\n",
       "      <td>1</td>\n",
       "    </tr>\n",
       "  </tbody>\n",
       "</table>\n",
       "</div>"
      ],
      "text/plain": [
       "   user_id  score       city gender   age  equity     balance  products  \\\n",
       "0   183012  850.0    Рыбинск      Ж  25.0       1    59214.82         2   \n",
       "1   146556  861.0    Рыбинск      Ж  37.0       5   850594.33         3   \n",
       "2   120722  892.0    Рыбинск      Ж  30.0       0         NaN         1   \n",
       "3   225363  866.0  Ярославль      Ж  51.0       5  1524746.26         2   \n",
       "4   157978  730.0  Ярославль      М  34.0       5      174.00         1   \n",
       "\n",
       "   credit_card  last_activity  est_salary  churn  city_cod_Ростов  \\\n",
       "0            0              1    75719.14      1                0   \n",
       "1            1              0    86621.77      0                0   \n",
       "2            1              1   107683.34      0                0   \n",
       "3            0              1   174423.53      1                0   \n",
       "4            1              0    67353.16      1                0   \n",
       "\n",
       "   city_cod_Рыбинск  city_cod_Ярославль  gender_cod_Ж  gender_cod_М  age_nan  \n",
       "0                 1                   0             1             0        1  \n",
       "1                 1                   0             1             0        1  \n",
       "2                 1                   0             1             0        1  \n",
       "3                 0                   1             1             0        1  \n",
       "4                 0                   1             0             1        1  "
      ]
     },
     "execution_count": 11,
     "metadata": {},
     "output_type": "execute_result"
    }
   ],
   "source": [
    "def b(row):\n",
    "    if row >= 0:\n",
    "        return 1\n",
    "    else:\n",
    "        return 0\n",
    "\n",
    "data['age_nan'] = data['age'].apply(b)\n",
    "data.head()"
   ]
  },
  {
   "cell_type": "code",
   "execution_count": 12,
   "metadata": {},
   "outputs": [
    {
     "data": {
      "text/html": [
       "<div>\n",
       "<style scoped>\n",
       "    .dataframe tbody tr th:only-of-type {\n",
       "        vertical-align: middle;\n",
       "    }\n",
       "\n",
       "    .dataframe tbody tr th {\n",
       "        vertical-align: top;\n",
       "    }\n",
       "\n",
       "    .dataframe thead th {\n",
       "        text-align: right;\n",
       "    }\n",
       "</style>\n",
       "<table border=\"1\" class=\"dataframe\">\n",
       "  <thead>\n",
       "    <tr style=\"text-align: right;\">\n",
       "      <th></th>\n",
       "      <th>user_id</th>\n",
       "      <th>score</th>\n",
       "      <th>city</th>\n",
       "      <th>gender</th>\n",
       "      <th>age</th>\n",
       "      <th>equity</th>\n",
       "      <th>balance</th>\n",
       "      <th>products</th>\n",
       "      <th>credit_card</th>\n",
       "      <th>last_activity</th>\n",
       "      <th>est_salary</th>\n",
       "      <th>churn</th>\n",
       "      <th>city_cod_Ростов</th>\n",
       "      <th>city_cod_Рыбинск</th>\n",
       "      <th>city_cod_Ярославль</th>\n",
       "      <th>gender_cod_Ж</th>\n",
       "      <th>gender_cod_М</th>\n",
       "      <th>age_nan</th>\n",
       "      <th>balance_nan</th>\n",
       "    </tr>\n",
       "  </thead>\n",
       "  <tbody>\n",
       "    <tr>\n",
       "      <th>0</th>\n",
       "      <td>183012</td>\n",
       "      <td>850.0</td>\n",
       "      <td>Рыбинск</td>\n",
       "      <td>Ж</td>\n",
       "      <td>25.0</td>\n",
       "      <td>1</td>\n",
       "      <td>59214.82</td>\n",
       "      <td>2</td>\n",
       "      <td>0</td>\n",
       "      <td>1</td>\n",
       "      <td>75719.14</td>\n",
       "      <td>1</td>\n",
       "      <td>0</td>\n",
       "      <td>1</td>\n",
       "      <td>0</td>\n",
       "      <td>1</td>\n",
       "      <td>0</td>\n",
       "      <td>1</td>\n",
       "      <td>1</td>\n",
       "    </tr>\n",
       "    <tr>\n",
       "      <th>1</th>\n",
       "      <td>146556</td>\n",
       "      <td>861.0</td>\n",
       "      <td>Рыбинск</td>\n",
       "      <td>Ж</td>\n",
       "      <td>37.0</td>\n",
       "      <td>5</td>\n",
       "      <td>850594.33</td>\n",
       "      <td>3</td>\n",
       "      <td>1</td>\n",
       "      <td>0</td>\n",
       "      <td>86621.77</td>\n",
       "      <td>0</td>\n",
       "      <td>0</td>\n",
       "      <td>1</td>\n",
       "      <td>0</td>\n",
       "      <td>1</td>\n",
       "      <td>0</td>\n",
       "      <td>1</td>\n",
       "      <td>1</td>\n",
       "    </tr>\n",
       "    <tr>\n",
       "      <th>2</th>\n",
       "      <td>120722</td>\n",
       "      <td>892.0</td>\n",
       "      <td>Рыбинск</td>\n",
       "      <td>Ж</td>\n",
       "      <td>30.0</td>\n",
       "      <td>0</td>\n",
       "      <td>NaN</td>\n",
       "      <td>1</td>\n",
       "      <td>1</td>\n",
       "      <td>1</td>\n",
       "      <td>107683.34</td>\n",
       "      <td>0</td>\n",
       "      <td>0</td>\n",
       "      <td>1</td>\n",
       "      <td>0</td>\n",
       "      <td>1</td>\n",
       "      <td>0</td>\n",
       "      <td>1</td>\n",
       "      <td>0</td>\n",
       "    </tr>\n",
       "    <tr>\n",
       "      <th>3</th>\n",
       "      <td>225363</td>\n",
       "      <td>866.0</td>\n",
       "      <td>Ярославль</td>\n",
       "      <td>Ж</td>\n",
       "      <td>51.0</td>\n",
       "      <td>5</td>\n",
       "      <td>1524746.26</td>\n",
       "      <td>2</td>\n",
       "      <td>0</td>\n",
       "      <td>1</td>\n",
       "      <td>174423.53</td>\n",
       "      <td>1</td>\n",
       "      <td>0</td>\n",
       "      <td>0</td>\n",
       "      <td>1</td>\n",
       "      <td>1</td>\n",
       "      <td>0</td>\n",
       "      <td>1</td>\n",
       "      <td>1</td>\n",
       "    </tr>\n",
       "    <tr>\n",
       "      <th>4</th>\n",
       "      <td>157978</td>\n",
       "      <td>730.0</td>\n",
       "      <td>Ярославль</td>\n",
       "      <td>М</td>\n",
       "      <td>34.0</td>\n",
       "      <td>5</td>\n",
       "      <td>174.00</td>\n",
       "      <td>1</td>\n",
       "      <td>1</td>\n",
       "      <td>0</td>\n",
       "      <td>67353.16</td>\n",
       "      <td>1</td>\n",
       "      <td>0</td>\n",
       "      <td>0</td>\n",
       "      <td>1</td>\n",
       "      <td>0</td>\n",
       "      <td>1</td>\n",
       "      <td>1</td>\n",
       "      <td>1</td>\n",
       "    </tr>\n",
       "  </tbody>\n",
       "</table>\n",
       "</div>"
      ],
      "text/plain": [
       "   user_id  score       city gender   age  equity     balance  products  \\\n",
       "0   183012  850.0    Рыбинск      Ж  25.0       1    59214.82         2   \n",
       "1   146556  861.0    Рыбинск      Ж  37.0       5   850594.33         3   \n",
       "2   120722  892.0    Рыбинск      Ж  30.0       0         NaN         1   \n",
       "3   225363  866.0  Ярославль      Ж  51.0       5  1524746.26         2   \n",
       "4   157978  730.0  Ярославль      М  34.0       5      174.00         1   \n",
       "\n",
       "   credit_card  last_activity  est_salary  churn  city_cod_Ростов  \\\n",
       "0            0              1    75719.14      1                0   \n",
       "1            1              0    86621.77      0                0   \n",
       "2            1              1   107683.34      0                0   \n",
       "3            0              1   174423.53      1                0   \n",
       "4            1              0    67353.16      1                0   \n",
       "\n",
       "   city_cod_Рыбинск  city_cod_Ярославль  gender_cod_Ж  gender_cod_М  age_nan  \\\n",
       "0                 1                   0             1             0        1   \n",
       "1                 1                   0             1             0        1   \n",
       "2                 1                   0             1             0        1   \n",
       "3                 0                   1             1             0        1   \n",
       "4                 0                   1             0             1        1   \n",
       "\n",
       "   balance_nan  \n",
       "0            1  \n",
       "1            1  \n",
       "2            0  \n",
       "3            1  \n",
       "4            1  "
      ]
     },
     "execution_count": 12,
     "metadata": {},
     "output_type": "execute_result"
    }
   ],
   "source": [
    "def b(balance):\n",
    "    if balance >= 0:\n",
    "        return 1\n",
    "    else:\n",
    "        return 0\n",
    "\n",
    "data['balance_nan'] = data['balance'].apply(b)\n",
    "data.head()"
   ]
  },
  {
   "cell_type": "markdown",
   "metadata": {},
   "source": [
    "Мы создали столбцы с кодированным значением баланса и возраста: 0 - значение отсутствует, 1 - значения имеется. Теперь мы можем посмотреть корреляцию пропусков с другими данными. А также создали новые столбцы с кодированными значениями города и пола. Проведем корреляционный анализ."
   ]
  },
  {
   "cell_type": "markdown",
   "metadata": {},
   "source": [
    "Коэффициент корреляции по Чеддоку, наличие связи:\n",
    "0,1-0,3 Слабая\n",
    "0,3-0,5 Умеренная\n",
    "0,5-0,7 Заметная\n",
    "0,7-0,9 Высокая\n",
    "0,9-0,99 Весьма высокая"
   ]
  },
  {
   "cell_type": "code",
   "execution_count": 13,
   "metadata": {},
   "outputs": [
    {
     "data": {
      "image/png": "[encoded data removed]",
      "text/plain": [
       "<Figure size 936x720 with 2 Axes>"
      ]
     },
     "metadata": {
      "needs_background": "light"
     },
     "output_type": "display_data"
    }
   ],
   "source": [
    "columns_to_exclude = ['user_id', 'gender', 'city']\n",
    "\n",
    "data_corr = data.drop(columns=columns_to_exclude)\n",
    "\n",
    "phik_corr_matrix = data_corr.phik_matrix(interval_cols=['age', 'score', 'balance', 'est_salary'])\n",
    "\n",
    "plt.figure(figsize=(13, 10))\n",
    "sns.heatmap(phik_corr_matrix, annot=True, cmap='coolwarm', center=0)\n",
    "plt.title('Матрица корреляций')\n",
    "plt.show()"
   ]
  },
  {
   "cell_type": "code",
   "execution_count": 14,
   "metadata": {},
   "outputs": [
    {
     "data": {
      "image/png": "[encoded data removed]",
      "text/plain": [
       "<Figure size 432x288 with 2 Axes>"
      ]
     },
     "metadata": {
      "needs_background": "light"
     },
     "output_type": "display_data"
    }
   ],
   "source": [
    "sns.heatmap(phik_corr_matrix.loc[:,['age_nan']]\n",
    "            .sort_values('age_nan', ascending=False), \n",
    "            cmap='coolwarm', \n",
    "            center=0, \n",
    "            annot=True, \n",
    "            fmt=\".2f\"\n",
    "           )\n",
    "plt.title('Корреляция данных с признаком оттока')\n",
    "plt.show()"
   ]
  },
  {
   "cell_type": "markdown",
   "metadata": {},
   "source": [
    "Связь пропусков в возрасте с другими данными отсутствует. Пропуски в возрасте относятся к типу MCAR, их количество не велико, менее 5%. Удалим их"
   ]
  },
  {
   "cell_type": "code",
   "execution_count": 15,
   "metadata": {},
   "outputs": [
    {
     "data": {
      "text/plain": [
       "user_id                  0\n",
       "score                    0\n",
       "city                     0\n",
       "gender                   0\n",
       "age                      0\n",
       "equity                   0\n",
       "balance               2279\n",
       "products                 0\n",
       "credit_card              0\n",
       "last_activity            0\n",
       "est_salary               0\n",
       "churn                    0\n",
       "city_cod_Ростов          0\n",
       "city_cod_Рыбинск         0\n",
       "city_cod_Ярославль       0\n",
       "gender_cod_Ж             0\n",
       "gender_cod_М             0\n",
       "balance_nan              0\n",
       "dtype: int64"
      ]
     },
     "execution_count": 15,
     "metadata": {},
     "output_type": "execute_result"
    }
   ],
   "source": [
    "data.dropna(subset=['age'], inplace=True)\n",
    "del data['age_nan']\n",
    "data.isna().sum()"
   ]
  },
  {
   "cell_type": "code",
   "execution_count": 16,
   "metadata": {},
   "outputs": [
    {
     "data": {
      "image/png": "[encoded data removed]",
      "text/plain": [
       "<Figure size 432x288 with 2 Axes>"
      ]
     },
     "metadata": {
      "needs_background": "light"
     },
     "output_type": "display_data"
    }
   ],
   "source": [
    "sns.heatmap(phik_corr_matrix.loc[:,['balance_nan']]\n",
    "            .sort_values('balance_nan', ascending=False), \n",
    "            cmap='coolwarm', \n",
    "            center=0, \n",
    "            annot=True, \n",
    "            fmt=\".2f\"\n",
    "           )\n",
    "plt.title('Корреляция данных с признаком оттока')\n",
    "plt.show()"
   ]
  },
  {
   "cell_type": "markdown",
   "metadata": {},
   "source": [
    "Наличие пропусков заметно зависит от баллов собственности, общих баллов количества продуктов, связь с этими данными весьма высокая и высокая. Таким образом они относятся к типу MNAR.\n",
    "Пропуски зависят от других данных. Поэтому не будем подвергать их обработке или удалять. Тем более, что это значительная часть данных. "
   ]
  },
  {
   "cell_type": "markdown",
   "metadata": {},
   "source": [
    "### Изменение типов данных"
   ]
  },
  {
   "cell_type": "code",
   "execution_count": 17,
   "metadata": {},
   "outputs": [],
   "source": [
    "data['score'] = data['score'].astype(int)\n",
    "data['age'] = data['age'].astype(int)"
   ]
  },
  {
   "cell_type": "markdown",
   "metadata": {},
   "source": [
    "### Поиск дубликатов"
   ]
  },
  {
   "cell_type": "markdown",
   "metadata": {},
   "source": [
    "Явных дубликатов в данных нет, поищем неявные по столбцу user_id"
   ]
  },
  {
   "cell_type": "code",
   "execution_count": 18,
   "metadata": {},
   "outputs": [
    {
     "data": {
      "text/plain": [
       "50"
      ]
     },
     "execution_count": 18,
     "metadata": {},
     "output_type": "execute_result"
    }
   ],
   "source": [
    "data['user_id'].duplicated().sum()"
   ]
  },
  {
   "cell_type": "code",
   "execution_count": 19,
   "metadata": {},
   "outputs": [
    {
     "data": {
      "text/html": [
       "<div>\n",
       "<style scoped>\n",
       "    .dataframe tbody tr th:only-of-type {\n",
       "        vertical-align: middle;\n",
       "    }\n",
       "\n",
       "    .dataframe tbody tr th {\n",
       "        vertical-align: top;\n",
       "    }\n",
       "\n",
       "    .dataframe thead th {\n",
       "        text-align: right;\n",
       "    }\n",
       "</style>\n",
       "<table border=\"1\" class=\"dataframe\">\n",
       "  <thead>\n",
       "    <tr style=\"text-align: right;\">\n",
       "      <th></th>\n",
       "      <th>user_id</th>\n",
       "      <th>score</th>\n",
       "      <th>city</th>\n",
       "      <th>gender</th>\n",
       "      <th>age</th>\n",
       "      <th>equity</th>\n",
       "      <th>balance</th>\n",
       "      <th>products</th>\n",
       "      <th>credit_card</th>\n",
       "      <th>last_activity</th>\n",
       "      <th>est_salary</th>\n",
       "      <th>churn</th>\n",
       "      <th>city_cod_Ростов</th>\n",
       "      <th>city_cod_Рыбинск</th>\n",
       "      <th>city_cod_Ярославль</th>\n",
       "      <th>gender_cod_Ж</th>\n",
       "      <th>gender_cod_М</th>\n",
       "      <th>balance_nan</th>\n",
       "    </tr>\n",
       "  </thead>\n",
       "  <tbody>\n",
       "    <tr>\n",
       "      <th>8497</th>\n",
       "      <td>227795</td>\n",
       "      <td>839</td>\n",
       "      <td>Ярославль</td>\n",
       "      <td>М</td>\n",
       "      <td>34</td>\n",
       "      <td>2</td>\n",
       "      <td>326593.14</td>\n",
       "      <td>2</td>\n",
       "      <td>1</td>\n",
       "      <td>0</td>\n",
       "      <td>103314.92</td>\n",
       "      <td>0</td>\n",
       "      <td>0</td>\n",
       "      <td>0</td>\n",
       "      <td>1</td>\n",
       "      <td>0</td>\n",
       "      <td>1</td>\n",
       "      <td>1</td>\n",
       "    </tr>\n",
       "    <tr>\n",
       "      <th>8205</th>\n",
       "      <td>227795</td>\n",
       "      <td>840</td>\n",
       "      <td>Рыбинск</td>\n",
       "      <td>М</td>\n",
       "      <td>34</td>\n",
       "      <td>2</td>\n",
       "      <td>350768.03</td>\n",
       "      <td>1</td>\n",
       "      <td>1</td>\n",
       "      <td>0</td>\n",
       "      <td>102036.14</td>\n",
       "      <td>1</td>\n",
       "      <td>0</td>\n",
       "      <td>1</td>\n",
       "      <td>0</td>\n",
       "      <td>0</td>\n",
       "      <td>1</td>\n",
       "      <td>1</td>\n",
       "    </tr>\n",
       "    <tr>\n",
       "      <th>4216</th>\n",
       "      <td>226719</td>\n",
       "      <td>903</td>\n",
       "      <td>Рыбинск</td>\n",
       "      <td>Ж</td>\n",
       "      <td>63</td>\n",
       "      <td>0</td>\n",
       "      <td>NaN</td>\n",
       "      <td>1</td>\n",
       "      <td>1</td>\n",
       "      <td>0</td>\n",
       "      <td>138582.58</td>\n",
       "      <td>0</td>\n",
       "      <td>0</td>\n",
       "      <td>1</td>\n",
       "      <td>0</td>\n",
       "      <td>1</td>\n",
       "      <td>0</td>\n",
       "      <td>0</td>\n",
       "    </tr>\n",
       "    <tr>\n",
       "      <th>2597</th>\n",
       "      <td>226719</td>\n",
       "      <td>990</td>\n",
       "      <td>Ярославль</td>\n",
       "      <td>М</td>\n",
       "      <td>37</td>\n",
       "      <td>4</td>\n",
       "      <td>14648692.14</td>\n",
       "      <td>2</td>\n",
       "      <td>0</td>\n",
       "      <td>0</td>\n",
       "      <td>934412.61</td>\n",
       "      <td>1</td>\n",
       "      <td>0</td>\n",
       "      <td>0</td>\n",
       "      <td>1</td>\n",
       "      <td>0</td>\n",
       "      <td>1</td>\n",
       "      <td>1</td>\n",
       "    </tr>\n",
       "    <tr>\n",
       "      <th>2302</th>\n",
       "      <td>220816</td>\n",
       "      <td>934</td>\n",
       "      <td>Рыбинск</td>\n",
       "      <td>Ж</td>\n",
       "      <td>74</td>\n",
       "      <td>5</td>\n",
       "      <td>1294285.39</td>\n",
       "      <td>3</td>\n",
       "      <td>1</td>\n",
       "      <td>0</td>\n",
       "      <td>95606.80</td>\n",
       "      <td>0</td>\n",
       "      <td>0</td>\n",
       "      <td>1</td>\n",
       "      <td>0</td>\n",
       "      <td>1</td>\n",
       "      <td>0</td>\n",
       "      <td>1</td>\n",
       "    </tr>\n",
       "    <tr>\n",
       "      <th>1740</th>\n",
       "      <td>220816</td>\n",
       "      <td>840</td>\n",
       "      <td>Ярославль</td>\n",
       "      <td>Ж</td>\n",
       "      <td>41</td>\n",
       "      <td>3</td>\n",
       "      <td>1193287.13</td>\n",
       "      <td>2</td>\n",
       "      <td>1</td>\n",
       "      <td>1</td>\n",
       "      <td>76434.94</td>\n",
       "      <td>1</td>\n",
       "      <td>0</td>\n",
       "      <td>0</td>\n",
       "      <td>1</td>\n",
       "      <td>1</td>\n",
       "      <td>0</td>\n",
       "      <td>1</td>\n",
       "    </tr>\n",
       "    <tr>\n",
       "      <th>9406</th>\n",
       "      <td>217826</td>\n",
       "      <td>790</td>\n",
       "      <td>Рыбинск</td>\n",
       "      <td>Ж</td>\n",
       "      <td>46</td>\n",
       "      <td>4</td>\n",
       "      <td>430414.80</td>\n",
       "      <td>2</td>\n",
       "      <td>1</td>\n",
       "      <td>1</td>\n",
       "      <td>49400.37</td>\n",
       "      <td>0</td>\n",
       "      <td>0</td>\n",
       "      <td>1</td>\n",
       "      <td>0</td>\n",
       "      <td>1</td>\n",
       "      <td>0</td>\n",
       "      <td>1</td>\n",
       "    </tr>\n",
       "    <tr>\n",
       "      <th>4623</th>\n",
       "      <td>217826</td>\n",
       "      <td>842</td>\n",
       "      <td>Ярославль</td>\n",
       "      <td>М</td>\n",
       "      <td>39</td>\n",
       "      <td>4</td>\n",
       "      <td>439747.65</td>\n",
       "      <td>2</td>\n",
       "      <td>0</td>\n",
       "      <td>1</td>\n",
       "      <td>116736.75</td>\n",
       "      <td>1</td>\n",
       "      <td>0</td>\n",
       "      <td>0</td>\n",
       "      <td>1</td>\n",
       "      <td>0</td>\n",
       "      <td>1</td>\n",
       "      <td>1</td>\n",
       "    </tr>\n",
       "    <tr>\n",
       "      <th>1970</th>\n",
       "      <td>217643</td>\n",
       "      <td>845</td>\n",
       "      <td>Ярославль</td>\n",
       "      <td>М</td>\n",
       "      <td>29</td>\n",
       "      <td>5</td>\n",
       "      <td>733098.45</td>\n",
       "      <td>4</td>\n",
       "      <td>1</td>\n",
       "      <td>1</td>\n",
       "      <td>41443.01</td>\n",
       "      <td>1</td>\n",
       "      <td>0</td>\n",
       "      <td>0</td>\n",
       "      <td>1</td>\n",
       "      <td>0</td>\n",
       "      <td>1</td>\n",
       "      <td>1</td>\n",
       "    </tr>\n",
       "    <tr>\n",
       "      <th>4186</th>\n",
       "      <td>217643</td>\n",
       "      <td>804</td>\n",
       "      <td>Рыбинск</td>\n",
       "      <td>Ж</td>\n",
       "      <td>40</td>\n",
       "      <td>2</td>\n",
       "      <td>301836.65</td>\n",
       "      <td>2</td>\n",
       "      <td>1</td>\n",
       "      <td>1</td>\n",
       "      <td>81137.22</td>\n",
       "      <td>0</td>\n",
       "      <td>0</td>\n",
       "      <td>1</td>\n",
       "      <td>0</td>\n",
       "      <td>1</td>\n",
       "      <td>0</td>\n",
       "      <td>1</td>\n",
       "    </tr>\n",
       "    <tr>\n",
       "      <th>5807</th>\n",
       "      <td>217619</td>\n",
       "      <td>766</td>\n",
       "      <td>Ярославль</td>\n",
       "      <td>М</td>\n",
       "      <td>52</td>\n",
       "      <td>2</td>\n",
       "      <td>218199.47</td>\n",
       "      <td>1</td>\n",
       "      <td>1</td>\n",
       "      <td>0</td>\n",
       "      <td>120356.44</td>\n",
       "      <td>0</td>\n",
       "      <td>0</td>\n",
       "      <td>0</td>\n",
       "      <td>1</td>\n",
       "      <td>0</td>\n",
       "      <td>1</td>\n",
       "      <td>1</td>\n",
       "    </tr>\n",
       "    <tr>\n",
       "      <th>4611</th>\n",
       "      <td>217619</td>\n",
       "      <td>903</td>\n",
       "      <td>Рыбинск</td>\n",
       "      <td>Ж</td>\n",
       "      <td>59</td>\n",
       "      <td>5</td>\n",
       "      <td>844055.83</td>\n",
       "      <td>2</td>\n",
       "      <td>0</td>\n",
       "      <td>1</td>\n",
       "      <td>133999.76</td>\n",
       "      <td>1</td>\n",
       "      <td>0</td>\n",
       "      <td>1</td>\n",
       "      <td>0</td>\n",
       "      <td>1</td>\n",
       "      <td>0</td>\n",
       "      <td>1</td>\n",
       "    </tr>\n",
       "    <tr>\n",
       "      <th>9880</th>\n",
       "      <td>217412</td>\n",
       "      <td>886</td>\n",
       "      <td>Ярославль</td>\n",
       "      <td>Ж</td>\n",
       "      <td>35</td>\n",
       "      <td>3</td>\n",
       "      <td>1026172.14</td>\n",
       "      <td>2</td>\n",
       "      <td>1</td>\n",
       "      <td>0</td>\n",
       "      <td>53099.16</td>\n",
       "      <td>0</td>\n",
       "      <td>0</td>\n",
       "      <td>0</td>\n",
       "      <td>1</td>\n",
       "      <td>1</td>\n",
       "      <td>0</td>\n",
       "      <td>1</td>\n",
       "    </tr>\n",
       "    <tr>\n",
       "      <th>7055</th>\n",
       "      <td>217412</td>\n",
       "      <td>879</td>\n",
       "      <td>Рыбинск</td>\n",
       "      <td>М</td>\n",
       "      <td>42</td>\n",
       "      <td>5</td>\n",
       "      <td>568140.15</td>\n",
       "      <td>3</td>\n",
       "      <td>0</td>\n",
       "      <td>0</td>\n",
       "      <td>231658.67</td>\n",
       "      <td>1</td>\n",
       "      <td>0</td>\n",
       "      <td>1</td>\n",
       "      <td>0</td>\n",
       "      <td>0</td>\n",
       "      <td>1</td>\n",
       "      <td>1</td>\n",
       "    </tr>\n",
       "    <tr>\n",
       "      <th>1359</th>\n",
       "      <td>211130</td>\n",
       "      <td>833</td>\n",
       "      <td>Ярославль</td>\n",
       "      <td>М</td>\n",
       "      <td>55</td>\n",
       "      <td>3</td>\n",
       "      <td>1231184.90</td>\n",
       "      <td>4</td>\n",
       "      <td>0</td>\n",
       "      <td>1</td>\n",
       "      <td>187758.38</td>\n",
       "      <td>1</td>\n",
       "      <td>0</td>\n",
       "      <td>0</td>\n",
       "      <td>1</td>\n",
       "      <td>0</td>\n",
       "      <td>1</td>\n",
       "      <td>1</td>\n",
       "    </tr>\n",
       "    <tr>\n",
       "      <th>3817</th>\n",
       "      <td>211130</td>\n",
       "      <td>918</td>\n",
       "      <td>Рыбинск</td>\n",
       "      <td>Ж</td>\n",
       "      <td>55</td>\n",
       "      <td>0</td>\n",
       "      <td>NaN</td>\n",
       "      <td>2</td>\n",
       "      <td>1</td>\n",
       "      <td>1</td>\n",
       "      <td>244202.04</td>\n",
       "      <td>0</td>\n",
       "      <td>0</td>\n",
       "      <td>1</td>\n",
       "      <td>0</td>\n",
       "      <td>1</td>\n",
       "      <td>0</td>\n",
       "      <td>0</td>\n",
       "    </tr>\n",
       "    <tr>\n",
       "      <th>7814</th>\n",
       "      <td>210792</td>\n",
       "      <td>839</td>\n",
       "      <td>Ярославль</td>\n",
       "      <td>М</td>\n",
       "      <td>42</td>\n",
       "      <td>2</td>\n",
       "      <td>662646.97</td>\n",
       "      <td>1</td>\n",
       "      <td>1</td>\n",
       "      <td>0</td>\n",
       "      <td>138403.60</td>\n",
       "      <td>0</td>\n",
       "      <td>0</td>\n",
       "      <td>0</td>\n",
       "      <td>1</td>\n",
       "      <td>0</td>\n",
       "      <td>1</td>\n",
       "      <td>1</td>\n",
       "    </tr>\n",
       "    <tr>\n",
       "      <th>4986</th>\n",
       "      <td>210792</td>\n",
       "      <td>884</td>\n",
       "      <td>Рыбинск</td>\n",
       "      <td>М</td>\n",
       "      <td>48</td>\n",
       "      <td>4</td>\n",
       "      <td>2228037.20</td>\n",
       "      <td>2</td>\n",
       "      <td>0</td>\n",
       "      <td>1</td>\n",
       "      <td>207978.09</td>\n",
       "      <td>1</td>\n",
       "      <td>0</td>\n",
       "      <td>1</td>\n",
       "      <td>0</td>\n",
       "      <td>0</td>\n",
       "      <td>1</td>\n",
       "      <td>1</td>\n",
       "    </tr>\n",
       "    <tr>\n",
       "      <th>869</th>\n",
       "      <td>210662</td>\n",
       "      <td>962</td>\n",
       "      <td>Ярославль</td>\n",
       "      <td>Ж</td>\n",
       "      <td>54</td>\n",
       "      <td>5</td>\n",
       "      <td>5069231.39</td>\n",
       "      <td>1</td>\n",
       "      <td>1</td>\n",
       "      <td>1</td>\n",
       "      <td>955144.85</td>\n",
       "      <td>1</td>\n",
       "      <td>0</td>\n",
       "      <td>0</td>\n",
       "      <td>1</td>\n",
       "      <td>1</td>\n",
       "      <td>0</td>\n",
       "      <td>1</td>\n",
       "    </tr>\n",
       "    <tr>\n",
       "      <th>1837</th>\n",
       "      <td>210662</td>\n",
       "      <td>896</td>\n",
       "      <td>Рыбинск</td>\n",
       "      <td>Ж</td>\n",
       "      <td>37</td>\n",
       "      <td>0</td>\n",
       "      <td>NaN</td>\n",
       "      <td>2</td>\n",
       "      <td>0</td>\n",
       "      <td>0</td>\n",
       "      <td>90916.04</td>\n",
       "      <td>0</td>\n",
       "      <td>0</td>\n",
       "      <td>1</td>\n",
       "      <td>0</td>\n",
       "      <td>1</td>\n",
       "      <td>0</td>\n",
       "      <td>0</td>\n",
       "    </tr>\n",
       "  </tbody>\n",
       "</table>\n",
       "</div>"
      ],
      "text/plain": [
       "      user_id  score       city gender  age  equity      balance  products  \\\n",
       "8497   227795    839  Ярославль      М   34       2    326593.14         2   \n",
       "8205   227795    840    Рыбинск      М   34       2    350768.03         1   \n",
       "4216   226719    903    Рыбинск      Ж   63       0          NaN         1   \n",
       "2597   226719    990  Ярославль      М   37       4  14648692.14         2   \n",
       "2302   220816    934    Рыбинск      Ж   74       5   1294285.39         3   \n",
       "1740   220816    840  Ярославль      Ж   41       3   1193287.13         2   \n",
       "9406   217826    790    Рыбинск      Ж   46       4    430414.80         2   \n",
       "4623   217826    842  Ярославль      М   39       4    439747.65         2   \n",
       "1970   217643    845  Ярославль      М   29       5    733098.45         4   \n",
       "4186   217643    804    Рыбинск      Ж   40       2    301836.65         2   \n",
       "5807   217619    766  Ярославль      М   52       2    218199.47         1   \n",
       "4611   217619    903    Рыбинск      Ж   59       5    844055.83         2   \n",
       "9880   217412    886  Ярославль      Ж   35       3   1026172.14         2   \n",
       "7055   217412    879    Рыбинск      М   42       5    568140.15         3   \n",
       "1359   211130    833  Ярославль      М   55       3   1231184.90         4   \n",
       "3817   211130    918    Рыбинск      Ж   55       0          NaN         2   \n",
       "7814   210792    839  Ярославль      М   42       2    662646.97         1   \n",
       "4986   210792    884    Рыбинск      М   48       4   2228037.20         2   \n",
       "869    210662    962  Ярославль      Ж   54       5   5069231.39         1   \n",
       "1837   210662    896    Рыбинск      Ж   37       0          NaN         2   \n",
       "\n",
       "      credit_card  last_activity  est_salary  churn  city_cod_Ростов  \\\n",
       "8497            1              0   103314.92      0                0   \n",
       "8205            1              0   102036.14      1                0   \n",
       "4216            1              0   138582.58      0                0   \n",
       "2597            0              0   934412.61      1                0   \n",
       "2302            1              0    95606.80      0                0   \n",
       "1740            1              1    76434.94      1                0   \n",
       "9406            1              1    49400.37      0                0   \n",
       "4623            0              1   116736.75      1                0   \n",
       "1970            1              1    41443.01      1                0   \n",
       "4186            1              1    81137.22      0                0   \n",
       "5807            1              0   120356.44      0                0   \n",
       "4611            0              1   133999.76      1                0   \n",
       "9880            1              0    53099.16      0                0   \n",
       "7055            0              0   231658.67      1                0   \n",
       "1359            0              1   187758.38      1                0   \n",
       "3817            1              1   244202.04      0                0   \n",
       "7814            1              0   138403.60      0                0   \n",
       "4986            0              1   207978.09      1                0   \n",
       "869             1              1   955144.85      1                0   \n",
       "1837            0              0    90916.04      0                0   \n",
       "\n",
       "      city_cod_Рыбинск  city_cod_Ярославль  gender_cod_Ж  gender_cod_М  \\\n",
       "8497                 0                   1             0             1   \n",
       "8205                 1                   0             0             1   \n",
       "4216                 1                   0             1             0   \n",
       "2597                 0                   1             0             1   \n",
       "2302                 1                   0             1             0   \n",
       "1740                 0                   1             1             0   \n",
       "9406                 1                   0             1             0   \n",
       "4623                 0                   1             0             1   \n",
       "1970                 0                   1             0             1   \n",
       "4186                 1                   0             1             0   \n",
       "5807                 0                   1             0             1   \n",
       "4611                 1                   0             1             0   \n",
       "9880                 0                   1             1             0   \n",
       "7055                 1                   0             0             1   \n",
       "1359                 0                   1             0             1   \n",
       "3817                 1                   0             1             0   \n",
       "7814                 0                   1             0             1   \n",
       "4986                 1                   0             0             1   \n",
       "869                  0                   1             1             0   \n",
       "1837                 1                   0             1             0   \n",
       "\n",
       "      balance_nan  \n",
       "8497            1  \n",
       "8205            1  \n",
       "4216            0  \n",
       "2597            1  \n",
       "2302            1  \n",
       "1740            1  \n",
       "9406            1  \n",
       "4623            1  \n",
       "1970            1  \n",
       "4186            1  \n",
       "5807            1  \n",
       "4611            1  \n",
       "9880            1  \n",
       "7055            1  \n",
       "1359            1  \n",
       "3817            0  \n",
       "7814            1  \n",
       "4986            1  \n",
       "869             1  \n",
       "1837            0  "
      ]
     },
     "execution_count": 19,
     "metadata": {},
     "output_type": "execute_result"
    }
   ],
   "source": [
    "data[data.duplicated(['user_id'], keep=False)].sort_values(by = ['user_id'], ascending=False).head(20)"
   ]
  },
  {
   "cell_type": "markdown",
   "metadata": {},
   "source": [
    "В данных имеется дублирование id пользователей. Однако остальные данные в этих записях отличны. Возможно id ушедших пользователей присваивалось новым клиентам. Данные дубликаты дополнительной обработки не требуют."
   ]
  },
  {
   "cell_type": "markdown",
   "metadata": {},
   "source": [
    "В ходе предаброботки данных стобцы били приведы к единому стилю. Были удалены записи с пропусками в стобце age. Были изменены данные в столбцах с баллами и возрастом на целочисленные значения. А также были найдены и изучены неявные дубликаты id пользователей. Были созданы новые столбцы с кодированными данными для использования в анализе корреляции."
   ]
  },
  {
   "cell_type": "markdown",
   "metadata": {},
   "source": [
    "## Исследовательский анализ"
   ]
  },
  {
   "cell_type": "markdown",
   "metadata": {},
   "source": [
    "### Анализ распределения признаков в разрезе оттока"
   ]
  },
  {
   "cell_type": "code",
   "execution_count": 20,
   "metadata": {},
   "outputs": [
    {
     "data": {
      "image/png": "[encoded data removed]",
      "text/plain": [
       "<Figure size 936x720 with 4 Axes>"
      ]
     },
     "metadata": {
      "needs_background": "light"
     },
     "output_type": "display_data"
    }
   ],
   "source": [
    "fig, ((ax1, ax2), (ax3, ax4)) = plt.subplots(nrows=2, ncols=2, figsize=(13, 10))\n",
    "\n",
    "ax1 = sns.histplot(data, x=data['score'], hue=data['churn'], stat='density', common_norm=False, ax=ax1)\n",
    "ax1.set_xlabel('Балы')\n",
    "ax1.set_ylabel('Плотность')\n",
    "ax1.set_title('Распределение по баллам')\n",
    "\n",
    "ax2 = sns.histplot(data,  x=data['age'],   hue=data['churn'], stat='density', common_norm=False, binwidth=1, ax=ax2)\n",
    "ax2.set_xlabel('Возраст')\n",
    "ax2.set_ylabel('Плотность')\n",
    "ax2.set_title('Распределение по возрасту')\n",
    "\n",
    "ax3 = sns.histplot(data,  x=data['balance'],  hue=data['churn'], stat='density', common_norm=False, ax=ax3)\n",
    "ax3.set_xlim(0, 3000000)\n",
    "ax3.set_xlabel('Баланс')\n",
    "ax3.set_ylabel('Плотность')\n",
    "ax3.set_title('Распределение по балансу')\n",
    "\n",
    "ax4 = sns.histplot(data, x=data['est_salary'], hue=data['churn'], stat='density', common_norm=False,  ax=ax4)\n",
    "ax4.set_xlim(0, 500000)\n",
    "ax4.set_xlabel('Доход')\n",
    "ax4.set_ylabel('Плотность')\n",
    "ax4.set_title('Распределение по оценочному доходу')\n",
    "\n",
    "plt.suptitle('Распределение по количественным признакам')\n",
    "plt.show()"
   ]
  },
  {
   "cell_type": "markdown",
   "metadata": {},
   "source": [
    "**Выводы:** \n",
    "- На графике распределения по балам хорошо видна группа клиентов, наиболее склонных к оттоку. Их баллы находятся в диапазоне с 825 по 930.\n",
    "- На графике распределения по возрасту видно две группы клиентов наиболее склонных у уходу - с 25 до 35 и с 50 до 61 год. Наиболее лояльные клиенты имеют в возсраст от 62 лет, а также находятся в диапозано с 36 до 49 лет.\n",
    "- Клиенты имееющие баланс свыше 950 000 наиболее склонны к уходу.\n",
    "- Клиенты с оценочным доходом свыше 100 000 больше подвержены риску ухода."
   ]
  },
  {
   "cell_type": "markdown",
   "metadata": {},
   "source": [
    "Удалим некорректные данные, у клиентов банка не может быть 0 продуктов."
   ]
  },
  {
   "cell_type": "code",
   "execution_count": 21,
   "metadata": {},
   "outputs": [
    {
     "data": {
      "text/html": [
       "<div>\n",
       "<style scoped>\n",
       "    .dataframe tbody tr th:only-of-type {\n",
       "        vertical-align: middle;\n",
       "    }\n",
       "\n",
       "    .dataframe tbody tr th {\n",
       "        vertical-align: top;\n",
       "    }\n",
       "\n",
       "    .dataframe thead th {\n",
       "        text-align: right;\n",
       "    }\n",
       "</style>\n",
       "<table border=\"1\" class=\"dataframe\">\n",
       "  <thead>\n",
       "    <tr style=\"text-align: right;\">\n",
       "      <th></th>\n",
       "      <th>user_id</th>\n",
       "      <th>score</th>\n",
       "      <th>city</th>\n",
       "      <th>gender</th>\n",
       "      <th>age</th>\n",
       "      <th>equity</th>\n",
       "      <th>balance</th>\n",
       "      <th>products</th>\n",
       "      <th>credit_card</th>\n",
       "      <th>last_activity</th>\n",
       "      <th>est_salary</th>\n",
       "      <th>churn</th>\n",
       "      <th>city_cod_Ростов</th>\n",
       "      <th>city_cod_Рыбинск</th>\n",
       "      <th>city_cod_Ярославль</th>\n",
       "      <th>gender_cod_Ж</th>\n",
       "      <th>gender_cod_М</th>\n",
       "      <th>balance_nan</th>\n",
       "    </tr>\n",
       "  </thead>\n",
       "  <tbody>\n",
       "    <tr>\n",
       "      <th>8957</th>\n",
       "      <td>147837</td>\n",
       "      <td>962</td>\n",
       "      <td>Рыбинск</td>\n",
       "      <td>Ж</td>\n",
       "      <td>79</td>\n",
       "      <td>3</td>\n",
       "      <td>NaN</td>\n",
       "      <td>0</td>\n",
       "      <td>0</td>\n",
       "      <td>0</td>\n",
       "      <td>25063.96</td>\n",
       "      <td>1</td>\n",
       "      <td>0</td>\n",
       "      <td>1</td>\n",
       "      <td>0</td>\n",
       "      <td>1</td>\n",
       "      <td>0</td>\n",
       "      <td>0</td>\n",
       "    </tr>\n",
       "  </tbody>\n",
       "</table>\n",
       "</div>"
      ],
      "text/plain": [
       "      user_id  score     city gender  age  equity  balance  products  \\\n",
       "8957   147837    962  Рыбинск      Ж   79       3      NaN         0   \n",
       "\n",
       "      credit_card  last_activity  est_salary  churn  city_cod_Ростов  \\\n",
       "8957            0              0    25063.96      1                0   \n",
       "\n",
       "      city_cod_Рыбинск  city_cod_Ярославль  gender_cod_Ж  gender_cod_М  \\\n",
       "8957                 1                   0             1             0   \n",
       "\n",
       "      balance_nan  \n",
       "8957            0  "
      ]
     },
     "metadata": {},
     "output_type": "display_data"
    }
   ],
   "source": [
    "display(data[data['products'] == 0])\n",
    "data = data[data['products'] != 0]"
   ]
  },
  {
   "cell_type": "code",
   "execution_count": 22,
   "metadata": {},
   "outputs": [
    {
     "data": {
      "image/png": "[encoded data removed]",
      "text/plain": [
       "<Figure size 936x720 with 6 Axes>"
      ]
     },
     "metadata": {
      "needs_background": "light"
     },
     "output_type": "display_data"
    }
   ],
   "source": [
    "fig, ((ax1, ax2), (ax3, ax4), (ax5, ax6)) = plt.subplots(nrows=3, ncols=2, figsize=(13, 10))\n",
    "\n",
    "mean_churn = data['churn'].mean()\n",
    "palette = \"rocket\" \n",
    "\n",
    "sns.barplot(x='city', y='churn', data=data,  palette=palette, ax=ax1)\n",
    "ax1.axhline(y=mean_churn, color='gray', linestyle='--')\n",
    "ax1.set_xlabel('Город')\n",
    "ax1.set_ylabel('Доли оттока')\n",
    "ax1.set_title('Признак оттока по городам')\n",
    "\n",
    "sns.barplot(x='gender', y='churn', data=data, palette=palette, ax=ax2)\n",
    "ax2.axhline(y=mean_churn, color='gray', linestyle='--')\n",
    "ax2.set_xlabel('Пол')\n",
    "ax2.set_ylabel('Доли оттока')\n",
    "ax2.set_title('Признак оттока в зависимости от пола')\n",
    "\n",
    "sns.barplot(x='credit_card', y='churn', data=data,  palette=palette, ax=ax3)\n",
    "ax3.axhline(y=mean_churn, color='gray', linestyle='--')\n",
    "ax3.set_xlabel('Кредитные карты')\n",
    "ax3.set_ylabel('Доли оттока')\n",
    "ax3.set_title('Признак оттока по количеству кредитных карт')\n",
    "\n",
    "sns.barplot(x='last_activity', y='churn', data=data, palette=palette, ax=ax4)\n",
    "ax4.axhline(y=mean_churn, color='gray', linestyle='--')\n",
    "ax4.set_xlabel('Активность')\n",
    "ax4.set_ylabel('Доли оттока')\n",
    "ax4.set_title('Признак оттока по активности')\n",
    "\n",
    "sns.barplot(x='equity', y='churn', data=data, palette=palette, ax=ax5)\n",
    "ax5.axhline(y=mean_churn, color='gray', linestyle='--')\n",
    "ax5.set_xlabel('Баллы собственности')\n",
    "ax5.set_ylabel('Доли оттока')\n",
    "ax5.set_title('Признак оттока по баллам собственности')\n",
    "\n",
    "sns.barplot(x='products', y='churn', data=data, palette=palette, ax=ax6)\n",
    "ax6.axhline(y=mean_churn, color='gray', linestyle='--')\n",
    "ax6.set_xlabel('Продукты')\n",
    "ax6.set_ylabel('Доли оттока')\n",
    "ax6.set_title('Признак оттока по количеству продуктов')\n",
    "\n",
    "plt.tight_layout()\n",
    "plt.show()"
   ]
  },
  {
   "cell_type": "markdown",
   "metadata": {},
   "source": [
    "**Выводы:** \n",
    "- По городам нет значительных различий по доле ушедших.\n",
    "- Среди мужчин показатель оттока выше.\n",
    "- Показатель оттока выше у клиентов без кредитных карт.\n",
    "- Показатель оттока выше у активных пользователей.\n",
    "- Показатель оттока растет с баллами собственности, чем больше баллов, тем выше доля ушедших.\n",
    "- Доля ушедших растет с увелечением числа продуктов."
   ]
  },
  {
   "cell_type": "markdown",
   "metadata": {},
   "source": [
    "### Анализ портретов клиентов в разрезе оттока"
   ]
  },
  {
   "cell_type": "code",
   "execution_count": 23,
   "metadata": {},
   "outputs": [
    {
     "data": {
      "text/html": [
       "<div>\n",
       "<style scoped>\n",
       "    .dataframe tbody tr th:only-of-type {\n",
       "        vertical-align: middle;\n",
       "    }\n",
       "\n",
       "    .dataframe tbody tr th {\n",
       "        vertical-align: top;\n",
       "    }\n",
       "\n",
       "    .dataframe thead th {\n",
       "        text-align: right;\n",
       "    }\n",
       "</style>\n",
       "<table border=\"1\" class=\"dataframe\">\n",
       "  <thead>\n",
       "    <tr style=\"text-align: right;\">\n",
       "      <th></th>\n",
       "      <th>Оставшиеся</th>\n",
       "      <th>Ушедшие</th>\n",
       "      <th>Разница</th>\n",
       "    </tr>\n",
       "  </thead>\n",
       "  <tbody>\n",
       "    <tr>\n",
       "      <th>age</th>\n",
       "      <td>43.020846</td>\n",
       "      <td>41.429593</td>\n",
       "      <td>-3.7</td>\n",
       "    </tr>\n",
       "    <tr>\n",
       "      <th>score</th>\n",
       "      <td>845.396199</td>\n",
       "      <td>863.361936</td>\n",
       "      <td>2.13</td>\n",
       "    </tr>\n",
       "    <tr>\n",
       "      <th>balance</th>\n",
       "      <td>475410.09</td>\n",
       "      <td>783908.9</td>\n",
       "      <td>64.89</td>\n",
       "    </tr>\n",
       "    <tr>\n",
       "      <th>equity</th>\n",
       "      <td>3.0</td>\n",
       "      <td>4.0</td>\n",
       "      <td>33.33</td>\n",
       "    </tr>\n",
       "    <tr>\n",
       "      <th>est_salary</th>\n",
       "      <td>118227.6</td>\n",
       "      <td>125408.88</td>\n",
       "      <td>6.07</td>\n",
       "    </tr>\n",
       "    <tr>\n",
       "      <th>products</th>\n",
       "      <td>2.0</td>\n",
       "      <td>2.0</td>\n",
       "      <td>0.0</td>\n",
       "    </tr>\n",
       "    <tr>\n",
       "      <th>city</th>\n",
       "      <td>Ярославль</td>\n",
       "      <td>Ярославль</td>\n",
       "      <td>-</td>\n",
       "    </tr>\n",
       "    <tr>\n",
       "      <th>gender</th>\n",
       "      <td>Ж</td>\n",
       "      <td>М</td>\n",
       "      <td>-</td>\n",
       "    </tr>\n",
       "    <tr>\n",
       "      <th>credit_card</th>\n",
       "      <td>1</td>\n",
       "      <td>1</td>\n",
       "      <td>-</td>\n",
       "    </tr>\n",
       "    <tr>\n",
       "      <th>last_activity</th>\n",
       "      <td>0</td>\n",
       "      <td>1</td>\n",
       "      <td>-</td>\n",
       "    </tr>\n",
       "    <tr>\n",
       "      <th>churn</th>\n",
       "      <td>0</td>\n",
       "      <td>1</td>\n",
       "      <td>-</td>\n",
       "    </tr>\n",
       "  </tbody>\n",
       "</table>\n",
       "</div>"
      ],
      "text/plain": [
       "               Оставшиеся     Ушедшие Разница\n",
       "age             43.020846   41.429593    -3.7\n",
       "score          845.396199  863.361936    2.13\n",
       "balance         475410.09    783908.9   64.89\n",
       "equity                3.0         4.0   33.33\n",
       "est_salary       118227.6   125408.88    6.07\n",
       "products              2.0         2.0     0.0\n",
       "city            Ярославль   Ярославль       -\n",
       "gender                  Ж           М       -\n",
       "credit_card             1           1       -\n",
       "last_activity           0           1       -\n",
       "churn                   0           1       -"
      ]
     },
     "execution_count": 23,
     "metadata": {},
     "output_type": "execute_result"
    }
   ],
   "source": [
    "portret_mean = data.pivot_table(index='churn', values= ['score', 'age'], aggfunc='mean').T\n",
    "portret_mean.columns = ['Оставшиеся', 'Ушедшие']\n",
    "portret_mean['Разница']=((portret_mean['Ушедшие']/portret_mean['Оставшиеся']-1)*100).round(2)\n",
    "\n",
    "\n",
    "portret_median = data.pivot_table(index='churn', values= ['balance', 'est_salary', 'equity', 'products'], aggfunc='median').T\n",
    "portret_median.columns = ['Оставшиеся', 'Ушедшие']\n",
    "portret_median['Разница']=((portret_median['Ушедшие']/portret_median['Оставшиеся']-1)*100).round(2)\n",
    "\n",
    "portret_mode = data[['city', 'gender', 'credit_card', 'last_activity', 'churn']]\n",
    "portret_mode = portret_mode.groupby('churn').apply(lambda x: x.mode()).T\n",
    "portret_mode.columns = ['Оставшиеся', 'Ушедшие']\n",
    "portret_mode['Разница']= '-'\n",
    "\n",
    "portret = pd.concat([portret_mean, portret_median, portret_mode])\n",
    "portret"
   ]
  },
  {
   "cell_type": "markdown",
   "metadata": {},
   "source": [
    "**Выводы:**  \n",
    "При анализе портретов ушедших и оставшихся клиентов обнаружились существенные различия в балансе, баллах собственности, поле и активности. Ушедшие клиенты чаще мужчины с высокими баллами собственности и более высоким балансом, а также являющиеся активными клиентами. "
   ]
  },
  {
   "cell_type": "markdown",
   "metadata": {},
   "source": [
    "### Корреляционный анализ признака churn"
   ]
  },
  {
   "cell_type": "markdown",
   "metadata": {},
   "source": [
    "Коэффициент корреляции по Чеддоку, наличие связи:  \n",
    "0,1-0,3\t Слабая  \n",
    "0,3-0,5\t Умеренная  \n",
    "0,5-0,7\t Заметная  \n",
    "0,7-0,9\t Высокая  \n",
    "0,9-0,99 Весьма высокая"
   ]
  },
  {
   "cell_type": "code",
   "execution_count": 24,
   "metadata": {},
   "outputs": [
    {
     "data": {
      "image/png": "[encoded data removed]",
      "text/plain": [
       "<Figure size 936x720 with 2 Axes>"
      ]
     },
     "metadata": {
      "needs_background": "light"
     },
     "output_type": "display_data"
    }
   ],
   "source": [
    "columns_to_exclude = ['user_id', 'gender', 'city']\n",
    "\n",
    "data_corr = data.drop(columns=columns_to_exclude)\n",
    "\n",
    "phik_corr_matrix = data_corr.phik_matrix(interval_cols=['age', 'score', 'balance', 'est_salary'])\n",
    "\n",
    "plt.figure(figsize=(13, 10))\n",
    "sns.heatmap(phik_corr_matrix, annot=True, cmap='coolwarm', center=0)\n",
    "plt.title('Матрица корреляций')\n",
    "plt.show()"
   ]
  },
  {
   "cell_type": "code",
   "execution_count": 25,
   "metadata": {},
   "outputs": [
    {
     "data": {
      "image/png": "[encoded data removed]",
      "text/plain": [
       "<Figure size 432x288 with 2 Axes>"
      ]
     },
     "metadata": {
      "needs_background": "light"
     },
     "output_type": "display_data"
    }
   ],
   "source": [
    "sns.heatmap(phik_corr_matrix.loc[:,['churn']]\n",
    "            .sort_values('churn', ascending=False), \n",
    "            cmap='coolwarm', \n",
    "            center=0, \n",
    "            annot=True, \n",
    "            fmt=\".2f\"\n",
    "           )\n",
    "plt.title('Корреляция данных с признаком оттока')\n",
    "plt.show()"
   ]
  },
  {
   "cell_type": "markdown",
   "metadata": {},
   "source": [
    "**Выводы:**\n",
    "- Имеется умеренная связь с пропусками в балансе и с баллами собственности\n",
    "- Слабая связь имеется с активностью клиета, количеством продуктов, баллами, полом, наличием кредитной карты и возрастом.\n",
    "- Связь отсутствует с оценочным доходом, городом и балансом\n",
    "\n",
    "По матрице корреляций нет ярко выраженных взаимосвязей с признаком отттока"
   ]
  },
  {
   "cell_type": "markdown",
   "metadata": {},
   "source": [
    "## Проверка гипотез"
   ]
  },
  {
   "cell_type": "markdown",
   "metadata": {},
   "source": [
    "### Гипотеза о влиянии уровня дохода на вероятность ухода"
   ]
  },
  {
   "cell_type": "markdown",
   "metadata": {},
   "source": [
    "   t-тест Стьюдента используют если распределение признаков в каждой выборке соответствует нормальному распределению. Данные о доходах чаще всего имеют пуассоновское распределение. \n",
    "   В случае, когда в данных есть большие (по сравнению с нормальным распределением) выбросы, алгебраические метрики работают плохо. Одно выбивающееся значение существенно влияет на результат. \n",
    "   Проведем тест на нормальность распределения данных.  \n",
    "**Н0:** распределение нормально.  \n",
    "**Н1:** распределение не нормально.  "
   ]
  },
  {
   "cell_type": "code",
   "execution_count": 26,
   "metadata": {},
   "outputs": [
    {
     "name": "stdout",
     "output_type": "stream",
     "text": [
      "p-значение:  0.0\n",
      "Отвергаем нулевую гипотезу: распределение не нормально\n"
     ]
    },
    {
     "name": "stderr",
     "output_type": "stream",
     "text": [
      "/opt/conda/lib/python3.9/site-packages/scipy/stats/_morestats.py:1800: UserWarning: p-value may not be accurate for N > 5000.\n",
      "  warnings.warn(\"p-value may not be accurate for N > 5000.\")\n"
     ]
    }
   ],
   "source": [
    "alpha = 0.05 \n",
    "\n",
    "results = st.shapiro(data['est_salary'])\n",
    "p_value = results[1]\n",
    "\n",
    "print('p-значение: ', p_value)\n",
    "\n",
    "if p_value < alpha:\n",
    "    print('Отвергаем нулевую гипотезу: распределение не нормально')\n",
    "else:\n",
    "    print('Не получилось отвергнуть нулевую гипотезу, всё нормально') "
   ]
  },
  {
   "cell_type": "code",
   "execution_count": 27,
   "metadata": {},
   "outputs": [
    {
     "name": "stdout",
     "output_type": "stream",
     "text": [
      "Дисперсия доходов оставшихся клиентов: 20358839437.943962\n",
      "Дисперсия доходов ушедших клиентов: 15112272166.883385\n"
     ]
    }
   ],
   "source": [
    "gr1 = data.loc[data['churn'] == 0, 'est_salary']\n",
    "gr2 = data.loc[data['churn'] == 1, 'est_salary']\n",
    "print('Дисперсия доходов оставшихся клиентов:', gr1.var())\n",
    "print('Дисперсия доходов ушедших клиентов:', gr2.var())"
   ]
  },
  {
   "cell_type": "code",
   "execution_count": 28,
   "metadata": {},
   "outputs": [
    {
     "data": {
      "image/png": "[encoded data removed]",
      "text/plain": [
       "<Figure size 432x288 with 1 Axes>"
      ]
     },
     "metadata": {
      "needs_background": "light"
     },
     "output_type": "display_data"
    }
   ],
   "source": [
    "plt.boxplot(x=data['est_salary'])\n",
    "plt.title('Выбросы в оценочном доходе')\n",
    "plt.show()"
   ]
  },
  {
   "cell_type": "markdown",
   "metadata": {},
   "source": [
    "В случае, когда в данных есть большие (по сравнению с нормальным распределением) выбросы, алгебраические метрики работают плохо. Одно выбивающееся значение существенно влияет на результат. Распределение данных ненормально. Дисперсия выборок значительно отличается. Помимо этого в данных имеется множество выбросов. Поэтому проведем непараметрический тест Уилкоксона-Манна-Уитни.  "
   ]
  },
  {
   "cell_type": "markdown",
   "metadata": {},
   "source": [
    " **Н0:**  доходы действующих клиентов и ушедших одинаковы.  \n",
    " **Н1:**  доходы действующих клиентов и ушедших различны."
   ]
  },
  {
   "cell_type": "code",
   "execution_count": 29,
   "metadata": {},
   "outputs": [
    {
     "name": "stdout",
     "output_type": "stream",
     "text": [
      "p-значение:  8.415364594114529e-05\n",
      "Отвергаем нулевую гипотезу: доходы действующих клиентов и ушедших различны\n"
     ]
    }
   ],
   "source": [
    "alpha = 0.05\n",
    "\n",
    "results =  st.mannwhitneyu(gr1, gr2, True, 'less')\n",
    "\n",
    "print('p-значение: ', results.pvalue)\n",
    "\n",
    "if results.pvalue < alpha:\n",
    "    print('Отвергаем нулевую гипотезу: доходы действующих клиентов и ушедших различны')\n",
    "else:\n",
    "    print(\n",
    "        'Не получилось отвергнуть нулевую гипотезу, вывод о различии доходов действующих и ушедших клиентов сделать нельзя'\n",
    "    ) "
   ]
  },
  {
   "cell_type": "markdown",
   "metadata": {},
   "source": [
    "### Гипотеза о влиянии возраста на риск ухода"
   ]
  },
  {
   "cell_type": "markdown",
   "metadata": {},
   "source": [
    "Проверим распределение данных о возрасте\n",
    "**Н0:** распределение нормально.\n",
    "**Н1:** распределение не нормально."
   ]
  },
  {
   "cell_type": "code",
   "execution_count": 30,
   "metadata": {},
   "outputs": [
    {
     "name": "stdout",
     "output_type": "stream",
     "text": [
      "p-значение:  1.401298464324817e-45\n",
      "Отвергаем нулевую гипотезу: распределение не нормально\n"
     ]
    },
    {
     "name": "stderr",
     "output_type": "stream",
     "text": [
      "/opt/conda/lib/python3.9/site-packages/scipy/stats/_morestats.py:1800: UserWarning: p-value may not be accurate for N > 5000.\n",
      "  warnings.warn(\"p-value may not be accurate for N > 5000.\")\n"
     ]
    }
   ],
   "source": [
    "alpha = 0.05 \n",
    "\n",
    "results = st.shapiro(data['age'])\n",
    "p_value = results[1]\n",
    "\n",
    "print('p-значение: ', p_value)\n",
    "\n",
    "if p_value < alpha:\n",
    "    print('Отвергаем нулевую гипотезу: распределение не нормально')\n",
    "else:\n",
    "    print('Не получилось отвергнуть нулевую гипотезу, всё нормально') "
   ]
  },
  {
   "cell_type": "code",
   "execution_count": 31,
   "metadata": {},
   "outputs": [
    {
     "data": {
      "image/png": "[encoded data removed]",
      "text/plain": [
       "<Figure size 432x288 with 1 Axes>"
      ]
     },
     "metadata": {
      "needs_background": "light"
     },
     "output_type": "display_data"
    }
   ],
   "source": [
    "plt.boxplot(x=data['age'])\n",
    "plt.title('Выбросы в возрасте')\n",
    "plt.show()"
   ]
  },
  {
   "cell_type": "code",
   "execution_count": 32,
   "metadata": {},
   "outputs": [
    {
     "name": "stdout",
     "output_type": "stream",
     "text": [
      "Дисперсия возраста оставшихся клиентов: 153.14575130756242\n",
      "Дисперсия возраста ушедших клиентов: 153.14575130756242\n"
     ]
    }
   ],
   "source": [
    "gr3 = data.loc[data['churn'] == 0, 'age']\n",
    "gr4 = data.loc[data['churn'] == 1, 'age']\n",
    "\n",
    "print('Дисперсия возраста оставшихся клиентов:', gr3.var())\n",
    "print('Дисперсия возраста ушедших клиентов:', gr3.var())"
   ]
  },
  {
   "cell_type": "code",
   "execution_count": 33,
   "metadata": {},
   "outputs": [
    {
     "name": "stdout",
     "output_type": "stream",
     "text": [
      "Процент записей в series1: 81.77%\n",
      "Процент записей в series2: 18.23%\n"
     ]
    }
   ],
   "source": [
    "count1 = gr3.count()\n",
    "count2 = gr4.count()\n",
    "\n",
    "total_count = count1 + count2\n",
    "\n",
    "percentage1 = (count1 / total_count) * 100\n",
    "percentage2 = (count2 / total_count) * 100\n",
    "\n",
    "print(f'Процент записей в series1: {percentage1:.2f}%')\n",
    "print(f'Процент записей в series2: {percentage2:.2f}%')"
   ]
  },
  {
   "cell_type": "markdown",
   "metadata": {},
   "source": [
    "Дисперсии двух групп равны, однако размеры выборок значительно различаются, поэтому выставляем параметр equal_var=False"
   ]
  },
  {
   "cell_type": "markdown",
   "metadata": {},
   "source": [
    " Проверим гипотезу о равенстве возраста оставшихся и уходящих клиентов по ttest Студьента. Так как ненормальность распределения не является достаточной причиной для использования другого теста, а выбросов в данных немного.\n",
    " **Н0:**  возраст ушедших клиентов равен возрасту оставшихся.   \n",
    " **Н1:**  возраст ушедших клиентов не равен возрасту оставшихся."
   ]
  },
  {
   "cell_type": "code",
   "execution_count": 34,
   "metadata": {},
   "outputs": [
    {
     "name": "stdout",
     "output_type": "stream",
     "text": [
      "p-значение:  7.536127357312234e-08\n",
      "Отвергаем нулевую гипотезу:  возраст ушедших клиентов не равен возрасту оставшихся.\n"
     ]
    }
   ],
   "source": [
    "alpha = 0.05\n",
    "\n",
    "results =  st.ttest_ind(gr3, gr4, equal_var=False)\n",
    "\n",
    "print('p-значение: ', results.pvalue)\n",
    "\n",
    "if results.pvalue < alpha:\n",
    "    print('Отвергаем нулевую гипотезу:  возраст ушедших клиентов не равен возрасту оставшихся.')\n",
    "else:\n",
    "    print(\n",
    "        'Не получилось отвергнуть нулевую гипотезу, возраст ушедших клиентов равен возрасту оставшихся'\n",
    "    ) "
   ]
  },
  {
   "cell_type": "markdown",
   "metadata": {},
   "source": [
    "**Выводы:**\n",
    "Доход и возраст клиентов влияют на их отточность из банка."
   ]
  },
  {
   "cell_type": "markdown",
   "metadata": {},
   "source": [
    "## Промежуточные выводы"
   ]
  },
  {
   "cell_type": "markdown",
   "metadata": {},
   "source": [
    "- При изучении распределения баллов обнаружена группа клиентов, наиболее склонных к оттоку находятся в диапазоне с 825 по 930.\n",
    "- При анализе распределения по возрасту видно две группы клиентов наиболее склонных у уходу - с 25 до 35 и с 50 до 61 год.\n",
    "- Наиболее лояльные клиенты имеют в возсраст от 62 лет, а также находятся в диапозано с 36 до 49 лет.\n",
    "- Клиенты имееющие баланс свыше 950 000 наиболее склонны к уходу.\n",
    "- Клиенты с оценочным доходом свыше 100 000 больше подвержены риску ухода.\n",
    "- По городам нет значительных различий по доле ушедших.\n",
    "- Среди мужчин показатель оттока выше.\n",
    "- Показатель оттока выше у клиентов без кредитных карт.\n",
    "- Показатель оттока выше у активных пользователей.\n",
    "- Показатель оттока растет с баллами собственности, чем больше баллов, тем выше доля ушедших.\n",
    "- Доля ушедших растет с увелечением числа продуктов.\n",
    "- Доход и возраст клиентов влияют на их отточность из банка.\n",
    "\n",
    "При сегментации клиентов будут учтены выявленные выше группы клиентов"
   ]
  },
  {
   "cell_type": "markdown",
   "metadata": {},
   "source": [
    "## Сегментация и приоритезация сегментов"
   ]
  },
  {
   "cell_type": "markdown",
   "metadata": {},
   "source": [
    "По результатам работы в прошлых блоках выделенные признаки будут проранжированы, также будут определены их интервалы, включающие наибольший процент оттока клиентов."
   ]
  },
  {
   "cell_type": "markdown",
   "metadata": {},
   "source": [
    "### Выявление групп клиентов, склонных к уходу"
   ]
  },
  {
   "cell_type": "markdown",
   "metadata": {},
   "source": [
    "#### Сегмент 1"
   ]
  },
  {
   "cell_type": "markdown",
   "metadata": {},
   "source": [
    "В первый сегмент выделим группу мужчин с 3 и более продуктами банка."
   ]
  },
  {
   "cell_type": "code",
   "execution_count": 35,
   "metadata": {},
   "outputs": [
    {
     "name": "stdout",
     "output_type": "stream",
     "text": [
      "Количество клиентов:  752\n",
      "Количество отточных клиентов:  376\n",
      "Доля отточных клиентов:  50.0\n"
     ]
    }
   ],
   "source": [
    "print ('Количество клиентов: ', data.query (\n",
    "    'gender_cod_М == 1 and products >= 3')['user_id'].count())\n",
    "\n",
    "print ('Количество отточных клиентов: ', data.query (\n",
    "    'gender_cod_М == 1 and products >= 3 and churn == 1')['user_id'].count())\n",
    "\n",
    "print ('Доля отточных клиентов: ', data.query (\n",
    "    'gender_cod_М == 1 and products >= 3 and churn == 1')['user_id'].count() / data.query (\n",
    "    'gender_cod_М == 1 and products >= 3')['user_id'].count()*100)"
   ]
  },
  {
   "cell_type": "markdown",
   "metadata": {},
   "source": [
    "#### Сегмент 2"
   ]
  },
  {
   "cell_type": "markdown",
   "metadata": {},
   "source": [
    "Во второй сегмент выделим людей в возрасте от 25 до 35 c балами от 825 до 930 и без кредитных карт"
   ]
  },
  {
   "cell_type": "code",
   "execution_count": 36,
   "metadata": {},
   "outputs": [
    {
     "name": "stdout",
     "output_type": "stream",
     "text": [
      "Количество клиентов:  508\n",
      "Количество отточных клиентов:  239\n",
      "Доля отточных клиентов:  47.047244094488185\n"
     ]
    }
   ],
   "source": [
    "print ('Количество клиентов: ', data.query (\n",
    "    '25 <= age <= 35 and 825 <= score <= 930 and credit_card == 0')['user_id'].count())\n",
    "\n",
    "print ('Количество отточных клиентов: ', data.query (\n",
    "    '25 <= age <= 35 and 825 <= score <= 930 and credit_card == 0 and churn == 1')['user_id'].count())\n",
    "\n",
    "print ('Доля отточных клиентов: ', data.query (\n",
    "    '25 <= age <= 35 and 825 <= score <= 930 and credit_card == 0 and churn == 1')['user_id'].count() / data.query (\n",
    "    '25 <= age <= 35 and 825 <= score <= 930 and credit_card == 0')['user_id'].count()*100)"
   ]
  },
  {
   "cell_type": "markdown",
   "metadata": {},
   "source": [
    "#### Сегмент 3"
   ]
  },
  {
   "cell_type": "markdown",
   "metadata": {},
   "source": [
    "В третий сегмент включим людей в возрасте 50-61 лет с балансом более 950 000."
   ]
  },
  {
   "cell_type": "code",
   "execution_count": 37,
   "metadata": {},
   "outputs": [
    {
     "name": "stdout",
     "output_type": "stream",
     "text": [
      "Количество клиентов:  517\n",
      "Количество отточных клиентов:  235\n",
      "Доля отточных клиентов:  45.45454545454545\n"
     ]
    }
   ],
   "source": [
    "print ('Количество клиентов: ', data.query (\n",
    "    '50 <= age <= 61 and balance >= 950000')['user_id'].count())\n",
    "\n",
    "print ('Количество отточных клиентов: ', data.query (\n",
    "    '50 <= age <= 61 and balance >= 950000 and churn == 1')['user_id'].count())\n",
    "\n",
    "print ('Доля отточных клиентов: ', data.query (\n",
    "    '50 <= age <= 61 and balance >= 950000 and churn == 1')['user_id'].count() / data.query (\n",
    "    '50 <= age <= 61 and balance >= 950000')['user_id'].count()*100)"
   ]
  },
  {
   "cell_type": "markdown",
   "metadata": {},
   "source": [
    "В ходе сегментации было выявлено три группы клиентов с высоким уровнем отточности"
   ]
  },
  {
   "cell_type": "markdown",
   "metadata": {},
   "source": [
    "#### Сегмент 4"
   ]
  },
  {
   "cell_type": "markdown",
   "metadata": {},
   "source": [
    "Четвертый сегмент включает активных клиентов мужского пола с балами собственности выше 3."
   ]
  },
  {
   "cell_type": "code",
   "execution_count": 38,
   "metadata": {},
   "outputs": [
    {
     "name": "stdout",
     "output_type": "stream",
     "text": [
      "Количество клиентов:  1052\n",
      "Количество отточных клиентов:  519\n",
      "Доля отточных клиентов:  49.334600760456276\n"
     ]
    }
   ],
   "source": [
    "print ('Количество клиентов: ', data.query (\n",
    "    'gender_cod_М == 1 and last_activity == 1 and equity > 3')['user_id'].count())\n",
    "\n",
    "print ('Количество отточных клиентов: ', data.query (\n",
    "    'gender_cod_М == 1 and last_activity == 1 and equity > 3 and churn == 1')['user_id'].count())\n",
    "\n",
    "print ('Доля отточных клиентов: ', data.query (\n",
    "    'gender_cod_М == 1 and last_activity == 1 and equity > 3 and churn == 1')['user_id'].count() / data.query (\n",
    "    'gender_cod_М == 1 and last_activity == 1 and equity > 3')['user_id'].count()*100)"
   ]
  },
  {
   "cell_type": "markdown",
   "metadata": {},
   "source": [
    "### Приоритезация этих групп по уровню риска ухода"
   ]
  },
  {
   "cell_type": "markdown",
   "metadata": {},
   "source": [
    "В первую очередь стоит обратить внимание на первый сегмент и четвертый сегменты, на мужчин с тремя и более продуктами банка и активных клиентов мужчин с высокими баллами собственности. Так как имено из этого сегмента уходит половина клиентов. Сегмент 2 также обладает высокой отточностью, чуть меньше третий сегмент.  \n",
    "\n",
    "**Сегменты в порядке приоритета:**  \n",
    "Сегмент 1  \n",
    "Сегмент 4  \n",
    "Сегмент 2  \n",
    "Сегмент 3  "
   ]
  },
  {
   "cell_type": "markdown",
   "metadata": {},
   "source": [
    "## Выводы и рекомендации"
   ]
  },
  {
   "cell_type": "markdown",
   "metadata": {},
   "source": [
    "**Выводы:**\n",
    "В ходе исследовательского анализа, проверки гипотез и сегментации были выявлены группы наиболее подверженные оттоку. \n",
    "- Мужчины с 3 и более продуктами банка\n",
    "- Люди в возрасте от 25 до 35 c балами от 825 до 930 и без кредитных карт\n",
    "- Люди в возрасте 50-61 лет с балансом более 950 000\n",
    "- Активные клиентов мужского пола с балами собственности выше 3.\n",
    "\n",
    "А также признаки наивысшей отточности:\n",
    "- Доля ушедших растет с увелечением числа продуктов\n",
    "- При изучении распределения баллов обнаружена группа клиентов, наиболее склонных к оттоку находятся в диапазоне с 825 по 930.\n",
    "- При анализе распределения по возрасту видно две группы клиентов наиболее склонных у уходу - с 25 до 35 и с 50 до 61 год.\n",
    "- Наиболее лояльные клиенты имеют в возсраст от 62 лет, а также находятся в диапозано с 36 до 49 лет.\n",
    "- Клиенты имееющие баланс свыше 950 000 наиболее склонны к уходу.\n",
    "- Клиенты с оценочным доходом свыше 100 000 больше подвержены риску ухода.\n",
    "- Показатель оттока выше у клиентов без кредитных карт.\n",
    "- Активность клиента\n",
    "\n",
    "**Общие рекомендации:**  \n",
    "- Следует особое внимание обратить на все выделенные сегменты, так как отточность в них близка к 50%.\n",
    "- Провести дополнительные исследования и глубинные интервью, чтобы понять причину по которой активные клиенты перестают пользоваться услугами банка.\n",
    "- Помимо этого необходимо в целом обратить внимание на клиентов мужского пола, может сделать рекламу или дизайн приложений и сайта ориентированный больше на мужчин.\n",
    "- Следует обратить внимание на обеспеченных клиентов. Сделать премимуные продукты, особые условия.\n",
    "- Высокий риск оттока у людей с большим количеством продуктов. Необходимо выяснить причину. Может приложение перегружает уведомлениями пользователей и имеется избыточная рассылка. \n",
    "- Необходимо мягко продвигать услуги кредитования людям без кредитных карт.\n",
    "\n",
    "**Рекомендации для сегментов в порядке приоритета:**  \n",
    "\n",
    "**Сегмент 1:**\n",
    "Сделать дизайн и рекламу ориентированные на мужской пол. Снизить количество уведомлений и ограничить рассылку по продуктам только необходимой информацией.\n",
    "\n",
    "**Сегмент 4:**  \n",
    "Сделать дизайн и рекламу ориентированные на мужской пол. Провести дополнительные исследования и глубинные интервью, чтобы понять причину по которой активные клиенты перестают пользоваться услугами банка. Предоставить дополнительные скидки на услуги страхования недвижимости.\n",
    "\n",
    "**Сегмент 2:**  \n",
    "Предоставить выгодные условия кредитования для лиц 25 до 35 с высокими баллами. \n",
    "\n",
    "**Сегмент 3:**  \n",
    "Предоставить выгодные условия для вкладов для людей в возрасте 50-61 лет с балансом более 950 000."
   ]
  }
 ],
 "metadata": {
  "ExecuteTimeLog": [
   {
    "duration": 390,
    "start_time": "2024-08-15T17:05:23.867Z"
   },
   {
    "duration": 3,
    "start_time": "2024-08-15T17:05:24.399Z"
   },
   {
    "duration": 206,
    "start_time": "2024-08-15T17:05:24.842Z"
   },
   {
    "duration": 61,
    "start_time": "2024-08-15T17:08:37.898Z"
   },
   {
    "duration": 61,
    "start_time": "2024-08-15T17:08:38.559Z"
   },
   {
    "duration": 4,
    "start_time": "2024-08-15T17:08:46.088Z"
   },
   {
    "duration": 74,
    "start_time": "2024-08-15T17:08:52.514Z"
   },
   {
    "duration": 4,
    "start_time": "2024-08-15T17:09:08.010Z"
   },
   {
    "duration": 63,
    "start_time": "2024-08-15T17:09:14.058Z"
   },
   {
    "duration": 3,
    "start_time": "2024-08-15T17:09:59.663Z"
   },
   {
    "duration": 3,
    "start_time": "2024-08-15T17:10:07.688Z"
   },
   {
    "duration": 64,
    "start_time": "2024-08-15T17:10:08.151Z"
   },
   {
    "duration": 3,
    "start_time": "2024-08-15T17:10:26.359Z"
   },
   {
    "duration": 63,
    "start_time": "2024-08-15T17:10:26.882Z"
   },
   {
    "duration": 3,
    "start_time": "2024-08-15T17:10:37.865Z"
   },
   {
    "duration": 66,
    "start_time": "2024-08-15T17:10:38.259Z"
   },
   {
    "duration": 21,
    "start_time": "2024-08-15T20:05:31.033Z"
   },
   {
    "duration": 20,
    "start_time": "2024-08-15T20:05:54.713Z"
   },
   {
    "duration": 5,
    "start_time": "2024-08-15T20:06:09.884Z"
   },
   {
    "duration": 71,
    "start_time": "2024-08-15T20:06:41.375Z"
   },
   {
    "duration": 4,
    "start_time": "2024-08-15T20:07:41.382Z"
   },
   {
    "duration": 14,
    "start_time": "2024-08-15T20:07:54.187Z"
   },
   {
    "duration": 297,
    "start_time": "2024-08-15T20:08:12.260Z"
   },
   {
    "duration": 61,
    "start_time": "2024-08-15T20:09:34.653Z"
   },
   {
    "duration": 69,
    "start_time": "2024-08-15T20:10:03.735Z"
   },
   {
    "duration": 18,
    "start_time": "2024-08-15T20:10:11.252Z"
   },
   {
    "duration": 12,
    "start_time": "2024-08-15T20:21:35.857Z"
   },
   {
    "duration": 11,
    "start_time": "2024-08-15T20:21:41.303Z"
   },
   {
    "duration": 10,
    "start_time": "2024-08-15T20:24:23.270Z"
   },
   {
    "duration": 933,
    "start_time": "2024-08-15T20:24:28.697Z"
   },
   {
    "duration": 849,
    "start_time": "2024-08-15T20:24:32.015Z"
   },
   {
    "duration": 1176,
    "start_time": "2024-08-15T20:25:01.715Z"
   },
   {
    "duration": 3,
    "start_time": "2024-08-15T20:25:02.893Z"
   },
   {
    "duration": 94,
    "start_time": "2024-08-15T20:25:02.898Z"
   },
   {
    "duration": 4,
    "start_time": "2024-08-15T20:25:02.993Z"
   },
   {
    "duration": 807,
    "start_time": "2024-08-15T20:25:02.999Z"
   },
   {
    "duration": 19,
    "start_time": "2024-08-15T20:25:03.807Z"
   },
   {
    "duration": 26,
    "start_time": "2024-08-15T20:25:03.828Z"
   },
   {
    "duration": 4,
    "start_time": "2024-08-15T20:25:03.855Z"
   },
   {
    "duration": 4,
    "start_time": "2024-08-15T20:26:19.090Z"
   },
   {
    "duration": 7,
    "start_time": "2024-08-15T20:48:50.460Z"
   },
   {
    "duration": 28,
    "start_time": "2024-08-15T20:49:11.207Z"
   },
   {
    "duration": 94,
    "start_time": "2024-08-15T20:50:08.648Z"
   },
   {
    "duration": 18,
    "start_time": "2024-08-15T20:50:42.346Z"
   },
   {
    "duration": 16,
    "start_time": "2024-08-15T20:51:14.130Z"
   },
   {
    "duration": 1136,
    "start_time": "2024-08-15T21:29:35.911Z"
   },
   {
    "duration": 3,
    "start_time": "2024-08-15T21:29:37.049Z"
   },
   {
    "duration": 81,
    "start_time": "2024-08-15T21:29:37.054Z"
   },
   {
    "duration": 3,
    "start_time": "2024-08-15T21:29:37.138Z"
   },
   {
    "duration": 767,
    "start_time": "2024-08-15T21:29:37.143Z"
   },
   {
    "duration": 19,
    "start_time": "2024-08-15T21:29:37.911Z"
   },
   {
    "duration": 78,
    "start_time": "2024-08-15T21:29:37.931Z"
   },
   {
    "duration": 6,
    "start_time": "2024-08-15T21:29:38.010Z"
   },
   {
    "duration": 7,
    "start_time": "2024-08-15T21:29:38.017Z"
   },
   {
    "duration": 17,
    "start_time": "2024-08-15T21:29:38.026Z"
   },
   {
    "duration": 1417,
    "start_time": "2024-08-18T15:22:32.617Z"
   },
   {
    "duration": 4,
    "start_time": "2024-08-18T15:22:34.036Z"
   },
   {
    "duration": 140,
    "start_time": "2024-08-18T15:22:34.041Z"
   },
   {
    "duration": 4,
    "start_time": "2024-08-18T15:22:34.183Z"
   },
   {
    "duration": 916,
    "start_time": "2024-08-18T15:22:34.189Z"
   },
   {
    "duration": 21,
    "start_time": "2024-08-18T15:22:35.106Z"
   },
   {
    "duration": 27,
    "start_time": "2024-08-18T15:22:35.129Z"
   },
   {
    "duration": 5,
    "start_time": "2024-08-18T15:22:35.158Z"
   },
   {
    "duration": 5,
    "start_time": "2024-08-18T15:22:35.164Z"
   },
   {
    "duration": 18,
    "start_time": "2024-08-18T15:22:35.172Z"
   },
   {
    "duration": 41,
    "start_time": "2024-08-18T15:22:35.192Z"
   },
   {
    "duration": 24,
    "start_time": "2024-08-18T15:22:35.235Z"
   },
   {
    "duration": 1075,
    "start_time": "2024-08-18T19:29:13.180Z"
   },
   {
    "duration": 1644,
    "start_time": "2024-08-18T19:29:26.577Z"
   },
   {
    "duration": 7636,
    "start_time": "2024-08-18T19:29:33.002Z"
   },
   {
    "duration": 7712,
    "start_time": "2024-08-18T19:29:52.518Z"
   },
   {
    "duration": 7898,
    "start_time": "2024-08-18T19:30:09.925Z"
   },
   {
    "duration": 7769,
    "start_time": "2024-08-18T19:30:55.792Z"
   },
   {
    "duration": 7859,
    "start_time": "2024-08-18T19:31:36.139Z"
   },
   {
    "duration": 7918,
    "start_time": "2024-08-18T19:32:26.471Z"
   },
   {
    "duration": 8588,
    "start_time": "2024-08-18T19:32:36.058Z"
   },
   {
    "duration": 7609,
    "start_time": "2024-08-18T19:33:43.844Z"
   },
   {
    "duration": 7882,
    "start_time": "2024-08-18T19:33:58.483Z"
   },
   {
    "duration": 7691,
    "start_time": "2024-08-18T19:34:29.561Z"
   },
   {
    "duration": 7959,
    "start_time": "2024-08-18T19:35:00.596Z"
   },
   {
    "duration": 7926,
    "start_time": "2024-08-18T19:35:59.328Z"
   },
   {
    "duration": 7819,
    "start_time": "2024-08-18T19:36:23.297Z"
   },
   {
    "duration": 57,
    "start_time": "2024-08-18T19:36:44.599Z"
   },
   {
    "duration": 1849,
    "start_time": "2024-08-18T19:36:50.974Z"
   },
   {
    "duration": 7666,
    "start_time": "2024-08-18T19:37:21.401Z"
   },
   {
    "duration": 7590,
    "start_time": "2024-08-18T19:37:40.221Z"
   },
   {
    "duration": 7699,
    "start_time": "2024-08-18T19:38:09.316Z"
   },
   {
    "duration": 7581,
    "start_time": "2024-08-18T19:38:31.850Z"
   },
   {
    "duration": 7501,
    "start_time": "2024-08-18T19:38:52.727Z"
   },
   {
    "duration": 7466,
    "start_time": "2024-08-18T19:39:14.348Z"
   },
   {
    "duration": 7521,
    "start_time": "2024-08-18T19:39:46.019Z"
   },
   {
    "duration": 7437,
    "start_time": "2024-08-18T19:42:45.975Z"
   },
   {
    "duration": 7511,
    "start_time": "2024-08-18T19:43:08.768Z"
   },
   {
    "duration": 7620,
    "start_time": "2024-08-18T19:43:28.593Z"
   },
   {
    "duration": 7532,
    "start_time": "2024-08-18T19:43:44.723Z"
   },
   {
    "duration": 7445,
    "start_time": "2024-08-18T19:58:36.773Z"
   },
   {
    "duration": 7493,
    "start_time": "2024-08-18T20:31:12.506Z"
   },
   {
    "duration": 331,
    "start_time": "2024-08-18T21:01:07.472Z"
   },
   {
    "duration": 471,
    "start_time": "2024-08-18T21:05:01.885Z"
   },
   {
    "duration": 52,
    "start_time": "2024-08-18T21:08:46.998Z"
   },
   {
    "duration": 17,
    "start_time": "2024-08-18T21:08:50.491Z"
   },
   {
    "duration": 240,
    "start_time": "2024-08-18T21:09:12.256Z"
   },
   {
    "duration": 1940,
    "start_time": "2024-08-18T21:10:46.208Z"
   },
   {
    "duration": 1503,
    "start_time": "2024-08-18T21:13:57.199Z"
   },
   {
    "duration": 1573,
    "start_time": "2024-08-18T21:15:53.890Z"
   },
   {
    "duration": 1555,
    "start_time": "2024-08-18T21:16:43.014Z"
   },
   {
    "duration": 1654,
    "start_time": "2024-08-18T21:17:23.790Z"
   },
   {
    "duration": 1512,
    "start_time": "2024-08-18T21:18:12.958Z"
   },
   {
    "duration": 455,
    "start_time": "2024-08-18T21:18:54.199Z"
   },
   {
    "duration": 484,
    "start_time": "2024-08-18T21:19:03.503Z"
   },
   {
    "duration": 553,
    "start_time": "2024-08-18T21:19:09.028Z"
   },
   {
    "duration": 1511,
    "start_time": "2024-08-18T21:19:40.012Z"
   },
   {
    "duration": 1464,
    "start_time": "2024-08-18T21:19:51.198Z"
   },
   {
    "duration": 1093,
    "start_time": "2024-08-18T21:20:02.615Z"
   },
   {
    "duration": 3,
    "start_time": "2024-08-18T21:20:03.710Z"
   },
   {
    "duration": 78,
    "start_time": "2024-08-18T21:20:03.715Z"
   },
   {
    "duration": 3,
    "start_time": "2024-08-18T21:20:03.795Z"
   },
   {
    "duration": 840,
    "start_time": "2024-08-18T21:20:03.800Z"
   },
   {
    "duration": 28,
    "start_time": "2024-08-18T21:20:04.641Z"
   },
   {
    "duration": 11,
    "start_time": "2024-08-18T21:20:04.671Z"
   },
   {
    "duration": 4,
    "start_time": "2024-08-18T21:20:04.683Z"
   },
   {
    "duration": 4,
    "start_time": "2024-08-18T21:20:04.689Z"
   },
   {
    "duration": 17,
    "start_time": "2024-08-18T21:20:04.695Z"
   },
   {
    "duration": 47,
    "start_time": "2024-08-18T21:20:04.714Z"
   },
   {
    "duration": 20,
    "start_time": "2024-08-18T21:20:04.762Z"
   },
   {
    "duration": 7016,
    "start_time": "2024-08-18T21:20:04.784Z"
   },
   {
    "duration": 1687,
    "start_time": "2024-08-18T21:20:11.802Z"
   },
   {
    "duration": 249,
    "start_time": "2024-08-18T21:20:13.490Z"
   },
   {
    "duration": 557,
    "start_time": "2024-08-18T21:30:07.775Z"
   },
   {
    "duration": 2367,
    "start_time": "2024-08-18T21:30:52.700Z"
   },
   {
    "duration": 462,
    "start_time": "2024-08-18T21:31:25.636Z"
   },
   {
    "duration": 14,
    "start_time": "2024-08-18T21:33:25.438Z"
   },
   {
    "duration": 315,
    "start_time": "2024-08-18T21:37:39.728Z"
   },
   {
    "duration": 16,
    "start_time": "2024-08-18T21:38:26.084Z"
   },
   {
    "duration": 217,
    "start_time": "2024-08-18T21:39:11.741Z"
   },
   {
    "duration": 205,
    "start_time": "2024-08-18T21:40:37.405Z"
   },
   {
    "duration": 14,
    "start_time": "2024-08-18T21:41:29.330Z"
   },
   {
    "duration": 14,
    "start_time": "2024-08-18T21:41:57.924Z"
   },
   {
    "duration": 14,
    "start_time": "2024-08-18T21:42:10.437Z"
   },
   {
    "duration": 15,
    "start_time": "2024-08-18T21:42:45.049Z"
   },
   {
    "duration": 13,
    "start_time": "2024-08-18T21:44:05.817Z"
   },
   {
    "duration": 14,
    "start_time": "2024-08-18T21:44:37.576Z"
   },
   {
    "duration": 9,
    "start_time": "2024-08-18T21:45:28.689Z"
   },
   {
    "duration": 419,
    "start_time": "2024-08-18T21:45:59.650Z"
   },
   {
    "duration": 1187,
    "start_time": "2024-08-18T21:48:10.227Z"
   },
   {
    "duration": 4,
    "start_time": "2024-08-18T21:48:11.415Z"
   },
   {
    "duration": 156,
    "start_time": "2024-08-18T21:48:11.420Z"
   },
   {
    "duration": 4,
    "start_time": "2024-08-18T21:48:11.578Z"
   },
   {
    "duration": 845,
    "start_time": "2024-08-18T21:48:11.583Z"
   },
   {
    "duration": 23,
    "start_time": "2024-08-18T21:48:12.430Z"
   },
   {
    "duration": 10,
    "start_time": "2024-08-18T21:48:12.455Z"
   },
   {
    "duration": 4,
    "start_time": "2024-08-18T21:48:12.466Z"
   },
   {
    "duration": 6,
    "start_time": "2024-08-18T21:48:12.471Z"
   },
   {
    "duration": 25,
    "start_time": "2024-08-18T21:48:12.479Z"
   },
   {
    "duration": 14,
    "start_time": "2024-08-18T21:48:12.506Z"
   },
   {
    "duration": 48,
    "start_time": "2024-08-18T21:48:12.522Z"
   },
   {
    "duration": 7129,
    "start_time": "2024-08-18T21:48:12.571Z"
   },
   {
    "duration": 767,
    "start_time": "2024-08-18T21:48:19.701Z"
   },
   {
    "duration": 0,
    "start_time": "2024-08-18T21:48:20.470Z"
   },
   {
    "duration": 0,
    "start_time": "2024-08-18T21:48:20.471Z"
   },
   {
    "duration": 10,
    "start_time": "2024-08-18T21:48:28.594Z"
   },
   {
    "duration": 168,
    "start_time": "2024-08-18T21:49:48.109Z"
   },
   {
    "duration": 975,
    "start_time": "2024-08-18T21:52:16.028Z"
   },
   {
    "duration": 4,
    "start_time": "2024-08-18T21:54:51.543Z"
   },
   {
    "duration": 1064,
    "start_time": "2024-08-18T21:55:00.329Z"
   },
   {
    "duration": 7539,
    "start_time": "2024-08-18T21:55:07.854Z"
   },
   {
    "duration": 1366,
    "start_time": "2024-08-18T21:55:17.255Z"
   },
   {
    "duration": 3,
    "start_time": "2024-08-18T21:57:56.729Z"
   },
   {
    "duration": 4,
    "start_time": "2024-08-18T21:57:57.237Z"
   },
   {
    "duration": 968,
    "start_time": "2024-08-18T21:58:03.315Z"
   },
   {
    "duration": 7289,
    "start_time": "2024-08-18T21:58:11.073Z"
   },
   {
    "duration": 1362,
    "start_time": "2024-08-18T21:58:38.530Z"
   },
   {
    "duration": 963,
    "start_time": "2024-08-18T22:18:24.736Z"
   },
   {
    "duration": 940,
    "start_time": "2024-08-18T22:19:17.206Z"
   },
   {
    "duration": 974,
    "start_time": "2024-08-18T22:19:56.344Z"
   },
   {
    "duration": 1024,
    "start_time": "2024-08-18T22:20:54.672Z"
   },
   {
    "duration": 1017,
    "start_time": "2024-08-18T22:22:42.605Z"
   },
   {
    "duration": 1537,
    "start_time": "2024-08-18T22:25:31.396Z"
   },
   {
    "duration": 1172,
    "start_time": "2024-08-18T22:26:01.408Z"
   },
   {
    "duration": 193,
    "start_time": "2024-08-18T22:27:54.437Z"
   },
   {
    "duration": 197,
    "start_time": "2024-08-18T22:28:39.726Z"
   },
   {
    "duration": 167,
    "start_time": "2024-08-18T22:29:38.053Z"
   },
   {
    "duration": 154,
    "start_time": "2024-08-18T22:33:32.821Z"
   },
   {
    "duration": 158,
    "start_time": "2024-08-18T22:34:36.992Z"
   },
   {
    "duration": 164,
    "start_time": "2024-08-18T22:36:01.790Z"
   },
   {
    "duration": 205,
    "start_time": "2024-08-18T22:37:03.782Z"
   },
   {
    "duration": 143,
    "start_time": "2024-08-18T22:38:06.118Z"
   },
   {
    "duration": 149,
    "start_time": "2024-08-18T22:41:13.130Z"
   },
   {
    "duration": 146,
    "start_time": "2024-08-18T22:42:10.310Z"
   },
   {
    "duration": 17,
    "start_time": "2024-08-18T22:42:51.987Z"
   },
   {
    "duration": 17,
    "start_time": "2024-08-18T22:43:06.783Z"
   },
   {
    "duration": 178,
    "start_time": "2024-08-18T22:45:46.752Z"
   },
   {
    "duration": 207,
    "start_time": "2024-08-18T22:47:13.735Z"
   },
   {
    "duration": 184,
    "start_time": "2024-08-18T22:48:25.842Z"
   },
   {
    "duration": 301,
    "start_time": "2024-08-18T22:48:36.602Z"
   },
   {
    "duration": 13,
    "start_time": "2024-08-18T22:51:37.404Z"
   },
   {
    "duration": 283,
    "start_time": "2024-08-18T22:52:31.308Z"
   },
   {
    "duration": 31,
    "start_time": "2024-08-18T22:54:54.478Z"
   },
   {
    "duration": 35,
    "start_time": "2024-08-18T22:55:08.915Z"
   },
   {
    "duration": 124,
    "start_time": "2024-08-18T22:55:25.759Z"
   },
   {
    "duration": 393,
    "start_time": "2024-08-18T22:55:47.819Z"
   },
   {
    "duration": 1101,
    "start_time": "2024-08-18T22:58:09.037Z"
   },
   {
    "duration": 1355,
    "start_time": "2024-08-18T23:00:12.312Z"
   },
   {
    "duration": 1509,
    "start_time": "2024-08-18T23:04:34.861Z"
   },
   {
    "duration": 1347,
    "start_time": "2024-08-18T23:06:16.848Z"
   },
   {
    "duration": 1535,
    "start_time": "2024-08-18T23:06:41.652Z"
   },
   {
    "duration": 1414,
    "start_time": "2024-08-18T23:06:52.890Z"
   },
   {
    "duration": 1342,
    "start_time": "2024-08-18T23:07:50.879Z"
   },
   {
    "duration": 1497,
    "start_time": "2024-08-18T23:09:07.177Z"
   },
   {
    "duration": 1329,
    "start_time": "2024-08-18T23:10:46.144Z"
   },
   {
    "duration": 12,
    "start_time": "2024-08-18T23:17:52.070Z"
   },
   {
    "duration": 10,
    "start_time": "2024-08-18T23:18:56.046Z"
   },
   {
    "duration": 1246,
    "start_time": "2024-08-18T23:19:08.179Z"
   },
   {
    "duration": 0,
    "start_time": "2024-08-18T23:19:09.427Z"
   },
   {
    "duration": 0,
    "start_time": "2024-08-18T23:19:09.428Z"
   },
   {
    "duration": 0,
    "start_time": "2024-08-18T23:19:09.429Z"
   },
   {
    "duration": 0,
    "start_time": "2024-08-18T23:19:09.430Z"
   },
   {
    "duration": 0,
    "start_time": "2024-08-18T23:19:09.431Z"
   },
   {
    "duration": 0,
    "start_time": "2024-08-18T23:19:09.432Z"
   },
   {
    "duration": 0,
    "start_time": "2024-08-18T23:19:09.433Z"
   },
   {
    "duration": 0,
    "start_time": "2024-08-18T23:19:09.434Z"
   },
   {
    "duration": 0,
    "start_time": "2024-08-18T23:19:09.435Z"
   },
   {
    "duration": 0,
    "start_time": "2024-08-18T23:19:09.436Z"
   },
   {
    "duration": 0,
    "start_time": "2024-08-18T23:19:09.437Z"
   },
   {
    "duration": 0,
    "start_time": "2024-08-18T23:19:09.453Z"
   },
   {
    "duration": 0,
    "start_time": "2024-08-18T23:19:09.453Z"
   },
   {
    "duration": 0,
    "start_time": "2024-08-18T23:19:09.454Z"
   },
   {
    "duration": 1,
    "start_time": "2024-08-18T23:19:09.455Z"
   },
   {
    "duration": 1227,
    "start_time": "2024-08-18T23:19:39.181Z"
   },
   {
    "duration": 0,
    "start_time": "2024-08-18T23:19:40.410Z"
   },
   {
    "duration": 0,
    "start_time": "2024-08-18T23:19:40.411Z"
   },
   {
    "duration": 0,
    "start_time": "2024-08-18T23:19:40.412Z"
   },
   {
    "duration": 0,
    "start_time": "2024-08-18T23:19:40.413Z"
   },
   {
    "duration": 0,
    "start_time": "2024-08-18T23:19:40.414Z"
   },
   {
    "duration": 0,
    "start_time": "2024-08-18T23:19:40.415Z"
   },
   {
    "duration": 0,
    "start_time": "2024-08-18T23:19:40.416Z"
   },
   {
    "duration": 0,
    "start_time": "2024-08-18T23:19:40.417Z"
   },
   {
    "duration": 0,
    "start_time": "2024-08-18T23:19:40.419Z"
   },
   {
    "duration": 0,
    "start_time": "2024-08-18T23:19:40.420Z"
   },
   {
    "duration": 0,
    "start_time": "2024-08-18T23:19:40.421Z"
   },
   {
    "duration": 0,
    "start_time": "2024-08-18T23:19:40.422Z"
   },
   {
    "duration": 0,
    "start_time": "2024-08-18T23:19:40.423Z"
   },
   {
    "duration": 0,
    "start_time": "2024-08-18T23:19:40.452Z"
   },
   {
    "duration": 0,
    "start_time": "2024-08-18T23:19:40.453Z"
   },
   {
    "duration": 1224,
    "start_time": "2024-08-18T23:20:08.899Z"
   },
   {
    "duration": 0,
    "start_time": "2024-08-18T23:20:10.125Z"
   },
   {
    "duration": 0,
    "start_time": "2024-08-18T23:20:10.126Z"
   },
   {
    "duration": 0,
    "start_time": "2024-08-18T23:20:10.127Z"
   },
   {
    "duration": 0,
    "start_time": "2024-08-18T23:20:10.128Z"
   },
   {
    "duration": 0,
    "start_time": "2024-08-18T23:20:10.129Z"
   },
   {
    "duration": 0,
    "start_time": "2024-08-18T23:20:10.130Z"
   },
   {
    "duration": 0,
    "start_time": "2024-08-18T23:20:10.131Z"
   },
   {
    "duration": 0,
    "start_time": "2024-08-18T23:20:10.132Z"
   },
   {
    "duration": 0,
    "start_time": "2024-08-18T23:20:10.133Z"
   },
   {
    "duration": 0,
    "start_time": "2024-08-18T23:20:10.134Z"
   },
   {
    "duration": 0,
    "start_time": "2024-08-18T23:20:10.135Z"
   },
   {
    "duration": 1,
    "start_time": "2024-08-18T23:20:10.151Z"
   },
   {
    "duration": 0,
    "start_time": "2024-08-18T23:20:10.153Z"
   },
   {
    "duration": 0,
    "start_time": "2024-08-18T23:20:10.154Z"
   },
   {
    "duration": 0,
    "start_time": "2024-08-18T23:20:10.155Z"
   },
   {
    "duration": 56,
    "start_time": "2024-08-18T23:20:36.906Z"
   },
   {
    "duration": 3464,
    "start_time": "2024-08-18T23:21:20.340Z"
   },
   {
    "duration": 59,
    "start_time": "2024-08-18T23:21:33.320Z"
   },
   {
    "duration": 2460,
    "start_time": "2024-08-18T23:21:38.620Z"
   },
   {
    "duration": 1182,
    "start_time": "2024-08-18T23:21:41.082Z"
   },
   {
    "duration": 3,
    "start_time": "2024-08-18T23:21:42.265Z"
   },
   {
    "duration": 10,
    "start_time": "2024-08-18T23:21:42.270Z"
   },
   {
    "duration": 81,
    "start_time": "2024-08-18T23:21:42.282Z"
   },
   {
    "duration": 5,
    "start_time": "2024-08-18T23:21:42.364Z"
   },
   {
    "duration": 823,
    "start_time": "2024-08-18T23:21:42.370Z"
   },
   {
    "duration": 20,
    "start_time": "2024-08-18T23:21:43.195Z"
   },
   {
    "duration": 39,
    "start_time": "2024-08-18T23:21:43.217Z"
   },
   {
    "duration": 4,
    "start_time": "2024-08-18T23:21:43.260Z"
   },
   {
    "duration": 7,
    "start_time": "2024-08-18T23:21:43.265Z"
   },
   {
    "duration": 28,
    "start_time": "2024-08-18T23:21:43.273Z"
   },
   {
    "duration": 14,
    "start_time": "2024-08-18T23:21:43.302Z"
   },
   {
    "duration": 21,
    "start_time": "2024-08-18T23:21:43.317Z"
   },
   {
    "duration": 7452,
    "start_time": "2024-08-18T23:21:43.340Z"
   },
   {
    "duration": 1365,
    "start_time": "2024-08-18T23:21:50.793Z"
   },
   {
    "duration": 2613,
    "start_time": "2024-08-18T23:26:53.145Z"
   },
   {
    "duration": 1230,
    "start_time": "2024-08-18T23:26:55.761Z"
   },
   {
    "duration": 4,
    "start_time": "2024-08-18T23:26:56.993Z"
   },
   {
    "duration": 4,
    "start_time": "2024-08-18T23:26:56.999Z"
   },
   {
    "duration": 139,
    "start_time": "2024-08-18T23:26:57.005Z"
   },
   {
    "duration": 4,
    "start_time": "2024-08-18T23:26:57.146Z"
   },
   {
    "duration": 802,
    "start_time": "2024-08-18T23:26:57.151Z"
   },
   {
    "duration": 21,
    "start_time": "2024-08-18T23:26:57.955Z"
   },
   {
    "duration": 11,
    "start_time": "2024-08-18T23:26:57.977Z"
   },
   {
    "duration": 4,
    "start_time": "2024-08-18T23:26:57.991Z"
   },
   {
    "duration": 8,
    "start_time": "2024-08-18T23:26:57.997Z"
   },
   {
    "duration": 18,
    "start_time": "2024-08-18T23:26:58.007Z"
   },
   {
    "duration": 15,
    "start_time": "2024-08-18T23:26:58.052Z"
   },
   {
    "duration": 23,
    "start_time": "2024-08-18T23:26:58.068Z"
   },
   {
    "duration": 7481,
    "start_time": "2024-08-18T23:26:58.093Z"
   },
   {
    "duration": 1389,
    "start_time": "2024-08-18T23:27:05.576Z"
   },
   {
    "duration": 951,
    "start_time": "2024-08-18T23:27:06.966Z"
   },
   {
    "duration": 57,
    "start_time": "2024-08-18T23:41:32.266Z"
   },
   {
    "duration": 46,
    "start_time": "2024-08-18T23:41:39.997Z"
   },
   {
    "duration": 2545,
    "start_time": "2024-08-18T23:41:53.018Z"
   },
   {
    "duration": 1223,
    "start_time": "2024-08-18T23:41:55.565Z"
   },
   {
    "duration": 3,
    "start_time": "2024-08-18T23:41:56.789Z"
   },
   {
    "duration": 4,
    "start_time": "2024-08-18T23:41:56.794Z"
   },
   {
    "duration": 141,
    "start_time": "2024-08-18T23:41:56.800Z"
   },
   {
    "duration": 4,
    "start_time": "2024-08-18T23:41:56.942Z"
   },
   {
    "duration": 791,
    "start_time": "2024-08-18T23:41:56.947Z"
   },
   {
    "duration": 29,
    "start_time": "2024-08-18T23:41:57.739Z"
   },
   {
    "duration": 11,
    "start_time": "2024-08-18T23:41:57.770Z"
   },
   {
    "duration": 5,
    "start_time": "2024-08-18T23:41:57.784Z"
   },
   {
    "duration": 6,
    "start_time": "2024-08-18T23:41:57.790Z"
   },
   {
    "duration": 20,
    "start_time": "2024-08-18T23:41:57.797Z"
   },
   {
    "duration": 20,
    "start_time": "2024-08-18T23:41:57.852Z"
   },
   {
    "duration": 21,
    "start_time": "2024-08-18T23:41:57.874Z"
   },
   {
    "duration": 7606,
    "start_time": "2024-08-18T23:41:57.897Z"
   },
   {
    "duration": 1351,
    "start_time": "2024-08-18T23:42:05.505Z"
   },
   {
    "duration": 902,
    "start_time": "2024-08-18T23:42:06.858Z"
   },
   {
    "duration": 2498,
    "start_time": "2024-08-18T23:43:28.617Z"
   },
   {
    "duration": 1235,
    "start_time": "2024-08-18T23:43:31.117Z"
   },
   {
    "duration": 3,
    "start_time": "2024-08-18T23:43:32.353Z"
   },
   {
    "duration": 22,
    "start_time": "2024-08-18T23:43:32.358Z"
   },
   {
    "duration": 88,
    "start_time": "2024-08-18T23:43:32.381Z"
   },
   {
    "duration": 4,
    "start_time": "2024-08-18T23:43:32.470Z"
   },
   {
    "duration": 832,
    "start_time": "2024-08-18T23:43:32.476Z"
   },
   {
    "duration": 20,
    "start_time": "2024-08-18T23:43:33.310Z"
   },
   {
    "duration": 24,
    "start_time": "2024-08-18T23:43:33.331Z"
   },
   {
    "duration": 4,
    "start_time": "2024-08-18T23:43:33.357Z"
   },
   {
    "duration": 8,
    "start_time": "2024-08-18T23:43:33.363Z"
   },
   {
    "duration": 28,
    "start_time": "2024-08-18T23:43:33.372Z"
   },
   {
    "duration": 14,
    "start_time": "2024-08-18T23:43:33.402Z"
   },
   {
    "duration": 40,
    "start_time": "2024-08-18T23:43:33.418Z"
   },
   {
    "duration": 7561,
    "start_time": "2024-08-18T23:43:33.460Z"
   },
   {
    "duration": 1348,
    "start_time": "2024-08-18T23:43:41.023Z"
   },
   {
    "duration": 117,
    "start_time": "2024-08-18T23:43:42.373Z"
   },
   {
    "duration": 2446,
    "start_time": "2024-08-18T23:43:45.106Z"
   },
   {
    "duration": 1202,
    "start_time": "2024-08-18T23:43:47.554Z"
   },
   {
    "duration": 2,
    "start_time": "2024-08-18T23:43:48.758Z"
   },
   {
    "duration": 3,
    "start_time": "2024-08-18T23:43:48.762Z"
   },
   {
    "duration": 76,
    "start_time": "2024-08-18T23:43:48.767Z"
   },
   {
    "duration": 3,
    "start_time": "2024-08-18T23:43:48.845Z"
   },
   {
    "duration": 796,
    "start_time": "2024-08-18T23:43:48.850Z"
   },
   {
    "duration": 20,
    "start_time": "2024-08-18T23:43:49.648Z"
   },
   {
    "duration": 11,
    "start_time": "2024-08-18T23:43:49.669Z"
   },
   {
    "duration": 5,
    "start_time": "2024-08-18T23:43:49.682Z"
   },
   {
    "duration": 9,
    "start_time": "2024-08-18T23:43:49.688Z"
   },
   {
    "duration": 19,
    "start_time": "2024-08-18T23:43:49.698Z"
   },
   {
    "duration": 45,
    "start_time": "2024-08-18T23:43:49.719Z"
   },
   {
    "duration": 41,
    "start_time": "2024-08-18T23:43:49.765Z"
   },
   {
    "duration": 7386,
    "start_time": "2024-08-18T23:43:49.808Z"
   },
   {
    "duration": 1359,
    "start_time": "2024-08-18T23:43:57.195Z"
   },
   {
    "duration": 115,
    "start_time": "2024-08-18T23:43:58.556Z"
   },
   {
    "duration": 20,
    "start_time": "2024-08-18T23:44:18.897Z"
   },
   {
    "duration": 3239,
    "start_time": "2024-08-18T23:44:35.590Z"
   },
   {
    "duration": 1899,
    "start_time": "2024-08-18T23:49:28.519Z"
   },
   {
    "duration": 1905,
    "start_time": "2024-08-18T23:49:50.755Z"
   },
   {
    "duration": 3197,
    "start_time": "2024-08-19T11:05:53.422Z"
   },
   {
    "duration": 1303,
    "start_time": "2024-08-19T11:05:56.620Z"
   },
   {
    "duration": 4,
    "start_time": "2024-08-19T11:05:57.924Z"
   },
   {
    "duration": 10,
    "start_time": "2024-08-19T11:05:57.930Z"
   },
   {
    "duration": 131,
    "start_time": "2024-08-19T11:05:57.941Z"
   },
   {
    "duration": 5,
    "start_time": "2024-08-19T11:05:58.073Z"
   },
   {
    "duration": 827,
    "start_time": "2024-08-19T11:05:58.079Z"
   },
   {
    "duration": 18,
    "start_time": "2024-08-19T11:05:58.908Z"
   },
   {
    "duration": 15,
    "start_time": "2024-08-19T11:05:58.927Z"
   },
   {
    "duration": 4,
    "start_time": "2024-08-19T11:05:58.944Z"
   },
   {
    "duration": 10,
    "start_time": "2024-08-19T11:05:58.949Z"
   },
   {
    "duration": 35,
    "start_time": "2024-08-19T11:05:58.961Z"
   },
   {
    "duration": 13,
    "start_time": "2024-08-19T11:05:58.997Z"
   },
   {
    "duration": 27,
    "start_time": "2024-08-19T11:05:59.011Z"
   },
   {
    "duration": 6905,
    "start_time": "2024-08-19T11:05:59.039Z"
   },
   {
    "duration": 1239,
    "start_time": "2024-08-19T11:06:05.945Z"
   },
   {
    "duration": 1785,
    "start_time": "2024-08-19T11:06:07.186Z"
   },
   {
    "duration": 110,
    "start_time": "2024-08-19T13:13:38.767Z"
   },
   {
    "duration": 3,
    "start_time": "2024-08-19T13:13:47.328Z"
   },
   {
    "duration": 13,
    "start_time": "2024-08-19T13:13:51.629Z"
   },
   {
    "duration": 13,
    "start_time": "2024-08-19T13:14:35.461Z"
   },
   {
    "duration": 6,
    "start_time": "2024-08-19T13:18:57.377Z"
   },
   {
    "duration": 9,
    "start_time": "2024-08-19T13:22:42.690Z"
   },
   {
    "duration": 5,
    "start_time": "2024-08-19T13:23:38.656Z"
   },
   {
    "duration": 16,
    "start_time": "2024-08-19T13:34:19.865Z"
   },
   {
    "duration": 6,
    "start_time": "2024-08-19T13:37:36.148Z"
   },
   {
    "duration": 5,
    "start_time": "2024-08-19T13:37:48.519Z"
   },
   {
    "duration": 13,
    "start_time": "2024-08-19T13:41:27.173Z"
   },
   {
    "duration": 6,
    "start_time": "2024-08-19T13:45:45.725Z"
   },
   {
    "duration": 12,
    "start_time": "2024-08-19T13:52:27.518Z"
   },
   {
    "duration": 2260,
    "start_time": "2024-08-19T13:52:37.615Z"
   },
   {
    "duration": 1178,
    "start_time": "2024-08-19T13:52:39.877Z"
   },
   {
    "duration": 3,
    "start_time": "2024-08-19T13:52:41.057Z"
   },
   {
    "duration": 14,
    "start_time": "2024-08-19T13:52:41.062Z"
   },
   {
    "duration": 88,
    "start_time": "2024-08-19T13:52:41.077Z"
   },
   {
    "duration": 4,
    "start_time": "2024-08-19T13:52:41.166Z"
   },
   {
    "duration": 746,
    "start_time": "2024-08-19T13:52:41.171Z"
   },
   {
    "duration": 18,
    "start_time": "2024-08-19T13:52:41.923Z"
   },
   {
    "duration": 23,
    "start_time": "2024-08-19T13:52:41.943Z"
   },
   {
    "duration": 6,
    "start_time": "2024-08-19T13:52:41.968Z"
   },
   {
    "duration": 7,
    "start_time": "2024-08-19T13:52:41.975Z"
   },
   {
    "duration": 16,
    "start_time": "2024-08-19T13:52:41.984Z"
   },
   {
    "duration": 12,
    "start_time": "2024-08-19T13:52:42.002Z"
   },
   {
    "duration": 21,
    "start_time": "2024-08-19T13:52:42.016Z"
   },
   {
    "duration": 6734,
    "start_time": "2024-08-19T13:52:42.038Z"
   },
   {
    "duration": 1251,
    "start_time": "2024-08-19T13:52:48.781Z"
   },
   {
    "duration": 1790,
    "start_time": "2024-08-19T13:52:50.033Z"
   },
   {
    "duration": 14,
    "start_time": "2024-08-19T13:52:51.825Z"
   },
   {
    "duration": 11,
    "start_time": "2024-08-19T13:52:51.840Z"
   },
   {
    "duration": 6,
    "start_time": "2024-08-19T13:56:25.679Z"
   },
   {
    "duration": 101,
    "start_time": "2024-08-19T14:35:34.830Z"
   },
   {
    "duration": 8,
    "start_time": "2024-08-19T14:35:49.171Z"
   },
   {
    "duration": 2284,
    "start_time": "2024-08-19T14:43:31.975Z"
   },
   {
    "duration": 1178,
    "start_time": "2024-08-19T14:43:34.261Z"
   },
   {
    "duration": 3,
    "start_time": "2024-08-19T14:43:35.440Z"
   },
   {
    "duration": 8,
    "start_time": "2024-08-19T14:43:35.445Z"
   },
   {
    "duration": 74,
    "start_time": "2024-08-19T14:43:35.454Z"
   },
   {
    "duration": 3,
    "start_time": "2024-08-19T14:43:35.530Z"
   },
   {
    "duration": 765,
    "start_time": "2024-08-19T14:43:35.534Z"
   },
   {
    "duration": 18,
    "start_time": "2024-08-19T14:43:36.300Z"
   },
   {
    "duration": 21,
    "start_time": "2024-08-19T14:43:36.320Z"
   },
   {
    "duration": 4,
    "start_time": "2024-08-19T14:43:36.343Z"
   },
   {
    "duration": 6,
    "start_time": "2024-08-19T14:43:36.348Z"
   },
   {
    "duration": 28,
    "start_time": "2024-08-19T14:43:36.355Z"
   },
   {
    "duration": 12,
    "start_time": "2024-08-19T14:43:36.384Z"
   },
   {
    "duration": 31,
    "start_time": "2024-08-19T14:43:36.397Z"
   },
   {
    "duration": 6706,
    "start_time": "2024-08-19T14:43:36.429Z"
   },
   {
    "duration": 1273,
    "start_time": "2024-08-19T14:43:43.136Z"
   },
   {
    "duration": 1721,
    "start_time": "2024-08-19T14:43:44.410Z"
   },
   {
    "duration": 13,
    "start_time": "2024-08-19T14:43:46.132Z"
   },
   {
    "duration": 6,
    "start_time": "2024-08-19T14:43:46.146Z"
   },
   {
    "duration": 32,
    "start_time": "2024-08-19T15:11:50.741Z"
   },
   {
    "duration": 19,
    "start_time": "2024-08-19T15:12:17.207Z"
   },
   {
    "duration": 19,
    "start_time": "2024-08-19T15:13:35.647Z"
   },
   {
    "duration": 18,
    "start_time": "2024-08-19T15:14:37.462Z"
   },
   {
    "duration": 16,
    "start_time": "2024-08-19T15:17:30.468Z"
   },
   {
    "duration": 16,
    "start_time": "2024-08-19T15:18:05.842Z"
   },
   {
    "duration": 17,
    "start_time": "2024-08-19T15:19:19.182Z"
   },
   {
    "duration": 18,
    "start_time": "2024-08-19T15:20:45.031Z"
   },
   {
    "duration": 15,
    "start_time": "2024-08-19T15:21:30.417Z"
   },
   {
    "duration": 28,
    "start_time": "2024-08-19T15:22:44.429Z"
   },
   {
    "duration": 18,
    "start_time": "2024-08-19T15:22:56.948Z"
   },
   {
    "duration": 16,
    "start_time": "2024-08-19T15:23:53.771Z"
   },
   {
    "duration": 17,
    "start_time": "2024-08-19T15:25:36.632Z"
   },
   {
    "duration": 17,
    "start_time": "2024-08-19T15:26:08.048Z"
   },
   {
    "duration": 17,
    "start_time": "2024-08-19T15:26:16.658Z"
   },
   {
    "duration": 107,
    "start_time": "2024-08-19T15:26:54.287Z"
   },
   {
    "duration": 19,
    "start_time": "2024-08-19T15:27:26.672Z"
   },
   {
    "duration": 16,
    "start_time": "2024-08-19T15:28:47.411Z"
   },
   {
    "duration": 16,
    "start_time": "2024-08-19T15:29:08.179Z"
   },
   {
    "duration": 15,
    "start_time": "2024-08-19T15:29:46.010Z"
   },
   {
    "duration": 18,
    "start_time": "2024-08-19T15:29:58.204Z"
   },
   {
    "duration": 20,
    "start_time": "2024-08-19T15:32:44.083Z"
   },
   {
    "duration": 19,
    "start_time": "2024-08-19T15:33:08.639Z"
   },
   {
    "duration": 17,
    "start_time": "2024-08-19T15:33:21.563Z"
   },
   {
    "duration": 16,
    "start_time": "2024-08-19T15:33:56.978Z"
   },
   {
    "duration": 14,
    "start_time": "2024-08-19T15:34:39.242Z"
   },
   {
    "duration": 16,
    "start_time": "2024-08-19T15:35:14.268Z"
   },
   {
    "duration": 19,
    "start_time": "2024-08-19T15:36:15.647Z"
   },
   {
    "duration": 17,
    "start_time": "2024-08-19T15:36:28.315Z"
   },
   {
    "duration": 16,
    "start_time": "2024-08-19T15:36:51.284Z"
   },
   {
    "duration": 17,
    "start_time": "2024-08-19T15:37:05.811Z"
   },
   {
    "duration": 18,
    "start_time": "2024-08-19T15:37:19.589Z"
   },
   {
    "duration": 18,
    "start_time": "2024-08-19T15:37:48.802Z"
   },
   {
    "duration": 18,
    "start_time": "2024-08-19T15:38:11.195Z"
   },
   {
    "duration": 13,
    "start_time": "2024-08-19T15:38:25.422Z"
   },
   {
    "duration": 15,
    "start_time": "2024-08-19T15:39:11.134Z"
   },
   {
    "duration": 18,
    "start_time": "2024-08-19T15:39:28.526Z"
   },
   {
    "duration": 16,
    "start_time": "2024-08-19T15:39:45.947Z"
   },
   {
    "duration": 26,
    "start_time": "2024-08-19T15:40:12.595Z"
   },
   {
    "duration": 16,
    "start_time": "2024-08-19T15:40:21.409Z"
   },
   {
    "duration": 16,
    "start_time": "2024-08-19T15:40:41.046Z"
   },
   {
    "duration": 16,
    "start_time": "2024-08-19T15:40:52.328Z"
   },
   {
    "duration": 15,
    "start_time": "2024-08-19T15:42:29.621Z"
   },
   {
    "duration": 36,
    "start_time": "2024-08-19T15:43:28.586Z"
   },
   {
    "duration": 16,
    "start_time": "2024-08-19T15:43:40.751Z"
   },
   {
    "duration": 16,
    "start_time": "2024-08-19T15:44:22.334Z"
   },
   {
    "duration": 16,
    "start_time": "2024-08-19T15:44:32.556Z"
   },
   {
    "duration": 14,
    "start_time": "2024-08-19T15:47:11.352Z"
   },
   {
    "duration": 18,
    "start_time": "2024-08-19T15:47:29.429Z"
   },
   {
    "duration": 18,
    "start_time": "2024-08-19T15:47:50.312Z"
   },
   {
    "duration": 20,
    "start_time": "2024-08-19T15:48:06.021Z"
   },
   {
    "duration": 17,
    "start_time": "2024-08-19T15:48:26.446Z"
   },
   {
    "duration": 16,
    "start_time": "2024-08-19T15:48:51.139Z"
   },
   {
    "duration": 16,
    "start_time": "2024-08-19T15:49:22.748Z"
   },
   {
    "duration": 16,
    "start_time": "2024-08-19T15:49:37.433Z"
   },
   {
    "duration": 17,
    "start_time": "2024-08-19T15:49:40.034Z"
   },
   {
    "duration": 17,
    "start_time": "2024-08-19T15:49:53.648Z"
   },
   {
    "duration": 17,
    "start_time": "2024-08-19T15:51:10.010Z"
   },
   {
    "duration": 19,
    "start_time": "2024-08-19T15:52:01.973Z"
   },
   {
    "duration": 18,
    "start_time": "2024-08-19T15:52:46.939Z"
   },
   {
    "duration": 18,
    "start_time": "2024-08-19T15:53:08.439Z"
   },
   {
    "duration": 19,
    "start_time": "2024-08-19T15:53:31.846Z"
   },
   {
    "duration": 2241,
    "start_time": "2024-08-19T15:55:41.155Z"
   },
   {
    "duration": 1155,
    "start_time": "2024-08-19T15:55:43.398Z"
   },
   {
    "duration": 3,
    "start_time": "2024-08-19T15:55:44.554Z"
   },
   {
    "duration": 4,
    "start_time": "2024-08-19T15:55:44.559Z"
   },
   {
    "duration": 78,
    "start_time": "2024-08-19T15:55:44.564Z"
   },
   {
    "duration": 4,
    "start_time": "2024-08-19T15:55:44.643Z"
   },
   {
    "duration": 745,
    "start_time": "2024-08-19T15:55:44.649Z"
   },
   {
    "duration": 18,
    "start_time": "2024-08-19T15:55:45.396Z"
   },
   {
    "duration": 18,
    "start_time": "2024-08-19T15:55:45.416Z"
   },
   {
    "duration": 5,
    "start_time": "2024-08-19T15:55:45.436Z"
   },
   {
    "duration": 12,
    "start_time": "2024-08-19T15:55:45.442Z"
   },
   {
    "duration": 34,
    "start_time": "2024-08-19T15:55:45.458Z"
   },
   {
    "duration": 13,
    "start_time": "2024-08-19T15:55:45.494Z"
   },
   {
    "duration": 18,
    "start_time": "2024-08-19T15:55:45.508Z"
   },
   {
    "duration": 6766,
    "start_time": "2024-08-19T15:55:45.528Z"
   },
   {
    "duration": 1229,
    "start_time": "2024-08-19T15:55:52.296Z"
   },
   {
    "duration": 1760,
    "start_time": "2024-08-19T15:55:53.526Z"
   },
   {
    "duration": 13,
    "start_time": "2024-08-19T15:55:55.287Z"
   },
   {
    "duration": 7,
    "start_time": "2024-08-19T15:55:55.301Z"
   },
   {
    "duration": 39,
    "start_time": "2024-08-19T15:55:55.309Z"
   },
   {
    "duration": 18,
    "start_time": "2024-08-19T15:55:55.349Z"
   },
   {
    "duration": 65,
    "start_time": "2024-08-19T15:55:55.368Z"
   },
   {
    "duration": 2249,
    "start_time": "2024-08-19T15:56:26.270Z"
   },
   {
    "duration": 1486,
    "start_time": "2024-08-19T15:56:28.521Z"
   },
   {
    "duration": 3,
    "start_time": "2024-08-19T15:56:30.009Z"
   },
   {
    "duration": 36,
    "start_time": "2024-08-19T15:56:30.014Z"
   },
   {
    "duration": 118,
    "start_time": "2024-08-19T15:56:30.082Z"
   },
   {
    "duration": 6,
    "start_time": "2024-08-19T15:56:30.202Z"
   },
   {
    "duration": 951,
    "start_time": "2024-08-19T15:56:30.210Z"
   },
   {
    "duration": 23,
    "start_time": "2024-08-19T15:56:31.163Z"
   },
   {
    "duration": 43,
    "start_time": "2024-08-19T15:56:31.187Z"
   },
   {
    "duration": 24,
    "start_time": "2024-08-19T15:56:31.232Z"
   },
   {
    "duration": 71,
    "start_time": "2024-08-19T15:56:31.257Z"
   },
   {
    "duration": 51,
    "start_time": "2024-08-19T15:56:31.330Z"
   },
   {
    "duration": 22,
    "start_time": "2024-08-19T15:56:31.383Z"
   },
   {
    "duration": 46,
    "start_time": "2024-08-19T15:56:31.406Z"
   },
   {
    "duration": 6743,
    "start_time": "2024-08-19T15:56:31.453Z"
   },
   {
    "duration": 1230,
    "start_time": "2024-08-19T15:56:38.198Z"
   },
   {
    "duration": 1733,
    "start_time": "2024-08-19T15:56:39.429Z"
   },
   {
    "duration": 21,
    "start_time": "2024-08-19T15:56:41.164Z"
   },
   {
    "duration": 6,
    "start_time": "2024-08-19T15:56:41.187Z"
   },
   {
    "duration": 16,
    "start_time": "2024-08-19T15:56:41.194Z"
   },
   {
    "duration": 18,
    "start_time": "2024-08-19T15:56:41.211Z"
   },
   {
    "duration": 54,
    "start_time": "2024-08-19T15:56:41.230Z"
   },
   {
    "duration": 17,
    "start_time": "2024-08-19T15:58:12.128Z"
   },
   {
    "duration": 15,
    "start_time": "2024-08-19T16:00:38.528Z"
   },
   {
    "duration": 14,
    "start_time": "2024-08-19T16:00:42.649Z"
   },
   {
    "duration": 16,
    "start_time": "2024-08-19T16:00:52.954Z"
   },
   {
    "duration": 2252,
    "start_time": "2024-08-19T16:03:07.413Z"
   },
   {
    "duration": 1166,
    "start_time": "2024-08-19T16:03:09.667Z"
   },
   {
    "duration": 2,
    "start_time": "2024-08-19T16:03:10.835Z"
   },
   {
    "duration": 14,
    "start_time": "2024-08-19T16:03:10.839Z"
   },
   {
    "duration": 70,
    "start_time": "2024-08-19T16:03:10.855Z"
   },
   {
    "duration": 4,
    "start_time": "2024-08-19T16:03:10.926Z"
   },
   {
    "duration": 763,
    "start_time": "2024-08-19T16:03:10.931Z"
   },
   {
    "duration": 18,
    "start_time": "2024-08-19T16:03:11.695Z"
   },
   {
    "duration": 10,
    "start_time": "2024-08-19T16:03:11.714Z"
   },
   {
    "duration": 6,
    "start_time": "2024-08-19T16:03:11.726Z"
   },
   {
    "duration": 25,
    "start_time": "2024-08-19T16:03:11.733Z"
   },
   {
    "duration": 26,
    "start_time": "2024-08-19T16:03:11.759Z"
   },
   {
    "duration": 12,
    "start_time": "2024-08-19T16:03:11.787Z"
   },
   {
    "duration": 40,
    "start_time": "2024-08-19T16:03:11.800Z"
   },
   {
    "duration": 6849,
    "start_time": "2024-08-19T16:03:11.842Z"
   },
   {
    "duration": 1219,
    "start_time": "2024-08-19T16:03:18.693Z"
   },
   {
    "duration": 1756,
    "start_time": "2024-08-19T16:03:19.914Z"
   },
   {
    "duration": 20,
    "start_time": "2024-08-19T16:03:21.672Z"
   },
   {
    "duration": 7,
    "start_time": "2024-08-19T16:03:21.694Z"
   },
   {
    "duration": 16,
    "start_time": "2024-08-19T16:03:21.702Z"
   },
   {
    "duration": 18,
    "start_time": "2024-08-19T16:03:21.720Z"
   },
   {
    "duration": 49,
    "start_time": "2024-08-19T16:03:21.739Z"
   },
   {
    "duration": 14,
    "start_time": "2024-08-19T16:06:49.563Z"
   },
   {
    "duration": 2206,
    "start_time": "2024-08-19T16:15:04.816Z"
   },
   {
    "duration": 1122,
    "start_time": "2024-08-19T16:15:07.024Z"
   },
   {
    "duration": 3,
    "start_time": "2024-08-19T16:15:08.147Z"
   },
   {
    "duration": 16,
    "start_time": "2024-08-19T16:15:08.151Z"
   },
   {
    "duration": 80,
    "start_time": "2024-08-19T16:15:08.169Z"
   },
   {
    "duration": 4,
    "start_time": "2024-08-19T16:15:08.250Z"
   },
   {
    "duration": 782,
    "start_time": "2024-08-19T16:15:08.256Z"
   },
   {
    "duration": 18,
    "start_time": "2024-08-19T16:15:09.039Z"
   },
   {
    "duration": 12,
    "start_time": "2024-08-19T16:15:09.058Z"
   },
   {
    "duration": 5,
    "start_time": "2024-08-19T16:15:09.082Z"
   },
   {
    "duration": 12,
    "start_time": "2024-08-19T16:15:09.088Z"
   },
   {
    "duration": 21,
    "start_time": "2024-08-19T16:15:09.102Z"
   },
   {
    "duration": 13,
    "start_time": "2024-08-19T16:15:09.125Z"
   },
   {
    "duration": 36,
    "start_time": "2024-08-19T16:15:09.140Z"
   },
   {
    "duration": 6749,
    "start_time": "2024-08-19T16:15:09.177Z"
   },
   {
    "duration": 1284,
    "start_time": "2024-08-19T16:15:15.928Z"
   },
   {
    "duration": 1745,
    "start_time": "2024-08-19T16:15:17.213Z"
   },
   {
    "duration": 23,
    "start_time": "2024-08-19T16:15:18.959Z"
   },
   {
    "duration": 6,
    "start_time": "2024-08-19T16:15:18.983Z"
   },
   {
    "duration": 22,
    "start_time": "2024-08-19T16:15:18.991Z"
   },
   {
    "duration": 30,
    "start_time": "2024-08-19T16:15:19.015Z"
   },
   {
    "duration": 16,
    "start_time": "2024-08-19T16:15:19.046Z"
   },
   {
    "duration": 3239,
    "start_time": "2024-08-20T09:26:44.882Z"
   },
   {
    "duration": 3609,
    "start_time": "2024-08-20T09:26:48.124Z"
   },
   {
    "duration": 2,
    "start_time": "2024-08-20T09:26:51.735Z"
   },
   {
    "duration": 17,
    "start_time": "2024-08-20T09:26:51.739Z"
   },
   {
    "duration": 85,
    "start_time": "2024-08-20T09:26:51.758Z"
   },
   {
    "duration": 4,
    "start_time": "2024-08-20T09:26:51.845Z"
   },
   {
    "duration": 851,
    "start_time": "2024-08-20T09:26:51.850Z"
   },
   {
    "duration": 19,
    "start_time": "2024-08-20T09:26:52.702Z"
   },
   {
    "duration": 25,
    "start_time": "2024-08-20T09:26:52.723Z"
   },
   {
    "duration": 5,
    "start_time": "2024-08-20T09:26:52.749Z"
   },
   {
    "duration": 6,
    "start_time": "2024-08-20T09:26:52.755Z"
   },
   {
    "duration": 33,
    "start_time": "2024-08-20T09:26:52.763Z"
   },
   {
    "duration": 14,
    "start_time": "2024-08-20T09:26:52.798Z"
   },
   {
    "duration": 46,
    "start_time": "2024-08-20T09:26:52.814Z"
   },
   {
    "duration": 6363,
    "start_time": "2024-08-20T09:26:52.861Z"
   },
   {
    "duration": 2129,
    "start_time": "2024-08-20T09:26:59.226Z"
   },
   {
    "duration": 1283,
    "start_time": "2024-08-20T09:27:01.357Z"
   },
   {
    "duration": 17,
    "start_time": "2024-08-20T09:27:02.642Z"
   },
   {
    "duration": 25,
    "start_time": "2024-08-20T09:27:02.661Z"
   },
   {
    "duration": 24,
    "start_time": "2024-08-20T09:27:02.688Z"
   },
   {
    "duration": 48,
    "start_time": "2024-08-20T09:27:02.714Z"
   },
   {
    "duration": 23,
    "start_time": "2024-08-20T09:27:02.764Z"
   },
   {
    "duration": 46,
    "start_time": "2024-08-20T21:32:20.314Z"
   },
   {
    "duration": 3900,
    "start_time": "2024-08-20T21:32:29.870Z"
   },
   {
    "duration": 1752,
    "start_time": "2024-08-20T21:32:33.773Z"
   },
   {
    "duration": 3,
    "start_time": "2024-08-20T21:32:35.527Z"
   },
   {
    "duration": 84,
    "start_time": "2024-08-20T21:32:35.532Z"
   },
   {
    "duration": 194,
    "start_time": "2024-08-20T21:32:35.617Z"
   },
   {
    "duration": 4,
    "start_time": "2024-08-20T21:32:35.812Z"
   },
   {
    "duration": 827,
    "start_time": "2024-08-20T21:32:35.817Z"
   },
   {
    "duration": 18,
    "start_time": "2024-08-20T21:32:36.646Z"
   },
   {
    "duration": 36,
    "start_time": "2024-08-20T21:32:36.666Z"
   },
   {
    "duration": 115,
    "start_time": "2024-08-20T21:32:36.704Z"
   },
   {
    "duration": 15,
    "start_time": "2024-08-20T21:32:36.821Z"
   },
   {
    "duration": 6,
    "start_time": "2024-08-20T21:32:36.837Z"
   },
   {
    "duration": 17,
    "start_time": "2024-08-20T21:32:36.845Z"
   },
   {
    "duration": 13,
    "start_time": "2024-08-20T21:32:36.864Z"
   },
   {
    "duration": 32,
    "start_time": "2024-08-20T21:32:36.879Z"
   },
   {
    "duration": 7319,
    "start_time": "2024-08-20T21:32:36.913Z"
   },
   {
    "duration": 1407,
    "start_time": "2024-08-20T21:32:44.238Z"
   },
   {
    "duration": 2044,
    "start_time": "2024-08-20T21:32:45.647Z"
   },
   {
    "duration": 14,
    "start_time": "2024-08-20T21:32:47.693Z"
   },
   {
    "duration": 38,
    "start_time": "2024-08-20T21:32:47.708Z"
   },
   {
    "duration": 5,
    "start_time": "2024-08-20T21:32:47.748Z"
   },
   {
    "duration": 24,
    "start_time": "2024-08-20T21:32:47.755Z"
   },
   {
    "duration": 65,
    "start_time": "2024-08-20T21:32:47.780Z"
   },
   {
    "duration": 15,
    "start_time": "2024-08-20T21:32:47.846Z"
   },
   {
    "duration": 104,
    "start_time": "2024-08-20T21:35:57.395Z"
   },
   {
    "duration": 9,
    "start_time": "2024-08-20T21:36:07.205Z"
   },
   {
    "duration": 8,
    "start_time": "2024-08-20T21:36:46.981Z"
   },
   {
    "duration": 11,
    "start_time": "2024-08-20T21:36:59.820Z"
   },
   {
    "duration": 15,
    "start_time": "2024-08-20T21:37:25.775Z"
   },
   {
    "duration": 2955,
    "start_time": "2024-08-20T22:30:11.955Z"
   },
   {
    "duration": 2244,
    "start_time": "2024-08-20T22:30:52.847Z"
   },
   {
    "duration": 2082,
    "start_time": "2024-08-20T22:31:20.875Z"
   },
   {
    "duration": 100,
    "start_time": "2024-08-20T22:34:59.838Z"
   },
   {
    "duration": 18,
    "start_time": "2024-08-20T22:35:10.610Z"
   },
   {
    "duration": 2150,
    "start_time": "2024-08-20T22:36:20.301Z"
   },
   {
    "duration": 2193,
    "start_time": "2024-08-20T22:36:57.036Z"
   },
   {
    "duration": 2179,
    "start_time": "2024-08-20T22:41:03.852Z"
   },
   {
    "duration": 2246,
    "start_time": "2024-08-20T22:41:24.397Z"
   },
   {
    "duration": 2402,
    "start_time": "2024-08-20T23:21:31.834Z"
   },
   {
    "duration": 1235,
    "start_time": "2024-08-20T23:21:34.238Z"
   },
   {
    "duration": 3,
    "start_time": "2024-08-20T23:21:35.474Z"
   },
   {
    "duration": 28,
    "start_time": "2024-08-20T23:21:35.479Z"
   },
   {
    "duration": 79,
    "start_time": "2024-08-20T23:21:35.509Z"
   },
   {
    "duration": 4,
    "start_time": "2024-08-20T23:21:35.589Z"
   },
   {
    "duration": 801,
    "start_time": "2024-08-20T23:21:35.594Z"
   },
   {
    "duration": 18,
    "start_time": "2024-08-20T23:21:36.397Z"
   },
   {
    "duration": 22,
    "start_time": "2024-08-20T23:21:36.417Z"
   },
   {
    "duration": 17,
    "start_time": "2024-08-20T23:21:36.440Z"
   },
   {
    "duration": 16,
    "start_time": "2024-08-20T23:21:36.459Z"
   },
   {
    "duration": 3,
    "start_time": "2024-08-20T23:21:36.477Z"
   },
   {
    "duration": 18,
    "start_time": "2024-08-20T23:21:36.482Z"
   },
   {
    "duration": 18,
    "start_time": "2024-08-20T23:21:36.502Z"
   },
   {
    "duration": 29,
    "start_time": "2024-08-20T23:21:36.521Z"
   },
   {
    "duration": 70,
    "start_time": "2024-08-20T23:21:36.552Z"
   },
   {
    "duration": 7281,
    "start_time": "2024-08-20T23:21:36.624Z"
   },
   {
    "duration": 15,
    "start_time": "2024-08-20T23:21:43.906Z"
   },
   {
    "duration": 2207,
    "start_time": "2024-08-20T23:21:43.923Z"
   },
   {
    "duration": 2155,
    "start_time": "2024-08-20T23:21:46.132Z"
   },
   {
    "duration": 42570,
    "start_time": "2024-08-20T23:21:48.289Z"
   },
   {
    "duration": 14,
    "start_time": "2024-08-20T23:22:30.861Z"
   },
   {
    "duration": 5,
    "start_time": "2024-08-20T23:22:30.876Z"
   },
   {
    "duration": 5,
    "start_time": "2024-08-20T23:22:30.882Z"
   },
   {
    "duration": 17,
    "start_time": "2024-08-20T23:22:30.888Z"
   },
   {
    "duration": 54,
    "start_time": "2024-08-20T23:22:30.907Z"
   },
   {
    "duration": 16,
    "start_time": "2024-08-20T23:22:30.963Z"
   },
   {
    "duration": 359,
    "start_time": "2024-08-20T23:23:18.486Z"
   },
   {
    "duration": 104,
    "start_time": "2024-08-21T00:12:59.815Z"
   },
   {
    "duration": 7,
    "start_time": "2024-08-21T00:14:21.033Z"
   },
   {
    "duration": 7,
    "start_time": "2024-08-21T00:25:20.164Z"
   },
   {
    "duration": 15,
    "start_time": "2024-08-21T00:26:59.932Z"
   },
   {
    "duration": 5,
    "start_time": "2024-08-21T00:27:12.056Z"
   },
   {
    "duration": 12,
    "start_time": "2024-08-21T00:30:43.484Z"
   },
   {
    "duration": 796,
    "start_time": "2024-08-21T00:31:09.323Z"
   },
   {
    "duration": 8,
    "start_time": "2024-08-21T00:31:25.563Z"
   },
   {
    "duration": 12,
    "start_time": "2024-08-21T00:31:41.126Z"
   },
   {
    "duration": 10,
    "start_time": "2024-08-21T00:32:11.075Z"
   },
   {
    "duration": 11,
    "start_time": "2024-08-21T00:32:35.203Z"
   },
   {
    "duration": 11,
    "start_time": "2024-08-21T00:33:18.927Z"
   },
   {
    "duration": 14,
    "start_time": "2024-08-21T00:36:14.441Z"
   },
   {
    "duration": 6,
    "start_time": "2024-08-21T00:39:24.606Z"
   },
   {
    "duration": 2343,
    "start_time": "2024-08-21T00:45:26.031Z"
   },
   {
    "duration": 1141,
    "start_time": "2024-08-21T00:45:28.377Z"
   },
   {
    "duration": 3,
    "start_time": "2024-08-21T00:45:29.519Z"
   },
   {
    "duration": 4,
    "start_time": "2024-08-21T00:45:29.523Z"
   },
   {
    "duration": 70,
    "start_time": "2024-08-21T00:45:29.529Z"
   },
   {
    "duration": 4,
    "start_time": "2024-08-21T00:45:29.600Z"
   },
   {
    "duration": 818,
    "start_time": "2024-08-21T00:45:29.605Z"
   },
   {
    "duration": 23,
    "start_time": "2024-08-21T00:45:30.424Z"
   },
   {
    "duration": 23,
    "start_time": "2024-08-21T00:45:30.449Z"
   },
   {
    "duration": 38,
    "start_time": "2024-08-21T00:45:30.473Z"
   },
   {
    "duration": 9,
    "start_time": "2024-08-21T00:45:30.513Z"
   },
   {
    "duration": 13,
    "start_time": "2024-08-21T00:45:30.524Z"
   },
   {
    "duration": 15,
    "start_time": "2024-08-21T00:45:30.538Z"
   },
   {
    "duration": 22,
    "start_time": "2024-08-21T00:45:30.556Z"
   },
   {
    "duration": 14,
    "start_time": "2024-08-21T00:45:30.579Z"
   },
   {
    "duration": 26,
    "start_time": "2024-08-21T00:45:30.594Z"
   },
   {
    "duration": 7563,
    "start_time": "2024-08-21T00:45:30.621Z"
   },
   {
    "duration": 70,
    "start_time": "2024-08-21T00:45:38.185Z"
   },
   {
    "duration": 2361,
    "start_time": "2024-08-21T00:45:38.257Z"
   },
   {
    "duration": 2099,
    "start_time": "2024-08-21T00:45:40.620Z"
   },
   {
    "duration": 413,
    "start_time": "2024-08-21T00:45:42.720Z"
   },
   {
    "duration": 6,
    "start_time": "2024-08-21T00:45:43.137Z"
   },
   {
    "duration": 6,
    "start_time": "2024-08-21T00:45:43.144Z"
   },
   {
    "duration": 11,
    "start_time": "2024-08-21T00:45:43.152Z"
   },
   {
    "duration": 5,
    "start_time": "2024-08-21T00:45:43.165Z"
   },
   {
    "duration": 5,
    "start_time": "2024-08-21T00:45:43.171Z"
   },
   {
    "duration": 42,
    "start_time": "2024-08-21T00:45:43.177Z"
   },
   {
    "duration": 31,
    "start_time": "2024-08-21T00:45:43.221Z"
   },
   {
    "duration": 16,
    "start_time": "2024-08-21T00:45:43.254Z"
   },
   {
    "duration": 41,
    "start_time": "2024-08-21T12:15:58.866Z"
   },
   {
    "duration": 3514,
    "start_time": "2024-08-21T12:16:03.083Z"
   },
   {
    "duration": 1910,
    "start_time": "2024-08-21T12:16:06.599Z"
   },
   {
    "duration": 3,
    "start_time": "2024-08-21T12:16:08.510Z"
   },
   {
    "duration": 29,
    "start_time": "2024-08-21T12:16:08.515Z"
   },
   {
    "duration": 206,
    "start_time": "2024-08-21T12:16:08.546Z"
   },
   {
    "duration": 3,
    "start_time": "2024-08-21T12:16:08.753Z"
   },
   {
    "duration": 789,
    "start_time": "2024-08-21T12:16:08.757Z"
   },
   {
    "duration": 16,
    "start_time": "2024-08-21T12:16:09.547Z"
   },
   {
    "duration": 126,
    "start_time": "2024-08-21T12:16:09.564Z"
   },
   {
    "duration": 20,
    "start_time": "2024-08-21T12:16:09.692Z"
   },
   {
    "duration": 30,
    "start_time": "2024-08-21T12:16:09.713Z"
   },
   {
    "duration": 3,
    "start_time": "2024-08-21T12:16:09.744Z"
   },
   {
    "duration": 13,
    "start_time": "2024-08-21T12:16:09.749Z"
   },
   {
    "duration": 21,
    "start_time": "2024-08-21T12:16:09.763Z"
   },
   {
    "duration": 15,
    "start_time": "2024-08-21T12:16:09.785Z"
   },
   {
    "duration": 21,
    "start_time": "2024-08-21T12:16:09.802Z"
   },
   {
    "duration": 5668,
    "start_time": "2024-08-21T12:16:09.824Z"
   },
   {
    "duration": 19,
    "start_time": "2024-08-21T12:16:15.493Z"
   },
   {
    "duration": 2019,
    "start_time": "2024-08-21T12:16:15.513Z"
   },
   {
    "duration": 111,
    "start_time": "2024-08-21T12:16:17.534Z"
   },
   {
    "duration": 0,
    "start_time": "2024-08-21T12:16:17.646Z"
   },
   {
    "duration": 0,
    "start_time": "2024-08-21T12:16:17.647Z"
   },
   {
    "duration": 0,
    "start_time": "2024-08-21T12:16:17.649Z"
   },
   {
    "duration": 0,
    "start_time": "2024-08-21T12:16:17.650Z"
   },
   {
    "duration": 0,
    "start_time": "2024-08-21T12:16:17.651Z"
   },
   {
    "duration": 0,
    "start_time": "2024-08-21T12:16:17.652Z"
   },
   {
    "duration": 0,
    "start_time": "2024-08-21T12:16:17.654Z"
   },
   {
    "duration": 0,
    "start_time": "2024-08-21T12:16:17.655Z"
   },
   {
    "duration": 0,
    "start_time": "2024-08-21T12:16:17.656Z"
   },
   {
    "duration": 0,
    "start_time": "2024-08-21T12:16:17.658Z"
   },
   {
    "duration": 14,
    "start_time": "2024-08-21T12:16:32.039Z"
   },
   {
    "duration": 1081,
    "start_time": "2024-08-21T12:30:14.618Z"
   },
   {
    "duration": 13,
    "start_time": "2024-08-21T12:30:35.269Z"
   },
   {
    "duration": 279,
    "start_time": "2024-08-21T12:30:51.636Z"
   },
   {
    "duration": 3,
    "start_time": "2024-08-21T12:33:53.368Z"
   },
   {
    "duration": 8,
    "start_time": "2024-08-21T12:34:00.655Z"
   },
   {
    "duration": 13,
    "start_time": "2024-08-21T12:34:09.715Z"
   },
   {
    "duration": 64,
    "start_time": "2024-08-21T12:34:24.594Z"
   },
   {
    "duration": 14,
    "start_time": "2024-08-21T12:34:33.872Z"
   },
   {
    "duration": 23,
    "start_time": "2024-08-21T12:37:52.899Z"
   },
   {
    "duration": 3,
    "start_time": "2024-08-21T12:40:16.681Z"
   },
   {
    "duration": 29,
    "start_time": "2024-08-21T12:40:53.046Z"
   },
   {
    "duration": 1014,
    "start_time": "2024-08-21T12:43:27.507Z"
   },
   {
    "duration": 50,
    "start_time": "2024-08-21T12:43:48.201Z"
   },
   {
    "duration": 28,
    "start_time": "2024-08-21T12:43:59.807Z"
   },
   {
    "duration": 32,
    "start_time": "2024-08-21T12:44:13.363Z"
   },
   {
    "duration": 38,
    "start_time": "2024-08-21T12:44:40.667Z"
   },
   {
    "duration": 31,
    "start_time": "2024-08-21T12:44:46.502Z"
   },
   {
    "duration": 34,
    "start_time": "2024-08-21T12:44:57.823Z"
   },
   {
    "duration": 32,
    "start_time": "2024-08-21T12:45:07.511Z"
   },
   {
    "duration": 31,
    "start_time": "2024-08-21T12:45:20.066Z"
   },
   {
    "duration": 37,
    "start_time": "2024-08-21T12:47:00.853Z"
   },
   {
    "duration": 33,
    "start_time": "2024-08-21T12:48:26.017Z"
   },
   {
    "duration": 42,
    "start_time": "2024-08-21T13:04:08.298Z"
   },
   {
    "duration": 15,
    "start_time": "2024-08-21T13:04:20.473Z"
   },
   {
    "duration": 16,
    "start_time": "2024-08-21T13:05:29.430Z"
   },
   {
    "duration": 16,
    "start_time": "2024-08-21T13:06:22.539Z"
   },
   {
    "duration": 17,
    "start_time": "2024-08-21T13:06:24.753Z"
   },
   {
    "duration": 15,
    "start_time": "2024-08-21T13:06:26.760Z"
   },
   {
    "duration": 7,
    "start_time": "2024-08-21T13:31:20.632Z"
   },
   {
    "duration": 2573,
    "start_time": "2024-08-21T13:31:28.796Z"
   },
   {
    "duration": 1118,
    "start_time": "2024-08-21T13:31:31.371Z"
   },
   {
    "duration": 2,
    "start_time": "2024-08-21T13:31:32.491Z"
   },
   {
    "duration": 26,
    "start_time": "2024-08-21T13:31:32.495Z"
   },
   {
    "duration": 106,
    "start_time": "2024-08-21T13:31:32.522Z"
   },
   {
    "duration": 4,
    "start_time": "2024-08-21T13:31:32.630Z"
   },
   {
    "duration": 792,
    "start_time": "2024-08-21T13:31:32.636Z"
   },
   {
    "duration": 16,
    "start_time": "2024-08-21T13:31:33.430Z"
   },
   {
    "duration": 50,
    "start_time": "2024-08-21T13:31:33.448Z"
   },
   {
    "duration": 36,
    "start_time": "2024-08-21T13:31:33.501Z"
   },
   {
    "duration": 44,
    "start_time": "2024-08-21T13:31:33.538Z"
   },
   {
    "duration": 58,
    "start_time": "2024-08-21T13:31:33.583Z"
   },
   {
    "duration": 30,
    "start_time": "2024-08-21T13:31:33.643Z"
   },
   {
    "duration": 32,
    "start_time": "2024-08-21T13:31:33.674Z"
   },
   {
    "duration": 15,
    "start_time": "2024-08-21T13:31:33.708Z"
   },
   {
    "duration": 32,
    "start_time": "2024-08-21T13:31:33.724Z"
   },
   {
    "duration": 5964,
    "start_time": "2024-08-21T13:31:33.758Z"
   },
   {
    "duration": 13,
    "start_time": "2024-08-21T13:31:39.723Z"
   },
   {
    "duration": 2630,
    "start_time": "2024-08-21T13:31:39.738Z"
   },
   {
    "duration": 41,
    "start_time": "2024-08-21T13:31:42.369Z"
   },
   {
    "duration": 1780,
    "start_time": "2024-08-21T13:31:42.412Z"
   },
   {
    "duration": 347,
    "start_time": "2024-08-21T13:31:44.194Z"
   },
   {
    "duration": 6,
    "start_time": "2024-08-21T13:31:44.542Z"
   },
   {
    "duration": 15,
    "start_time": "2024-08-21T13:31:44.549Z"
   },
   {
    "duration": 32,
    "start_time": "2024-08-21T13:31:44.565Z"
   },
   {
    "duration": 99,
    "start_time": "2024-08-21T13:31:44.598Z"
   },
   {
    "duration": 0,
    "start_time": "2024-08-21T13:31:44.698Z"
   },
   {
    "duration": 0,
    "start_time": "2024-08-21T13:31:44.699Z"
   },
   {
    "duration": 0,
    "start_time": "2024-08-21T13:31:44.700Z"
   },
   {
    "duration": 0,
    "start_time": "2024-08-21T13:31:44.701Z"
   },
   {
    "duration": 0,
    "start_time": "2024-08-21T13:31:44.705Z"
   },
   {
    "duration": 0,
    "start_time": "2024-08-21T13:31:44.706Z"
   },
   {
    "duration": 5,
    "start_time": "2024-08-21T13:32:05.012Z"
   },
   {
    "duration": 4,
    "start_time": "2024-08-21T13:34:13.696Z"
   },
   {
    "duration": 5,
    "start_time": "2024-08-21T13:34:36.723Z"
   },
   {
    "duration": 14,
    "start_time": "2024-08-21T13:49:03.454Z"
   },
   {
    "duration": 19,
    "start_time": "2024-08-21T13:51:25.449Z"
   },
   {
    "duration": 20,
    "start_time": "2024-08-21T13:53:52.616Z"
   },
   {
    "duration": 14,
    "start_time": "2024-08-21T13:54:53.486Z"
   },
   {
    "duration": 2573,
    "start_time": "2024-08-21T14:02:25.286Z"
   },
   {
    "duration": 1072,
    "start_time": "2024-08-21T14:02:27.861Z"
   },
   {
    "duration": 3,
    "start_time": "2024-08-21T14:02:28.934Z"
   },
   {
    "duration": 6,
    "start_time": "2024-08-21T14:02:28.939Z"
   },
   {
    "duration": 72,
    "start_time": "2024-08-21T14:02:28.947Z"
   },
   {
    "duration": 3,
    "start_time": "2024-08-21T14:02:29.021Z"
   },
   {
    "duration": 696,
    "start_time": "2024-08-21T14:02:29.025Z"
   },
   {
    "duration": 23,
    "start_time": "2024-08-21T14:02:29.723Z"
   },
   {
    "duration": 54,
    "start_time": "2024-08-21T14:02:29.748Z"
   },
   {
    "duration": 15,
    "start_time": "2024-08-21T14:02:29.805Z"
   },
   {
    "duration": 107,
    "start_time": "2024-08-21T14:02:29.821Z"
   },
   {
    "duration": 43,
    "start_time": "2024-08-21T14:02:29.930Z"
   },
   {
    "duration": 7,
    "start_time": "2024-08-21T14:02:29.974Z"
   },
   {
    "duration": 20,
    "start_time": "2024-08-21T14:02:29.982Z"
   },
   {
    "duration": 59,
    "start_time": "2024-08-21T14:02:30.004Z"
   },
   {
    "duration": 34,
    "start_time": "2024-08-21T14:02:30.065Z"
   },
   {
    "duration": 5873,
    "start_time": "2024-08-21T14:02:30.100Z"
   },
   {
    "duration": 13,
    "start_time": "2024-08-21T14:02:35.974Z"
   },
   {
    "duration": 1996,
    "start_time": "2024-08-21T14:02:35.988Z"
   },
   {
    "duration": 41,
    "start_time": "2024-08-21T14:02:37.986Z"
   },
   {
    "duration": 1743,
    "start_time": "2024-08-21T14:02:38.029Z"
   },
   {
    "duration": 371,
    "start_time": "2024-08-21T14:02:39.773Z"
   },
   {
    "duration": 6,
    "start_time": "2024-08-21T14:02:40.146Z"
   },
   {
    "duration": 19,
    "start_time": "2024-08-21T14:02:40.153Z"
   },
   {
    "duration": 54,
    "start_time": "2024-08-21T14:02:40.173Z"
   },
   {
    "duration": 14,
    "start_time": "2024-08-21T14:02:40.228Z"
   },
   {
    "duration": 16,
    "start_time": "2024-08-21T14:02:40.243Z"
   },
   {
    "duration": 30,
    "start_time": "2024-08-21T14:02:40.262Z"
   },
   {
    "duration": 51,
    "start_time": "2024-08-21T14:02:40.294Z"
   },
   {
    "duration": 14,
    "start_time": "2024-08-21T14:02:40.347Z"
   },
   {
    "duration": 54,
    "start_time": "2024-08-21T14:02:40.362Z"
   },
   {
    "duration": 3354,
    "start_time": "2024-08-22T21:20:47.305Z"
   },
   {
    "duration": 1496,
    "start_time": "2024-08-22T21:20:50.662Z"
   },
   {
    "duration": 4,
    "start_time": "2024-08-22T21:20:52.159Z"
   },
   {
    "duration": 15,
    "start_time": "2024-08-22T21:20:52.165Z"
   },
   {
    "duration": 201,
    "start_time": "2024-08-22T21:20:52.182Z"
   },
   {
    "duration": 4,
    "start_time": "2024-08-22T21:20:52.385Z"
   },
   {
    "duration": 1277,
    "start_time": "2024-08-22T21:20:52.390Z"
   },
   {
    "duration": 19,
    "start_time": "2024-08-22T21:20:53.668Z"
   },
   {
    "duration": 29,
    "start_time": "2024-08-22T21:20:53.688Z"
   },
   {
    "duration": 9,
    "start_time": "2024-08-22T21:20:53.719Z"
   },
   {
    "duration": 10,
    "start_time": "2024-08-22T21:20:53.729Z"
   },
   {
    "duration": 5,
    "start_time": "2024-08-22T21:20:53.753Z"
   },
   {
    "duration": 5,
    "start_time": "2024-08-22T21:20:53.759Z"
   },
   {
    "duration": 18,
    "start_time": "2024-08-22T21:20:53.765Z"
   },
   {
    "duration": 13,
    "start_time": "2024-08-22T21:20:53.784Z"
   },
   {
    "duration": 31,
    "start_time": "2024-08-22T21:20:53.798Z"
   },
   {
    "duration": 7245,
    "start_time": "2024-08-22T21:20:53.830Z"
   },
   {
    "duration": 15,
    "start_time": "2024-08-22T21:21:01.076Z"
   },
   {
    "duration": 2212,
    "start_time": "2024-08-22T21:21:01.093Z"
   },
   {
    "duration": 48,
    "start_time": "2024-08-22T21:21:03.306Z"
   },
   {
    "duration": 2160,
    "start_time": "2024-08-22T21:21:03.355Z"
   },
   {
    "duration": 395,
    "start_time": "2024-08-22T21:21:05.517Z"
   },
   {
    "duration": 6,
    "start_time": "2024-08-22T21:21:05.914Z"
   },
   {
    "duration": 53,
    "start_time": "2024-08-22T21:21:05.922Z"
   },
   {
    "duration": 71,
    "start_time": "2024-08-22T21:21:05.977Z"
   },
   {
    "duration": 6,
    "start_time": "2024-08-22T21:21:06.050Z"
   },
   {
    "duration": 25,
    "start_time": "2024-08-22T21:21:06.057Z"
   },
   {
    "duration": 24,
    "start_time": "2024-08-22T21:21:06.085Z"
   },
   {
    "duration": 19,
    "start_time": "2024-08-22T21:21:06.110Z"
   },
   {
    "duration": 30,
    "start_time": "2024-08-22T21:21:06.131Z"
   },
   {
    "duration": 18,
    "start_time": "2024-08-22T21:21:06.162Z"
   },
   {
    "duration": 2360,
    "start_time": "2024-08-22T21:22:46.497Z"
   },
   {
    "duration": 1173,
    "start_time": "2024-08-22T21:22:48.860Z"
   },
   {
    "duration": 3,
    "start_time": "2024-08-22T21:22:50.034Z"
   },
   {
    "duration": 6,
    "start_time": "2024-08-22T21:22:50.039Z"
   },
   {
    "duration": 72,
    "start_time": "2024-08-22T21:22:50.046Z"
   },
   {
    "duration": 4,
    "start_time": "2024-08-22T21:22:50.119Z"
   },
   {
    "duration": 805,
    "start_time": "2024-08-22T21:22:50.124Z"
   },
   {
    "duration": 25,
    "start_time": "2024-08-22T21:22:50.931Z"
   },
   {
    "duration": 45,
    "start_time": "2024-08-22T21:22:50.957Z"
   },
   {
    "duration": 41,
    "start_time": "2024-08-22T21:22:51.004Z"
   },
   {
    "duration": 15,
    "start_time": "2024-08-22T21:22:51.047Z"
   },
   {
    "duration": 40,
    "start_time": "2024-08-22T21:22:51.064Z"
   },
   {
    "duration": 25,
    "start_time": "2024-08-22T21:22:51.105Z"
   },
   {
    "duration": 17,
    "start_time": "2024-08-22T21:22:51.132Z"
   },
   {
    "duration": 9,
    "start_time": "2024-08-22T21:22:51.151Z"
   },
   {
    "duration": 25,
    "start_time": "2024-08-22T21:22:51.162Z"
   },
   {
    "duration": 28,
    "start_time": "2024-08-22T21:22:51.188Z"
   },
   {
    "duration": 6904,
    "start_time": "2024-08-22T21:22:51.217Z"
   },
   {
    "duration": 15,
    "start_time": "2024-08-22T21:22:58.123Z"
   },
   {
    "duration": 2429,
    "start_time": "2024-08-22T21:22:58.153Z"
   },
   {
    "duration": 39,
    "start_time": "2024-08-22T21:23:00.584Z"
   },
   {
    "duration": 2071,
    "start_time": "2024-08-22T21:23:00.624Z"
   },
   {
    "duration": 358,
    "start_time": "2024-08-22T21:23:02.697Z"
   },
   {
    "duration": 7,
    "start_time": "2024-08-22T21:23:03.056Z"
   },
   {
    "duration": 21,
    "start_time": "2024-08-22T21:23:03.064Z"
   },
   {
    "duration": 18,
    "start_time": "2024-08-22T21:23:03.086Z"
   },
   {
    "duration": 7,
    "start_time": "2024-08-22T21:23:03.105Z"
   },
   {
    "duration": 4,
    "start_time": "2024-08-22T21:23:03.115Z"
   },
   {
    "duration": 34,
    "start_time": "2024-08-22T21:23:03.121Z"
   },
   {
    "duration": 23,
    "start_time": "2024-08-22T21:23:03.156Z"
   },
   {
    "duration": 25,
    "start_time": "2024-08-22T21:23:03.181Z"
   },
   {
    "duration": 17,
    "start_time": "2024-08-22T21:23:03.207Z"
   },
   {
    "duration": 2064,
    "start_time": "2024-08-22T21:25:15.925Z"
   },
   {
    "duration": 110,
    "start_time": "2024-08-22T21:26:31.259Z"
   },
   {
    "duration": 2386,
    "start_time": "2024-08-22T21:26:40.722Z"
   },
   {
    "duration": 1668,
    "start_time": "2024-08-22T21:26:43.110Z"
   },
   {
    "duration": 3,
    "start_time": "2024-08-22T21:26:44.780Z"
   },
   {
    "duration": 24,
    "start_time": "2024-08-22T21:26:44.784Z"
   },
   {
    "duration": 87,
    "start_time": "2024-08-22T21:26:44.809Z"
   },
   {
    "duration": 60,
    "start_time": "2024-08-22T21:26:44.897Z"
   },
   {
    "duration": 880,
    "start_time": "2024-08-22T21:26:44.959Z"
   },
   {
    "duration": 21,
    "start_time": "2024-08-22T21:26:45.841Z"
   },
   {
    "duration": 34,
    "start_time": "2024-08-22T21:26:45.864Z"
   },
   {
    "duration": 32,
    "start_time": "2024-08-22T21:26:45.900Z"
   },
   {
    "duration": 25,
    "start_time": "2024-08-22T21:26:45.934Z"
   },
   {
    "duration": 108,
    "start_time": "2024-08-22T21:26:45.960Z"
   },
   {
    "duration": 2354,
    "start_time": "2024-08-22T21:26:46.069Z"
   },
   {
    "duration": 112,
    "start_time": "2024-08-22T21:26:48.425Z"
   },
   {
    "duration": 0,
    "start_time": "2024-08-22T21:26:48.539Z"
   },
   {
    "duration": 0,
    "start_time": "2024-08-22T21:26:48.540Z"
   },
   {
    "duration": 0,
    "start_time": "2024-08-22T21:26:48.541Z"
   },
   {
    "duration": 0,
    "start_time": "2024-08-22T21:26:48.542Z"
   },
   {
    "duration": 0,
    "start_time": "2024-08-22T21:26:48.543Z"
   },
   {
    "duration": 0,
    "start_time": "2024-08-22T21:26:48.543Z"
   },
   {
    "duration": 0,
    "start_time": "2024-08-22T21:26:48.544Z"
   },
   {
    "duration": 0,
    "start_time": "2024-08-22T21:26:48.545Z"
   },
   {
    "duration": 0,
    "start_time": "2024-08-22T21:26:48.552Z"
   },
   {
    "duration": 0,
    "start_time": "2024-08-22T21:26:48.554Z"
   },
   {
    "duration": 0,
    "start_time": "2024-08-22T21:26:48.555Z"
   },
   {
    "duration": 0,
    "start_time": "2024-08-22T21:26:48.556Z"
   },
   {
    "duration": 0,
    "start_time": "2024-08-22T21:26:48.557Z"
   },
   {
    "duration": 0,
    "start_time": "2024-08-22T21:26:48.558Z"
   },
   {
    "duration": 0,
    "start_time": "2024-08-22T21:26:48.559Z"
   },
   {
    "duration": 0,
    "start_time": "2024-08-22T21:26:48.560Z"
   },
   {
    "duration": 0,
    "start_time": "2024-08-22T21:26:48.561Z"
   },
   {
    "duration": 0,
    "start_time": "2024-08-22T21:26:48.562Z"
   },
   {
    "duration": 0,
    "start_time": "2024-08-22T21:26:48.563Z"
   },
   {
    "duration": 0,
    "start_time": "2024-08-22T21:26:48.563Z"
   },
   {
    "duration": 397,
    "start_time": "2024-08-22T21:27:30.026Z"
   },
   {
    "duration": 374,
    "start_time": "2024-08-22T21:27:33.244Z"
   },
   {
    "duration": 2284,
    "start_time": "2024-08-22T21:28:08.669Z"
   },
   {
    "duration": 362,
    "start_time": "2024-08-22T21:28:10.954Z"
   },
   {
    "duration": 2370,
    "start_time": "2024-08-22T21:28:14.430Z"
   },
   {
    "duration": 1116,
    "start_time": "2024-08-22T21:28:16.802Z"
   },
   {
    "duration": 2,
    "start_time": "2024-08-22T21:28:17.920Z"
   },
   {
    "duration": 8,
    "start_time": "2024-08-22T21:28:17.924Z"
   },
   {
    "duration": 69,
    "start_time": "2024-08-22T21:28:17.934Z"
   },
   {
    "duration": 3,
    "start_time": "2024-08-22T21:28:18.005Z"
   },
   {
    "duration": 1481,
    "start_time": "2024-08-22T21:28:18.010Z"
   },
   {
    "duration": 18,
    "start_time": "2024-08-22T21:28:19.492Z"
   },
   {
    "duration": 17,
    "start_time": "2024-08-22T21:28:19.511Z"
   },
   {
    "duration": 32,
    "start_time": "2024-08-22T21:28:19.530Z"
   },
   {
    "duration": 19,
    "start_time": "2024-08-22T21:28:19.563Z"
   },
   {
    "duration": 17,
    "start_time": "2024-08-22T21:28:19.583Z"
   },
   {
    "duration": 2285,
    "start_time": "2024-08-22T21:28:19.602Z"
   },
   {
    "duration": 343,
    "start_time": "2024-08-22T21:28:21.889Z"
   },
   {
    "duration": 389,
    "start_time": "2024-08-22T21:28:22.233Z"
   },
   {
    "duration": 10,
    "start_time": "2024-08-22T21:28:22.624Z"
   },
   {
    "duration": 4,
    "start_time": "2024-08-22T21:28:22.635Z"
   },
   {
    "duration": 4,
    "start_time": "2024-08-22T21:28:22.653Z"
   },
   {
    "duration": 21,
    "start_time": "2024-08-22T21:28:22.658Z"
   },
   {
    "duration": 7087,
    "start_time": "2024-08-22T21:28:22.681Z"
   },
   {
    "duration": 13,
    "start_time": "2024-08-22T21:28:29.770Z"
   },
   {
    "duration": 2154,
    "start_time": "2024-08-22T21:28:29.784Z"
   },
   {
    "duration": 433,
    "start_time": "2024-08-22T21:28:31.939Z"
   },
   {
    "duration": 2028,
    "start_time": "2024-08-22T21:28:32.373Z"
   },
   {
    "duration": 368,
    "start_time": "2024-08-22T21:28:34.403Z"
   },
   {
    "duration": 6,
    "start_time": "2024-08-22T21:28:34.773Z"
   },
   {
    "duration": 17,
    "start_time": "2024-08-22T21:28:34.780Z"
   },
   {
    "duration": 11,
    "start_time": "2024-08-22T21:28:34.801Z"
   },
   {
    "duration": 7,
    "start_time": "2024-08-22T21:28:34.814Z"
   },
   {
    "duration": 17,
    "start_time": "2024-08-22T21:28:34.822Z"
   },
   {
    "duration": 27,
    "start_time": "2024-08-22T21:28:34.840Z"
   },
   {
    "duration": 20,
    "start_time": "2024-08-22T21:28:34.868Z"
   },
   {
    "duration": 16,
    "start_time": "2024-08-22T21:28:34.889Z"
   },
   {
    "duration": 15,
    "start_time": "2024-08-22T21:28:34.907Z"
   },
   {
    "duration": 2177,
    "start_time": "2024-08-22T21:36:06.155Z"
   },
   {
    "duration": 385,
    "start_time": "2024-08-22T21:41:19.925Z"
   },
   {
    "duration": 18,
    "start_time": "2024-08-22T21:41:46.968Z"
   },
   {
    "duration": 19,
    "start_time": "2024-08-22T21:43:10.567Z"
   },
   {
    "duration": 115,
    "start_time": "2024-08-22T22:00:17.109Z"
   },
   {
    "duration": 99,
    "start_time": "2024-08-22T22:01:08.629Z"
   },
   {
    "duration": 87,
    "start_time": "2024-08-22T22:01:22.219Z"
   },
   {
    "duration": 210,
    "start_time": "2024-08-22T22:02:14.441Z"
   },
   {
    "duration": 6,
    "start_time": "2024-08-22T22:40:37.464Z"
   },
   {
    "duration": 87,
    "start_time": "2024-08-22T22:40:50.593Z"
   },
   {
    "duration": 4,
    "start_time": "2024-08-22T22:46:29.490Z"
   },
   {
    "duration": 6,
    "start_time": "2024-08-22T22:47:25.212Z"
   },
   {
    "duration": 5,
    "start_time": "2024-08-22T22:47:40.685Z"
   },
   {
    "duration": 5,
    "start_time": "2024-08-22T22:47:51.162Z"
   },
   {
    "duration": 2260,
    "start_time": "2024-08-22T22:51:14.792Z"
   },
   {
    "duration": 1148,
    "start_time": "2024-08-22T22:51:17.054Z"
   },
   {
    "duration": 3,
    "start_time": "2024-08-22T22:51:18.203Z"
   },
   {
    "duration": 10,
    "start_time": "2024-08-22T22:51:18.207Z"
   },
   {
    "duration": 69,
    "start_time": "2024-08-22T22:51:18.218Z"
   },
   {
    "duration": 4,
    "start_time": "2024-08-22T22:51:18.289Z"
   },
   {
    "duration": 774,
    "start_time": "2024-08-22T22:51:18.295Z"
   },
   {
    "duration": 18,
    "start_time": "2024-08-22T22:51:19.070Z"
   },
   {
    "duration": 15,
    "start_time": "2024-08-22T22:51:19.090Z"
   },
   {
    "duration": 20,
    "start_time": "2024-08-22T22:51:19.107Z"
   },
   {
    "duration": 42,
    "start_time": "2024-08-22T22:51:19.128Z"
   },
   {
    "duration": 19,
    "start_time": "2024-08-22T22:51:19.172Z"
   },
   {
    "duration": 2234,
    "start_time": "2024-08-22T22:51:19.193Z"
   },
   {
    "duration": 383,
    "start_time": "2024-08-22T22:51:21.429Z"
   },
   {
    "duration": 11,
    "start_time": "2024-08-22T22:51:21.813Z"
   },
   {
    "duration": 380,
    "start_time": "2024-08-22T22:51:21.825Z"
   },
   {
    "duration": 4,
    "start_time": "2024-08-22T22:51:22.206Z"
   },
   {
    "duration": 5,
    "start_time": "2024-08-22T22:51:22.211Z"
   },
   {
    "duration": 37,
    "start_time": "2024-08-22T22:51:22.217Z"
   },
   {
    "duration": 6779,
    "start_time": "2024-08-22T22:51:22.255Z"
   },
   {
    "duration": 20,
    "start_time": "2024-08-22T22:51:29.036Z"
   },
   {
    "duration": 2128,
    "start_time": "2024-08-22T22:51:29.057Z"
   },
   {
    "duration": 442,
    "start_time": "2024-08-22T22:51:31.186Z"
   },
   {
    "duration": 1970,
    "start_time": "2024-08-22T22:51:31.629Z"
   },
   {
    "duration": 368,
    "start_time": "2024-08-22T22:51:33.601Z"
   },
   {
    "duration": 5,
    "start_time": "2024-08-22T22:51:33.971Z"
   },
   {
    "duration": 5,
    "start_time": "2024-08-22T22:51:33.978Z"
   },
   {
    "duration": 114,
    "start_time": "2024-08-22T22:51:33.986Z"
   },
   {
    "duration": 12,
    "start_time": "2024-08-22T22:51:34.101Z"
   },
   {
    "duration": 4,
    "start_time": "2024-08-22T22:51:34.115Z"
   },
   {
    "duration": 107,
    "start_time": "2024-08-22T22:51:34.121Z"
   },
   {
    "duration": 8,
    "start_time": "2024-08-22T22:51:34.229Z"
   },
   {
    "duration": 5,
    "start_time": "2024-08-22T22:51:34.253Z"
   },
   {
    "duration": 7,
    "start_time": "2024-08-22T22:51:34.260Z"
   },
   {
    "duration": 25,
    "start_time": "2024-08-22T22:51:34.268Z"
   },
   {
    "duration": 29,
    "start_time": "2024-08-22T22:51:34.294Z"
   },
   {
    "duration": 38,
    "start_time": "2024-08-22T22:51:34.325Z"
   },
   {
    "duration": 31,
    "start_time": "2024-08-22T22:51:34.365Z"
   }
  ],
  "kernelspec": {
   "display_name": "Python 3 (ipykernel)",
   "language": "python",
   "name": "python3"
  },
  "language_info": {
   "codemirror_mode": {
    "name": "ipython",
    "version": 3
   },
   "file_extension": ".py",
   "mimetype": "text/x-python",
   "name": "python",
   "nbconvert_exporter": "python",
   "pygments_lexer": "ipython3",
   "version": "3.11.5"
  },
  "toc": {
   "base_numbering": 1,
   "nav_menu": {},
   "number_sections": true,
   "sideBar": true,
   "skip_h1_title": true,
   "title_cell": "Анализ оттока клиентов банка",
   "title_sidebar": "Contents",
   "toc_cell": true,
   "toc_position": {
    "height": "calc(100% - 180px)",
    "left": "10px",
    "top": "150px",
    "width": "382.391px"
   },
   "toc_section_display": true,
   "toc_window_display": true
  }
 },
 "nbformat": 4,
 "nbformat_minor": 2
}
