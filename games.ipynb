{
 "cells": [
  {
   "cell_type": "markdown",
   "metadata": {
    "toc": true
   },
   "source": [
    "<h1>Успешность и популярность компьютерных игр: определяющие факторы<span class=\"tocSkip\"></span></h1>\n",
    "<div class=\"toc\"><ul class=\"toc-item\"><li><span><a href=\"#Шаг-1.-Загрузка-данных.\" data-toc-modified-id=\"Шаг-1.-Загрузка-данных.-1\">Шаг 1. Загрузка данных.</a></span></li><li><span><a href=\"#Шаг-2.-Предообработка-данных.\" data-toc-modified-id=\"Шаг-2.-Предообработка-данных.-2\">Шаг 2. Предообработка данных.</a></span></li><li><span><a href=\"#Шаг-3.-Исследовательский-анализ-данных.\" data-toc-modified-id=\"Шаг-3.-Исследовательский-анализ-данных.-3\">Шаг 3. Исследовательский анализ данных.</a></span></li><li><span><a href=\"#Шаг-4.-Портрет-пользователя-каждого-региона.\" data-toc-modified-id=\"Шаг-4.-Портрет-пользователя-каждого-региона.-4\">Шаг 4. Портрет пользователя каждого региона.</a></span></li><li><span><a href=\"#Шаг-5.-Проверка-гипотез.\" data-toc-modified-id=\"Шаг-5.-Проверка-гипотез.-5\">Шаг 5. Проверка гипотез.</a></span></li><li><span><a href=\"#Выводы.\" data-toc-modified-id=\"Выводы.-6\">Выводы.</a></span></li></ul></div>"
   ]
  },
  {
   "cell_type": "markdown",
   "metadata": {},
   "source": [
    "**Исследование проведено на основе данных ,из открытых источников о дате выхода, оценках пользователей, жанре и платформе компьютерных игр. Предоставленные данные датируются вплоть до 2016 года.**\n",
    "\n",
    "**Цель исследования: определить факторы влияющие на успешность игры, для планирования рекламной компании и закупок.**"
   ]
  },
  {
   "cell_type": "markdown",
   "metadata": {},
   "source": [
    "## Шаг 1. Загрузка данных."
   ]
  },
  {
   "cell_type": "code",
   "execution_count": 1,
   "metadata": {},
   "outputs": [],
   "source": [
    "import pandas as pd\n",
    "import numpy as np\n",
    "import seaborn as sns\n",
    "import matplotlib.pyplot as plt\n",
    "from scipy import stats as st\n",
    "import statistics"
   ]
  },
  {
   "cell_type": "code",
   "execution_count": 2,
   "metadata": {},
   "outputs": [],
   "source": [
    "gm = pd.read_csv('/datasets/games.csv')"
   ]
  },
  {
   "cell_type": "code",
   "execution_count": 3,
   "metadata": {},
   "outputs": [
    {
     "name": "stdout",
     "output_type": "stream",
     "text": [
      "<class 'pandas.core.frame.DataFrame'>\n",
      "RangeIndex: 16715 entries, 0 to 16714\n",
      "Data columns (total 11 columns):\n",
      " #   Column           Non-Null Count  Dtype  \n",
      "---  ------           --------------  -----  \n",
      " 0   Name             16713 non-null  object \n",
      " 1   Platform         16715 non-null  object \n",
      " 2   Year_of_Release  16446 non-null  float64\n",
      " 3   Genre            16713 non-null  object \n",
      " 4   NA_sales         16715 non-null  float64\n",
      " 5   EU_sales         16715 non-null  float64\n",
      " 6   JP_sales         16715 non-null  float64\n",
      " 7   Other_sales      16715 non-null  float64\n",
      " 8   Critic_Score     8137 non-null   float64\n",
      " 9   User_Score       10014 non-null  object \n",
      " 10  Rating           9949 non-null   object \n",
      "dtypes: float64(6), object(5)\n",
      "memory usage: 1.4+ MB\n",
      "None\n"
     ]
    },
    {
     "data": {
      "text/html": [
       "<div>\n",
       "<style scoped>\n",
       "    .dataframe tbody tr th:only-of-type {\n",
       "        vertical-align: middle;\n",
       "    }\n",
       "\n",
       "    .dataframe tbody tr th {\n",
       "        vertical-align: top;\n",
       "    }\n",
       "\n",
       "    .dataframe thead th {\n",
       "        text-align: right;\n",
       "    }\n",
       "</style>\n",
       "<table border=\"1\" class=\"dataframe\">\n",
       "  <thead>\n",
       "    <tr style=\"text-align: right;\">\n",
       "      <th></th>\n",
       "      <th>Name</th>\n",
       "      <th>Platform</th>\n",
       "      <th>Year_of_Release</th>\n",
       "      <th>Genre</th>\n",
       "      <th>NA_sales</th>\n",
       "      <th>EU_sales</th>\n",
       "      <th>JP_sales</th>\n",
       "      <th>Other_sales</th>\n",
       "      <th>Critic_Score</th>\n",
       "      <th>User_Score</th>\n",
       "      <th>Rating</th>\n",
       "    </tr>\n",
       "  </thead>\n",
       "  <tbody>\n",
       "    <tr>\n",
       "      <th>10678</th>\n",
       "      <td>NHL 2K6</td>\n",
       "      <td>X360</td>\n",
       "      <td>2005.0</td>\n",
       "      <td>Sports</td>\n",
       "      <td>0.09</td>\n",
       "      <td>0.00</td>\n",
       "      <td>0.00</td>\n",
       "      <td>0.01</td>\n",
       "      <td>75.0</td>\n",
       "      <td>6.1</td>\n",
       "      <td>E10+</td>\n",
       "    </tr>\n",
       "    <tr>\n",
       "      <th>15911</th>\n",
       "      <td>Psychedelica of the Black Butterfly</td>\n",
       "      <td>PSV</td>\n",
       "      <td>2015.0</td>\n",
       "      <td>Action</td>\n",
       "      <td>0.00</td>\n",
       "      <td>0.00</td>\n",
       "      <td>0.02</td>\n",
       "      <td>0.00</td>\n",
       "      <td>NaN</td>\n",
       "      <td>NaN</td>\n",
       "      <td>NaN</td>\n",
       "    </tr>\n",
       "    <tr>\n",
       "      <th>13802</th>\n",
       "      <td>PD Ultraman Battle Collection 64</td>\n",
       "      <td>N64</td>\n",
       "      <td>1999.0</td>\n",
       "      <td>Strategy</td>\n",
       "      <td>0.00</td>\n",
       "      <td>0.00</td>\n",
       "      <td>0.04</td>\n",
       "      <td>0.00</td>\n",
       "      <td>NaN</td>\n",
       "      <td>NaN</td>\n",
       "      <td>NaN</td>\n",
       "    </tr>\n",
       "    <tr>\n",
       "      <th>5007</th>\n",
       "      <td>Risk: Global Domination</td>\n",
       "      <td>PS2</td>\n",
       "      <td>2003.0</td>\n",
       "      <td>Strategy</td>\n",
       "      <td>0.19</td>\n",
       "      <td>0.15</td>\n",
       "      <td>0.00</td>\n",
       "      <td>0.05</td>\n",
       "      <td>60.0</td>\n",
       "      <td>8.8</td>\n",
       "      <td>T</td>\n",
       "    </tr>\n",
       "    <tr>\n",
       "      <th>9214</th>\n",
       "      <td>Super Puzzle Fighter II Turbo</td>\n",
       "      <td>PS</td>\n",
       "      <td>1996.0</td>\n",
       "      <td>Puzzle</td>\n",
       "      <td>0.08</td>\n",
       "      <td>0.05</td>\n",
       "      <td>0.00</td>\n",
       "      <td>0.01</td>\n",
       "      <td>83.0</td>\n",
       "      <td>7.4</td>\n",
       "      <td>E</td>\n",
       "    </tr>\n",
       "    <tr>\n",
       "      <th>3769</th>\n",
       "      <td>The LEGO Movie Videogame</td>\n",
       "      <td>XOne</td>\n",
       "      <td>2014.0</td>\n",
       "      <td>Action</td>\n",
       "      <td>0.35</td>\n",
       "      <td>0.13</td>\n",
       "      <td>0.00</td>\n",
       "      <td>0.05</td>\n",
       "      <td>69.0</td>\n",
       "      <td>6.9</td>\n",
       "      <td>E10+</td>\n",
       "    </tr>\n",
       "    <tr>\n",
       "      <th>2967</th>\n",
       "      <td>Shark Tale</td>\n",
       "      <td>GBA</td>\n",
       "      <td>2004.0</td>\n",
       "      <td>Action</td>\n",
       "      <td>0.49</td>\n",
       "      <td>0.18</td>\n",
       "      <td>0.00</td>\n",
       "      <td>0.01</td>\n",
       "      <td>63.0</td>\n",
       "      <td>9</td>\n",
       "      <td>E</td>\n",
       "    </tr>\n",
       "    <tr>\n",
       "      <th>9453</th>\n",
       "      <td>Eternal Poison (JP sales)</td>\n",
       "      <td>PS2</td>\n",
       "      <td>2008.0</td>\n",
       "      <td>Role-Playing</td>\n",
       "      <td>0.00</td>\n",
       "      <td>0.00</td>\n",
       "      <td>0.13</td>\n",
       "      <td>0.00</td>\n",
       "      <td>NaN</td>\n",
       "      <td>NaN</td>\n",
       "      <td>NaN</td>\n",
       "    </tr>\n",
       "    <tr>\n",
       "      <th>8142</th>\n",
       "      <td>Cabela's Dangerous Hunts 2009</td>\n",
       "      <td>PS2</td>\n",
       "      <td>2008.0</td>\n",
       "      <td>Sports</td>\n",
       "      <td>0.09</td>\n",
       "      <td>0.07</td>\n",
       "      <td>0.00</td>\n",
       "      <td>0.02</td>\n",
       "      <td>NaN</td>\n",
       "      <td>9.2</td>\n",
       "      <td>T</td>\n",
       "    </tr>\n",
       "    <tr>\n",
       "      <th>14049</th>\n",
       "      <td>Music Maker: Rockstar</td>\n",
       "      <td>PS2</td>\n",
       "      <td>2009.0</td>\n",
       "      <td>Misc</td>\n",
       "      <td>0.02</td>\n",
       "      <td>0.01</td>\n",
       "      <td>0.00</td>\n",
       "      <td>0.00</td>\n",
       "      <td>NaN</td>\n",
       "      <td>NaN</td>\n",
       "      <td>NaN</td>\n",
       "    </tr>\n",
       "  </tbody>\n",
       "</table>\n",
       "</div>"
      ],
      "text/plain": [
       "                                      Name Platform  Year_of_Release  \\\n",
       "10678                              NHL 2K6     X360           2005.0   \n",
       "15911  Psychedelica of the Black Butterfly      PSV           2015.0   \n",
       "13802     PD Ultraman Battle Collection 64      N64           1999.0   \n",
       "5007               Risk: Global Domination      PS2           2003.0   \n",
       "9214         Super Puzzle Fighter II Turbo       PS           1996.0   \n",
       "3769              The LEGO Movie Videogame     XOne           2014.0   \n",
       "2967                            Shark Tale      GBA           2004.0   \n",
       "9453             Eternal Poison (JP sales)      PS2           2008.0   \n",
       "8142         Cabela's Dangerous Hunts 2009      PS2           2008.0   \n",
       "14049                Music Maker: Rockstar      PS2           2009.0   \n",
       "\n",
       "              Genre  NA_sales  EU_sales  JP_sales  Other_sales  Critic_Score  \\\n",
       "10678        Sports      0.09      0.00      0.00         0.01          75.0   \n",
       "15911        Action      0.00      0.00      0.02         0.00           NaN   \n",
       "13802      Strategy      0.00      0.00      0.04         0.00           NaN   \n",
       "5007       Strategy      0.19      0.15      0.00         0.05          60.0   \n",
       "9214         Puzzle      0.08      0.05      0.00         0.01          83.0   \n",
       "3769         Action      0.35      0.13      0.00         0.05          69.0   \n",
       "2967         Action      0.49      0.18      0.00         0.01          63.0   \n",
       "9453   Role-Playing      0.00      0.00      0.13         0.00           NaN   \n",
       "8142         Sports      0.09      0.07      0.00         0.02           NaN   \n",
       "14049          Misc      0.02      0.01      0.00         0.00           NaN   \n",
       "\n",
       "      User_Score Rating  \n",
       "10678        6.1   E10+  \n",
       "15911        NaN    NaN  \n",
       "13802        NaN    NaN  \n",
       "5007         8.8      T  \n",
       "9214         7.4      E  \n",
       "3769         6.9   E10+  \n",
       "2967           9      E  \n",
       "9453         NaN    NaN  \n",
       "8142         9.2      T  \n",
       "14049        NaN    NaN  "
      ]
     },
     "execution_count": 3,
     "metadata": {},
     "output_type": "execute_result"
    }
   ],
   "source": [
    "print(gm.info())\n",
    "gm.sample(10)"
   ]
  },
  {
   "cell_type": "markdown",
   "metadata": {},
   "source": [
    "**В данном датафрейме содержится 16715 строк и 11 колонок.Типы данных float64 и object, год релиза и рейтинг критиков необходимо привести к целочисленному типу.**"
   ]
  },
  {
   "cell_type": "markdown",
   "metadata": {},
   "source": [
    "## Шаг 2. Предообработка данных."
   ]
  },
  {
   "cell_type": "markdown",
   "metadata": {},
   "source": [
    "Изменим названия колонок, приведя их к нижнему регистру, для удобства работы с данными."
   ]
  },
  {
   "cell_type": "code",
   "execution_count": 4,
   "metadata": {},
   "outputs": [
    {
     "data": {
      "text/plain": [
       "Index(['name', 'platform', 'year_of_release', 'genre', 'na_sales', 'eu_sales',\n",
       "       'jp_sales', 'other_sales', 'critic_score', 'user_score', 'rating'],\n",
       "      dtype='object')"
      ]
     },
     "execution_count": 4,
     "metadata": {},
     "output_type": "execute_result"
    }
   ],
   "source": [
    "gm.columns = gm.columns.str.lower()\n",
    "gm.columns"
   ]
  },
  {
   "cell_type": "markdown",
   "metadata": {},
   "source": [
    "Изменим тип данных в стобце user_score на float. Для этого заменим значение \"tbd\" (to be determined) на NaN. \n",
    "Также изменим известные значения в столбце с годом релиза на целочисленный, для улучшения восприятия."
   ]
  },
  {
   "cell_type": "code",
   "execution_count": 5,
   "metadata": {},
   "outputs": [],
   "source": [
    "gm['user_score'] = gm['user_score'].replace('tbd', np.nan)\n",
    "gm['user_score'] = gm['user_score'].astype('float')"
   ]
  },
  {
   "cell_type": "code",
   "execution_count": 6,
   "metadata": {},
   "outputs": [],
   "source": [
    "gm['year_of_release'] = pd.array(gm['year_of_release'], dtype = pd.Int64Dtype())"
   ]
  },
  {
   "cell_type": "markdown",
   "metadata": {},
   "source": [
    "Обработаем пропуски. Для начала построим график, чтобы визуально оценить объем и распределение пропусков."
   ]
  },
  {
   "cell_type": "code",
   "execution_count": 7,
   "metadata": {},
   "outputs": [
    {
     "data": {
      "text/plain": [
       "<AxesSubplot:>"
      ]
     },
     "execution_count": 7,
     "metadata": {},
     "output_type": "execute_result"
    },
    {
     "data": {
      "image/png": "[encoded data removed]",
      "text/plain": [
       "<Figure size 720x504 with 2 Axes>"
      ]
     },
     "metadata": {
      "needs_background": "light"
     },
     "output_type": "display_data"
    }
   ],
   "source": [
    "fig, ax = plt.subplots(figsize=(10, 7))\n",
    "sns.heatmap(gm.isnull())"
   ]
  },
  {
   "cell_type": "markdown",
   "metadata": {},
   "source": [
    "На графике видно, что больше всего пропусков в последних трех колонках, а именно: critic_score, user_score, rating. Оставим эти столбцы как есть."
   ]
  },
  {
   "cell_type": "code",
   "execution_count": 8,
   "metadata": {},
   "outputs": [
    {
     "name": "stdout",
     "output_type": "stream",
     "text": [
      "0\n",
      "name                  2\n",
      "platform              0\n",
      "year_of_release     269\n",
      "genre                 2\n",
      "na_sales              0\n",
      "eu_sales              0\n",
      "jp_sales              0\n",
      "other_sales           0\n",
      "critic_score       8578\n",
      "user_score         9125\n",
      "rating             6766\n",
      "dtype: int64\n"
     ]
    },
    {
     "data": {
      "text/html": [
       "<div>\n",
       "<style scoped>\n",
       "    .dataframe tbody tr th:only-of-type {\n",
       "        vertical-align: middle;\n",
       "    }\n",
       "\n",
       "    .dataframe tbody tr th {\n",
       "        vertical-align: top;\n",
       "    }\n",
       "\n",
       "    .dataframe thead th {\n",
       "        text-align: right;\n",
       "    }\n",
       "</style>\n",
       "<table border=\"1\" class=\"dataframe\">\n",
       "  <thead>\n",
       "    <tr style=\"text-align: right;\">\n",
       "      <th></th>\n",
       "      <th>name</th>\n",
       "      <th>platform</th>\n",
       "      <th>year_of_release</th>\n",
       "      <th>genre</th>\n",
       "      <th>na_sales</th>\n",
       "      <th>eu_sales</th>\n",
       "      <th>jp_sales</th>\n",
       "      <th>other_sales</th>\n",
       "      <th>critic_score</th>\n",
       "      <th>user_score</th>\n",
       "      <th>rating</th>\n",
       "    </tr>\n",
       "  </thead>\n",
       "  <tbody>\n",
       "    <tr>\n",
       "      <th>659</th>\n",
       "      <td>NaN</td>\n",
       "      <td>GEN</td>\n",
       "      <td>1993</td>\n",
       "      <td>NaN</td>\n",
       "      <td>1.78</td>\n",
       "      <td>0.53</td>\n",
       "      <td>0.00</td>\n",
       "      <td>0.08</td>\n",
       "      <td>NaN</td>\n",
       "      <td>NaN</td>\n",
       "      <td>NaN</td>\n",
       "    </tr>\n",
       "    <tr>\n",
       "      <th>14244</th>\n",
       "      <td>NaN</td>\n",
       "      <td>GEN</td>\n",
       "      <td>1993</td>\n",
       "      <td>NaN</td>\n",
       "      <td>0.00</td>\n",
       "      <td>0.00</td>\n",
       "      <td>0.03</td>\n",
       "      <td>0.00</td>\n",
       "      <td>NaN</td>\n",
       "      <td>NaN</td>\n",
       "      <td>NaN</td>\n",
       "    </tr>\n",
       "  </tbody>\n",
       "</table>\n",
       "</div>"
      ],
      "text/plain": [
       "      name platform  year_of_release genre  na_sales  eu_sales  jp_sales  \\\n",
       "659    NaN      GEN             1993   NaN      1.78      0.53      0.00   \n",
       "14244  NaN      GEN             1993   NaN      0.00      0.00      0.03   \n",
       "\n",
       "       other_sales  critic_score  user_score rating  \n",
       "659           0.08           NaN         NaN    NaN  \n",
       "14244         0.00           NaN         NaN    NaN  "
      ]
     },
     "execution_count": 8,
     "metadata": {},
     "output_type": "execute_result"
    }
   ],
   "source": [
    "print(gm.duplicated().sum())\n",
    "print(gm.isnull().sum())\n",
    "gm[gm['name'].isna()]"
   ]
  },
  {
   "cell_type": "code",
   "execution_count": 9,
   "metadata": {},
   "outputs": [
    {
     "name": "stdout",
     "output_type": "stream",
     "text": [
      "                name platform  year_of_release   genre  na_sales  eu_sales  \\\n",
      "604    Madden NFL 13      PS3             2012  Sports      2.11      0.22   \n",
      "659              NaN      GEN             1993     NaN      1.78      0.53   \n",
      "14244            NaN      GEN             1993     NaN      0.00      0.00   \n",
      "16230  Madden NFL 13      PS3             2012  Sports      0.00      0.01   \n",
      "\n",
      "       jp_sales  other_sales  critic_score  user_score rating  \n",
      "604        0.00         0.23          83.0         5.5      E  \n",
      "659        0.00         0.08           NaN         NaN    NaN  \n",
      "14244      0.03         0.00           NaN         NaN    NaN  \n",
      "16230      0.00         0.00          83.0         5.5      E  \n"
     ]
    },
    {
     "data": {
      "text/plain": [
       "0"
      ]
     },
     "execution_count": 9,
     "metadata": {},
     "output_type": "execute_result"
    }
   ],
   "source": [
    "print(gm[gm.duplicated(keep=False, subset=['name','platform', 'year_of_release'])])\n",
    "gm = gm.drop_duplicates(keep='first', subset=['name','platform', 'year_of_release']).reset_index(drop=True)\n",
    "gm.duplicated(subset=['name','platform', 'year_of_release']).sum()"
   ]
  },
  {
   "cell_type": "code",
   "execution_count": 10,
   "metadata": {},
   "outputs": [
    {
     "data": {
      "image/png": "[encoded data removed]",
      "text/plain": [
       "<Figure size 576x468 with 9 Axes>"
      ]
     },
     "metadata": {
      "needs_background": "light"
     },
     "output_type": "display_data"
    }
   ],
   "source": [
    "gm[gm['year_of_release'].isna()].hist(figsize=(8, 6.5), color = \"teal\")\n",
    "plt.show()"
   ]
  },
  {
   "cell_type": "markdown",
   "metadata": {},
   "source": [
    "Были обнаружены неявные дубликаты, оставлены записи, содержащие более полную информаци. Две записи, содержащие пропуски в колонках с названием и жанром, малоинформативны. Удалим их. Пропуски в с толбце с годом оставим, несмотря на то, что это менее 1% данных, так как там содержатся данные о весьма успешных продуктах. Пропуски в этих двух столбцах могли быть вызваны сбоем. В то время как пропуски в других столбцах (critic_score, user_score, rating), скорее всего не случайны, такой информации об этих играх может не существовать. Но для дальнейшего исследования, заменим пропуски в колонке \"rating\" на \"undefined\"."
   ]
  },
  {
   "cell_type": "code",
   "execution_count": 11,
   "metadata": {},
   "outputs": [],
   "source": [
    "gm = gm.dropna(subset = ['name'])\n",
    "gm['rating'] = gm['rating'].fillna('undefined')"
   ]
  },
  {
   "cell_type": "markdown",
   "metadata": {},
   "source": [
    "Добавим в датафрейм столбец с суммой всех продаж."
   ]
  },
  {
   "cell_type": "code",
   "execution_count": 12,
   "metadata": {},
   "outputs": [
    {
     "data": {
      "text/html": [
       "<div>\n",
       "<style scoped>\n",
       "    .dataframe tbody tr th:only-of-type {\n",
       "        vertical-align: middle;\n",
       "    }\n",
       "\n",
       "    .dataframe tbody tr th {\n",
       "        vertical-align: top;\n",
       "    }\n",
       "\n",
       "    .dataframe thead th {\n",
       "        text-align: right;\n",
       "    }\n",
       "</style>\n",
       "<table border=\"1\" class=\"dataframe\">\n",
       "  <thead>\n",
       "    <tr style=\"text-align: right;\">\n",
       "      <th></th>\n",
       "      <th>name</th>\n",
       "      <th>platform</th>\n",
       "      <th>year_of_release</th>\n",
       "      <th>genre</th>\n",
       "      <th>na_sales</th>\n",
       "      <th>eu_sales</th>\n",
       "      <th>jp_sales</th>\n",
       "      <th>other_sales</th>\n",
       "      <th>critic_score</th>\n",
       "      <th>user_score</th>\n",
       "      <th>rating</th>\n",
       "      <th>sales</th>\n",
       "    </tr>\n",
       "  </thead>\n",
       "  <tbody>\n",
       "    <tr>\n",
       "      <th>0</th>\n",
       "      <td>Wii Sports</td>\n",
       "      <td>Wii</td>\n",
       "      <td>2006</td>\n",
       "      <td>Sports</td>\n",
       "      <td>41.36</td>\n",
       "      <td>28.96</td>\n",
       "      <td>3.77</td>\n",
       "      <td>8.45</td>\n",
       "      <td>76.0</td>\n",
       "      <td>8.0</td>\n",
       "      <td>E</td>\n",
       "      <td>82.54</td>\n",
       "    </tr>\n",
       "    <tr>\n",
       "      <th>1</th>\n",
       "      <td>Super Mario Bros.</td>\n",
       "      <td>NES</td>\n",
       "      <td>1985</td>\n",
       "      <td>Platform</td>\n",
       "      <td>29.08</td>\n",
       "      <td>3.58</td>\n",
       "      <td>6.81</td>\n",
       "      <td>0.77</td>\n",
       "      <td>NaN</td>\n",
       "      <td>NaN</td>\n",
       "      <td>undefined</td>\n",
       "      <td>40.24</td>\n",
       "    </tr>\n",
       "    <tr>\n",
       "      <th>2</th>\n",
       "      <td>Mario Kart Wii</td>\n",
       "      <td>Wii</td>\n",
       "      <td>2008</td>\n",
       "      <td>Racing</td>\n",
       "      <td>15.68</td>\n",
       "      <td>12.76</td>\n",
       "      <td>3.79</td>\n",
       "      <td>3.29</td>\n",
       "      <td>82.0</td>\n",
       "      <td>8.3</td>\n",
       "      <td>E</td>\n",
       "      <td>35.52</td>\n",
       "    </tr>\n",
       "    <tr>\n",
       "      <th>3</th>\n",
       "      <td>Wii Sports Resort</td>\n",
       "      <td>Wii</td>\n",
       "      <td>2009</td>\n",
       "      <td>Sports</td>\n",
       "      <td>15.61</td>\n",
       "      <td>10.93</td>\n",
       "      <td>3.28</td>\n",
       "      <td>2.95</td>\n",
       "      <td>80.0</td>\n",
       "      <td>8.0</td>\n",
       "      <td>E</td>\n",
       "      <td>32.77</td>\n",
       "    </tr>\n",
       "    <tr>\n",
       "      <th>4</th>\n",
       "      <td>Pokemon Red/Pokemon Blue</td>\n",
       "      <td>GB</td>\n",
       "      <td>1996</td>\n",
       "      <td>Role-Playing</td>\n",
       "      <td>11.27</td>\n",
       "      <td>8.89</td>\n",
       "      <td>10.22</td>\n",
       "      <td>1.00</td>\n",
       "      <td>NaN</td>\n",
       "      <td>NaN</td>\n",
       "      <td>undefined</td>\n",
       "      <td>31.38</td>\n",
       "    </tr>\n",
       "  </tbody>\n",
       "</table>\n",
       "</div>"
      ],
      "text/plain": [
       "                       name platform  year_of_release         genre  na_sales  \\\n",
       "0                Wii Sports      Wii             2006        Sports     41.36   \n",
       "1         Super Mario Bros.      NES             1985      Platform     29.08   \n",
       "2            Mario Kart Wii      Wii             2008        Racing     15.68   \n",
       "3         Wii Sports Resort      Wii             2009        Sports     15.61   \n",
       "4  Pokemon Red/Pokemon Blue       GB             1996  Role-Playing     11.27   \n",
       "\n",
       "   eu_sales  jp_sales  other_sales  critic_score  user_score     rating  sales  \n",
       "0     28.96      3.77         8.45          76.0         8.0          E  82.54  \n",
       "1      3.58      6.81         0.77           NaN         NaN  undefined  40.24  \n",
       "2     12.76      3.79         3.29          82.0         8.3          E  35.52  \n",
       "3     10.93      3.28         2.95          80.0         8.0          E  32.77  \n",
       "4      8.89     10.22         1.00           NaN         NaN  undefined  31.38  "
      ]
     },
     "execution_count": 12,
     "metadata": {},
     "output_type": "execute_result"
    }
   ],
   "source": [
    "gm['sales'] = gm['na_sales'] + gm['eu_sales'] + gm['jp_sales'] + gm['other_sales']\n",
    "gm.head()"
   ]
  },
  {
   "cell_type": "markdown",
   "metadata": {},
   "source": [
    "**В ходе предобработки данных мы привели названия столбцов к нижнему регистру, изменили типы данных, изучили пропуски и добавили новый столбец с суммой всех продаж.**"
   ]
  },
  {
   "cell_type": "markdown",
   "metadata": {},
   "source": [
    "## Шаг 3. Исследовательский анализ данных."
   ]
  },
  {
   "cell_type": "code",
   "execution_count": 13,
   "metadata": {},
   "outputs": [
    {
     "name": "stdout",
     "output_type": "stream",
     "text": [
      "count    16443.000000\n",
      "mean      2006.485921\n",
      "std          5.875546\n",
      "min       1980.000000\n",
      "25%       2003.000000\n",
      "50%       2007.000000\n",
      "75%       2010.000000\n",
      "max       2016.000000\n",
      "Name: year_of_release, dtype: float64\n"
     ]
    },
    {
     "data": {
      "image/png": "[encoded data removed]",
      "text/plain": [
       "<Figure size 720x432 with 1 Axes>"
      ]
     },
     "metadata": {
      "needs_background": "light"
     },
     "output_type": "display_data"
    }
   ],
   "source": [
    "print(gm['year_of_release'].describe())\n",
    "gmy = gm.groupby('year_of_release')['sales'].count()\n",
    "gmy.plot(kind=\"bar\", color = \"teal\", figsize=(10, 6))\n",
    "plt.xticks(rotation=70)\n",
    "plt.title('Выпуск игр по годам')\n",
    "plt.xlabel('Год')\n",
    "plt.ylabel('К-во игр')\n",
    "plt.show()"
   ]
  },
  {
   "cell_type": "markdown",
   "metadata": {},
   "source": [
    "В данных представлены игры с 1980 по 2016 год. По графику мы видим, что пик продаж игр приходится на 2008-2009 года. Также мы можем заметить, что особенно интенсивно индустрия игр стала развиваться с 1995 года, именно с этого года и можно оценивать успешность игры."
   ]
  },
  {
   "cell_type": "code",
   "execution_count": 14,
   "metadata": {},
   "outputs": [
    {
     "name": "stdout",
     "output_type": "stream",
     "text": [
      "count     16712\n",
      "unique       31\n",
      "top         PS2\n",
      "freq       2161\n",
      "Name: platform, dtype: object\n"
     ]
    },
    {
     "data": {
      "image/png": "[encoded data removed]",
      "text/plain": [
       "<Figure size 720x432 with 1 Axes>"
      ]
     },
     "metadata": {
      "needs_background": "light"
     },
     "output_type": "display_data"
    }
   ],
   "source": [
    "print(gm['platform'].describe())\n",
    "gmp = gm.groupby('platform')['sales'].count().sort_values(ascending = False)\n",
    "gmp.plot(kind=\"bar\", color = \"teal\", figsize=(10, 6))\n",
    "plt.xticks(rotation=70)\n",
    "plt.title('Выпуск игр по платформам')\n",
    "plt.xlabel('Платформа')\n",
    "plt.ylabel('К-во игр')\n",
    "plt.show()\n",
    "list_pl = gmp[:15].index"
   ]
  },
  {
   "cell_type": "code",
   "execution_count": 15,
   "metadata": {},
   "outputs": [
    {
     "data": {
      "image/png": "[encoded data removed]",
      "text/plain": [
       "<Figure size 720x360 with 1 Axes>"
      ]
     },
     "metadata": {
      "needs_background": "light"
     },
     "output_type": "display_data"
    }
   ],
   "source": [
    "gmpy = gm.pivot_table(index=['platform','year_of_release'], values = ['sales'], aggfunc = 'sum')\n",
    "gmpy = gmpy.reset_index('year_of_release')\n",
    "fig, ax = plt.subplots(figsize =(10,5))\n",
    "for platform in list_pl:\n",
    "    gmpy.loc[platform].plot('year_of_release', 'sales', ax=ax)\n",
    "ax.legend(list_pl, bbox_to_anchor=(1.02, 1))\n",
    "ax.set_xticks(np.arange(1994,2017))\n",
    "plt.xticks(rotation=70)\n",
    "plt.title('Выпуск игр на платформах по годам')\n",
    "plt.xlabel('Год')\n",
    "plt.ylabel('К-во игр')\n",
    "plt.show()"
   ]
  },
  {
   "cell_type": "markdown",
   "metadata": {},
   "source": [
    "В этом графике отображены 15 с наибольшими суммарными продажами. Иходя из этой визуализации можно сделать несколько выводов:\n",
    "- до 2005 года самыми популярными платформами были поочередно PS и PS2;\n",
    "- мыможем заметить два периода наиболее интенсивного появления новых платформ: 2000-2001 и 2004-2006;\n",
    "- всреднем наиболее продуктивным для платформы является срок 4 лет, после чего намечается спад и через 2-4 года платформа исчезает;\n",
    "- с 2004 начинается наиболлее продуктивный период для индустрии игр, платформы успешно конкурируют друг с дургом, собрая большие продажи влоть до начала 2010-х;\n",
    "\n",
    "C помощью этого графикаможно выделить период с 2010 года по настоящее время, когда намечается тенденция на спад в индустрии. Исходя из этого выделим актуальным период с 2015 года, так как именно с этого момента на рынке присутствуют все современные платформы, и наблюдается общая тендентция. К сожалению, мы не можем выделить наиболее перспективные платформы, так как продажи падают на всех платформах минимум с 2015 года. Если принимать во внимание тенденции предыдущих лет, то можно предположить, что все текущие платформы скоро исчезнут. Возможно рынок ожидает новый подъем с новыми платформами. Тем не менее,исходя из того, что на данный момент таких платформ нет, можно выделить PS4 и XOne, как наиболее продоваемые. А значит для магазина и \"Стримчик\", этиплатформы могут стать наиболее прибыльными."
   ]
  },
  {
   "cell_type": "markdown",
   "metadata": {},
   "source": [
    "Постром график «ящик с усами» по глобальным продажам игр в разбивке по платформам c 2014 года."
   ]
  },
  {
   "cell_type": "code",
   "execution_count": 16,
   "metadata": {},
   "outputs": [
    {
     "data": {
      "image/png": "[encoded data removed]",
      "text/plain": [
       "<Figure size 864x504 with 1 Axes>"
      ]
     },
     "metadata": {
      "needs_background": "light"
     },
     "output_type": "display_data"
    }
   ],
   "source": [
    "gma = gm[gm['year_of_release'] >= 2014]\n",
    "fig, ax = plt.subplots(figsize=(12, 7))\n",
    "sns.boxplot(data=gma, x='platform', y='sales')\n",
    "plt.title('Глобальные продажи игр в разбивке по платформам с 2014')\n",
    "plt.xlabel('Платформа')\n",
    "plt.ylabel('Продажи')\n",
    "plt.show()"
   ]
  },
  {
   "cell_type": "code",
   "execution_count": 17,
   "metadata": {},
   "outputs": [
    {
     "data": {
      "image/png": "[encoded data removed]",
      "text/plain": [
       "<Figure size 864x504 with 1 Axes>"
      ]
     },
     "metadata": {
      "needs_background": "light"
     },
     "output_type": "display_data"
    }
   ],
   "source": [
    "gma = gm[gm['year_of_release'] >= 2014]\n",
    "fig, ax = plt.subplots(figsize=(12, 7))\n",
    "sns.boxplot(data=gma, x='platform', y='sales')\n",
    "plt.ylim(0, 2)\n",
    "plt.title('Глобальные продажи игр в разбивке по платформам с 2014. Более детально')\n",
    "plt.xlabel('Платформа')\n",
    "plt.ylabel('Продажи')\n",
    "plt.show()"
   ]
  },
  {
   "cell_type": "code",
   "execution_count": 18,
   "metadata": {},
   "outputs": [
    {
     "data": {
      "image/png": "[encoded data removed]",
      "text/plain": [
       "<Figure size 864x504 with 1 Axes>"
      ]
     },
     "metadata": {
      "needs_background": "light"
     },
     "output_type": "display_data"
    }
   ],
   "source": [
    "gma1 = gm[gm['year_of_release'] >= 2015]\n",
    "fig, ax = plt.subplots(figsize=(12, 7))\n",
    "sns.boxplot(data=gma1, x='platform', y='sales')\n",
    "plt.ylim(0, 2)\n",
    "plt.title('Глобальные продажи игр в разбивке по платформам с 2015')\n",
    "plt.xlabel('Платформа')\n",
    "plt.ylabel('Продажи')\n",
    "plt.show()"
   ]
  },
  {
   "cell_type": "markdown",
   "metadata": {},
   "source": [
    "По этому графикам мы отчетливо видим, что 2014 и 2015 год сильно отличаются по лидерам продаж. Если в 2014 Wii - самая успешная платформа, то в 2015 она даже не в пятерке. Поэтому в планировании будем ориентироваться на период 2015-2016 года, где четыре лидера продаж: XOne, WiiU, PS4 и X360. Именно на них и нужно обратить внимание магазина. Причем если сравнить данные с предыдущем графиком, можно увидеть: что несмотря на то, что в этот период выпускалось больше всего игр на PS4, а XOne лидирует по продажам, хоть игр выпускает в два раза меньше. Так же хочется отметить, что PS4 имеет больше аномальных значений на графике, а значит выпускает больше хитов."
   ]
  },
  {
   "cell_type": "code",
   "execution_count": 19,
   "metadata": {},
   "outputs": [
    {
     "data": {
      "image/png": "[encoded data removed]",
      "text/plain": [
       "<Figure size 720x720 with 4 Axes>"
      ]
     },
     "metadata": {
      "needs_background": "light"
     },
     "output_type": "display_data"
    },
    {
     "name": "stdout",
     "output_type": "stream",
     "text": [
      "Коэффициент корреляции XOne: 0.429\n",
      "Коэффициент корреляции WiiU: 0.370\n",
      "Коэффициент корреляции PS4: 0.403\n",
      "Коэффициент корреляции X360: 0.526\n"
     ]
    }
   ],
   "source": [
    "platforms = ['XOne', 'WiiU', 'PS4', 'X360']\n",
    "g = sns.relplot(data=gma, \n",
    "            x='critic_score', \n",
    "            y='sales', \n",
    "            col='platform', \n",
    "            col_order=platforms,\n",
    "            color='teal', alpha =0.5,\n",
    "            col_wrap=2\n",
    "           ) \n",
    "g.set_axis_labels(\"Оценки критиков\", \"Продажи\")\n",
    "plt.show()\n",
    "for i, platform in enumerate(platforms):\n",
    "    platform_data = gma[gma['platform'] == platform]\n",
    "    print(f'Коэффициент корреляции {platform}: {platform_data[\"critic_score\"].corr(platform_data[\"sales\"]):.3f}')"
   ]
  },
  {
   "cell_type": "code",
   "execution_count": 20,
   "metadata": {},
   "outputs": [
    {
     "data": {
      "image/png": "[encoded data removed]",
      "text/plain": [
       "<Figure size 720x720 with 4 Axes>"
      ]
     },
     "metadata": {
      "needs_background": "light"
     },
     "output_type": "display_data"
    },
    {
     "name": "stdout",
     "output_type": "stream",
     "text": [
      "Коэффициент корреляции XOne: -0.070\n",
      "Коэффициент корреляции WiiU: 0.408\n",
      "Коэффициент корреляции PS4: -0.040\n",
      "Коэффициент корреляции X360: -0.138\n"
     ]
    }
   ],
   "source": [
    "platforms = ['XOne', 'WiiU', 'PS4', 'X360']\n",
    "g = sns.relplot(data=gma, \n",
    "            x='user_score', \n",
    "            y='sales', \n",
    "            col='platform', \n",
    "            col_order=platforms,\n",
    "            color='teal', alpha =0.5,\n",
    "            col_wrap=2\n",
    "           ) \n",
    "g.set_axis_labels(\"Оценки пользователей\", \"Продажи\")\n",
    "plt.show()\n",
    "for i, platform in enumerate(platforms):\n",
    "    platform_data = gma[gma['platform'] == platform]\n",
    "    print(f'Коэффициент корреляции {platform}: {platform_data[\"user_score\"].corr(platform_data[\"sales\"]):.3f}')"
   ]
  },
  {
   "cell_type": "markdown",
   "metadata": {},
   "source": [
    "Взаимосвязь между продажами и оценками критиков слабая, чуть сильнее в оценках платформы X360. Корреляция между продажами и оценками пользователей крайне слабая на всех платформах, кроме WiiU, где она значительно сильней остальных, но все же остается слабой. Все это позволяет сказать, что при решении о покупке оценка игры не является ключевым фактором."
   ]
  },
  {
   "cell_type": "code",
   "execution_count": 21,
   "metadata": {},
   "outputs": [
    {
     "name": "stdout",
     "output_type": "stream",
     "text": [
      "Index(['Lego Batman 3: Beyond Gotham', 'LEGO The Hobbit',\n",
      "       'The LEGO Movie Videogame', 'LEGO Jurassic World', 'FIFA 15',\n",
      "       'The Amazing Spider-Man 2 (2014)', 'Lego Star Wars: The Force Awakens',\n",
      "       'Skylanders: SuperChargers', 'LEGO Marvel's Avengers',\n",
      "       'Skylanders: Trap Team'],\n",
      "      dtype='object', name='name')\n"
     ]
    }
   ],
   "source": [
    "gmag = pd.pivot_table(data=gma, index='name', values='platform', aggfunc='count')\n",
    "gmag=gmag.sort_values(by='platform', ascending=False)\n",
    "gmag = gmag[:10].index\n",
    "print(gmag)\n",
    "#правим кавычки, чтобы опостроф не вызывал ошибки:\n",
    "gmag = ['LEGO Jurassic World', 'Lego Star Wars: The Force Awakens',\n",
    "       \"LEGO Marvel's Avengers\", 'Skylanders: SuperChargers',\n",
    "       'Rugby World Cup 2015', 'Just Dance 2016', 'Just Dance 2017',\n",
    "       'Adventure Time: Finn & Jake Investigations',\n",
    "       'Metal Gear Solid V: The Phantom Pain', 'NBA 2K16']"
   ]
  },
  {
   "cell_type": "code",
   "execution_count": 22,
   "metadata": {},
   "outputs": [
    {
     "data": {
      "image/png": "[encoded data removed]",
      "text/plain": [
       "<Figure size 576x288 with 1 Axes>"
      ]
     },
     "metadata": {
      "needs_background": "light"
     },
     "output_type": "display_data"
    },
    {
     "data": {
      "image/png": "[encoded data removed]",
      "text/plain": [
       "<Figure size 576x288 with 1 Axes>"
      ]
     },
     "metadata": {
      "needs_background": "light"
     },
     "output_type": "display_data"
    },
    {
     "data": {
      "image/png": "[encoded data removed]",
      "text/plain": [
       "<Figure size 576x288 with 1 Axes>"
      ]
     },
     "metadata": {
      "needs_background": "light"
     },
     "output_type": "display_data"
    },
    {
     "data": {
      "image/png": "[encoded data removed]",
      "text/plain": [
       "<Figure size 576x288 with 1 Axes>"
      ]
     },
     "metadata": {
      "needs_background": "light"
     },
     "output_type": "display_data"
    },
    {
     "data": {
      "image/png": "[encoded data removed]",
      "text/plain": [
       "<Figure size 576x288 with 1 Axes>"
      ]
     },
     "metadata": {
      "needs_background": "light"
     },
     "output_type": "display_data"
    },
    {
     "data": {
      "image/png": "[encoded data removed]",
      "text/plain": [
       "<Figure size 576x288 with 1 Axes>"
      ]
     },
     "metadata": {
      "needs_background": "light"
     },
     "output_type": "display_data"
    },
    {
     "data": {
      "image/png": "[encoded data removed]",
      "text/plain": [
       "<Figure size 576x288 with 1 Axes>"
      ]
     },
     "metadata": {
      "needs_background": "light"
     },
     "output_type": "display_data"
    },
    {
     "data": {
      "image/png": "[encoded data removed]",
      "text/plain": [
       "<Figure size 576x288 with 1 Axes>"
      ]
     },
     "metadata": {
      "needs_background": "light"
     },
     "output_type": "display_data"
    },
    {
     "data": {
      "image/png": "[encoded data removed]",
      "text/plain": [
       "<Figure size 576x288 with 1 Axes>"
      ]
     },
     "metadata": {
      "needs_background": "light"
     },
     "output_type": "display_data"
    },
    {
     "data": {
      "image/png": "[encoded data removed]",
      "text/plain": [
       "<Figure size 576x288 with 1 Axes>"
      ]
     },
     "metadata": {
      "needs_background": "light"
     },
     "output_type": "display_data"
    }
   ],
   "source": [
    "for game in gmag:\n",
    "    game_data = gma[gma['name'] == game]\n",
    "    plt.figure(figsize=(8,4))\n",
    "    plt.bar(game_data['platform'],game_data['sales'], color='teal')\n",
    "    plt.title(f'Продажи {game} по платформам')\n",
    "    plt.xlabel('Платформа')\n",
    "    plt.ylabel('Продажи')\n",
    "    plt.show()"
   ]
  },
  {
   "cell_type": "markdown",
   "metadata": {},
   "source": [
    "Изучив графики отображающие 10 игр, распрастраняемые сразу на нескольких платфомах, можно сделать вывод, что самые продаваемые платформы PS4, X360. XOne и WiiU. Что соответствует выводу из графика по глобальным продажам игр в разбивке по платформам. На перечисленные платформы стоит обратить внимание в первую очередь, как на самые прибыльные. Однако, некоторые игры лучше распрастраняются на других платформах, поэтому рекомендуюется поддерживать разнообразие ассортимента."
   ]
  },
  {
   "cell_type": "code",
   "execution_count": 23,
   "metadata": {},
   "outputs": [
    {
     "data": {
      "image/png": "[encoded data removed]",
      "text/plain": [
       "<Figure size 720x432 with 1 Axes>"
      ]
     },
     "metadata": {
      "needs_background": "light"
     },
     "output_type": "display_data"
    }
   ],
   "source": [
    "gma_genre = gma.groupby('genre')['sales'].count().sort_values(ascending = False)\n",
    "gma_genre.plot(kind=\"bar\", color = \"teal\", figsize=(10, 6))\n",
    "plt.xticks(rotation=70)\n",
    "plt.title('К-во игр по жанрам с 2014')\n",
    "plt.xlabel('Жанр')\n",
    "plt.ylabel('Продажи')\n",
    "plt.show()"
   ]
  },
  {
   "cell_type": "code",
   "execution_count": 24,
   "metadata": {},
   "outputs": [
    {
     "data": {
      "image/png": "[encoded data removed]",
      "text/plain": [
       "<Figure size 720x432 with 1 Axes>"
      ]
     },
     "metadata": {
      "needs_background": "light"
     },
     "output_type": "display_data"
    }
   ],
   "source": [
    "gm_genre = gm.groupby('genre')['sales'].sum().sort_values(ascending = False)\n",
    "gm_genre.plot(kind=\"bar\", color = \"teal\", figsize=(10, 6))\n",
    "plt.xticks(rotation=70)\n",
    "plt.title('Продажи игр по жанрам за все года')\n",
    "plt.xlabel('Жанр')\n",
    "plt.ylabel('Продажи')\n",
    "plt.show()"
   ]
  },
  {
   "cell_type": "code",
   "execution_count": 25,
   "metadata": {},
   "outputs": [
    {
     "data": {
      "image/png": "[encoded data removed]",
      "text/plain": [
       "<Figure size 720x432 with 1 Axes>"
      ]
     },
     "metadata": {
      "needs_background": "light"
     },
     "output_type": "display_data"
    }
   ],
   "source": [
    "gma_genre = gma.groupby('genre')['sales'].sum().sort_values(ascending = False)\n",
    "gma_genre.plot(kind=\"bar\", color = \"teal\", figsize=(10, 6))\n",
    "plt.xticks(rotation=70)\n",
    "plt.title('Продажи игр по жанрам с 2014')\n",
    "plt.xlabel('Жанр')\n",
    "plt.ylabel('Продажи')\n",
    "plt.show()"
   ]
  },
  {
   "cell_type": "markdown",
   "metadata": {},
   "source": [
    "На первом графике мы видим, что самый расспрастраненный на рынке жанр action, количество игр этого жанра идет с большим отрывом от других. На двух других графиках видно, что в целом топ-4 популярных жанров сохраняется за все время наблюдения. Это shooter, action, sports и roll-playing. На графике актуального периода топ-4 выделяется высокими продажами, остальные жанры продаются намного хуже."
   ]
  },
  {
   "cell_type": "code",
   "execution_count": 26,
   "metadata": {},
   "outputs": [
    {
     "data": {
      "text/html": [
       "<div>\n",
       "<style scoped>\n",
       "    .dataframe tbody tr th:only-of-type {\n",
       "        vertical-align: middle;\n",
       "    }\n",
       "\n",
       "    .dataframe tbody tr th {\n",
       "        vertical-align: top;\n",
       "    }\n",
       "\n",
       "    .dataframe thead tr th {\n",
       "        text-align: left;\n",
       "    }\n",
       "\n",
       "    .dataframe thead tr:last-of-type th {\n",
       "        text-align: right;\n",
       "    }\n",
       "</style>\n",
       "<table border=\"1\" class=\"dataframe\">\n",
       "  <thead>\n",
       "    <tr>\n",
       "      <th></th>\n",
       "      <th>mean</th>\n",
       "      <th>median</th>\n",
       "    </tr>\n",
       "    <tr>\n",
       "      <th></th>\n",
       "      <th>sales</th>\n",
       "      <th>sales</th>\n",
       "    </tr>\n",
       "    <tr>\n",
       "      <th>genre</th>\n",
       "      <th></th>\n",
       "      <th></th>\n",
       "    </tr>\n",
       "  </thead>\n",
       "  <tbody>\n",
       "    <tr>\n",
       "      <th>Action</th>\n",
       "      <td>0.322068</td>\n",
       "      <td>0.090</td>\n",
       "    </tr>\n",
       "    <tr>\n",
       "      <th>Adventure</th>\n",
       "      <td>0.094865</td>\n",
       "      <td>0.030</td>\n",
       "    </tr>\n",
       "    <tr>\n",
       "      <th>Fighting</th>\n",
       "      <td>0.470333</td>\n",
       "      <td>0.125</td>\n",
       "    </tr>\n",
       "    <tr>\n",
       "      <th>Misc</th>\n",
       "      <td>0.332301</td>\n",
       "      <td>0.090</td>\n",
       "    </tr>\n",
       "    <tr>\n",
       "      <th>Platform</th>\n",
       "      <td>0.476053</td>\n",
       "      <td>0.140</td>\n",
       "    </tr>\n",
       "    <tr>\n",
       "      <th>Puzzle</th>\n",
       "      <td>0.157857</td>\n",
       "      <td>0.045</td>\n",
       "    </tr>\n",
       "    <tr>\n",
       "      <th>Racing</th>\n",
       "      <td>0.398841</td>\n",
       "      <td>0.090</td>\n",
       "    </tr>\n",
       "    <tr>\n",
       "      <th>Role-Playing</th>\n",
       "      <td>0.459005</td>\n",
       "      <td>0.110</td>\n",
       "    </tr>\n",
       "    <tr>\n",
       "      <th>Shooter</th>\n",
       "      <td>1.335469</td>\n",
       "      <td>0.515</td>\n",
       "    </tr>\n",
       "    <tr>\n",
       "      <th>Simulation</th>\n",
       "      <td>0.298409</td>\n",
       "      <td>0.100</td>\n",
       "    </tr>\n",
       "    <tr>\n",
       "      <th>Sports</th>\n",
       "      <td>0.680000</td>\n",
       "      <td>0.180</td>\n",
       "    </tr>\n",
       "    <tr>\n",
       "      <th>Strategy</th>\n",
       "      <td>0.107027</td>\n",
       "      <td>0.060</td>\n",
       "    </tr>\n",
       "  </tbody>\n",
       "</table>\n",
       "</div>"
      ],
      "text/plain": [
       "                  mean median\n",
       "                 sales  sales\n",
       "genre                        \n",
       "Action        0.322068  0.090\n",
       "Adventure     0.094865  0.030\n",
       "Fighting      0.470333  0.125\n",
       "Misc          0.332301  0.090\n",
       "Platform      0.476053  0.140\n",
       "Puzzle        0.157857  0.045\n",
       "Racing        0.398841  0.090\n",
       "Role-Playing  0.459005  0.110\n",
       "Shooter       1.335469  0.515\n",
       "Simulation    0.298409  0.100\n",
       "Sports        0.680000  0.180\n",
       "Strategy      0.107027  0.060"
      ]
     },
     "execution_count": 26,
     "metadata": {},
     "output_type": "execute_result"
    }
   ],
   "source": [
    "genre_sales = pd.pivot_table(data=gma, index='genre', values='sales', aggfunc=['mean','median'])\n",
    "genre_sales"
   ]
  },
  {
   "cell_type": "markdown",
   "metadata": {},
   "source": [
    "По таблице выше видно, что стабильно прибыльный жанр - это Shooter, именно шутеры имеют самые высокие значения средних и медианных продаж."
   ]
  },
  {
   "cell_type": "markdown",
   "metadata": {},
   "source": [
    "**Вывод:**  \n",
    "**- Игровая индустрия развивается с 1980-х годов. Стремительное развитие начинается только с 1994, а наивысший рассвет приходятся на период с 2007 по 2011 год. С 2012 в индустрии наметился спад, который продолжается по сей день.**  \n",
    "**- Игровые консоли SonyPlayStation можно считать наиболее успешными, каждая была одной из самых популярных в свое время.**  \n",
    "**- Ситуация на рынке видеоигр меняется стремительно. Исходя из текущих данных, мы определили актуальный период с 2014 года. Так как именно с этого года тенденции сохраняют свой вектор.**  \n",
    "**- На актуальный период самые популярные и успешные платформы: XOne, WiiU, PS4 и X360. Тем не менее стоит поддерживать разнообразие ассортимента, так как некоторые игры лучше продаются на других платформах.**  \n",
    "**- На основе данных удалось выянить, что заимосвязь между продажами и оценками критиков и пользоватей слабая. Не стоит на них полагаться при планировании рекламной компании. Впрочем игнорировать также не рекомендуется.**  \n",
    "**- Топ-4 популярных жанров сохраняется за все время наблюдения, это shooter, action, sports и roll-playing.**  \n",
    "**- Стабильно прибыльный жанр - это Shooter, так как шутеры имеют самые высокие значения средних и медианных продаж.**"
   ]
  },
  {
   "cell_type": "markdown",
   "metadata": {},
   "source": [
    "## Шаг 4. Портрет пользователя каждого региона."
   ]
  },
  {
   "cell_type": "code",
   "execution_count": 27,
   "metadata": {},
   "outputs": [
    {
     "name": "stdout",
     "output_type": "stream",
     "text": [
      "platform\n",
      "PS4     98.61\n",
      "XOne    81.27\n",
      "X360    28.30\n",
      "3DS     22.64\n",
      "PS3     22.05\n",
      "Name: na_sales, dtype: float64\n"
     ]
    },
    {
     "data": {
      "image/png": "[encoded data removed]",
      "text/plain": [
       "<Figure size 720x504 with 1 Axes>"
      ]
     },
     "metadata": {},
     "output_type": "display_data"
    }
   ],
   "source": [
    "colors= [\"teal\", \"orange\", \"purple\", \"skyblue\", \"peachpuff\"]\n",
    "gma_na = gma.groupby('platform')['na_sales'].agg('sum')\n",
    "gma_na=gma_na.sort_values(ascending=False)[:5]\n",
    "print(gma_na)\n",
    "gma_na.plot(kind='pie', autopct='%1.1f%%', pctdistance=1.1, labeldistance=.4, figsize = (10, 7), colors=colors)\n",
    "plt.title('Продажи в Северной Америке по платформам')\n",
    "plt.show()"
   ]
  },
  {
   "cell_type": "code",
   "execution_count": 28,
   "metadata": {},
   "outputs": [
    {
     "name": "stdout",
     "output_type": "stream",
     "text": [
      "genre\n",
      "Shooter         79.02\n",
      "Action          72.53\n",
      "Sports          46.13\n",
      "Role-Playing    33.47\n",
      "Misc            15.05\n",
      "Name: na_sales, dtype: float64\n"
     ]
    },
    {
     "data": {
      "image/png": "[encoded data removed]",
      "text/plain": [
       "<Figure size 720x504 with 1 Axes>"
      ]
     },
     "metadata": {},
     "output_type": "display_data"
    }
   ],
   "source": [
    "gmag_na = gma.groupby('genre')['na_sales'].agg('sum')\n",
    "gmag_na=gmag_na.sort_values(ascending=False)[:5]\n",
    "print(gmag_na)\n",
    "gmag_na.plot(kind='pie', autopct='%1.1f%%', pctdistance=1.1, labeldistance=.4, figsize = (10, 7), colors=colors)\n",
    "plt.title('Продажи в Северной Америке по жанрам')\n",
    "plt.show()"
   ]
  },
  {
   "cell_type": "code",
   "execution_count": 29,
   "metadata": {},
   "outputs": [
    {
     "name": "stdout",
     "output_type": "stream",
     "text": [
      "rating\n",
      "M            96.42\n",
      "undefined    64.72\n",
      "E            50.74\n",
      "T            38.95\n",
      "E10+         33.23\n",
      "Name: na_sales, dtype: float64\n"
     ]
    },
    {
     "data": {
      "image/png": "[encoded data removed]",
      "text/plain": [
       "<Figure size 720x504 with 1 Axes>"
      ]
     },
     "metadata": {},
     "output_type": "display_data"
    }
   ],
   "source": [
    "gmar_na = gma.groupby('rating')['na_sales'].agg('sum')\n",
    "gmar_na=gmar_na.sort_values(ascending=False)[:5]\n",
    "print(gmar_na)\n",
    "gmar_na.plot(kind='pie', autopct='%1.1f%%', pctdistance=1.1, labeldistance=.4, figsize = (10, 7), colors=colors)\n",
    "plt.title('Продажи в Северной Америке по рейтингу ESRB')\n",
    "plt.show()"
   ]
  },
  {
   "cell_type": "markdown",
   "metadata": {},
   "source": [
    "В Северной Америке наиболее успешные игровые платформы PS4 и XOne. Популярные жанры игр: Shooter, Action, Sports и Role-Playing. Наиболее расспрастраненный рейтинг М (для взрослых). Значительная доля продаж приходятся на игры без определенного рейтинга."
   ]
  },
  {
   "cell_type": "code",
   "execution_count": 30,
   "metadata": {},
   "outputs": [
    {
     "name": "stdout",
     "output_type": "stream",
     "text": [
      "platform\n",
      "PS4     130.04\n",
      "XOne     46.25\n",
      "PS3      25.54\n",
      "PC       17.97\n",
      "3DS      16.12\n",
      "Name: eu_sales, dtype: float64\n"
     ]
    },
    {
     "data": {
      "image/png": "[encoded data removed]",
      "text/plain": [
       "<Figure size 720x504 with 1 Axes>"
      ]
     },
     "metadata": {},
     "output_type": "display_data"
    }
   ],
   "source": [
    "gma_eu = gma.groupby('platform')['eu_sales'].agg('sum')\n",
    "gma_eu=gma_eu.sort_values(ascending=False)[:5]\n",
    "print(gma_eu)\n",
    "gma_eu.plot(kind='pie', autopct='%1.1f%%', pctdistance=1.1, labeldistance=.4, figsize = (10, 7), colors=colors)\n",
    "plt.title('Продажи в Европе по платформам')\n",
    "plt.show()"
   ]
  },
  {
   "cell_type": "code",
   "execution_count": 31,
   "metadata": {},
   "outputs": [
    {
     "name": "stdout",
     "output_type": "stream",
     "text": [
      "genre\n",
      "Action          74.68\n",
      "Shooter         65.52\n",
      "Sports          45.73\n",
      "Role-Playing    28.17\n",
      "Racing          14.13\n",
      "Name: eu_sales, dtype: float64\n"
     ]
    },
    {
     "data": {
      "image/png": "[encoded data removed]",
      "text/plain": [
       "<Figure size 720x504 with 1 Axes>"
      ]
     },
     "metadata": {},
     "output_type": "display_data"
    }
   ],
   "source": [
    "gmag_eu = gma.groupby('genre')['eu_sales'].agg('sum')\n",
    "gmag_eu=gmag_eu.sort_values(ascending=False)[:5]\n",
    "print(gmag_eu)\n",
    "gmag_eu.plot(kind='pie', autopct='%1.1f%%', pctdistance=1.1, labeldistance=.4, figsize = (10, 7), colors=colors)\n",
    "plt.title('Продажи в Европе по жанрам')\n",
    "plt.show()"
   ]
  },
  {
   "cell_type": "code",
   "execution_count": 32,
   "metadata": {},
   "outputs": [
    {
     "name": "stdout",
     "output_type": "stream",
     "text": [
      "rating\n",
      "M            93.44\n",
      "undefined    58.95\n",
      "E            58.06\n",
      "T            34.07\n",
      "E10+         26.16\n",
      "Name: eu_sales, dtype: float64\n"
     ]
    },
    {
     "data": {
      "image/png": "[encoded data removed]",
      "text/plain": [
       "<Figure size 720x504 with 1 Axes>"
      ]
     },
     "metadata": {},
     "output_type": "display_data"
    }
   ],
   "source": [
    "gmar_eu = gma.groupby('rating')['eu_sales'].agg('sum')\n",
    "gmar_eu=gmar_eu.sort_values(ascending=False)[:5]\n",
    "print(gmar_eu)\n",
    "gmar_eu.plot(kind='pie', autopct='%1.1f%%', pctdistance=1.1, labeldistance=.4, figsize = (10, 7), colors=colors)\n",
    "plt.title('Продажи в Европе по рейтингу ESRB')\n",
    "plt.show()"
   ]
  },
  {
   "cell_type": "markdown",
   "metadata": {},
   "source": [
    "В Европе наиболее успешной игровой платформой является PS4, игры этой плотформы занимают более половины продаж. Популярные жанры игр: Action, Shooter, Sports и Role-Playing. Наиболее расспрастраненный рейтинг М (для взрослых). Значительная доля продаж приходятся на игры без определенного рейтинга."
   ]
  },
  {
   "cell_type": "code",
   "execution_count": 33,
   "metadata": {},
   "outputs": [
    {
     "name": "stdout",
     "output_type": "stream",
     "text": [
      "platform\n",
      "3DS     44.24\n",
      "PS4     15.02\n",
      "PSV     14.54\n",
      "PS3     11.22\n",
      "WiiU     7.31\n",
      "Name: jp_sales, dtype: float64\n"
     ]
    },
    {
     "data": {
      "image/png": "[encoded data removed]",
      "text/plain": [
       "<Figure size 720x504 with 1 Axes>"
      ]
     },
     "metadata": {},
     "output_type": "display_data"
    }
   ],
   "source": [
    "gma_jp = gma.groupby('platform')['jp_sales'].agg('sum')\n",
    "gma_jp=gma_jp.sort_values(ascending=False)[:5]\n",
    "print(gma_jp)\n",
    "gma_jp.plot(kind='pie', autopct='%1.1f%%', pctdistance=1.1, labeldistance=.4, figsize = (10, 7), colors=colors)\n",
    "plt.title('Продажи в Японии по платформам')\n",
    "plt.show()"
   ]
  },
  {
   "cell_type": "code",
   "execution_count": 34,
   "metadata": {},
   "outputs": [
    {
     "name": "stdout",
     "output_type": "stream",
     "text": [
      "genre\n",
      "Role-Playing    31.16\n",
      "Action          29.58\n",
      "Fighting         6.37\n",
      "Misc             5.61\n",
      "Shooter          4.87\n",
      "Name: jp_sales, dtype: float64\n"
     ]
    },
    {
     "data": {
      "image/png": "[encoded data removed]",
      "text/plain": [
       "<Figure size 720x504 with 1 Axes>"
      ]
     },
     "metadata": {},
     "output_type": "display_data"
    }
   ],
   "source": [
    "gmag_jp = gma.groupby('genre')['jp_sales'].agg('sum')\n",
    "gmag_jp=gmag_jp.sort_values(ascending=False)[:5]\n",
    "print(gmag_jp)\n",
    "gmag_jp.plot(kind='pie', autopct='%1.1f%%', pctdistance=1.1, labeldistance=.4, figsize = (10, 7), colors=colors)\n",
    "plt.title('Продажи в Японии по жанрам')\n",
    "plt.show()"
   ]
  },
  {
   "cell_type": "code",
   "execution_count": 35,
   "metadata": {},
   "outputs": [
    {
     "name": "stdout",
     "output_type": "stream",
     "text": [
      "rating\n",
      "undefined    56.90\n",
      "T            14.78\n",
      "E             8.94\n",
      "M             8.01\n",
      "E10+          4.46\n",
      "Name: jp_sales, dtype: float64\n"
     ]
    },
    {
     "data": {
      "image/png": "[encoded data removed]",
      "text/plain": [
       "<Figure size 720x504 with 1 Axes>"
      ]
     },
     "metadata": {},
     "output_type": "display_data"
    }
   ],
   "source": [
    "gmar_jp = gma.groupby('rating')['jp_sales'].agg('sum')\n",
    "gmar_jp=gmar_jp.sort_values(ascending=False)[:5]\n",
    "print(gmar_jp)\n",
    "gmar_jp.plot(kind='pie', autopct='%1.1f%%', pctdistance=1.1, labeldistance=.4, figsize = (10, 7), colors=colors)\n",
    "plt.title('Продажи в Японии по рейтингу ESRB')\n",
    "plt.show()"
   ]
  },
  {
   "cell_type": "markdown",
   "metadata": {},
   "source": [
    "В Японии наиболее успешной игровой платформой является 3DS, игры этой плотформы занимают почти половину продаж. Популярные жанры игр: Role-Playing и Action. В Японии больше всего игр продается без определенного рейтинга, что скорее всего связано с широким распространением локальных игра. Среди игр с определенным рейтингом - наиболее расспрастраненный рейтинг: Т (подросткам)."
   ]
  },
  {
   "cell_type": "markdown",
   "metadata": {},
   "source": [
    "**Рынки видеоигр Европы и Северной Америки очень похожи по успешным платформам: PS4 и XOne; популярным жанрам: Shooter, Action, Sports и Role-Playing; и рейтингами игр, где самый распрастраненный М (для взрослых). Игровой рынок Японии сильно от них отличается. Здесь самая успешная игровая платформа: 3DS, и только потом PS4. Популярные жанры: Action и Role-Playing, а самый распрастраненный рейтинг Т (подросткам), а значит и целевая аудитория иная.**"
   ]
  },
  {
   "cell_type": "markdown",
   "metadata": {},
   "source": [
    "## Шаг 5. Проверка гипотез."
   ]
  },
  {
   "cell_type": "markdown",
   "metadata": {},
   "source": [
    "Проверим пару гипотез.\n",
    "\n",
    "**1. Средние пользовательские рейтинги платформ Xbox One и PC одинаковые.**  \n",
    "**Нулевая гипотеза Н0:** cредние пользовательские рейтинги платформ Xbox One и PC равны.   \n",
    "**Альтернативная гипотеза Н1:** средние пользовательские рейтинги платформ Xbox One и PC различаются."
   ]
  },
  {
   "cell_type": "code",
   "execution_count": 36,
   "metadata": {},
   "outputs": [
    {
     "name": "stdout",
     "output_type": "stream",
     "text": [
      "p-value: 0.116\n",
      "Нет оснований отвергнуть нулевую гипотезу\n",
      "\n",
      "Среднее первой выборки: 6.594545454545456\n",
      "Среднее второй выборки: 6.298360655737705\n"
     ]
    }
   ],
   "source": [
    "xone = gma[gma['platform'] == 'XOne']['user_score'].dropna()\n",
    "pc = gma[gma['platform'] == 'PC']['user_score'].dropna()\n",
    "\n",
    "alpha = 0.005\n",
    "results = st.ttest_ind(xone, pc, equal_var=False)\n",
    "print(f'p-value: {results.pvalue:.3f}')\n",
    "if results.pvalue < alpha:\n",
    "    \n",
    "    print('Отвергаем нулевую гипотезу')\n",
    "else:\n",
    "    print('Нет оснований отвергнуть нулевую гипотезу')\n",
    "    \n",
    "print()\n",
    "print(f'Среднее первой выборки: {xone.mean()}')\n",
    "print(f'Среднее второй выборки: {pc.mean()}')"
   ]
  },
  {
   "cell_type": "markdown",
   "metadata": {},
   "source": [
    "Результат теста не позволяет отвергнуть нулевую гипотезу, а значит cредние пользовательские рейтинги платформ Xbox One и PC как минимум очень схожи. "
   ]
  },
  {
   "cell_type": "markdown",
   "metadata": {},
   "source": [
    "**2. Средние пользовательские рейтинги жанров Action (англ. «действие», экшен-игры) и Sports (англ. «спортивные соревнования») разные.**  \n",
    "**Нулевая гипотеза Н0:** cредние пользовательские рейтинги жанров Action и Sports равны.  \n",
    "**Альтернативная гипотеза Н1:** средние пользовательские рейтинги жанров Action и Sports различаются."
   ]
  },
  {
   "cell_type": "code",
   "execution_count": 37,
   "metadata": {},
   "outputs": [
    {
     "name": "stdout",
     "output_type": "stream",
     "text": [
      "p-value: 0.000000000000011825550382644557\n",
      "Отвергаем нулевую гипотезу\n",
      "\n",
      "Среднее первой выборки: 6.760606060606061\n",
      "Среднее второй выборки: 5.2251968503937\n"
     ]
    }
   ],
   "source": [
    "action = gma[gma['genre'] == 'Action']['user_score'].dropna()\n",
    "sports = gma[gma['genre'] == 'Sports']['user_score'].dropna()\n",
    "\n",
    "alpha = 0.005\n",
    "results = st.ttest_ind(action, sports, equal_var=False)\n",
    "print(f'p-value: {results.pvalue:.30f}')\n",
    "if results.pvalue < alpha:\n",
    "    \n",
    "    print('Отвергаем нулевую гипотезу')\n",
    "else:\n",
    "    print('Нет оснований отвергнуть нулевую гипотезу')\n",
    "    \n",
    "print()\n",
    "print(f'Среднее первой выборки: {action.mean()}')\n",
    "print(f'Среднее второй выборки: {sports.mean()}')"
   ]
  },
  {
   "cell_type": "markdown",
   "metadata": {},
   "source": [
    "По результатам теста мы отвергаем нулевую гипотезу в пользу альтернативной, а значит, что средние пользовательские рейтинги жанров Action и Sports различаются."
   ]
  },
  {
   "cell_type": "markdown",
   "metadata": {},
   "source": [
    "## Выводы.\n",
    "В ходе исследования были изучены исторические данные о продажах игр, доступные из открытых источников вплоть до 2016 года. Для планирования закупок и рекламных компаний на 2017 год интернет магазина \"Стримчик\", который продает игры по всему миру.  Были сделаны следующие выводы:\n",
    "- Игровая индустрия развивается с 1980-х годов. Стремительное развитие начинается только с 1994, а наивысший рассвет приходятся на период с 2007 по 2011 год. С 2012 в индустрии наметился спад, который продолжается по сей день.\n",
    "- Игровые консоли SonyPlayStation можно считать наиболее успешными, каждая была одной из самых популярных в свое время.\n",
    "- Ситуация на рынке видеоигр меняется стремительно. Исходя из текущих данных, мы определили актуальный период с 2014 года. Так как именно с этого года тенденции сохраняют свой вектор.\n",
    "- На актуальный период самые популярные и успешные платформы: XOne, WiiU, PS4 и X360. Тем не менее стоит поддерживать разнообразие ассортимента, так как некоторые игры лучше продаются на других платформах.\n",
    "- На основе данных удалось выянить, что заимосвязь между продажами и оценками критиков и пользоватей слабая. Не стоит на них полагаться при планировании рекламной компании. Впрочем игнорировать также не рекомендуется.\n",
    "- Топ-4 популярных жанров сохраняется за все время наблюдения, это shooter, action, sports и roll-playing.  \n",
    "- Стабильно прибыльный жанр - это Shooter, так как шутеры имеют самые высокие значения средних и медианных продаж.\n",
    "- Рынки видеоигр Европы и Северной Америки очень похожи по успешным платформам: PS4 и XOne; популярным жанрам: Shooter, Action, Sports и Role-Playing; и рейтингами игр, где самый распрастраненный М (для взрослых). Игровой рынок Японии сильно от них отличается. Здесь самая популярная игровая платформа 3DS и PS4.  \n",
    "- Средние пользовательские рейтинги платформ Xbox One и PC имеют похожие значения. \n",
    "- Средние пользовательские рейтинги жанров Action и Sports имеют значительные различия."
   ]
  }
 ],
 "metadata": {
  "ExecuteTimeLog": [
   {
    "duration": 906,
    "start_time": "2024-04-08T11:52:18.661Z"
   },
   {
    "duration": 74,
    "start_time": "2024-04-08T11:52:19.569Z"
   },
   {
    "duration": 36,
    "start_time": "2024-04-08T11:52:31.687Z"
   },
   {
    "duration": 690,
    "start_time": "2024-04-08T12:13:13.564Z"
   },
   {
    "duration": 33,
    "start_time": "2024-04-08T12:13:14.256Z"
   },
   {
    "duration": 805,
    "start_time": "2024-04-08T22:47:49.637Z"
   },
   {
    "duration": 27,
    "start_time": "2024-04-08T22:47:50.444Z"
   },
   {
    "duration": 63,
    "start_time": "2024-04-08T22:47:50.472Z"
   },
   {
    "duration": 582,
    "start_time": "2024-04-08T22:49:18.938Z"
   },
   {
    "duration": 28,
    "start_time": "2024-04-08T22:49:19.521Z"
   },
   {
    "duration": 61,
    "start_time": "2024-04-08T22:49:19.551Z"
   },
   {
    "duration": 4,
    "start_time": "2024-04-08T22:49:41.722Z"
   },
   {
    "duration": 6,
    "start_time": "2024-04-08T22:51:40.729Z"
   },
   {
    "duration": 3,
    "start_time": "2024-04-08T22:53:00.047Z"
   },
   {
    "duration": 6,
    "start_time": "2024-04-08T22:53:28.918Z"
   },
   {
    "duration": 7,
    "start_time": "2024-04-08T22:56:46.142Z"
   },
   {
    "duration": 2,
    "start_time": "2024-04-08T22:58:44.504Z"
   },
   {
    "duration": 17,
    "start_time": "2024-04-08T22:58:54.586Z"
   },
   {
    "duration": 4,
    "start_time": "2024-04-08T22:59:56.182Z"
   },
   {
    "duration": 863,
    "start_time": "2024-04-09T18:27:36.483Z"
   },
   {
    "duration": 34,
    "start_time": "2024-04-09T18:27:37.348Z"
   },
   {
    "duration": 5,
    "start_time": "2024-04-09T18:27:37.383Z"
   },
   {
    "duration": 7,
    "start_time": "2024-04-09T18:27:37.390Z"
   },
   {
    "duration": 74,
    "start_time": "2024-04-09T18:28:28.460Z"
   },
   {
    "duration": 659,
    "start_time": "2024-04-09T18:28:46.970Z"
   },
   {
    "duration": 30,
    "start_time": "2024-04-09T18:28:47.631Z"
   },
   {
    "duration": 4,
    "start_time": "2024-04-09T18:28:47.663Z"
   },
   {
    "duration": 79,
    "start_time": "2024-04-09T18:28:47.669Z"
   },
   {
    "duration": 8,
    "start_time": "2024-04-09T18:28:57.533Z"
   },
   {
    "duration": 37,
    "start_time": "2024-04-09T18:30:26.106Z"
   },
   {
    "duration": 27,
    "start_time": "2024-04-09T18:30:48.457Z"
   },
   {
    "duration": 22,
    "start_time": "2024-04-09T18:31:30.439Z"
   },
   {
    "duration": 11,
    "start_time": "2024-04-09T18:31:46.263Z"
   },
   {
    "duration": 632,
    "start_time": "2024-04-09T18:35:33.613Z"
   },
   {
    "duration": 37,
    "start_time": "2024-04-09T18:35:34.247Z"
   },
   {
    "duration": 6,
    "start_time": "2024-04-09T18:35:34.286Z"
   },
   {
    "duration": 20,
    "start_time": "2024-04-09T18:35:34.294Z"
   },
   {
    "duration": 4,
    "start_time": "2024-04-09T18:42:31.159Z"
   },
   {
    "duration": 65,
    "start_time": "2024-04-09T18:42:41.505Z"
   },
   {
    "duration": 14,
    "start_time": "2024-04-09T18:42:46.323Z"
   },
   {
    "duration": 8,
    "start_time": "2024-04-09T19:23:04.951Z"
   },
   {
    "duration": 538,
    "start_time": "2024-04-09T19:23:10.156Z"
   },
   {
    "duration": 36,
    "start_time": "2024-04-09T19:23:13.013Z"
   },
   {
    "duration": 126,
    "start_time": "2024-04-09T19:23:29.960Z"
   },
   {
    "duration": 565,
    "start_time": "2024-04-09T19:24:18.283Z"
   },
   {
    "duration": 86,
    "start_time": "2024-04-09T19:26:34.327Z"
   },
   {
    "duration": 109,
    "start_time": "2024-04-09T19:26:42.628Z"
   },
   {
    "duration": 107,
    "start_time": "2024-04-09T19:27:27.641Z"
   },
   {
    "duration": 118,
    "start_time": "2024-04-09T19:27:48.648Z"
   },
   {
    "duration": 626,
    "start_time": "2024-04-09T19:29:29.306Z"
   },
   {
    "duration": 862,
    "start_time": "2024-04-09T19:29:35.516Z"
   },
   {
    "duration": 913,
    "start_time": "2024-04-09T19:36:39.012Z"
   },
   {
    "duration": 1139,
    "start_time": "2024-04-09T19:37:29.804Z"
   },
   {
    "duration": 32,
    "start_time": "2024-04-09T19:37:30.945Z"
   },
   {
    "duration": 31,
    "start_time": "2024-04-09T19:37:30.979Z"
   },
   {
    "duration": 29,
    "start_time": "2024-04-09T19:37:31.012Z"
   },
   {
    "duration": 25,
    "start_time": "2024-04-09T19:37:31.043Z"
   },
   {
    "duration": 886,
    "start_time": "2024-04-09T19:37:31.069Z"
   },
   {
    "duration": 27,
    "start_time": "2024-04-09T19:37:31.957Z"
   },
   {
    "duration": 27,
    "start_time": "2024-04-09T19:38:23.637Z"
   },
   {
    "duration": 15,
    "start_time": "2024-04-09T19:38:28.945Z"
   },
   {
    "duration": 14,
    "start_time": "2024-04-09T19:38:31.286Z"
   },
   {
    "duration": 8,
    "start_time": "2024-04-09T19:40:15.257Z"
   },
   {
    "duration": 25,
    "start_time": "2024-04-09T19:44:26.026Z"
   },
   {
    "duration": 24,
    "start_time": "2024-04-09T19:46:48.015Z"
   },
   {
    "duration": 578,
    "start_time": "2024-04-09T19:47:58.156Z"
   },
   {
    "duration": 652,
    "start_time": "2024-04-09T19:48:34.920Z"
   },
   {
    "duration": 644,
    "start_time": "2024-04-09T19:51:12.098Z"
   },
   {
    "duration": 625,
    "start_time": "2024-04-09T19:51:48.491Z"
   },
   {
    "duration": 110,
    "start_time": "2024-04-09T19:51:56.978Z"
   },
   {
    "duration": 730,
    "start_time": "2024-04-09T19:52:04.610Z"
   },
   {
    "duration": 631,
    "start_time": "2024-04-09T19:52:43.638Z"
   },
   {
    "duration": 7,
    "start_time": "2024-04-09T19:53:01.872Z"
   },
   {
    "duration": 21,
    "start_time": "2024-04-09T19:59:39.143Z"
   },
   {
    "duration": 625,
    "start_time": "2024-04-09T20:00:38.696Z"
   },
   {
    "duration": 755,
    "start_time": "2024-04-09T20:00:46.480Z"
   },
   {
    "duration": 650,
    "start_time": "2024-04-09T20:01:09.348Z"
   },
   {
    "duration": 22,
    "start_time": "2024-04-09T20:01:54.735Z"
   },
   {
    "duration": 127,
    "start_time": "2024-04-09T20:02:40.803Z"
   },
   {
    "duration": 155,
    "start_time": "2024-04-09T20:02:49.898Z"
   },
   {
    "duration": 8,
    "start_time": "2024-04-09T20:03:01.321Z"
   },
   {
    "duration": 15,
    "start_time": "2024-04-09T20:22:38.904Z"
   },
   {
    "duration": 54,
    "start_time": "2024-04-09T20:23:37.408Z"
   },
   {
    "duration": 151,
    "start_time": "2024-04-09T20:23:42.882Z"
   },
   {
    "duration": 171,
    "start_time": "2024-04-09T20:24:03.508Z"
   },
   {
    "duration": 156,
    "start_time": "2024-04-09T20:24:08.276Z"
   },
   {
    "duration": 265,
    "start_time": "2024-04-09T20:24:17.992Z"
   },
   {
    "duration": 177,
    "start_time": "2024-04-09T20:25:03.438Z"
   },
   {
    "duration": 187,
    "start_time": "2024-04-09T21:02:33.700Z"
   },
   {
    "duration": 190,
    "start_time": "2024-04-09T21:04:40.210Z"
   },
   {
    "duration": 188,
    "start_time": "2024-04-09T21:05:07.610Z"
   },
   {
    "duration": 4,
    "start_time": "2024-04-09T21:05:48.768Z"
   },
   {
    "duration": 4,
    "start_time": "2024-04-09T21:05:57.451Z"
   },
   {
    "duration": 4,
    "start_time": "2024-04-09T21:06:03.915Z"
   },
   {
    "duration": 6,
    "start_time": "2024-04-09T21:06:28.595Z"
   },
   {
    "duration": 179,
    "start_time": "2024-04-09T21:07:04.649Z"
   },
   {
    "duration": 120,
    "start_time": "2024-04-09T21:08:37.209Z"
   },
   {
    "duration": 8,
    "start_time": "2024-04-09T21:08:53.806Z"
   },
   {
    "duration": 173,
    "start_time": "2024-04-09T21:11:29.634Z"
   },
   {
    "duration": 396,
    "start_time": "2024-04-09T21:12:06.576Z"
   },
   {
    "duration": 993,
    "start_time": "2024-04-09T21:15:04.605Z"
   },
   {
    "duration": 819,
    "start_time": "2024-04-09T21:15:25.203Z"
   },
   {
    "duration": 166,
    "start_time": "2024-04-09T21:15:35.661Z"
   },
   {
    "duration": 21,
    "start_time": "2024-04-09T21:25:27.088Z"
   },
   {
    "duration": 1113,
    "start_time": "2024-04-09T21:27:36.897Z"
   },
   {
    "duration": 29,
    "start_time": "2024-04-09T21:27:38.011Z"
   },
   {
    "duration": 25,
    "start_time": "2024-04-09T21:27:38.041Z"
   },
   {
    "duration": 27,
    "start_time": "2024-04-09T21:27:38.068Z"
   },
   {
    "duration": 4,
    "start_time": "2024-04-09T21:27:38.096Z"
   },
   {
    "duration": 831,
    "start_time": "2024-04-09T21:27:38.101Z"
   },
   {
    "duration": 34,
    "start_time": "2024-04-09T21:27:38.933Z"
   },
   {
    "duration": 581,
    "start_time": "2024-04-09T21:27:38.969Z"
   },
   {
    "duration": 7,
    "start_time": "2024-04-09T21:27:39.552Z"
   },
   {
    "duration": 32,
    "start_time": "2024-04-09T21:27:39.561Z"
   },
   {
    "duration": 188093,
    "start_time": "2024-04-09T21:27:39.594Z"
   },
   {
    "duration": 280,
    "start_time": "2024-04-09T21:30:47.952Z"
   },
   {
    "duration": 296,
    "start_time": "2024-04-09T21:31:19.097Z"
   },
   {
    "duration": 294,
    "start_time": "2024-04-09T21:31:32.645Z"
   },
   {
    "duration": 296,
    "start_time": "2024-04-09T21:32:11.372Z"
   },
   {
    "duration": 252,
    "start_time": "2024-04-09T21:35:44.214Z"
   },
   {
    "duration": 162,
    "start_time": "2024-04-09T21:38:37.110Z"
   },
   {
    "duration": 243,
    "start_time": "2024-04-09T21:41:10.779Z"
   },
   {
    "duration": 7,
    "start_time": "2024-04-09T21:41:44.311Z"
   },
   {
    "duration": 94,
    "start_time": "2024-04-09T21:42:24.368Z"
   },
   {
    "duration": 842,
    "start_time": "2024-04-09T21:42:32.788Z"
   },
   {
    "duration": 5,
    "start_time": "2024-04-09T21:42:53.594Z"
   },
   {
    "duration": 5,
    "start_time": "2024-04-09T21:43:31.676Z"
   },
   {
    "duration": 8,
    "start_time": "2024-04-09T21:43:43.354Z"
   },
   {
    "duration": 5,
    "start_time": "2024-04-09T21:43:48.196Z"
   },
   {
    "duration": 11,
    "start_time": "2024-04-09T21:46:00.709Z"
   },
   {
    "duration": 6,
    "start_time": "2024-04-09T21:46:16.181Z"
   },
   {
    "duration": 32,
    "start_time": "2024-04-09T21:48:25.422Z"
   },
   {
    "duration": 15,
    "start_time": "2024-04-09T21:48:51.480Z"
   },
   {
    "duration": 25,
    "start_time": "2024-04-09T21:49:06.543Z"
   },
   {
    "duration": 24,
    "start_time": "2024-04-09T21:49:33.711Z"
   },
   {
    "duration": 27,
    "start_time": "2024-04-09T21:50:02.115Z"
   },
   {
    "duration": 197,
    "start_time": "2024-04-09T21:50:31.140Z"
   },
   {
    "duration": 866,
    "start_time": "2024-04-09T21:51:44.925Z"
   },
   {
    "duration": 833,
    "start_time": "2024-04-09T21:51:54.944Z"
   },
   {
    "duration": 796,
    "start_time": "2024-04-09T21:52:12.253Z"
   },
   {
    "duration": 808,
    "start_time": "2024-04-09T22:01:47.674Z"
   },
   {
    "duration": 65,
    "start_time": "2024-04-09T22:02:07.548Z"
   },
   {
    "duration": 839,
    "start_time": "2024-04-09T22:02:15.174Z"
   },
   {
    "duration": 23,
    "start_time": "2024-04-09T22:02:34.245Z"
   },
   {
    "duration": 14,
    "start_time": "2024-04-09T22:03:52.104Z"
   },
   {
    "duration": 12,
    "start_time": "2024-04-09T22:05:51.184Z"
   },
   {
    "duration": 17,
    "start_time": "2024-04-09T22:09:18.713Z"
   },
   {
    "duration": 48,
    "start_time": "2024-04-09T22:09:30.995Z"
   },
   {
    "duration": 17,
    "start_time": "2024-04-09T22:11:31.568Z"
   },
   {
    "duration": 62,
    "start_time": "2024-04-09T22:12:22.109Z"
   },
   {
    "duration": 668,
    "start_time": "2024-04-09T22:12:49.678Z"
   },
   {
    "duration": 63,
    "start_time": "2024-04-09T22:14:56.845Z"
   },
   {
    "duration": 901,
    "start_time": "2024-04-09T22:15:46.814Z"
   },
   {
    "duration": 25,
    "start_time": "2024-04-09T22:16:47.540Z"
   },
   {
    "duration": 24,
    "start_time": "2024-04-09T22:17:24.633Z"
   },
   {
    "duration": 21,
    "start_time": "2024-04-09T22:18:23.477Z"
   },
   {
    "duration": 21,
    "start_time": "2024-04-09T22:21:46.021Z"
   },
   {
    "duration": 46,
    "start_time": "2024-04-09T22:22:01.025Z"
   },
   {
    "duration": 656,
    "start_time": "2024-04-09T22:22:14.684Z"
   },
   {
    "duration": 19,
    "start_time": "2024-04-09T22:23:20.472Z"
   },
   {
    "duration": 19165,
    "start_time": "2024-04-09T22:23:48.807Z"
   },
   {
    "duration": 665,
    "start_time": "2024-04-09T22:25:20.421Z"
   },
   {
    "duration": 25,
    "start_time": "2024-04-09T22:26:23.902Z"
   },
   {
    "duration": 13,
    "start_time": "2024-04-09T22:31:03.469Z"
   },
   {
    "duration": 21,
    "start_time": "2024-04-09T22:31:09.524Z"
   },
   {
    "duration": 257,
    "start_time": "2024-04-09T22:31:54.639Z"
   },
   {
    "duration": 229,
    "start_time": "2024-04-09T22:32:22.200Z"
   },
   {
    "duration": 14,
    "start_time": "2024-04-09T22:33:38.587Z"
   },
   {
    "duration": 21,
    "start_time": "2024-04-09T22:33:47.394Z"
   },
   {
    "duration": 14,
    "start_time": "2024-04-09T22:34:37.585Z"
   },
   {
    "duration": 25,
    "start_time": "2024-04-09T22:34:44.340Z"
   },
   {
    "duration": 18,
    "start_time": "2024-04-09T22:36:15.063Z"
   },
   {
    "duration": 19,
    "start_time": "2024-04-09T22:38:18.196Z"
   },
   {
    "duration": 895,
    "start_time": "2024-04-09T22:40:58.386Z"
   },
   {
    "duration": 948,
    "start_time": "2024-04-09T22:41:11.804Z"
   },
   {
    "duration": 21,
    "start_time": "2024-04-09T22:41:33.729Z"
   },
   {
    "duration": 21,
    "start_time": "2024-04-09T22:41:47.124Z"
   },
   {
    "duration": 155,
    "start_time": "2024-04-09T22:41:57.456Z"
   },
   {
    "duration": 4077,
    "start_time": "2024-04-09T22:42:30.059Z"
   },
   {
    "duration": 7689,
    "start_time": "2024-04-09T22:42:54.604Z"
   },
   {
    "duration": 4365,
    "start_time": "2024-04-09T22:43:07.839Z"
   },
   {
    "duration": 19,
    "start_time": "2024-04-09T22:46:33.170Z"
   },
   {
    "duration": 21,
    "start_time": "2024-04-09T22:46:47.745Z"
   },
   {
    "duration": 20,
    "start_time": "2024-04-09T22:47:06.074Z"
   },
   {
    "duration": 19,
    "start_time": "2024-04-09T22:47:56.746Z"
   },
   {
    "duration": 18,
    "start_time": "2024-04-09T22:48:10.987Z"
   },
   {
    "duration": 17,
    "start_time": "2024-04-09T22:51:07.899Z"
   },
   {
    "duration": 20,
    "start_time": "2024-04-09T22:51:57.584Z"
   },
   {
    "duration": 25,
    "start_time": "2024-04-09T22:52:59.802Z"
   },
   {
    "duration": 18,
    "start_time": "2024-04-09T22:56:34.908Z"
   },
   {
    "duration": 20,
    "start_time": "2024-04-09T22:57:30.701Z"
   },
   {
    "duration": 18,
    "start_time": "2024-04-09T22:59:27.419Z"
   },
   {
    "duration": 19,
    "start_time": "2024-04-09T22:59:48.454Z"
   },
   {
    "duration": 18,
    "start_time": "2024-04-09T23:00:03.249Z"
   },
   {
    "duration": 814,
    "start_time": "2024-04-09T23:01:26.477Z"
   },
   {
    "duration": 739,
    "start_time": "2024-04-09T23:01:51.765Z"
   },
   {
    "duration": 726,
    "start_time": "2024-04-09T23:02:29.903Z"
   },
   {
    "duration": 18,
    "start_time": "2024-04-09T23:02:41.038Z"
   },
   {
    "duration": 145,
    "start_time": "2024-04-09T23:02:59.624Z"
   },
   {
    "duration": 716,
    "start_time": "2024-04-09T23:03:23.120Z"
   },
   {
    "duration": 1026,
    "start_time": "2024-04-09T23:04:30.428Z"
   },
   {
    "duration": 730,
    "start_time": "2024-04-09T23:04:48.373Z"
   },
   {
    "duration": 17,
    "start_time": "2024-04-09T23:05:11.593Z"
   },
   {
    "duration": 709,
    "start_time": "2024-04-09T23:05:34.293Z"
   },
   {
    "duration": 641,
    "start_time": "2024-04-09T23:06:10.924Z"
   },
   {
    "duration": 17,
    "start_time": "2024-04-09T23:06:42.581Z"
   },
   {
    "duration": 148,
    "start_time": "2024-04-09T23:07:04.840Z"
   },
   {
    "duration": 767,
    "start_time": "2024-04-09T23:07:34.299Z"
   },
   {
    "duration": 735,
    "start_time": "2024-04-09T23:08:51.818Z"
   },
   {
    "duration": 25,
    "start_time": "2024-04-09T23:09:51.956Z"
   },
   {
    "duration": 28,
    "start_time": "2024-04-09T23:10:13.737Z"
   },
   {
    "duration": 28,
    "start_time": "2024-04-09T23:10:26.433Z"
   },
   {
    "duration": 174,
    "start_time": "2024-04-09T23:10:38.950Z"
   },
   {
    "duration": 201,
    "start_time": "2024-04-09T23:11:14.225Z"
   },
   {
    "duration": 216,
    "start_time": "2024-04-09T23:12:02.452Z"
   },
   {
    "duration": 243,
    "start_time": "2024-04-09T23:12:52.112Z"
   },
   {
    "duration": 915,
    "start_time": "2024-04-09T23:14:13.718Z"
   },
   {
    "duration": 357,
    "start_time": "2024-04-09T23:14:27.714Z"
   },
   {
    "duration": 301,
    "start_time": "2024-04-09T23:14:42.770Z"
   },
   {
    "duration": 372,
    "start_time": "2024-04-09T23:15:13.372Z"
   },
   {
    "duration": 651,
    "start_time": "2024-04-09T23:15:30.368Z"
   },
   {
    "duration": 179,
    "start_time": "2024-04-09T23:16:11.881Z"
   },
   {
    "duration": 843,
    "start_time": "2024-04-09T23:17:03.868Z"
   },
   {
    "duration": 844,
    "start_time": "2024-04-09T23:17:37.475Z"
   },
   {
    "duration": 762,
    "start_time": "2024-04-09T23:20:47.732Z"
   },
   {
    "duration": 752,
    "start_time": "2024-04-09T23:21:58.679Z"
   },
   {
    "duration": 945,
    "start_time": "2024-04-09T23:23:14.293Z"
   },
   {
    "duration": 374,
    "start_time": "2024-04-09T23:24:38.785Z"
   },
   {
    "duration": 370,
    "start_time": "2024-04-09T23:26:10.030Z"
   },
   {
    "duration": 365,
    "start_time": "2024-04-09T23:27:32.066Z"
   },
   {
    "duration": 1348,
    "start_time": "2024-04-09T23:27:47.665Z"
   },
   {
    "duration": 344,
    "start_time": "2024-04-09T23:28:33.579Z"
   },
   {
    "duration": 5,
    "start_time": "2024-04-09T23:30:40.355Z"
   },
   {
    "duration": 1086,
    "start_time": "2024-04-09T23:31:22.437Z"
   },
   {
    "duration": 8,
    "start_time": "2024-04-09T23:32:18.390Z"
   },
   {
    "duration": 915,
    "start_time": "2024-04-09T23:32:33.837Z"
   },
   {
    "duration": 367,
    "start_time": "2024-04-09T23:33:41.965Z"
   },
   {
    "duration": 1021,
    "start_time": "2024-04-09T23:34:18.599Z"
   },
   {
    "duration": 923,
    "start_time": "2024-04-09T23:34:44.239Z"
   },
   {
    "duration": 9,
    "start_time": "2024-04-09T23:35:28.321Z"
   },
   {
    "duration": 8,
    "start_time": "2024-04-09T23:35:41.089Z"
   },
   {
    "duration": 10,
    "start_time": "2024-04-09T23:35:50.431Z"
   },
   {
    "duration": 996,
    "start_time": "2024-04-09T23:36:30.016Z"
   },
   {
    "duration": 1258,
    "start_time": "2024-04-09T23:36:58.352Z"
   },
   {
    "duration": 1009,
    "start_time": "2024-04-09T23:37:38.583Z"
   },
   {
    "duration": 966,
    "start_time": "2024-04-09T23:37:59.262Z"
   },
   {
    "duration": 1021,
    "start_time": "2024-04-09T23:38:23.621Z"
   },
   {
    "duration": 944,
    "start_time": "2024-04-09T23:38:34.701Z"
   },
   {
    "duration": 11,
    "start_time": "2024-04-09T23:39:11.494Z"
   },
   {
    "duration": 10,
    "start_time": "2024-04-09T23:39:40.663Z"
   },
   {
    "duration": 9,
    "start_time": "2024-04-09T23:39:49.868Z"
   },
   {
    "duration": 12,
    "start_time": "2024-04-09T23:40:00.478Z"
   },
   {
    "duration": 10,
    "start_time": "2024-04-09T23:40:15.343Z"
   },
   {
    "duration": 10,
    "start_time": "2024-04-09T23:40:46.265Z"
   },
   {
    "duration": 9,
    "start_time": "2024-04-09T23:41:03.149Z"
   },
   {
    "duration": 9,
    "start_time": "2024-04-09T23:41:12.993Z"
   },
   {
    "duration": 9,
    "start_time": "2024-04-09T23:41:34.869Z"
   },
   {
    "duration": 8,
    "start_time": "2024-04-09T23:42:07.353Z"
   },
   {
    "duration": 10,
    "start_time": "2024-04-09T23:42:32.571Z"
   },
   {
    "duration": 10,
    "start_time": "2024-04-09T23:42:59.725Z"
   },
   {
    "duration": 9,
    "start_time": "2024-04-09T23:44:09.247Z"
   },
   {
    "duration": 646,
    "start_time": "2024-04-09T23:44:22.510Z"
   },
   {
    "duration": 11,
    "start_time": "2024-04-09T23:44:53.482Z"
   },
   {
    "duration": 481,
    "start_time": "2024-04-09T23:44:59.830Z"
   },
   {
    "duration": 747,
    "start_time": "2024-04-09T23:47:42.480Z"
   },
   {
    "duration": 12,
    "start_time": "2024-04-09T23:48:39.959Z"
   },
   {
    "duration": 454,
    "start_time": "2024-04-09T23:49:22.365Z"
   },
   {
    "duration": 447,
    "start_time": "2024-04-09T23:50:18.435Z"
   },
   {
    "duration": 463,
    "start_time": "2024-04-09T23:50:32.370Z"
   },
   {
    "duration": 1958,
    "start_time": "2024-04-09T23:51:37.871Z"
   },
   {
    "duration": 473,
    "start_time": "2024-04-09T23:51:43.229Z"
   },
   {
    "duration": 457,
    "start_time": "2024-04-09T23:55:46.594Z"
   },
   {
    "duration": 438,
    "start_time": "2024-04-09T23:58:24.418Z"
   },
   {
    "duration": 426,
    "start_time": "2024-04-09T23:58:38.343Z"
   },
   {
    "duration": 735,
    "start_time": "2024-04-09T23:58:50.661Z"
   },
   {
    "duration": 11,
    "start_time": "2024-04-09T23:59:41.665Z"
   },
   {
    "duration": 345,
    "start_time": "2024-04-09T23:59:43.556Z"
   },
   {
    "duration": 8,
    "start_time": "2024-04-10T00:01:13.459Z"
   },
   {
    "duration": 21,
    "start_time": "2024-04-10T00:01:46.801Z"
   },
   {
    "duration": 240,
    "start_time": "2024-04-10T00:02:12.771Z"
   },
   {
    "duration": 9,
    "start_time": "2024-04-10T00:02:26.539Z"
   },
   {
    "duration": 8,
    "start_time": "2024-04-10T00:02:30.240Z"
   },
   {
    "duration": 14,
    "start_time": "2024-04-10T00:02:36.498Z"
   },
   {
    "duration": 12,
    "start_time": "2024-04-10T00:03:05.661Z"
   },
   {
    "duration": 462,
    "start_time": "2024-04-10T00:03:06.201Z"
   },
   {
    "duration": 7,
    "start_time": "2024-04-10T00:03:58.630Z"
   },
   {
    "duration": 265,
    "start_time": "2024-04-10T00:04:04.551Z"
   },
   {
    "duration": 11,
    "start_time": "2024-04-10T00:04:29.842Z"
   },
   {
    "duration": 270,
    "start_time": "2024-04-10T00:04:30.342Z"
   },
   {
    "duration": 13,
    "start_time": "2024-04-10T00:04:39.670Z"
   },
   {
    "duration": 12,
    "start_time": "2024-04-10T00:05:03.683Z"
   },
   {
    "duration": 11,
    "start_time": "2024-04-10T00:05:28.023Z"
   },
   {
    "duration": 425,
    "start_time": "2024-04-10T00:05:29.017Z"
   },
   {
    "duration": 6,
    "start_time": "2024-04-10T00:05:49.336Z"
   },
   {
    "duration": 263,
    "start_time": "2024-04-10T00:05:50.125Z"
   },
   {
    "duration": 12,
    "start_time": "2024-04-10T00:06:02.995Z"
   },
   {
    "duration": 448,
    "start_time": "2024-04-10T00:06:03.546Z"
   },
   {
    "duration": 6,
    "start_time": "2024-04-10T00:07:15.700Z"
   },
   {
    "duration": 265,
    "start_time": "2024-04-10T00:07:23.144Z"
   },
   {
    "duration": 4,
    "start_time": "2024-04-10T00:08:57.716Z"
   },
   {
    "duration": 8,
    "start_time": "2024-04-10T00:09:04.398Z"
   },
   {
    "duration": 74,
    "start_time": "2024-04-10T00:10:30.694Z"
   },
   {
    "duration": 16,
    "start_time": "2024-04-10T00:10:36.624Z"
   },
   {
    "duration": 244,
    "start_time": "2024-04-10T00:10:47.909Z"
   },
   {
    "duration": 267,
    "start_time": "2024-04-10T00:11:24.976Z"
   },
   {
    "duration": 9,
    "start_time": "2024-04-10T00:11:26.741Z"
   },
   {
    "duration": 437,
    "start_time": "2024-04-10T00:11:29.713Z"
   },
   {
    "duration": 238,
    "start_time": "2024-04-10T00:12:57.384Z"
   },
   {
    "duration": 238,
    "start_time": "2024-04-10T00:13:27.916Z"
   },
   {
    "duration": 243,
    "start_time": "2024-04-10T00:13:40.312Z"
   },
   {
    "duration": 252,
    "start_time": "2024-04-10T00:14:28.806Z"
   },
   {
    "duration": 1138,
    "start_time": "2024-04-10T00:14:55.757Z"
   },
   {
    "duration": 8,
    "start_time": "2024-04-10T00:15:44.231Z"
   },
   {
    "duration": 1150,
    "start_time": "2024-04-10T00:16:22.758Z"
   },
   {
    "duration": 232,
    "start_time": "2024-04-10T00:16:29.735Z"
   },
   {
    "duration": 745,
    "start_time": "2024-04-10T00:16:31.963Z"
   },
   {
    "duration": 244,
    "start_time": "2024-04-10T00:17:31.697Z"
   },
   {
    "duration": 451,
    "start_time": "2024-04-10T00:17:32.974Z"
   },
   {
    "duration": 236,
    "start_time": "2024-04-10T00:18:15.650Z"
   },
   {
    "duration": 446,
    "start_time": "2024-04-10T00:18:16.126Z"
   },
   {
    "duration": 293,
    "start_time": "2024-04-10T00:19:26.402Z"
   },
   {
    "duration": 285,
    "start_time": "2024-04-10T00:19:26.933Z"
   },
   {
    "duration": 242,
    "start_time": "2024-04-10T00:19:45.316Z"
   },
   {
    "duration": 425,
    "start_time": "2024-04-10T00:19:45.720Z"
   },
   {
    "duration": 235,
    "start_time": "2024-04-10T00:20:27.987Z"
   },
   {
    "duration": 274,
    "start_time": "2024-04-10T00:20:28.425Z"
   },
   {
    "duration": 241,
    "start_time": "2024-04-10T00:20:42.518Z"
   },
   {
    "duration": 338,
    "start_time": "2024-04-10T00:20:42.938Z"
   },
   {
    "duration": 237,
    "start_time": "2024-04-10T00:20:52.942Z"
   },
   {
    "duration": 457,
    "start_time": "2024-04-10T00:20:53.346Z"
   },
   {
    "duration": 401,
    "start_time": "2024-04-10T00:22:07.026Z"
   },
   {
    "duration": 702,
    "start_time": "2024-04-10T00:23:07.730Z"
   },
   {
    "duration": 396,
    "start_time": "2024-04-10T00:23:30.381Z"
   },
   {
    "duration": 438,
    "start_time": "2024-04-10T00:23:42.876Z"
   },
   {
    "duration": 421,
    "start_time": "2024-04-10T00:23:55.664Z"
   },
   {
    "duration": 28,
    "start_time": "2024-04-10T00:25:03.918Z"
   },
   {
    "duration": 19,
    "start_time": "2024-04-10T00:25:21.561Z"
   },
   {
    "duration": 22,
    "start_time": "2024-04-10T00:25:49.184Z"
   },
   {
    "duration": 27,
    "start_time": "2024-04-10T00:26:02.680Z"
   },
   {
    "duration": 27,
    "start_time": "2024-04-10T00:27:34.754Z"
   },
   {
    "duration": 984,
    "start_time": "2024-04-10T00:27:51.201Z"
   },
   {
    "duration": 403,
    "start_time": "2024-04-10T00:28:44.888Z"
   },
   {
    "duration": 1032,
    "start_time": "2024-04-10T00:28:59.006Z"
   },
   {
    "duration": 1055,
    "start_time": "2024-04-10T00:29:32.601Z"
   },
   {
    "duration": 1008,
    "start_time": "2024-04-10T00:31:35.000Z"
   },
   {
    "duration": 997,
    "start_time": "2024-04-10T00:32:10.913Z"
   },
   {
    "duration": 1153,
    "start_time": "2024-04-10T00:32:35.856Z"
   },
   {
    "duration": 30,
    "start_time": "2024-04-10T00:32:37.010Z"
   },
   {
    "duration": 4,
    "start_time": "2024-04-10T00:32:37.041Z"
   },
   {
    "duration": 11,
    "start_time": "2024-04-10T00:32:37.047Z"
   },
   {
    "duration": 3,
    "start_time": "2024-04-10T00:32:37.060Z"
   },
   {
    "duration": 788,
    "start_time": "2024-04-10T00:32:37.065Z"
   },
   {
    "duration": 27,
    "start_time": "2024-04-10T00:32:37.854Z"
   },
   {
    "duration": 590,
    "start_time": "2024-04-10T00:32:37.882Z"
   },
   {
    "duration": 7,
    "start_time": "2024-04-10T00:32:38.473Z"
   },
   {
    "duration": 18,
    "start_time": "2024-04-10T00:32:38.482Z"
   },
   {
    "duration": 299,
    "start_time": "2024-04-10T00:32:38.501Z"
   },
   {
    "duration": 242,
    "start_time": "2024-04-10T00:32:38.801Z"
   },
   {
    "duration": 1235,
    "start_time": "2024-04-10T00:32:39.045Z"
   },
   {
    "duration": 925,
    "start_time": "2024-04-10T00:33:06.508Z"
   },
   {
    "duration": 1082,
    "start_time": "2024-04-10T00:33:12.116Z"
   },
   {
    "duration": 30,
    "start_time": "2024-04-10T00:33:13.199Z"
   },
   {
    "duration": 5,
    "start_time": "2024-04-10T00:33:13.230Z"
   },
   {
    "duration": 12,
    "start_time": "2024-04-10T00:33:13.237Z"
   },
   {
    "duration": 4,
    "start_time": "2024-04-10T00:33:13.250Z"
   },
   {
    "duration": 791,
    "start_time": "2024-04-10T00:33:13.255Z"
   },
   {
    "duration": 31,
    "start_time": "2024-04-10T00:33:14.048Z"
   },
   {
    "duration": 593,
    "start_time": "2024-04-10T00:33:14.081Z"
   },
   {
    "duration": 9,
    "start_time": "2024-04-10T00:33:14.676Z"
   },
   {
    "duration": 19,
    "start_time": "2024-04-10T00:33:14.687Z"
   },
   {
    "duration": 296,
    "start_time": "2024-04-10T00:33:14.707Z"
   },
   {
    "duration": 253,
    "start_time": "2024-04-10T00:33:15.005Z"
   },
   {
    "duration": 1138,
    "start_time": "2024-04-10T00:33:15.260Z"
   },
   {
    "duration": 935,
    "start_time": "2024-04-10T00:33:21.921Z"
   },
   {
    "duration": 971,
    "start_time": "2024-04-10T00:33:51.509Z"
   },
   {
    "duration": 449,
    "start_time": "2024-04-10T00:33:59.907Z"
   },
   {
    "duration": 9,
    "start_time": "2024-04-10T00:34:50.360Z"
   },
   {
    "duration": 1053,
    "start_time": "2024-04-10T00:35:18.693Z"
   },
   {
    "duration": 438,
    "start_time": "2024-04-10T00:36:02.947Z"
   },
   {
    "duration": 44,
    "start_time": "2024-04-10T12:02:16.925Z"
   },
   {
    "duration": 47,
    "start_time": "2024-04-10T12:02:25.567Z"
   },
   {
    "duration": 21,
    "start_time": "2024-04-10T12:02:25.615Z"
   },
   {
    "duration": 6,
    "start_time": "2024-04-10T12:02:25.637Z"
   },
   {
    "duration": 22,
    "start_time": "2024-04-10T12:02:25.645Z"
   },
   {
    "duration": 7,
    "start_time": "2024-04-10T12:02:25.668Z"
   },
   {
    "duration": 699,
    "start_time": "2024-04-10T12:02:25.677Z"
   },
   {
    "duration": 37,
    "start_time": "2024-04-10T12:02:26.378Z"
   },
   {
    "duration": 550,
    "start_time": "2024-04-10T12:02:26.416Z"
   },
   {
    "duration": 5,
    "start_time": "2024-04-10T12:02:26.968Z"
   },
   {
    "duration": 51,
    "start_time": "2024-04-10T12:02:26.975Z"
   },
   {
    "duration": 280,
    "start_time": "2024-04-10T12:02:27.027Z"
   },
   {
    "duration": 4,
    "start_time": "2024-04-10T12:02:27.308Z"
   },
   {
    "duration": 192,
    "start_time": "2024-04-10T12:02:27.313Z"
   },
   {
    "duration": 391,
    "start_time": "2024-04-10T12:02:27.506Z"
   },
   {
    "duration": 1021,
    "start_time": "2024-04-10T12:04:50.752Z"
   },
   {
    "duration": 24,
    "start_time": "2024-04-10T12:04:51.774Z"
   },
   {
    "duration": 17,
    "start_time": "2024-04-10T12:04:51.800Z"
   },
   {
    "duration": 27,
    "start_time": "2024-04-10T12:04:51.819Z"
   },
   {
    "duration": 28,
    "start_time": "2024-04-10T12:04:51.848Z"
   },
   {
    "duration": 726,
    "start_time": "2024-04-10T12:04:51.878Z"
   },
   {
    "duration": 24,
    "start_time": "2024-04-10T12:04:52.606Z"
   },
   {
    "duration": 546,
    "start_time": "2024-04-10T12:04:52.632Z"
   },
   {
    "duration": 7,
    "start_time": "2024-04-10T12:04:53.179Z"
   },
   {
    "duration": 38,
    "start_time": "2024-04-10T12:04:53.188Z"
   },
   {
    "duration": 255,
    "start_time": "2024-04-10T12:04:53.227Z"
   },
   {
    "duration": 4,
    "start_time": "2024-04-10T12:04:53.483Z"
   },
   {
    "duration": 244,
    "start_time": "2024-04-10T12:04:53.489Z"
   },
   {
    "duration": 600,
    "start_time": "2024-04-10T12:04:53.735Z"
   },
   {
    "duration": 341,
    "start_time": "2024-04-10T12:05:57.291Z"
   },
   {
    "duration": 394,
    "start_time": "2024-04-10T12:06:07.178Z"
   },
   {
    "duration": 445,
    "start_time": "2024-04-10T12:06:27.186Z"
   },
   {
    "duration": 190,
    "start_time": "2024-04-10T12:07:21.030Z"
   },
   {
    "duration": 310,
    "start_time": "2024-04-10T12:07:28.257Z"
   },
   {
    "duration": 188,
    "start_time": "2024-04-10T12:07:53.636Z"
   },
   {
    "duration": 396,
    "start_time": "2024-04-10T12:07:53.966Z"
   },
   {
    "duration": 184,
    "start_time": "2024-04-10T12:25:09.405Z"
   },
   {
    "duration": 624,
    "start_time": "2024-04-10T12:25:09.920Z"
   },
   {
    "duration": 186,
    "start_time": "2024-04-10T12:25:39.207Z"
   },
   {
    "duration": 455,
    "start_time": "2024-04-10T12:25:40.418Z"
   },
   {
    "duration": 193,
    "start_time": "2024-04-10T13:00:44.207Z"
   },
   {
    "duration": 599,
    "start_time": "2024-04-10T13:00:44.701Z"
   },
   {
    "duration": 253,
    "start_time": "2024-04-10T13:00:55.507Z"
   },
   {
    "duration": 480,
    "start_time": "2024-04-10T13:00:55.984Z"
   },
   {
    "duration": 201,
    "start_time": "2024-04-10T13:01:07.117Z"
   },
   {
    "duration": 673,
    "start_time": "2024-04-10T13:01:07.558Z"
   },
   {
    "duration": 194,
    "start_time": "2024-04-10T13:01:26.871Z"
   },
   {
    "duration": 390,
    "start_time": "2024-04-10T13:01:27.391Z"
   },
   {
    "duration": 416,
    "start_time": "2024-04-10T13:19:58.659Z"
   },
   {
    "duration": 404,
    "start_time": "2024-04-10T13:20:05.934Z"
   },
   {
    "duration": 4,
    "start_time": "2024-04-10T13:24:55.380Z"
   },
   {
    "duration": 10,
    "start_time": "2024-04-10T13:25:58.440Z"
   },
   {
    "duration": 188,
    "start_time": "2024-04-10T13:26:08.555Z"
   },
   {
    "duration": 275,
    "start_time": "2024-04-10T13:27:43.833Z"
   },
   {
    "duration": 183,
    "start_time": "2024-04-10T13:28:55.338Z"
   },
   {
    "duration": 87,
    "start_time": "2024-04-10T13:29:13.612Z"
   },
   {
    "duration": 182,
    "start_time": "2024-04-10T13:29:28.828Z"
   },
   {
    "duration": 190,
    "start_time": "2024-04-10T13:31:12.646Z"
   },
   {
    "duration": 197,
    "start_time": "2024-04-10T13:31:56.233Z"
   },
   {
    "duration": 264,
    "start_time": "2024-04-10T13:32:54.298Z"
   },
   {
    "duration": 194,
    "start_time": "2024-04-10T13:33:08.779Z"
   },
   {
    "duration": 71,
    "start_time": "2024-04-10T13:35:48.244Z"
   },
   {
    "duration": 101,
    "start_time": "2024-04-10T13:36:01.917Z"
   },
   {
    "duration": 190,
    "start_time": "2024-04-10T13:43:01.850Z"
   },
   {
    "duration": 193,
    "start_time": "2024-04-10T13:43:13.381Z"
   },
   {
    "duration": 187,
    "start_time": "2024-04-10T13:43:20.474Z"
   },
   {
    "duration": 271,
    "start_time": "2024-04-10T13:44:02.452Z"
   },
   {
    "duration": 216,
    "start_time": "2024-04-10T13:47:05.918Z"
   },
   {
    "duration": 211,
    "start_time": "2024-04-10T13:47:27.911Z"
   },
   {
    "duration": 214,
    "start_time": "2024-04-10T13:47:37.754Z"
   },
   {
    "duration": 210,
    "start_time": "2024-04-10T13:47:54.382Z"
   },
   {
    "duration": 212,
    "start_time": "2024-04-10T13:51:26.621Z"
   },
   {
    "duration": 288,
    "start_time": "2024-04-10T13:52:29.641Z"
   },
   {
    "duration": 204,
    "start_time": "2024-04-10T13:52:58.762Z"
   },
   {
    "duration": 1035,
    "start_time": "2024-04-10T13:53:50.731Z"
   },
   {
    "duration": 24,
    "start_time": "2024-04-10T13:53:51.768Z"
   },
   {
    "duration": 4,
    "start_time": "2024-04-10T13:53:51.793Z"
   },
   {
    "duration": 16,
    "start_time": "2024-04-10T13:53:51.799Z"
   },
   {
    "duration": 3,
    "start_time": "2024-04-10T13:53:51.817Z"
   },
   {
    "duration": 702,
    "start_time": "2024-04-10T13:53:51.821Z"
   },
   {
    "duration": 23,
    "start_time": "2024-04-10T13:53:52.524Z"
   },
   {
    "duration": 505,
    "start_time": "2024-04-10T13:53:52.548Z"
   },
   {
    "duration": 7,
    "start_time": "2024-04-10T13:53:53.054Z"
   },
   {
    "duration": 29,
    "start_time": "2024-04-10T13:53:53.062Z"
   },
   {
    "duration": 250,
    "start_time": "2024-04-10T13:53:53.093Z"
   },
   {
    "duration": 4,
    "start_time": "2024-04-10T13:53:53.345Z"
   },
   {
    "duration": 224,
    "start_time": "2024-04-10T13:53:53.350Z"
   },
   {
    "duration": 459,
    "start_time": "2024-04-10T13:53:53.576Z"
   },
   {
    "duration": 228,
    "start_time": "2024-04-10T13:53:54.037Z"
   },
   {
    "duration": 208,
    "start_time": "2024-04-10T13:53:54.267Z"
   },
   {
    "duration": 206,
    "start_time": "2024-04-10T13:55:13.735Z"
   },
   {
    "duration": 280,
    "start_time": "2024-04-10T13:55:37.799Z"
   },
   {
    "duration": 1576,
    "start_time": "2024-04-10T22:17:54.040Z"
   },
   {
    "duration": 33,
    "start_time": "2024-04-10T22:17:55.618Z"
   },
   {
    "duration": 5,
    "start_time": "2024-04-10T22:17:55.652Z"
   },
   {
    "duration": 8,
    "start_time": "2024-04-10T22:17:55.658Z"
   },
   {
    "duration": 6,
    "start_time": "2024-04-10T22:17:55.667Z"
   },
   {
    "duration": 999,
    "start_time": "2024-04-10T22:17:55.674Z"
   },
   {
    "duration": 33,
    "start_time": "2024-04-10T22:17:56.674Z"
   },
   {
    "duration": 708,
    "start_time": "2024-04-10T22:17:56.708Z"
   },
   {
    "duration": 8,
    "start_time": "2024-04-10T22:17:57.417Z"
   },
   {
    "duration": 16,
    "start_time": "2024-04-10T22:17:57.428Z"
   },
   {
    "duration": 353,
    "start_time": "2024-04-10T22:17:57.445Z"
   },
   {
    "duration": 5,
    "start_time": "2024-04-10T22:17:57.800Z"
   },
   {
    "duration": 258,
    "start_time": "2024-04-10T22:17:57.807Z"
   },
   {
    "duration": 623,
    "start_time": "2024-04-10T22:17:58.067Z"
   },
   {
    "duration": 277,
    "start_time": "2024-04-10T22:17:58.691Z"
   },
   {
    "duration": 261,
    "start_time": "2024-04-10T22:17:58.970Z"
   },
   {
    "duration": 266,
    "start_time": "2024-04-10T22:17:59.233Z"
   },
   {
    "duration": 109,
    "start_time": "2024-04-10T22:26:21.939Z"
   },
   {
    "duration": 9,
    "start_time": "2024-04-10T22:26:26.817Z"
   },
   {
    "duration": 6,
    "start_time": "2024-04-10T22:27:07.999Z"
   },
   {
    "duration": 352,
    "start_time": "2024-04-10T22:27:36.763Z"
   },
   {
    "duration": 908,
    "start_time": "2024-04-10T23:01:12.608Z"
   },
   {
    "duration": 1116,
    "start_time": "2024-04-10T23:02:02.296Z"
   },
   {
    "duration": 1238,
    "start_time": "2024-04-10T23:02:31.022Z"
   },
   {
    "duration": 1116,
    "start_time": "2024-04-10T23:09:54.810Z"
   },
   {
    "duration": 2484,
    "start_time": "2024-04-10T23:13:25.935Z"
   },
   {
    "duration": 1050,
    "start_time": "2024-04-10T23:18:49.827Z"
   },
   {
    "duration": 120,
    "start_time": "2024-04-10T23:20:08.199Z"
   },
   {
    "duration": 1077,
    "start_time": "2024-04-10T23:20:14.611Z"
   },
   {
    "duration": 1097,
    "start_time": "2024-04-10T23:20:39.161Z"
   },
   {
    "duration": 4,
    "start_time": "2024-04-10T23:21:00.079Z"
   },
   {
    "duration": 5,
    "start_time": "2024-04-10T23:21:16.503Z"
   },
   {
    "duration": 94,
    "start_time": "2024-04-10T23:21:30.478Z"
   },
   {
    "duration": 4,
    "start_time": "2024-04-10T23:21:48.985Z"
   },
   {
    "duration": 4,
    "start_time": "2024-04-10T23:21:58.371Z"
   },
   {
    "duration": 120,
    "start_time": "2024-04-10T23:22:11.487Z"
   },
   {
    "duration": 127,
    "start_time": "2024-04-10T23:23:36.617Z"
   },
   {
    "duration": 198,
    "start_time": "2024-04-10T23:23:42.844Z"
   },
   {
    "duration": 1049,
    "start_time": "2024-04-10T23:23:51.959Z"
   },
   {
    "duration": 117,
    "start_time": "2024-04-10T23:24:11.346Z"
   },
   {
    "duration": 14,
    "start_time": "2024-04-10T23:25:14.626Z"
   },
   {
    "duration": 1176,
    "start_time": "2024-04-10T23:25:24.057Z"
   },
   {
    "duration": 1766,
    "start_time": "2024-04-10T23:28:17.228Z"
   },
   {
    "duration": 538,
    "start_time": "2024-04-10T23:28:30.147Z"
   },
   {
    "duration": 674,
    "start_time": "2024-04-10T23:29:10.723Z"
   },
   {
    "duration": 506,
    "start_time": "2024-04-10T23:29:46.945Z"
   },
   {
    "duration": 519,
    "start_time": "2024-04-10T23:30:14.576Z"
   },
   {
    "duration": 126,
    "start_time": "2024-04-10T23:31:37.340Z"
   },
   {
    "duration": 232,
    "start_time": "2024-04-10T23:31:50.499Z"
   },
   {
    "duration": 645,
    "start_time": "2024-04-10T23:32:06.742Z"
   },
   {
    "duration": 419,
    "start_time": "2024-04-10T23:32:14.896Z"
   },
   {
    "duration": 93,
    "start_time": "2024-04-10T23:33:16.245Z"
   },
   {
    "duration": 417,
    "start_time": "2024-04-10T23:33:24.603Z"
   },
   {
    "duration": 462,
    "start_time": "2024-04-10T23:33:47.825Z"
   },
   {
    "duration": 461,
    "start_time": "2024-04-10T23:33:56.044Z"
   },
   {
    "duration": 468,
    "start_time": "2024-04-10T23:34:03.075Z"
   },
   {
    "duration": 518,
    "start_time": "2024-04-10T23:34:13.823Z"
   },
   {
    "duration": 421,
    "start_time": "2024-04-10T23:34:28.561Z"
   },
   {
    "duration": 51,
    "start_time": "2024-04-11T11:09:16.817Z"
   },
   {
    "duration": 1687,
    "start_time": "2024-04-11T11:09:29.482Z"
   },
   {
    "duration": 37,
    "start_time": "2024-04-11T11:09:31.171Z"
   },
   {
    "duration": 66,
    "start_time": "2024-04-11T11:09:31.210Z"
   },
   {
    "duration": 90,
    "start_time": "2024-04-11T11:09:31.278Z"
   },
   {
    "duration": 27,
    "start_time": "2024-04-11T11:09:31.369Z"
   },
   {
    "duration": 64,
    "start_time": "2024-04-11T11:09:31.397Z"
   },
   {
    "duration": 83,
    "start_time": "2024-04-11T11:09:31.462Z"
   },
   {
    "duration": 1007,
    "start_time": "2024-04-11T11:09:31.546Z"
   },
   {
    "duration": 50,
    "start_time": "2024-04-11T11:09:32.555Z"
   },
   {
    "duration": 674,
    "start_time": "2024-04-11T11:09:32.608Z"
   },
   {
    "duration": 9,
    "start_time": "2024-04-11T11:09:33.284Z"
   },
   {
    "duration": 18,
    "start_time": "2024-04-11T11:09:33.294Z"
   },
   {
    "duration": 377,
    "start_time": "2024-04-11T11:09:33.313Z"
   },
   {
    "duration": 5,
    "start_time": "2024-04-11T11:09:33.692Z"
   },
   {
    "duration": 302,
    "start_time": "2024-04-11T11:09:33.699Z"
   },
   {
    "duration": 649,
    "start_time": "2024-04-11T11:09:34.004Z"
   },
   {
    "duration": 284,
    "start_time": "2024-04-11T11:09:34.655Z"
   },
   {
    "duration": 443,
    "start_time": "2024-04-11T11:09:34.941Z"
   },
   {
    "duration": 448,
    "start_time": "2024-04-11T11:09:35.386Z"
   },
   {
    "duration": 524,
    "start_time": "2024-04-11T11:09:35.836Z"
   },
   {
    "duration": 119,
    "start_time": "2024-04-11T11:31:21.352Z"
   },
   {
    "duration": 1589,
    "start_time": "2024-04-11T11:31:32.378Z"
   },
   {
    "duration": 2188,
    "start_time": "2024-04-11T11:32:26.136Z"
   },
   {
    "duration": 731,
    "start_time": "2024-04-11T11:47:46.401Z"
   },
   {
    "duration": 651,
    "start_time": "2024-04-11T11:52:35.293Z"
   },
   {
    "duration": 17,
    "start_time": "2024-04-11T11:57:09.047Z"
   },
   {
    "duration": 745,
    "start_time": "2024-04-11T11:57:26.837Z"
   },
   {
    "duration": 17,
    "start_time": "2024-04-11T11:57:34.793Z"
   },
   {
    "duration": 680,
    "start_time": "2024-04-11T11:57:40.753Z"
   },
   {
    "duration": 753,
    "start_time": "2024-04-11T11:57:46.694Z"
   },
   {
    "duration": 869,
    "start_time": "2024-04-11T11:58:04.922Z"
   },
   {
    "duration": 701,
    "start_time": "2024-04-11T11:58:50.037Z"
   },
   {
    "duration": 97,
    "start_time": "2024-04-11T11:59:15.474Z"
   },
   {
    "duration": 93,
    "start_time": "2024-04-11T11:59:21.691Z"
   },
   {
    "duration": 706,
    "start_time": "2024-04-11T11:59:29.947Z"
   },
   {
    "duration": 738,
    "start_time": "2024-04-11T12:05:55.468Z"
   },
   {
    "duration": 15,
    "start_time": "2024-04-11T12:06:17.181Z"
   },
   {
    "duration": 154,
    "start_time": "2024-04-11T12:07:43.666Z"
   },
   {
    "duration": 998,
    "start_time": "2024-04-11T12:08:00.378Z"
   },
   {
    "duration": 1324,
    "start_time": "2024-04-11T12:08:31.907Z"
   },
   {
    "duration": 34,
    "start_time": "2024-04-11T12:08:33.233Z"
   },
   {
    "duration": 5,
    "start_time": "2024-04-11T12:08:33.268Z"
   },
   {
    "duration": 8,
    "start_time": "2024-04-11T12:08:33.275Z"
   },
   {
    "duration": 48,
    "start_time": "2024-04-11T12:08:33.284Z"
   },
   {
    "duration": 933,
    "start_time": "2024-04-11T12:08:33.334Z"
   },
   {
    "duration": 40,
    "start_time": "2024-04-11T12:08:34.269Z"
   },
   {
    "duration": 682,
    "start_time": "2024-04-11T12:08:34.311Z"
   },
   {
    "duration": 8,
    "start_time": "2024-04-11T12:08:34.995Z"
   },
   {
    "duration": 17,
    "start_time": "2024-04-11T12:08:35.006Z"
   },
   {
    "duration": 356,
    "start_time": "2024-04-11T12:08:35.024Z"
   },
   {
    "duration": 5,
    "start_time": "2024-04-11T12:08:35.382Z"
   },
   {
    "duration": 280,
    "start_time": "2024-04-11T12:08:35.389Z"
   },
   {
    "duration": 622,
    "start_time": "2024-04-11T12:08:35.671Z"
   },
   {
    "duration": 277,
    "start_time": "2024-04-11T12:08:36.294Z"
   },
   {
    "duration": 696,
    "start_time": "2024-04-11T12:08:36.573Z"
   },
   {
    "duration": 441,
    "start_time": "2024-04-11T12:08:37.271Z"
   },
   {
    "duration": 522,
    "start_time": "2024-04-11T12:08:37.714Z"
   },
   {
    "duration": 741,
    "start_time": "2024-04-11T12:09:00.390Z"
   },
   {
    "duration": 743,
    "start_time": "2024-04-11T12:12:44.297Z"
   },
   {
    "duration": 685,
    "start_time": "2024-04-11T12:13:50.247Z"
   },
   {
    "duration": 699,
    "start_time": "2024-04-11T12:25:10.743Z"
   },
   {
    "duration": 725,
    "start_time": "2024-04-11T12:25:26.074Z"
   },
   {
    "duration": 971,
    "start_time": "2024-04-11T12:28:21.218Z"
   },
   {
    "duration": 971,
    "start_time": "2024-04-11T12:28:28.770Z"
   },
   {
    "duration": 867,
    "start_time": "2024-04-11T12:28:33.426Z"
   },
   {
    "duration": 863,
    "start_time": "2024-04-11T12:28:45.836Z"
   },
   {
    "duration": 848,
    "start_time": "2024-04-11T12:28:54.549Z"
   },
   {
    "duration": 1061,
    "start_time": "2024-04-11T12:29:03.069Z"
   },
   {
    "duration": 619,
    "start_time": "2024-04-11T12:30:23.820Z"
   },
   {
    "duration": 764,
    "start_time": "2024-04-11T12:30:38.556Z"
   },
   {
    "duration": 839,
    "start_time": "2024-04-11T12:34:29.692Z"
   },
   {
    "duration": 11,
    "start_time": "2024-04-11T12:34:40.517Z"
   },
   {
    "duration": 781,
    "start_time": "2024-04-11T12:34:47.759Z"
   },
   {
    "duration": 882,
    "start_time": "2024-04-11T12:37:13.264Z"
   },
   {
    "duration": 667,
    "start_time": "2024-04-11T12:37:24.367Z"
   },
   {
    "duration": 727,
    "start_time": "2024-04-11T12:38:04.950Z"
   },
   {
    "duration": 412,
    "start_time": "2024-04-11T12:40:00.986Z"
   },
   {
    "duration": 333,
    "start_time": "2024-04-11T12:41:38.226Z"
   },
   {
    "duration": 538,
    "start_time": "2024-04-11T12:41:43.737Z"
   },
   {
    "duration": 413,
    "start_time": "2024-04-11T12:41:59.915Z"
   },
   {
    "duration": 414,
    "start_time": "2024-04-11T12:43:34.969Z"
   },
   {
    "duration": 411,
    "start_time": "2024-04-11T12:43:41.600Z"
   },
   {
    "duration": 737,
    "start_time": "2024-04-11T12:48:09.655Z"
   },
   {
    "duration": 777,
    "start_time": "2024-04-11T12:48:47.695Z"
   },
   {
    "duration": 39,
    "start_time": "2024-04-11T16:45:58.526Z"
   },
   {
    "duration": 1325,
    "start_time": "2024-04-11T16:46:13.967Z"
   },
   {
    "duration": 24,
    "start_time": "2024-04-11T16:46:15.294Z"
   },
   {
    "duration": 39,
    "start_time": "2024-04-11T16:46:15.319Z"
   },
   {
    "duration": 23,
    "start_time": "2024-04-11T16:46:15.360Z"
   },
   {
    "duration": 16,
    "start_time": "2024-04-11T16:46:15.384Z"
   },
   {
    "duration": 779,
    "start_time": "2024-04-11T16:46:15.401Z"
   },
   {
    "duration": 24,
    "start_time": "2024-04-11T16:46:16.181Z"
   },
   {
    "duration": 470,
    "start_time": "2024-04-11T16:46:16.206Z"
   },
   {
    "duration": 11,
    "start_time": "2024-04-11T16:46:16.678Z"
   },
   {
    "duration": 13,
    "start_time": "2024-04-11T16:46:16.691Z"
   },
   {
    "duration": 254,
    "start_time": "2024-04-11T16:46:16.705Z"
   },
   {
    "duration": 5,
    "start_time": "2024-04-11T16:46:16.960Z"
   },
   {
    "duration": 196,
    "start_time": "2024-04-11T16:46:16.966Z"
   },
   {
    "duration": 441,
    "start_time": "2024-04-11T16:46:17.164Z"
   },
   {
    "duration": 196,
    "start_time": "2024-04-11T16:46:17.606Z"
   },
   {
    "duration": 303,
    "start_time": "2024-04-11T16:46:17.803Z"
   },
   {
    "duration": 296,
    "start_time": "2024-04-11T16:46:18.107Z"
   },
   {
    "duration": 644,
    "start_time": "2024-04-11T16:46:18.404Z"
   },
   {
    "duration": 556,
    "start_time": "2024-04-11T16:48:13.863Z"
   },
   {
    "duration": 543,
    "start_time": "2024-04-11T16:51:18.294Z"
   },
   {
    "duration": 569,
    "start_time": "2024-04-11T16:53:20.304Z"
   },
   {
    "duration": 627,
    "start_time": "2024-04-11T16:53:39.635Z"
   },
   {
    "duration": 577,
    "start_time": "2024-04-11T16:53:59.452Z"
   },
   {
    "duration": 737,
    "start_time": "2024-04-11T16:58:08.168Z"
   },
   {
    "duration": 576,
    "start_time": "2024-04-11T16:58:34.041Z"
   },
   {
    "duration": 585,
    "start_time": "2024-04-11T16:59:52.023Z"
   },
   {
    "duration": 536,
    "start_time": "2024-04-11T17:00:18.994Z"
   },
   {
    "duration": 8,
    "start_time": "2024-04-11T17:15:35.793Z"
   },
   {
    "duration": 11,
    "start_time": "2024-04-11T17:16:14.170Z"
   },
   {
    "duration": 19,
    "start_time": "2024-04-11T17:17:15.888Z"
   },
   {
    "duration": 10,
    "start_time": "2024-04-11T17:19:59.144Z"
   },
   {
    "duration": 12,
    "start_time": "2024-04-11T17:20:09.953Z"
   },
   {
    "duration": 58,
    "start_time": "2024-04-11T17:20:38.041Z"
   },
   {
    "duration": 12,
    "start_time": "2024-04-11T17:21:04.626Z"
   },
   {
    "duration": 16,
    "start_time": "2024-04-11T17:21:31.040Z"
   },
   {
    "duration": 11,
    "start_time": "2024-04-11T17:21:46.623Z"
   },
   {
    "duration": 12,
    "start_time": "2024-04-11T17:22:03.774Z"
   },
   {
    "duration": 12,
    "start_time": "2024-04-11T17:22:09.402Z"
   },
   {
    "duration": 16,
    "start_time": "2024-04-11T17:26:09.460Z"
   },
   {
    "duration": 15,
    "start_time": "2024-04-11T17:26:16.927Z"
   },
   {
    "duration": 41,
    "start_time": "2024-04-11T17:26:23.730Z"
   },
   {
    "duration": 26,
    "start_time": "2024-04-11T17:27:22.387Z"
   },
   {
    "duration": 20,
    "start_time": "2024-04-11T17:27:47.347Z"
   },
   {
    "duration": 22,
    "start_time": "2024-04-11T17:28:35.119Z"
   },
   {
    "duration": 159,
    "start_time": "2024-04-11T17:30:18.668Z"
   },
   {
    "duration": 232,
    "start_time": "2024-04-11T17:30:28.716Z"
   },
   {
    "duration": 86,
    "start_time": "2024-04-11T17:32:04.481Z"
   },
   {
    "duration": 93,
    "start_time": "2024-04-11T17:34:07.229Z"
   },
   {
    "duration": 84,
    "start_time": "2024-04-11T17:34:19.387Z"
   },
   {
    "duration": 19,
    "start_time": "2024-04-11T17:34:46.749Z"
   },
   {
    "duration": 18,
    "start_time": "2024-04-11T17:35:17.533Z"
   },
   {
    "duration": 18,
    "start_time": "2024-04-11T17:36:28.443Z"
   },
   {
    "duration": 16,
    "start_time": "2024-04-11T17:36:43.877Z"
   },
   {
    "duration": 18,
    "start_time": "2024-04-11T17:36:56.086Z"
   },
   {
    "duration": 16,
    "start_time": "2024-04-11T17:38:02.820Z"
   },
   {
    "duration": 16,
    "start_time": "2024-04-11T17:40:47.865Z"
   },
   {
    "duration": 20,
    "start_time": "2024-04-11T17:41:24.357Z"
   },
   {
    "duration": 1057,
    "start_time": "2024-04-11T17:41:44.086Z"
   },
   {
    "duration": 27,
    "start_time": "2024-04-11T17:41:45.144Z"
   },
   {
    "duration": 30,
    "start_time": "2024-04-11T17:41:45.172Z"
   },
   {
    "duration": 64,
    "start_time": "2024-04-11T17:41:45.204Z"
   },
   {
    "duration": 74,
    "start_time": "2024-04-11T17:41:45.269Z"
   },
   {
    "duration": 823,
    "start_time": "2024-04-11T17:41:45.344Z"
   },
   {
    "duration": 28,
    "start_time": "2024-04-11T17:41:46.168Z"
   },
   {
    "duration": 490,
    "start_time": "2024-04-11T17:41:46.197Z"
   },
   {
    "duration": 8,
    "start_time": "2024-04-11T17:41:46.689Z"
   },
   {
    "duration": 46,
    "start_time": "2024-04-11T17:41:46.700Z"
   },
   {
    "duration": 262,
    "start_time": "2024-04-11T17:41:46.747Z"
   },
   {
    "duration": 4,
    "start_time": "2024-04-11T17:41:47.011Z"
   },
   {
    "duration": 239,
    "start_time": "2024-04-11T17:41:47.016Z"
   },
   {
    "duration": 465,
    "start_time": "2024-04-11T17:41:47.256Z"
   },
   {
    "duration": 219,
    "start_time": "2024-04-11T17:41:47.723Z"
   },
   {
    "duration": 591,
    "start_time": "2024-04-11T17:41:47.943Z"
   },
   {
    "duration": 615,
    "start_time": "2024-04-11T17:41:48.535Z"
   },
   {
    "duration": 18,
    "start_time": "2024-04-11T17:41:49.152Z"
   },
   {
    "duration": 46,
    "start_time": "2024-04-12T15:00:10.027Z"
   },
   {
    "duration": 1385,
    "start_time": "2024-04-12T15:00:16.195Z"
   },
   {
    "duration": 32,
    "start_time": "2024-04-12T15:00:17.582Z"
   },
   {
    "duration": 28,
    "start_time": "2024-04-12T15:00:17.616Z"
   },
   {
    "duration": 25,
    "start_time": "2024-04-12T15:00:17.646Z"
   },
   {
    "duration": 41,
    "start_time": "2024-04-12T15:00:17.673Z"
   },
   {
    "duration": 959,
    "start_time": "2024-04-12T15:00:17.715Z"
   },
   {
    "duration": 30,
    "start_time": "2024-04-12T15:00:18.676Z"
   },
   {
    "duration": 629,
    "start_time": "2024-04-12T15:00:18.707Z"
   },
   {
    "duration": 8,
    "start_time": "2024-04-12T15:00:19.338Z"
   },
   {
    "duration": 30,
    "start_time": "2024-04-12T15:00:19.348Z"
   },
   {
    "duration": 327,
    "start_time": "2024-04-12T15:00:19.379Z"
   },
   {
    "duration": 6,
    "start_time": "2024-04-12T15:00:19.708Z"
   },
   {
    "duration": 340,
    "start_time": "2024-04-12T15:00:19.715Z"
   },
   {
    "duration": 543,
    "start_time": "2024-04-12T15:00:20.057Z"
   },
   {
    "duration": 274,
    "start_time": "2024-04-12T15:00:20.602Z"
   },
   {
    "duration": 724,
    "start_time": "2024-04-12T15:00:20.877Z"
   },
   {
    "duration": 689,
    "start_time": "2024-04-12T15:00:21.602Z"
   },
   {
    "duration": 21,
    "start_time": "2024-04-12T15:00:22.293Z"
   },
   {
    "duration": 30,
    "start_time": "2024-04-12T15:00:36.152Z"
   },
   {
    "duration": 23,
    "start_time": "2024-04-12T15:00:58.252Z"
   },
   {
    "duration": 998,
    "start_time": "2024-04-12T15:04:30.078Z"
   },
   {
    "duration": 22,
    "start_time": "2024-04-12T15:04:48.000Z"
   },
   {
    "duration": 21,
    "start_time": "2024-04-12T15:05:01.012Z"
   },
   {
    "duration": 20,
    "start_time": "2024-04-12T15:05:13.825Z"
   },
   {
    "duration": 58,
    "start_time": "2024-04-12T15:07:20.316Z"
   },
   {
    "duration": 46,
    "start_time": "2024-04-12T15:08:04.271Z"
   },
   {
    "duration": 29,
    "start_time": "2024-04-12T15:08:58.344Z"
   },
   {
    "duration": 19,
    "start_time": "2024-04-12T15:10:28.554Z"
   },
   {
    "duration": 37,
    "start_time": "2024-04-12T15:11:38.501Z"
   },
   {
    "duration": 992,
    "start_time": "2024-04-12T15:12:24.565Z"
   },
   {
    "duration": 27,
    "start_time": "2024-04-12T15:27:43.590Z"
   },
   {
    "duration": 1739,
    "start_time": "2024-04-12T22:47:30.196Z"
   },
   {
    "duration": 35,
    "start_time": "2024-04-12T22:47:31.937Z"
   },
   {
    "duration": 7,
    "start_time": "2024-04-12T22:47:31.981Z"
   },
   {
    "duration": 63,
    "start_time": "2024-04-12T22:47:31.990Z"
   },
   {
    "duration": 36,
    "start_time": "2024-04-12T22:47:32.054Z"
   },
   {
    "duration": 1047,
    "start_time": "2024-04-12T22:47:32.092Z"
   },
   {
    "duration": 46,
    "start_time": "2024-04-12T22:47:33.140Z"
   },
   {
    "duration": 671,
    "start_time": "2024-04-12T22:47:33.188Z"
   },
   {
    "duration": 20,
    "start_time": "2024-04-12T22:47:33.860Z"
   },
   {
    "duration": 23,
    "start_time": "2024-04-12T22:47:33.884Z"
   },
   {
    "duration": 397,
    "start_time": "2024-04-12T22:47:33.908Z"
   },
   {
    "duration": 7,
    "start_time": "2024-04-12T22:47:34.306Z"
   },
   {
    "duration": 285,
    "start_time": "2024-04-12T22:47:34.315Z"
   },
   {
    "duration": 624,
    "start_time": "2024-04-12T22:47:34.601Z"
   },
   {
    "duration": 282,
    "start_time": "2024-04-12T22:47:35.227Z"
   },
   {
    "duration": 803,
    "start_time": "2024-04-12T22:47:35.510Z"
   },
   {
    "duration": 741,
    "start_time": "2024-04-12T22:47:36.315Z"
   },
   {
    "duration": 153,
    "start_time": "2024-04-12T22:47:37.058Z"
   },
   {
    "duration": 20,
    "start_time": "2024-04-12T22:48:02.460Z"
   },
   {
    "duration": 62,
    "start_time": "2024-04-12T22:49:36.110Z"
   },
   {
    "duration": 32,
    "start_time": "2024-04-12T22:50:00.990Z"
   },
   {
    "duration": 786,
    "start_time": "2024-04-12T22:50:36.974Z"
   },
   {
    "duration": 28,
    "start_time": "2024-04-12T22:50:45.844Z"
   },
   {
    "duration": 29,
    "start_time": "2024-04-12T22:51:37.090Z"
   },
   {
    "duration": 52,
    "start_time": "2024-04-12T22:51:51.085Z"
   },
   {
    "duration": 62,
    "start_time": "2024-04-12T22:52:14.366Z"
   },
   {
    "duration": 19,
    "start_time": "2024-04-12T22:52:21.669Z"
   },
   {
    "duration": 648,
    "start_time": "2024-04-12T22:53:09.874Z"
   },
   {
    "duration": 35,
    "start_time": "2024-04-12T22:53:31.749Z"
   },
   {
    "duration": 47,
    "start_time": "2024-04-12T23:00:28.008Z"
   },
   {
    "duration": 29,
    "start_time": "2024-04-12T23:01:50.641Z"
   },
   {
    "duration": 1326,
    "start_time": "2024-04-12T23:16:46.734Z"
   },
   {
    "duration": 1315,
    "start_time": "2024-04-12T23:18:07.061Z"
   },
   {
    "duration": 116,
    "start_time": "2024-04-12T23:18:42.864Z"
   },
   {
    "duration": 1442,
    "start_time": "2024-04-12T23:18:53.015Z"
   },
   {
    "duration": 1447,
    "start_time": "2024-04-12T23:20:42.056Z"
   },
   {
    "duration": 279,
    "start_time": "2024-04-12T23:41:50.946Z"
   },
   {
    "duration": 510,
    "start_time": "2024-04-12T23:42:21.627Z"
   },
   {
    "duration": 182,
    "start_time": "2024-04-12T23:42:26.838Z"
   },
   {
    "duration": 183,
    "start_time": "2024-04-12T23:49:50.310Z"
   },
   {
    "duration": 186,
    "start_time": "2024-04-12T23:50:54.228Z"
   },
   {
    "duration": 184,
    "start_time": "2024-04-12T23:50:56.261Z"
   },
   {
    "duration": 13,
    "start_time": "2024-04-12T23:57:49.483Z"
   },
   {
    "duration": 12,
    "start_time": "2024-04-13T00:00:32.723Z"
   },
   {
    "duration": 12,
    "start_time": "2024-04-13T00:00:53.118Z"
   },
   {
    "duration": 25,
    "start_time": "2024-04-13T00:01:50.515Z"
   },
   {
    "duration": 23,
    "start_time": "2024-04-13T00:01:57.672Z"
   },
   {
    "duration": 30,
    "start_time": "2024-04-13T00:02:40.706Z"
   },
   {
    "duration": 30,
    "start_time": "2024-04-13T00:02:50.087Z"
   },
   {
    "duration": 26,
    "start_time": "2024-04-13T00:03:12.715Z"
   },
   {
    "duration": 25,
    "start_time": "2024-04-13T00:05:40.923Z"
   },
   {
    "duration": 203,
    "start_time": "2024-04-13T00:08:01.092Z"
   },
   {
    "duration": 37,
    "start_time": "2024-04-13T00:12:00.462Z"
   },
   {
    "duration": 26,
    "start_time": "2024-04-13T00:12:15.259Z"
   },
   {
    "duration": 25,
    "start_time": "2024-04-13T00:13:32.952Z"
   },
   {
    "duration": 29,
    "start_time": "2024-04-13T00:13:37.464Z"
   },
   {
    "duration": 26,
    "start_time": "2024-04-13T00:13:40.096Z"
   },
   {
    "duration": 11,
    "start_time": "2024-04-13T00:37:11.211Z"
   },
   {
    "duration": 16,
    "start_time": "2024-04-13T00:37:34.271Z"
   },
   {
    "duration": 61,
    "start_time": "2024-04-13T00:38:05.041Z"
   },
   {
    "duration": 8,
    "start_time": "2024-04-13T00:38:10.603Z"
   },
   {
    "duration": 14,
    "start_time": "2024-04-13T00:39:17.117Z"
   },
   {
    "duration": 12,
    "start_time": "2024-04-13T00:39:30.772Z"
   },
   {
    "duration": 1439,
    "start_time": "2024-04-13T18:44:23.204Z"
   },
   {
    "duration": 28,
    "start_time": "2024-04-13T18:44:24.645Z"
   },
   {
    "duration": 5,
    "start_time": "2024-04-13T18:44:24.674Z"
   },
   {
    "duration": 13,
    "start_time": "2024-04-13T18:44:24.681Z"
   },
   {
    "duration": 5,
    "start_time": "2024-04-13T18:44:24.695Z"
   },
   {
    "duration": 823,
    "start_time": "2024-04-13T18:44:24.701Z"
   },
   {
    "duration": 27,
    "start_time": "2024-04-13T18:44:25.526Z"
   },
   {
    "duration": 545,
    "start_time": "2024-04-13T18:44:25.554Z"
   },
   {
    "duration": 8,
    "start_time": "2024-04-13T18:44:26.100Z"
   },
   {
    "duration": 15,
    "start_time": "2024-04-13T18:44:26.111Z"
   },
   {
    "duration": 283,
    "start_time": "2024-04-13T18:44:26.127Z"
   },
   {
    "duration": 6,
    "start_time": "2024-04-13T18:44:26.412Z"
   },
   {
    "duration": 225,
    "start_time": "2024-04-13T18:44:26.419Z"
   },
   {
    "duration": 499,
    "start_time": "2024-04-13T18:44:26.645Z"
   },
   {
    "duration": 227,
    "start_time": "2024-04-13T18:44:27.145Z"
   },
   {
    "duration": 618,
    "start_time": "2024-04-13T18:44:27.374Z"
   },
   {
    "duration": 582,
    "start_time": "2024-04-13T18:44:27.993Z"
   },
   {
    "duration": 14,
    "start_time": "2024-04-13T18:44:28.577Z"
   },
   {
    "duration": 1181,
    "start_time": "2024-04-13T18:44:28.592Z"
   },
   {
    "duration": 155,
    "start_time": "2024-04-13T18:44:29.774Z"
   },
   {
    "duration": 171,
    "start_time": "2024-04-13T18:44:29.930Z"
   },
   {
    "duration": 161,
    "start_time": "2024-04-13T18:44:30.103Z"
   },
   {
    "duration": 31,
    "start_time": "2024-04-13T18:44:30.265Z"
   },
   {
    "duration": 73,
    "start_time": "2024-04-13T18:44:30.297Z"
   },
   {
    "duration": 63,
    "start_time": "2024-04-13T18:44:30.371Z"
   },
   {
    "duration": 49,
    "start_time": "2024-04-13T18:44:30.435Z"
   },
   {
    "duration": 59,
    "start_time": "2024-04-13T18:44:30.486Z"
   },
   {
    "duration": 1427,
    "start_time": "2024-04-13T23:34:21.100Z"
   },
   {
    "duration": 34,
    "start_time": "2024-04-13T23:34:22.529Z"
   },
   {
    "duration": 5,
    "start_time": "2024-04-13T23:34:22.564Z"
   },
   {
    "duration": 10,
    "start_time": "2024-04-13T23:34:22.571Z"
   },
   {
    "duration": 6,
    "start_time": "2024-04-13T23:34:22.583Z"
   },
   {
    "duration": 959,
    "start_time": "2024-04-13T23:34:22.591Z"
   },
   {
    "duration": 54,
    "start_time": "2024-04-13T23:34:23.552Z"
   },
   {
    "duration": 648,
    "start_time": "2024-04-13T23:34:23.608Z"
   },
   {
    "duration": 16,
    "start_time": "2024-04-13T23:34:24.258Z"
   },
   {
    "duration": 43,
    "start_time": "2024-04-13T23:34:24.277Z"
   },
   {
    "duration": 333,
    "start_time": "2024-04-13T23:34:24.322Z"
   },
   {
    "duration": 9,
    "start_time": "2024-04-13T23:34:24.656Z"
   },
   {
    "duration": 266,
    "start_time": "2024-04-13T23:34:24.667Z"
   },
   {
    "duration": 624,
    "start_time": "2024-04-13T23:34:24.935Z"
   },
   {
    "duration": 262,
    "start_time": "2024-04-13T23:34:25.561Z"
   },
   {
    "duration": 791,
    "start_time": "2024-04-13T23:34:25.827Z"
   },
   {
    "duration": 728,
    "start_time": "2024-04-13T23:34:26.620Z"
   },
   {
    "duration": 21,
    "start_time": "2024-04-13T23:34:27.349Z"
   },
   {
    "duration": 1383,
    "start_time": "2024-04-13T23:34:27.372Z"
   },
   {
    "duration": 189,
    "start_time": "2024-04-13T23:34:28.757Z"
   },
   {
    "duration": 192,
    "start_time": "2024-04-13T23:34:28.948Z"
   },
   {
    "duration": 186,
    "start_time": "2024-04-13T23:34:29.141Z"
   },
   {
    "duration": 26,
    "start_time": "2024-04-13T23:34:29.328Z"
   },
   {
    "duration": 71,
    "start_time": "2024-04-13T23:34:29.355Z"
   },
   {
    "duration": 43,
    "start_time": "2024-04-13T23:34:29.428Z"
   },
   {
    "duration": 28,
    "start_time": "2024-04-13T23:34:29.473Z"
   },
   {
    "duration": 37,
    "start_time": "2024-04-13T23:34:29.503Z"
   },
   {
    "duration": 1381,
    "start_time": "2024-04-14T09:40:55.091Z"
   },
   {
    "duration": 32,
    "start_time": "2024-04-14T09:40:56.474Z"
   },
   {
    "duration": 5,
    "start_time": "2024-04-14T09:40:56.507Z"
   },
   {
    "duration": 7,
    "start_time": "2024-04-14T09:40:56.513Z"
   },
   {
    "duration": 13,
    "start_time": "2024-04-14T09:40:56.522Z"
   },
   {
    "duration": 841,
    "start_time": "2024-04-14T09:40:56.536Z"
   },
   {
    "duration": 30,
    "start_time": "2024-04-14T09:40:57.378Z"
   },
   {
    "duration": 606,
    "start_time": "2024-04-14T09:40:57.409Z"
   },
   {
    "duration": 11,
    "start_time": "2024-04-14T09:40:58.023Z"
   },
   {
    "duration": 36,
    "start_time": "2024-04-14T09:40:58.037Z"
   },
   {
    "duration": 312,
    "start_time": "2024-04-14T09:40:58.074Z"
   },
   {
    "duration": 5,
    "start_time": "2024-04-14T09:40:58.387Z"
   },
   {
    "duration": 257,
    "start_time": "2024-04-14T09:40:58.394Z"
   },
   {
    "duration": 589,
    "start_time": "2024-04-14T09:40:58.653Z"
   },
   {
    "duration": 243,
    "start_time": "2024-04-14T09:40:59.244Z"
   },
   {
    "duration": 748,
    "start_time": "2024-04-14T09:40:59.490Z"
   },
   {
    "duration": 645,
    "start_time": "2024-04-14T09:41:00.240Z"
   },
   {
    "duration": 10,
    "start_time": "2024-04-14T09:41:00.886Z"
   },
   {
    "duration": 1384,
    "start_time": "2024-04-14T09:41:00.898Z"
   },
   {
    "duration": 181,
    "start_time": "2024-04-14T09:41:02.284Z"
   },
   {
    "duration": 182,
    "start_time": "2024-04-14T09:41:02.467Z"
   },
   {
    "duration": 172,
    "start_time": "2024-04-14T09:41:02.651Z"
   },
   {
    "duration": 25,
    "start_time": "2024-04-14T09:41:02.824Z"
   },
   {
    "duration": 96,
    "start_time": "2024-04-14T09:41:02.850Z"
   },
   {
    "duration": 48,
    "start_time": "2024-04-14T09:41:02.948Z"
   },
   {
    "duration": 61,
    "start_time": "2024-04-14T09:41:02.997Z"
   },
   {
    "duration": 37,
    "start_time": "2024-04-14T09:41:03.060Z"
   },
   {
    "duration": 74,
    "start_time": "2024-04-15T12:09:35.211Z"
   },
   {
    "duration": 1496,
    "start_time": "2024-04-15T12:11:42.990Z"
   },
   {
    "duration": 30,
    "start_time": "2024-04-15T12:11:44.488Z"
   },
   {
    "duration": 3,
    "start_time": "2024-04-15T12:11:44.520Z"
   },
   {
    "duration": 9,
    "start_time": "2024-04-15T12:11:44.525Z"
   },
   {
    "duration": 8,
    "start_time": "2024-04-15T12:11:44.535Z"
   },
   {
    "duration": 939,
    "start_time": "2024-04-15T12:11:44.544Z"
   },
   {
    "duration": 38,
    "start_time": "2024-04-15T12:11:45.485Z"
   },
   {
    "duration": 624,
    "start_time": "2024-04-15T12:11:45.524Z"
   },
   {
    "duration": 8,
    "start_time": "2024-04-15T12:11:46.149Z"
   },
   {
    "duration": 21,
    "start_time": "2024-04-15T12:11:46.159Z"
   },
   {
    "duration": 313,
    "start_time": "2024-04-15T12:11:46.181Z"
   },
   {
    "duration": 7,
    "start_time": "2024-04-15T12:11:46.495Z"
   },
   {
    "duration": 264,
    "start_time": "2024-04-15T12:11:46.503Z"
   },
   {
    "duration": 571,
    "start_time": "2024-04-15T12:11:46.768Z"
   },
   {
    "duration": 247,
    "start_time": "2024-04-15T12:11:47.340Z"
   },
   {
    "duration": 665,
    "start_time": "2024-04-15T12:11:47.588Z"
   },
   {
    "duration": 697,
    "start_time": "2024-04-15T12:11:48.255Z"
   },
   {
    "duration": 11,
    "start_time": "2024-04-15T12:11:48.953Z"
   },
   {
    "duration": 1331,
    "start_time": "2024-04-15T12:11:48.965Z"
   },
   {
    "duration": 175,
    "start_time": "2024-04-15T12:11:50.298Z"
   },
   {
    "duration": 195,
    "start_time": "2024-04-15T12:11:50.475Z"
   },
   {
    "duration": 172,
    "start_time": "2024-04-15T12:11:50.672Z"
   },
   {
    "duration": 25,
    "start_time": "2024-04-15T12:11:50.846Z"
   },
   {
    "duration": 40,
    "start_time": "2024-04-15T12:11:50.872Z"
   },
   {
    "duration": 24,
    "start_time": "2024-04-15T12:11:50.918Z"
   },
   {
    "duration": 14,
    "start_time": "2024-04-15T12:11:50.944Z"
   },
   {
    "duration": 30,
    "start_time": "2024-04-15T12:11:50.960Z"
   },
   {
    "duration": 52,
    "start_time": "2024-04-15T12:18:31.682Z"
   },
   {
    "duration": 97,
    "start_time": "2024-04-15T12:21:52.505Z"
   },
   {
    "duration": 1088,
    "start_time": "2024-04-15T12:22:03.471Z"
   },
   {
    "duration": 53,
    "start_time": "2024-04-15T12:22:04.560Z"
   },
   {
    "duration": 30,
    "start_time": "2024-04-15T12:22:04.615Z"
   },
   {
    "duration": 5,
    "start_time": "2024-04-15T12:22:04.646Z"
   },
   {
    "duration": 9,
    "start_time": "2024-04-15T12:22:04.653Z"
   },
   {
    "duration": 4,
    "start_time": "2024-04-15T12:22:04.663Z"
   },
   {
    "duration": 901,
    "start_time": "2024-04-15T12:22:04.669Z"
   },
   {
    "duration": 33,
    "start_time": "2024-04-15T12:22:05.571Z"
   },
   {
    "duration": 22,
    "start_time": "2024-04-15T12:22:05.618Z"
   },
   {
    "duration": 610,
    "start_time": "2024-04-15T12:22:05.643Z"
   },
   {
    "duration": 9,
    "start_time": "2024-04-15T12:22:06.254Z"
   },
   {
    "duration": 21,
    "start_time": "2024-04-15T12:22:06.264Z"
   },
   {
    "duration": 333,
    "start_time": "2024-04-15T12:22:06.286Z"
   },
   {
    "duration": 5,
    "start_time": "2024-04-15T12:22:06.621Z"
   },
   {
    "duration": 256,
    "start_time": "2024-04-15T12:22:06.628Z"
   },
   {
    "duration": 543,
    "start_time": "2024-04-15T12:22:06.886Z"
   },
   {
    "duration": 268,
    "start_time": "2024-04-15T12:22:07.431Z"
   },
   {
    "duration": 680,
    "start_time": "2024-04-15T12:22:07.701Z"
   },
   {
    "duration": 645,
    "start_time": "2024-04-15T12:22:08.382Z"
   },
   {
    "duration": 11,
    "start_time": "2024-04-15T12:22:09.029Z"
   },
   {
    "duration": 1454,
    "start_time": "2024-04-15T12:22:09.041Z"
   },
   {
    "duration": 174,
    "start_time": "2024-04-15T12:22:10.496Z"
   },
   {
    "duration": 210,
    "start_time": "2024-04-15T12:22:10.671Z"
   },
   {
    "duration": 173,
    "start_time": "2024-04-15T12:22:10.883Z"
   },
   {
    "duration": 24,
    "start_time": "2024-04-15T12:22:11.057Z"
   },
   {
    "duration": 41,
    "start_time": "2024-04-15T12:22:11.083Z"
   },
   {
    "duration": 25,
    "start_time": "2024-04-15T12:22:11.126Z"
   },
   {
    "duration": 8,
    "start_time": "2024-04-15T12:22:11.154Z"
   },
   {
    "duration": 9,
    "start_time": "2024-04-15T12:22:11.163Z"
   },
   {
    "duration": 10,
    "start_time": "2024-04-15T12:37:10.128Z"
   },
   {
    "duration": 19,
    "start_time": "2024-04-15T12:37:28.008Z"
   },
   {
    "duration": 108,
    "start_time": "2024-04-15T12:40:20.661Z"
   },
   {
    "duration": 67,
    "start_time": "2024-04-15T12:40:26.468Z"
   },
   {
    "duration": 20,
    "start_time": "2024-04-15T12:41:42.794Z"
   },
   {
    "duration": 18,
    "start_time": "2024-04-15T12:43:05.563Z"
   },
   {
    "duration": 15,
    "start_time": "2024-04-15T12:43:39.278Z"
   },
   {
    "duration": 10,
    "start_time": "2024-04-15T12:44:00.991Z"
   },
   {
    "duration": 13,
    "start_time": "2024-04-15T12:44:07.725Z"
   },
   {
    "duration": 9,
    "start_time": "2024-04-15T12:44:17.442Z"
   },
   {
    "duration": 27,
    "start_time": "2024-04-15T12:47:44.941Z"
   },
   {
    "duration": 3,
    "start_time": "2024-04-15T12:48:16.172Z"
   },
   {
    "duration": 40,
    "start_time": "2024-04-15T12:48:21.449Z"
   },
   {
    "duration": 30,
    "start_time": "2024-04-15T12:51:43.419Z"
   },
   {
    "duration": 28,
    "start_time": "2024-04-15T12:52:00.351Z"
   },
   {
    "duration": 26,
    "start_time": "2024-04-15T12:52:08.639Z"
   },
   {
    "duration": 105,
    "start_time": "2024-04-15T12:53:30.044Z"
   },
   {
    "duration": 23,
    "start_time": "2024-04-15T12:54:03.937Z"
   },
   {
    "duration": 1130,
    "start_time": "2024-04-15T12:54:15.530Z"
   },
   {
    "duration": 54,
    "start_time": "2024-04-15T12:54:16.661Z"
   },
   {
    "duration": 30,
    "start_time": "2024-04-15T12:54:16.717Z"
   },
   {
    "duration": 4,
    "start_time": "2024-04-15T12:54:16.749Z"
   },
   {
    "duration": 13,
    "start_time": "2024-04-15T12:54:16.755Z"
   },
   {
    "duration": 10,
    "start_time": "2024-04-15T12:54:16.769Z"
   },
   {
    "duration": 893,
    "start_time": "2024-04-15T12:54:16.781Z"
   },
   {
    "duration": 48,
    "start_time": "2024-04-15T12:54:17.676Z"
   },
   {
    "duration": 28,
    "start_time": "2024-04-15T12:54:17.726Z"
   },
   {
    "duration": 613,
    "start_time": "2024-04-15T12:54:17.758Z"
   },
   {
    "duration": 8,
    "start_time": "2024-04-15T12:54:18.372Z"
   },
   {
    "duration": 16,
    "start_time": "2024-04-15T12:54:18.381Z"
   },
   {
    "duration": 352,
    "start_time": "2024-04-15T12:54:18.417Z"
   },
   {
    "duration": 7,
    "start_time": "2024-04-15T12:54:18.771Z"
   },
   {
    "duration": 289,
    "start_time": "2024-04-15T12:54:18.780Z"
   },
   {
    "duration": 593,
    "start_time": "2024-04-15T12:54:19.071Z"
   },
   {
    "duration": 267,
    "start_time": "2024-04-15T12:54:19.665Z"
   },
   {
    "duration": 758,
    "start_time": "2024-04-15T12:54:19.934Z"
   },
   {
    "duration": 668,
    "start_time": "2024-04-15T12:54:20.694Z"
   },
   {
    "duration": 11,
    "start_time": "2024-04-15T12:54:21.363Z"
   },
   {
    "duration": 1398,
    "start_time": "2024-04-15T12:54:21.376Z"
   },
   {
    "duration": 181,
    "start_time": "2024-04-15T12:54:22.775Z"
   },
   {
    "duration": 197,
    "start_time": "2024-04-15T12:54:22.958Z"
   },
   {
    "duration": 203,
    "start_time": "2024-04-15T12:54:23.157Z"
   },
   {
    "duration": 29,
    "start_time": "2024-04-15T12:54:23.362Z"
   },
   {
    "duration": 46,
    "start_time": "2024-04-15T12:54:23.393Z"
   },
   {
    "duration": 26,
    "start_time": "2024-04-15T12:54:23.441Z"
   },
   {
    "duration": 8,
    "start_time": "2024-04-15T12:54:23.471Z"
   },
   {
    "duration": 43,
    "start_time": "2024-04-15T12:54:23.481Z"
   },
   {
    "duration": 118,
    "start_time": "2024-04-15T13:05:46.428Z"
   },
   {
    "duration": 9,
    "start_time": "2024-04-15T13:06:03.707Z"
   },
   {
    "duration": 17,
    "start_time": "2024-04-15T13:06:21.207Z"
   },
   {
    "duration": 16,
    "start_time": "2024-04-15T13:06:38.143Z"
   },
   {
    "duration": 1092,
    "start_time": "2024-04-15T13:06:54.141Z"
   },
   {
    "duration": 56,
    "start_time": "2024-04-15T13:06:55.235Z"
   },
   {
    "duration": 32,
    "start_time": "2024-04-15T13:06:55.293Z"
   },
   {
    "duration": 4,
    "start_time": "2024-04-15T13:06:55.327Z"
   },
   {
    "duration": 15,
    "start_time": "2024-04-15T13:06:55.332Z"
   },
   {
    "duration": 5,
    "start_time": "2024-04-15T13:06:55.349Z"
   },
   {
    "duration": 868,
    "start_time": "2024-04-15T13:06:55.355Z"
   },
   {
    "duration": 32,
    "start_time": "2024-04-15T13:06:56.225Z"
   },
   {
    "duration": 45,
    "start_time": "2024-04-15T13:06:56.263Z"
   },
   {
    "duration": 588,
    "start_time": "2024-04-15T13:06:56.317Z"
   },
   {
    "duration": 15,
    "start_time": "2024-04-15T13:06:56.906Z"
   },
   {
    "duration": 16,
    "start_time": "2024-04-15T13:06:56.922Z"
   },
   {
    "duration": 309,
    "start_time": "2024-04-15T13:06:56.939Z"
   },
   {
    "duration": 5,
    "start_time": "2024-04-15T13:06:57.250Z"
   },
   {
    "duration": 269,
    "start_time": "2024-04-15T13:06:57.256Z"
   },
   {
    "duration": 599,
    "start_time": "2024-04-15T13:06:57.527Z"
   },
   {
    "duration": 266,
    "start_time": "2024-04-15T13:06:58.128Z"
   },
   {
    "duration": 712,
    "start_time": "2024-04-15T13:06:58.395Z"
   },
   {
    "duration": 706,
    "start_time": "2024-04-15T13:06:59.118Z"
   },
   {
    "duration": 11,
    "start_time": "2024-04-15T13:06:59.826Z"
   },
   {
    "duration": 1302,
    "start_time": "2024-04-15T13:06:59.838Z"
   },
   {
    "duration": 182,
    "start_time": "2024-04-15T13:07:01.141Z"
   },
   {
    "duration": 186,
    "start_time": "2024-04-15T13:07:01.324Z"
   },
   {
    "duration": 185,
    "start_time": "2024-04-15T13:07:01.512Z"
   },
   {
    "duration": 37,
    "start_time": "2024-04-15T13:07:01.699Z"
   },
   {
    "duration": 81,
    "start_time": "2024-04-15T13:07:01.738Z"
   },
   {
    "duration": 52,
    "start_time": "2024-04-15T13:07:01.820Z"
   },
   {
    "duration": 18,
    "start_time": "2024-04-15T13:07:01.875Z"
   },
   {
    "duration": 44,
    "start_time": "2024-04-15T13:07:01.895Z"
   },
   {
    "duration": 9,
    "start_time": "2024-04-15T13:07:26.224Z"
   },
   {
    "duration": 16,
    "start_time": "2024-04-15T13:07:30.751Z"
   },
   {
    "duration": 1147,
    "start_time": "2024-04-15T13:07:45.704Z"
   },
   {
    "duration": 54,
    "start_time": "2024-04-15T13:07:46.853Z"
   },
   {
    "duration": 32,
    "start_time": "2024-04-15T13:07:46.909Z"
   },
   {
    "duration": 6,
    "start_time": "2024-04-15T13:07:46.943Z"
   },
   {
    "duration": 8,
    "start_time": "2024-04-15T13:07:46.951Z"
   },
   {
    "duration": 5,
    "start_time": "2024-04-15T13:07:46.961Z"
   },
   {
    "duration": 873,
    "start_time": "2024-04-15T13:07:46.967Z"
   },
   {
    "duration": 29,
    "start_time": "2024-04-15T13:07:47.842Z"
   },
   {
    "duration": 46,
    "start_time": "2024-04-15T13:07:47.872Z"
   },
   {
    "duration": 589,
    "start_time": "2024-04-15T13:07:47.920Z"
   },
   {
    "duration": 14,
    "start_time": "2024-04-15T13:07:48.511Z"
   },
   {
    "duration": 43,
    "start_time": "2024-04-15T13:07:48.526Z"
   },
   {
    "duration": 328,
    "start_time": "2024-04-15T13:07:48.571Z"
   },
   {
    "duration": 6,
    "start_time": "2024-04-15T13:07:48.900Z"
   },
   {
    "duration": 256,
    "start_time": "2024-04-15T13:07:48.907Z"
   },
   {
    "duration": 566,
    "start_time": "2024-04-15T13:07:49.165Z"
   },
   {
    "duration": 253,
    "start_time": "2024-04-15T13:07:49.732Z"
   },
   {
    "duration": 686,
    "start_time": "2024-04-15T13:07:49.987Z"
   },
   {
    "duration": 650,
    "start_time": "2024-04-15T13:07:50.675Z"
   },
   {
    "duration": 12,
    "start_time": "2024-04-15T13:07:51.326Z"
   },
   {
    "duration": 1365,
    "start_time": "2024-04-15T13:07:51.339Z"
   },
   {
    "duration": 183,
    "start_time": "2024-04-15T13:07:52.705Z"
   },
   {
    "duration": 201,
    "start_time": "2024-04-15T13:07:52.889Z"
   },
   {
    "duration": 183,
    "start_time": "2024-04-15T13:07:53.092Z"
   },
   {
    "duration": 25,
    "start_time": "2024-04-15T13:07:53.277Z"
   },
   {
    "duration": 24,
    "start_time": "2024-04-15T13:07:53.318Z"
   },
   {
    "duration": 33,
    "start_time": "2024-04-15T13:07:53.343Z"
   },
   {
    "duration": 8,
    "start_time": "2024-04-15T13:07:53.378Z"
   },
   {
    "duration": 34,
    "start_time": "2024-04-15T13:07:53.388Z"
   },
   {
    "duration": 9,
    "start_time": "2024-04-15T13:08:53.709Z"
   },
   {
    "duration": 17,
    "start_time": "2024-04-15T13:08:55.654Z"
   },
   {
    "duration": 16,
    "start_time": "2024-04-15T13:09:58.321Z"
   },
   {
    "duration": 16,
    "start_time": "2024-04-15T13:10:59.250Z"
   },
   {
    "duration": 1090,
    "start_time": "2024-04-15T13:15:45.743Z"
   },
   {
    "duration": 53,
    "start_time": "2024-04-15T13:15:46.835Z"
   },
   {
    "duration": 30,
    "start_time": "2024-04-15T13:15:46.890Z"
   },
   {
    "duration": 20,
    "start_time": "2024-04-15T13:15:46.922Z"
   },
   {
    "duration": 30,
    "start_time": "2024-04-15T13:15:46.943Z"
   },
   {
    "duration": 19,
    "start_time": "2024-04-15T13:15:46.975Z"
   },
   {
    "duration": 844,
    "start_time": "2024-04-15T13:15:46.996Z"
   },
   {
    "duration": 29,
    "start_time": "2024-04-15T13:15:47.841Z"
   },
   {
    "duration": 67,
    "start_time": "2024-04-15T13:15:47.872Z"
   },
   {
    "duration": 579,
    "start_time": "2024-04-15T13:15:47.942Z"
   },
   {
    "duration": 12,
    "start_time": "2024-04-15T13:15:48.523Z"
   },
   {
    "duration": 36,
    "start_time": "2024-04-15T13:15:48.537Z"
   },
   {
    "duration": 334,
    "start_time": "2024-04-15T13:15:48.575Z"
   },
   {
    "duration": 5,
    "start_time": "2024-04-15T13:15:48.917Z"
   },
   {
    "duration": 273,
    "start_time": "2024-04-15T13:15:48.924Z"
   },
   {
    "duration": 578,
    "start_time": "2024-04-15T13:15:49.199Z"
   },
   {
    "duration": 260,
    "start_time": "2024-04-15T13:15:49.778Z"
   },
   {
    "duration": 662,
    "start_time": "2024-04-15T13:15:50.040Z"
   },
   {
    "duration": 622,
    "start_time": "2024-04-15T13:15:50.704Z"
   },
   {
    "duration": 10,
    "start_time": "2024-04-15T13:15:51.328Z"
   },
   {
    "duration": 1364,
    "start_time": "2024-04-15T13:15:51.340Z"
   },
   {
    "duration": 182,
    "start_time": "2024-04-15T13:15:52.706Z"
   },
   {
    "duration": 198,
    "start_time": "2024-04-15T13:15:52.890Z"
   },
   {
    "duration": 182,
    "start_time": "2024-04-15T13:15:53.090Z"
   },
   {
    "duration": 25,
    "start_time": "2024-04-15T13:15:53.273Z"
   },
   {
    "duration": 39,
    "start_time": "2024-04-15T13:15:53.300Z"
   },
   {
    "duration": 38,
    "start_time": "2024-04-15T13:15:53.341Z"
   },
   {
    "duration": 19,
    "start_time": "2024-04-15T13:15:53.382Z"
   },
   {
    "duration": 100,
    "start_time": "2024-04-15T13:15:53.402Z"
   },
   {
    "duration": 362,
    "start_time": "2024-04-15T13:24:10.978Z"
   },
   {
    "duration": 324,
    "start_time": "2024-04-15T13:25:13.476Z"
   },
   {
    "duration": 249,
    "start_time": "2024-04-15T13:28:37.131Z"
   },
   {
    "duration": 249,
    "start_time": "2024-04-15T13:28:54.011Z"
   },
   {
    "duration": 263,
    "start_time": "2024-04-15T13:29:17.183Z"
   },
   {
    "duration": 258,
    "start_time": "2024-04-15T13:29:50.443Z"
   },
   {
    "duration": 326,
    "start_time": "2024-04-15T13:30:05.870Z"
   },
   {
    "duration": 235,
    "start_time": "2024-04-15T13:30:39.374Z"
   },
   {
    "duration": 275,
    "start_time": "2024-04-15T13:31:38.130Z"
   },
   {
    "duration": 237,
    "start_time": "2024-04-15T13:31:40.401Z"
   },
   {
    "duration": 1276,
    "start_time": "2024-04-15T14:13:23.183Z"
   },
   {
    "duration": 54,
    "start_time": "2024-04-15T14:13:24.461Z"
   },
   {
    "duration": 31,
    "start_time": "2024-04-15T14:13:24.517Z"
   },
   {
    "duration": 4,
    "start_time": "2024-04-15T14:13:24.551Z"
   },
   {
    "duration": 41,
    "start_time": "2024-04-15T14:13:24.556Z"
   },
   {
    "duration": 22,
    "start_time": "2024-04-15T14:13:24.598Z"
   },
   {
    "duration": 910,
    "start_time": "2024-04-15T14:13:24.621Z"
   },
   {
    "duration": 31,
    "start_time": "2024-04-15T14:13:25.533Z"
   },
   {
    "duration": 57,
    "start_time": "2024-04-15T14:13:25.566Z"
   },
   {
    "duration": 597,
    "start_time": "2024-04-15T14:13:25.626Z"
   },
   {
    "duration": 13,
    "start_time": "2024-04-15T14:13:26.225Z"
   },
   {
    "duration": 23,
    "start_time": "2024-04-15T14:13:26.240Z"
   },
   {
    "duration": 328,
    "start_time": "2024-04-15T14:13:26.264Z"
   },
   {
    "duration": 280,
    "start_time": "2024-04-15T14:13:26.593Z"
   },
   {
    "duration": 531,
    "start_time": "2024-04-15T14:13:26.875Z"
   },
   {
    "duration": 274,
    "start_time": "2024-04-15T14:13:27.407Z"
   },
   {
    "duration": 266,
    "start_time": "2024-04-15T14:13:27.683Z"
   },
   {
    "duration": 269,
    "start_time": "2024-04-15T14:13:27.951Z"
   },
   {
    "duration": 1403,
    "start_time": "2024-04-15T14:13:28.222Z"
   },
   {
    "duration": 861,
    "start_time": "2024-04-15T14:13:29.627Z"
   },
   {
    "duration": 10,
    "start_time": "2024-04-15T14:13:30.490Z"
   },
   {
    "duration": 1393,
    "start_time": "2024-04-15T14:13:30.501Z"
   },
   {
    "duration": 198,
    "start_time": "2024-04-15T14:13:31.895Z"
   },
   {
    "duration": 198,
    "start_time": "2024-04-15T14:13:32.095Z"
   },
   {
    "duration": 196,
    "start_time": "2024-04-15T14:13:32.295Z"
   },
   {
    "duration": 39,
    "start_time": "2024-04-15T14:13:32.492Z"
   },
   {
    "duration": 26,
    "start_time": "2024-04-15T14:13:32.533Z"
   },
   {
    "duration": 32,
    "start_time": "2024-04-15T14:13:32.562Z"
   },
   {
    "duration": 29,
    "start_time": "2024-04-15T14:13:32.596Z"
   },
   {
    "duration": 31,
    "start_time": "2024-04-15T14:13:32.627Z"
   },
   {
    "duration": 182,
    "start_time": "2024-04-15T14:16:07.106Z"
   },
   {
    "duration": 185,
    "start_time": "2024-04-15T14:16:13.135Z"
   },
   {
    "duration": 186,
    "start_time": "2024-04-15T14:16:16.960Z"
   },
   {
    "duration": 182,
    "start_time": "2024-04-15T14:16:52.771Z"
   },
   {
    "duration": 101,
    "start_time": "2024-04-15T14:19:18.070Z"
   },
   {
    "duration": 29,
    "start_time": "2024-04-15T14:19:27.175Z"
   },
   {
    "duration": 16,
    "start_time": "2024-04-15T14:19:38.511Z"
   },
   {
    "duration": 22,
    "start_time": "2024-04-15T14:19:49.528Z"
   },
   {
    "duration": 71,
    "start_time": "2024-04-15T14:30:10.694Z"
   },
   {
    "duration": 1039,
    "start_time": "2024-04-15T14:30:16.608Z"
   },
   {
    "duration": 11,
    "start_time": "2024-04-15T14:30:36.303Z"
   },
   {
    "duration": 12,
    "start_time": "2024-04-15T14:31:38.231Z"
   },
   {
    "duration": 11,
    "start_time": "2024-04-15T14:31:48.975Z"
   },
   {
    "duration": 15,
    "start_time": "2024-04-15T14:31:56.896Z"
   },
   {
    "duration": 147,
    "start_time": "2024-04-15T15:12:44.177Z"
   },
   {
    "duration": 27,
    "start_time": "2024-04-15T15:13:15.056Z"
   },
   {
    "duration": 146,
    "start_time": "2024-04-15T15:15:17.733Z"
   },
   {
    "duration": 246,
    "start_time": "2024-04-15T15:15:27.438Z"
   },
   {
    "duration": 135,
    "start_time": "2024-04-15T15:15:39.106Z"
   },
   {
    "duration": 31,
    "start_time": "2024-04-15T15:16:27.432Z"
   },
   {
    "duration": 1152,
    "start_time": "2024-04-15T15:16:55.582Z"
   },
   {
    "duration": 55,
    "start_time": "2024-04-15T15:16:56.736Z"
   },
   {
    "duration": 30,
    "start_time": "2024-04-15T15:16:56.792Z"
   },
   {
    "duration": 7,
    "start_time": "2024-04-15T15:16:56.824Z"
   },
   {
    "duration": 11,
    "start_time": "2024-04-15T15:16:56.832Z"
   },
   {
    "duration": 12,
    "start_time": "2024-04-15T15:16:56.844Z"
   },
   {
    "duration": 859,
    "start_time": "2024-04-15T15:16:56.857Z"
   },
   {
    "duration": 29,
    "start_time": "2024-04-15T15:16:57.718Z"
   },
   {
    "duration": 39,
    "start_time": "2024-04-15T15:16:57.749Z"
   },
   {
    "duration": 618,
    "start_time": "2024-04-15T15:16:57.790Z"
   },
   {
    "duration": 9,
    "start_time": "2024-04-15T15:16:58.417Z"
   },
   {
    "duration": 25,
    "start_time": "2024-04-15T15:16:58.427Z"
   },
   {
    "duration": 338,
    "start_time": "2024-04-15T15:16:58.454Z"
   },
   {
    "duration": 272,
    "start_time": "2024-04-15T15:16:58.794Z"
   },
   {
    "duration": 559,
    "start_time": "2024-04-15T15:16:59.068Z"
   },
   {
    "duration": 267,
    "start_time": "2024-04-15T15:16:59.628Z"
   },
   {
    "duration": 255,
    "start_time": "2024-04-15T15:16:59.896Z"
   },
   {
    "duration": 253,
    "start_time": "2024-04-15T15:17:00.153Z"
   },
   {
    "duration": 768,
    "start_time": "2024-04-15T15:17:00.408Z"
   },
   {
    "duration": 641,
    "start_time": "2024-04-15T15:17:01.178Z"
   },
   {
    "duration": 11,
    "start_time": "2024-04-15T15:17:01.820Z"
   },
   {
    "duration": 1350,
    "start_time": "2024-04-15T15:17:01.833Z"
   },
   {
    "duration": 189,
    "start_time": "2024-04-15T15:17:03.185Z"
   },
   {
    "duration": 190,
    "start_time": "2024-04-15T15:17:03.375Z"
   },
   {
    "duration": 191,
    "start_time": "2024-04-15T15:17:03.566Z"
   },
   {
    "duration": 18,
    "start_time": "2024-04-15T15:17:03.759Z"
   },
   {
    "duration": 48,
    "start_time": "2024-04-15T15:17:03.779Z"
   },
   {
    "duration": 148,
    "start_time": "2024-04-15T15:17:03.830Z"
   },
   {
    "duration": 44,
    "start_time": "2024-04-15T15:17:03.981Z"
   },
   {
    "duration": 25,
    "start_time": "2024-04-15T15:17:04.026Z"
   },
   {
    "duration": 8,
    "start_time": "2024-04-15T15:17:04.053Z"
   },
   {
    "duration": 25,
    "start_time": "2024-04-15T15:17:04.063Z"
   },
   {
    "duration": 154,
    "start_time": "2024-04-15T15:29:18.265Z"
   },
   {
    "duration": 144,
    "start_time": "2024-04-15T15:29:46.588Z"
   },
   {
    "duration": 104,
    "start_time": "2024-04-15T15:30:55.282Z"
   },
   {
    "duration": 415,
    "start_time": "2024-04-15T15:32:26.611Z"
   },
   {
    "duration": 528,
    "start_time": "2024-04-15T15:32:33.743Z"
   },
   {
    "duration": 996,
    "start_time": "2024-04-15T15:33:23.456Z"
   },
   {
    "duration": 1082,
    "start_time": "2024-04-15T15:34:17.311Z"
   },
   {
    "duration": 1064,
    "start_time": "2024-04-15T15:34:26.504Z"
   },
   {
    "duration": 964,
    "start_time": "2024-04-15T15:34:36.923Z"
   },
   {
    "duration": 1066,
    "start_time": "2024-04-15T15:35:26.564Z"
   },
   {
    "duration": 152,
    "start_time": "2024-04-15T15:35:37.309Z"
   },
   {
    "duration": 190,
    "start_time": "2024-04-15T15:36:03.934Z"
   },
   {
    "duration": 9,
    "start_time": "2024-04-15T15:37:53.299Z"
   },
   {
    "duration": 93,
    "start_time": "2024-04-15T15:37:59.893Z"
   },
   {
    "duration": 10,
    "start_time": "2024-04-15T15:40:47.129Z"
   },
   {
    "duration": 194,
    "start_time": "2024-04-15T15:40:52.441Z"
   },
   {
    "duration": 94,
    "start_time": "2024-04-15T15:41:05.798Z"
   },
   {
    "duration": 11,
    "start_time": "2024-04-15T15:43:16.228Z"
   },
   {
    "duration": 104,
    "start_time": "2024-04-15T15:43:24.397Z"
   },
   {
    "duration": 13,
    "start_time": "2024-04-15T15:48:32.586Z"
   },
   {
    "duration": 953,
    "start_time": "2024-04-15T15:49:01.171Z"
   },
   {
    "duration": 991,
    "start_time": "2024-04-15T15:49:15.722Z"
   },
   {
    "duration": 24,
    "start_time": "2024-04-15T15:49:32.593Z"
   },
   {
    "duration": 12,
    "start_time": "2024-04-15T15:50:02.985Z"
   },
   {
    "duration": 20,
    "start_time": "2024-04-15T15:50:11.813Z"
   },
   {
    "duration": 58,
    "start_time": "2024-04-15T15:50:19.762Z"
   },
   {
    "duration": 31,
    "start_time": "2024-04-15T15:50:40.983Z"
   },
   {
    "duration": 227,
    "start_time": "2024-04-15T15:52:19.723Z"
   },
   {
    "duration": 110,
    "start_time": "2024-04-15T15:52:34.769Z"
   },
   {
    "duration": 3,
    "start_time": "2024-04-15T15:52:48.130Z"
   },
   {
    "duration": 3,
    "start_time": "2024-04-15T15:52:54.161Z"
   },
   {
    "duration": 98,
    "start_time": "2024-04-15T15:53:05.887Z"
   },
   {
    "duration": 21,
    "start_time": "2024-04-15T15:53:19.523Z"
   },
   {
    "duration": 108,
    "start_time": "2024-04-15T15:53:22.453Z"
   },
   {
    "duration": 118,
    "start_time": "2024-04-15T15:55:06.765Z"
   },
   {
    "duration": 9,
    "start_time": "2024-04-15T16:29:07.871Z"
   },
   {
    "duration": 110,
    "start_time": "2024-04-15T16:33:50.624Z"
   },
   {
    "duration": 103,
    "start_time": "2024-04-15T16:34:17.064Z"
   },
   {
    "duration": 109,
    "start_time": "2024-04-15T16:35:31.759Z"
   },
   {
    "duration": 106,
    "start_time": "2024-04-15T16:36:09.141Z"
   },
   {
    "duration": 109,
    "start_time": "2024-04-15T16:36:16.619Z"
   },
   {
    "duration": 225,
    "start_time": "2024-04-15T16:36:52.885Z"
   },
   {
    "duration": 104,
    "start_time": "2024-04-15T16:37:09.055Z"
   },
   {
    "duration": 105,
    "start_time": "2024-04-15T16:37:20.888Z"
   },
   {
    "duration": 110,
    "start_time": "2024-04-15T16:41:44.123Z"
   },
   {
    "duration": 118,
    "start_time": "2024-04-15T16:43:18.143Z"
   },
   {
    "duration": 117,
    "start_time": "2024-04-15T16:46:43.602Z"
   },
   {
    "duration": 121,
    "start_time": "2024-04-15T16:47:48.377Z"
   },
   {
    "duration": 107,
    "start_time": "2024-04-15T16:48:53.031Z"
   },
   {
    "duration": 111,
    "start_time": "2024-04-15T16:50:03.373Z"
   },
   {
    "duration": 131,
    "start_time": "2024-04-15T16:51:04.813Z"
   },
   {
    "duration": 123,
    "start_time": "2024-04-15T16:51:36.564Z"
   },
   {
    "duration": 111,
    "start_time": "2024-04-15T16:51:51.449Z"
   },
   {
    "duration": 109,
    "start_time": "2024-04-15T16:53:09.433Z"
   },
   {
    "duration": 121,
    "start_time": "2024-04-15T16:54:42.009Z"
   },
   {
    "duration": 103,
    "start_time": "2024-04-15T16:55:43.068Z"
   },
   {
    "duration": 210,
    "start_time": "2024-04-15T16:56:12.298Z"
   },
   {
    "duration": 109,
    "start_time": "2024-04-15T16:56:20.291Z"
   },
   {
    "duration": 1204,
    "start_time": "2024-04-15T16:56:24.865Z"
   },
   {
    "duration": 53,
    "start_time": "2024-04-15T16:56:26.071Z"
   },
   {
    "duration": 30,
    "start_time": "2024-04-15T16:56:26.128Z"
   },
   {
    "duration": 5,
    "start_time": "2024-04-15T16:56:26.159Z"
   },
   {
    "duration": 10,
    "start_time": "2024-04-15T16:56:26.165Z"
   },
   {
    "duration": 5,
    "start_time": "2024-04-15T16:56:26.176Z"
   },
   {
    "duration": 866,
    "start_time": "2024-04-15T16:56:26.183Z"
   },
   {
    "duration": 30,
    "start_time": "2024-04-15T16:56:27.051Z"
   },
   {
    "duration": 52,
    "start_time": "2024-04-15T16:56:27.084Z"
   },
   {
    "duration": 619,
    "start_time": "2024-04-15T16:56:27.137Z"
   },
   {
    "duration": 10,
    "start_time": "2024-04-15T16:56:27.758Z"
   },
   {
    "duration": 16,
    "start_time": "2024-04-15T16:56:27.769Z"
   },
   {
    "duration": 330,
    "start_time": "2024-04-15T16:56:27.787Z"
   },
   {
    "duration": 257,
    "start_time": "2024-04-15T16:56:28.119Z"
   },
   {
    "duration": 546,
    "start_time": "2024-04-15T16:56:28.378Z"
   },
   {
    "duration": 265,
    "start_time": "2024-04-15T16:56:28.926Z"
   },
   {
    "duration": 250,
    "start_time": "2024-04-15T16:56:29.192Z"
   },
   {
    "duration": 287,
    "start_time": "2024-04-15T16:56:29.444Z"
   },
   {
    "duration": 1366,
    "start_time": "2024-04-15T16:56:29.732Z"
   },
   {
    "duration": 647,
    "start_time": "2024-04-15T16:56:31.099Z"
   },
   {
    "duration": 12,
    "start_time": "2024-04-15T16:56:31.748Z"
   },
   {
    "duration": 1286,
    "start_time": "2024-04-15T16:56:31.762Z"
   },
   {
    "duration": 174,
    "start_time": "2024-04-15T16:56:33.050Z"
   },
   {
    "duration": 214,
    "start_time": "2024-04-15T16:56:33.226Z"
   },
   {
    "duration": 179,
    "start_time": "2024-04-15T16:56:33.441Z"
   },
   {
    "duration": 23,
    "start_time": "2024-04-15T16:56:33.621Z"
   },
   {
    "duration": 124,
    "start_time": "2024-04-15T16:56:33.646Z"
   },
   {
    "duration": 126,
    "start_time": "2024-04-15T16:56:33.772Z"
   },
   {
    "duration": 130,
    "start_time": "2024-04-15T16:56:33.900Z"
   },
   {
    "duration": 114,
    "start_time": "2024-04-15T16:56:34.031Z"
   },
   {
    "duration": 117,
    "start_time": "2024-04-15T16:56:34.146Z"
   },
   {
    "duration": 116,
    "start_time": "2024-04-15T16:56:34.265Z"
   },
   {
    "duration": 116,
    "start_time": "2024-04-15T16:56:34.383Z"
   },
   {
    "duration": 121,
    "start_time": "2024-04-15T16:56:34.501Z"
   },
   {
    "duration": 213,
    "start_time": "2024-04-15T16:56:34.623Z"
   },
   {
    "duration": 9,
    "start_time": "2024-04-15T16:56:34.837Z"
   },
   {
    "duration": 11,
    "start_time": "2024-04-15T16:56:34.848Z"
   },
   {
    "duration": 111,
    "start_time": "2024-04-15T16:57:46.559Z"
   },
   {
    "duration": 118,
    "start_time": "2024-04-15T16:58:01.559Z"
   },
   {
    "duration": 110,
    "start_time": "2024-04-15T16:58:45.379Z"
   },
   {
    "duration": 111,
    "start_time": "2024-04-15T16:59:05.244Z"
   },
   {
    "duration": 1663,
    "start_time": "2024-04-15T18:05:38.495Z"
   },
   {
    "duration": 116,
    "start_time": "2024-04-15T18:05:40.160Z"
   },
   {
    "duration": 32,
    "start_time": "2024-04-15T18:05:40.278Z"
   },
   {
    "duration": 17,
    "start_time": "2024-04-15T18:05:40.312Z"
   },
   {
    "duration": 43,
    "start_time": "2024-04-15T18:05:40.330Z"
   },
   {
    "duration": 19,
    "start_time": "2024-04-15T18:05:40.374Z"
   },
   {
    "duration": 891,
    "start_time": "2024-04-15T18:05:40.395Z"
   },
   {
    "duration": 28,
    "start_time": "2024-04-15T18:05:41.287Z"
   },
   {
    "duration": 38,
    "start_time": "2024-04-15T18:05:41.317Z"
   },
   {
    "duration": 599,
    "start_time": "2024-04-15T18:05:41.358Z"
   },
   {
    "duration": 9,
    "start_time": "2024-04-15T18:05:41.958Z"
   },
   {
    "duration": 31,
    "start_time": "2024-04-15T18:05:41.969Z"
   },
   {
    "duration": 316,
    "start_time": "2024-04-15T18:05:42.001Z"
   },
   {
    "duration": 257,
    "start_time": "2024-04-15T18:05:42.318Z"
   },
   {
    "duration": 534,
    "start_time": "2024-04-15T18:05:42.576Z"
   },
   {
    "duration": 255,
    "start_time": "2024-04-15T18:05:43.112Z"
   },
   {
    "duration": 278,
    "start_time": "2024-04-15T18:05:43.368Z"
   },
   {
    "duration": 244,
    "start_time": "2024-04-15T18:05:43.648Z"
   },
   {
    "duration": 745,
    "start_time": "2024-04-15T18:05:43.894Z"
   },
   {
    "duration": 715,
    "start_time": "2024-04-15T18:05:44.640Z"
   },
   {
    "duration": 10,
    "start_time": "2024-04-15T18:05:45.357Z"
   },
   {
    "duration": 1394,
    "start_time": "2024-04-15T18:05:45.368Z"
   },
   {
    "duration": 187,
    "start_time": "2024-04-15T18:05:46.764Z"
   },
   {
    "duration": 188,
    "start_time": "2024-04-15T18:05:46.953Z"
   },
   {
    "duration": 212,
    "start_time": "2024-04-15T18:05:47.144Z"
   },
   {
    "duration": 20,
    "start_time": "2024-04-15T18:05:47.358Z"
   },
   {
    "duration": 135,
    "start_time": "2024-04-15T18:05:47.379Z"
   },
   {
    "duration": 166,
    "start_time": "2024-04-15T18:05:47.517Z"
   },
   {
    "duration": 143,
    "start_time": "2024-04-15T18:05:47.686Z"
   },
   {
    "duration": 128,
    "start_time": "2024-04-15T18:05:47.830Z"
   },
   {
    "duration": 119,
    "start_time": "2024-04-15T18:05:47.959Z"
   },
   {
    "duration": 121,
    "start_time": "2024-04-15T18:05:48.080Z"
   },
   {
    "duration": 127,
    "start_time": "2024-04-15T18:05:48.203Z"
   },
   {
    "duration": 127,
    "start_time": "2024-04-15T18:05:48.331Z"
   },
   {
    "duration": 221,
    "start_time": "2024-04-15T18:05:48.460Z"
   },
   {
    "duration": 10,
    "start_time": "2024-04-15T18:05:48.683Z"
   },
   {
    "duration": 10,
    "start_time": "2024-04-15T18:05:48.695Z"
   }
  ],
  "kernelspec": {
   "display_name": "Python 3 (ipykernel)",
   "language": "python",
   "name": "python3"
  },
  "language_info": {
   "codemirror_mode": {
    "name": "ipython",
    "version": 3
   },
   "file_extension": ".py",
   "mimetype": "text/x-python",
   "name": "python",
   "nbconvert_exporter": "python",
   "pygments_lexer": "ipython3",
   "version": "3.11.5"
  },
  "toc": {
   "base_numbering": 1,
   "nav_menu": {},
   "number_sections": false,
   "sideBar": true,
   "skip_h1_title": true,
   "title_cell": "Успешность и популярность компьютерных игр: определяющие факторы",
   "title_sidebar": "Contents",
   "toc_cell": true,
   "toc_position": {
    "height": "676px",
    "left": "23px",
    "top": "206.125px",
    "width": "165px"
   },
   "toc_section_display": true,
   "toc_window_display": true
  }
 },
 "nbformat": 4,
 "nbformat_minor": 2
}
